{
 "metadata": {
  "name": "",
  "signature": "sha256:d0851d4735906b4281ffe47f06a4a749711b68d233af38334da7d4c50eb1da4f"
 },
 "nbformat": 3,
 "nbformat_minor": 0,
 "worksheets": [
  {
   "cells": [
    {
     "cell_type": "heading",
     "level": 2,
     "metadata": {},
     "source": [
      "Eigendecomposition for subset of PLD"
     ]
    },
    {
     "cell_type": "markdown",
     "metadata": {},
     "source": [
      "Data from\n",
      "\n",
      "http://webdatacommons.org/hyperlinkgraph/2012-08/download.html"
     ]
    },
    {
     "cell_type": "markdown",
     "metadata": {},
     "source": [
      "**Setup**\n",
      "\n",
      "before running pyspark run  \n",
      "`export SPARK_DRIVER_MEMORY=20g`"
     ]
    },
    {
     "cell_type": "heading",
     "level": 3,
     "metadata": {},
     "source": [
      "Get the subset of the graph"
     ]
    },
    {
     "cell_type": "markdown",
     "metadata": {},
     "source": [
      "In this segment we load the dataset and keep only a tiny subset"
     ]
    },
    {
     "cell_type": "heading",
     "level": 4,
     "metadata": {},
     "source": [
      "Load first partition of PLD"
     ]
    },
    {
     "cell_type": "code",
     "collapsed": false,
     "input": [
      "data = sc.textFile('datasets/wdc/split-pld-arc/')"
     ],
     "language": "python",
     "metadata": {},
     "outputs": [],
     "prompt_number": 2
    },
    {
     "cell_type": "heading",
     "level": 4,
     "metadata": {},
     "source": [
      "Keep only nodes with ID within a certain range"
     ]
    },
    {
     "cell_type": "code",
     "collapsed": false,
     "input": [
      "size = 2e7\n",
      "small = data.map(\n",
      "                   lambda line: [int(x) for x in line.split('\\t')]\n",
      "         ).filter(\n",
      "                   lambda (source, destination): source<size and destination<size\n",
      "         )"
     ],
     "language": "python",
     "metadata": {},
     "outputs": [],
     "prompt_number": 3
    },
    {
     "cell_type": "heading",
     "level": 4,
     "metadata": {},
     "source": [
      "Persist result"
     ]
    },
    {
     "cell_type": "code",
     "collapsed": false,
     "input": [
      "small.cache()"
     ],
     "language": "python",
     "metadata": {},
     "outputs": [
      {
       "metadata": {},
       "output_type": "pyout",
       "prompt_number": 5,
       "text": [
        "PythonRDD[2] at RDD at PythonRDD.scala:43"
       ]
      }
     ],
     "prompt_number": 5
    },
    {
     "cell_type": "markdown",
     "metadata": {},
     "source": [
      "Reading all of the PLD graph takes 300 seconds. Disk read time is not the issue here. This time is necessary even when the whole 11GB of the dataset are cached in memory."
     ]
    },
    {
     "cell_type": "markdown",
     "metadata": {},
     "source": [
      "For $size = 2e7$ this step takes 253sec (part=367, vecPart=64)"
     ]
    },
    {
     "cell_type": "code",
     "collapsed": false,
     "input": [
      "small.count()"
     ],
     "language": "python",
     "metadata": {},
     "outputs": [
      {
       "metadata": {},
       "output_type": "pyout",
       "prompt_number": 6,
       "text": [
        "143030470"
       ]
      }
     ],
     "prompt_number": 6
    },
    {
     "cell_type": "code",
     "collapsed": false,
     "input": [
      "small.take(10)"
     ],
     "language": "python",
     "metadata": {},
     "outputs": [
      {
       "metadata": {},
       "output_type": "pyout",
       "prompt_number": 64,
       "text": [
        "[[17394679, 781283],\n",
        " [17394679, 1069496],\n",
        " [17394679, 2190476],\n",
        " [17394679, 8526465],\n",
        " [17394679, 9135752],\n",
        " [17394679, 11646285],\n",
        " [17394679, 14427275],\n",
        " [17394679, 14435421],\n",
        " [17394679, 15121834],\n",
        " [17394679, 17409420]]"
       ]
      }
     ],
     "prompt_number": 64
    },
    {
     "cell_type": "markdown",
     "metadata": {},
     "source": [
      "Retrieving one edge uniformly at random takes 34 seconds."
     ]
    },
    {
     "cell_type": "heading",
     "level": 2,
     "metadata": {},
     "source": [
      "Do the eigenvector calculation"
     ]
    },
    {
     "cell_type": "heading",
     "level": 3,
     "metadata": {},
     "source": [
      "Initialize First Iteration"
     ]
    },
    {
     "cell_type": "markdown",
     "metadata": {},
     "source": [
      "Alternative implementation:\n",
      "\n",
      "Partition A by row, and then just sum the rows for in-degree\n",
      "use `partitionBy()`"
     ]
    },
    {
     "cell_type": "code",
     "collapsed": false,
     "input": [
      "vectorPart = 32*2"
     ],
     "language": "python",
     "metadata": {},
     "outputs": [],
     "prompt_number": 7
    },
    {
     "cell_type": "code",
     "collapsed": false,
     "input": [
      "x1 = small.map(\n",
      "                    lambda (source, dest): (dest,1)\n",
      "           ).reduceByKey(\n",
      "                    add,\n",
      "                    numPartitions = vectorPart\n",
      "           )"
     ],
     "language": "python",
     "metadata": {},
     "outputs": [],
     "prompt_number": 8
    },
    {
     "cell_type": "code",
     "collapsed": false,
     "input": [
      "x1 = normalizevalue(x1)\n",
      "x1.cache()"
     ],
     "language": "python",
     "metadata": {},
     "outputs": [
      {
       "metadata": {},
       "output_type": "pyout",
       "prompt_number": 119,
       "text": [
        "PythonRDD[294] at RDD at PythonRDD.scala:43"
       ]
      }
     ],
     "prompt_number": 119
    },
    {
     "cell_type": "markdown",
     "metadata": {},
     "source": [
      "The first iteration takes 282 seconds."
     ]
    },
    {
     "cell_type": "markdown",
     "metadata": {},
     "source": [
      "For $size = 2e7$ this step takes 57sec (vecPart=64)"
     ]
    },
    {
     "cell_type": "code",
     "collapsed": false,
     "input": [
      "#x1.saveAsTextFile('datasets/wdc/results/full-Iteration1')"
     ],
     "language": "python",
     "metadata": {},
     "outputs": [],
     "prompt_number": 69
    },
    {
     "cell_type": "heading",
     "level": 3,
     "metadata": {},
     "source": [
      "Approximate iteration"
     ]
    },
    {
     "cell_type": "code",
     "collapsed": false,
     "input": [
      "#approxjoin = x1.filter(lambda (k,v): v>2).join(small)\n",
      "#x2 = approxjoin.map(lambda (k,v): (v[1], v[0])).reduceByKey(add)\n",
      "#x2.take(5)"
     ],
     "language": "python",
     "metadata": {},
     "outputs": [],
     "prompt_number": 70
    },
    {
     "cell_type": "heading",
     "level": 3,
     "metadata": {},
     "source": [
      "Exact iteration"
     ]
    },
    {
     "cell_type": "markdown",
     "metadata": {},
     "source": [
      "For $size = 1e7$ this step takes 48sec (part=367, vecPart=64)"
     ]
    },
    {
     "cell_type": "markdown",
     "metadata": {},
     "source": [
      "For $size = 2e7$ this step takes 148sec (part=367, vecPart=64)"
     ]
    },
    {
     "cell_type": "code",
     "collapsed": false,
     "input": [
      "def exactiteration(A, x, part=vectorPart):\n",
      "    return x.join(\n",
      "                    A\n",
      "            ).map(\n",
      "                    lambda (src,(juice,dest)): (dest, juice)\n",
      "            ).reduceByKey(\n",
      "                    add,\n",
      "                    numPartitions = vectorPart\n",
      "            )"
     ],
     "language": "python",
     "metadata": {},
     "outputs": [],
     "prompt_number": 83
    },
    {
     "cell_type": "code",
     "collapsed": false,
     "input": [
      "def normalizevalues(x):\n",
      "    sm = float(x.values().sum())\n",
      "    return x.mapValues(\n",
      "                        lambda v: v/sm\n",
      "                      )"
     ],
     "language": "python",
     "metadata": {},
     "outputs": [],
     "prompt_number": 84
    },
    {
     "cell_type": "code",
     "collapsed": false,
     "input": [
      "x2 = exactiteration(small, x1, part=vectorPart)"
     ],
     "language": "python",
     "metadata": {},
     "outputs": [],
     "prompt_number": 85
    },
    {
     "cell_type": "code",
     "collapsed": false,
     "input": [
      "x2 = normalizevalues(x2)"
     ],
     "language": "python",
     "metadata": {},
     "outputs": [],
     "prompt_number": 94
    },
    {
     "cell_type": "code",
     "collapsed": false,
     "input": [
      "x2.cache()"
     ],
     "language": "python",
     "metadata": {},
     "outputs": [
      {
       "metadata": {},
       "output_type": "pyout",
       "prompt_number": 95,
       "text": [
        "PythonRDD[218] at RDD at PythonRDD.scala:43"
       ]
      }
     ],
     "prompt_number": 95
    },
    {
     "cell_type": "code",
     "collapsed": false,
     "input": [
      "x2.take(10)"
     ],
     "language": "python",
     "metadata": {},
     "outputs": [
      {
       "metadata": {},
       "output_type": "pyout",
       "prompt_number": 96,
       "text": [
        "[(13631488, 4.7949322627187335e-07),\n",
        " (0, 1.7225141574262293e-11),\n",
        " (8187840, 7.5891947288955624e-10),\n",
        " (803072, 8.501113988709449e-10),\n",
        " (17981824, 5.2688668344802304e-11),\n",
        " (9793984, 5.3701911966817738e-11),\n",
        " (18383360, 6.3631699462568938e-10),\n",
        " (2409216, 8.1059489761234325e-12),\n",
        " (10998592, 1.4239112620182824e-08),\n",
        " (19587968, 5.0662181100771443e-12)]"
       ]
      }
     ],
     "prompt_number": 96
    },
    {
     "cell_type": "heading",
     "level": 3,
     "metadata": {},
     "source": [
      "Third iteration"
     ]
    },
    {
     "cell_type": "code",
     "collapsed": false,
     "input": [
      "x3 = exactiteration(small, x2, part=vectorPart)"
     ],
     "language": "python",
     "metadata": {},
     "outputs": [],
     "prompt_number": 98
    },
    {
     "cell_type": "code",
     "collapsed": false,
     "input": [
      "x3 = normalizevalues(x3)"
     ],
     "language": "python",
     "metadata": {},
     "outputs": [],
     "prompt_number": 99
    },
    {
     "cell_type": "code",
     "collapsed": false,
     "input": [
      "x3.cache()"
     ],
     "language": "python",
     "metadata": {},
     "outputs": [
      {
       "metadata": {},
       "output_type": "pyout",
       "prompt_number": 100,
       "text": [
        "PythonRDD[233] at RDD at PythonRDD.scala:43"
       ]
      }
     ],
     "prompt_number": 100
    },
    {
     "cell_type": "heading",
     "level": 3,
     "metadata": {},
     "source": [
      "Fourth Iteration"
     ]
    },
    {
     "cell_type": "code",
     "collapsed": false,
     "input": [
      "x4 = exactiteration(small, x3, part=vectorPart)"
     ],
     "language": "python",
     "metadata": {},
     "outputs": [],
     "prompt_number": 106
    },
    {
     "cell_type": "code",
     "collapsed": false,
     "input": [
      "x4 = normalizevalue(x4)\n",
      "x4.cache()"
     ],
     "language": "python",
     "metadata": {},
     "outputs": [
      {
       "metadata": {},
       "output_type": "pyout",
       "prompt_number": 107,
       "text": [
        "PythonRDD[251] at RDD at PythonRDD.scala:43"
       ]
      }
     ],
     "prompt_number": 107
    },
    {
     "cell_type": "code",
     "collapsed": false,
     "input": [
      "x4.take(10)"
     ],
     "language": "python",
     "metadata": {},
     "outputs": [
      {
       "metadata": {},
       "output_type": "pyout",
       "prompt_number": 108,
       "text": [
        "[(13631488, 4.6106635526000703e-07),\n",
        " (0, 3.4095177913507319e-11),\n",
        " (8187840, 1.0584743769734452e-09),\n",
        " (803072, 1.2380216471556939e-09),\n",
        " (17981824, 1.3615271241443955e-11),\n",
        " (9793984, 1.4916578576982524e-11),\n",
        " (18383360, 5.6215923524080805e-10),\n",
        " (2409216, 4.2847570973712515e-12),\n",
        " (10998592, 2.2500965829180606e-08),\n",
        " (19587968, 2.7065006591166021e-12)]"
       ]
      }
     ],
     "prompt_number": 108
    },
    {
     "cell_type": "heading",
     "level": 3,
     "metadata": {},
     "source": [
      "Fifth Iteration"
     ]
    },
    {
     "cell_type": "code",
     "collapsed": false,
     "input": [
      "x5 = exactiteration(small, x4, part=vectorPart)\n",
      "x5 = normalizevalue(x5)\n",
      "x5.cache()"
     ],
     "language": "python",
     "metadata": {},
     "outputs": [],
     "prompt_number": 112
    },
    {
     "cell_type": "heading",
     "level": 3,
     "metadata": {},
     "source": [
      "Sixth Iteration"
     ]
    },
    {
     "cell_type": "code",
     "collapsed": false,
     "input": [
      "x6 = exactiteration(small, x5, part=vectorPart)\n",
      "x6 = normalizevalue(x6)\n",
      "x6.cache()"
     ],
     "language": "python",
     "metadata": {},
     "outputs": [
      {
       "metadata": {},
       "output_type": "pyout",
       "prompt_number": 122,
       "text": [
        "PythonRDD[309] at RDD at PythonRDD.scala:43"
       ]
      }
     ],
     "prompt_number": 122
    },
    {
     "cell_type": "heading",
     "level": 4,
     "metadata": {},
     "source": [
      "Show top domains"
     ]
    },
    {
     "cell_type": "code",
     "collapsed": false,
     "input": [
      "names = sc.textFile('datasets/wdc/pld-index')"
     ],
     "language": "python",
     "metadata": {},
     "outputs": [],
     "prompt_number": 49
    },
    {
     "cell_type": "code",
     "collapsed": false,
     "input": [
      "def indexline(line):\n",
      "    parts = line.split('\\t')\n",
      "    return (int(parts[1]), parts[0])"
     ],
     "language": "python",
     "metadata": {},
     "outputs": [],
     "prompt_number": 50
    },
    {
     "cell_type": "code",
     "collapsed": false,
     "input": [
      "index = names.map(indexline).filter(lambda (k,v): k<size)"
     ],
     "language": "python",
     "metadata": {},
     "outputs": [],
     "prompt_number": 51
    },
    {
     "cell_type": "code",
     "collapsed": false,
     "input": [
      "index.cache()"
     ],
     "language": "python",
     "metadata": {},
     "outputs": [
      {
       "metadata": {},
       "output_type": "pyout",
       "prompt_number": 52,
       "text": [
        "[(9611986, u'd9q.com'),\n",
        " (7244298, u'celebratedifferences.org'),\n",
        " (19850697, u'jayspaan.com'),\n",
        " (18372515, u'ibaer.com'),\n",
        " (12053788, u'eins-zum-anderen.de'),\n",
        " (19676552, u'jacksonville-employment.com'),\n",
        " (147381, u'1314nb.com'),\n",
        " (8344691, u'cnhufeng.com'),\n",
        " (12045518, u'eilah.fr'),\n",
        " (17131095, u'heerenaviation.com')]"
       ]
      }
     ],
     "prompt_number": 52
    },
    {
     "cell_type": "code",
     "collapsed": false,
     "input": [
      "topnodes = index.join(x4.filter(lambda (k,v): v>0.0001))"
     ],
     "language": "python",
     "metadata": {},
     "outputs": [],
     "prompt_number": 115
    },
    {
     "cell_type": "code",
     "collapsed": false,
     "input": [
      "topnodes.cache()"
     ],
     "language": "python",
     "metadata": {},
     "outputs": [
      {
       "metadata": {},
       "output_type": "pyout",
       "prompt_number": 116,
       "text": [
        "PythonRDD[287] at RDD at PythonRDD.scala:43"
       ]
      }
     ],
     "prompt_number": 116
    },
    {
     "cell_type": "code",
     "collapsed": false,
     "input": [
      "topnodes.take(10)"
     ],
     "language": "python",
     "metadata": {},
     "outputs": [
      {
       "metadata": {},
       "output_type": "pyout",
       "prompt_number": 117,
       "text": [
        "[]"
       ]
      }
     ],
     "prompt_number": 117
    },
    {
     "cell_type": "code",
     "collapsed": false,
     "input": [
      "topnodes.sortBy(lambda (k,v): v[1], ascending=False).take(10)"
     ],
     "language": "python",
     "metadata": {},
     "outputs": [
      {
       "ename": "IndexError",
       "evalue": "list index out of range",
       "output_type": "pyerr",
       "traceback": [
        "\u001b[1;31m---------------------------------------------------------------------------\u001b[0m\n\u001b[1;31mIndexError\u001b[0m                                Traceback (most recent call last)",
        "\u001b[1;32m<ipython-input-118-78cedd6852c6>\u001b[0m in \u001b[0;36m<module>\u001b[1;34m()\u001b[0m\n\u001b[1;32m----> 1\u001b[1;33m \u001b[0mtopnodes\u001b[0m\u001b[1;33m.\u001b[0m\u001b[0msortBy\u001b[0m\u001b[1;33m(\u001b[0m\u001b[1;32mlambda\u001b[0m \u001b[1;33m(\u001b[0m\u001b[0mk\u001b[0m\u001b[1;33m,\u001b[0m\u001b[0mv\u001b[0m\u001b[1;33m)\u001b[0m\u001b[1;33m:\u001b[0m \u001b[0mv\u001b[0m\u001b[1;33m[\u001b[0m\u001b[1;36m1\u001b[0m\u001b[1;33m]\u001b[0m\u001b[1;33m,\u001b[0m \u001b[0mascending\u001b[0m\u001b[1;33m=\u001b[0m\u001b[0mFalse\u001b[0m\u001b[1;33m)\u001b[0m\u001b[1;33m.\u001b[0m\u001b[0mtake\u001b[0m\u001b[1;33m(\u001b[0m\u001b[1;36m10\u001b[0m\u001b[1;33m)\u001b[0m\u001b[1;33m\u001b[0m\u001b[0m\n\u001b[0m",
        "\u001b[1;32m/home/alex/yannis/workspace/spark/python/pyspark/rdd.pyc\u001b[0m in \u001b[0;36msortBy\u001b[1;34m(self, keyfunc, ascending, numPartitions)\u001b[0m\n\u001b[0;32m    631\u001b[0m         \u001b[1;33m[\u001b[0m\u001b[1;33m(\u001b[0m\u001b[1;34m'a'\u001b[0m\u001b[1;33m,\u001b[0m \u001b[1;36m1\u001b[0m\u001b[1;33m)\u001b[0m\u001b[1;33m,\u001b[0m \u001b[1;33m(\u001b[0m\u001b[1;34m'b'\u001b[0m\u001b[1;33m,\u001b[0m \u001b[1;36m2\u001b[0m\u001b[1;33m)\u001b[0m\u001b[1;33m,\u001b[0m \u001b[1;33m(\u001b[0m\u001b[1;34m'1'\u001b[0m\u001b[1;33m,\u001b[0m \u001b[1;36m3\u001b[0m\u001b[1;33m)\u001b[0m\u001b[1;33m,\u001b[0m \u001b[1;33m(\u001b[0m\u001b[1;34m'd'\u001b[0m\u001b[1;33m,\u001b[0m \u001b[1;36m4\u001b[0m\u001b[1;33m)\u001b[0m\u001b[1;33m,\u001b[0m \u001b[1;33m(\u001b[0m\u001b[1;34m'2'\u001b[0m\u001b[1;33m,\u001b[0m \u001b[1;36m5\u001b[0m\u001b[1;33m)\u001b[0m\u001b[1;33m]\u001b[0m\u001b[1;33m\u001b[0m\u001b[0m\n\u001b[0;32m    632\u001b[0m         \"\"\"\n\u001b[1;32m--> 633\u001b[1;33m         \u001b[1;32mreturn\u001b[0m \u001b[0mself\u001b[0m\u001b[1;33m.\u001b[0m\u001b[0mkeyBy\u001b[0m\u001b[1;33m(\u001b[0m\u001b[0mkeyfunc\u001b[0m\u001b[1;33m)\u001b[0m\u001b[1;33m.\u001b[0m\u001b[0msortByKey\u001b[0m\u001b[1;33m(\u001b[0m\u001b[0mascending\u001b[0m\u001b[1;33m,\u001b[0m \u001b[0mnumPartitions\u001b[0m\u001b[1;33m)\u001b[0m\u001b[1;33m.\u001b[0m\u001b[0mvalues\u001b[0m\u001b[1;33m(\u001b[0m\u001b[1;33m)\u001b[0m\u001b[1;33m\u001b[0m\u001b[0m\n\u001b[0m\u001b[0;32m    634\u001b[0m \u001b[1;33m\u001b[0m\u001b[0m\n\u001b[0;32m    635\u001b[0m     \u001b[1;32mdef\u001b[0m \u001b[0mglom\u001b[0m\u001b[1;33m(\u001b[0m\u001b[0mself\u001b[0m\u001b[1;33m)\u001b[0m\u001b[1;33m:\u001b[0m\u001b[1;33m\u001b[0m\u001b[0m\n",
        "\u001b[1;32m/home/alex/yannis/workspace/spark/python/pyspark/rdd.pyc\u001b[0m in \u001b[0;36msortByKey\u001b[1;34m(self, ascending, numPartitions, keyfunc)\u001b[0m\n\u001b[0;32m    610\u001b[0m         \u001b[1;31m# an implicit boundary\u001b[0m\u001b[1;33m\u001b[0m\u001b[1;33m\u001b[0m\u001b[0m\n\u001b[0;32m    611\u001b[0m         bounds = [samples[len(samples) * (i + 1) / numPartitions]\n\u001b[1;32m--> 612\u001b[1;33m                   for i in range(0, numPartitions - 1)]\n\u001b[0m\u001b[0;32m    613\u001b[0m \u001b[1;33m\u001b[0m\u001b[0m\n\u001b[0;32m    614\u001b[0m         \u001b[1;32mdef\u001b[0m \u001b[0mrangePartitioner\u001b[0m\u001b[1;33m(\u001b[0m\u001b[0mk\u001b[0m\u001b[1;33m)\u001b[0m\u001b[1;33m:\u001b[0m\u001b[1;33m\u001b[0m\u001b[0m\n",
        "\u001b[1;31mIndexError\u001b[0m: list index out of range"
       ]
      }
     ],
     "prompt_number": 118
    },
    {
     "cell_type": "code",
     "collapsed": false,
     "input": [
      "topnodes"
     ],
     "language": "python",
     "metadata": {},
     "outputs": []
    },
    {
     "cell_type": "heading",
     "level": 3,
     "metadata": {},
     "source": [
      "TODO: Plot the masses on first 3 steps for top nodes"
     ]
    },
    {
     "cell_type": "code",
     "collapsed": false,
     "input": [
      "x3.take(10)"
     ],
     "language": "python",
     "metadata": {},
     "outputs": []
    },
    {
     "cell_type": "code",
     "collapsed": false,
     "input": [
      "topnodes.join(x3).take(10)"
     ],
     "language": "python",
     "metadata": {},
     "outputs": []
    },
    {
     "cell_type": "code",
     "collapsed": false,
     "input": [
      "topnodes.join(x4).take(10)"
     ],
     "language": "python",
     "metadata": {},
     "outputs": []
    },
    {
     "cell_type": "code",
     "collapsed": false,
     "input": [
      "x1.filter(lambda (k,v): k==5325333).collect()[0][1] "
     ],
     "language": "python",
     "metadata": {},
     "outputs": [
      {
       "metadata": {},
       "output_type": "pyout",
       "prompt_number": 121,
       "text": [
        "0.0032915084457178947"
       ]
      }
     ],
     "prompt_number": 121
    },
    {
     "cell_type": "code",
     "collapsed": false,
     "input": [
      "x2.filter(lambda (k,v): k==5325333).collect()[0][1] "
     ],
     "language": "python",
     "metadata": {},
     "outputs": [
      {
       "metadata": {},
       "output_type": "pyout",
       "prompt_number": 104,
       "text": [
        "2.2183357033425191e-05"
       ]
      }
     ],
     "prompt_number": 104
    },
    {
     "cell_type": "code",
     "collapsed": false,
     "input": [
      "x3.filter(lambda (k,v): k==5325333).collect()[0][1]"
     ],
     "language": "python",
     "metadata": {},
     "outputs": [
      {
       "metadata": {},
       "output_type": "pyout",
       "prompt_number": 105,
       "text": [
        "0.0015127604287452738"
       ]
      }
     ],
     "prompt_number": 105
    },
    {
     "cell_type": "code",
     "collapsed": false,
     "input": [
      "x4.filter(lambda (k,v): k==5325333).collect()[0][1]"
     ],
     "language": "python",
     "metadata": {},
     "outputs": [
      {
       "metadata": {},
       "output_type": "pyout",
       "prompt_number": 109,
       "text": [
        "4.920762235649699e-05"
       ]
      }
     ],
     "prompt_number": 109
    },
    {
     "cell_type": "code",
     "collapsed": false,
     "input": [
      "x5.filter(lambda (k,v): k==5325333).collect()[0][1]"
     ],
     "language": "python",
     "metadata": {},
     "outputs": [
      {
       "metadata": {},
       "output_type": "pyout",
       "prompt_number": 114,
       "text": [
        "0.0006490889112615825"
       ]
      }
     ],
     "prompt_number": 114
    },
    {
     "cell_type": "code",
     "collapsed": false,
     "input": [
      "x6.filter(lambda (k,v): k==5325333).collect()[0][1]"
     ],
     "language": "python",
     "metadata": {},
     "outputs": [
      {
       "metadata": {},
       "output_type": "pyout",
       "prompt_number": 123,
       "text": [
        "5.7562804881511025e-05"
       ]
      }
     ],
     "prompt_number": 123
    },
    {
     "cell_type": "code",
     "collapsed": false,
     "input": [],
     "language": "python",
     "metadata": {},
     "outputs": []
    }
   ],
   "metadata": {}
  }
 ]
}