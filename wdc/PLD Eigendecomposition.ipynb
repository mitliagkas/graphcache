{
 "metadata": {
  "name": "",
  "signature": "sha256:7fc79e20cd41ef2259ae16642c8e6051f3ac50a35409322c69a6fb0d301a1e5e"
 },
 "nbformat": 3,
 "nbformat_minor": 0,
 "worksheets": [
  {
   "cells": [
    {
     "cell_type": "heading",
     "level": 2,
     "metadata": {},
     "source": [
      "Eigendecomposition for subset of PLD"
     ]
    },
    {
     "cell_type": "markdown",
     "metadata": {},
     "source": [
      "Data from\n",
      "\n",
      "http://webdatacommons.org/hyperlinkgraph/2012-08/download.html"
     ]
    },
    {
     "cell_type": "markdown",
     "metadata": {},
     "source": [
      "**Setup**\n",
      "\n",
      "before running pyspark run  \n",
      "`export SPARK_DRIVER_MEMORY=20g`"
     ]
    },
    {
     "cell_type": "heading",
     "level": 3,
     "metadata": {},
     "source": [
      "Get the subset of the graph"
     ]
    },
    {
     "cell_type": "markdown",
     "metadata": {},
     "source": [
      "In this segment we load the dataset and keep only a tiny subset"
     ]
    },
    {
     "cell_type": "heading",
     "level": 4,
     "metadata": {},
     "source": [
      "Load first partition of PLD"
     ]
    },
    {
     "cell_type": "code",
     "collapsed": false,
     "input": [
      "#part = 32 * 100"
     ],
     "language": "python",
     "metadata": {},
     "outputs": [],
     "prompt_number": 1
    },
    {
     "cell_type": "code",
     "collapsed": false,
     "input": [
      "data = sc.textFile('datasets/wdc/split-pld-arc/')\n",
      "#data = sc.textFile('datasets/wdc/x0')"
     ],
     "language": "python",
     "metadata": {},
     "outputs": [],
     "prompt_number": 2
    },
    {
     "cell_type": "heading",
     "level": 4,
     "metadata": {},
     "source": [
      "Keep only nodes with ID within a certain range"
     ]
    },
    {
     "cell_type": "code",
     "collapsed": false,
     "input": [
      "size = 2e7\n",
      "small = data.map(\n",
      "                   lambda line: [int(x) for x in line.split('\\t')]\n",
      "         ).filter(\n",
      "                   lambda (source, destination): source<size and destination<size\n",
      "         )"
     ],
     "language": "python",
     "metadata": {},
     "outputs": [],
     "prompt_number": 60
    },
    {
     "cell_type": "code",
     "collapsed": false,
     "input": [
      "#small.coalesce(part)"
     ],
     "language": "python",
     "metadata": {},
     "outputs": [],
     "prompt_number": 61
    },
    {
     "cell_type": "heading",
     "level": 4,
     "metadata": {},
     "source": [
      "Persist result"
     ]
    },
    {
     "cell_type": "code",
     "collapsed": false,
     "input": [
      "small.cache()"
     ],
     "language": "python",
     "metadata": {},
     "outputs": [
      {
       "metadata": {},
       "output_type": "pyout",
       "prompt_number": 62,
       "text": [
        "PythonRDD[134] at RDD at PythonRDD.scala:43"
       ]
      }
     ],
     "prompt_number": 62
    },
    {
     "cell_type": "markdown",
     "metadata": {},
     "source": [
      "Reading all of the PLD graph takes 300 seconds. Disk read time is not the issue here. This time is necessary even when the whole 11GB of the dataset are cached in memory."
     ]
    },
    {
     "cell_type": "code",
     "collapsed": false,
     "input": [
      "small.count()"
     ],
     "language": "python",
     "metadata": {},
     "outputs": [
      {
       "metadata": {},
       "output_type": "pyout",
       "prompt_number": 63,
       "text": [
        "143030470"
       ]
      }
     ],
     "prompt_number": 63
    },
    {
     "cell_type": "code",
     "collapsed": false,
     "input": [
      "small.take(10)"
     ],
     "language": "python",
     "metadata": {},
     "outputs": [
      {
       "metadata": {},
       "output_type": "pyout",
       "prompt_number": 64,
       "text": [
        "[[17394679, 781283],\n",
        " [17394679, 1069496],\n",
        " [17394679, 2190476],\n",
        " [17394679, 8526465],\n",
        " [17394679, 9135752],\n",
        " [17394679, 11646285],\n",
        " [17394679, 14427275],\n",
        " [17394679, 14435421],\n",
        " [17394679, 15121834],\n",
        " [17394679, 17409420]]"
       ]
      }
     ],
     "prompt_number": 64
    },
    {
     "cell_type": "markdown",
     "metadata": {},
     "source": [
      "Retrieving one edge uniformly at random takes 34 seconds."
     ]
    },
    {
     "cell_type": "heading",
     "level": 2,
     "metadata": {},
     "source": [
      "Do the eigenvector calculation"
     ]
    },
    {
     "cell_type": "heading",
     "level": 3,
     "metadata": {},
     "source": [
      "Initialize First Iteration"
     ]
    },
    {
     "cell_type": "code",
     "collapsed": false,
     "input": [
      "vectorPart = 32*2"
     ],
     "language": "python",
     "metadata": {},
     "outputs": [],
     "prompt_number": 65
    },
    {
     "cell_type": "code",
     "collapsed": false,
     "input": [
      "x1 = small.map(lambda (source, dest): (dest,1)).reduceByKey(add, numPartitions = vectorPart)"
     ],
     "language": "python",
     "metadata": {},
     "outputs": [],
     "prompt_number": 66
    },
    {
     "cell_type": "code",
     "collapsed": false,
     "input": [
      "x1"
     ],
     "language": "python",
     "metadata": {},
     "outputs": [
      {
       "metadata": {},
       "output_type": "pyout",
       "prompt_number": 67,
       "text": [
        "PythonRDD[142] at RDD at PythonRDD.scala:43"
       ]
      }
     ],
     "prompt_number": 67
    },
    {
     "cell_type": "markdown",
     "metadata": {},
     "source": [
      "The first iteration takes 282 seconds."
     ]
    },
    {
     "cell_type": "code",
     "collapsed": false,
     "input": [
      "x1.cache()\n",
      "x1.count()"
     ],
     "language": "python",
     "metadata": {},
     "outputs": [
      {
       "metadata": {},
       "output_type": "pyout",
       "prompt_number": 68,
       "text": [
        "13480506"
       ]
      }
     ],
     "prompt_number": 68
    },
    {
     "cell_type": "code",
     "collapsed": false,
     "input": [
      "#x1.saveAsTextFile('datasets/wdc/results/full-Iteration1')"
     ],
     "language": "python",
     "metadata": {},
     "outputs": [],
     "prompt_number": 69
    },
    {
     "cell_type": "heading",
     "level": 3,
     "metadata": {},
     "source": [
      "Approximate iteration"
     ]
    },
    {
     "cell_type": "code",
     "collapsed": false,
     "input": [
      "#approxjoin = x1.filter(lambda (k,v): v>2).join(small)\n",
      "#x2 = approxjoin.map(lambda (k,v): (v[1], v[0])).reduceByKey(add)\n",
      "#x2.take(5)"
     ],
     "language": "python",
     "metadata": {},
     "outputs": [],
     "prompt_number": 70
    },
    {
     "cell_type": "heading",
     "level": 3,
     "metadata": {},
     "source": [
      "Exact iteration"
     ]
    },
    {
     "cell_type": "markdown",
     "metadata": {},
     "source": [
      "For $size = 1e7$ this step takes 48sec (part=367, vecPart=64)"
     ]
    },
    {
     "cell_type": "markdown",
     "metadata": {},
     "source": [
      "For $size = 2e7$ this step takes 148sec (part=367, vecPart=64)"
     ]
    },
    {
     "cell_type": "code",
     "collapsed": false,
     "input": [
      "x2 = x1.join(\n",
      "                small\n",
      "        ).map(\n",
      "                lambda (k,v): (v[1], v[0])\n",
      "        ).reduceByKey(\n",
      "                add,\n",
      "                numPartitions = vectorPart\n",
      "        )"
     ],
     "language": "python",
     "metadata": {},
     "outputs": [],
     "prompt_number": 99
    },
    {
     "cell_type": "code",
     "collapsed": false,
     "input": [
      "x2.cache()"
     ],
     "language": "python",
     "metadata": {},
     "outputs": [
      {
       "metadata": {},
       "output_type": "pyout",
       "prompt_number": 97,
       "text": [
        "PythonRDD[227] at RDD at PythonRDD.scala:43"
       ]
      }
     ],
     "prompt_number": 97
    },
    {
     "cell_type": "code",
     "collapsed": false,
     "input": [
      "x2.count()"
     ],
     "language": "python",
     "metadata": {},
     "outputs": [
      {
       "metadata": {},
       "output_type": "pyout",
       "prompt_number": 98,
       "text": [
        "13050318"
       ]
      }
     ],
     "prompt_number": 98
    },
    {
     "cell_type": "heading",
     "level": 3,
     "metadata": {},
     "source": [
      "Third iteration"
     ]
    },
    {
     "cell_type": "code",
     "collapsed": false,
     "input": [
      "x3 = x2.join(small).map(lambda (k,v): (v[1], v[0])).reduceByKey(add, numPartitions = vectorPart)"
     ],
     "language": "python",
     "metadata": {},
     "outputs": [],
     "prompt_number": 74
    },
    {
     "cell_type": "code",
     "collapsed": false,
     "input": [
      "x3.cache()"
     ],
     "language": "python",
     "metadata": {},
     "outputs": [
      {
       "metadata": {},
       "output_type": "pyout",
       "prompt_number": 75,
       "text": [
        "PythonRDD[168] at RDD at PythonRDD.scala:43"
       ]
      }
     ],
     "prompt_number": 75
    },
    {
     "cell_type": "code",
     "collapsed": false,
     "input": [
      "x3.count()"
     ],
     "language": "python",
     "metadata": {},
     "outputs": [
      {
       "metadata": {},
       "output_type": "pyout",
       "prompt_number": 76,
       "text": [
        "13003633"
       ]
      }
     ],
     "prompt_number": 76
    },
    {
     "cell_type": "heading",
     "level": 3,
     "metadata": {},
     "source": [
      "Fourth Iteration"
     ]
    },
    {
     "cell_type": "code",
     "collapsed": false,
     "input": [
      "x4 = x3.join(small).map(lambda (k,v): (v[1], v[0])).reduceByKey(add, numPartitions = vectorPart)\n",
      "x4.cache()\n",
      "x4.count()"
     ],
     "language": "python",
     "metadata": {},
     "outputs": [],
     "prompt_number": 77
    },
    {
     "cell_type": "heading",
     "level": 3,
     "metadata": {},
     "source": [
      "Fifth Iteration"
     ]
    },
    {
     "cell_type": "code",
     "collapsed": false,
     "input": [
      "x5 = x4.join(small).map(lambda (k,v): (v[1], v[0])).reduceByKey(add, numPartitions = vectorPart)\n",
      "x5.cache()\n",
      "x5.count()"
     ],
     "language": "python",
     "metadata": {},
     "outputs": [
      {
       "metadata": {},
       "output_type": "pyout",
       "prompt_number": 94,
       "text": [
        "12996622"
       ]
      }
     ],
     "prompt_number": 94
    },
    {
     "cell_type": "heading",
     "level": 4,
     "metadata": {},
     "source": [
      "Show top domains"
     ]
    },
    {
     "cell_type": "code",
     "collapsed": false,
     "input": [
      "names = sc.textFile('datasets/wdc/pld-index')"
     ],
     "language": "python",
     "metadata": {},
     "outputs": [],
     "prompt_number": 80
    },
    {
     "cell_type": "code",
     "collapsed": false,
     "input": [
      "def indexline(line):\n",
      "    parts = line.split('\\t')\n",
      "    return (int(parts[1]), parts[0])"
     ],
     "language": "python",
     "metadata": {},
     "outputs": [],
     "prompt_number": 81
    },
    {
     "cell_type": "code",
     "collapsed": false,
     "input": [
      "index = names.map(indexline).filter(lambda (k,v): k<size)"
     ],
     "language": "python",
     "metadata": {},
     "outputs": [],
     "prompt_number": 32
    },
    {
     "cell_type": "code",
     "collapsed": false,
     "input": [
      "index.cache()\n",
      "index.takeSample(True, 10)"
     ],
     "language": "python",
     "metadata": {},
     "outputs": [
      {
       "metadata": {},
       "output_type": "pyout",
       "prompt_number": 33,
       "text": [
        "[(7770996, u'chiobu.org'),\n",
        " (7375792, u'cesko.gov.ge'),\n",
        " (5131969, u'bit-interactive.com'),\n",
        " (9840823, u'dasmeerinuns.de'),\n",
        " (2483661, u'ankpower.com'),\n",
        " (6481915, u'caigang.cn'),\n",
        " (3439353, u'attentive-primecare.com'),\n",
        " (2513136, u'annieandskylar.com'),\n",
        " (2117932, u'amae.org.br'),\n",
        " (7988720, u'cinque-sensi.info')]"
       ]
      }
     ],
     "prompt_number": 33
    },
    {
     "cell_type": "code",
     "collapsed": false,
     "input": [
      "topnodes = index.join(x4.filter(lambda (k,v): v>1e11))"
     ],
     "language": "python",
     "metadata": {},
     "outputs": [],
     "prompt_number": 34
    },
    {
     "cell_type": "code",
     "collapsed": false,
     "input": [],
     "language": "python",
     "metadata": {},
     "outputs": [],
     "prompt_number": 34
    },
    {
     "cell_type": "code",
     "collapsed": false,
     "input": [
      "topnodes.cache()\n",
      "topnodes.takeSample(True, 10)"
     ],
     "language": "python",
     "metadata": {},
     "outputs": [
      {
       "metadata": {},
       "output_type": "pyout",
       "prompt_number": 49,
       "text": [
        "[(748462, (u'aagf.de', 739500431639)),\n",
        " (6381507, (u'bzar.de', 660613574556)),\n",
        " (990706, (u'acfo.de', 739996308813)),\n",
        " (8279555, (u'clubhaydenwinters.com', 105814134707)),\n",
        " (8272699, (u'clubdanijensen.com', 105881558455)),\n",
        " (8282898, (u'clubmadelynmarie.com', 105881783122)),\n",
        " (8281797, (u'clubkyleereese.com', 105881215775)),\n",
        " (7146416, (u'ccbt.de', 421440211222)),\n",
        " (6162073, (u'buio.de', 660613574556)),\n",
        " (7393759, (u'cffg.de', 421447235900))]"
       ]
      }
     ],
     "prompt_number": 49
    },
    {
     "cell_type": "code",
     "collapsed": false,
     "input": [
      "toptopnodes = topnodes.filter(lambda (k,v): v[1]>1e11 )"
     ],
     "language": "python",
     "metadata": {},
     "outputs": [],
     "prompt_number": 54
    },
    {
     "cell_type": "code",
     "collapsed": false,
     "input": [
      "toptopnodes.take(10)"
     ],
     "language": "python",
     "metadata": {},
     "outputs": [
      {
       "metadata": {},
       "output_type": "pyout",
       "prompt_number": 55,
       "text": [
        "[(7344414, (u'ceph.de', 347438270849)),\n",
        " (9966502, (u'dbmp.de', 135982408494)),\n",
        " (3176866, (u'asgo.de', 739996308813)),\n",
        " (9999332, (u'ddmo.de', 258005963967)),\n",
        " (1876504, (u'allafrica.com', 149786244812)),\n",
        " (6343736, (u'bvdgs.de', 659347201720)),\n",
        " (4777010, (u'bestv.de', 660613574556)),\n",
        " (6355790, (u'bwtp.de', 660613574556)),\n",
        " (1642774, (u'aklt.de', 739996308813)),\n",
        " (3491250, (u'audubon.org', 122315748064))]"
       ]
      }
     ],
     "prompt_number": 55
    },
    {
     "cell_type": "code",
     "collapsed": false,
     "input": [
      "toptopnodes.sortBy(lambda (k,v): v[1], ascending=False).take(10)"
     ],
     "language": "python",
     "metadata": {},
     "outputs": [
      {
       "metadata": {},
       "output_type": "pyout",
       "prompt_number": 59,
       "text": [
        "[(5325333, (u'blogspot.com', 1643996127966)),\n",
        " (760373, (u'aaok.me', 741639377618)),\n",
        " (1421520, (u'agff.de', 740849841409)),\n",
        " (1151674, (u'adfn.de', 740849841409)),\n",
        " (2285961, (u'amvd.de', 740248215408)),\n",
        " (836055, (u'abgw.de', 740247253073)),\n",
        " (3241342, (u'asmv.de', 740247253073)),\n",
        " (2680852, (u'apif.de', 740026976067)),\n",
        " (3318074, (u'astroo.de', 740026976067)),\n",
        " (3343012, (u'atcd.de', 740003696963))]"
       ]
      }
     ],
     "prompt_number": 59
    },
    {
     "cell_type": "code",
     "collapsed": false,
     "input": [
      "topnodes"
     ],
     "language": "python",
     "metadata": {},
     "outputs": []
    },
    {
     "cell_type": "heading",
     "level": 3,
     "metadata": {},
     "source": [
      "TODO: Plot the masses on first 3 steps for top nodes"
     ]
    },
    {
     "cell_type": "code",
     "collapsed": false,
     "input": [
      "x3.take(10)"
     ],
     "language": "python",
     "metadata": {},
     "outputs": []
    },
    {
     "cell_type": "code",
     "collapsed": false,
     "input": [
      "topnodes.join(x3).take(10)"
     ],
     "language": "python",
     "metadata": {},
     "outputs": []
    },
    {
     "cell_type": "code",
     "collapsed": false,
     "input": [
      "topnodes.join(x4).take(10)"
     ],
     "language": "python",
     "metadata": {},
     "outputs": []
    },
    {
     "cell_type": "code",
     "collapsed": false,
     "input": [
      "x1.filter(lambda (k,v): k==5325333).collect()[0][1] / float(x1.map(lambda (k,v): v).sum())"
     ],
     "language": "python",
     "metadata": {},
     "outputs": [
      {
       "metadata": {},
       "output_type": "pyout",
       "prompt_number": 90,
       "text": [
        "0.0032915084457178947"
       ]
      }
     ],
     "prompt_number": 90
    },
    {
     "cell_type": "code",
     "collapsed": false,
     "input": [
      "x2.filter(lambda (k,v): k==5325333).collect()[0][1] / float(x2.map(lambda (k,v): v).sum())"
     ],
     "language": "python",
     "metadata": {},
     "outputs": [
      {
       "metadata": {},
       "output_type": "pyout",
       "prompt_number": 91,
       "text": [
        "2.218335703342346e-05"
       ]
      }
     ],
     "prompt_number": 91
    },
    {
     "cell_type": "code",
     "collapsed": false,
     "input": [
      "x3.filter(lambda (k,v): k==5325333).collect()[0][1] / float(x3.map(lambda (k,v): v).sum())"
     ],
     "language": "python",
     "metadata": {},
     "outputs": [
      {
       "metadata": {},
       "output_type": "pyout",
       "prompt_number": 92,
       "text": [
        "0.0015127604287452476"
       ]
      }
     ],
     "prompt_number": 92
    },
    {
     "cell_type": "code",
     "collapsed": false,
     "input": [
      "x4.filter(lambda (k,v): k==5325333).collect()[0][1] / float(x4.map(lambda (k,v): v).sum())"
     ],
     "language": "python",
     "metadata": {},
     "outputs": [
      {
       "metadata": {},
       "output_type": "pyout",
       "prompt_number": 93,
       "text": [
        "4.9207622356498867e-05"
       ]
      }
     ],
     "prompt_number": 93
    },
    {
     "cell_type": "code",
     "collapsed": false,
     "input": [
      "x5.filter(lambda (k,v): k==5325333).collect()[0][1] / float(x5.map(lambda (k,v): v).sum())"
     ],
     "language": "python",
     "metadata": {},
     "outputs": [
      {
       "output_type": "stream",
       "stream": "stderr",
       "text": [
        "/home/alex/yannis/workspace/spark/python/pyspark/rdd.py:760: RuntimeWarning: overflow encountered in long_scalars\n",
        "  return reduce(f, vals)\n"
       ]
      },
      {
       "metadata": {},
       "output_type": "pyout",
       "prompt_number": 95,
       "text": [
        "0.0058476904301454887"
       ]
      }
     ],
     "prompt_number": 95
    },
    {
     "cell_type": "code",
     "collapsed": false,
     "input": [
      "x2.filter(lambda (k,v): k==5325333).collect()"
     ],
     "language": "python",
     "metadata": {},
     "outputs": [
      {
       "metadata": {},
       "output_type": "pyout",
       "prompt_number": 85,
       "text": [
        "[(5325333, 21893409)]"
       ]
      }
     ],
     "prompt_number": 85
    },
    {
     "cell_type": "code",
     "collapsed": false,
     "input": [],
     "language": "python",
     "metadata": {},
     "outputs": []
    }
   ],
   "metadata": {}
  }
 ]
}