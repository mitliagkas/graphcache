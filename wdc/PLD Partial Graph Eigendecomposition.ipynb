{
 "metadata": {
  "name": "",
  "signature": "sha256:9a7293bc5cfd4d509465a741facd49678686c654ee81859562a8417e394d0359"
 },
 "nbformat": 3,
 "nbformat_minor": 0,
 "worksheets": [
  {
   "cells": [
    {
     "cell_type": "heading",
     "level": 2,
     "metadata": {},
     "source": [
      "Eigendecomposition for subset of PLD"
     ]
    },
    {
     "cell_type": "markdown",
     "metadata": {},
     "source": [
      "**Setup**\n",
      "\n",
      "before running pyspark run  \n",
      "`export SPARK_DRIVER_MEMORY=20g`"
     ]
    },
    {
     "cell_type": "markdown",
     "metadata": {},
     "source": [
      "**Check**\n",
      "\n",
      "Long ints"
     ]
    },
    {
     "cell_type": "heading",
     "level": 3,
     "metadata": {},
     "source": [
      "Get the subset of the graph"
     ]
    },
    {
     "cell_type": "markdown",
     "metadata": {},
     "source": [
      "In this segment we load the dataset and keep only a tiny subset"
     ]
    },
    {
     "cell_type": "heading",
     "level": 4,
     "metadata": {},
     "source": [
      "Load first partition of PLD"
     ]
    },
    {
     "cell_type": "code",
     "collapsed": false,
     "input": [
      "part = 200"
     ],
     "language": "python",
     "metadata": {},
     "outputs": [],
     "prompt_number": 1
    },
    {
     "cell_type": "code",
     "collapsed": false,
     "input": [
      "data = sc.textFile('datasets/wdc/split-pld-arc/')\n",
      "#data = sc.textFile('datasets/wdc/x0')\n",
      "data = data.coalesce(part)"
     ],
     "language": "python",
     "metadata": {},
     "outputs": [],
     "prompt_number": 2
    },
    {
     "cell_type": "heading",
     "level": 4,
     "metadata": {},
     "source": [
      "Keep only nodes with ID within a certain range"
     ]
    },
    {
     "cell_type": "code",
     "collapsed": false,
     "input": [
      "size = 5e7\n",
      "small = data.map(\n",
      "                   lambda line: [int(x) for x in line.split('\\t')]\n",
      "         ).filter(\n",
      "                   lambda (source, destination): source<size and destination<size\n",
      "         )"
     ],
     "language": "python",
     "metadata": {},
     "outputs": [],
     "prompt_number": 3
    },
    {
     "cell_type": "code",
     "collapsed": false,
     "input": [
      "small.coalesce(part)"
     ],
     "language": "python",
     "metadata": {},
     "outputs": [
      {
       "metadata": {},
       "output_type": "pyout",
       "prompt_number": 4,
       "text": [
        "CoalescedRDD[4] at coalesce at NativeMethodAccessorImpl.java:-2"
       ]
      }
     ],
     "prompt_number": 4
    },
    {
     "cell_type": "heading",
     "level": 4,
     "metadata": {},
     "source": [
      "Persist result"
     ]
    },
    {
     "cell_type": "code",
     "collapsed": false,
     "input": [
      "small.cache()"
     ],
     "language": "python",
     "metadata": {},
     "outputs": [
      {
       "metadata": {},
       "output_type": "pyout",
       "prompt_number": 5,
       "text": [
        "PythonRDD[3] at RDD at PythonRDD.scala:43"
       ]
      }
     ],
     "prompt_number": 5
    },
    {
     "cell_type": "markdown",
     "metadata": {},
     "source": [
      "Reading all of the PLD graph takes 300 seconds. Disk read time is not the issue here. This time is necessary even when the whole 11GB of the dataset are cached in memory."
     ]
    },
    {
     "cell_type": "code",
     "collapsed": false,
     "input": [
      "small.count()"
     ],
     "language": "python",
     "metadata": {},
     "outputs": [
      {
       "metadata": {},
       "output_type": "pyout",
       "prompt_number": 6,
       "text": [
        "623056313"
       ]
      }
     ],
     "prompt_number": 6
    },
    {
     "cell_type": "code",
     "collapsed": false,
     "input": [
      "small.take(10)"
     ],
     "language": "python",
     "metadata": {},
     "outputs": [
      {
       "metadata": {},
       "output_type": "pyout",
       "prompt_number": 7,
       "text": [
        "[[42280227, 10819943],\n",
        " [42280227, 10819997],\n",
        " [42280227, 10949576],\n",
        " [42280227, 10955421],\n",
        " [42280227, 11077680],\n",
        " [42280227, 11103447],\n",
        " [42280227, 11105734],\n",
        " [42280227, 11106770],\n",
        " [42280227, 11162952],\n",
        " [42280227, 11175901]]"
       ]
      }
     ],
     "prompt_number": 7
    },
    {
     "cell_type": "markdown",
     "metadata": {},
     "source": [
      "Retrieving one edge uniformly at random takes 34 seconds."
     ]
    },
    {
     "cell_type": "code",
     "collapsed": false,
     "input": [
      "small.takeSample(False,1)"
     ],
     "language": "python",
     "metadata": {},
     "outputs": [
      {
       "metadata": {},
       "output_type": "pyout",
       "prompt_number": 5,
       "text": [
        "[[37173597, 26621957]]"
       ]
      }
     ],
     "prompt_number": 5
    },
    {
     "cell_type": "code",
     "collapsed": false,
     "input": [
      "#small = small.coalesce(part)"
     ],
     "language": "python",
     "metadata": {},
     "outputs": [],
     "prompt_number": 8
    },
    {
     "cell_type": "heading",
     "level": 2,
     "metadata": {},
     "source": [
      "Do the eigenvector calculation"
     ]
    },
    {
     "cell_type": "heading",
     "level": 3,
     "metadata": {},
     "source": [
      "Initialize First Iteration"
     ]
    },
    {
     "cell_type": "code",
     "collapsed": false,
     "input": [
      "x1 = small.map(lambda (source, dest): (dest,1)).reduceByKey(add)"
     ],
     "language": "python",
     "metadata": {},
     "outputs": [],
     "prompt_number": 8
    },
    {
     "cell_type": "markdown",
     "metadata": {},
     "source": [
      "The first iteration takes 282 seconds."
     ]
    },
    {
     "cell_type": "code",
     "collapsed": false,
     "input": [
      "x1.cache()\n",
      "x1.count()"
     ],
     "language": "python",
     "metadata": {},
     "outputs": [
      {
       "metadata": {},
       "output_type": "pyout",
       "prompt_number": 9,
       "text": [
        "36165034"
       ]
      }
     ],
     "prompt_number": 9
    },
    {
     "cell_type": "code",
     "collapsed": false,
     "input": [
      "#x1.saveAsTextFile('datasets/wdc/results/full-Iteration1')"
     ],
     "language": "python",
     "metadata": {},
     "outputs": [],
     "prompt_number": 10
    },
    {
     "cell_type": "heading",
     "level": 3,
     "metadata": {},
     "source": [
      "Approximate iteration"
     ]
    },
    {
     "cell_type": "code",
     "collapsed": false,
     "input": [
      "#approxjoin = x1.filter(lambda (k,v): v>2).join(small)\n",
      "#x2 = approxjoin.map(lambda (k,v): (v[1], v[0])).reduceByKey(add)\n",
      "#x2.take(5)"
     ],
     "language": "python",
     "metadata": {},
     "outputs": [],
     "prompt_number": 11
    },
    {
     "cell_type": "heading",
     "level": 3,
     "metadata": {},
     "source": [
      "Exact iteration"
     ]
    },
    {
     "cell_type": "code",
     "collapsed": false,
     "input": [
      "x2 = x1.join(small).map(lambda (k,v): (v[1], v[0])).reduceByKey(add)"
     ],
     "language": "python",
     "metadata": {},
     "outputs": [],
     "prompt_number": 12
    },
    {
     "cell_type": "code",
     "collapsed": false,
     "input": [
      "x2.cache()"
     ],
     "language": "python",
     "metadata": {},
     "outputs": [
      {
       "metadata": {},
       "output_type": "pyout",
       "prompt_number": 13,
       "text": [
        "PythonRDD[26] at RDD at PythonRDD.scala:43"
       ]
      }
     ],
     "prompt_number": 13
    },
    {
     "cell_type": "code",
     "collapsed": false,
     "input": [
      "x2.count()"
     ],
     "language": "python",
     "metadata": {},
     "outputs": [
      {
       "metadata": {},
       "output_type": "pyout",
       "prompt_number": 14,
       "text": [
        "35758561"
       ]
      }
     ],
     "prompt_number": 14
    },
    {
     "cell_type": "heading",
     "level": 3,
     "metadata": {},
     "source": [
      "Third iteration"
     ]
    },
    {
     "cell_type": "code",
     "collapsed": false,
     "input": [
      "x3 = x2.join(small).map(lambda (k,v): (v[1], v[0])).reduceByKey(add)"
     ],
     "language": "python",
     "metadata": {},
     "outputs": [],
     "prompt_number": 15
    },
    {
     "cell_type": "code",
     "collapsed": false,
     "input": [
      "x3.cache()"
     ],
     "language": "python",
     "metadata": {},
     "outputs": [
      {
       "metadata": {},
       "output_type": "pyout",
       "prompt_number": 16,
       "text": [
        "PythonRDD[40] at RDD at PythonRDD.scala:43"
       ]
      }
     ],
     "prompt_number": 16
    },
    {
     "cell_type": "code",
     "collapsed": false,
     "input": [
      "x3.count()"
     ],
     "language": "python",
     "metadata": {},
     "outputs": [
      {
       "metadata": {},
       "output_type": "pyout",
       "prompt_number": 17,
       "text": [
        "35725109"
       ]
      }
     ],
     "prompt_number": 17
    },
    {
     "cell_type": "code",
     "collapsed": false,
     "input": [
      "x3.filter(lambda (k,v): v>0).take(4)"
     ],
     "language": "python",
     "metadata": {},
     "outputs": [
      {
       "metadata": {},
       "output_type": "pyout",
       "prompt_number": 18,
       "text": [
        "[(39321600, 158103556),\n",
        " (34406400, 154865889),\n",
        " (30433800, 108041799),\n",
        " (40763400, 36564358)]"
       ]
      }
     ],
     "prompt_number": 18
    },
    {
     "cell_type": "heading",
     "level": 3,
     "metadata": {},
     "source": [
      "Fourth Iteration"
     ]
    },
    {
     "cell_type": "code",
     "collapsed": false,
     "input": [
      "x4 = x3.join(small).map(lambda (k,v): (v[1], v[0])).reduceByKey(add)"
     ],
     "language": "python",
     "metadata": {},
     "outputs": [],
     "prompt_number": 19
    },
    {
     "cell_type": "code",
     "collapsed": false,
     "input": [
      "x4.cache()"
     ],
     "language": "python",
     "metadata": {},
     "outputs": [
      {
       "metadata": {},
       "output_type": "pyout",
       "prompt_number": 20,
       "text": [
        "PythonRDD[56] at RDD at PythonRDD.scala:43"
       ]
      }
     ]
    },
    {
     "cell_type": "code",
     "collapsed": false,
     "input": [
      "x4.count()"
     ],
     "language": "python",
     "metadata": {},
     "outputs": [
      {
       "metadata": {},
       "output_type": "pyout",
       "prompt_number": 33,
       "text": [
        "35721635"
       ]
      }
     ],
     "prompt_number": 33
    },
    {
     "cell_type": "heading",
     "level": 4,
     "metadata": {},
     "source": [
      "Show top domains"
     ]
    },
    {
     "cell_type": "code",
     "collapsed": false,
     "input": [
      "x4.filter(lambda (k,v): v>10000).take(4)"
     ],
     "language": "python",
     "metadata": {},
     "outputs": []
    },
    {
     "cell_type": "code",
     "collapsed": false,
     "input": [
      "names = sc.textFile('datasets/wdc/pld-index')"
     ],
     "language": "python",
     "metadata": {},
     "outputs": []
    },
    {
     "cell_type": "code",
     "collapsed": false,
     "input": [
      "def indexline(line):\n",
      "    parts = line.split('\\t')\n",
      "    return (int(parts[1]), parts[0])"
     ],
     "language": "python",
     "metadata": {},
     "outputs": []
    },
    {
     "cell_type": "code",
     "collapsed": false,
     "input": [
      "index = names.map(indexline).filter(lambda (k,v): k<size)"
     ],
     "language": "python",
     "metadata": {},
     "outputs": []
    },
    {
     "cell_type": "code",
     "collapsed": false,
     "input": [
      "index.cache()\n",
      "index.takeSample(True, 10)"
     ],
     "language": "python",
     "metadata": {},
     "outputs": [
      {
       "metadata": {},
       "output_type": "pyout",
       "prompt_number": 34,
       "text": [
        "[(23677940, u'machine-a-coudre.fr'),\n",
        " (24961200, u'metalpolish.co.uk'),\n",
        " (36409402, u'supersingles.us'),\n",
        " (33877272, u'serckgulf.com'),\n",
        " (40229900, u'vieux-papiers-en-aquitaine.com'),\n",
        " (42781095, u'zodiaccasino.fr'),\n",
        " (7002132, u'cashcardpartner.com'),\n",
        " (14698176, u'froehlicher-jaeger-schoenbrunn.de'),\n",
        " (30077800, u'polishprincessguesthouse.com'),\n",
        " (13440989, u'fastlinetrailers.com')]"
       ]
      }
     ],
     "prompt_number": 34
    },
    {
     "cell_type": "code",
     "collapsed": false,
     "input": [
      "topnodes = index.join(x4.filter(lambda (k,v): v>1e13))"
     ],
     "language": "python",
     "metadata": {},
     "outputs": [],
     "prompt_number": 36
    },
    {
     "cell_type": "code",
     "collapsed": false,
     "input": [],
     "language": "python",
     "metadata": {},
     "outputs": [],
     "prompt_number": 36
    },
    {
     "cell_type": "code",
     "collapsed": false,
     "input": [
      "topnodes.cache()\n",
      "topnodes.takeSample(True, 10)"
     ],
     "language": "python",
     "metadata": {},
     "outputs": [
      {
       "metadata": {},
       "output_type": "pyout",
       "prompt_number": 37,
       "text": [
        "[(25211665, (u'mikeinmanila.com', 2654763635822)),\n",
        " (27182958, (u'nickalexander.com', 3542476538084)),\n",
        " (15000403, (u'galerie-menssen.de', 1363316527039)),\n",
        " (25346525, (u'minnesotasexjunkies.com', 2851631892297)),\n",
        " (23519682, (u'luluamere.com', 1588239707084)),\n",
        " (3328819, (u'asya-boracay.com', 3242683275162)),\n",
        " (24690260, (u'medicalanthropology.de', 1468024185419)),\n",
        " (38064877, (u'thomasdelgadophotography.com', 1533607610033)),\n",
        " (27440888, (u'nordwallart.com', 1918370961438)),\n",
        " (8967422, (u'cortaxx.dj', 1156822148063))]"
       ]
      }
     ],
     "prompt_number": 37
    },
    {
     "cell_type": "code",
     "collapsed": false,
     "input": [
      "toptopnodes = topnodes.filter(lambda (k,v): v[1]>2e14 )"
     ],
     "language": "python",
     "metadata": {},
     "outputs": [],
     "prompt_number": 44
    },
    {
     "cell_type": "code",
     "collapsed": false,
     "input": [
      "toptopnodes = topnodes.map(lambda (k,v): v ).filter(lambda (k,v): v>2e14 )"
     ],
     "language": "python",
     "metadata": {},
     "outputs": [],
     "prompt_number": 47
    },
    {
     "cell_type": "code",
     "collapsed": false,
     "input": [
      "toptopnodes.sortBy(lambda (k,v): v, ascending=False).take(10)"
     ],
     "language": "python",
     "metadata": {},
     "outputs": [
      {
       "metadata": {},
       "output_type": "pyout",
       "prompt_number": 52,
       "text": [
        "[(u'youtube.com', 502864237104642),\n",
        " (u'blogspot.com', 439168675281400),\n",
        " (u'wikipedia.org', 437632300304926),\n",
        " (u'wordpress.com', 354533309810191),\n",
        " (u'twitter.com', 321621487641470),\n",
        " (u'google.com', 316954200717974),\n",
        " (u'wordpress.org', 261834810761354),\n",
        " (u'yahoo.com', 256625973061667),\n",
        " (u'flickr.com', 234581199631868),\n",
        " (u'apple.com', 233605448245758)]"
       ]
      }
     ],
     "prompt_number": 52
    },
    {
     "cell_type": "code",
     "collapsed": false,
     "input": [],
     "language": "python",
     "metadata": {},
     "outputs": []
    },
    {
     "cell_type": "heading",
     "level": 3,
     "metadata": {},
     "source": [
      "TODO: Plot the masses on first 3 steps for top nodes"
     ]
    },
    {
     "cell_type": "code",
     "collapsed": false,
     "input": [
      "x4.foreachPartition?"
     ],
     "language": "python",
     "metadata": {},
     "outputs": []
    },
    {
     "cell_type": "code",
     "collapsed": false,
     "input": [],
     "language": "python",
     "metadata": {},
     "outputs": []
    }
   ],
   "metadata": {}
  }
 ]
}