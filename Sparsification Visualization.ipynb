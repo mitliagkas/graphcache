{
 "metadata": {
  "name": "",
  "signature": "sha256:f119df7b8c8b13b62bf65592be10cd0891a352389e3e4b6e3d3338444e8ee960"
 },
 "nbformat": 3,
 "nbformat_minor": 0,
 "worksheets": [
  {
   "cells": [
    {
     "cell_type": "code",
     "collapsed": true,
     "input": [
      "import networkx as nx\n",
      "import math\n",
      "import numpy as np"
     ],
     "language": "python",
     "metadata": {},
     "outputs": [],
     "prompt_number": 1
    },
    {
     "cell_type": "code",
     "collapsed": false,
     "input": [
      "from IPython.display import Javascript"
     ],
     "language": "python",
     "metadata": {},
     "outputs": [],
     "prompt_number": 2
    },
    {
     "cell_type": "heading",
     "level": 4,
     "metadata": {},
     "source": [
      " Load data"
     ]
    },
    {
     "cell_type": "code",
     "collapsed": false,
     "input": [
      "lastnode = 30000"
     ],
     "language": "python",
     "metadata": {},
     "outputs": [],
     "prompt_number": 123
    },
    {
     "cell_type": "code",
     "collapsed": true,
     "input": [
      "datafile = open('/var/datasets/wdc/small-pld-arc')\n",
      "\n",
      "G = nx.DiGraph()\n",
      "\n",
      "for line in datafile:\n",
      "    ijstr = line.split('\\t')\n",
      "    \n",
      "    i=int(ijstr[0])\n",
      "    j=int(ijstr[1])\n",
      "    \n",
      "    if i>lastnode:\n",
      "        break\n",
      "    if j>lastnode:\n",
      "        continue\n",
      "    G.add_edge(i,j)\n",
      "    \n",
      "datafile.close()\n",
      "Gorig = G.copy()"
     ],
     "language": "python",
     "metadata": {},
     "outputs": [],
     "prompt_number": 124
    },
    {
     "cell_type": "code",
     "collapsed": false,
     "input": [
      "indexfile = open('/var/datasets/wdc/small-pld-index')\n",
      "index = {}\n",
      "\n",
      "for line in indexfile:\n",
      "    namei = line.split('\\t')\n",
      "    \n",
      "    name=namei[0]\n",
      "    i=int(namei[1])\n",
      "    \n",
      "    if i>lastnode:\n",
      "        break\n",
      "\n",
      "    index[i]=name\n",
      "    \n",
      "indexfile.close()"
     ],
     "language": "python",
     "metadata": {},
     "outputs": [],
     "prompt_number": 125
    },
    {
     "cell_type": "code",
     "collapsed": false,
     "input": [
      "def cleanupgraph(G):\n",
      "    comp = nx.weakly_connected_components(G.copy())\n",
      "    for c in comp:\n",
      "        if len(c)<4:\n",
      "            G.remove_nodes_from(c)"
     ],
     "language": "python",
     "metadata": {},
     "outputs": [],
     "prompt_number": 126
    },
    {
     "cell_type": "code",
     "collapsed": true,
     "input": [
      "def graphcleanup(G):\n",
      "    for (node, deg) in G.degree_iter():\n",
      "            if deg==0:\n",
      "                G.remove_node(node)\n",
      "            elif deg==1:\n",
      "                if G.degree((G.predecessors(node) + G.successors(node))[0]) == 1:\n",
      "                    G.remove_node(node)\n",
      "            elif deg==2 and G.in_degree(node)==1:\n",
      "                if (G.predecessors(node) == G.successors(node)) and G.degree((G.predecessors(node) + G.successors(node))[0]) == 2:\n",
      "                    G.remove_node(node)"
     ],
     "language": "python",
     "metadata": {},
     "outputs": [],
     "prompt_number": 127
    },
    {
     "cell_type": "code",
     "collapsed": false,
     "input": [
      "cleanupgraph(G)"
     ],
     "language": "python",
     "metadata": {},
     "outputs": [],
     "prompt_number": 128
    },
    {
     "cell_type": "code",
     "collapsed": true,
     "input": [
      "G.size()"
     ],
     "language": "python",
     "metadata": {},
     "outputs": [
      {
       "metadata": {},
       "output_type": "pyout",
       "prompt_number": 129,
       "text": [
        "28264"
       ]
      }
     ],
     "prompt_number": 129
    },
    {
     "cell_type": "code",
     "collapsed": false,
     "input": [
      "Gorig.number_of_nodes()"
     ],
     "language": "python",
     "metadata": {},
     "outputs": [
      {
       "metadata": {},
       "output_type": "pyout",
       "prompt_number": 130,
       "text": [
        "5898"
       ]
      }
     ],
     "prompt_number": 130
    },
    {
     "cell_type": "code",
     "collapsed": false,
     "input": [
      "Gorig.size()"
     ],
     "language": "python",
     "metadata": {},
     "outputs": [
      {
       "metadata": {},
       "output_type": "pyout",
       "prompt_number": 131,
       "text": [
        "29727"
       ]
      }
     ],
     "prompt_number": 131
    },
    {
     "cell_type": "heading",
     "level": 3,
     "metadata": {},
     "source": [
      "Convert to Javascript for interactivity"
     ]
    },
    {
     "cell_type": "markdown",
     "metadata": {},
     "source": [
      "Adapted from:\n",
      "http://nbviewer.ipython.org/github/ipython-books/cookbook-code/blob/master/notebooks/chapter06_viz/04_d3.ipynb"
     ]
    },
    {
     "cell_type": "markdown",
     "metadata": {},
     "source": [
      "From:\n",
      "http://networkx.github.io/documentation/latest/examples/javascript/force.html"
     ]
    },
    {
     "cell_type": "code",
     "collapsed": true,
     "input": [
      "#from IPython.core.display import display_javascript\n",
      "import json\n",
      "from networkx.readwrite import json_graph"
     ],
     "language": "python",
     "metadata": {},
     "outputs": [],
     "prompt_number": 99
    },
    {
     "cell_type": "code",
     "collapsed": false,
     "input": [
      "d = json_graph.node_link_data(G)\n",
      "for node in d['nodes']:\n",
      "    node['name']=index[node['id']]\n",
      "    node['value']=G.in_degree(node['id'])\n",
      "    node['group']=index[node['id']][-3:]\n",
      "\n",
      "json.dump(d, open('graph.json','w'))"
     ],
     "language": "python",
     "metadata": {},
     "outputs": [],
     "prompt_number": 100
    },
    {
     "cell_type": "code",
     "collapsed": false,
     "input": [
      "%%html\n",
      "<div id=\"d3-example\"></div>\n",
      "<style>\n",
      ".node {stroke: #fff; stroke-width: 1.5px;}\n",
      ".link {stroke: #999; stroke-opacity: .6;}\n",
      "</style>"
     ],
     "language": "python",
     "metadata": {},
     "outputs": [
      {
       "html": [
        "<div id=\"d3-example\"></div>\n",
        "<style>\n",
        ".node {stroke: #fff; stroke-width: 1.5px;}\n",
        ".link {stroke: #999; stroke-opacity: .6;}\n",
        "</style>"
       ],
       "metadata": {},
       "output_type": "display_data",
       "text": [
        "<IPython.core.display.HTML at 0x106e54190>"
       ]
      }
     ],
     "prompt_number": 148
    },
    {
     "cell_type": "markdown",
     "metadata": {},
     "source": [
      "Uses:\n",
      "https://github.com/mbostock/d3/wiki/Force-Layout\n",
      "\n",
      "http://bl.ocks.org/mbostock/4062045"
     ]
    },
    {
     "cell_type": "code",
     "collapsed": false,
     "input": [
      "Javascript(filename='force.js')"
     ],
     "language": "python",
     "metadata": {},
     "outputs": [
      {
       "javascript": [
        "// We load the d3.js library from the Web.\n",
        "require.config({paths: {d3: \"http://d3js.org/d3.v3.min\"}});\n",
        "require([\"d3\"], function(d3) {\n",
        "    // The code in this block is executed when the \n",
        "    // d3.js library has been loaded.\n",
        "    \n",
        "    // First, we specify the size of the canvas containing\n",
        "    // the visualization (size of the <div> element).\n",
        "    var width = 700,\n",
        "        height = 700;\n",
        "\n",
        "    // We create a color scale.\n",
        "    var color = d3.scale.category20();\n",
        "\n",
        "    // We create a force-directed dynamic graph layout.\n",
        "    var force = d3.layout.force()\n",
        "        .charge(-60)\n",
        "        .linkDistance(30)\n",
        "        .linkStrength(0.9)\n",
        "        .gravity(0.35)\n",
        "        .theta(0.95)\n",
        "        .size([width, height]);\n",
        "\n",
        "    // In the <div> element, we create a <svg> graphic\n",
        "    // that will contain our interactive visualization.\n",
        "    var svg = d3.select(\"#d3-example\").select(\"svg\")\n",
        "    if (svg.empty()) {\n",
        "        svg = d3.select(\"#d3-example\").append(\"svg\")\n",
        "                    .attr(\"width\", width)\n",
        "                    .attr(\"height\", height);\n",
        "    }\n",
        "        \n",
        "    // We load the JSON file.\n",
        "    d3.json(\"graph.json?nocache=\" + (new Date()).getTime(), function(error, graph) {\n",
        "        // In this block, the file has been loaded\n",
        "        // and the 'graph' object contains our graph.\n",
        "        \n",
        "        // We load the nodes and links in the force-directed\n",
        "        // graph.\n",
        "        force.nodes(graph.nodes)\n",
        "            .links(graph.links)\n",
        "            .start();\n",
        "\n",
        "        // We create a <line> SVG element for each link\n",
        "        // in the graph.\n",
        "        var link = svg.selectAll(\".link\")\n",
        "            .data(graph.links)\n",
        "            .enter().append(\"line\")\n",
        "            .attr(\"class\", \"link\");\n",
        "            //.style(\"stroke-width\", function(d) { return Math.sqrt(d.value); });\n",
        "\n",
        "\n",
        "        // We create a <circle> SVG element for each node\n",
        "        // in the graph, and we specify a few attributes.\n",
        "        var node = svg.selectAll(\".node\")\n",
        "            .data(graph.nodes)\n",
        "            .enter().append(\"circle\")\n",
        "            .attr(\"class\", \"node\")\n",
        "            .attr(\"r\", function(d) { return Math.log(d.value+1)+3; })  // radius  .attr(\"r\", 5) \n",
        "            .style(\"fill\", function(d) {\n",
        "                // The node color depends on the club.\n",
        "                return color(d.group); \n",
        "            })\n",
        "            .call(force.drag);\n",
        "\n",
        "        // The name of each node is the node number.\n",
        "        node.append(\"title\")\n",
        "            .text(function(d) { return d.name; });\n",
        "\n",
        "        // We bind the positions of the SVG elements\n",
        "        // to the positions of the dynamic force-directed graph,\n",
        "        // at each time step.\n",
        "        force.on(\"tick\", function() {\n",
        "            link.attr(\"x1\", function(d) { return d.source.x; })\n",
        "                .attr(\"y1\", function(d) { return d.source.y; })\n",
        "                .attr(\"x2\", function(d) { return d.target.x; })\n",
        "                .attr(\"y2\", function(d) { return d.target.y; });\n",
        "\n",
        "            node.attr(\"cx\", function(d) { return d.x; })\n",
        "                .attr(\"cy\", function(d) { return d.y; });\n",
        "        });\n",
        "    });\n",
        "});\n"
       ],
       "metadata": {},
       "output_type": "pyout",
       "prompt_number": 149,
       "text": [
        "<IPython.core.display.Javascript at 0x106e54450>"
       ]
      }
     ],
     "prompt_number": 149
    },
    {
     "cell_type": "code",
     "collapsed": false,
     "input": [],
     "language": "python",
     "metadata": {},
     "outputs": [],
     "prompt_number": 50
    },
    {
     "cell_type": "code",
     "collapsed": true,
     "input": [
      "L = nx.linalg.laplacianmatrix.directed_laplacian_matrix(G)\n",
      "Linv = np.linalg.inv(L)"
     ],
     "language": "python",
     "metadata": {},
     "outputs": [],
     "prompt_number": 132
    },
    {
     "cell_type": "code",
     "collapsed": false,
     "input": [
      "L.shape"
     ],
     "language": "python",
     "metadata": {},
     "outputs": [
      {
       "metadata": {},
       "output_type": "pyout",
       "prompt_number": 133,
       "text": [
        "(3791, 3791)"
       ]
      }
     ],
     "prompt_number": 133
    },
    {
     "cell_type": "code",
     "collapsed": false,
     "input": [
      "n = L.shape[0]\n",
      "Reff = np.zeros((n,n))"
     ],
     "language": "python",
     "metadata": {},
     "outputs": [],
     "prompt_number": 134
    },
    {
     "cell_type": "code",
     "collapsed": false,
     "input": [
      "Gsparse = G.copy()"
     ],
     "language": "python",
     "metadata": {},
     "outputs": [],
     "prompt_number": 135
    },
    {
     "cell_type": "code",
     "collapsed": false,
     "input": [
      "graphcleanup(Gsparse)"
     ],
     "language": "python",
     "metadata": {},
     "outputs": [],
     "prompt_number": 136
    },
    {
     "cell_type": "code",
     "collapsed": true,
     "input": [
      "nodelookup={Gsparse.nodes()[idx]:idx for idx in range(len(Gsparse.nodes()))}"
     ],
     "language": "python",
     "metadata": {},
     "outputs": [],
     "prompt_number": 137
    },
    {
     "cell_type": "code",
     "collapsed": false,
     "input": [
      "edge = np.zeros((n,1))\n",
      "for (i,j) in Gsparse.edges_iter():\n",
      "    edge[nodelookup[i]] = 1\n",
      "    edge[nodelookup[j]] = -1\n",
      "    Reff[nodelookup[i],nodelookup[j]] = edge.T.dot(Linv.dot(edge))\n",
      "    edge[[nodelookup[i]]] = 0\n",
      "    edge[[nodelookup[j]]] = 0"
     ],
     "language": "python",
     "metadata": {},
     "outputs": [],
     "prompt_number": 138
    },
    {
     "cell_type": "code",
     "collapsed": false,
     "input": [
      "ReffAbs=np.abs(Reff)+np.abs(Reff.T)"
     ],
     "language": "python",
     "metadata": {},
     "outputs": [],
     "prompt_number": 139
    },
    {
     "cell_type": "markdown",
     "metadata": {},
     "source": [
      "If you call\n",
      "\n",
      "arr.argsort()[:3]\n",
      "It will give you the indices of the 3 smallest elements.\n",
      "\n",
      "array([0, 2, 1], dtype=int64)\n",
      "So, for n, you should call\n",
      "\n",
      "arr.argsort()[:n]"
     ]
    },
    {
     "cell_type": "code",
     "collapsed": false,
     "input": [
      "res = ReffAbs.reshape(n**2)\n",
      "argp = np.argpartition(res,n**2-n)"
     ],
     "language": "python",
     "metadata": {},
     "outputs": [],
     "prompt_number": 140
    },
    {
     "cell_type": "code",
     "collapsed": false,
     "input": [
      "mask = (ReffAbs < res[argp[-Gsparse.number_of_nodes()]]) & (ReffAbs >0)\n",
      "for (i,j) in Gsparse.edges():\n",
      "    if mask[nodelookup[i],nodelookup[j]]:\n",
      "        Gsparse.remove_edge(i,j)"
     ],
     "language": "python",
     "metadata": {},
     "outputs": [],
     "prompt_number": 141
    },
    {
     "cell_type": "code",
     "collapsed": false,
     "input": [
      "cleanupgraph(Gsparse)"
     ],
     "language": "python",
     "metadata": {},
     "outputs": [],
     "prompt_number": 142
    },
    {
     "cell_type": "code",
     "collapsed": false,
     "input": [
      "d = json_graph.node_link_data(Gsparse)\n",
      "for node in d['nodes']:\n",
      "    node['name']=index[node['id']]\n",
      "    node['value']=Gsparse.degree(node['id'])\n",
      "    node['group']=index[node['id']][-3:]\n",
      "\n",
      "json.dump(d, open('graph.json','w'))"
     ],
     "language": "python",
     "metadata": {},
     "outputs": [],
     "prompt_number": 144
    },
    {
     "cell_type": "code",
     "collapsed": false,
     "input": [
      "Gorig.number_of_edges()"
     ],
     "language": "python",
     "metadata": {},
     "outputs": [
      {
       "metadata": {},
       "output_type": "pyout",
       "prompt_number": 145,
       "text": [
        "29727"
       ]
      }
     ],
     "prompt_number": 145
    },
    {
     "cell_type": "code",
     "collapsed": false,
     "input": [
      "Gsparse.number_of_edges()"
     ],
     "language": "python",
     "metadata": {},
     "outputs": [
      {
       "metadata": {},
       "output_type": "pyout",
       "prompt_number": 146,
       "text": [
        "3406"
       ]
      }
     ],
     "prompt_number": 146
    },
    {
     "cell_type": "code",
     "collapsed": false,
     "input": [
      "Gsparse.number_of_nodes()"
     ],
     "language": "python",
     "metadata": {},
     "outputs": [
      {
       "metadata": {},
       "output_type": "pyout",
       "prompt_number": 147,
       "text": [
        "547"
       ]
      }
     ],
     "prompt_number": 147
    },
    {
     "cell_type": "code",
     "collapsed": false,
     "input": [],
     "language": "python",
     "metadata": {},
     "outputs": [],
     "prompt_number": 79
    },
    {
     "cell_type": "code",
     "collapsed": false,
     "input": [
      "GsparseAdj = nx.linalg.adjacency_matrix(Gorig).toarray()\n",
      "GsparseAdj = nx.to_numpy_matrix(Gorig)\n",
      "GsparseAdj[ReffAbs < res[argp[-300]]] = 0\n",
      "Gsparse = nx.from_numpy_matrix?\n",
      "Gsparse = nx.from_numpy_matrix\n",
      "Gsparse = nx.from_numpy_matrix(GsparseAdj, create_using=nx.DiGraph())"
     ],
     "language": "python",
     "metadata": {},
     "outputs": [],
     "prompt_number": 110
    },
    {
     "cell_type": "code",
     "collapsed": false,
     "input": [
      "edge = np.zeros((n,1))\n",
      "for i in range(n):\n",
      "    if i % int(math.ceil((float(10)/100)*n)) == 0: \n",
      "        print int(math.floor(100*float(i)/n)), '%'\n",
      "        \n",
      "    edge[i] = 1\n",
      "\n",
      "    for j in range(i+1, n):\n",
      "        edge[j] = -1\n",
      "        Reff[i,j] = edge.T.dot(Linv.dot(edge))\n",
      "        edge[j] = 0\n",
      "        \n",
      "    edge[i] = 0"
     ],
     "language": "python",
     "metadata": {},
     "outputs": [
      {
       "output_type": "stream",
       "stream": "stdout",
       "text": [
        "0 %\n",
        "10"
       ]
      },
      {
       "output_type": "stream",
       "stream": "stdout",
       "text": [
        " %\n",
        "20"
       ]
      },
      {
       "output_type": "stream",
       "stream": "stdout",
       "text": [
        " %\n",
        "30"
       ]
      },
      {
       "output_type": "stream",
       "stream": "stdout",
       "text": [
        " %\n",
        "40"
       ]
      },
      {
       "output_type": "stream",
       "stream": "stdout",
       "text": [
        " %\n",
        "50"
       ]
      },
      {
       "output_type": "stream",
       "stream": "stdout",
       "text": [
        " %\n",
        "61"
       ]
      },
      {
       "output_type": "stream",
       "stream": "stdout",
       "text": [
        " %\n",
        "71"
       ]
      },
      {
       "output_type": "stream",
       "stream": "stdout",
       "text": [
        " %\n",
        "81"
       ]
      },
      {
       "output_type": "stream",
       "stream": "stdout",
       "text": [
        " %\n",
        "91"
       ]
      },
      {
       "output_type": "stream",
       "stream": "stdout",
       "text": [
        " %\n"
       ]
      }
     ],
     "prompt_number": 223
    }
   ],
   "metadata": {}
  }
 ]
}