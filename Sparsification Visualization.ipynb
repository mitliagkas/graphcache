{
 "metadata": {
  "name": "",
  "signature": "sha256:f63281e07992c8a39bacde2cdc1156f61c20dfd954c48f87471af1656344758d"
 },
 "nbformat": 3,
 "nbformat_minor": 0,
 "worksheets": [
  {
   "cells": [
    {
     "cell_type": "code",
     "collapsed": true,
     "input": [
      "import networkx as nx\n",
      "import math\n",
      "import numpy as np"
     ],
     "language": "python",
     "metadata": {},
     "outputs": [],
     "prompt_number": 54
    },
    {
     "cell_type": "heading",
     "level": 4,
     "metadata": {},
     "source": [
      " Load data"
     ]
    },
    {
     "cell_type": "code",
     "collapsed": false,
     "input": [
      "lastnode = 10000"
     ],
     "language": "python",
     "metadata": {},
     "outputs": [],
     "prompt_number": 55
    },
    {
     "cell_type": "code",
     "collapsed": true,
     "input": [
      "datafile = open('/var/datasets/wdc/small-pld-arc')\n",
      "\n",
      "G = nx.DiGraph()\n",
      "\n",
      "for line in datafile:\n",
      "    ijstr = line.split('\\t')\n",
      "    \n",
      "    i=int(ijstr[0])\n",
      "    j=int(ijstr[1])\n",
      "    \n",
      "    if i>lastnode:\n",
      "        break\n",
      "    if j>lastnode:\n",
      "        continue\n",
      "    G.add_edge(i,j)\n",
      "    \n",
      "datafile.close()\n",
      "Gorig = G.copy()"
     ],
     "language": "python",
     "metadata": {},
     "outputs": [],
     "prompt_number": 56
    },
    {
     "cell_type": "code",
     "collapsed": false,
     "input": [
      "indexfile = open('/var/datasets/wdc/small-pld-index')\n",
      "index = {}\n",
      "\n",
      "for line in indexfile:\n",
      "    namei = line.split('\\t')\n",
      "    \n",
      "    name=namei[0]\n",
      "    i=int(namei[1])\n",
      "    \n",
      "    if i>lastnode:\n",
      "        break\n",
      "\n",
      "    index[i]=name\n",
      "    \n",
      "indexfile.close()"
     ],
     "language": "python",
     "metadata": {},
     "outputs": [],
     "prompt_number": 57
    },
    {
     "cell_type": "code",
     "collapsed": false,
     "input": [
      "def cleanupgraph(G):\n",
      "    comp = nx.weakly_connected_components(G.copy())\n",
      "    for c in comp:\n",
      "        if len(c)<4:\n",
      "            G.remove_nodes_from(c)"
     ],
     "language": "python",
     "metadata": {},
     "outputs": [],
     "prompt_number": 58
    },
    {
     "cell_type": "code",
     "collapsed": true,
     "input": [
      "def graphcleanup(G):\n",
      "    for (node, deg) in G.degree_iter():\n",
      "            if deg==0:\n",
      "                G.remove_node(node)\n",
      "            elif deg==1:\n",
      "                if G.degree((G.predecessors(node) + G.successors(node))[0]) == 1:\n",
      "                    G.remove_node(node)\n",
      "            elif deg==2 and G.in_degree(node)==1:\n",
      "                if (G.predecessors(node) == G.successors(node)) and G.degree((G.predecessors(node) + G.successors(node))[0]) == 2:\n",
      "                    G.remove_node(node)"
     ],
     "language": "python",
     "metadata": {},
     "outputs": [],
     "prompt_number": 59
    },
    {
     "cell_type": "code",
     "collapsed": false,
     "input": [
      "cleanupgraph(G)"
     ],
     "language": "python",
     "metadata": {},
     "outputs": [],
     "prompt_number": 60
    },
    {
     "cell_type": "code",
     "collapsed": true,
     "input": [
      "G.size()"
     ],
     "language": "python",
     "metadata": {},
     "outputs": [
      {
       "metadata": {},
       "output_type": "pyout",
       "prompt_number": 61,
       "text": [
        "2032"
       ]
      }
     ],
     "prompt_number": 61
    },
    {
     "cell_type": "code",
     "collapsed": false,
     "input": [
      "Gorig.number_of_nodes()"
     ],
     "language": "python",
     "metadata": {},
     "outputs": [
      {
       "metadata": {},
       "output_type": "pyout",
       "prompt_number": 62,
       "text": [
        "1049"
       ]
      }
     ],
     "prompt_number": 62
    },
    {
     "cell_type": "code",
     "collapsed": false,
     "input": [
      "Gorig.size()"
     ],
     "language": "python",
     "metadata": {},
     "outputs": [
      {
       "metadata": {},
       "output_type": "pyout",
       "prompt_number": 63,
       "text": [
        "2419"
       ]
      }
     ],
     "prompt_number": 63
    },
    {
     "cell_type": "heading",
     "level": 3,
     "metadata": {},
     "source": [
      "Convert to Javascript for interactivity"
     ]
    },
    {
     "cell_type": "markdown",
     "metadata": {},
     "source": [
      "Adapted from:\n",
      "http://nbviewer.ipython.org/github/ipython-books/cookbook-code/blob/master/notebooks/chapter06_viz/04_d3.ipynb"
     ]
    },
    {
     "cell_type": "markdown",
     "metadata": {},
     "source": [
      "From:\n",
      "http://networkx.github.io/documentation/latest/examples/javascript/force.html"
     ]
    },
    {
     "cell_type": "code",
     "collapsed": true,
     "input": [
      "#from IPython.core.display import display_javascript\n",
      "import json\n",
      "from networkx.readwrite import json_graph"
     ],
     "language": "python",
     "metadata": {},
     "outputs": [],
     "prompt_number": 64
    },
    {
     "cell_type": "code",
     "collapsed": false,
     "input": [
      "d = json_graph.node_link_data(G)\n",
      "for node in d['nodes']:\n",
      "    node['name']=index[node['id']]\n",
      "    node['value']=G.in_degree(node['id'])\n",
      "    node['group']=index[node['id']][-3:]\n",
      "\n",
      "json.dump(d, open('graph.json','w'))"
     ],
     "language": "python",
     "metadata": {},
     "outputs": [],
     "prompt_number": 65
    },
    {
     "cell_type": "code",
     "collapsed": false,
     "input": [
      "%%html\n",
      "<div id=\"d3-example\"></div>\n",
      "<style>\n",
      ".node {stroke: #fff; stroke-width: 1.5px;}\n",
      ".link {stroke: #999; stroke-opacity: .6;}\n",
      "</style>\n",
      "<script src=\"force.js\"></script>"
     ],
     "language": "python",
     "metadata": {},
     "outputs": [
      {
       "html": [
        "<div id=\"d3-example\"></div>\n",
        "<style>\n",
        ".node {stroke: #fff; stroke-width: 1.5px;}\n",
        ".link {stroke: #999; stroke-opacity: .6;}\n",
        "</style>\n",
        "<script src=\"force.js\"></script>"
       ],
       "metadata": {},
       "output_type": "display_data",
       "text": [
        "<IPython.core.display.HTML at 0x1065e4c50>"
       ]
      }
     ],
     "prompt_number": 66
    },
    {
     "cell_type": "markdown",
     "metadata": {},
     "source": [
      "Uses:\n",
      "https://github.com/mbostock/d3/wiki/Force-Layout\n",
      "\n",
      "http://bl.ocks.org/mbostock/4062045"
     ]
    },
    {
     "cell_type": "code",
     "collapsed": true,
     "input": [
      "L = nx.linalg.laplacianmatrix.directed_laplacian_matrix(G)\n",
      "Linv = np.linalg.inv(L)"
     ],
     "language": "python",
     "metadata": {},
     "outputs": [],
     "prompt_number": 36
    },
    {
     "cell_type": "code",
     "collapsed": false,
     "input": [
      "L.shape"
     ],
     "language": "python",
     "metadata": {},
     "outputs": [
      {
       "metadata": {},
       "output_type": "pyout",
       "prompt_number": 37,
       "text": [
        "(510, 510)"
       ]
      }
     ],
     "prompt_number": 37
    },
    {
     "cell_type": "code",
     "collapsed": false,
     "input": [
      "n = L.shape[0]\n",
      "Reff = np.zeros((n,n))"
     ],
     "language": "python",
     "metadata": {},
     "outputs": [],
     "prompt_number": 38
    },
    {
     "cell_type": "code",
     "collapsed": false,
     "input": [
      "Gsparse = G.copy()"
     ],
     "language": "python",
     "metadata": {},
     "outputs": [],
     "prompt_number": 39
    },
    {
     "cell_type": "code",
     "collapsed": false,
     "input": [
      "graphcleanup(Gsparse)"
     ],
     "language": "python",
     "metadata": {},
     "outputs": [],
     "prompt_number": 40
    },
    {
     "cell_type": "code",
     "collapsed": true,
     "input": [
      "nodelookup={Gsparse.nodes()[idx]:idx for idx in range(len(Gsparse.nodes()))}"
     ],
     "language": "python",
     "metadata": {},
     "outputs": [],
     "prompt_number": 41
    },
    {
     "cell_type": "code",
     "collapsed": false,
     "input": [
      "edge = np.zeros((n,1))\n",
      "for (i,j) in Gsparse.edges_iter():\n",
      "    edge[nodelookup[i]] = 1\n",
      "    edge[nodelookup[j]] = -1\n",
      "    Reff[nodelookup[i],nodelookup[j]] = edge.T.dot(Linv.dot(edge))\n",
      "    edge[[nodelookup[i]]] = 0\n",
      "    edge[[nodelookup[j]]] = 0"
     ],
     "language": "python",
     "metadata": {},
     "outputs": [],
     "prompt_number": 42
    },
    {
     "cell_type": "code",
     "collapsed": false,
     "input": [
      "ReffAbs=np.abs(Reff)+np.abs(Reff.T)"
     ],
     "language": "python",
     "metadata": {},
     "outputs": [],
     "prompt_number": 43
    },
    {
     "cell_type": "markdown",
     "metadata": {},
     "source": [
      "If you call\n",
      "\n",
      "arr.argsort()[:3]\n",
      "It will give you the indices of the 3 smallest elements.\n",
      "\n",
      "array([0, 2, 1], dtype=int64)\n",
      "So, for n, you should call\n",
      "\n",
      "arr.argsort()[:n]"
     ]
    },
    {
     "cell_type": "code",
     "collapsed": false,
     "input": [
      "res = ReffAbs.reshape(n**2)\n",
      "argp = np.argpartition(res,n**2-n)"
     ],
     "language": "python",
     "metadata": {},
     "outputs": [],
     "prompt_number": 44
    },
    {
     "cell_type": "code",
     "collapsed": false,
     "input": [
      "mask = (ReffAbs < res[argp[-int(0.5*Gsparse.number_of_nodes())]]) & (ReffAbs >0)\n",
      "for (i,j) in Gsparse.edges():\n",
      "    if mask[nodelookup[i],nodelookup[j]]:\n",
      "        Gsparse.remove_edge(i,j)"
     ],
     "language": "python",
     "metadata": {},
     "outputs": [],
     "prompt_number": 45
    },
    {
     "cell_type": "code",
     "collapsed": false,
     "input": [
      "cleanupgraph(Gsparse)"
     ],
     "language": "python",
     "metadata": {},
     "outputs": [],
     "prompt_number": 46
    },
    {
     "cell_type": "code",
     "collapsed": false,
     "input": [
      "d = json_graph.node_link_data(Gsparse)\n",
      "for node in d['nodes']:\n",
      "    node['name']=index[node['id']]\n",
      "    node['value']=Gsparse.degree(node['id'])\n",
      "    node['group']=index[node['id']][-3:]\n",
      "\n",
      "json.dump(d, open('graph.json','w'))"
     ],
     "language": "python",
     "metadata": {},
     "outputs": [],
     "prompt_number": 47
    },
    {
     "cell_type": "code",
     "collapsed": false,
     "input": [
      "Gorig.number_of_edges()"
     ],
     "language": "python",
     "metadata": {},
     "outputs": [
      {
       "metadata": {},
       "output_type": "pyout",
       "prompt_number": 48,
       "text": [
        "2419"
       ]
      }
     ],
     "prompt_number": 48
    },
    {
     "cell_type": "code",
     "collapsed": false,
     "input": [
      "Gsparse.number_of_edges()"
     ],
     "language": "python",
     "metadata": {},
     "outputs": [
      {
       "metadata": {},
       "output_type": "pyout",
       "prompt_number": 49,
       "text": [
        "239"
       ]
      }
     ],
     "prompt_number": 49
    },
    {
     "cell_type": "code",
     "collapsed": false,
     "input": [
      "Gsparse.number_of_nodes()"
     ],
     "language": "python",
     "metadata": {},
     "outputs": [
      {
       "metadata": {},
       "output_type": "pyout",
       "prompt_number": 50,
       "text": [
        "46"
       ]
      }
     ],
     "prompt_number": 50
    },
    {
     "cell_type": "code",
     "collapsed": false,
     "input": [],
     "language": "python",
     "metadata": {},
     "outputs": [],
     "prompt_number": 50
    },
    {
     "cell_type": "code",
     "collapsed": false,
     "input": [
      "GsparseAdj = nx.linalg.adjacency_matrix(Gorig).toarray()\n",
      "GsparseAdj = nx.to_numpy_matrix(Gorig)\n",
      "GsparseAdj[ReffAbs < res[argp[-300]]] = 0\n",
      "Gsparse = nx.from_numpy_matrix?\n",
      "Gsparse = nx.from_numpy_matrix\n",
      "Gsparse = nx.from_numpy_matrix(GsparseAdj, create_using=nx.DiGraph())"
     ],
     "language": "python",
     "metadata": {},
     "outputs": [],
     "prompt_number": 51
    },
    {
     "cell_type": "code",
     "collapsed": false,
     "input": [
      "edge = np.zeros((n,1))\n",
      "for i in range(n):\n",
      "    if i % int(math.ceil((float(10)/100)*n)) == 0: \n",
      "        print int(math.floor(100*float(i)/n)), '%'\n",
      "        \n",
      "    edge[i] = 1\n",
      "\n",
      "    for j in range(i+1, n):\n",
      "        edge[j] = -1\n",
      "        Reff[i,j] = edge.T.dot(Linv.dot(edge))\n",
      "        edge[j] = 0\n",
      "        \n",
      "    edge[i] = 0"
     ],
     "language": "python",
     "metadata": {},
     "outputs": [
      {
       "output_type": "stream",
       "stream": "stdout",
       "text": [
        "0 %\n",
        "10"
       ]
      },
      {
       "output_type": "stream",
       "stream": "stdout",
       "text": [
        " %\n",
        "20"
       ]
      },
      {
       "output_type": "stream",
       "stream": "stdout",
       "text": [
        " %\n",
        "30"
       ]
      },
      {
       "output_type": "stream",
       "stream": "stdout",
       "text": [
        " %\n",
        "40"
       ]
      },
      {
       "output_type": "stream",
       "stream": "stdout",
       "text": [
        " %\n",
        "50"
       ]
      },
      {
       "output_type": "stream",
       "stream": "stdout",
       "text": [
        " %\n",
        "60"
       ]
      },
      {
       "output_type": "stream",
       "stream": "stdout",
       "text": [
        " %\n",
        "70"
       ]
      },
      {
       "output_type": "stream",
       "stream": "stdout",
       "text": [
        " %\n",
        "80"
       ]
      },
      {
       "output_type": "stream",
       "stream": "stdout",
       "text": [
        " %\n",
        "90"
       ]
      },
      {
       "output_type": "stream",
       "stream": "stdout",
       "text": [
        " %\n"
       ]
      }
     ],
     "prompt_number": 52
    },
    {
     "cell_type": "code",
     "collapsed": false,
     "input": [],
     "language": "python",
     "metadata": {},
     "outputs": []
    }
   ],
   "metadata": {}
  }
 ]
}