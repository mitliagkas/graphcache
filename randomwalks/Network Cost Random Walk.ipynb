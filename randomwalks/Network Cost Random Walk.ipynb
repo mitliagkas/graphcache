{
 "cells": [
  {
   "cell_type": "code",
   "execution_count": 1,
   "metadata": {
    "collapsed": false
   },
   "outputs": [],
   "source": [
    "import networkx as nx\n",
    "from random import random\n",
    "import math, time"
   ]
  },
  {
   "cell_type": "code",
   "execution_count": 2,
   "metadata": {
    "collapsed": false
   },
   "outputs": [],
   "source": [
    "import json\n",
    "from networkx.readwrite import json_graph"
   ]
  },
  {
   "cell_type": "code",
   "execution_count": 3,
   "metadata": {
    "collapsed": false
   },
   "outputs": [
    {
     "data": {
      "text/html": [
       "\n",
       "           <script>\n",
       "               \n",
       "                function vct_load_lib(url, callback){\n",
       "                      if(typeof d3 !== 'undefined' &&\n",
       "                         url === 'http://d3js.org/d3.v3.min.js'){\n",
       "                        callback()\n",
       "                      }\n",
       "                      var s = document.createElement('script');\n",
       "                      s.src = url;\n",
       "                      s.async = true;\n",
       "                      s.onreadystatechange = s.onload = callback;\n",
       "                      s.onerror = function(){\n",
       "                        console.warn(\"failed to load library \" + url);\n",
       "                        };\n",
       "                      document.getElementsByTagName(\"head\")[0].appendChild(s);\n",
       "                };\n",
       "                var vincent_event = new CustomEvent(\n",
       "                  \"vincent_libs_loaded\",\n",
       "                  {bubbles: true, cancelable: true}\n",
       "                );\n",
       "                \n",
       "               function load_all_libs(){\n",
       "                  console.log('Loading Vincent libs...')\n",
       "                  vct_load_lib('http://d3js.org/d3.v3.min.js', function(){\n",
       "                  vct_load_lib('http://d3js.org/d3.geo.projection.v0.min.js', function(){\n",
       "                  vct_load_lib('http://wrobstory.github.io/d3-cloud/d3.layout.cloud.js', function(){\n",
       "                  vct_load_lib('http://wrobstory.github.io/vega/vega.v1.3.3.js', function(){\n",
       "                  window.dispatchEvent(vincent_event);\n",
       "                  });\n",
       "                  });\n",
       "                  });\n",
       "                  });\n",
       "               };\n",
       "               if(typeof define === \"function\" && define.amd){\n",
       "                    if (window['d3'] === undefined ||\n",
       "                        window['topojson'] === undefined){\n",
       "                        require.config(\n",
       "                            {paths: {\n",
       "                              d3: 'http://d3js.org/d3.v3.min',\n",
       "                              topojson: 'http://d3js.org/topojson.v1.min'\n",
       "                              }\n",
       "                            }\n",
       "                          );\n",
       "                        require([\"d3\"], function(d3){\n",
       "                            console.log('Loading Vincent from require.js...')\n",
       "                            window.d3 = d3;\n",
       "                            require([\"topojson\"], function(topojson){\n",
       "                                window.topojson = topojson;\n",
       "                                load_all_libs();\n",
       "                            });\n",
       "                        });\n",
       "                    } else {\n",
       "                        load_all_libs();\n",
       "                    };\n",
       "               }else{\n",
       "                    console.log('Require.js not found, loading manually...')\n",
       "                    load_all_libs();\n",
       "               };\n",
       "\n",
       "           </script>"
      ],
      "text/plain": [
       "<IPython.core.display.HTML object>"
      ]
     },
     "metadata": {},
     "output_type": "display_data"
    }
   ],
   "source": [
    "import vincent\n",
    "from IPython.display import display\n",
    "vincent.initialize_notebook()"
   ]
  },
  {
   "cell_type": "code",
   "execution_count": 4,
   "metadata": {
    "collapsed": false
   },
   "outputs": [],
   "source": [
    "import matplotlib.pyplot as plt\n",
    "%matplotlib inline\n",
    "%config InlineBackend.figure_format = 'svg' "
   ]
  },
  {
   "cell_type": "code",
   "execution_count": 5,
   "metadata": {
    "collapsed": false
   },
   "outputs": [],
   "source": [
    "%load_ext autoreload\n",
    "%autoreload 2"
   ]
  },
  {
   "cell_type": "markdown",
   "metadata": {},
   "source": [
    "### This notebook is not self-contained. It depends on the module `randomwalk`"
   ]
  },
  {
   "cell_type": "code",
   "execution_count": 6,
   "metadata": {
    "collapsed": false
   },
   "outputs": [
    {
     "data": {
      "text/html": [
       "<div id=\"d3-example\"></div>\n",
       "<style>\n",
       ".node {stroke: #fff; stroke-width: 1.5px;}\n",
       "marker {stroke: #999;}\n",
       ".link {stroke: #999; stroke-opacity: .3;}\n",
       "</style>\n",
       "<script src=\"force.js\"></script>"
      ],
      "text/plain": [
       "<IPython.core.display.HTML object>"
      ]
     },
     "metadata": {},
     "output_type": "display_data"
    }
   ],
   "source": [
    "from randomwalk import plotrwtraversal, randomwalk, edgetokey"
   ]
  },
  {
   "cell_type": "code",
   "execution_count": 7,
   "metadata": {
    "collapsed": false
   },
   "outputs": [],
   "source": [
    "def rungraph(G, k=2):\n",
    "    # Convert to DiGraph if necessary\n",
    "    if G.is_multigraph():\n",
    "        if G.is_directed():\n",
    "            Gm = G.copy()\n",
    "            G = nx.DiGraph()\n",
    "            G.graph['name'] = Gm.graph['name']\n",
    "            for (u,v) in Gm.edges_iter():\n",
    "                G.add_edge(u,v)\n",
    "\n",
    "    # Randomize the expensive edges\n",
    "    expensiveedges = []\n",
    "    for e in G.edges_iter():\n",
    "        if random() > 1/float(k):\n",
    "            expensiveedges.append(edgetokey(e))\n",
    "            G.edge[e[0]][e[1]]['expensive'] = True\n",
    "        else:\n",
    "            G.edge[e[0]][e[1]]['expensive'] = False\n",
    "\n",
    "    get_ipython().run_cell_magic(u'html', u'', '<h2>Graph: '+G.graph['name']+'</h2>')\n",
    "        \n",
    "    if False:\n",
    "        # Save and plot graph\n",
    "        d = json_graph.node_link_data(G)\n",
    "        for node in d['nodes']:\n",
    "            node['name']=node['id']\n",
    "            node['value']=G.degree(node['id'])\n",
    "\n",
    "        d['adjacency'] = json_graph.adjacency_data(G)['adjacency']\n",
    "        json.dump(d, open('graph.json','w'))\n",
    "\n",
    "        time.sleep(1)\n",
    "\n",
    "        get_ipython().run_cell_magic(u'html', u'', u'<div id=\"d3-example\"></div>\\n<style>\\n.node {stroke: #fff; stroke-width: 1.5px;}\\nmarker {stroke: #999;}\\n.link {stroke: #999; stroke-opacity: .6;}\\n</style>\\n<script src=\"force.js\"></script>')\n",
    "        #nx.draw_graphviz(G)\n",
    "\n",
    "    # Run algos\n",
    "    G1 = G.copy()\n",
    "    randomwalk(G1, frogs, P_die)\n",
    "    G2 = G.copy()\n",
    "    randomwalk(G2, frogs, P_die, 4, expensiveedges)\n",
    "\n",
    "    # Make graphs\n",
    "    (line1, df1) = plotrwtraversal(G1,expensiveedges, time=G2.graph['endtime']+1)\n",
    "    (line2, df2) = plotrwtraversal(G2, expensiveedges)\n",
    "    get_ipython().run_cell_magic(u'html', u'', '<h3>'+\"Vanilla random walk. Cost: \" + str(G1.graph['cost'])+'</h3>')\n",
    "    display(line1)\n",
    "\n",
    "    get_ipython().run_cell_magic(u'html', u'', '<h3>'+\"Waiting random walk. Cost: \" + str(G2.graph['cost'])\n",
    "                                 + ', a ' + str( 100*(1 - G2.graph['cost'] / float(G1.graph['cost']) ) ) + '% gain</h3>')\n",
    "    display(line2)\n",
    "\n",
    "    (l, d) = plotrwtraversal(G2, countfrogs=True, expensiveedges = expensiveedges)\n",
    "    get_ipython().run_cell_magic(u'html', u'', '<h4>'+\"Waiting algorithm: What are the frogs up to?\"+'</h4>')\n",
    "    display(l)\n",
    "\n",
    "    get_ipython().run_cell_magic(u'html', u'', '<h3>'+'Performance stats'+'</h3>')\n",
    "    print \"Stats normalized by equivalent vanilla random walk stats:\"\n",
    "    print\n",
    "    print \"Average death round (waiting/vanilla):\", G2.graph['death_times_sum'] / float(L*frogs)\n",
    "    print \"Total duration in rounds (waiting/vanilla):\", G2.graph['endtime'] / float(G1.graph['endtime'])\n",
    "    print \"Cost (waiting/vanilla):\", G2.graph['cost'] / float(G1.graph['cost'])\n"
   ]
  },
  {
   "cell_type": "markdown",
   "metadata": {},
   "source": [
    "# Generate graph"
   ]
  },
  {
   "cell_type": "code",
   "execution_count": 8,
   "metadata": {
    "collapsed": false
   },
   "outputs": [],
   "source": [
    "n = 100\n",
    "m = 2\n",
    "p = 0.3"
   ]
  },
  {
   "cell_type": "code",
   "execution_count": 9,
   "metadata": {
    "collapsed": false
   },
   "outputs": [],
   "source": [
    "allG = []\n",
    "#allG.append(nx.barbell_graph(50,0))\n",
    "allG.append(nx.scale_free_graph(n))\n",
    "allG.append(nx.powerlaw_cluster_graph(n=n, m=m, p=p))\n",
    "#allG.append(nx.cycle_graph(n))"
   ]
  },
  {
   "cell_type": "markdown",
   "metadata": {},
   "source": [
    "# Simulate Random Walks"
   ]
  },
  {
   "cell_type": "code",
   "execution_count": 10,
   "metadata": {
    "collapsed": true
   },
   "outputs": [],
   "source": [
    "frogs = 1000\n",
    "# Life expectancy L. L should be the mean of a geometric distribution\n",
    "L = 6\n",
    "# P_die is the probability that a frog dies at any given time\n",
    "P_die = 1/float(L)"
   ]
  },
  {
   "cell_type": "code",
   "execution_count": 11,
   "metadata": {
    "collapsed": false
   },
   "outputs": [
    {
     "data": {
      "text/html": [
       "<h1>Simulating 4 machines.</h1>"
      ],
      "text/plain": [
       "<IPython.core.display.HTML object>"
      ]
     },
     "metadata": {},
     "output_type": "display_data"
    },
    {
     "data": {
      "text/html": [
       "<h2>Graph: directed_scale_free_graph(100,alpha=0.41,beta=0.54,gamma=0.05,delta_in=0.2,delta_out=0)</h2>"
      ],
      "text/plain": [
       "<IPython.core.display.HTML object>"
      ]
     },
     "metadata": {},
     "output_type": "display_data"
    },
    {
     "data": {
      "text/html": [
       "<h3>Vanilla random walk. Cost: 639.0</h3>"
      ],
      "text/plain": [
       "<IPython.core.display.HTML object>"
      ]
     },
     "metadata": {},
     "output_type": "display_data"
    },
    {
     "data": {
      "text/html": [
       "<div id=\"vis02885354d05b45c6940854b19d2f5766\"></div>\n",
       "<script>\n",
       "   ( function() {\n",
       "     var _do_plot = function() {\n",
       "       if (typeof vg === 'undefined') {\n",
       "         window.addEventListener('vincent_libs_loaded', _do_plot)\n",
       "         return;\n",
       "       }\n",
       "       vg.parse.spec({\"axes\": [{\"scale\": \"x\", \"title\": \"Rounds\", \"type\": \"x\"}, {\"scale\": \"y\", \"title\": \"# edges traversed\", \"type\": \"y\"}], \"data\": [{\"name\": \"table\", \"values\": [{\"col\": \"Expensive\", \"idx\": 0, \"val\": NaN}, {\"col\": \"Cheap\", \"idx\": 0, \"val\": NaN}, {\"col\": \"Expensive\", \"idx\": 1, \"val\": 109.0}, {\"col\": \"Cheap\", \"idx\": 1, \"val\": 30.0}, {\"col\": \"Expensive\", \"idx\": 2, \"val\": 50.0}, {\"col\": \"Cheap\", \"idx\": 2, \"val\": 14.0}, {\"col\": \"Expensive\", \"idx\": 3, \"val\": 77.0}, {\"col\": \"Cheap\", \"idx\": 3, \"val\": 18.0}, {\"col\": \"Expensive\", \"idx\": 4, \"val\": 44.0}, {\"col\": \"Cheap\", \"idx\": 4, \"val\": 7.0}, {\"col\": \"Expensive\", \"idx\": 5, \"val\": 36.0}, {\"col\": \"Cheap\", \"idx\": 5, \"val\": 9.0}, {\"col\": \"Expensive\", \"idx\": 6, \"val\": 28.0}, {\"col\": \"Cheap\", \"idx\": 6, \"val\": 5.0}, {\"col\": \"Expensive\", \"idx\": 7, \"val\": 27.0}, {\"col\": \"Cheap\", \"idx\": 7, \"val\": 7.0}, {\"col\": \"Expensive\", \"idx\": 8, \"val\": 24.0}, {\"col\": \"Cheap\", \"idx\": 8, \"val\": 3.0}, {\"col\": \"Expensive\", \"idx\": 9, \"val\": 22.0}, {\"col\": \"Cheap\", \"idx\": 9, \"val\": 4.0}, {\"col\": \"Expensive\", \"idx\": 10, \"val\": 24.0}, {\"col\": \"Cheap\", \"idx\": 10, \"val\": 6.0}, {\"col\": \"Expensive\", \"idx\": 11, \"val\": 19.0}, {\"col\": \"Cheap\", \"idx\": 11, \"val\": 5.0}, {\"col\": \"Expensive\", \"idx\": 12, \"val\": 21.0}, {\"col\": \"Cheap\", \"idx\": 12, \"val\": 5.0}, {\"col\": \"Expensive\", \"idx\": 13, \"val\": 18.0}, {\"col\": \"Cheap\", \"idx\": 13, \"val\": 4.0}, {\"col\": \"Expensive\", \"idx\": 14, \"val\": 13.0}, {\"col\": \"Cheap\", \"idx\": 14, \"val\": 7.0}, {\"col\": \"Expensive\", \"idx\": 15, \"val\": 14.0}, {\"col\": \"Cheap\", \"idx\": 15, \"val\": 2.0}, {\"col\": \"Expensive\", \"idx\": 16, \"val\": 12.0}, {\"col\": \"Cheap\", \"idx\": 16, \"val\": 2.0}, {\"col\": \"Expensive\", \"idx\": 17, \"val\": 11.0}, {\"col\": \"Cheap\", \"idx\": 17, \"val\": 3.0}, {\"col\": \"Expensive\", \"idx\": 18, \"val\": 11.0}, {\"col\": \"Cheap\", \"idx\": 18, \"val\": 1.0}, {\"col\": \"Expensive\", \"idx\": 19, \"val\": 10.0}, {\"col\": \"Cheap\", \"idx\": 19, \"val\": 2.0}, {\"col\": \"Expensive\", \"idx\": 20, \"val\": 7.0}, {\"col\": \"Cheap\", \"idx\": 20, \"val\": 2.0}, {\"col\": \"Expensive\", \"idx\": 21, \"val\": 9.0}, {\"col\": \"Cheap\", \"idx\": 21, \"val\": 2.0}, {\"col\": \"Expensive\", \"idx\": 22, \"val\": 4.0}, {\"col\": \"Cheap\", \"idx\": 22, \"val\": 3.0}, {\"col\": \"Expensive\", \"idx\": 23, \"val\": 5.0}, {\"col\": \"Cheap\", \"idx\": 23, \"val\": 1.0}, {\"col\": \"Expensive\", \"idx\": 24, \"val\": 6.0}, {\"col\": \"Cheap\", \"idx\": 24, \"val\": 0.0}, {\"col\": \"Expensive\", \"idx\": 25, \"val\": 3.0}, {\"col\": \"Cheap\", \"idx\": 25, \"val\": 2.0}, {\"col\": \"Expensive\", \"idx\": 26, \"val\": 3.0}, {\"col\": \"Cheap\", \"idx\": 26, \"val\": 1.0}, {\"col\": \"Expensive\", \"idx\": 27, \"val\": 4.0}, {\"col\": \"Cheap\", \"idx\": 27, \"val\": 2.0}, {\"col\": \"Expensive\", \"idx\": 28, \"val\": 3.0}, {\"col\": \"Cheap\", \"idx\": 28, \"val\": 0.0}, {\"col\": \"Expensive\", \"idx\": 29, \"val\": 4.0}, {\"col\": \"Cheap\", \"idx\": 29, \"val\": 1.0}, {\"col\": \"Expensive\", \"idx\": 30, \"val\": 3.0}, {\"col\": \"Cheap\", \"idx\": 30, \"val\": 1.0}, {\"col\": \"Expensive\", \"idx\": 31, \"val\": 5.0}, {\"col\": \"Cheap\", \"idx\": 31, \"val\": 0.0}, {\"col\": \"Expensive\", \"idx\": 32, \"val\": 4.0}, {\"col\": \"Cheap\", \"idx\": 32, \"val\": 0.0}, {\"col\": \"Expensive\", \"idx\": 33, \"val\": 2.0}, {\"col\": \"Cheap\", \"idx\": 33, \"val\": 1.0}, {\"col\": \"Expensive\", \"idx\": 34, \"val\": 1.0}, {\"col\": \"Cheap\", \"idx\": 34, \"val\": 1.0}, {\"col\": \"Expensive\", \"idx\": 35, \"val\": 1.0}, {\"col\": \"Cheap\", \"idx\": 35, \"val\": 0.0}, {\"col\": \"Expensive\", \"idx\": 36, \"val\": 1.0}, {\"col\": \"Cheap\", \"idx\": 36, \"val\": 0.0}, {\"col\": \"Expensive\", \"idx\": 37, \"val\": 0.0}, {\"col\": \"Cheap\", \"idx\": 37, \"val\": 0.0}, {\"col\": \"Expensive\", \"idx\": 38, \"val\": 1.0}, {\"col\": \"Cheap\", \"idx\": 38, \"val\": 0.0}, {\"col\": \"Expensive\", \"idx\": 39, \"val\": 0.0}, {\"col\": \"Cheap\", \"idx\": 39, \"val\": 0.0}, {\"col\": \"Expensive\", \"idx\": 40, \"val\": 1.0}, {\"col\": \"Cheap\", \"idx\": 40, \"val\": 0.0}, {\"col\": \"Expensive\", \"idx\": 41, \"val\": 1.0}, {\"col\": \"Cheap\", \"idx\": 41, \"val\": 0.0}, {\"col\": \"Expensive\", \"idx\": 42, \"val\": 1.0}, {\"col\": \"Cheap\", \"idx\": 42, \"val\": 0.0}, {\"col\": \"Expensive\", \"idx\": 43, \"val\": 0.0}, {\"col\": \"Cheap\", \"idx\": 43, \"val\": 0.0}, {\"col\": \"Expensive\", \"idx\": 44, \"val\": NaN}, {\"col\": \"Cheap\", \"idx\": 44, \"val\": NaN}, {\"col\": \"Expensive\", \"idx\": 45, \"val\": NaN}, {\"col\": \"Cheap\", \"idx\": 45, \"val\": NaN}, {\"col\": \"Expensive\", \"idx\": 46, \"val\": NaN}, {\"col\": \"Cheap\", \"idx\": 46, \"val\": NaN}, {\"col\": \"Expensive\", \"idx\": 47, \"val\": NaN}, {\"col\": \"Cheap\", \"idx\": 47, \"val\": NaN}, {\"col\": \"Expensive\", \"idx\": 48, \"val\": NaN}, {\"col\": \"Cheap\", \"idx\": 48, \"val\": NaN}, {\"col\": \"Expensive\", \"idx\": 49, \"val\": NaN}, {\"col\": \"Cheap\", \"idx\": 49, \"val\": NaN}, {\"col\": \"Expensive\", \"idx\": 50, \"val\": NaN}, {\"col\": \"Cheap\", \"idx\": 50, \"val\": NaN}, {\"col\": \"Expensive\", \"idx\": 51, \"val\": NaN}, {\"col\": \"Cheap\", \"idx\": 51, \"val\": NaN}, {\"col\": \"Expensive\", \"idx\": 52, \"val\": NaN}, {\"col\": \"Cheap\", \"idx\": 52, \"val\": NaN}, {\"col\": \"Expensive\", \"idx\": 53, \"val\": NaN}, {\"col\": \"Cheap\", \"idx\": 53, \"val\": NaN}, {\"col\": \"Expensive\", \"idx\": 54, \"val\": NaN}, {\"col\": \"Cheap\", \"idx\": 54, \"val\": NaN}, {\"col\": \"Expensive\", \"idx\": 55, \"val\": NaN}, {\"col\": \"Cheap\", \"idx\": 55, \"val\": NaN}, {\"col\": \"Expensive\", \"idx\": 56, \"val\": NaN}, {\"col\": \"Cheap\", \"idx\": 56, \"val\": NaN}, {\"col\": \"Expensive\", \"idx\": 57, \"val\": NaN}, {\"col\": \"Cheap\", \"idx\": 57, \"val\": NaN}, {\"col\": \"Expensive\", \"idx\": 58, \"val\": NaN}, {\"col\": \"Cheap\", \"idx\": 58, \"val\": NaN}, {\"col\": \"Expensive\", \"idx\": 59, \"val\": NaN}, {\"col\": \"Cheap\", \"idx\": 59, \"val\": NaN}, {\"col\": \"Expensive\", \"idx\": 60, \"val\": NaN}, {\"col\": \"Cheap\", \"idx\": 60, \"val\": NaN}, {\"col\": \"Expensive\", \"idx\": 61, \"val\": NaN}, {\"col\": \"Cheap\", \"idx\": 61, \"val\": NaN}, {\"col\": \"Expensive\", \"idx\": 62, \"val\": NaN}, {\"col\": \"Cheap\", \"idx\": 62, \"val\": NaN}, {\"col\": \"Expensive\", \"idx\": 63, \"val\": NaN}, {\"col\": \"Cheap\", \"idx\": 63, \"val\": NaN}, {\"col\": \"Expensive\", \"idx\": 64, \"val\": NaN}, {\"col\": \"Cheap\", \"idx\": 64, \"val\": NaN}, {\"col\": \"Expensive\", \"idx\": 65, \"val\": NaN}, {\"col\": \"Cheap\", \"idx\": 65, \"val\": NaN}, {\"col\": \"Expensive\", \"idx\": 66, \"val\": NaN}, {\"col\": \"Cheap\", \"idx\": 66, \"val\": NaN}, {\"col\": \"Expensive\", \"idx\": 67, \"val\": NaN}, {\"col\": \"Cheap\", \"idx\": 67, \"val\": NaN}, {\"col\": \"Expensive\", \"idx\": 68, \"val\": NaN}, {\"col\": \"Cheap\", \"idx\": 68, \"val\": NaN}, {\"col\": \"Expensive\", \"idx\": 69, \"val\": NaN}, {\"col\": \"Cheap\", \"idx\": 69, \"val\": NaN}, {\"col\": \"Expensive\", \"idx\": 70, \"val\": NaN}, {\"col\": \"Cheap\", \"idx\": 70, \"val\": NaN}, {\"col\": \"Expensive\", \"idx\": 71, \"val\": NaN}, {\"col\": \"Cheap\", \"idx\": 71, \"val\": NaN}, {\"col\": \"Expensive\", \"idx\": 72, \"val\": NaN}, {\"col\": \"Cheap\", \"idx\": 72, \"val\": NaN}, {\"col\": \"Expensive\", \"idx\": 73, \"val\": NaN}, {\"col\": \"Cheap\", \"idx\": 73, \"val\": NaN}, {\"col\": \"Expensive\", \"idx\": 74, \"val\": NaN}, {\"col\": \"Cheap\", \"idx\": 74, \"val\": NaN}, {\"col\": \"Expensive\", \"idx\": 75, \"val\": NaN}, {\"col\": \"Cheap\", \"idx\": 75, \"val\": NaN}, {\"col\": \"Expensive\", \"idx\": 76, \"val\": NaN}, {\"col\": \"Cheap\", \"idx\": 76, \"val\": NaN}]}, {\"name\": \"stats\", \"source\": \"table\", \"transform\": [{\"keys\": [\"data.idx\"], \"type\": \"facet\"}, {\"type\": \"stats\", \"value\": \"data.val\"}]}], \"height\": 300, \"legends\": [{\"fill\": \"color\", \"offset\": 0, \"properties\": {}, \"title\": \"Edge\"}], \"marks\": [{\"from\": {\"data\": \"table\", \"transform\": [{\"keys\": [\"data.col\"], \"type\": \"facet\"}, {\"height\": \"data.val\", \"point\": \"data.idx\", \"type\": \"stack\"}]}, \"marks\": [{\"properties\": {\"enter\": {\"fill\": {\"field\": \"data.col\", \"scale\": \"color\"}, \"interpolate\": {\"value\": \"monotone\"}, \"opacity\": {\"value\": 0.8}, \"x\": {\"field\": \"data.idx\", \"scale\": \"x\"}, \"y\": {\"field\": \"y\", \"scale\": \"y\"}, \"y2\": {\"field\": \"y2\", \"scale\": \"y\"}}, \"hover\": {\"opacity\": {\"value\": 1}, \"size\": {\"value\": 200}}, \"update\": {\"opacity\": {\"value\": 0.8}, \"size\": {\"value\": 100}}}, \"type\": \"area\"}], \"type\": \"group\"}], \"padding\": \"auto\", \"scales\": [{\"domain\": {\"data\": \"table\", \"field\": \"data.idx\"}, \"name\": \"x\", \"range\": \"width\", \"type\": \"linear\", \"zero\": false}, {\"domain\": [0, 161], \"name\": \"y\", \"nice\": true, \"range\": \"height\"}, {\"domain\": {\"data\": \"table\", \"field\": \"data.col\"}, \"name\": \"color\", \"range\": [\"#ff0000\", \"#50aa50\", \"#eeeeee\"], \"type\": \"ordinal\"}], \"width\": 400}, function(chart) {\n",
       "         chart({el: \"#vis02885354d05b45c6940854b19d2f5766\"}).update();\n",
       "       });\n",
       "     };\n",
       "     _do_plot();\n",
       "   })();\n",
       "</script>\n",
       "<style>.vega canvas {width: 100%;}</style>\n",
       "        "
      ],
      "text/plain": [
       "<vincent.charts.Area at 0x108791390>"
      ]
     },
     "metadata": {},
     "output_type": "display_data"
    },
    {
     "data": {
      "text/html": [
       "<h3>Waiting random walk. Cost: 478.0, a 25.1956181534% gain</h3>"
      ],
      "text/plain": [
       "<IPython.core.display.HTML object>"
      ]
     },
     "metadata": {},
     "output_type": "display_data"
    },
    {
     "data": {
      "text/html": [
       "<div id=\"vis47397c8179084ca1b3ecacee515bebce\"></div>\n",
       "<script>\n",
       "   ( function() {\n",
       "     var _do_plot = function() {\n",
       "       if (typeof vg === 'undefined') {\n",
       "         window.addEventListener('vincent_libs_loaded', _do_plot)\n",
       "         return;\n",
       "       }\n",
       "       vg.parse.spec({\"axes\": [{\"scale\": \"x\", \"title\": \"Rounds\", \"type\": \"x\"}, {\"scale\": \"y\", \"title\": \"# edges traversed\", \"type\": \"y\"}], \"data\": [{\"name\": \"table\", \"values\": [{\"col\": \"Expensive\", \"idx\": 1, \"val\": 30.0}, {\"col\": \"Cheap\", \"idx\": 1, \"val\": 33.0}, {\"col\": \"Expensive\", \"idx\": 2, \"val\": 27.0}, {\"col\": \"Cheap\", \"idx\": 2, \"val\": 10.0}, {\"col\": \"Expensive\", \"idx\": 3, \"val\": 32.0}, {\"col\": \"Cheap\", \"idx\": 3, \"val\": 11.0}, {\"col\": \"Expensive\", \"idx\": 4, \"val\": 25.0}, {\"col\": \"Cheap\", \"idx\": 4, \"val\": 11.0}, {\"col\": \"Expensive\", \"idx\": 5, \"val\": 24.0}, {\"col\": \"Cheap\", \"idx\": 5, \"val\": 9.0}, {\"col\": \"Expensive\", \"idx\": 6, \"val\": 20.0}, {\"col\": \"Cheap\", \"idx\": 6, \"val\": 12.0}, {\"col\": \"Expensive\", \"idx\": 7, \"val\": 22.0}, {\"col\": \"Cheap\", \"idx\": 7, \"val\": 5.0}, {\"col\": \"Expensive\", \"idx\": 8, \"val\": 17.0}, {\"col\": \"Cheap\", \"idx\": 8, \"val\": 9.0}, {\"col\": \"Expensive\", \"idx\": 9, \"val\": 17.0}, {\"col\": \"Cheap\", \"idx\": 9, \"val\": 2.0}, {\"col\": \"Expensive\", \"idx\": 10, \"val\": 13.0}, {\"col\": \"Cheap\", \"idx\": 10, \"val\": 5.0}, {\"col\": \"Expensive\", \"idx\": 11, \"val\": 14.0}, {\"col\": \"Cheap\", \"idx\": 11, \"val\": 2.0}, {\"col\": \"Expensive\", \"idx\": 12, \"val\": 9.0}, {\"col\": \"Cheap\", \"idx\": 12, \"val\": 9.0}, {\"col\": \"Expensive\", \"idx\": 13, \"val\": 14.0}, {\"col\": \"Cheap\", \"idx\": 13, \"val\": 2.0}, {\"col\": \"Expensive\", \"idx\": 14, \"val\": 11.0}, {\"col\": \"Cheap\", \"idx\": 14, \"val\": 3.0}, {\"col\": \"Expensive\", \"idx\": 15, \"val\": 12.0}, {\"col\": \"Cheap\", \"idx\": 15, \"val\": 3.0}, {\"col\": \"Expensive\", \"idx\": 16, \"val\": 6.0}, {\"col\": \"Cheap\", \"idx\": 16, \"val\": 6.0}, {\"col\": \"Expensive\", \"idx\": 17, \"val\": 9.0}, {\"col\": \"Cheap\", \"idx\": 17, \"val\": 3.0}, {\"col\": \"Expensive\", \"idx\": 18, \"val\": 7.0}, {\"col\": \"Cheap\", \"idx\": 18, \"val\": 2.0}, {\"col\": \"Expensive\", \"idx\": 19, \"val\": 10.0}, {\"col\": \"Cheap\", \"idx\": 19, \"val\": 4.0}, {\"col\": \"Expensive\", \"idx\": 20, \"val\": 6.0}, {\"col\": \"Cheap\", \"idx\": 20, \"val\": 6.0}, {\"col\": \"Expensive\", \"idx\": 21, \"val\": 7.0}, {\"col\": \"Cheap\", \"idx\": 21, \"val\": 2.0}, {\"col\": \"Expensive\", \"idx\": 22, \"val\": 9.0}, {\"col\": \"Cheap\", \"idx\": 22, \"val\": 1.0}, {\"col\": \"Expensive\", \"idx\": 23, \"val\": 8.0}, {\"col\": \"Cheap\", \"idx\": 23, \"val\": 4.0}, {\"col\": \"Expensive\", \"idx\": 24, \"val\": 5.0}, {\"col\": \"Cheap\", \"idx\": 24, \"val\": 4.0}, {\"col\": \"Expensive\", \"idx\": 25, \"val\": 7.0}, {\"col\": \"Cheap\", \"idx\": 25, \"val\": 2.0}, {\"col\": \"Expensive\", \"idx\": 26, \"val\": 3.0}, {\"col\": \"Cheap\", \"idx\": 26, \"val\": 1.0}, {\"col\": \"Expensive\", \"idx\": 27, \"val\": 8.0}, {\"col\": \"Cheap\", \"idx\": 27, \"val\": 1.0}, {\"col\": \"Expensive\", \"idx\": 28, \"val\": 4.0}, {\"col\": \"Cheap\", \"idx\": 28, \"val\": 2.0}, {\"col\": \"Expensive\", \"idx\": 29, \"val\": 5.0}, {\"col\": \"Cheap\", \"idx\": 29, \"val\": 2.0}, {\"col\": \"Expensive\", \"idx\": 30, \"val\": 7.0}, {\"col\": \"Cheap\", \"idx\": 30, \"val\": 1.0}, {\"col\": \"Expensive\", \"idx\": 31, \"val\": 4.0}, {\"col\": \"Cheap\", \"idx\": 31, \"val\": 2.0}, {\"col\": \"Expensive\", \"idx\": 32, \"val\": 3.0}, {\"col\": \"Cheap\", \"idx\": 32, \"val\": 3.0}, {\"col\": \"Expensive\", \"idx\": 33, \"val\": 4.0}, {\"col\": \"Cheap\", \"idx\": 33, \"val\": 2.0}, {\"col\": \"Expensive\", \"idx\": 34, \"val\": 5.0}, {\"col\": \"Cheap\", \"idx\": 34, \"val\": 1.0}, {\"col\": \"Expensive\", \"idx\": 35, \"val\": 5.0}, {\"col\": \"Cheap\", \"idx\": 35, \"val\": 1.0}, {\"col\": \"Expensive\", \"idx\": 36, \"val\": 6.0}, {\"col\": \"Cheap\", \"idx\": 36, \"val\": 3.0}, {\"col\": \"Expensive\", \"idx\": 37, \"val\": 5.0}, {\"col\": \"Cheap\", \"idx\": 37, \"val\": 2.0}, {\"col\": \"Expensive\", \"idx\": 38, \"val\": 6.0}, {\"col\": \"Cheap\", \"idx\": 38, \"val\": 1.0}, {\"col\": \"Expensive\", \"idx\": 39, \"val\": 4.0}, {\"col\": \"Cheap\", \"idx\": 39, \"val\": 1.0}, {\"col\": \"Expensive\", \"idx\": 40, \"val\": 4.0}, {\"col\": \"Cheap\", \"idx\": 40, \"val\": 2.0}, {\"col\": \"Expensive\", \"idx\": 41, \"val\": 4.0}, {\"col\": \"Cheap\", \"idx\": 41, \"val\": 2.0}, {\"col\": \"Expensive\", \"idx\": 42, \"val\": 3.0}, {\"col\": \"Cheap\", \"idx\": 42, \"val\": 1.0}, {\"col\": \"Expensive\", \"idx\": 43, \"val\": 3.0}, {\"col\": \"Cheap\", \"idx\": 43, \"val\": 1.0}, {\"col\": \"Expensive\", \"idx\": 44, \"val\": 2.0}, {\"col\": \"Cheap\", \"idx\": 44, \"val\": 2.0}, {\"col\": \"Expensive\", \"idx\": 45, \"val\": 3.0}, {\"col\": \"Cheap\", \"idx\": 45, \"val\": 1.0}, {\"col\": \"Expensive\", \"idx\": 46, \"val\": 1.0}, {\"col\": \"Cheap\", \"idx\": 46, \"val\": 0.0}, {\"col\": \"Expensive\", \"idx\": 47, \"val\": 3.0}, {\"col\": \"Cheap\", \"idx\": 47, \"val\": 1.0}, {\"col\": \"Expensive\", \"idx\": 48, \"val\": 2.0}, {\"col\": \"Cheap\", \"idx\": 48, \"val\": 1.0}, {\"col\": \"Expensive\", \"idx\": 49, \"val\": 2.0}, {\"col\": \"Cheap\", \"idx\": 49, \"val\": 1.0}, {\"col\": \"Expensive\", \"idx\": 50, \"val\": 2.0}, {\"col\": \"Cheap\", \"idx\": 50, \"val\": 1.0}, {\"col\": \"Expensive\", \"idx\": 51, \"val\": 2.0}, {\"col\": \"Cheap\", \"idx\": 51, \"val\": 1.0}, {\"col\": \"Expensive\", \"idx\": 52, \"val\": 2.0}, {\"col\": \"Cheap\", \"idx\": 52, \"val\": 1.0}, {\"col\": \"Expensive\", \"idx\": 53, \"val\": 2.0}, {\"col\": \"Cheap\", \"idx\": 53, \"val\": 1.0}, {\"col\": \"Expensive\", \"idx\": 54, \"val\": 1.0}, {\"col\": \"Cheap\", \"idx\": 54, \"val\": 0.0}, {\"col\": \"Expensive\", \"idx\": 55, \"val\": 2.0}, {\"col\": \"Cheap\", \"idx\": 55, \"val\": 0.0}, {\"col\": \"Expensive\", \"idx\": 56, \"val\": 1.0}, {\"col\": \"Cheap\", \"idx\": 56, \"val\": 0.0}, {\"col\": \"Expensive\", \"idx\": 57, \"val\": 1.0}, {\"col\": \"Cheap\", \"idx\": 57, \"val\": 0.0}, {\"col\": \"Expensive\", \"idx\": 58, \"val\": 1.0}, {\"col\": \"Cheap\", \"idx\": 58, \"val\": 0.0}, {\"col\": \"Expensive\", \"idx\": 59, \"val\": 0.0}, {\"col\": \"Cheap\", \"idx\": 59, \"val\": 1.0}, {\"col\": \"Expensive\", \"idx\": 60, \"val\": 1.0}, {\"col\": \"Cheap\", \"idx\": 60, \"val\": 0.0}, {\"col\": \"Expensive\", \"idx\": 61, \"val\": 0.0}, {\"col\": \"Cheap\", \"idx\": 61, \"val\": 0.0}, {\"col\": \"Expensive\", \"idx\": 62, \"val\": 0.0}, {\"col\": \"Cheap\", \"idx\": 62, \"val\": 0.0}, {\"col\": \"Expensive\", \"idx\": 63, \"val\": 1.0}, {\"col\": \"Cheap\", \"idx\": 63, \"val\": 0.0}, {\"col\": \"Expensive\", \"idx\": 64, \"val\": 2.0}, {\"col\": \"Cheap\", \"idx\": 64, \"val\": 0.0}, {\"col\": \"Expensive\", \"idx\": 65, \"val\": 0.0}, {\"col\": \"Cheap\", \"idx\": 65, \"val\": 0.0}, {\"col\": \"Expensive\", \"idx\": 66, \"val\": 0.0}, {\"col\": \"Cheap\", \"idx\": 66, \"val\": 0.0}, {\"col\": \"Expensive\", \"idx\": 67, \"val\": 0.0}, {\"col\": \"Cheap\", \"idx\": 67, \"val\": 0.0}, {\"col\": \"Expensive\", \"idx\": 68, \"val\": 1.0}, {\"col\": \"Cheap\", \"idx\": 68, \"val\": 0.0}, {\"col\": \"Expensive\", \"idx\": 69, \"val\": 0.0}, {\"col\": \"Cheap\", \"idx\": 69, \"val\": 0.0}, {\"col\": \"Expensive\", \"idx\": 70, \"val\": 0.0}, {\"col\": \"Cheap\", \"idx\": 70, \"val\": 0.0}, {\"col\": \"Expensive\", \"idx\": 71, \"val\": 0.0}, {\"col\": \"Cheap\", \"idx\": 71, \"val\": 0.0}, {\"col\": \"Expensive\", \"idx\": 72, \"val\": 1.0}, {\"col\": \"Cheap\", \"idx\": 72, \"val\": 0.0}, {\"col\": \"Expensive\", \"idx\": 73, \"val\": 0.0}, {\"col\": \"Cheap\", \"idx\": 73, \"val\": 1.0}, {\"col\": \"Expensive\", \"idx\": 74, \"val\": 0.0}, {\"col\": \"Cheap\", \"idx\": 74, \"val\": 0.0}, {\"col\": \"Expensive\", \"idx\": 75, \"val\": 1.0}, {\"col\": \"Cheap\", \"idx\": 75, \"val\": 0.0}, {\"col\": \"Expensive\", \"idx\": 76, \"val\": 0.0}, {\"col\": \"Cheap\", \"idx\": 76, \"val\": 0.0}]}, {\"name\": \"stats\", \"source\": \"table\", \"transform\": [{\"keys\": [\"data.idx\"], \"type\": \"facet\"}, {\"type\": \"stats\", \"value\": \"data.val\"}]}], \"height\": 300, \"legends\": [{\"fill\": \"color\", \"offset\": 0, \"properties\": {}, \"title\": \"Edge\"}], \"marks\": [{\"from\": {\"data\": \"table\", \"transform\": [{\"keys\": [\"data.col\"], \"type\": \"facet\"}, {\"height\": \"data.val\", \"point\": \"data.idx\", \"type\": \"stack\"}]}, \"marks\": [{\"properties\": {\"enter\": {\"fill\": {\"field\": \"data.col\", \"scale\": \"color\"}, \"interpolate\": {\"value\": \"monotone\"}, \"opacity\": {\"value\": 0.8}, \"x\": {\"field\": \"data.idx\", \"scale\": \"x\"}, \"y\": {\"field\": \"y\", \"scale\": \"y\"}, \"y2\": {\"field\": \"y2\", \"scale\": \"y\"}}, \"hover\": {\"opacity\": {\"value\": 1}, \"size\": {\"value\": 200}}, \"update\": {\"opacity\": {\"value\": 0.8}, \"size\": {\"value\": 100}}}, \"type\": \"area\"}], \"type\": \"group\"}], \"padding\": \"auto\", \"scales\": [{\"domain\": {\"data\": \"table\", \"field\": \"data.idx\"}, \"name\": \"x\", \"range\": \"width\", \"type\": \"linear\", \"zero\": false}, {\"domain\": [0, 161], \"name\": \"y\", \"nice\": true, \"range\": \"height\"}, {\"domain\": {\"data\": \"table\", \"field\": \"data.col\"}, \"name\": \"color\", \"range\": [\"#ff0000\", \"#50aa50\", \"#eeeeee\"], \"type\": \"ordinal\"}], \"width\": 400}, function(chart) {\n",
       "         chart({el: \"#vis47397c8179084ca1b3ecacee515bebce\"}).update();\n",
       "       });\n",
       "     };\n",
       "     _do_plot();\n",
       "   })();\n",
       "</script>\n",
       "<style>.vega canvas {width: 100%;}</style>\n",
       "        "
      ],
      "text/plain": [
       "<vincent.charts.Area at 0x108928090>"
      ]
     },
     "metadata": {},
     "output_type": "display_data"
    },
    {
     "data": {
      "text/html": [
       "<h4>Waiting algorithm: What are the frogs up to?</h4>"
      ],
      "text/plain": [
       "<IPython.core.display.HTML object>"
      ]
     },
     "metadata": {},
     "output_type": "display_data"
    },
    {
     "data": {
      "text/html": [
       "<div id=\"vis36495628824e4ac3a11352fd46a6cccf\"></div>\n",
       "<script>\n",
       "   ( function() {\n",
       "     var _do_plot = function() {\n",
       "       if (typeof vg === 'undefined') {\n",
       "         window.addEventListener('vincent_libs_loaded', _do_plot)\n",
       "         return;\n",
       "       }\n",
       "       vg.parse.spec({\"axes\": [{\"scale\": \"x\", \"title\": \"Rounds\", \"type\": \"x\"}, {\"scale\": \"y\", \"title\": \"# frogs\", \"type\": \"y\"}], \"data\": [{\"name\": \"table\", \"values\": [{\"col\": \"Expensive\", \"idx\": 1, \"val\": 161.0}, {\"col\": \"Cheap\", \"idx\": 1, \"val\": 165.0}, {\"col\": \"Teleportation\", \"idx\": 1, \"val\": 61.0}, {\"col\": \"Waiting\", \"idx\": 1, \"val\": 462.0}, {\"col\": \"Expensive\", \"idx\": 2, \"val\": 211.0}, {\"col\": \"Cheap\", \"idx\": 2, \"val\": 60.0}, {\"col\": \"Teleportation\", \"idx\": 2, \"val\": 79.0}, {\"col\": \"Waiting\", \"idx\": 2, \"val\": 426.0}, {\"col\": \"Expensive\", \"idx\": 3, \"val\": 290.0}, {\"col\": \"Cheap\", \"idx\": 3, \"val\": 62.0}, {\"col\": \"Teleportation\", \"idx\": 3, \"val\": 65.0}, {\"col\": \"Waiting\", \"idx\": 3, \"val\": 306.0}, {\"col\": \"Expensive\", \"idx\": 4, \"val\": 278.0}, {\"col\": \"Cheap\", \"idx\": 4, \"val\": 70.0}, {\"col\": \"Teleportation\", \"idx\": 4, \"val\": 41.0}, {\"col\": \"Waiting\", \"idx\": 4, \"val\": 262.0}, {\"col\": \"Expensive\", \"idx\": 5, \"val\": 103.0}, {\"col\": \"Cheap\", \"idx\": 5, \"val\": 96.0}, {\"col\": \"Teleportation\", \"idx\": 5, \"val\": 65.0}, {\"col\": \"Waiting\", \"idx\": 5, \"val\": 327.0}, {\"col\": \"Expensive\", \"idx\": 6, \"val\": 97.0}, {\"col\": \"Cheap\", \"idx\": 6, \"val\": 31.0}, {\"col\": \"Teleportation\", \"idx\": 6, \"val\": 27.0}, {\"col\": \"Waiting\", \"idx\": 6, \"val\": 388.0}, {\"col\": \"Expensive\", \"idx\": 7, \"val\": 312.0}, {\"col\": \"Cheap\", \"idx\": 7, \"val\": 22.0}, {\"col\": \"Teleportation\", \"idx\": 7, \"val\": 33.0}, {\"col\": \"Waiting\", \"idx\": 7, \"val\": 151.0}, {\"col\": \"Expensive\", \"idx\": 8, \"val\": 178.0}, {\"col\": \"Cheap\", \"idx\": 8, \"val\": 51.0}, {\"col\": \"Teleportation\", \"idx\": 8, \"val\": 7.0}, {\"col\": \"Waiting\", \"idx\": 8, \"val\": 223.0}, {\"col\": \"Expensive\", \"idx\": 9, \"val\": 83.0}, {\"col\": \"Cheap\", \"idx\": 9, \"val\": 60.0}, {\"col\": \"Teleportation\", \"idx\": 9, \"val\": 12.0}, {\"col\": \"Waiting\", \"idx\": 9, \"val\": 263.0}, {\"col\": \"Expensive\", \"idx\": 10, \"val\": 113.0}, {\"col\": \"Cheap\", \"idx\": 10, \"val\": 7.0}, {\"col\": \"Teleportation\", \"idx\": 10, \"val\": 12.0}, {\"col\": \"Waiting\", \"idx\": 10, \"val\": 257.0}, {\"col\": \"Expensive\", \"idx\": 11, \"val\": 189.0}, {\"col\": \"Cheap\", \"idx\": 11, \"val\": 24.0}, {\"col\": \"Teleportation\", \"idx\": 11, \"val\": 47.0}, {\"col\": \"Waiting\", \"idx\": 11, \"val\": 111.0}, {\"col\": \"Expensive\", \"idx\": 12, \"val\": 133.0}, {\"col\": \"Cheap\", \"idx\": 12, \"val\": 39.0}, {\"col\": \"Teleportation\", \"idx\": 12, \"val\": 4.0}, {\"col\": \"Waiting\", \"idx\": 12, \"val\": 140.0}, {\"col\": \"Expensive\", \"idx\": 13, \"val\": 60.0}, {\"col\": \"Cheap\", \"idx\": 13, \"val\": 46.0}, {\"col\": \"Teleportation\", \"idx\": 13, \"val\": 7.0}, {\"col\": \"Waiting\", \"idx\": 13, \"val\": 170.0}, {\"col\": \"Expensive\", \"idx\": 14, \"val\": 51.0}, {\"col\": \"Cheap\", \"idx\": 14, \"val\": 5.0}, {\"col\": \"Teleportation\", \"idx\": 14, \"val\": 13.0}, {\"col\": \"Waiting\", \"idx\": 14, \"val\": 194.0}, {\"col\": \"Expensive\", \"idx\": 15, \"val\": 140.0}, {\"col\": \"Cheap\", \"idx\": 15, \"val\": 10.0}, {\"col\": \"Teleportation\", \"idx\": 15, \"val\": 15.0}, {\"col\": \"Waiting\", \"idx\": 15, \"val\": 85.0}, {\"col\": \"Expensive\", \"idx\": 16, \"val\": 91.0}, {\"col\": \"Cheap\", \"idx\": 16, \"val\": 27.0}, {\"col\": \"Teleportation\", \"idx\": 16, \"val\": 7.0}, {\"col\": \"Waiting\", \"idx\": 16, \"val\": 100.0}, {\"col\": \"Expensive\", \"idx\": 17, \"val\": 39.0}, {\"col\": \"Cheap\", \"idx\": 17, \"val\": 37.0}, {\"col\": \"Teleportation\", \"idx\": 17, \"val\": 3.0}, {\"col\": \"Waiting\", \"idx\": 17, \"val\": 132.0}, {\"col\": \"Expensive\", \"idx\": 18, \"val\": 50.0}, {\"col\": \"Cheap\", \"idx\": 18, \"val\": 4.0}, {\"col\": \"Teleportation\", \"idx\": 18, \"val\": 12.0}, {\"col\": \"Waiting\", \"idx\": 18, \"val\": 135.0}, {\"col\": \"Expensive\", \"idx\": 19, \"val\": 100.0}, {\"col\": \"Cheap\", \"idx\": 19, \"val\": 12.0}, {\"col\": \"Teleportation\", \"idx\": 19, \"val\": 22.0}, {\"col\": \"Waiting\", \"idx\": 19, \"val\": 57.0}, {\"col\": \"Expensive\", \"idx\": 20, \"val\": 60.0}, {\"col\": \"Cheap\", \"idx\": 20, \"val\": 17.0}, {\"col\": \"Teleportation\", \"idx\": 20, \"val\": 4.0}, {\"col\": \"Waiting\", \"idx\": 20, \"val\": 86.0}, {\"col\": \"Expensive\", \"idx\": 21, \"val\": 29.0}, {\"col\": \"Cheap\", \"idx\": 21, \"val\": 18.0}, {\"col\": \"Teleportation\", \"idx\": 21, \"val\": 1.0}, {\"col\": \"Waiting\", \"idx\": 21, \"val\": 103.0}, {\"col\": \"Expensive\", \"idx\": 22, \"val\": 40.0}, {\"col\": \"Cheap\", \"idx\": 22, \"val\": 4.0}, {\"col\": \"Teleportation\", \"idx\": 22, \"val\": 12.0}, {\"col\": \"Waiting\", \"idx\": 22, \"val\": 84.0}, {\"col\": \"Expensive\", \"idx\": 23, \"val\": 59.0}, {\"col\": \"Cheap\", \"idx\": 23, \"val\": 11.0}, {\"col\": \"Teleportation\", \"idx\": 23, \"val\": 11.0}, {\"col\": \"Waiting\", \"idx\": 23, \"val\": 48.0}, {\"col\": \"Expensive\", \"idx\": 24, \"val\": 52.0}, {\"col\": \"Cheap\", \"idx\": 24, \"val\": 6.0}, {\"col\": \"Teleportation\", \"idx\": 24, \"val\": 3.0}, {\"col\": \"Waiting\", \"idx\": 24, \"val\": 50.0}, {\"col\": \"Expensive\", \"idx\": 25, \"val\": 24.0}, {\"col\": \"Cheap\", \"idx\": 25, \"val\": 24.0}, {\"col\": \"Teleportation\", \"idx\": 25, \"val\": 2.0}, {\"col\": \"Waiting\", \"idx\": 25, \"val\": 51.0}, {\"col\": \"Expensive\", \"idx\": 26, \"val\": 18.0}, {\"col\": \"Cheap\", \"idx\": 26, \"val\": 1.0}, {\"col\": \"Teleportation\", \"idx\": 26, \"val\": 6.0}, {\"col\": \"Waiting\", \"idx\": 26, \"val\": 67.0}, {\"col\": \"Expensive\", \"idx\": 27, \"val\": 51.0}, {\"col\": \"Cheap\", \"idx\": 27, \"val\": 3.0}, {\"col\": \"Teleportation\", \"idx\": 27, \"val\": 4.0}, {\"col\": \"Waiting\", \"idx\": 27, \"val\": 30.0}, {\"col\": \"Expensive\", \"idx\": 28, \"val\": 29.0}, {\"col\": \"Cheap\", \"idx\": 28, \"val\": 8.0}, {\"col\": \"Teleportation\", \"idx\": 28, \"val\": NaN}, {\"col\": \"Waiting\", \"idx\": 28, \"val\": 43.0}, {\"col\": \"Expensive\", \"idx\": 29, \"val\": 12.0}, {\"col\": \"Cheap\", \"idx\": 29, \"val\": 11.0}, {\"col\": \"Teleportation\", \"idx\": 29, \"val\": 1.0}, {\"col\": \"Waiting\", \"idx\": 29, \"val\": 49.0}, {\"col\": \"Expensive\", \"idx\": 30, \"val\": 22.0}, {\"col\": \"Cheap\", \"idx\": 30, \"val\": 1.0}, {\"col\": \"Teleportation\", \"idx\": 30, \"val\": 1.0}, {\"col\": \"Waiting\", \"idx\": 30, \"val\": 44.0}, {\"col\": \"Expensive\", \"idx\": 31, \"val\": 36.0}, {\"col\": \"Cheap\", \"idx\": 31, \"val\": 3.0}, {\"col\": \"Teleportation\", \"idx\": 31, \"val\": 5.0}, {\"col\": \"Waiting\", \"idx\": 31, \"val\": 20.0}, {\"col\": \"Expensive\", \"idx\": 32, \"val\": 18.0}, {\"col\": \"Cheap\", \"idx\": 32, \"val\": 3.0}, {\"col\": \"Teleportation\", \"idx\": 32, \"val\": 1.0}, {\"col\": \"Waiting\", \"idx\": 32, \"val\": 36.0}, {\"col\": \"Expensive\", \"idx\": 33, \"val\": 15.0}, {\"col\": \"Cheap\", \"idx\": 33, \"val\": 10.0}, {\"col\": \"Teleportation\", \"idx\": 33, \"val\": NaN}, {\"col\": \"Waiting\", \"idx\": 33, \"val\": 32.0}, {\"col\": \"Expensive\", \"idx\": 34, \"val\": 16.0}, {\"col\": \"Cheap\", \"idx\": 34, \"val\": 1.0}, {\"col\": \"Teleportation\", \"idx\": 34, \"val\": 5.0}, {\"col\": \"Waiting\", \"idx\": 34, \"val\": 29.0}, {\"col\": \"Expensive\", \"idx\": 35, \"val\": 23.0}, {\"col\": \"Cheap\", \"idx\": 35, \"val\": 1.0}, {\"col\": \"Teleportation\", \"idx\": 35, \"val\": 5.0}, {\"col\": \"Waiting\", \"idx\": 35, \"val\": 20.0}, {\"col\": \"Expensive\", \"idx\": 36, \"val\": 16.0}, {\"col\": \"Cheap\", \"idx\": 36, \"val\": 6.0}, {\"col\": \"Teleportation\", \"idx\": 36, \"val\": 1.0}, {\"col\": \"Waiting\", \"idx\": 36, \"val\": 19.0}, {\"col\": \"Expensive\", \"idx\": 37, \"val\": 10.0}, {\"col\": \"Cheap\", \"idx\": 37, \"val\": 6.0}, {\"col\": \"Teleportation\", \"idx\": 37, \"val\": 3.0}, {\"col\": \"Waiting\", \"idx\": 37, \"val\": 22.0}, {\"col\": \"Expensive\", \"idx\": 38, \"val\": 6.0}, {\"col\": \"Cheap\", \"idx\": 38, \"val\": 3.0}, {\"col\": \"Teleportation\", \"idx\": 38, \"val\": 5.0}, {\"col\": \"Waiting\", \"idx\": 38, \"val\": 26.0}, {\"col\": \"Expensive\", \"idx\": 39, \"val\": 19.0}, {\"col\": \"Cheap\", \"idx\": 39, \"val\": 1.0}, {\"col\": \"Teleportation\", \"idx\": 39, \"val\": 4.0}, {\"col\": \"Waiting\", \"idx\": 39, \"val\": 14.0}, {\"col\": \"Expensive\", \"idx\": 40, \"val\": 15.0}, {\"col\": \"Cheap\", \"idx\": 40, \"val\": 3.0}, {\"col\": \"Teleportation\", \"idx\": 40, \"val\": NaN}, {\"col\": \"Waiting\", \"idx\": 40, \"val\": 13.0}, {\"col\": \"Expensive\", \"idx\": 41, \"val\": 8.0}, {\"col\": \"Cheap\", \"idx\": 41, \"val\": 7.0}, {\"col\": \"Teleportation\", \"idx\": 41, \"val\": 1.0}, {\"col\": \"Waiting\", \"idx\": 41, \"val\": 14.0}, {\"col\": \"Expensive\", \"idx\": 42, \"val\": 5.0}, {\"col\": \"Cheap\", \"idx\": 42, \"val\": 2.0}, {\"col\": \"Teleportation\", \"idx\": 42, \"val\": 1.0}, {\"col\": \"Waiting\", \"idx\": 42, \"val\": 15.0}, {\"col\": \"Expensive\", \"idx\": 43, \"val\": 11.0}, {\"col\": \"Cheap\", \"idx\": 43, \"val\": 1.0}, {\"col\": \"Teleportation\", \"idx\": 43, \"val\": 3.0}, {\"col\": \"Waiting\", \"idx\": 43, \"val\": 7.0}, {\"col\": \"Expensive\", \"idx\": 44, \"val\": 6.0}, {\"col\": \"Cheap\", \"idx\": 44, \"val\": 2.0}, {\"col\": \"Teleportation\", \"idx\": 44, \"val\": NaN}, {\"col\": \"Waiting\", \"idx\": 44, \"val\": 8.0}, {\"col\": \"Expensive\", \"idx\": 45, \"val\": 3.0}, {\"col\": \"Cheap\", \"idx\": 45, \"val\": 2.0}, {\"col\": \"Teleportation\", \"idx\": 45, \"val\": NaN}, {\"col\": \"Waiting\", \"idx\": 45, \"val\": 10.0}, {\"col\": \"Expensive\", \"idx\": 46, \"val\": 2.0}, {\"col\": \"Cheap\", \"idx\": 46, \"val\": 0.0}, {\"col\": \"Teleportation\", \"idx\": 46, \"val\": 1.0}, {\"col\": \"Waiting\", \"idx\": 46, \"val\": 10.0}, {\"col\": \"Expensive\", \"idx\": 47, \"val\": 5.0}, {\"col\": \"Cheap\", \"idx\": 47, \"val\": 1.0}, {\"col\": \"Teleportation\", \"idx\": 47, \"val\": NaN}, {\"col\": \"Waiting\", \"idx\": 47, \"val\": 7.0}, {\"col\": \"Expensive\", \"idx\": 48, \"val\": 6.0}, {\"col\": \"Cheap\", \"idx\": 48, \"val\": 1.0}, {\"col\": \"Teleportation\", \"idx\": 48, \"val\": NaN}, {\"col\": \"Waiting\", \"idx\": 48, \"val\": 5.0}, {\"col\": \"Expensive\", \"idx\": 49, \"val\": 2.0}, {\"col\": \"Cheap\", \"idx\": 49, \"val\": 2.0}, {\"col\": \"Teleportation\", \"idx\": 49, \"val\": NaN}, {\"col\": \"Waiting\", \"idx\": 49, \"val\": 7.0}, {\"col\": \"Expensive\", \"idx\": 50, \"val\": 2.0}, {\"col\": \"Cheap\", \"idx\": 50, \"val\": 1.0}, {\"col\": \"Teleportation\", \"idx\": 50, \"val\": NaN}, {\"col\": \"Waiting\", \"idx\": 50, \"val\": 8.0}, {\"col\": \"Expensive\", \"idx\": 51, \"val\": 6.0}, {\"col\": \"Cheap\", \"idx\": 51, \"val\": 1.0}, {\"col\": \"Teleportation\", \"idx\": 51, \"val\": 1.0}, {\"col\": \"Waiting\", \"idx\": 51, \"val\": 3.0}, {\"col\": \"Expensive\", \"idx\": 52, \"val\": 4.0}, {\"col\": \"Cheap\", \"idx\": 52, \"val\": 1.0}, {\"col\": \"Teleportation\", \"idx\": 52, \"val\": NaN}, {\"col\": \"Waiting\", \"idx\": 52, \"val\": 3.0}, {\"col\": \"Expensive\", \"idx\": 53, \"val\": 2.0}, {\"col\": \"Cheap\", \"idx\": 53, \"val\": 1.0}, {\"col\": \"Teleportation\", \"idx\": 53, \"val\": NaN}, {\"col\": \"Waiting\", \"idx\": 53, \"val\": 3.0}, {\"col\": \"Expensive\", \"idx\": 54, \"val\": 1.0}, {\"col\": \"Cheap\", \"idx\": 54, \"val\": 0.0}, {\"col\": \"Teleportation\", \"idx\": 54, \"val\": NaN}, {\"col\": \"Waiting\", \"idx\": 54, \"val\": 4.0}, {\"col\": \"Expensive\", \"idx\": 55, \"val\": 3.0}, {\"col\": \"Cheap\", \"idx\": 55, \"val\": 0.0}, {\"col\": \"Teleportation\", \"idx\": 55, \"val\": NaN}, {\"col\": \"Waiting\", \"idx\": 55, \"val\": 1.0}, {\"col\": \"Expensive\", \"idx\": 56, \"val\": 1.0}, {\"col\": \"Cheap\", \"idx\": 56, \"val\": 0.0}, {\"col\": \"Teleportation\", \"idx\": 56, \"val\": NaN}, {\"col\": \"Waiting\", \"idx\": 56, \"val\": 3.0}, {\"col\": \"Expensive\", \"idx\": 57, \"val\": 1.0}, {\"col\": \"Cheap\", \"idx\": 57, \"val\": 0.0}, {\"col\": \"Teleportation\", \"idx\": 57, \"val\": NaN}, {\"col\": \"Waiting\", \"idx\": 57, \"val\": 2.0}, {\"col\": \"Expensive\", \"idx\": 58, \"val\": 2.0}, {\"col\": \"Cheap\", \"idx\": 58, \"val\": 0.0}, {\"col\": \"Teleportation\", \"idx\": 58, \"val\": NaN}, {\"col\": \"Waiting\", \"idx\": 58, \"val\": 1.0}, {\"col\": \"Expensive\", \"idx\": 59, \"val\": 0.0}, {\"col\": \"Cheap\", \"idx\": 59, \"val\": 1.0}, {\"col\": \"Teleportation\", \"idx\": 59, \"val\": NaN}, {\"col\": \"Waiting\", \"idx\": 59, \"val\": 2.0}, {\"col\": \"Expensive\", \"idx\": 60, \"val\": 2.0}, {\"col\": \"Cheap\", \"idx\": 60, \"val\": 0.0}, {\"col\": \"Teleportation\", \"idx\": 60, \"val\": NaN}, {\"col\": \"Waiting\", \"idx\": 60, \"val\": 1.0}, {\"col\": \"Expensive\", \"idx\": 61, \"val\": 0.0}, {\"col\": \"Cheap\", \"idx\": 61, \"val\": 0.0}, {\"col\": \"Teleportation\", \"idx\": 61, \"val\": NaN}, {\"col\": \"Waiting\", \"idx\": 61, \"val\": 3.0}, {\"col\": \"Expensive\", \"idx\": 62, \"val\": 0.0}, {\"col\": \"Cheap\", \"idx\": 62, \"val\": 0.0}, {\"col\": \"Teleportation\", \"idx\": 62, \"val\": NaN}, {\"col\": \"Waiting\", \"idx\": 62, \"val\": 3.0}, {\"col\": \"Expensive\", \"idx\": 63, \"val\": 1.0}, {\"col\": \"Cheap\", \"idx\": 63, \"val\": 0.0}, {\"col\": \"Teleportation\", \"idx\": 63, \"val\": NaN}, {\"col\": \"Waiting\", \"idx\": 63, \"val\": 2.0}, {\"col\": \"Expensive\", \"idx\": 64, \"val\": 3.0}, {\"col\": \"Cheap\", \"idx\": 64, \"val\": 0.0}, {\"col\": \"Teleportation\", \"idx\": 64, \"val\": NaN}, {\"col\": \"Waiting\", \"idx\": 64, \"val\": 0.0}, {\"col\": \"Expensive\", \"idx\": 65, \"val\": 0.0}, {\"col\": \"Cheap\", \"idx\": 65, \"val\": 0.0}, {\"col\": \"Teleportation\", \"idx\": 65, \"val\": NaN}, {\"col\": \"Waiting\", \"idx\": 65, \"val\": 2.0}, {\"col\": \"Expensive\", \"idx\": 66, \"val\": 0.0}, {\"col\": \"Cheap\", \"idx\": 66, \"val\": 0.0}, {\"col\": \"Teleportation\", \"idx\": 66, \"val\": NaN}, {\"col\": \"Waiting\", \"idx\": 66, \"val\": 2.0}, {\"col\": \"Expensive\", \"idx\": 67, \"val\": 0.0}, {\"col\": \"Cheap\", \"idx\": 67, \"val\": 0.0}, {\"col\": \"Teleportation\", \"idx\": 67, \"val\": NaN}, {\"col\": \"Waiting\", \"idx\": 67, \"val\": 2.0}, {\"col\": \"Expensive\", \"idx\": 68, \"val\": 2.0}, {\"col\": \"Cheap\", \"idx\": 68, \"val\": 0.0}, {\"col\": \"Teleportation\", \"idx\": 68, \"val\": NaN}, {\"col\": \"Waiting\", \"idx\": 68, \"val\": 0.0}, {\"col\": \"Expensive\", \"idx\": 69, \"val\": 0.0}, {\"col\": \"Cheap\", \"idx\": 69, \"val\": 0.0}, {\"col\": \"Teleportation\", \"idx\": 69, \"val\": NaN}, {\"col\": \"Waiting\", \"idx\": 69, \"val\": 2.0}, {\"col\": \"Expensive\", \"idx\": 70, \"val\": 0.0}, {\"col\": \"Cheap\", \"idx\": 70, \"val\": 0.0}, {\"col\": \"Teleportation\", \"idx\": 70, \"val\": NaN}, {\"col\": \"Waiting\", \"idx\": 70, \"val\": 2.0}, {\"col\": \"Expensive\", \"idx\": 71, \"val\": 0.0}, {\"col\": \"Cheap\", \"idx\": 71, \"val\": 0.0}, {\"col\": \"Teleportation\", \"idx\": 71, \"val\": NaN}, {\"col\": \"Waiting\", \"idx\": 71, \"val\": 2.0}, {\"col\": \"Expensive\", \"idx\": 72, \"val\": 2.0}, {\"col\": \"Cheap\", \"idx\": 72, \"val\": 0.0}, {\"col\": \"Teleportation\", \"idx\": 72, \"val\": NaN}, {\"col\": \"Waiting\", \"idx\": 72, \"val\": 0.0}, {\"col\": \"Expensive\", \"idx\": 73, \"val\": 0.0}, {\"col\": \"Cheap\", \"idx\": 73, \"val\": 1.0}, {\"col\": \"Teleportation\", \"idx\": 73, \"val\": NaN}, {\"col\": \"Waiting\", \"idx\": 73, \"val\": 0.0}, {\"col\": \"Expensive\", \"idx\": 74, \"val\": 0.0}, {\"col\": \"Cheap\", \"idx\": 74, \"val\": 0.0}, {\"col\": \"Teleportation\", \"idx\": 74, \"val\": NaN}, {\"col\": \"Waiting\", \"idx\": 74, \"val\": 1.0}, {\"col\": \"Expensive\", \"idx\": 75, \"val\": 1.0}, {\"col\": \"Cheap\", \"idx\": 75, \"val\": 0.0}, {\"col\": \"Teleportation\", \"idx\": 75, \"val\": NaN}, {\"col\": \"Waiting\", \"idx\": 75, \"val\": 0.0}, {\"col\": \"Expensive\", \"idx\": 76, \"val\": 0.0}, {\"col\": \"Cheap\", \"idx\": 76, \"val\": 0.0}, {\"col\": \"Teleportation\", \"idx\": 76, \"val\": NaN}, {\"col\": \"Waiting\", \"idx\": 76, \"val\": 0.0}]}, {\"name\": \"stats\", \"source\": \"table\", \"transform\": [{\"keys\": [\"data.idx\"], \"type\": \"facet\"}, {\"type\": \"stats\", \"value\": \"data.val\"}]}], \"height\": 300, \"legends\": [{\"fill\": \"color\", \"offset\": 0, \"properties\": {}, \"title\": \"Edge\"}], \"marks\": [{\"from\": {\"data\": \"table\", \"transform\": [{\"keys\": [\"data.col\"], \"type\": \"facet\"}, {\"height\": \"data.val\", \"point\": \"data.idx\", \"type\": \"stack\"}]}, \"marks\": [{\"properties\": {\"enter\": {\"fill\": {\"field\": \"data.col\", \"scale\": \"color\"}, \"interpolate\": {\"value\": \"monotone\"}, \"opacity\": {\"value\": 0.8}, \"x\": {\"field\": \"data.idx\", \"scale\": \"x\"}, \"y\": {\"field\": \"y\", \"scale\": \"y\"}, \"y2\": {\"field\": \"y2\", \"scale\": \"y\"}}, \"hover\": {\"opacity\": {\"value\": 1}, \"size\": {\"value\": 200}}, \"update\": {\"opacity\": {\"value\": 0.8}, \"size\": {\"value\": 100}}}, \"type\": \"area\"}], \"type\": \"group\"}], \"padding\": \"auto\", \"scales\": [{\"domain\": {\"data\": \"table\", \"field\": \"data.idx\"}, \"name\": \"x\", \"range\": \"width\", \"type\": \"linear\", \"zero\": false}, {\"domain\": {\"data\": \"stats\", \"field\": \"sum\"}, \"name\": \"y\", \"nice\": true, \"range\": \"height\"}, {\"domain\": {\"data\": \"table\", \"field\": \"data.col\"}, \"name\": \"color\", \"range\": [\"#ff0000\", \"#50aa50\", \"#6060aa\", \"#eeeeee\"], \"type\": \"ordinal\"}], \"width\": 400}, function(chart) {\n",
       "         chart({el: \"#vis36495628824e4ac3a11352fd46a6cccf\"}).update();\n",
       "       });\n",
       "     };\n",
       "     _do_plot();\n",
       "   })();\n",
       "</script>\n",
       "<style>.vega canvas {width: 100%;}</style>\n",
       "        "
      ],
      "text/plain": [
       "<vincent.charts.Area at 0x10897c610>"
      ]
     },
     "metadata": {},
     "output_type": "display_data"
    },
    {
     "data": {
      "text/html": [
       "<h3>Performance stats</h3>"
      ],
      "text/plain": [
       "<IPython.core.display.HTML object>"
      ]
     },
     "metadata": {},
     "output_type": "display_data"
    },
    {
     "name": "stdout",
     "output_type": "stream",
     "text": [
      "Stats normalized by equivalent vanilla random walk stats:\n",
      "\n",
      "Average death round (waiting/vanilla): 1.85766666667\n",
      "Total duration in rounds (waiting/vanilla): 1.76744186047\n",
      "Cost (waiting/vanilla): 0.748043818466\n"
     ]
    },
    {
     "data": {
      "text/html": [
       "<h2>Graph: Powerlaw-Cluster Graph</h2>"
      ],
      "text/plain": [
       "<IPython.core.display.HTML object>"
      ]
     },
     "metadata": {},
     "output_type": "display_data"
    },
    {
     "data": {
      "text/html": [
       "<h3>Vanilla random walk. Cost: 1741.0</h3>"
      ],
      "text/plain": [
       "<IPython.core.display.HTML object>"
      ]
     },
     "metadata": {},
     "output_type": "display_data"
    },
    {
     "data": {
      "text/html": [
       "<div id=\"visdc75b0981d36463a81e4d039248a47c0\"></div>\n",
       "<script>\n",
       "   ( function() {\n",
       "     var _do_plot = function() {\n",
       "       if (typeof vg === 'undefined') {\n",
       "         window.addEventListener('vincent_libs_loaded', _do_plot)\n",
       "         return;\n",
       "       }\n",
       "       vg.parse.spec({\"axes\": [{\"scale\": \"x\", \"title\": \"Rounds\", \"type\": \"x\"}, {\"scale\": \"y\", \"title\": \"# edges traversed\", \"type\": \"y\"}], \"data\": [{\"name\": \"table\", \"values\": [{\"col\": \"Expensive\", \"idx\": 0, \"val\": NaN}, {\"col\": \"Cheap\", \"idx\": 0, \"val\": NaN}, {\"col\": \"Expensive\", \"idx\": 1, \"val\": 136.0}, {\"col\": \"Cheap\", \"idx\": 1, \"val\": 53.0}, {\"col\": \"Expensive\", \"idx\": 2, \"val\": 136.0}, {\"col\": \"Cheap\", \"idx\": 2, \"val\": 55.0}, {\"col\": \"Expensive\", \"idx\": 3, \"val\": 134.0}, {\"col\": \"Cheap\", \"idx\": 3, \"val\": 51.0}, {\"col\": \"Expensive\", \"idx\": 4, \"val\": 132.0}, {\"col\": \"Cheap\", \"idx\": 4, \"val\": 51.0}, {\"col\": \"Expensive\", \"idx\": 5, \"val\": 122.0}, {\"col\": \"Cheap\", \"idx\": 5, \"val\": 53.0}, {\"col\": \"Expensive\", \"idx\": 6, \"val\": 115.0}, {\"col\": \"Cheap\", \"idx\": 6, \"val\": 49.0}, {\"col\": \"Expensive\", \"idx\": 7, \"val\": 106.0}, {\"col\": \"Cheap\", \"idx\": 7, \"val\": 50.0}, {\"col\": \"Expensive\", \"idx\": 8, \"val\": 95.0}, {\"col\": \"Cheap\", \"idx\": 8, \"val\": 45.0}, {\"col\": \"Expensive\", \"idx\": 9, \"val\": 92.0}, {\"col\": \"Cheap\", \"idx\": 9, \"val\": 41.0}, {\"col\": \"Expensive\", \"idx\": 10, \"val\": 80.0}, {\"col\": \"Cheap\", \"idx\": 10, \"val\": 29.0}, {\"col\": \"Expensive\", \"idx\": 11, \"val\": 68.0}, {\"col\": \"Cheap\", \"idx\": 11, \"val\": 28.0}, {\"col\": \"Expensive\", \"idx\": 12, \"val\": 67.0}, {\"col\": \"Cheap\", \"idx\": 12, \"val\": 25.0}, {\"col\": \"Expensive\", \"idx\": 13, \"val\": 55.0}, {\"col\": \"Cheap\", \"idx\": 13, \"val\": 25.0}, {\"col\": \"Expensive\", \"idx\": 14, \"val\": 50.0}, {\"col\": \"Cheap\", \"idx\": 14, \"val\": 20.0}, {\"col\": \"Expensive\", \"idx\": 15, \"val\": 47.0}, {\"col\": \"Cheap\", \"idx\": 15, \"val\": 16.0}, {\"col\": \"Expensive\", \"idx\": 16, \"val\": 38.0}, {\"col\": \"Cheap\", \"idx\": 16, \"val\": 18.0}, {\"col\": \"Expensive\", \"idx\": 17, \"val\": 31.0}, {\"col\": \"Cheap\", \"idx\": 17, \"val\": 16.0}, {\"col\": \"Expensive\", \"idx\": 18, \"val\": 32.0}, {\"col\": \"Cheap\", \"idx\": 18, \"val\": 14.0}, {\"col\": \"Expensive\", \"idx\": 19, \"val\": 30.0}, {\"col\": \"Cheap\", \"idx\": 19, \"val\": 9.0}, {\"col\": \"Expensive\", \"idx\": 20, \"val\": 25.0}, {\"col\": \"Cheap\", \"idx\": 20, \"val\": 9.0}, {\"col\": \"Expensive\", \"idx\": 21, \"val\": 26.0}, {\"col\": \"Cheap\", \"idx\": 21, \"val\": 7.0}, {\"col\": \"Expensive\", \"idx\": 22, \"val\": 18.0}, {\"col\": \"Cheap\", \"idx\": 22, \"val\": 6.0}, {\"col\": \"Expensive\", \"idx\": 23, \"val\": 18.0}, {\"col\": \"Cheap\", \"idx\": 23, \"val\": 5.0}, {\"col\": \"Expensive\", \"idx\": 24, \"val\": 12.0}, {\"col\": \"Cheap\", \"idx\": 24, \"val\": 4.0}, {\"col\": \"Expensive\", \"idx\": 25, \"val\": 11.0}, {\"col\": \"Cheap\", \"idx\": 25, \"val\": 4.0}, {\"col\": \"Expensive\", \"idx\": 26, \"val\": 7.0}, {\"col\": \"Cheap\", \"idx\": 26, \"val\": 7.0}, {\"col\": \"Expensive\", \"idx\": 27, \"val\": 11.0}, {\"col\": \"Cheap\", \"idx\": 27, \"val\": 2.0}, {\"col\": \"Expensive\", \"idx\": 28, \"val\": 8.0}, {\"col\": \"Cheap\", \"idx\": 28, \"val\": 4.0}, {\"col\": \"Expensive\", \"idx\": 29, \"val\": 8.0}, {\"col\": \"Cheap\", \"idx\": 29, \"val\": 0.0}, {\"col\": \"Expensive\", \"idx\": 30, \"val\": 5.0}, {\"col\": \"Cheap\", \"idx\": 30, \"val\": 0.0}, {\"col\": \"Expensive\", \"idx\": 31, \"val\": 4.0}, {\"col\": \"Cheap\", \"idx\": 31, \"val\": 1.0}, {\"col\": \"Expensive\", \"idx\": 32, \"val\": 3.0}, {\"col\": \"Cheap\", \"idx\": 32, \"val\": 1.0}, {\"col\": \"Expensive\", \"idx\": 33, \"val\": 3.0}, {\"col\": \"Cheap\", \"idx\": 33, \"val\": 1.0}, {\"col\": \"Expensive\", \"idx\": 34, \"val\": 4.0}, {\"col\": \"Cheap\", \"idx\": 34, \"val\": 0.0}, {\"col\": \"Expensive\", \"idx\": 35, \"val\": 3.0}, {\"col\": \"Cheap\", \"idx\": 35, \"val\": 0.0}, {\"col\": \"Expensive\", \"idx\": 36, \"val\": 3.0}, {\"col\": \"Cheap\", \"idx\": 36, \"val\": 0.0}, {\"col\": \"Expensive\", \"idx\": 37, \"val\": 2.0}, {\"col\": \"Cheap\", \"idx\": 37, \"val\": 1.0}, {\"col\": \"Expensive\", \"idx\": 38, \"val\": 2.0}, {\"col\": \"Cheap\", \"idx\": 38, \"val\": 1.0}, {\"col\": \"Expensive\", \"idx\": 39, \"val\": 2.0}, {\"col\": \"Cheap\", \"idx\": 39, \"val\": 0.0}, {\"col\": \"Expensive\", \"idx\": 40, \"val\": 0.0}, {\"col\": \"Cheap\", \"idx\": 40, \"val\": 1.0}, {\"col\": \"Expensive\", \"idx\": 41, \"val\": 0.0}, {\"col\": \"Cheap\", \"idx\": 41, \"val\": 0.0}, {\"col\": \"Expensive\", \"idx\": 42, \"val\": NaN}, {\"col\": \"Cheap\", \"idx\": 42, \"val\": NaN}, {\"col\": \"Expensive\", \"idx\": 43, \"val\": NaN}, {\"col\": \"Cheap\", \"idx\": 43, \"val\": NaN}, {\"col\": \"Expensive\", \"idx\": 44, \"val\": NaN}, {\"col\": \"Cheap\", \"idx\": 44, \"val\": NaN}, {\"col\": \"Expensive\", \"idx\": 45, \"val\": NaN}, {\"col\": \"Cheap\", \"idx\": 45, \"val\": NaN}, {\"col\": \"Expensive\", \"idx\": 46, \"val\": NaN}, {\"col\": \"Cheap\", \"idx\": 46, \"val\": NaN}, {\"col\": \"Expensive\", \"idx\": 47, \"val\": NaN}, {\"col\": \"Cheap\", \"idx\": 47, \"val\": NaN}, {\"col\": \"Expensive\", \"idx\": 48, \"val\": NaN}, {\"col\": \"Cheap\", \"idx\": 48, \"val\": NaN}, {\"col\": \"Expensive\", \"idx\": 49, \"val\": NaN}, {\"col\": \"Cheap\", \"idx\": 49, \"val\": NaN}, {\"col\": \"Expensive\", \"idx\": 50, \"val\": NaN}, {\"col\": \"Cheap\", \"idx\": 50, \"val\": NaN}, {\"col\": \"Expensive\", \"idx\": 51, \"val\": NaN}, {\"col\": \"Cheap\", \"idx\": 51, \"val\": NaN}, {\"col\": \"Expensive\", \"idx\": 52, \"val\": NaN}, {\"col\": \"Cheap\", \"idx\": 52, \"val\": NaN}, {\"col\": \"Expensive\", \"idx\": 53, \"val\": NaN}, {\"col\": \"Cheap\", \"idx\": 53, \"val\": NaN}, {\"col\": \"Expensive\", \"idx\": 54, \"val\": NaN}, {\"col\": \"Cheap\", \"idx\": 54, \"val\": NaN}, {\"col\": \"Expensive\", \"idx\": 55, \"val\": NaN}, {\"col\": \"Cheap\", \"idx\": 55, \"val\": NaN}, {\"col\": \"Expensive\", \"idx\": 56, \"val\": NaN}, {\"col\": \"Cheap\", \"idx\": 56, \"val\": NaN}, {\"col\": \"Expensive\", \"idx\": 57, \"val\": NaN}, {\"col\": \"Cheap\", \"idx\": 57, \"val\": NaN}, {\"col\": \"Expensive\", \"idx\": 58, \"val\": NaN}, {\"col\": \"Cheap\", \"idx\": 58, \"val\": NaN}, {\"col\": \"Expensive\", \"idx\": 59, \"val\": NaN}, {\"col\": \"Cheap\", \"idx\": 59, \"val\": NaN}, {\"col\": \"Expensive\", \"idx\": 60, \"val\": NaN}, {\"col\": \"Cheap\", \"idx\": 60, \"val\": NaN}, {\"col\": \"Expensive\", \"idx\": 61, \"val\": NaN}, {\"col\": \"Cheap\", \"idx\": 61, \"val\": NaN}, {\"col\": \"Expensive\", \"idx\": 62, \"val\": NaN}, {\"col\": \"Cheap\", \"idx\": 62, \"val\": NaN}, {\"col\": \"Expensive\", \"idx\": 63, \"val\": NaN}, {\"col\": \"Cheap\", \"idx\": 63, \"val\": NaN}, {\"col\": \"Expensive\", \"idx\": 64, \"val\": NaN}, {\"col\": \"Cheap\", \"idx\": 64, \"val\": NaN}, {\"col\": \"Expensive\", \"idx\": 65, \"val\": NaN}, {\"col\": \"Cheap\", \"idx\": 65, \"val\": NaN}, {\"col\": \"Expensive\", \"idx\": 66, \"val\": NaN}, {\"col\": \"Cheap\", \"idx\": 66, \"val\": NaN}, {\"col\": \"Expensive\", \"idx\": 67, \"val\": NaN}, {\"col\": \"Cheap\", \"idx\": 67, \"val\": NaN}, {\"col\": \"Expensive\", \"idx\": 68, \"val\": NaN}, {\"col\": \"Cheap\", \"idx\": 68, \"val\": NaN}, {\"col\": \"Expensive\", \"idx\": 69, \"val\": NaN}, {\"col\": \"Cheap\", \"idx\": 69, \"val\": NaN}, {\"col\": \"Expensive\", \"idx\": 70, \"val\": NaN}, {\"col\": \"Cheap\", \"idx\": 70, \"val\": NaN}, {\"col\": \"Expensive\", \"idx\": 71, \"val\": NaN}, {\"col\": \"Cheap\", \"idx\": 71, \"val\": NaN}, {\"col\": \"Expensive\", \"idx\": 72, \"val\": NaN}, {\"col\": \"Cheap\", \"idx\": 72, \"val\": NaN}, {\"col\": \"Expensive\", \"idx\": 73, \"val\": NaN}, {\"col\": \"Cheap\", \"idx\": 73, \"val\": NaN}, {\"col\": \"Expensive\", \"idx\": 74, \"val\": NaN}, {\"col\": \"Cheap\", \"idx\": 74, \"val\": NaN}, {\"col\": \"Expensive\", \"idx\": 75, \"val\": NaN}, {\"col\": \"Cheap\", \"idx\": 75, \"val\": NaN}, {\"col\": \"Expensive\", \"idx\": 76, \"val\": NaN}, {\"col\": \"Cheap\", \"idx\": 76, \"val\": NaN}, {\"col\": \"Expensive\", \"idx\": 77, \"val\": NaN}, {\"col\": \"Cheap\", \"idx\": 77, \"val\": NaN}, {\"col\": \"Expensive\", \"idx\": 78, \"val\": NaN}, {\"col\": \"Cheap\", \"idx\": 78, \"val\": NaN}, {\"col\": \"Expensive\", \"idx\": 79, \"val\": NaN}, {\"col\": \"Cheap\", \"idx\": 79, \"val\": NaN}, {\"col\": \"Expensive\", \"idx\": 80, \"val\": NaN}, {\"col\": \"Cheap\", \"idx\": 80, \"val\": NaN}, {\"col\": \"Expensive\", \"idx\": 81, \"val\": NaN}, {\"col\": \"Cheap\", \"idx\": 81, \"val\": NaN}, {\"col\": \"Expensive\", \"idx\": 82, \"val\": NaN}, {\"col\": \"Cheap\", \"idx\": 82, \"val\": NaN}, {\"col\": \"Expensive\", \"idx\": 83, \"val\": NaN}, {\"col\": \"Cheap\", \"idx\": 83, \"val\": NaN}, {\"col\": \"Expensive\", \"idx\": 84, \"val\": NaN}, {\"col\": \"Cheap\", \"idx\": 84, \"val\": NaN}, {\"col\": \"Expensive\", \"idx\": 85, \"val\": NaN}, {\"col\": \"Cheap\", \"idx\": 85, \"val\": NaN}, {\"col\": \"Expensive\", \"idx\": 86, \"val\": NaN}, {\"col\": \"Cheap\", \"idx\": 86, \"val\": NaN}, {\"col\": \"Expensive\", \"idx\": 87, \"val\": NaN}, {\"col\": \"Cheap\", \"idx\": 87, \"val\": NaN}, {\"col\": \"Expensive\", \"idx\": 88, \"val\": NaN}, {\"col\": \"Cheap\", \"idx\": 88, \"val\": NaN}, {\"col\": \"Expensive\", \"idx\": 89, \"val\": NaN}, {\"col\": \"Cheap\", \"idx\": 89, \"val\": NaN}, {\"col\": \"Expensive\", \"idx\": 90, \"val\": NaN}, {\"col\": \"Cheap\", \"idx\": 90, \"val\": NaN}, {\"col\": \"Expensive\", \"idx\": 91, \"val\": NaN}, {\"col\": \"Cheap\", \"idx\": 91, \"val\": NaN}, {\"col\": \"Expensive\", \"idx\": 92, \"val\": NaN}, {\"col\": \"Cheap\", \"idx\": 92, \"val\": NaN}, {\"col\": \"Expensive\", \"idx\": 93, \"val\": NaN}, {\"col\": \"Cheap\", \"idx\": 93, \"val\": NaN}, {\"col\": \"Expensive\", \"idx\": 94, \"val\": NaN}, {\"col\": \"Cheap\", \"idx\": 94, \"val\": NaN}, {\"col\": \"Expensive\", \"idx\": 95, \"val\": NaN}, {\"col\": \"Cheap\", \"idx\": 95, \"val\": NaN}, {\"col\": \"Expensive\", \"idx\": 96, \"val\": NaN}, {\"col\": \"Cheap\", \"idx\": 96, \"val\": NaN}, {\"col\": \"Expensive\", \"idx\": 97, \"val\": NaN}, {\"col\": \"Cheap\", \"idx\": 97, \"val\": NaN}, {\"col\": \"Expensive\", \"idx\": 98, \"val\": NaN}, {\"col\": \"Cheap\", \"idx\": 98, \"val\": NaN}, {\"col\": \"Expensive\", \"idx\": 99, \"val\": NaN}, {\"col\": \"Cheap\", \"idx\": 99, \"val\": NaN}, {\"col\": \"Expensive\", \"idx\": 100, \"val\": NaN}, {\"col\": \"Cheap\", \"idx\": 100, \"val\": NaN}, {\"col\": \"Expensive\", \"idx\": 101, \"val\": NaN}, {\"col\": \"Cheap\", \"idx\": 101, \"val\": NaN}, {\"col\": \"Expensive\", \"idx\": 102, \"val\": NaN}, {\"col\": \"Cheap\", \"idx\": 102, \"val\": NaN}, {\"col\": \"Expensive\", \"idx\": 103, \"val\": NaN}, {\"col\": \"Cheap\", \"idx\": 103, \"val\": NaN}, {\"col\": \"Expensive\", \"idx\": 104, \"val\": NaN}, {\"col\": \"Cheap\", \"idx\": 104, \"val\": NaN}, {\"col\": \"Expensive\", \"idx\": 105, \"val\": NaN}, {\"col\": \"Cheap\", \"idx\": 105, \"val\": NaN}, {\"col\": \"Expensive\", \"idx\": 106, \"val\": NaN}, {\"col\": \"Cheap\", \"idx\": 106, \"val\": NaN}, {\"col\": \"Expensive\", \"idx\": 107, \"val\": NaN}, {\"col\": \"Cheap\", \"idx\": 107, \"val\": NaN}, {\"col\": \"Expensive\", \"idx\": 108, \"val\": NaN}, {\"col\": \"Cheap\", \"idx\": 108, \"val\": NaN}, {\"col\": \"Expensive\", \"idx\": 109, \"val\": NaN}, {\"col\": \"Cheap\", \"idx\": 109, \"val\": NaN}, {\"col\": \"Expensive\", \"idx\": 110, \"val\": NaN}, {\"col\": \"Cheap\", \"idx\": 110, \"val\": NaN}, {\"col\": \"Expensive\", \"idx\": 111, \"val\": NaN}, {\"col\": \"Cheap\", \"idx\": 111, \"val\": NaN}, {\"col\": \"Expensive\", \"idx\": 112, \"val\": NaN}, {\"col\": \"Cheap\", \"idx\": 112, \"val\": NaN}, {\"col\": \"Expensive\", \"idx\": 113, \"val\": NaN}, {\"col\": \"Cheap\", \"idx\": 113, \"val\": NaN}, {\"col\": \"Expensive\", \"idx\": 114, \"val\": NaN}, {\"col\": \"Cheap\", \"idx\": 114, \"val\": NaN}, {\"col\": \"Expensive\", \"idx\": 115, \"val\": NaN}, {\"col\": \"Cheap\", \"idx\": 115, \"val\": NaN}, {\"col\": \"Expensive\", \"idx\": 116, \"val\": NaN}, {\"col\": \"Cheap\", \"idx\": 116, \"val\": NaN}, {\"col\": \"Expensive\", \"idx\": 117, \"val\": NaN}, {\"col\": \"Cheap\", \"idx\": 117, \"val\": NaN}, {\"col\": \"Expensive\", \"idx\": 118, \"val\": NaN}, {\"col\": \"Cheap\", \"idx\": 118, \"val\": NaN}, {\"col\": \"Expensive\", \"idx\": 119, \"val\": NaN}, {\"col\": \"Cheap\", \"idx\": 119, \"val\": NaN}, {\"col\": \"Expensive\", \"idx\": 120, \"val\": NaN}, {\"col\": \"Cheap\", \"idx\": 120, \"val\": NaN}, {\"col\": \"Expensive\", \"idx\": 121, \"val\": NaN}, {\"col\": \"Cheap\", \"idx\": 121, \"val\": NaN}, {\"col\": \"Expensive\", \"idx\": 122, \"val\": NaN}, {\"col\": \"Cheap\", \"idx\": 122, \"val\": NaN}, {\"col\": \"Expensive\", \"idx\": 123, \"val\": NaN}, {\"col\": \"Cheap\", \"idx\": 123, \"val\": NaN}]}, {\"name\": \"stats\", \"source\": \"table\", \"transform\": [{\"keys\": [\"data.idx\"], \"type\": \"facet\"}, {\"type\": \"stats\", \"value\": \"data.val\"}]}], \"height\": 300, \"legends\": [{\"fill\": \"color\", \"offset\": 0, \"properties\": {}, \"title\": \"Edge\"}], \"marks\": [{\"from\": {\"data\": \"table\", \"transform\": [{\"keys\": [\"data.col\"], \"type\": \"facet\"}, {\"height\": \"data.val\", \"point\": \"data.idx\", \"type\": \"stack\"}]}, \"marks\": [{\"properties\": {\"enter\": {\"fill\": {\"field\": \"data.col\", \"scale\": \"color\"}, \"interpolate\": {\"value\": \"monotone\"}, \"opacity\": {\"value\": 0.8}, \"x\": {\"field\": \"data.idx\", \"scale\": \"x\"}, \"y\": {\"field\": \"y\", \"scale\": \"y\"}, \"y2\": {\"field\": \"y2\", \"scale\": \"y\"}}, \"hover\": {\"opacity\": {\"value\": 1}, \"size\": {\"value\": 200}}, \"update\": {\"opacity\": {\"value\": 0.8}, \"size\": {\"value\": 100}}}, \"type\": \"area\"}], \"type\": \"group\"}], \"padding\": \"auto\", \"scales\": [{\"domain\": {\"data\": \"table\", \"field\": \"data.idx\"}, \"name\": \"x\", \"range\": \"width\", \"type\": \"linear\", \"zero\": false}, {\"domain\": [0, 196], \"name\": \"y\", \"nice\": true, \"range\": \"height\"}, {\"domain\": {\"data\": \"table\", \"field\": \"data.col\"}, \"name\": \"color\", \"range\": [\"#ff0000\", \"#50aa50\", \"#eeeeee\"], \"type\": \"ordinal\"}], \"width\": 400}, function(chart) {\n",
       "         chart({el: \"#visdc75b0981d36463a81e4d039248a47c0\"}).update();\n",
       "       });\n",
       "     };\n",
       "     _do_plot();\n",
       "   })();\n",
       "</script>\n",
       "<style>.vega canvas {width: 100%;}</style>\n",
       "        "
      ],
      "text/plain": [
       "<vincent.charts.Area at 0x1086fa190>"
      ]
     },
     "metadata": {},
     "output_type": "display_data"
    },
    {
     "data": {
      "text/html": [
       "<h3>Waiting random walk. Cost: 1281.0, a 26.4215967835% gain</h3>"
      ],
      "text/plain": [
       "<IPython.core.display.HTML object>"
      ]
     },
     "metadata": {},
     "output_type": "display_data"
    },
    {
     "data": {
      "text/html": [
       "<div id=\"vis20035d85bf314df3920a7f727da28bd6\"></div>\n",
       "<script>\n",
       "   ( function() {\n",
       "     var _do_plot = function() {\n",
       "       if (typeof vg === 'undefined') {\n",
       "         window.addEventListener('vincent_libs_loaded', _do_plot)\n",
       "         return;\n",
       "       }\n",
       "       vg.parse.spec({\"axes\": [{\"scale\": \"x\", \"title\": \"Rounds\", \"type\": \"x\"}, {\"scale\": \"y\", \"title\": \"# edges traversed\", \"type\": \"y\"}], \"data\": [{\"name\": \"table\", \"values\": [{\"col\": \"Expensive\", \"idx\": 1, \"val\": 32.0}, {\"col\": \"Cheap\", \"idx\": 1, \"val\": 50.0}, {\"col\": \"Expensive\", \"idx\": 2, \"val\": 33.0}, {\"col\": \"Cheap\", \"idx\": 2, \"val\": 42.0}, {\"col\": \"Expensive\", \"idx\": 3, \"val\": 36.0}, {\"col\": \"Cheap\", \"idx\": 3, \"val\": 36.0}, {\"col\": \"Expensive\", \"idx\": 4, \"val\": 34.0}, {\"col\": \"Cheap\", \"idx\": 4, \"val\": 39.0}, {\"col\": \"Expensive\", \"idx\": 5, \"val\": 36.0}, {\"col\": \"Cheap\", \"idx\": 5, \"val\": 41.0}, {\"col\": \"Expensive\", \"idx\": 6, \"val\": 33.0}, {\"col\": \"Cheap\", \"idx\": 6, \"val\": 37.0}, {\"col\": \"Expensive\", \"idx\": 7, \"val\": 37.0}, {\"col\": \"Cheap\", \"idx\": 7, \"val\": 31.0}, {\"col\": \"Expensive\", \"idx\": 8, \"val\": 34.0}, {\"col\": \"Cheap\", \"idx\": 8, \"val\": 29.0}, {\"col\": \"Expensive\", \"idx\": 9, \"val\": 35.0}, {\"col\": \"Cheap\", \"idx\": 9, \"val\": 33.0}, {\"col\": \"Expensive\", \"idx\": 10, \"val\": 31.0}, {\"col\": \"Cheap\", \"idx\": 10, \"val\": 33.0}, {\"col\": \"Expensive\", \"idx\": 11, \"val\": 35.0}, {\"col\": \"Cheap\", \"idx\": 11, \"val\": 26.0}, {\"col\": \"Expensive\", \"idx\": 12, \"val\": 32.0}, {\"col\": \"Cheap\", \"idx\": 12, \"val\": 26.0}, {\"col\": \"Expensive\", \"idx\": 13, \"val\": 36.0}, {\"col\": \"Cheap\", \"idx\": 13, \"val\": 26.0}, {\"col\": \"Expensive\", \"idx\": 14, \"val\": 30.0}, {\"col\": \"Cheap\", \"idx\": 14, \"val\": 22.0}, {\"col\": \"Expensive\", \"idx\": 15, \"val\": 34.0}, {\"col\": \"Cheap\", \"idx\": 15, \"val\": 25.0}, {\"col\": \"Expensive\", \"idx\": 16, \"val\": 29.0}, {\"col\": \"Cheap\", \"idx\": 16, \"val\": 26.0}, {\"col\": \"Expensive\", \"idx\": 17, \"val\": 35.0}, {\"col\": \"Cheap\", \"idx\": 17, \"val\": 20.0}, {\"col\": \"Expensive\", \"idx\": 18, \"val\": 25.0}, {\"col\": \"Cheap\", \"idx\": 18, \"val\": 17.0}, {\"col\": \"Expensive\", \"idx\": 19, \"val\": 35.0}, {\"col\": \"Cheap\", \"idx\": 19, \"val\": 18.0}, {\"col\": \"Expensive\", \"idx\": 20, \"val\": 23.0}, {\"col\": \"Cheap\", \"idx\": 20, \"val\": 19.0}, {\"col\": \"Expensive\", \"idx\": 21, \"val\": 32.0}, {\"col\": \"Cheap\", \"idx\": 21, \"val\": 16.0}, {\"col\": \"Expensive\", \"idx\": 22, \"val\": 27.0}, {\"col\": \"Cheap\", \"idx\": 22, \"val\": 18.0}, {\"col\": \"Expensive\", \"idx\": 23, \"val\": 30.0}, {\"col\": \"Cheap\", \"idx\": 23, \"val\": 12.0}, {\"col\": \"Expensive\", \"idx\": 24, \"val\": 25.0}, {\"col\": \"Cheap\", \"idx\": 24, \"val\": 14.0}, {\"col\": \"Expensive\", \"idx\": 25, \"val\": 20.0}, {\"col\": \"Cheap\", \"idx\": 25, \"val\": 14.0}, {\"col\": \"Expensive\", \"idx\": 26, \"val\": 22.0}, {\"col\": \"Cheap\", \"idx\": 26, \"val\": 15.0}, {\"col\": \"Expensive\", \"idx\": 27, \"val\": 21.0}, {\"col\": \"Cheap\", \"idx\": 27, \"val\": 14.0}, {\"col\": \"Expensive\", \"idx\": 28, \"val\": 22.0}, {\"col\": \"Cheap\", \"idx\": 28, \"val\": 12.0}, {\"col\": \"Expensive\", \"idx\": 29, \"val\": 24.0}, {\"col\": \"Cheap\", \"idx\": 29, \"val\": 7.0}, {\"col\": \"Expensive\", \"idx\": 30, \"val\": 23.0}, {\"col\": \"Cheap\", \"idx\": 30, \"val\": 12.0}, {\"col\": \"Expensive\", \"idx\": 31, \"val\": 19.0}, {\"col\": \"Cheap\", \"idx\": 31, \"val\": 13.0}, {\"col\": \"Expensive\", \"idx\": 32, \"val\": 18.0}, {\"col\": \"Cheap\", \"idx\": 32, \"val\": 11.0}, {\"col\": \"Expensive\", \"idx\": 33, \"val\": 22.0}, {\"col\": \"Cheap\", \"idx\": 33, \"val\": 10.0}, {\"col\": \"Expensive\", \"idx\": 34, \"val\": 21.0}, {\"col\": \"Cheap\", \"idx\": 34, \"val\": 10.0}, {\"col\": \"Expensive\", \"idx\": 35, \"val\": 16.0}, {\"col\": \"Cheap\", \"idx\": 35, \"val\": 11.0}, {\"col\": \"Expensive\", \"idx\": 36, \"val\": 8.0}, {\"col\": \"Cheap\", \"idx\": 36, \"val\": 11.0}, {\"col\": \"Expensive\", \"idx\": 37, \"val\": 17.0}, {\"col\": \"Cheap\", \"idx\": 37, \"val\": 3.0}, {\"col\": \"Expensive\", \"idx\": 38, \"val\": 12.0}, {\"col\": \"Cheap\", \"idx\": 38, \"val\": 1.0}, {\"col\": \"Expensive\", \"idx\": 39, \"val\": 13.0}, {\"col\": \"Cheap\", \"idx\": 39, \"val\": 2.0}, {\"col\": \"Expensive\", \"idx\": 40, \"val\": 12.0}, {\"col\": \"Cheap\", \"idx\": 40, \"val\": 4.0}, {\"col\": \"Expensive\", \"idx\": 41, \"val\": 19.0}, {\"col\": \"Cheap\", \"idx\": 41, \"val\": 3.0}, {\"col\": \"Expensive\", \"idx\": 42, \"val\": 10.0}, {\"col\": \"Cheap\", \"idx\": 42, \"val\": 7.0}, {\"col\": \"Expensive\", \"idx\": 43, \"val\": 8.0}, {\"col\": \"Cheap\", \"idx\": 43, \"val\": 6.0}, {\"col\": \"Expensive\", \"idx\": 44, \"val\": 10.0}, {\"col\": \"Cheap\", \"idx\": 44, \"val\": 6.0}, {\"col\": \"Expensive\", \"idx\": 45, \"val\": 14.0}, {\"col\": \"Cheap\", \"idx\": 45, \"val\": 5.0}, {\"col\": \"Expensive\", \"idx\": 46, \"val\": 12.0}, {\"col\": \"Cheap\", \"idx\": 46, \"val\": 3.0}, {\"col\": \"Expensive\", \"idx\": 47, \"val\": 9.0}, {\"col\": \"Cheap\", \"idx\": 47, \"val\": 3.0}, {\"col\": \"Expensive\", \"idx\": 48, \"val\": 6.0}, {\"col\": \"Cheap\", \"idx\": 48, \"val\": 4.0}, {\"col\": \"Expensive\", \"idx\": 49, \"val\": 8.0}, {\"col\": \"Cheap\", \"idx\": 49, \"val\": 0.0}, {\"col\": \"Expensive\", \"idx\": 50, \"val\": 4.0}, {\"col\": \"Cheap\", \"idx\": 50, \"val\": 1.0}, {\"col\": \"Expensive\", \"idx\": 51, \"val\": 6.0}, {\"col\": \"Cheap\", \"idx\": 51, \"val\": 1.0}, {\"col\": \"Expensive\", \"idx\": 52, \"val\": 8.0}, {\"col\": \"Cheap\", \"idx\": 52, \"val\": 3.0}, {\"col\": \"Expensive\", \"idx\": 53, \"val\": 7.0}, {\"col\": \"Cheap\", \"idx\": 53, \"val\": 0.0}, {\"col\": \"Expensive\", \"idx\": 54, \"val\": 0.0}, {\"col\": \"Cheap\", \"idx\": 54, \"val\": 2.0}, {\"col\": \"Expensive\", \"idx\": 55, \"val\": 3.0}, {\"col\": \"Cheap\", \"idx\": 55, \"val\": 1.0}, {\"col\": \"Expensive\", \"idx\": 56, \"val\": 4.0}, {\"col\": \"Cheap\", \"idx\": 56, \"val\": 2.0}, {\"col\": \"Expensive\", \"idx\": 57, \"val\": 6.0}, {\"col\": \"Cheap\", \"idx\": 57, \"val\": 1.0}, {\"col\": \"Expensive\", \"idx\": 58, \"val\": 3.0}, {\"col\": \"Cheap\", \"idx\": 58, \"val\": 0.0}, {\"col\": \"Expensive\", \"idx\": 59, \"val\": 3.0}, {\"col\": \"Cheap\", \"idx\": 59, \"val\": 1.0}, {\"col\": \"Expensive\", \"idx\": 60, \"val\": 4.0}, {\"col\": \"Cheap\", \"idx\": 60, \"val\": 1.0}, {\"col\": \"Expensive\", \"idx\": 61, \"val\": 5.0}, {\"col\": \"Cheap\", \"idx\": 61, \"val\": 0.0}, {\"col\": \"Expensive\", \"idx\": 62, \"val\": 2.0}, {\"col\": \"Cheap\", \"idx\": 62, \"val\": 0.0}, {\"col\": \"Expensive\", \"idx\": 63, \"val\": 2.0}, {\"col\": \"Cheap\", \"idx\": 63, \"val\": 1.0}, {\"col\": \"Expensive\", \"idx\": 64, \"val\": 3.0}, {\"col\": \"Cheap\", \"idx\": 64, \"val\": 2.0}, {\"col\": \"Expensive\", \"idx\": 65, \"val\": 3.0}, {\"col\": \"Cheap\", \"idx\": 65, \"val\": 0.0}, {\"col\": \"Expensive\", \"idx\": 66, \"val\": 1.0}, {\"col\": \"Cheap\", \"idx\": 66, \"val\": 0.0}, {\"col\": \"Expensive\", \"idx\": 67, \"val\": 3.0}, {\"col\": \"Cheap\", \"idx\": 67, \"val\": 1.0}, {\"col\": \"Expensive\", \"idx\": 68, \"val\": 3.0}, {\"col\": \"Cheap\", \"idx\": 68, \"val\": 1.0}, {\"col\": \"Expensive\", \"idx\": 69, \"val\": 1.0}, {\"col\": \"Cheap\", \"idx\": 69, \"val\": 2.0}, {\"col\": \"Expensive\", \"idx\": 70, \"val\": 2.0}, {\"col\": \"Cheap\", \"idx\": 70, \"val\": 1.0}, {\"col\": \"Expensive\", \"idx\": 71, \"val\": 2.0}, {\"col\": \"Cheap\", \"idx\": 71, \"val\": 2.0}, {\"col\": \"Expensive\", \"idx\": 72, \"val\": 2.0}, {\"col\": \"Cheap\", \"idx\": 72, \"val\": 0.0}, {\"col\": \"Expensive\", \"idx\": 73, \"val\": 0.0}, {\"col\": \"Cheap\", \"idx\": 73, \"val\": 1.0}, {\"col\": \"Expensive\", \"idx\": 74, \"val\": 2.0}, {\"col\": \"Cheap\", \"idx\": 74, \"val\": 1.0}, {\"col\": \"Expensive\", \"idx\": 75, \"val\": 3.0}, {\"col\": \"Cheap\", \"idx\": 75, \"val\": 0.0}, {\"col\": \"Expensive\", \"idx\": 76, \"val\": 3.0}, {\"col\": \"Cheap\", \"idx\": 76, \"val\": 0.0}, {\"col\": \"Expensive\", \"idx\": 77, \"val\": 1.0}, {\"col\": \"Cheap\", \"idx\": 77, \"val\": 0.0}, {\"col\": \"Expensive\", \"idx\": 78, \"val\": 2.0}, {\"col\": \"Cheap\", \"idx\": 78, \"val\": 0.0}, {\"col\": \"Expensive\", \"idx\": 79, \"val\": 3.0}, {\"col\": \"Cheap\", \"idx\": 79, \"val\": 2.0}, {\"col\": \"Expensive\", \"idx\": 80, \"val\": 1.0}, {\"col\": \"Cheap\", \"idx\": 80, \"val\": 1.0}, {\"col\": \"Expensive\", \"idx\": 81, \"val\": 0.0}, {\"col\": \"Cheap\", \"idx\": 81, \"val\": 1.0}, {\"col\": \"Expensive\", \"idx\": 82, \"val\": 1.0}, {\"col\": \"Cheap\", \"idx\": 82, \"val\": 0.0}, {\"col\": \"Expensive\", \"idx\": 83, \"val\": 3.0}, {\"col\": \"Cheap\", \"idx\": 83, \"val\": 0.0}, {\"col\": \"Expensive\", \"idx\": 84, \"val\": 2.0}, {\"col\": \"Cheap\", \"idx\": 84, \"val\": 0.0}, {\"col\": \"Expensive\", \"idx\": 85, \"val\": 2.0}, {\"col\": \"Cheap\", \"idx\": 85, \"val\": 0.0}, {\"col\": \"Expensive\", \"idx\": 86, \"val\": 2.0}, {\"col\": \"Cheap\", \"idx\": 86, \"val\": 1.0}, {\"col\": \"Expensive\", \"idx\": 87, \"val\": 2.0}, {\"col\": \"Cheap\", \"idx\": 87, \"val\": 2.0}, {\"col\": \"Expensive\", \"idx\": 88, \"val\": 1.0}, {\"col\": \"Cheap\", \"idx\": 88, \"val\": 0.0}, {\"col\": \"Expensive\", \"idx\": 89, \"val\": 3.0}, {\"col\": \"Cheap\", \"idx\": 89, \"val\": 0.0}, {\"col\": \"Expensive\", \"idx\": 90, \"val\": 0.0}, {\"col\": \"Cheap\", \"idx\": 90, \"val\": 0.0}, {\"col\": \"Expensive\", \"idx\": 91, \"val\": 3.0}, {\"col\": \"Cheap\", \"idx\": 91, \"val\": 0.0}, {\"col\": \"Expensive\", \"idx\": 92, \"val\": 1.0}, {\"col\": \"Cheap\", \"idx\": 92, \"val\": 0.0}, {\"col\": \"Expensive\", \"idx\": 93, \"val\": 1.0}, {\"col\": \"Cheap\", \"idx\": 93, \"val\": 0.0}, {\"col\": \"Expensive\", \"idx\": 94, \"val\": 1.0}, {\"col\": \"Cheap\", \"idx\": 94, \"val\": 0.0}, {\"col\": \"Expensive\", \"idx\": 95, \"val\": 2.0}, {\"col\": \"Cheap\", \"idx\": 95, \"val\": 0.0}, {\"col\": \"Expensive\", \"idx\": 96, \"val\": 0.0}, {\"col\": \"Cheap\", \"idx\": 96, \"val\": 0.0}, {\"col\": \"Expensive\", \"idx\": 97, \"val\": 1.0}, {\"col\": \"Cheap\", \"idx\": 97, \"val\": 0.0}, {\"col\": \"Expensive\", \"idx\": 98, \"val\": 1.0}, {\"col\": \"Cheap\", \"idx\": 98, \"val\": 0.0}, {\"col\": \"Expensive\", \"idx\": 99, \"val\": 1.0}, {\"col\": \"Cheap\", \"idx\": 99, \"val\": 0.0}, {\"col\": \"Expensive\", \"idx\": 100, \"val\": 0.0}, {\"col\": \"Cheap\", \"idx\": 100, \"val\": 0.0}, {\"col\": \"Expensive\", \"idx\": 101, \"val\": 1.0}, {\"col\": \"Cheap\", \"idx\": 101, \"val\": 0.0}, {\"col\": \"Expensive\", \"idx\": 102, \"val\": 0.0}, {\"col\": \"Cheap\", \"idx\": 102, \"val\": 1.0}, {\"col\": \"Expensive\", \"idx\": 103, \"val\": 1.0}, {\"col\": \"Cheap\", \"idx\": 103, \"val\": 0.0}, {\"col\": \"Expensive\", \"idx\": 104, \"val\": 0.0}, {\"col\": \"Cheap\", \"idx\": 104, \"val\": 0.0}, {\"col\": \"Expensive\", \"idx\": 105, \"val\": 0.0}, {\"col\": \"Cheap\", \"idx\": 105, \"val\": 0.0}, {\"col\": \"Expensive\", \"idx\": 106, \"val\": 0.0}, {\"col\": \"Cheap\", \"idx\": 106, \"val\": 0.0}, {\"col\": \"Expensive\", \"idx\": 107, \"val\": 1.0}, {\"col\": \"Cheap\", \"idx\": 107, \"val\": 0.0}, {\"col\": \"Expensive\", \"idx\": 108, \"val\": 0.0}, {\"col\": \"Cheap\", \"idx\": 108, \"val\": 0.0}, {\"col\": \"Expensive\", \"idx\": 109, \"val\": 0.0}, {\"col\": \"Cheap\", \"idx\": 109, \"val\": 0.0}, {\"col\": \"Expensive\", \"idx\": 110, \"val\": 0.0}, {\"col\": \"Cheap\", \"idx\": 110, \"val\": 0.0}, {\"col\": \"Expensive\", \"idx\": 111, \"val\": 1.0}, {\"col\": \"Cheap\", \"idx\": 111, \"val\": 0.0}, {\"col\": \"Expensive\", \"idx\": 112, \"val\": 0.0}, {\"col\": \"Cheap\", \"idx\": 112, \"val\": 1.0}, {\"col\": \"Expensive\", \"idx\": 113, \"val\": 0.0}, {\"col\": \"Cheap\", \"idx\": 113, \"val\": 0.0}, {\"col\": \"Expensive\", \"idx\": 114, \"val\": 0.0}, {\"col\": \"Cheap\", \"idx\": 114, \"val\": 0.0}, {\"col\": \"Expensive\", \"idx\": 115, \"val\": 1.0}, {\"col\": \"Cheap\", \"idx\": 115, \"val\": 0.0}, {\"col\": \"Expensive\", \"idx\": 116, \"val\": 0.0}, {\"col\": \"Cheap\", \"idx\": 116, \"val\": 0.0}, {\"col\": \"Expensive\", \"idx\": 117, \"val\": 0.0}, {\"col\": \"Cheap\", \"idx\": 117, \"val\": 0.0}, {\"col\": \"Expensive\", \"idx\": 118, \"val\": 1.0}, {\"col\": \"Cheap\", \"idx\": 118, \"val\": 0.0}, {\"col\": \"Expensive\", \"idx\": 119, \"val\": 0.0}, {\"col\": \"Cheap\", \"idx\": 119, \"val\": 0.0}, {\"col\": \"Expensive\", \"idx\": 120, \"val\": 0.0}, {\"col\": \"Cheap\", \"idx\": 120, \"val\": 0.0}, {\"col\": \"Expensive\", \"idx\": 121, \"val\": 0.0}, {\"col\": \"Cheap\", \"idx\": 121, \"val\": 0.0}, {\"col\": \"Expensive\", \"idx\": 122, \"val\": 1.0}, {\"col\": \"Cheap\", \"idx\": 122, \"val\": 0.0}, {\"col\": \"Expensive\", \"idx\": 123, \"val\": 0.0}, {\"col\": \"Cheap\", \"idx\": 123, \"val\": 0.0}]}, {\"name\": \"stats\", \"source\": \"table\", \"transform\": [{\"keys\": [\"data.idx\"], \"type\": \"facet\"}, {\"type\": \"stats\", \"value\": \"data.val\"}]}], \"height\": 300, \"legends\": [{\"fill\": \"color\", \"offset\": 0, \"properties\": {}, \"title\": \"Edge\"}], \"marks\": [{\"from\": {\"data\": \"table\", \"transform\": [{\"keys\": [\"data.col\"], \"type\": \"facet\"}, {\"height\": \"data.val\", \"point\": \"data.idx\", \"type\": \"stack\"}]}, \"marks\": [{\"properties\": {\"enter\": {\"fill\": {\"field\": \"data.col\", \"scale\": \"color\"}, \"interpolate\": {\"value\": \"monotone\"}, \"opacity\": {\"value\": 0.8}, \"x\": {\"field\": \"data.idx\", \"scale\": \"x\"}, \"y\": {\"field\": \"y\", \"scale\": \"y\"}, \"y2\": {\"field\": \"y2\", \"scale\": \"y\"}}, \"hover\": {\"opacity\": {\"value\": 1}, \"size\": {\"value\": 200}}, \"update\": {\"opacity\": {\"value\": 0.8}, \"size\": {\"value\": 100}}}, \"type\": \"area\"}], \"type\": \"group\"}], \"padding\": \"auto\", \"scales\": [{\"domain\": {\"data\": \"table\", \"field\": \"data.idx\"}, \"name\": \"x\", \"range\": \"width\", \"type\": \"linear\", \"zero\": false}, {\"domain\": [0, 196], \"name\": \"y\", \"nice\": true, \"range\": \"height\"}, {\"domain\": {\"data\": \"table\", \"field\": \"data.col\"}, \"name\": \"color\", \"range\": [\"#ff0000\", \"#50aa50\", \"#eeeeee\"], \"type\": \"ordinal\"}], \"width\": 400}, function(chart) {\n",
       "         chart({el: \"#vis20035d85bf314df3920a7f727da28bd6\"}).update();\n",
       "       });\n",
       "     };\n",
       "     _do_plot();\n",
       "   })();\n",
       "</script>\n",
       "<style>.vega canvas {width: 100%;}</style>\n",
       "        "
      ],
      "text/plain": [
       "<vincent.charts.Area at 0x108999b90>"
      ]
     },
     "metadata": {},
     "output_type": "display_data"
    },
    {
     "data": {
      "text/html": [
       "<h4>Waiting algorithm: What are the frogs up to?</h4>"
      ],
      "text/plain": [
       "<IPython.core.display.HTML object>"
      ]
     },
     "metadata": {},
     "output_type": "display_data"
    },
    {
     "data": {
      "text/html": [
       "<div id=\"vis7d7b8aaed7ac4dcf9c1bc13fb1694f7b\"></div>\n",
       "<script>\n",
       "   ( function() {\n",
       "     var _do_plot = function() {\n",
       "       if (typeof vg === 'undefined') {\n",
       "         window.addEventListener('vincent_libs_loaded', _do_plot)\n",
       "         return;\n",
       "       }\n",
       "       vg.parse.spec({\"axes\": [{\"scale\": \"x\", \"title\": \"Rounds\", \"type\": \"x\"}, {\"scale\": \"y\", \"title\": \"# frogs\", \"type\": \"y\"}], \"data\": [{\"name\": \"table\", \"values\": [{\"col\": \"Expensive\", \"idx\": 1, \"val\": 141.0}, {\"col\": \"Cheap\", \"idx\": 1, \"val\": 235.0}, {\"col\": \"Waiting\", \"idx\": 1, \"val\": 453.0}, {\"col\": \"Expensive\", \"idx\": 2, \"val\": 183.0}, {\"col\": \"Cheap\", \"idx\": 2, \"val\": 97.0}, {\"col\": \"Waiting\", \"idx\": 2, \"val\": 484.0}, {\"col\": \"Expensive\", \"idx\": 3, \"val\": 235.0}, {\"col\": \"Cheap\", \"idx\": 3, \"val\": 58.0}, {\"col\": \"Waiting\", \"idx\": 3, \"val\": 430.0}, {\"col\": \"Expensive\", \"idx\": 4, \"val\": 269.0}, {\"col\": \"Cheap\", \"idx\": 4, \"val\": 68.0}, {\"col\": \"Waiting\", \"idx\": 4, \"val\": 338.0}, {\"col\": \"Expensive\", \"idx\": 5, \"val\": 191.0}, {\"col\": \"Cheap\", \"idx\": 5, \"val\": 90.0}, {\"col\": \"Waiting\", \"idx\": 5, \"val\": 344.0}, {\"col\": \"Expensive\", \"idx\": 6, \"val\": 159.0}, {\"col\": \"Cheap\", \"idx\": 6, \"val\": 65.0}, {\"col\": \"Waiting\", \"idx\": 6, \"val\": 354.0}, {\"col\": \"Expensive\", \"idx\": 7, \"val\": 173.0}, {\"col\": \"Cheap\", \"idx\": 7, \"val\": 52.0}, {\"col\": \"Waiting\", \"idx\": 7, \"val\": 318.0}, {\"col\": \"Expensive\", \"idx\": 8, \"val\": 177.0}, {\"col\": \"Cheap\", \"idx\": 8, \"val\": 50.0}, {\"col\": \"Waiting\", \"idx\": 8, \"val\": 278.0}, {\"col\": \"Expensive\", \"idx\": 9, \"val\": 161.0}, {\"col\": \"Cheap\", \"idx\": 9, \"val\": 55.0}, {\"col\": \"Waiting\", \"idx\": 9, \"val\": 253.0}, {\"col\": \"Expensive\", \"idx\": 10, \"val\": 121.0}, {\"col\": \"Cheap\", \"idx\": 10, \"val\": 54.0}, {\"col\": \"Waiting\", \"idx\": 10, \"val\": 265.0}, {\"col\": \"Expensive\", \"idx\": 11, \"val\": 145.0}, {\"col\": \"Cheap\", \"idx\": 11, \"val\": 42.0}, {\"col\": \"Waiting\", \"idx\": 11, \"val\": 229.0}, {\"col\": \"Expensive\", \"idx\": 12, \"val\": 125.0}, {\"col\": \"Cheap\", \"idx\": 12, \"val\": 36.0}, {\"col\": \"Waiting\", \"idx\": 12, \"val\": 232.0}, {\"col\": \"Expensive\", \"idx\": 13, \"val\": 132.0}, {\"col\": \"Cheap\", \"idx\": 13, \"val\": 36.0}, {\"col\": \"Waiting\", \"idx\": 13, \"val\": 197.0}, {\"col\": \"Expensive\", \"idx\": 14, \"val\": 106.0}, {\"col\": \"Cheap\", \"idx\": 14, \"val\": 30.0}, {\"col\": \"Waiting\", \"idx\": 14, \"val\": 198.0}, {\"col\": \"Expensive\", \"idx\": 15, \"val\": 116.0}, {\"col\": \"Cheap\", \"idx\": 15, \"val\": 29.0}, {\"col\": \"Waiting\", \"idx\": 15, \"val\": 169.0}, {\"col\": \"Expensive\", \"idx\": 16, \"val\": 88.0}, {\"col\": \"Cheap\", \"idx\": 16, \"val\": 36.0}, {\"col\": \"Waiting\", \"idx\": 16, \"val\": 162.0}, {\"col\": \"Expensive\", \"idx\": 17, \"val\": 94.0}, {\"col\": \"Cheap\", \"idx\": 17, \"val\": 26.0}, {\"col\": \"Waiting\", \"idx\": 17, \"val\": 143.0}, {\"col\": \"Expensive\", \"idx\": 18, \"val\": 70.0}, {\"col\": \"Cheap\", \"idx\": 18, \"val\": 21.0}, {\"col\": \"Waiting\", \"idx\": 18, \"val\": 151.0}, {\"col\": \"Expensive\", \"idx\": 19, \"val\": 85.0}, {\"col\": \"Cheap\", \"idx\": 19, \"val\": 23.0}, {\"col\": \"Waiting\", \"idx\": 19, \"val\": 120.0}, {\"col\": \"Expensive\", \"idx\": 20, \"val\": 58.0}, {\"col\": \"Cheap\", \"idx\": 20, \"val\": 23.0}, {\"col\": \"Waiting\", \"idx\": 20, \"val\": 132.0}, {\"col\": \"Expensive\", \"idx\": 21, \"val\": 66.0}, {\"col\": \"Cheap\", \"idx\": 21, \"val\": 19.0}, {\"col\": \"Waiting\", \"idx\": 21, \"val\": 114.0}, {\"col\": \"Expensive\", \"idx\": 22, \"val\": 58.0}, {\"col\": \"Cheap\", \"idx\": 22, \"val\": 22.0}, {\"col\": \"Waiting\", \"idx\": 22, \"val\": 106.0}, {\"col\": \"Expensive\", \"idx\": 23, \"val\": 59.0}, {\"col\": \"Cheap\", \"idx\": 23, \"val\": 13.0}, {\"col\": \"Waiting\", \"idx\": 23, \"val\": 104.0}, {\"col\": \"Expensive\", \"idx\": 24, \"val\": 50.0}, {\"col\": \"Cheap\", \"idx\": 24, \"val\": 15.0}, {\"col\": \"Waiting\", \"idx\": 24, \"val\": 95.0}, {\"col\": \"Expensive\", \"idx\": 25, \"val\": 40.0}, {\"col\": \"Cheap\", \"idx\": 25, \"val\": 19.0}, {\"col\": \"Waiting\", \"idx\": 25, \"val\": 91.0}, {\"col\": \"Expensive\", \"idx\": 26, \"val\": 52.0}, {\"col\": \"Cheap\", \"idx\": 26, \"val\": 19.0}, {\"col\": \"Waiting\", \"idx\": 26, \"val\": 70.0}, {\"col\": \"Expensive\", \"idx\": 27, \"val\": 40.0}, {\"col\": \"Cheap\", \"idx\": 27, \"val\": 16.0}, {\"col\": \"Waiting\", \"idx\": 27, \"val\": 76.0}, {\"col\": \"Expensive\", \"idx\": 28, \"val\": 35.0}, {\"col\": \"Cheap\", \"idx\": 28, \"val\": 12.0}, {\"col\": \"Waiting\", \"idx\": 28, \"val\": 78.0}, {\"col\": \"Expensive\", \"idx\": 29, \"val\": 38.0}, {\"col\": \"Cheap\", \"idx\": 29, \"val\": 7.0}, {\"col\": \"Waiting\", \"idx\": 29, \"val\": 64.0}, {\"col\": \"Expensive\", \"idx\": 30, \"val\": 41.0}, {\"col\": \"Cheap\", \"idx\": 30, \"val\": 12.0}, {\"col\": \"Waiting\", \"idx\": 30, \"val\": 51.0}, {\"col\": \"Expensive\", \"idx\": 31, \"val\": 28.0}, {\"col\": \"Cheap\", \"idx\": 31, \"val\": 14.0}, {\"col\": \"Waiting\", \"idx\": 31, \"val\": 56.0}, {\"col\": \"Expensive\", \"idx\": 32, \"val\": 24.0}, {\"col\": \"Cheap\", \"idx\": 32, \"val\": 11.0}, {\"col\": \"Waiting\", \"idx\": 32, \"val\": 53.0}, {\"col\": \"Expensive\", \"idx\": 33, \"val\": 29.0}, {\"col\": \"Cheap\", \"idx\": 33, \"val\": 11.0}, {\"col\": \"Waiting\", \"idx\": 33, \"val\": 38.0}, {\"col\": \"Expensive\", \"idx\": 34, \"val\": 29.0}, {\"col\": \"Cheap\", \"idx\": 34, \"val\": 10.0}, {\"col\": \"Waiting\", \"idx\": 34, \"val\": 34.0}, {\"col\": \"Expensive\", \"idx\": 35, \"val\": 18.0}, {\"col\": \"Cheap\", \"idx\": 35, \"val\": 12.0}, {\"col\": \"Waiting\", \"idx\": 35, \"val\": 36.0}, {\"col\": \"Expensive\", \"idx\": 36, \"val\": 8.0}, {\"col\": \"Cheap\", \"idx\": 36, \"val\": 11.0}, {\"col\": \"Waiting\", \"idx\": 36, \"val\": 45.0}, {\"col\": \"Expensive\", \"idx\": 37, \"val\": 25.0}, {\"col\": \"Cheap\", \"idx\": 37, \"val\": 4.0}, {\"col\": \"Waiting\", \"idx\": 37, \"val\": 34.0}, {\"col\": \"Expensive\", \"idx\": 38, \"val\": 20.0}, {\"col\": \"Cheap\", \"idx\": 38, \"val\": 2.0}, {\"col\": \"Waiting\", \"idx\": 38, \"val\": 37.0}, {\"col\": \"Expensive\", \"idx\": 39, \"val\": 16.0}, {\"col\": \"Cheap\", \"idx\": 39, \"val\": 3.0}, {\"col\": \"Waiting\", \"idx\": 39, \"val\": 37.0}, {\"col\": \"Expensive\", \"idx\": 40, \"val\": 15.0}, {\"col\": \"Cheap\", \"idx\": 40, \"val\": 4.0}, {\"col\": \"Waiting\", \"idx\": 40, \"val\": 34.0}, {\"col\": \"Expensive\", \"idx\": 41, \"val\": 23.0}, {\"col\": \"Cheap\", \"idx\": 41, \"val\": 3.0}, {\"col\": \"Waiting\", \"idx\": 41, \"val\": 22.0}, {\"col\": \"Expensive\", \"idx\": 42, \"val\": 11.0}, {\"col\": \"Cheap\", \"idx\": 42, \"val\": 7.0}, {\"col\": \"Waiting\", \"idx\": 42, \"val\": 26.0}, {\"col\": \"Expensive\", \"idx\": 43, \"val\": 9.0}, {\"col\": \"Cheap\", \"idx\": 43, \"val\": 6.0}, {\"col\": \"Waiting\", \"idx\": 43, \"val\": 27.0}, {\"col\": \"Expensive\", \"idx\": 44, \"val\": 12.0}, {\"col\": \"Cheap\", \"idx\": 44, \"val\": 6.0}, {\"col\": \"Waiting\", \"idx\": 44, \"val\": 21.0}, {\"col\": \"Expensive\", \"idx\": 45, \"val\": 15.0}, {\"col\": \"Cheap\", \"idx\": 45, \"val\": 5.0}, {\"col\": \"Waiting\", \"idx\": 45, \"val\": 14.0}, {\"col\": \"Expensive\", \"idx\": 46, \"val\": 12.0}, {\"col\": \"Cheap\", \"idx\": 46, \"val\": 3.0}, {\"col\": \"Waiting\", \"idx\": 46, \"val\": 18.0}, {\"col\": \"Expensive\", \"idx\": 47, \"val\": 10.0}, {\"col\": \"Cheap\", \"idx\": 47, \"val\": 3.0}, {\"col\": \"Waiting\", \"idx\": 47, \"val\": 13.0}, {\"col\": \"Expensive\", \"idx\": 48, \"val\": 6.0}, {\"col\": \"Cheap\", \"idx\": 48, \"val\": 4.0}, {\"col\": \"Waiting\", \"idx\": 48, \"val\": 15.0}, {\"col\": \"Expensive\", \"idx\": 49, \"val\": 10.0}, {\"col\": \"Cheap\", \"idx\": 49, \"val\": 0.0}, {\"col\": \"Waiting\", \"idx\": 49, \"val\": 13.0}, {\"col\": \"Expensive\", \"idx\": 50, \"val\": 4.0}, {\"col\": \"Cheap\", \"idx\": 50, \"val\": 1.0}, {\"col\": \"Waiting\", \"idx\": 50, \"val\": 17.0}, {\"col\": \"Expensive\", \"idx\": 51, \"val\": 6.0}, {\"col\": \"Cheap\", \"idx\": 51, \"val\": 1.0}, {\"col\": \"Waiting\", \"idx\": 51, \"val\": 13.0}, {\"col\": \"Expensive\", \"idx\": 52, \"val\": 8.0}, {\"col\": \"Cheap\", \"idx\": 52, \"val\": 3.0}, {\"col\": \"Waiting\", \"idx\": 52, \"val\": 8.0}, {\"col\": \"Expensive\", \"idx\": 53, \"val\": 8.0}, {\"col\": \"Cheap\", \"idx\": 53, \"val\": 0.0}, {\"col\": \"Waiting\", \"idx\": 53, \"val\": 7.0}, {\"col\": \"Expensive\", \"idx\": 54, \"val\": 0.0}, {\"col\": \"Cheap\", \"idx\": 54, \"val\": 2.0}, {\"col\": \"Waiting\", \"idx\": 54, \"val\": 12.0}, {\"col\": \"Expensive\", \"idx\": 55, \"val\": 4.0}, {\"col\": \"Cheap\", \"idx\": 55, \"val\": 1.0}, {\"col\": \"Waiting\", \"idx\": 55, \"val\": 9.0}, {\"col\": \"Expensive\", \"idx\": 56, \"val\": 5.0}, {\"col\": \"Cheap\", \"idx\": 56, \"val\": 2.0}, {\"col\": \"Waiting\", \"idx\": 56, \"val\": 6.0}, {\"col\": \"Expensive\", \"idx\": 57, \"val\": 6.0}, {\"col\": \"Cheap\", \"idx\": 57, \"val\": 1.0}, {\"col\": \"Waiting\", \"idx\": 57, \"val\": 5.0}, {\"col\": \"Expensive\", \"idx\": 58, \"val\": 3.0}, {\"col\": \"Cheap\", \"idx\": 58, \"val\": 0.0}, {\"col\": \"Waiting\", \"idx\": 58, \"val\": 8.0}, {\"col\": \"Expensive\", \"idx\": 59, \"val\": 3.0}, {\"col\": \"Cheap\", \"idx\": 59, \"val\": 1.0}, {\"col\": \"Waiting\", \"idx\": 59, \"val\": 7.0}, {\"col\": \"Expensive\", \"idx\": 60, \"val\": 4.0}, {\"col\": \"Cheap\", \"idx\": 60, \"val\": 1.0}, {\"col\": \"Waiting\", \"idx\": 60, \"val\": 6.0}, {\"col\": \"Expensive\", \"idx\": 61, \"val\": 5.0}, {\"col\": \"Cheap\", \"idx\": 61, \"val\": 0.0}, {\"col\": \"Waiting\", \"idx\": 61, \"val\": 4.0}, {\"col\": \"Expensive\", \"idx\": 62, \"val\": 2.0}, {\"col\": \"Cheap\", \"idx\": 62, \"val\": 0.0}, {\"col\": \"Waiting\", \"idx\": 62, \"val\": 7.0}, {\"col\": \"Expensive\", \"idx\": 63, \"val\": 2.0}, {\"col\": \"Cheap\", \"idx\": 63, \"val\": 1.0}, {\"col\": \"Waiting\", \"idx\": 63, \"val\": 5.0}, {\"col\": \"Expensive\", \"idx\": 64, \"val\": 3.0}, {\"col\": \"Cheap\", \"idx\": 64, \"val\": 2.0}, {\"col\": \"Waiting\", \"idx\": 64, \"val\": 3.0}, {\"col\": \"Expensive\", \"idx\": 65, \"val\": 3.0}, {\"col\": \"Cheap\", \"idx\": 65, \"val\": 0.0}, {\"col\": \"Waiting\", \"idx\": 65, \"val\": 5.0}, {\"col\": \"Expensive\", \"idx\": 66, \"val\": 1.0}, {\"col\": \"Cheap\", \"idx\": 66, \"val\": 0.0}, {\"col\": \"Waiting\", \"idx\": 66, \"val\": 7.0}, {\"col\": \"Expensive\", \"idx\": 67, \"val\": 5.0}, {\"col\": \"Cheap\", \"idx\": 67, \"val\": 1.0}, {\"col\": \"Waiting\", \"idx\": 67, \"val\": 2.0}, {\"col\": \"Expensive\", \"idx\": 68, \"val\": 3.0}, {\"col\": \"Cheap\", \"idx\": 68, \"val\": 1.0}, {\"col\": \"Waiting\", \"idx\": 68, \"val\": 4.0}, {\"col\": \"Expensive\", \"idx\": 69, \"val\": 1.0}, {\"col\": \"Cheap\", \"idx\": 69, \"val\": 2.0}, {\"col\": \"Waiting\", \"idx\": 69, \"val\": 4.0}, {\"col\": \"Expensive\", \"idx\": 70, \"val\": 2.0}, {\"col\": \"Cheap\", \"idx\": 70, \"val\": 1.0}, {\"col\": \"Waiting\", \"idx\": 70, \"val\": 4.0}, {\"col\": \"Expensive\", \"idx\": 71, \"val\": 2.0}, {\"col\": \"Cheap\", \"idx\": 71, \"val\": 2.0}, {\"col\": \"Waiting\", \"idx\": 71, \"val\": 3.0}, {\"col\": \"Expensive\", \"idx\": 72, \"val\": 2.0}, {\"col\": \"Cheap\", \"idx\": 72, \"val\": 0.0}, {\"col\": \"Waiting\", \"idx\": 72, \"val\": 5.0}, {\"col\": \"Expensive\", \"idx\": 73, \"val\": 0.0}, {\"col\": \"Cheap\", \"idx\": 73, \"val\": 1.0}, {\"col\": \"Waiting\", \"idx\": 73, \"val\": 6.0}, {\"col\": \"Expensive\", \"idx\": 74, \"val\": 2.0}, {\"col\": \"Cheap\", \"idx\": 74, \"val\": 1.0}, {\"col\": \"Waiting\", \"idx\": 74, \"val\": 4.0}, {\"col\": \"Expensive\", \"idx\": 75, \"val\": 3.0}, {\"col\": \"Cheap\", \"idx\": 75, \"val\": 0.0}, {\"col\": \"Waiting\", \"idx\": 75, \"val\": 3.0}, {\"col\": \"Expensive\", \"idx\": 76, \"val\": 3.0}, {\"col\": \"Cheap\", \"idx\": 76, \"val\": 0.0}, {\"col\": \"Waiting\", \"idx\": 76, \"val\": 3.0}, {\"col\": \"Expensive\", \"idx\": 77, \"val\": 1.0}, {\"col\": \"Cheap\", \"idx\": 77, \"val\": 0.0}, {\"col\": \"Waiting\", \"idx\": 77, \"val\": 5.0}, {\"col\": \"Expensive\", \"idx\": 78, \"val\": 2.0}, {\"col\": \"Cheap\", \"idx\": 78, \"val\": 0.0}, {\"col\": \"Waiting\", \"idx\": 78, \"val\": 4.0}, {\"col\": \"Expensive\", \"idx\": 79, \"val\": 3.0}, {\"col\": \"Cheap\", \"idx\": 79, \"val\": 2.0}, {\"col\": \"Waiting\", \"idx\": 79, \"val\": 1.0}, {\"col\": \"Expensive\", \"idx\": 80, \"val\": 2.0}, {\"col\": \"Cheap\", \"idx\": 80, \"val\": 1.0}, {\"col\": \"Waiting\", \"idx\": 80, \"val\": 3.0}, {\"col\": \"Expensive\", \"idx\": 81, \"val\": 0.0}, {\"col\": \"Cheap\", \"idx\": 81, \"val\": 1.0}, {\"col\": \"Waiting\", \"idx\": 81, \"val\": 5.0}, {\"col\": \"Expensive\", \"idx\": 82, \"val\": 1.0}, {\"col\": \"Cheap\", \"idx\": 82, \"val\": 0.0}, {\"col\": \"Waiting\", \"idx\": 82, \"val\": 4.0}, {\"col\": \"Expensive\", \"idx\": 83, \"val\": 3.0}, {\"col\": \"Cheap\", \"idx\": 83, \"val\": 0.0}, {\"col\": \"Waiting\", \"idx\": 83, \"val\": 2.0}, {\"col\": \"Expensive\", \"idx\": 84, \"val\": 2.0}, {\"col\": \"Cheap\", \"idx\": 84, \"val\": 0.0}, {\"col\": \"Waiting\", \"idx\": 84, \"val\": 3.0}, {\"col\": \"Expensive\", \"idx\": 85, \"val\": 2.0}, {\"col\": \"Cheap\", \"idx\": 85, \"val\": 0.0}, {\"col\": \"Waiting\", \"idx\": 85, \"val\": 3.0}, {\"col\": \"Expensive\", \"idx\": 86, \"val\": 2.0}, {\"col\": \"Cheap\", \"idx\": 86, \"val\": 1.0}, {\"col\": \"Waiting\", \"idx\": 86, \"val\": 2.0}, {\"col\": \"Expensive\", \"idx\": 87, \"val\": 2.0}, {\"col\": \"Cheap\", \"idx\": 87, \"val\": 2.0}, {\"col\": \"Waiting\", \"idx\": 87, \"val\": 1.0}, {\"col\": \"Expensive\", \"idx\": 88, \"val\": 1.0}, {\"col\": \"Cheap\", \"idx\": 88, \"val\": 0.0}, {\"col\": \"Waiting\", \"idx\": 88, \"val\": 3.0}, {\"col\": \"Expensive\", \"idx\": 89, \"val\": 3.0}, {\"col\": \"Cheap\", \"idx\": 89, \"val\": 0.0}, {\"col\": \"Waiting\", \"idx\": 89, \"val\": 1.0}, {\"col\": \"Expensive\", \"idx\": 90, \"val\": 0.0}, {\"col\": \"Cheap\", \"idx\": 90, \"val\": 0.0}, {\"col\": \"Waiting\", \"idx\": 90, \"val\": 4.0}, {\"col\": \"Expensive\", \"idx\": 91, \"val\": 3.0}, {\"col\": \"Cheap\", \"idx\": 91, \"val\": 0.0}, {\"col\": \"Waiting\", \"idx\": 91, \"val\": 1.0}, {\"col\": \"Expensive\", \"idx\": 92, \"val\": 1.0}, {\"col\": \"Cheap\", \"idx\": 92, \"val\": 0.0}, {\"col\": \"Waiting\", \"idx\": 92, \"val\": 2.0}, {\"col\": \"Expensive\", \"idx\": 93, \"val\": 1.0}, {\"col\": \"Cheap\", \"idx\": 93, \"val\": 0.0}, {\"col\": \"Waiting\", \"idx\": 93, \"val\": 2.0}, {\"col\": \"Expensive\", \"idx\": 94, \"val\": 1.0}, {\"col\": \"Cheap\", \"idx\": 94, \"val\": 0.0}, {\"col\": \"Waiting\", \"idx\": 94, \"val\": 2.0}, {\"col\": \"Expensive\", \"idx\": 95, \"val\": 2.0}, {\"col\": \"Cheap\", \"idx\": 95, \"val\": 0.0}, {\"col\": \"Waiting\", \"idx\": 95, \"val\": 1.0}, {\"col\": \"Expensive\", \"idx\": 96, \"val\": 0.0}, {\"col\": \"Cheap\", \"idx\": 96, \"val\": 0.0}, {\"col\": \"Waiting\", \"idx\": 96, \"val\": 3.0}, {\"col\": \"Expensive\", \"idx\": 97, \"val\": 1.0}, {\"col\": \"Cheap\", \"idx\": 97, \"val\": 0.0}, {\"col\": \"Waiting\", \"idx\": 97, \"val\": 2.0}, {\"col\": \"Expensive\", \"idx\": 98, \"val\": 1.0}, {\"col\": \"Cheap\", \"idx\": 98, \"val\": 0.0}, {\"col\": \"Waiting\", \"idx\": 98, \"val\": 2.0}, {\"col\": \"Expensive\", \"idx\": 99, \"val\": 1.0}, {\"col\": \"Cheap\", \"idx\": 99, \"val\": 0.0}, {\"col\": \"Waiting\", \"idx\": 99, \"val\": 1.0}, {\"col\": \"Expensive\", \"idx\": 100, \"val\": 0.0}, {\"col\": \"Cheap\", \"idx\": 100, \"val\": 0.0}, {\"col\": \"Waiting\", \"idx\": 100, \"val\": 2.0}, {\"col\": \"Expensive\", \"idx\": 101, \"val\": 1.0}, {\"col\": \"Cheap\", \"idx\": 101, \"val\": 0.0}, {\"col\": \"Waiting\", \"idx\": 101, \"val\": 1.0}, {\"col\": \"Expensive\", \"idx\": 102, \"val\": 0.0}, {\"col\": \"Cheap\", \"idx\": 102, \"val\": 1.0}, {\"col\": \"Waiting\", \"idx\": 102, \"val\": 1.0}, {\"col\": \"Expensive\", \"idx\": 103, \"val\": 1.0}, {\"col\": \"Cheap\", \"idx\": 103, \"val\": 0.0}, {\"col\": \"Waiting\", \"idx\": 103, \"val\": 0.0}, {\"col\": \"Expensive\", \"idx\": 104, \"val\": 0.0}, {\"col\": \"Cheap\", \"idx\": 104, \"val\": 0.0}, {\"col\": \"Waiting\", \"idx\": 104, \"val\": 1.0}, {\"col\": \"Expensive\", \"idx\": 105, \"val\": 0.0}, {\"col\": \"Cheap\", \"idx\": 105, \"val\": 0.0}, {\"col\": \"Waiting\", \"idx\": 105, \"val\": 1.0}, {\"col\": \"Expensive\", \"idx\": 106, \"val\": 0.0}, {\"col\": \"Cheap\", \"idx\": 106, \"val\": 0.0}, {\"col\": \"Waiting\", \"idx\": 106, \"val\": 1.0}, {\"col\": \"Expensive\", \"idx\": 107, \"val\": 1.0}, {\"col\": \"Cheap\", \"idx\": 107, \"val\": 0.0}, {\"col\": \"Waiting\", \"idx\": 107, \"val\": 0.0}, {\"col\": \"Expensive\", \"idx\": 108, \"val\": 0.0}, {\"col\": \"Cheap\", \"idx\": 108, \"val\": 0.0}, {\"col\": \"Waiting\", \"idx\": 108, \"val\": 1.0}, {\"col\": \"Expensive\", \"idx\": 109, \"val\": 0.0}, {\"col\": \"Cheap\", \"idx\": 109, \"val\": 0.0}, {\"col\": \"Waiting\", \"idx\": 109, \"val\": 1.0}, {\"col\": \"Expensive\", \"idx\": 110, \"val\": 0.0}, {\"col\": \"Cheap\", \"idx\": 110, \"val\": 0.0}, {\"col\": \"Waiting\", \"idx\": 110, \"val\": 1.0}, {\"col\": \"Expensive\", \"idx\": 111, \"val\": 1.0}, {\"col\": \"Cheap\", \"idx\": 111, \"val\": 0.0}, {\"col\": \"Waiting\", \"idx\": 111, \"val\": 0.0}, {\"col\": \"Expensive\", \"idx\": 112, \"val\": 0.0}, {\"col\": \"Cheap\", \"idx\": 112, \"val\": 1.0}, {\"col\": \"Waiting\", \"idx\": 112, \"val\": 0.0}, {\"col\": \"Expensive\", \"idx\": 113, \"val\": 0.0}, {\"col\": \"Cheap\", \"idx\": 113, \"val\": 0.0}, {\"col\": \"Waiting\", \"idx\": 113, \"val\": 1.0}, {\"col\": \"Expensive\", \"idx\": 114, \"val\": 0.0}, {\"col\": \"Cheap\", \"idx\": 114, \"val\": 0.0}, {\"col\": \"Waiting\", \"idx\": 114, \"val\": 1.0}, {\"col\": \"Expensive\", \"idx\": 115, \"val\": 1.0}, {\"col\": \"Cheap\", \"idx\": 115, \"val\": 0.0}, {\"col\": \"Waiting\", \"idx\": 115, \"val\": 0.0}, {\"col\": \"Expensive\", \"idx\": 116, \"val\": 0.0}, {\"col\": \"Cheap\", \"idx\": 116, \"val\": 0.0}, {\"col\": \"Waiting\", \"idx\": 116, \"val\": 1.0}, {\"col\": \"Expensive\", \"idx\": 117, \"val\": 0.0}, {\"col\": \"Cheap\", \"idx\": 117, \"val\": 0.0}, {\"col\": \"Waiting\", \"idx\": 117, \"val\": 1.0}, {\"col\": \"Expensive\", \"idx\": 118, \"val\": 1.0}, {\"col\": \"Cheap\", \"idx\": 118, \"val\": 0.0}, {\"col\": \"Waiting\", \"idx\": 118, \"val\": 0.0}, {\"col\": \"Expensive\", \"idx\": 119, \"val\": 0.0}, {\"col\": \"Cheap\", \"idx\": 119, \"val\": 0.0}, {\"col\": \"Waiting\", \"idx\": 119, \"val\": 1.0}, {\"col\": \"Expensive\", \"idx\": 120, \"val\": 0.0}, {\"col\": \"Cheap\", \"idx\": 120, \"val\": 0.0}, {\"col\": \"Waiting\", \"idx\": 120, \"val\": 1.0}, {\"col\": \"Expensive\", \"idx\": 121, \"val\": 0.0}, {\"col\": \"Cheap\", \"idx\": 121, \"val\": 0.0}, {\"col\": \"Waiting\", \"idx\": 121, \"val\": 1.0}, {\"col\": \"Expensive\", \"idx\": 122, \"val\": 1.0}, {\"col\": \"Cheap\", \"idx\": 122, \"val\": 0.0}, {\"col\": \"Waiting\", \"idx\": 122, \"val\": 0.0}, {\"col\": \"Expensive\", \"idx\": 123, \"val\": 0.0}, {\"col\": \"Cheap\", \"idx\": 123, \"val\": 0.0}, {\"col\": \"Waiting\", \"idx\": 123, \"val\": 0.0}]}, {\"name\": \"stats\", \"source\": \"table\", \"transform\": [{\"keys\": [\"data.idx\"], \"type\": \"facet\"}, {\"type\": \"stats\", \"value\": \"data.val\"}]}], \"height\": 300, \"legends\": [{\"fill\": \"color\", \"offset\": 0, \"properties\": {}, \"title\": \"Edge\"}], \"marks\": [{\"from\": {\"data\": \"table\", \"transform\": [{\"keys\": [\"data.col\"], \"type\": \"facet\"}, {\"height\": \"data.val\", \"point\": \"data.idx\", \"type\": \"stack\"}]}, \"marks\": [{\"properties\": {\"enter\": {\"fill\": {\"field\": \"data.col\", \"scale\": \"color\"}, \"interpolate\": {\"value\": \"monotone\"}, \"opacity\": {\"value\": 0.8}, \"x\": {\"field\": \"data.idx\", \"scale\": \"x\"}, \"y\": {\"field\": \"y\", \"scale\": \"y\"}, \"y2\": {\"field\": \"y2\", \"scale\": \"y\"}}, \"hover\": {\"opacity\": {\"value\": 1}, \"size\": {\"value\": 200}}, \"update\": {\"opacity\": {\"value\": 0.8}, \"size\": {\"value\": 100}}}, \"type\": \"area\"}], \"type\": \"group\"}], \"padding\": \"auto\", \"scales\": [{\"domain\": {\"data\": \"table\", \"field\": \"data.idx\"}, \"name\": \"x\", \"range\": \"width\", \"type\": \"linear\", \"zero\": false}, {\"domain\": {\"data\": \"stats\", \"field\": \"sum\"}, \"name\": \"y\", \"nice\": true, \"range\": \"height\"}, {\"domain\": {\"data\": \"table\", \"field\": \"data.col\"}, \"name\": \"color\", \"range\": [\"#ff0000\", \"#50aa50\", \"#eeeeee\"], \"type\": \"ordinal\"}], \"width\": 400}, function(chart) {\n",
       "         chart({el: \"#vis7d7b8aaed7ac4dcf9c1bc13fb1694f7b\"}).update();\n",
       "       });\n",
       "     };\n",
       "     _do_plot();\n",
       "   })();\n",
       "</script>\n",
       "<style>.vega canvas {width: 100%;}</style>\n",
       "        "
      ],
      "text/plain": [
       "<vincent.charts.Area at 0x1087554d0>"
      ]
     },
     "metadata": {},
     "output_type": "display_data"
    },
    {
     "data": {
      "text/html": [
       "<h3>Performance stats</h3>"
      ],
      "text/plain": [
       "<IPython.core.display.HTML object>"
      ]
     },
     "metadata": {},
     "output_type": "display_data"
    },
    {
     "name": "stdout",
     "output_type": "stream",
     "text": [
      "Stats normalized by equivalent vanilla random walk stats:\n",
      "\n",
      "Average death round (waiting/vanilla): 2.18433333333\n",
      "Total duration in rounds (waiting/vanilla): 3.0\n",
      "Cost (waiting/vanilla): 0.735784032165\n"
     ]
    }
   ],
   "source": [
    "for k in [4]:\n",
    "    get_ipython().run_cell_magic(u'html', u'', '<h1>Simulating ' + str(k) + ' machines.</h1>')\n",
    "    for G in allG:\n",
    "        rungraph(G, k=k)"
   ]
  },
  {
   "cell_type": "code",
   "execution_count": null,
   "metadata": {
    "collapsed": false
   },
   "outputs": [],
   "source": []
  }
 ],
 "metadata": {
  "kernelspec": {
   "display_name": "Python 2",
   "language": "python",
   "name": "python2"
  },
  "language_info": {
   "codemirror_mode": {
    "name": "ipython",
    "version": 2
   },
   "file_extension": ".py",
   "mimetype": "text/x-python",
   "name": "python",
   "nbconvert_exporter": "python",
   "pygments_lexer": "ipython2",
   "version": "2.7.9"
  }
 },
 "nbformat": 4,
 "nbformat_minor": 0
}
