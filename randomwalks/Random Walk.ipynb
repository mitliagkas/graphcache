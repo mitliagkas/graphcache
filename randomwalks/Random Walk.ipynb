{
 "cells": [
  {
   "cell_type": "code",
   "execution_count": 1,
   "metadata": {
    "collapsed": false
   },
   "outputs": [],
   "source": [
    "import networkx as nx\n",
    "import numpy as np\n",
    "from random import randrange, choice, random\n",
    "import math"
   ]
  },
  {
   "cell_type": "code",
   "execution_count": 2,
   "metadata": {
    "collapsed": false
   },
   "outputs": [],
   "source": [
    "import json\n",
    "from networkx.readwrite import json_graph"
   ]
  },
  {
   "cell_type": "markdown",
   "metadata": {},
   "source": [
    "# Generate graph"
   ]
  },
  {
   "cell_type": "code",
   "execution_count": 3,
   "metadata": {
    "collapsed": false
   },
   "outputs": [],
   "source": [
    "n = 30\n",
    "m = 2\n",
    "p = 0.3"
   ]
  },
  {
   "cell_type": "code",
   "execution_count": 4,
   "metadata": {
    "collapsed": true
   },
   "outputs": [],
   "source": [
    "G = nx.barbell_graph(10,0)"
   ]
  },
  {
   "cell_type": "code",
   "execution_count": 5,
   "metadata": {
    "collapsed": false
   },
   "outputs": [],
   "source": [
    "G = nx.scale_free_graph(n)"
   ]
  },
  {
   "cell_type": "code",
   "execution_count": 6,
   "metadata": {
    "collapsed": true
   },
   "outputs": [],
   "source": [
    "G = nx.powerlaw_cluster_graph(n=n, m=m, p=p)"
   ]
  },
  {
   "cell_type": "code",
   "execution_count": 7,
   "metadata": {
    "collapsed": true
   },
   "outputs": [],
   "source": [
    "G = nx.cycle_graph(10)"
   ]
  },
  {
   "cell_type": "markdown",
   "metadata": {},
   "source": [
    "### Save and Plot Graph"
   ]
  },
  {
   "cell_type": "code",
   "execution_count": 8,
   "metadata": {
    "collapsed": false
   },
   "outputs": [],
   "source": [
    "d = json_graph.node_link_data(G)\n",
    "for node in d['nodes']:\n",
    "    node['name']=node['id']\n",
    "    node['value']=G.degree(node['id'])\n",
    "\n",
    "d['adjacency'] = json_graph.adjacency_data(G)['adjacency']\n",
    "json.dump(d, open('graph.json','w'))"
   ]
  },
  {
   "cell_type": "code",
   "execution_count": 9,
   "metadata": {
    "collapsed": false
   },
   "outputs": [
    {
     "data": {
      "text/html": [
       "<div id=\"d3-example\"></div>\n",
       "<style>\n",
       ".node {stroke: #fff; stroke-width: 1.5px;}\n",
       "marker {stroke: #999;}\n",
       ".link {stroke: #999; stroke-opacity: .3;}\n",
       "</style>\n",
       "<script src=\"force.js\"></script>"
      ],
      "text/plain": [
       "<IPython.core.display.HTML object>"
      ]
     },
     "metadata": {},
     "output_type": "display_data"
    }
   ],
   "source": [
    "%%html\n",
    "<div id=\"d3-example\"></div>\n",
    "<style>\n",
    ".node {stroke: #fff; stroke-width: 1.5px;}\n",
    "marker {stroke: #999;}\n",
    ".link {stroke: #999; stroke-opacity: .3;}\n",
    "</style>\n",
    "<script src=\"force.js\"></script>"
   ]
  },
  {
   "cell_type": "markdown",
   "metadata": {},
   "source": [
    "### Convert to DiGraph, if necessary"
   ]
  },
  {
   "cell_type": "code",
   "execution_count": 10,
   "metadata": {
    "collapsed": false
   },
   "outputs": [],
   "source": [
    "if G.is_multigraph():\n",
    "    if G.is_directed():\n",
    "        Gm = G.copy()\n",
    "        G = nx.DiGraph()\n",
    "        for (u,v) in Gm.edges_iter():\n",
    "            G.add_edge(u,v)"
   ]
  },
  {
   "cell_type": "markdown",
   "metadata": {},
   "source": [
    "# Simulate Random Walks"
   ]
  },
  {
   "cell_type": "code",
   "execution_count": 11,
   "metadata": {
    "collapsed": true
   },
   "outputs": [],
   "source": [
    "frogs = 100"
   ]
  },
  {
   "cell_type": "markdown",
   "metadata": {},
   "source": [
    "## Fixed total time duration"
   ]
  },
  {
   "cell_type": "code",
   "execution_count": 12,
   "metadata": {
    "collapsed": false
   },
   "outputs": [],
   "source": [
    "# Life expectancy L. L should be the mean of a geometric distribution\n",
    "L = int(math.ceil(10*math.log(G.order())))"
   ]
  },
  {
   "cell_type": "code",
   "execution_count": 13,
   "metadata": {
    "collapsed": false
   },
   "outputs": [
    {
     "data": {
      "text/plain": [
       "24"
      ]
     },
     "execution_count": 13,
     "metadata": {},
     "output_type": "execute_result"
    }
   ],
   "source": [
    "L"
   ]
  },
  {
   "cell_type": "markdown",
   "metadata": {},
   "source": [
    "### Count visits"
   ]
  },
  {
   "cell_type": "code",
   "execution_count": 14,
   "metadata": {
    "collapsed": false
   },
   "outputs": [],
   "source": [
    "frog_locations = np.random.randint(0, high = G.number_of_nodes(), size = frogs)\n",
    "for node in G.nodes_iter():\n",
    "    G.node[node]['visits'] = 0\n",
    "for t in range(L):\n",
    "    for f in range(frogs):\n",
    "        loc = frog_locations[f]\n",
    "        if len(G[loc])>0:\n",
    "            frog_locations[f] = choice(G[loc].keys())\n",
    "        else:\n",
    "            frog_locations[f] = np.random.randint(0, high = G.number_of_nodes())\n",
    "        G.node[frog_locations[f]]['visits'] +=1"
   ]
  },
  {
   "cell_type": "code",
   "execution_count": 15,
   "metadata": {
    "collapsed": false
   },
   "outputs": [
    {
     "data": {
      "text/plain": [
       "array([ 0.09916667,  0.09541667,  0.10083333,  0.10541667,  0.11041667,\n",
       "        0.105     ,  0.09791667,  0.095     ,  0.09166667,  0.09916667])"
      ]
     },
     "execution_count": 15,
     "metadata": {},
     "output_type": "execute_result"
    }
   ],
   "source": [
    "fixed_visits = [G.node[node]['visits'] for node in G.nodes_iter() ]\n",
    "norm_fixed_visits = np.array(fixed_visits)/float(sum(fixed_visits))\n",
    "norm_fixed_visits"
   ]
  },
  {
   "cell_type": "markdown",
   "metadata": {},
   "source": [
    "## Death Process"
   ]
  },
  {
   "cell_type": "code",
   "execution_count": 16,
   "metadata": {
    "collapsed": false
   },
   "outputs": [],
   "source": [
    "# P_die is the probability that a frog dies at any given time\n",
    "P_die = 1/L"
   ]
  },
  {
   "cell_type": "markdown",
   "metadata": {},
   "source": [
    "#### Count Visits and Deaths"
   ]
  },
  {
   "cell_type": "code",
   "execution_count": 17,
   "metadata": {
    "collapsed": false
   },
   "outputs": [
    {
     "name": "stdout",
     "output_type": "stream",
     "text": [
      "Traceback (most recent call last):\n",
      "  File \"/Users/migish/anaconda/lib/python2.7/site-packages/IPython/core/ultratb.py\", line 970, in get_records\n",
      "    return _fixed_getinnerframes(etb, number_of_lines_of_context, tb_offset)\n",
      "  File \"/Users/migish/anaconda/lib/python2.7/site-packages/IPython/core/ultratb.py\", line 233, in wrapped\n",
      "    return f(*args, **kwargs)\n",
      "  File \"/Users/migish/anaconda/lib/python2.7/site-packages/IPython/core/ultratb.py\", line 267, in _fixed_getinnerframes\n",
      "    records = fix_frame_records_filenames(inspect.getinnerframes(etb, context))\n",
      "  File \"/Users/migish/anaconda/lib/python2.7/inspect.py\", line 1044, in getinnerframes\n",
      "    framelist.append((tb.tb_frame,) + getframeinfo(tb, context))\n",
      "  File \"/Users/migish/anaconda/lib/python2.7/inspect.py\", line 1004, in getframeinfo\n",
      "    filename = getsourcefile(frame) or getfile(frame)\n",
      "  File \"/Users/migish/anaconda/lib/python2.7/inspect.py\", line 454, in getsourcefile\n",
      "    if hasattr(getmodule(object, filename), '__loader__'):\n",
      "  File \"/Users/migish/anaconda/lib/python2.7/inspect.py\", line 497, in getmodule\n",
      "    f = getabsfile(module)\n",
      "  File \"/Users/migish/anaconda/lib/python2.7/inspect.py\", line 466, in getabsfile\n",
      "    _filename = getsourcefile(object) or getfile(object)\n",
      "  File \"/Users/migish/anaconda/lib/python2.7/inspect.py\", line 451, in getsourcefile\n",
      "    if os.path.exists(filename):\n",
      "  File \"/Users/migish/anaconda/lib/python2.7/genericpath.py\", line 18, in exists\n",
      "    os.stat(path)\n",
      "KeyboardInterrupt\n"
     ]
    },
    {
     "name": "stderr",
     "output_type": "stream",
     "text": [
      "ERROR: Internal Python error in the inspect module.\n",
      "Below is the traceback from this internal error.\n",
      "\n",
      "\n",
      "Unfortunately, your original traceback can not be constructed.\n",
      "\n"
     ]
    },
    {
     "ename": "TypeError",
     "evalue": "'NoneType' object is not iterable",
     "output_type": "error",
     "traceback": [
      "\u001b[0;31m---------------------------------------------------------------------------\u001b[0m",
      "\u001b[0;31mTypeError\u001b[0m                                 Traceback (most recent call last)",
      "\u001b[0;32m/Users/migish/anaconda/lib/python2.7/site-packages/IPython/core/interactiveshell.pyc\u001b[0m in \u001b[0;36mrun_code\u001b[0;34m(self, code_obj, result)\u001b[0m\n\u001b[1;32m   3050\u001b[0m             \u001b[0;32mif\u001b[0m \u001b[0mresult\u001b[0m \u001b[0;32mis\u001b[0m \u001b[0;32mnot\u001b[0m \u001b[0mNone\u001b[0m\u001b[0;34m:\u001b[0m\u001b[0;34m\u001b[0m\u001b[0m\n\u001b[1;32m   3051\u001b[0m                 \u001b[0mresult\u001b[0m\u001b[0;34m.\u001b[0m\u001b[0merror_in_exec\u001b[0m \u001b[0;34m=\u001b[0m \u001b[0msys\u001b[0m\u001b[0;34m.\u001b[0m\u001b[0mexc_info\u001b[0m\u001b[0;34m(\u001b[0m\u001b[0;34m)\u001b[0m\u001b[0;34m[\u001b[0m\u001b[0;36m1\u001b[0m\u001b[0;34m]\u001b[0m\u001b[0;34m\u001b[0m\u001b[0m\n\u001b[0;32m-> 3052\u001b[0;31m             \u001b[0mself\u001b[0m\u001b[0;34m.\u001b[0m\u001b[0mshowtraceback\u001b[0m\u001b[0;34m(\u001b[0m\u001b[0;34m)\u001b[0m\u001b[0;34m\u001b[0m\u001b[0m\n\u001b[0m\u001b[1;32m   3053\u001b[0m         \u001b[0;32melse\u001b[0m\u001b[0;34m:\u001b[0m\u001b[0;34m\u001b[0m\u001b[0m\n\u001b[1;32m   3054\u001b[0m             \u001b[0moutflag\u001b[0m \u001b[0;34m=\u001b[0m \u001b[0;36m0\u001b[0m\u001b[0;34m\u001b[0m\u001b[0m\n",
      "\u001b[0;32m/Users/migish/anaconda/lib/python2.7/site-packages/IPython/core/interactiveshell.pyc\u001b[0m in \u001b[0;36mshowtraceback\u001b[0;34m(self, exc_tuple, filename, tb_offset, exception_only)\u001b[0m\n\u001b[1;32m   1849\u001b[0m                     \u001b[0;32mexcept\u001b[0m \u001b[0mException\u001b[0m\u001b[0;34m:\u001b[0m\u001b[0;34m\u001b[0m\u001b[0m\n\u001b[1;32m   1850\u001b[0m                         stb = self.InteractiveTB.structured_traceback(etype,\n\u001b[0;32m-> 1851\u001b[0;31m                                             value, tb, tb_offset=tb_offset)\n\u001b[0m\u001b[1;32m   1852\u001b[0m \u001b[0;34m\u001b[0m\u001b[0m\n\u001b[1;32m   1853\u001b[0m                     \u001b[0mself\u001b[0m\u001b[0;34m.\u001b[0m\u001b[0m_showtraceback\u001b[0m\u001b[0;34m(\u001b[0m\u001b[0metype\u001b[0m\u001b[0;34m,\u001b[0m \u001b[0mvalue\u001b[0m\u001b[0;34m,\u001b[0m \u001b[0mstb\u001b[0m\u001b[0;34m)\u001b[0m\u001b[0;34m\u001b[0m\u001b[0m\n",
      "\u001b[0;32m/Users/migish/anaconda/lib/python2.7/site-packages/IPython/core/ultratb.pyc\u001b[0m in \u001b[0;36mstructured_traceback\u001b[0;34m(self, etype, value, tb, tb_offset, number_of_lines_of_context)\u001b[0m\n\u001b[1;32m   1238\u001b[0m         \u001b[0mself\u001b[0m\u001b[0;34m.\u001b[0m\u001b[0mtb\u001b[0m \u001b[0;34m=\u001b[0m \u001b[0mtb\u001b[0m\u001b[0;34m\u001b[0m\u001b[0m\n\u001b[1;32m   1239\u001b[0m         return FormattedTB.structured_traceback(\n\u001b[0;32m-> 1240\u001b[0;31m             self, etype, value, tb, tb_offset, number_of_lines_of_context)\n\u001b[0m\u001b[1;32m   1241\u001b[0m \u001b[0;34m\u001b[0m\u001b[0m\n\u001b[1;32m   1242\u001b[0m \u001b[0;34m\u001b[0m\u001b[0m\n",
      "\u001b[0;32m/Users/migish/anaconda/lib/python2.7/site-packages/IPython/core/ultratb.pyc\u001b[0m in \u001b[0;36mstructured_traceback\u001b[0;34m(self, etype, value, tb, tb_offset, number_of_lines_of_context)\u001b[0m\n\u001b[1;32m   1146\u001b[0m             \u001b[0;31m# Verbose modes need a full traceback\u001b[0m\u001b[0;34m\u001b[0m\u001b[0;34m\u001b[0m\u001b[0m\n\u001b[1;32m   1147\u001b[0m             return VerboseTB.structured_traceback(\n\u001b[0;32m-> 1148\u001b[0;31m                 \u001b[0mself\u001b[0m\u001b[0;34m,\u001b[0m \u001b[0metype\u001b[0m\u001b[0;34m,\u001b[0m \u001b[0mvalue\u001b[0m\u001b[0;34m,\u001b[0m \u001b[0mtb\u001b[0m\u001b[0;34m,\u001b[0m \u001b[0mtb_offset\u001b[0m\u001b[0;34m,\u001b[0m \u001b[0mnumber_of_lines_of_context\u001b[0m\u001b[0;34m\u001b[0m\u001b[0m\n\u001b[0m\u001b[1;32m   1149\u001b[0m             )\n\u001b[1;32m   1150\u001b[0m         \u001b[0;32melse\u001b[0m\u001b[0;34m:\u001b[0m\u001b[0;34m\u001b[0m\u001b[0m\n",
      "\u001b[0;32m/Users/migish/anaconda/lib/python2.7/site-packages/IPython/core/ultratb.pyc\u001b[0m in \u001b[0;36mstructured_traceback\u001b[0;34m(self, etype, evalue, etb, tb_offset, number_of_lines_of_context)\u001b[0m\n\u001b[1;32m    998\u001b[0m \u001b[0;34m\u001b[0m\u001b[0m\n\u001b[1;32m    999\u001b[0m         formatted_exception = self.format_exception_as_a_whole(etype, evalue, etb, number_of_lines_of_context,\n\u001b[0;32m-> 1000\u001b[0;31m                                                                tb_offset)\n\u001b[0m\u001b[1;32m   1001\u001b[0m \u001b[0;34m\u001b[0m\u001b[0m\n\u001b[1;32m   1002\u001b[0m         \u001b[0mcolors\u001b[0m \u001b[0;34m=\u001b[0m \u001b[0mself\u001b[0m\u001b[0;34m.\u001b[0m\u001b[0mColors\u001b[0m  \u001b[0;31m# just a shorthand + quicker name lookup\u001b[0m\u001b[0;34m\u001b[0m\u001b[0m\n",
      "\u001b[0;32m/Users/migish/anaconda/lib/python2.7/site-packages/IPython/core/ultratb.pyc\u001b[0m in \u001b[0;36mformat_exception_as_a_whole\u001b[0;34m(self, etype, evalue, etb, number_of_lines_of_context, tb_offset)\u001b[0m\n\u001b[1;32m    949\u001b[0m         \u001b[0mrecords\u001b[0m \u001b[0;34m=\u001b[0m \u001b[0mself\u001b[0m\u001b[0;34m.\u001b[0m\u001b[0mget_records\u001b[0m\u001b[0;34m(\u001b[0m\u001b[0metb\u001b[0m\u001b[0;34m,\u001b[0m \u001b[0mnumber_of_lines_of_context\u001b[0m\u001b[0;34m,\u001b[0m \u001b[0mtb_offset\u001b[0m\u001b[0;34m)\u001b[0m\u001b[0;34m\u001b[0m\u001b[0m\n\u001b[1;32m    950\u001b[0m \u001b[0;34m\u001b[0m\u001b[0m\n\u001b[0;32m--> 951\u001b[0;31m         \u001b[0mframes\u001b[0m \u001b[0;34m=\u001b[0m \u001b[0mself\u001b[0m\u001b[0;34m.\u001b[0m\u001b[0mformat_records\u001b[0m\u001b[0;34m(\u001b[0m\u001b[0mrecords\u001b[0m\u001b[0;34m)\u001b[0m\u001b[0;34m\u001b[0m\u001b[0m\n\u001b[0m\u001b[1;32m    952\u001b[0m         \u001b[0;32mif\u001b[0m \u001b[0mrecords\u001b[0m \u001b[0;32mis\u001b[0m \u001b[0mNone\u001b[0m\u001b[0;34m:\u001b[0m\u001b[0;34m\u001b[0m\u001b[0m\n\u001b[1;32m    953\u001b[0m             \u001b[0;32mreturn\u001b[0m \u001b[0;34m\"\"\u001b[0m\u001b[0;34m\u001b[0m\u001b[0m\n",
      "\u001b[0;32m/Users/migish/anaconda/lib/python2.7/site-packages/IPython/core/ultratb.pyc\u001b[0m in \u001b[0;36mformat_records\u001b[0;34m(self, records)\u001b[0m\n\u001b[1;32m    722\u001b[0m \u001b[0;34m\u001b[0m\u001b[0m\n\u001b[1;32m    723\u001b[0m         \u001b[0mabspath\u001b[0m \u001b[0;34m=\u001b[0m \u001b[0mos\u001b[0m\u001b[0;34m.\u001b[0m\u001b[0mpath\u001b[0m\u001b[0;34m.\u001b[0m\u001b[0mabspath\u001b[0m\u001b[0;34m\u001b[0m\u001b[0m\n\u001b[0;32m--> 724\u001b[0;31m         \u001b[0;32mfor\u001b[0m \u001b[0mframe\u001b[0m\u001b[0;34m,\u001b[0m \u001b[0mfile\u001b[0m\u001b[0;34m,\u001b[0m \u001b[0mlnum\u001b[0m\u001b[0;34m,\u001b[0m \u001b[0mfunc\u001b[0m\u001b[0;34m,\u001b[0m \u001b[0mlines\u001b[0m\u001b[0;34m,\u001b[0m \u001b[0mindex\u001b[0m \u001b[0;32min\u001b[0m \u001b[0mrecords\u001b[0m\u001b[0;34m:\u001b[0m\u001b[0;34m\u001b[0m\u001b[0m\n\u001b[0m\u001b[1;32m    725\u001b[0m             \u001b[0;31m#print '*** record:',file,lnum,func,lines,index  # dbg\u001b[0m\u001b[0;34m\u001b[0m\u001b[0;34m\u001b[0m\u001b[0m\n\u001b[1;32m    726\u001b[0m             \u001b[0;32mif\u001b[0m \u001b[0;32mnot\u001b[0m \u001b[0mfile\u001b[0m\u001b[0;34m:\u001b[0m\u001b[0;34m\u001b[0m\u001b[0m\n",
      "\u001b[0;31mTypeError\u001b[0m: 'NoneType' object is not iterable"
     ]
    }
   ],
   "source": [
    "frog_locations = np.random.randint(0, high = G.number_of_nodes(), size = frogs)\n",
    "for node in G.nodes_iter():\n",
    "    G.node[node]['visits'] = 0\n",
    "    G.node[node]['deaths'] = 0\n",
    "frogs_left = frogs\n",
    "time = 0\n",
    "total_visits = 0\n",
    "death_times_sum = 0\n",
    "while frogs_left:\n",
    "    time +=1\n",
    "    for f in range(frogs):\n",
    "        if frog_locations[f] == -1:\n",
    "            continue\n",
    "            \n",
    "        if random() < P_die:\n",
    "            G.node[frog_locations[f]]['deaths'] += 1\n",
    "            death_times_sum += time\n",
    "            frog_locations[f] = -1\n",
    "            frogs_left -= 1\n",
    "            continue\n",
    "        \n",
    "        total_visits +=1\n",
    "        \n",
    "        loc = frog_locations[f]\n",
    "        if len(G[loc])>0:\n",
    "            frog_locations[f] = choice(G[loc].keys())\n",
    "        else:\n",
    "            frog_locations[f] = np.random.randint(0, high = G.number_of_nodes())\n",
    "        G.node[frog_locations[f]]['visits'] +=1\n",
    "            "
   ]
  },
  {
   "cell_type": "code",
   "execution_count": null,
   "metadata": {
    "collapsed": false
   },
   "outputs": [],
   "source": [
    "print \"Average death time:\", death_times_sum / frogs\n",
    "print \"Expected death time:\", L\n",
    "print \"Nominal death time STD:\", math.sqrt((1-P_die)/P_die**2)"
   ]
  },
  {
   "cell_type": "code",
   "execution_count": null,
   "metadata": {
    "collapsed": false
   },
   "outputs": [],
   "source": [
    "visits = [G.node[node]['visits'] for node in G.nodes_iter() ]\n",
    "norm_visits = np.array(visits)/float(total_visits)\n",
    "norm_visits"
   ]
  },
  {
   "cell_type": "code",
   "execution_count": null,
   "metadata": {
    "collapsed": false
   },
   "outputs": [],
   "source": [
    "deaths = [G.node[node]['deaths'] for node in G.nodes_iter() ]\n",
    "norm_deaths = np.array(deaths)/float(frogs)\n",
    "norm_deaths"
   ]
  },
  {
   "cell_type": "code",
   "execution_count": null,
   "metadata": {
    "collapsed": false
   },
   "outputs": [],
   "source": [
    "if G.is_directed():\n",
    "    degrees = [ G.in_degree(node) for node in G.nodes_iter() ]\n",
    "    norm_degrees = np.array(degrees)/float(G.size())\n",
    "else:\n",
    "    degrees = [ G.degree(node) for node in G.nodes_iter() ]\n",
    "    norm_degrees = np.array(degrees)/float(2*G.size())\n",
    "\n",
    "norm_degrees"
   ]
  },
  {
   "cell_type": "code",
   "execution_count": null,
   "metadata": {
    "collapsed": false
   },
   "outputs": [],
   "source": [
    "import matplotlib.pyplot as plt\n",
    "%matplotlib inline\n",
    "%config InlineBackend.figure_format = 'svg' "
   ]
  },
  {
   "cell_type": "code",
   "execution_count": null,
   "metadata": {
    "collapsed": false
   },
   "outputs": [],
   "source": [
    "x = np.array([norm_fixed_visits, norm_visits, norm_deaths, norm_degrees]).T\n",
    "\n",
    "plt.plot(np.array(range(G.order())).T,x)\n",
    "plt.legend(['Visits (Fixed Time)', 'Visits', 'Deaths', 'Degree'], loc='best')\n",
    "plt.axis([0, G.order()-1, 0, min([2*np.max(x),1])]);"
   ]
  },
  {
   "cell_type": "code",
   "execution_count": 203,
   "metadata": {
    "collapsed": false
   },
   "outputs": [],
   "source": [
    "import vincent"
   ]
  },
  {
   "cell_type": "code",
   "execution_count": 204,
   "metadata": {
    "collapsed": false
   },
   "outputs": [
    {
     "data": {
      "text/html": [
       "\n",
       "           <script>\n",
       "               \n",
       "                function vct_load_lib(url, callback){\n",
       "                      if(typeof d3 !== 'undefined' &&\n",
       "                         url === 'http://d3js.org/d3.v3.min.js'){\n",
       "                        callback()\n",
       "                      }\n",
       "                      var s = document.createElement('script');\n",
       "                      s.src = url;\n",
       "                      s.async = true;\n",
       "                      s.onreadystatechange = s.onload = callback;\n",
       "                      s.onerror = function(){\n",
       "                        console.warn(\"failed to load library \" + url);\n",
       "                        };\n",
       "                      document.getElementsByTagName(\"head\")[0].appendChild(s);\n",
       "                };\n",
       "                var vincent_event = new CustomEvent(\n",
       "                  \"vincent_libs_loaded\",\n",
       "                  {bubbles: true, cancelable: true}\n",
       "                );\n",
       "                \n",
       "               function load_all_libs(){\n",
       "                  console.log('Loading Vincent libs...')\n",
       "                  vct_load_lib('http://d3js.org/d3.v3.min.js', function(){\n",
       "                  vct_load_lib('http://d3js.org/d3.geo.projection.v0.min.js', function(){\n",
       "                  vct_load_lib('http://wrobstory.github.io/d3-cloud/d3.layout.cloud.js', function(){\n",
       "                  vct_load_lib('http://wrobstory.github.io/vega/vega.v1.3.3.js', function(){\n",
       "                  window.dispatchEvent(vincent_event);\n",
       "                  });\n",
       "                  });\n",
       "                  });\n",
       "                  });\n",
       "               };\n",
       "               if(typeof define === \"function\" && define.amd){\n",
       "                    if (window['d3'] === undefined ||\n",
       "                        window['topojson'] === undefined){\n",
       "                        require.config(\n",
       "                            {paths: {\n",
       "                              d3: 'http://d3js.org/d3.v3.min',\n",
       "                              topojson: 'http://d3js.org/topojson.v1.min'\n",
       "                              }\n",
       "                            }\n",
       "                          );\n",
       "                        require([\"d3\"], function(d3){\n",
       "                            console.log('Loading Vincent from require.js...')\n",
       "                            window.d3 = d3;\n",
       "                            require([\"topojson\"], function(topojson){\n",
       "                                window.topojson = topojson;\n",
       "                                load_all_libs();\n",
       "                            });\n",
       "                        });\n",
       "                    } else {\n",
       "                        load_all_libs();\n",
       "                    };\n",
       "               }else{\n",
       "                    console.log('Require.js not found, loading manually...')\n",
       "                    load_all_libs();\n",
       "               };\n",
       "\n",
       "           </script>"
      ],
      "text/plain": [
       "<IPython.core.display.HTML at 0x1086cb3d0>"
      ]
     },
     "metadata": {},
     "output_type": "display_data"
    }
   ],
   "source": [
    "vincent.initialize_notebook()"
   ]
  },
  {
   "cell_type": "code",
   "execution_count": 205,
   "metadata": {
    "collapsed": false
   },
   "outputs": [],
   "source": [
    "multi_iter1 = {'index':range(G.order()), 'Visits (fixed duration)':norm_fixed_visits, 'Visits':norm_visits, 'Deaths':norm_deaths, 'Degree':norm_degrees}"
   ]
  },
  {
   "cell_type": "code",
   "execution_count": 206,
   "metadata": {
    "collapsed": false
   },
   "outputs": [],
   "source": [
    "line = vincent.Line(multi_iter1, iter_idx='index')\n",
    "line.axis_titles(x='Vertex', y='Juice')\n",
    "line.legend(title='Results')\n",
    "line.width = 400\n",
    "line.height = 300\n",
    "#line.colors(range_=['#a6cee3','#1f78b4','#b2df8a','#33a02c'])\n",
    "#line.colors(brew='Paired')\n",
    "line.marks[0].marks[0].properties.enter.stroke_width.value = 6\n",
    "line.marks[0].marks[0].properties.enter.stroke_opacity = vincent.ValueRef(value=0.7)"
   ]
  },
  {
   "cell_type": "code",
   "execution_count": 207,
   "metadata": {
    "collapsed": false
   },
   "outputs": [],
   "source": [
    "line.marks[0].marks[0].properties.update = vincent.PropertySet()\n",
    "line.marks[0].marks[0].properties.update.stroke_opacity = vincent.ValueRef(value=0.7)\n",
    "line.marks[0].marks[0].properties.hover = vincent.PropertySet()\n",
    "line.marks[0].marks[0].properties.hover.stroke_opacity = vincent.ValueRef(value=1)"
   ]
  },
  {
   "cell_type": "code",
   "execution_count": null,
   "metadata": {
    "collapsed": false
   },
   "outputs": [],
   "source": [
    "line"
   ]
  },
  {
   "cell_type": "code",
   "execution_count": 209,
   "metadata": {
    "collapsed": true
   },
   "outputs": [],
   "source": [
    "line = vincent.Scatter(multi_iter1, iter_idx='index')\n",
    "line.axis_titles(x='Vertex', y='Juice')\n",
    "line.legend(title='Results')\n",
    "line.width = 400\n",
    "line.height = 300\n",
    "line.marks[0].marks[0].properties.enter.opacity = vincent.ValueRef(value=1)"
   ]
  },
  {
   "cell_type": "code",
   "execution_count": 210,
   "metadata": {
    "collapsed": false
   },
   "outputs": [],
   "source": [
    "line.marks[0].marks[0].properties.update = vincent.PropertySet()\n",
    "line.marks[0].marks[0].properties.update.size = vincent.ValueRef(value=100)\n",
    "line.marks[0].marks[0].properties.hover = vincent.PropertySet()\n",
    "line.marks[0].marks[0].properties.hover.size = vincent.ValueRef(value=200)"
   ]
  },
  {
   "cell_type": "code",
   "execution_count": 211,
   "metadata": {
    "collapsed": false
   },
   "outputs": [],
   "source": [
    "line.marks[0].marks[0].properties.update.size = vincent.ValueRef(value=100)\n",
    "line.marks[0].marks[0].properties.hover = vincent.PropertySet()\n",
    "line.marks[0].marks[0].properties.hover.size = vincent.ValueRef(value=200)"
   ]
  },
  {
   "cell_type": "code",
   "execution_count": 212,
   "metadata": {
    "collapsed": false
   },
   "outputs": [
    {
     "data": {
      "text/html": [
       "<div id=\"visc873cd2392724545ac284d6b64d475e3\"></div>\n",
       "<script>\n",
       "   ( function() {\n",
       "     var _do_plot = function() {\n",
       "       if (typeof vg === 'undefined') {\n",
       "         window.addEventListener('vincent_libs_loaded', _do_plot)\n",
       "         return;\n",
       "       }\n",
       "       vg.parse.spec({\"axes\": [{\"scale\": \"x\", \"title\": \"Vertex\", \"type\": \"x\"}, {\"scale\": \"y\", \"title\": \"Juice\", \"type\": \"y\"}], \"data\": [{\"name\": \"table\", \"values\": [{\"col\": \"Deaths\", \"idx\": 0, \"val\": 0.11}, {\"col\": \"Deaths\", \"idx\": 1, \"val\": 0.12}, {\"col\": \"Deaths\", \"idx\": 2, \"val\": 0.20000000000000001}, {\"col\": \"Deaths\", \"idx\": 3, \"val\": 0.029999999999999999}, {\"col\": \"Deaths\", \"idx\": 4, \"val\": 0.040000000000000001}, {\"col\": \"Deaths\", \"idx\": 5, \"val\": 0.01}, {\"col\": \"Deaths\", \"idx\": 6, \"val\": 0.01}, {\"col\": \"Deaths\", \"idx\": 7, \"val\": 0.10000000000000001}, {\"col\": \"Deaths\", \"idx\": 8, \"val\": 0.02}, {\"col\": \"Deaths\", \"idx\": 9, \"val\": 0.0}, {\"col\": \"Deaths\", \"idx\": 10, \"val\": 0.059999999999999998}, {\"col\": \"Deaths\", \"idx\": 11, \"val\": 0.0}, {\"col\": \"Deaths\", \"idx\": 12, \"val\": 0.01}, {\"col\": \"Deaths\", \"idx\": 13, \"val\": 0.0}, {\"col\": \"Deaths\", \"idx\": 14, \"val\": 0.0}, {\"col\": \"Deaths\", \"idx\": 15, \"val\": 0.01}, {\"col\": \"Deaths\", \"idx\": 16, \"val\": 0.080000000000000002}, {\"col\": \"Deaths\", \"idx\": 17, \"val\": 0.02}, {\"col\": \"Deaths\", \"idx\": 18, \"val\": 0.01}, {\"col\": \"Deaths\", \"idx\": 19, \"val\": 0.0}, {\"col\": \"Deaths\", \"idx\": 20, \"val\": 0.0}, {\"col\": \"Deaths\", \"idx\": 21, \"val\": 0.01}, {\"col\": \"Deaths\", \"idx\": 22, \"val\": 0.070000000000000007}, {\"col\": \"Deaths\", \"idx\": 23, \"val\": 0.02}, {\"col\": \"Deaths\", \"idx\": 24, \"val\": 0.0}, {\"col\": \"Deaths\", \"idx\": 25, \"val\": 0.01}, {\"col\": \"Deaths\", \"idx\": 26, \"val\": 0.01}, {\"col\": \"Deaths\", \"idx\": 27, \"val\": 0.01}, {\"col\": \"Deaths\", \"idx\": 28, \"val\": 0.01}, {\"col\": \"Deaths\", \"idx\": 29, \"val\": 0.029999999999999999}, {\"col\": \"Degree\", \"idx\": 0, \"val\": 0.11627906976744186}, {\"col\": \"Degree\", \"idx\": 1, \"val\": 0.23255813953488372}, {\"col\": \"Degree\", \"idx\": 2, \"val\": 0.27906976744186046}, {\"col\": \"Degree\", \"idx\": 3, \"val\": 0.0}, {\"col\": \"Degree\", \"idx\": 4, \"val\": 0.0}, {\"col\": \"Degree\", \"idx\": 5, \"val\": 0.046511627906976744}, {\"col\": \"Degree\", \"idx\": 6, \"val\": 0.0}, {\"col\": \"Degree\", \"idx\": 7, \"val\": 0.16279069767441862}, {\"col\": \"Degree\", \"idx\": 8, \"val\": 0.0}, {\"col\": \"Degree\", \"idx\": 9, \"val\": 0.023255813953488372}, {\"col\": \"Degree\", \"idx\": 10, \"val\": 0.046511627906976744}, {\"col\": \"Degree\", \"idx\": 11, \"val\": 0.0}, {\"col\": \"Degree\", \"idx\": 12, \"val\": 0.0}, {\"col\": \"Degree\", \"idx\": 13, \"val\": 0.0}, {\"col\": \"Degree\", \"idx\": 14, \"val\": 0.0}, {\"col\": \"Degree\", \"idx\": 15, \"val\": 0.0}, {\"col\": \"Degree\", \"idx\": 16, \"val\": 0.023255813953488372}, {\"col\": \"Degree\", \"idx\": 17, \"val\": 0.0}, {\"col\": \"Degree\", \"idx\": 18, \"val\": 0.0}, {\"col\": \"Degree\", \"idx\": 19, \"val\": 0.0}, {\"col\": \"Degree\", \"idx\": 20, \"val\": 0.023255813953488372}, {\"col\": \"Degree\", \"idx\": 21, \"val\": 0.0}, {\"col\": \"Degree\", \"idx\": 22, \"val\": 0.023255813953488372}, {\"col\": \"Degree\", \"idx\": 23, \"val\": 0.0}, {\"col\": \"Degree\", \"idx\": 24, \"val\": 0.0}, {\"col\": \"Degree\", \"idx\": 25, \"val\": 0.0}, {\"col\": \"Degree\", \"idx\": 26, \"val\": 0.0}, {\"col\": \"Degree\", \"idx\": 27, \"val\": 0.0}, {\"col\": \"Degree\", \"idx\": 28, \"val\": 0.0}, {\"col\": \"Degree\", \"idx\": 29, \"val\": 0.023255813953488372}, {\"col\": \"Visits\", \"idx\": 0, \"val\": 0.087830352903940492}, {\"col\": \"Visits\", \"idx\": 1, \"val\": 0.18491849976262068}, {\"col\": \"Visits\", \"idx\": 2, \"val\": 0.18808355752492484}, {\"col\": \"Visits\", \"idx\": 3, \"val\": 0.0099963074326106446}, {\"col\": \"Visits\", \"idx\": 4, \"val\": 0.010840322835891755}, {\"col\": \"Visits\", \"idx\": 5, \"val\": 0.016405549401276573}, {\"col\": \"Visits\", \"idx\": 6, \"val\": 0.010207311283430923}, {\"col\": \"Visits\", \"idx\": 7, \"val\": 0.1337764414200559}, {\"col\": \"Visits\", \"idx\": 8, \"val\": 0.0096006752123226242}, {\"col\": \"Visits\", \"idx\": 9, \"val\": 0.013609748377907897}, {\"col\": \"Visits\", \"idx\": 10, \"val\": 0.03278472332120061}, {\"col\": \"Visits\", \"idx\": 11, \"val\": 0.0098908055072005063}, {\"col\": \"Visits\", \"idx\": 12, \"val\": 0.010128184839373319}, {\"col\": \"Visits\", \"idx\": 13, \"val\": 0.011367832462942448}, {\"col\": \"Visits\", \"idx\": 14, \"val\": 0.011315081500237379}, {\"col\": \"Visits\", \"idx\": 15, \"val\": 0.010629318985071478}, {\"col\": \"Visits\", \"idx\": 16, \"val\": 0.026612860684707498}, {\"col\": \"Visits\", \"idx\": 17, \"val\": 0.011235955056179775}, {\"col\": \"Visits\", \"idx\": 18, \"val\": 0.010998575724006964}, {\"col\": \"Visits\", \"idx\": 19, \"val\": 0.011104077649417102}, {\"col\": \"Visits\", \"idx\": 20, \"val\": 0.011921717571345677}, {\"col\": \"Visits\", \"idx\": 21, \"val\": 0.010497441578308803}, {\"col\": \"Visits\", \"idx\": 22, \"val\": 0.055784143060610858}, {\"col\": \"Visits\", \"idx\": 23, \"val\": 0.0099171809885530409}, {\"col\": \"Visits\", \"idx\": 24, \"val\": 0.0093105449174447439}, {\"col\": \"Visits\", \"idx\": 25, \"val\": 0.010233686764783458}, {\"col\": \"Visits\", \"idx\": 26, \"val\": 0.0099435564699055755}, {\"col\": \"Visits\", \"idx\": 27, \"val\": 0.0099171809885530409}, {\"col\": \"Visits\", \"idx\": 28, \"val\": 0.01081394735453922}, {\"col\": \"Visits\", \"idx\": 29, \"val\": 0.050324418420636174}, {\"col\": \"Visits (fixed duration)\", \"idx\": 0, \"val\": 0.081100000000000005}, {\"col\": \"Visits (fixed duration)\", \"idx\": 1, \"val\": 0.18060000000000001}, {\"col\": \"Visits (fixed duration)\", \"idx\": 2, \"val\": 0.1888}, {\"col\": \"Visits (fixed duration)\", \"idx\": 3, \"val\": 0.0091000000000000004}, {\"col\": \"Visits (fixed duration)\", \"idx\": 4, \"val\": 0.0091999999999999998}, {\"col\": \"Visits (fixed duration)\", \"idx\": 5, \"val\": 0.015900000000000001}, {\"col\": \"Visits (fixed duration)\", \"idx\": 6, \"val\": 0.0097000000000000003}, {\"col\": \"Visits (fixed duration)\", \"idx\": 7, \"val\": 0.1449}, {\"col\": \"Visits (fixed duration)\", \"idx\": 8, \"val\": 0.0106}, {\"col\": \"Visits (fixed duration)\", \"idx\": 9, \"val\": 0.0126}, {\"col\": \"Visits (fixed duration)\", \"idx\": 10, \"val\": 0.032800000000000003}, {\"col\": \"Visits (fixed duration)\", \"idx\": 11, \"val\": 0.0094000000000000004}, {\"col\": \"Visits (fixed duration)\", \"idx\": 12, \"val\": 0.0101}, {\"col\": \"Visits (fixed duration)\", \"idx\": 13, \"val\": 0.011900000000000001}, {\"col\": \"Visits (fixed duration)\", \"idx\": 14, \"val\": 0.0106}, {\"col\": \"Visits (fixed duration)\", \"idx\": 15, \"val\": 0.0097000000000000003}, {\"col\": \"Visits (fixed duration)\", \"idx\": 16, \"val\": 0.026599999999999999}, {\"col\": \"Visits (fixed duration)\", \"idx\": 17, \"val\": 0.0118}, {\"col\": \"Visits (fixed duration)\", \"idx\": 18, \"val\": 0.013599999999999999}, {\"col\": \"Visits (fixed duration)\", \"idx\": 19, \"val\": 0.0094999999999999998}, {\"col\": \"Visits (fixed duration)\", \"idx\": 20, \"val\": 0.013599999999999999}, {\"col\": \"Visits (fixed duration)\", \"idx\": 21, \"val\": 0.0097999999999999997}, {\"col\": \"Visits (fixed duration)\", \"idx\": 22, \"val\": 0.054199999999999998}, {\"col\": \"Visits (fixed duration)\", \"idx\": 23, \"val\": 0.0112}, {\"col\": \"Visits (fixed duration)\", \"idx\": 24, \"val\": 0.013299999999999999}, {\"col\": \"Visits (fixed duration)\", \"idx\": 25, \"val\": 0.0111}, {\"col\": \"Visits (fixed duration)\", \"idx\": 26, \"val\": 0.0109}, {\"col\": \"Visits (fixed duration)\", \"idx\": 27, \"val\": 0.010800000000000001}, {\"col\": \"Visits (fixed duration)\", \"idx\": 28, \"val\": 0.0112}, {\"col\": \"Visits (fixed duration)\", \"idx\": 29, \"val\": 0.045400000000000003}]}], \"height\": 300, \"legends\": [{\"fill\": \"color\", \"offset\": 0, \"properties\": {}, \"title\": \"Results\"}], \"marks\": [{\"from\": {\"data\": \"table\", \"transform\": [{\"keys\": [\"data.col\"], \"type\": \"facet\"}]}, \"marks\": [{\"properties\": {\"enter\": {\"fill\": {\"field\": \"data.col\", \"scale\": \"color\"}, \"opacity\": {\"value\": 1}, \"size\": {\"value\": 100}, \"x\": {\"field\": \"data.idx\", \"scale\": \"x\"}, \"y\": {\"field\": \"data.val\", \"scale\": \"y\"}}, \"hover\": {\"size\": {\"value\": 200}}, \"update\": {\"size\": {\"value\": 100}}}, \"type\": \"symbol\"}], \"type\": \"group\"}], \"padding\": \"auto\", \"scales\": [{\"domain\": {\"data\": \"table\", \"field\": \"data.idx\"}, \"name\": \"x\", \"range\": \"width\", \"type\": \"linear\"}, {\"domain\": {\"data\": \"table\", \"field\": \"data.val\"}, \"name\": \"y\", \"nice\": true, \"range\": \"height\"}, {\"domain\": {\"data\": \"table\", \"field\": \"data.col\"}, \"name\": \"color\", \"range\": \"category20\", \"type\": \"ordinal\"}], \"width\": 400}, function(chart) {\n",
       "         chart({el: \"#visc873cd2392724545ac284d6b64d475e3\"}).update();\n",
       "       });\n",
       "     };\n",
       "     _do_plot();\n",
       "   })();\n",
       "</script>\n",
       "<style>.vega canvas {width: 100%;}</style>\n",
       "        "
      ],
      "text/plain": [
       "<vincent.charts.Scatter at 0x1086afd10>"
      ]
     },
     "execution_count": 212,
     "metadata": {},
     "output_type": "execute_result"
    }
   ],
   "source": [
    "line"
   ]
  },
  {
   "cell_type": "code",
   "execution_count": 213,
   "metadata": {
    "collapsed": false
   },
   "outputs": [],
   "source": [
    "line.scales['shape'] = vincent.Scale(name='shape', type='ordinal',\n",
    "                      domain=vincent.DataRef(data='table', field='data.col'),\n",
    "                      range=[\"square\", \"circle\", \"triangle-down\", \"triangle-up\"])\n",
    "line.marks[0].marks[0].properties.enter.shape = vincent.ValueRef(scale=\"shape\", field=\"data.col\")\n",
    "line.legends[0].shape = \"shape\""
   ]
  },
  {
   "cell_type": "code",
   "execution_count": 215,
   "metadata": {
    "collapsed": false
   },
   "outputs": [
    {
     "data": {
      "text/html": [
       "<div id=\"visc699b2705d9940f8b9fefddc849b918c\"></div>\n",
       "<script>\n",
       "   ( function() {\n",
       "     var _do_plot = function() {\n",
       "       if (typeof vg === 'undefined') {\n",
       "         window.addEventListener('vincent_libs_loaded', _do_plot)\n",
       "         return;\n",
       "       }\n",
       "       vg.parse.spec({\"axes\": [{\"scale\": \"x\", \"title\": \"Vertex\", \"type\": \"x\"}, {\"scale\": \"y\", \"title\": \"Juice\", \"type\": \"y\"}], \"data\": [{\"name\": \"table\", \"values\": [{\"col\": \"Deaths\", \"idx\": 0, \"val\": 0.11}, {\"col\": \"Deaths\", \"idx\": 1, \"val\": 0.12}, {\"col\": \"Deaths\", \"idx\": 2, \"val\": 0.20000000000000001}, {\"col\": \"Deaths\", \"idx\": 3, \"val\": 0.029999999999999999}, {\"col\": \"Deaths\", \"idx\": 4, \"val\": 0.040000000000000001}, {\"col\": \"Deaths\", \"idx\": 5, \"val\": 0.01}, {\"col\": \"Deaths\", \"idx\": 6, \"val\": 0.01}, {\"col\": \"Deaths\", \"idx\": 7, \"val\": 0.10000000000000001}, {\"col\": \"Deaths\", \"idx\": 8, \"val\": 0.02}, {\"col\": \"Deaths\", \"idx\": 9, \"val\": 0.0}, {\"col\": \"Deaths\", \"idx\": 10, \"val\": 0.059999999999999998}, {\"col\": \"Deaths\", \"idx\": 11, \"val\": 0.0}, {\"col\": \"Deaths\", \"idx\": 12, \"val\": 0.01}, {\"col\": \"Deaths\", \"idx\": 13, \"val\": 0.0}, {\"col\": \"Deaths\", \"idx\": 14, \"val\": 0.0}, {\"col\": \"Deaths\", \"idx\": 15, \"val\": 0.01}, {\"col\": \"Deaths\", \"idx\": 16, \"val\": 0.080000000000000002}, {\"col\": \"Deaths\", \"idx\": 17, \"val\": 0.02}, {\"col\": \"Deaths\", \"idx\": 18, \"val\": 0.01}, {\"col\": \"Deaths\", \"idx\": 19, \"val\": 0.0}, {\"col\": \"Deaths\", \"idx\": 20, \"val\": 0.0}, {\"col\": \"Deaths\", \"idx\": 21, \"val\": 0.01}, {\"col\": \"Deaths\", \"idx\": 22, \"val\": 0.070000000000000007}, {\"col\": \"Deaths\", \"idx\": 23, \"val\": 0.02}, {\"col\": \"Deaths\", \"idx\": 24, \"val\": 0.0}, {\"col\": \"Deaths\", \"idx\": 25, \"val\": 0.01}, {\"col\": \"Deaths\", \"idx\": 26, \"val\": 0.01}, {\"col\": \"Deaths\", \"idx\": 27, \"val\": 0.01}, {\"col\": \"Deaths\", \"idx\": 28, \"val\": 0.01}, {\"col\": \"Deaths\", \"idx\": 29, \"val\": 0.029999999999999999}, {\"col\": \"Degree\", \"idx\": 0, \"val\": 0.11627906976744186}, {\"col\": \"Degree\", \"idx\": 1, \"val\": 0.23255813953488372}, {\"col\": \"Degree\", \"idx\": 2, \"val\": 0.27906976744186046}, {\"col\": \"Degree\", \"idx\": 3, \"val\": 0.0}, {\"col\": \"Degree\", \"idx\": 4, \"val\": 0.0}, {\"col\": \"Degree\", \"idx\": 5, \"val\": 0.046511627906976744}, {\"col\": \"Degree\", \"idx\": 6, \"val\": 0.0}, {\"col\": \"Degree\", \"idx\": 7, \"val\": 0.16279069767441862}, {\"col\": \"Degree\", \"idx\": 8, \"val\": 0.0}, {\"col\": \"Degree\", \"idx\": 9, \"val\": 0.023255813953488372}, {\"col\": \"Degree\", \"idx\": 10, \"val\": 0.046511627906976744}, {\"col\": \"Degree\", \"idx\": 11, \"val\": 0.0}, {\"col\": \"Degree\", \"idx\": 12, \"val\": 0.0}, {\"col\": \"Degree\", \"idx\": 13, \"val\": 0.0}, {\"col\": \"Degree\", \"idx\": 14, \"val\": 0.0}, {\"col\": \"Degree\", \"idx\": 15, \"val\": 0.0}, {\"col\": \"Degree\", \"idx\": 16, \"val\": 0.023255813953488372}, {\"col\": \"Degree\", \"idx\": 17, \"val\": 0.0}, {\"col\": \"Degree\", \"idx\": 18, \"val\": 0.0}, {\"col\": \"Degree\", \"idx\": 19, \"val\": 0.0}, {\"col\": \"Degree\", \"idx\": 20, \"val\": 0.023255813953488372}, {\"col\": \"Degree\", \"idx\": 21, \"val\": 0.0}, {\"col\": \"Degree\", \"idx\": 22, \"val\": 0.023255813953488372}, {\"col\": \"Degree\", \"idx\": 23, \"val\": 0.0}, {\"col\": \"Degree\", \"idx\": 24, \"val\": 0.0}, {\"col\": \"Degree\", \"idx\": 25, \"val\": 0.0}, {\"col\": \"Degree\", \"idx\": 26, \"val\": 0.0}, {\"col\": \"Degree\", \"idx\": 27, \"val\": 0.0}, {\"col\": \"Degree\", \"idx\": 28, \"val\": 0.0}, {\"col\": \"Degree\", \"idx\": 29, \"val\": 0.023255813953488372}, {\"col\": \"Visits\", \"idx\": 0, \"val\": 0.087830352903940492}, {\"col\": \"Visits\", \"idx\": 1, \"val\": 0.18491849976262068}, {\"col\": \"Visits\", \"idx\": 2, \"val\": 0.18808355752492484}, {\"col\": \"Visits\", \"idx\": 3, \"val\": 0.0099963074326106446}, {\"col\": \"Visits\", \"idx\": 4, \"val\": 0.010840322835891755}, {\"col\": \"Visits\", \"idx\": 5, \"val\": 0.016405549401276573}, {\"col\": \"Visits\", \"idx\": 6, \"val\": 0.010207311283430923}, {\"col\": \"Visits\", \"idx\": 7, \"val\": 0.1337764414200559}, {\"col\": \"Visits\", \"idx\": 8, \"val\": 0.0096006752123226242}, {\"col\": \"Visits\", \"idx\": 9, \"val\": 0.013609748377907897}, {\"col\": \"Visits\", \"idx\": 10, \"val\": 0.03278472332120061}, {\"col\": \"Visits\", \"idx\": 11, \"val\": 0.0098908055072005063}, {\"col\": \"Visits\", \"idx\": 12, \"val\": 0.010128184839373319}, {\"col\": \"Visits\", \"idx\": 13, \"val\": 0.011367832462942448}, {\"col\": \"Visits\", \"idx\": 14, \"val\": 0.011315081500237379}, {\"col\": \"Visits\", \"idx\": 15, \"val\": 0.010629318985071478}, {\"col\": \"Visits\", \"idx\": 16, \"val\": 0.026612860684707498}, {\"col\": \"Visits\", \"idx\": 17, \"val\": 0.011235955056179775}, {\"col\": \"Visits\", \"idx\": 18, \"val\": 0.010998575724006964}, {\"col\": \"Visits\", \"idx\": 19, \"val\": 0.011104077649417102}, {\"col\": \"Visits\", \"idx\": 20, \"val\": 0.011921717571345677}, {\"col\": \"Visits\", \"idx\": 21, \"val\": 0.010497441578308803}, {\"col\": \"Visits\", \"idx\": 22, \"val\": 0.055784143060610858}, {\"col\": \"Visits\", \"idx\": 23, \"val\": 0.0099171809885530409}, {\"col\": \"Visits\", \"idx\": 24, \"val\": 0.0093105449174447439}, {\"col\": \"Visits\", \"idx\": 25, \"val\": 0.010233686764783458}, {\"col\": \"Visits\", \"idx\": 26, \"val\": 0.0099435564699055755}, {\"col\": \"Visits\", \"idx\": 27, \"val\": 0.0099171809885530409}, {\"col\": \"Visits\", \"idx\": 28, \"val\": 0.01081394735453922}, {\"col\": \"Visits\", \"idx\": 29, \"val\": 0.050324418420636174}, {\"col\": \"Visits (fixed duration)\", \"idx\": 0, \"val\": 0.081100000000000005}, {\"col\": \"Visits (fixed duration)\", \"idx\": 1, \"val\": 0.18060000000000001}, {\"col\": \"Visits (fixed duration)\", \"idx\": 2, \"val\": 0.1888}, {\"col\": \"Visits (fixed duration)\", \"idx\": 3, \"val\": 0.0091000000000000004}, {\"col\": \"Visits (fixed duration)\", \"idx\": 4, \"val\": 0.0091999999999999998}, {\"col\": \"Visits (fixed duration)\", \"idx\": 5, \"val\": 0.015900000000000001}, {\"col\": \"Visits (fixed duration)\", \"idx\": 6, \"val\": 0.0097000000000000003}, {\"col\": \"Visits (fixed duration)\", \"idx\": 7, \"val\": 0.1449}, {\"col\": \"Visits (fixed duration)\", \"idx\": 8, \"val\": 0.0106}, {\"col\": \"Visits (fixed duration)\", \"idx\": 9, \"val\": 0.0126}, {\"col\": \"Visits (fixed duration)\", \"idx\": 10, \"val\": 0.032800000000000003}, {\"col\": \"Visits (fixed duration)\", \"idx\": 11, \"val\": 0.0094000000000000004}, {\"col\": \"Visits (fixed duration)\", \"idx\": 12, \"val\": 0.0101}, {\"col\": \"Visits (fixed duration)\", \"idx\": 13, \"val\": 0.011900000000000001}, {\"col\": \"Visits (fixed duration)\", \"idx\": 14, \"val\": 0.0106}, {\"col\": \"Visits (fixed duration)\", \"idx\": 15, \"val\": 0.0097000000000000003}, {\"col\": \"Visits (fixed duration)\", \"idx\": 16, \"val\": 0.026599999999999999}, {\"col\": \"Visits (fixed duration)\", \"idx\": 17, \"val\": 0.0118}, {\"col\": \"Visits (fixed duration)\", \"idx\": 18, \"val\": 0.013599999999999999}, {\"col\": \"Visits (fixed duration)\", \"idx\": 19, \"val\": 0.0094999999999999998}, {\"col\": \"Visits (fixed duration)\", \"idx\": 20, \"val\": 0.013599999999999999}, {\"col\": \"Visits (fixed duration)\", \"idx\": 21, \"val\": 0.0097999999999999997}, {\"col\": \"Visits (fixed duration)\", \"idx\": 22, \"val\": 0.054199999999999998}, {\"col\": \"Visits (fixed duration)\", \"idx\": 23, \"val\": 0.0112}, {\"col\": \"Visits (fixed duration)\", \"idx\": 24, \"val\": 0.013299999999999999}, {\"col\": \"Visits (fixed duration)\", \"idx\": 25, \"val\": 0.0111}, {\"col\": \"Visits (fixed duration)\", \"idx\": 26, \"val\": 0.0109}, {\"col\": \"Visits (fixed duration)\", \"idx\": 27, \"val\": 0.010800000000000001}, {\"col\": \"Visits (fixed duration)\", \"idx\": 28, \"val\": 0.0112}, {\"col\": \"Visits (fixed duration)\", \"idx\": 29, \"val\": 0.045400000000000003}]}], \"height\": 300, \"legends\": [{\"fill\": \"color\", \"offset\": 0, \"properties\": {}, \"shape\": \"shape\", \"title\": \"Results\"}], \"marks\": [{\"from\": {\"data\": \"table\", \"transform\": [{\"keys\": [\"data.col\"], \"type\": \"facet\"}]}, \"marks\": [{\"properties\": {\"enter\": {\"fill\": {\"field\": \"data.col\", \"scale\": \"color\"}, \"opacity\": {\"value\": 1}, \"shape\": {\"field\": \"data.col\", \"scale\": \"shape\"}, \"size\": {\"value\": 100}, \"x\": {\"field\": \"data.idx\", \"scale\": \"x\"}, \"y\": {\"field\": \"data.val\", \"scale\": \"y\"}}, \"hover\": {\"size\": {\"value\": 200}}, \"update\": {\"size\": {\"value\": 100}}}, \"type\": \"symbol\"}], \"type\": \"group\"}], \"padding\": \"auto\", \"scales\": [{\"domain\": {\"data\": \"table\", \"field\": \"data.idx\"}, \"name\": \"x\", \"range\": \"width\", \"type\": \"linear\"}, {\"domain\": {\"data\": \"table\", \"field\": \"data.val\"}, \"name\": \"y\", \"nice\": true, \"range\": \"height\"}, {\"domain\": {\"data\": \"table\", \"field\": \"data.col\"}, \"name\": \"color\", \"range\": \"category20\", \"type\": \"ordinal\"}, {\"domain\": {\"data\": \"table\", \"field\": \"data.col\"}, \"name\": \"shape\", \"range\": [\"square\", \"circle\", \"triangle-down\", \"triangle-up\"], \"type\": \"ordinal\"}], \"width\": 400}, function(chart) {\n",
       "         chart({el: \"#visc699b2705d9940f8b9fefddc849b918c\"}).update();\n",
       "       });\n",
       "     };\n",
       "     _do_plot();\n",
       "   })();\n",
       "</script>\n",
       "<style>.vega canvas {width: 100%;}</style>\n",
       "        "
      ],
      "text/plain": [
       "<vincent.charts.Scatter at 0x1086afd10>"
      ]
     },
     "execution_count": 215,
     "metadata": {},
     "output_type": "execute_result"
    }
   ],
   "source": [
    "line"
   ]
  },
  {
   "cell_type": "code",
   "execution_count": 216,
   "metadata": {
    "collapsed": false
   },
   "outputs": [],
   "source": [
    "line.to_json('scalefree.json')"
   ]
  },
  {
   "cell_type": "code",
   "execution_count": null,
   "metadata": {
    "collapsed": false
   },
   "outputs": [],
   "source": []
  }
 ],
 "metadata": {
  "kernelspec": {
   "display_name": "Python 2",
   "language": "python",
   "name": "python2"
  },
  "language_info": {
   "codemirror_mode": {
    "name": "ipython",
    "version": 2
   },
   "file_extension": ".py",
   "mimetype": "text/x-python",
   "name": "python",
   "nbconvert_exporter": "python",
   "pygments_lexer": "ipython2",
   "version": "2.7.9"
  }
 },
 "nbformat": 4,
 "nbformat_minor": 0
}
