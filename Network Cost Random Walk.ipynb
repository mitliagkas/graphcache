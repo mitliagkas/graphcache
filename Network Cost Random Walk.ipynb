{
 "metadata": {
  "name": "",
  "signature": "sha256:be9771f1f92ccd86d18418364bd50b26c6edcc832817fe72cc21c04798afec76"
 },
 "nbformat": 3,
 "nbformat_minor": 0,
 "worksheets": [
  {
   "cells": [
    {
     "cell_type": "code",
     "collapsed": false,
     "input": [
      "import networkx as nx\n",
      "from random import random\n",
      "import math, time"
     ],
     "language": "python",
     "metadata": {},
     "outputs": [],
     "prompt_number": 1
    },
    {
     "cell_type": "code",
     "collapsed": false,
     "input": [
      "import json\n",
      "from networkx.readwrite import json_graph"
     ],
     "language": "python",
     "metadata": {},
     "outputs": [],
     "prompt_number": 2
    },
    {
     "cell_type": "code",
     "collapsed": false,
     "input": [
      "import vincent\n",
      "from IPython.display import display\n",
      "vincent.initialize_notebook()"
     ],
     "language": "python",
     "metadata": {},
     "outputs": [
      {
       "html": [
        "\n",
        "           <script>\n",
        "               \n",
        "                function vct_load_lib(url, callback){\n",
        "                      if(typeof d3 !== 'undefined' &&\n",
        "                         url === 'http://d3js.org/d3.v3.min.js'){\n",
        "                        callback()\n",
        "                      }\n",
        "                      var s = document.createElement('script');\n",
        "                      s.src = url;\n",
        "                      s.async = true;\n",
        "                      s.onreadystatechange = s.onload = callback;\n",
        "                      s.onerror = function(){\n",
        "                        console.warn(\"failed to load library \" + url);\n",
        "                        };\n",
        "                      document.getElementsByTagName(\"head\")[0].appendChild(s);\n",
        "                };\n",
        "                var vincent_event = new CustomEvent(\n",
        "                  \"vincent_libs_loaded\",\n",
        "                  {bubbles: true, cancelable: true}\n",
        "                );\n",
        "                \n",
        "               function load_all_libs(){\n",
        "                  console.log('Loading Vincent libs...')\n",
        "                  vct_load_lib('http://d3js.org/d3.v3.min.js', function(){\n",
        "                  vct_load_lib('http://d3js.org/d3.geo.projection.v0.min.js', function(){\n",
        "                  vct_load_lib('http://wrobstory.github.io/d3-cloud/d3.layout.cloud.js', function(){\n",
        "                  vct_load_lib('http://wrobstory.github.io/vega/vega.v1.3.3.js', function(){\n",
        "                  window.dispatchEvent(vincent_event);\n",
        "                  });\n",
        "                  });\n",
        "                  });\n",
        "                  });\n",
        "               };\n",
        "               if(typeof define === \"function\" && define.amd){\n",
        "                    if (window['d3'] === undefined ||\n",
        "                        window['topojson'] === undefined){\n",
        "                        require.config(\n",
        "                            {paths: {\n",
        "                              d3: 'http://d3js.org/d3.v3.min',\n",
        "                              topojson: 'http://d3js.org/topojson.v1.min'\n",
        "                              }\n",
        "                            }\n",
        "                          );\n",
        "                        require([\"d3\"], function(d3){\n",
        "                            console.log('Loading Vincent from require.js...')\n",
        "                            window.d3 = d3;\n",
        "                            require([\"topojson\"], function(topojson){\n",
        "                                window.topojson = topojson;\n",
        "                                load_all_libs();\n",
        "                            });\n",
        "                        });\n",
        "                    } else {\n",
        "                        load_all_libs();\n",
        "                    };\n",
        "               }else{\n",
        "                    console.log('Require.js not found, loading manually...')\n",
        "                    load_all_libs();\n",
        "               };\n",
        "\n",
        "           </script>"
       ],
       "metadata": {},
       "output_type": "display_data",
       "text": [
        "<IPython.core.display.HTML at 0x7f5a766be750>"
       ]
      }
     ],
     "prompt_number": 3
    },
    {
     "cell_type": "code",
     "collapsed": false,
     "input": [
      "import matplotlib.pyplot as plt\n",
      "%matplotlib inline\n",
      "%config InlineBackend.figure_format = 'svg' "
     ],
     "language": "python",
     "metadata": {},
     "outputs": [],
     "prompt_number": 4
    },
    {
     "cell_type": "code",
     "collapsed": false,
     "input": [
      "%load_ext autoreload\n",
      "%autoreload 2"
     ],
     "language": "python",
     "metadata": {},
     "outputs": [],
     "prompt_number": 5
    },
    {
     "cell_type": "heading",
     "level": 3,
     "metadata": {},
     "source": [
      "This notebook is not self-contained. It depends on the module `randomwalk`"
     ]
    },
    {
     "cell_type": "code",
     "collapsed": false,
     "input": [
      "from randomwalk import plotrwtraversal, randomwalk, edgetokey"
     ],
     "language": "python",
     "metadata": {},
     "outputs": [
      {
       "html": [
        "<div id=\"d3-example\"></div>\n",
        "<style>\n",
        ".node {stroke: #fff; stroke-width: 1.5px;}\n",
        "marker {stroke: #999;}\n",
        ".link {stroke: #999; stroke-opacity: .3;}\n",
        "</style>\n",
        "<script src=\"force.js\"></script>"
       ],
       "metadata": {},
       "output_type": "display_data",
       "text": [
        "<IPython.core.display.HTML at 0x7f5a8aa7b5d0>"
       ]
      }
     ],
     "prompt_number": 6
    },
    {
     "cell_type": "code",
     "collapsed": false,
     "input": [
      "def rungraph(G, k=2):\n",
      "    # Convert to DiGraph if necessary\n",
      "    if G.is_multigraph():\n",
      "        if G.is_directed():\n",
      "            Gm = G.copy()\n",
      "            G = nx.DiGraph()\n",
      "            G.graph['name'] = Gm.graph['name']\n",
      "            for (u,v) in Gm.edges_iter():\n",
      "                G.add_edge(u,v)\n",
      "\n",
      "    # Randomize the expensive edges\n",
      "    expensiveedges = []\n",
      "    for e in G.edges_iter():\n",
      "        if random() > 1/float(k):\n",
      "            expensiveedges.append(edgetokey(e))\n",
      "            G.edge[e[0]][e[1]]['expensive'] = True\n",
      "        else:\n",
      "            G.edge[e[0]][e[1]]['expensive'] = False\n",
      "\n",
      "    get_ipython().run_cell_magic(u'html', u'', '<h2>Graph: '+G.graph['name']+'</h2>')\n",
      "        \n",
      "    if False:\n",
      "        # Save and plot graph\n",
      "        d = json_graph.node_link_data(G)\n",
      "        for node in d['nodes']:\n",
      "            node['name']=node['id']\n",
      "            node['value']=G.degree(node['id'])\n",
      "\n",
      "        d['adjacency'] = json_graph.adjacency_data(G)['adjacency']\n",
      "        json.dump(d, open('graph.json','w'))\n",
      "\n",
      "        time.sleep(1)\n",
      "\n",
      "        get_ipython().run_cell_magic(u'html', u'', u'<div id=\"d3-example\"></div>\\n<style>\\n.node {stroke: #fff; stroke-width: 1.5px;}\\nmarker {stroke: #999;}\\n.link {stroke: #999; stroke-opacity: .6;}\\n</style>\\n<script src=\"force.js\"></script>')\n",
      "        #nx.draw_graphviz(G)\n",
      "\n",
      "    # Run algos\n",
      "    G1 = G.copy()\n",
      "    randomwalk(G1, frogs, P_die)\n",
      "    G2 = G.copy()\n",
      "    randomwalk(G2, frogs, P_die, 4, expensiveedges)\n",
      "\n",
      "    # Make graphs\n",
      "    (line1, df1) = plotrwtraversal(G1,expensiveedges, time=G2.graph['endtime']+1)\n",
      "    (line2, df2) = plotrwtraversal(G2, expensiveedges)\n",
      "    get_ipython().run_cell_magic(u'html', u'', '<h3>'+\"Vanilla random walk. Cost: \" + str(G1.graph['cost'])+'</h3>')\n",
      "    display(line1)\n",
      "\n",
      "    get_ipython().run_cell_magic(u'html', u'', '<h3>'+\"Waiting random walk. Cost: \" + str(G2.graph['cost'])\n",
      "                                 + ', a ' + str( 100*(1 - G2.graph['cost'] / float(G1.graph['cost']) ) ) + '% gain</h3>')\n",
      "    display(line2)\n",
      "\n",
      "    (l, d) = plotrwtraversal(G2, countfrogs=True, expensiveedges = expensiveedges)\n",
      "    get_ipython().run_cell_magic(u'html', u'', '<h4>'+\"Waiting algorithm: What are the frogs up to?\"+'</h4>')\n",
      "    display(l)\n",
      "\n",
      "    get_ipython().run_cell_magic(u'html', u'', '<h3>'+'Performance stats'+'</h3>')\n",
      "    print \"Stats normalized by equivalent vanilla random walk stats:\"\n",
      "    print\n",
      "    print \"Average death round (waiting/vanilla):\", G2.graph['death_times_sum'] / float(L*frogs)\n",
      "    print \"Total duration in rounds (waiting/vanilla):\", G2.graph['endtime'] / float(G1.graph['endtime'])\n",
      "    print \"Cost (waiting/vanilla):\", G2.graph['cost'] / float(G1.graph['cost'])\n"
     ],
     "language": "python",
     "metadata": {},
     "outputs": [],
     "prompt_number": 7
    },
    {
     "cell_type": "heading",
     "level": 1,
     "metadata": {},
     "source": [
      "Generate graph"
     ]
    },
    {
     "cell_type": "code",
     "collapsed": false,
     "input": [
      "n = 100\n",
      "m = 2\n",
      "p = 0.3"
     ],
     "language": "python",
     "metadata": {},
     "outputs": [],
     "prompt_number": 8
    },
    {
     "cell_type": "code",
     "collapsed": false,
     "input": [
      "allG = []\n",
      "#allG.append(nx.barbell_graph(50,0))\n",
      "allG.append(nx.scale_free_graph(n))\n",
      "allG.append(nx.powerlaw_cluster_graph(n=n, m=m, p=p))\n",
      "#allG.append(nx.cycle_graph(n))"
     ],
     "language": "python",
     "metadata": {},
     "outputs": [],
     "prompt_number": 9
    },
    {
     "cell_type": "heading",
     "level": 1,
     "metadata": {},
     "source": [
      "Simulate Random Walks"
     ]
    },
    {
     "cell_type": "code",
     "collapsed": true,
     "input": [
      "frogs = 1000\n",
      "# Life expectancy L. L should be the mean of a geometric distribution\n",
      "L = 6\n",
      "# P_die is the probability that a frog dies at any given time\n",
      "P_die = 1/float(L)"
     ],
     "language": "python",
     "metadata": {},
     "outputs": [],
     "prompt_number": 10
    },
    {
     "cell_type": "code",
     "collapsed": false,
     "input": [
      "for k in [4]:\n",
      "    get_ipython().run_cell_magic(u'html', u'', '<h1>Simulating ' + str(k) + ' machines.</h1>')\n",
      "    for G in allG:\n",
      "        rungraph(G, k=k)"
     ],
     "language": "python",
     "metadata": {},
     "outputs": [
      {
       "html": [
        "<h1>Simulating 4 machines.</h1>"
       ],
       "metadata": {},
       "output_type": "display_data",
       "text": [
        "<IPython.core.display.HTML at 0x7f5a7636b090>"
       ]
      },
      {
       "html": [
        "<h2>Graph: directed_scale_free_graph(100,alpha=0.41,beta=0.54,gamma=0.05,delta_in=0.2,delta_out=0)</h2>"
       ],
       "metadata": {},
       "output_type": "display_data",
       "text": [
        "<IPython.core.display.HTML at 0x7f5a7636b1d0>"
       ]
      },
      {
       "html": [
        "<h3>Vanilla random walk. Cost: 702.0</h3>"
       ],
       "metadata": {},
       "output_type": "display_data",
       "text": [
        "<IPython.core.display.HTML at 0x7f5a766be6d0>"
       ]
      },
      {
       "html": [
        "<div id=\"visd9a81d17dd6d481fabc76613125136e8\"></div>\n",
        "<script>\n",
        "   ( function() {\n",
        "     var _do_plot = function() {\n",
        "       if (typeof vg === 'undefined') {\n",
        "         window.addEventListener('vincent_libs_loaded', _do_plot)\n",
        "         return;\n",
        "       }\n",
        "       vg.parse.spec({\"axes\": [{\"scale\": \"x\", \"title\": \"Rounds\", \"type\": \"x\"}, {\"scale\": \"y\", \"title\": \"# edges traversed\", \"type\": \"y\"}], \"data\": [{\"name\": \"table\", \"values\": [{\"col\": \"Expensive\", \"idx\": 0, \"val\": NaN}, {\"col\": \"Cheap\", \"idx\": 0, \"val\": NaN}, {\"col\": \"Expensive\", \"idx\": 1, \"val\": 117.0}, {\"col\": \"Cheap\", \"idx\": 1, \"val\": 32.0}, {\"col\": \"Expensive\", \"idx\": 2, \"val\": 55.0}, {\"col\": \"Cheap\", \"idx\": 2, \"val\": 19.0}, {\"col\": \"Expensive\", \"idx\": 3, \"val\": 35.0}, {\"col\": \"Cheap\", \"idx\": 3, \"val\": 16.0}, {\"col\": \"Expensive\", \"idx\": 4, \"val\": 37.0}, {\"col\": \"Cheap\", \"idx\": 4, \"val\": 9.0}, {\"col\": \"Expensive\", \"idx\": 5, \"val\": 36.0}, {\"col\": \"Cheap\", \"idx\": 5, \"val\": 13.0}, {\"col\": \"Expensive\", \"idx\": 6, \"val\": 37.0}, {\"col\": \"Cheap\", \"idx\": 6, \"val\": 9.0}, {\"col\": \"Expensive\", \"idx\": 7, \"val\": 41.0}, {\"col\": \"Cheap\", \"idx\": 7, \"val\": 10.0}, {\"col\": \"Expensive\", \"idx\": 8, \"val\": 25.0}, {\"col\": \"Cheap\", \"idx\": 8, \"val\": 10.0}, {\"col\": \"Expensive\", \"idx\": 9, \"val\": 31.0}, {\"col\": \"Cheap\", \"idx\": 9, \"val\": 10.0}, {\"col\": \"Expensive\", \"idx\": 10, \"val\": 28.0}, {\"col\": \"Cheap\", \"idx\": 10, \"val\": 7.0}, {\"col\": \"Expensive\", \"idx\": 11, \"val\": 24.0}, {\"col\": \"Cheap\", \"idx\": 11, \"val\": 7.0}, {\"col\": \"Expensive\", \"idx\": 12, \"val\": 23.0}, {\"col\": \"Cheap\", \"idx\": 12, \"val\": 8.0}, {\"col\": \"Expensive\", \"idx\": 13, \"val\": 17.0}, {\"col\": \"Cheap\", \"idx\": 13, \"val\": 6.0}, {\"col\": \"Expensive\", \"idx\": 14, \"val\": 23.0}, {\"col\": \"Cheap\", \"idx\": 14, \"val\": 7.0}, {\"col\": \"Expensive\", \"idx\": 15, \"val\": 19.0}, {\"col\": \"Cheap\", \"idx\": 15, \"val\": 7.0}, {\"col\": \"Expensive\", \"idx\": 16, \"val\": 17.0}, {\"col\": \"Cheap\", \"idx\": 16, \"val\": 8.0}, {\"col\": \"Expensive\", \"idx\": 17, \"val\": 15.0}, {\"col\": \"Cheap\", \"idx\": 17, \"val\": 6.0}, {\"col\": \"Expensive\", \"idx\": 18, \"val\": 16.0}, {\"col\": \"Cheap\", \"idx\": 18, \"val\": 5.0}, {\"col\": \"Expensive\", \"idx\": 19, \"val\": 13.0}, {\"col\": \"Cheap\", \"idx\": 19, \"val\": 6.0}, {\"col\": \"Expensive\", \"idx\": 20, \"val\": 11.0}, {\"col\": \"Cheap\", \"idx\": 20, \"val\": 3.0}, {\"col\": \"Expensive\", \"idx\": 21, \"val\": 10.0}, {\"col\": \"Cheap\", \"idx\": 21, \"val\": 5.0}, {\"col\": \"Expensive\", \"idx\": 22, \"val\": 11.0}, {\"col\": \"Cheap\", \"idx\": 22, \"val\": 2.0}, {\"col\": \"Expensive\", \"idx\": 23, \"val\": 11.0}, {\"col\": \"Cheap\", \"idx\": 23, \"val\": 5.0}, {\"col\": \"Expensive\", \"idx\": 24, \"val\": 8.0}, {\"col\": \"Cheap\", \"idx\": 24, \"val\": 3.0}, {\"col\": \"Expensive\", \"idx\": 25, \"val\": 10.0}, {\"col\": \"Cheap\", \"idx\": 25, \"val\": 1.0}, {\"col\": \"Expensive\", \"idx\": 26, \"val\": 8.0}, {\"col\": \"Cheap\", \"idx\": 26, \"val\": 1.0}, {\"col\": \"Expensive\", \"idx\": 27, \"val\": 6.0}, {\"col\": \"Cheap\", \"idx\": 27, \"val\": 2.0}, {\"col\": \"Expensive\", \"idx\": 28, \"val\": 3.0}, {\"col\": \"Cheap\", \"idx\": 28, \"val\": 0.0}, {\"col\": \"Expensive\", \"idx\": 29, \"val\": 2.0}, {\"col\": \"Cheap\", \"idx\": 29, \"val\": 1.0}, {\"col\": \"Expensive\", \"idx\": 30, \"val\": 2.0}, {\"col\": \"Cheap\", \"idx\": 30, \"val\": 1.0}, {\"col\": \"Expensive\", \"idx\": 31, \"val\": 2.0}, {\"col\": \"Cheap\", \"idx\": 31, \"val\": 0.0}, {\"col\": \"Expensive\", \"idx\": 32, \"val\": 1.0}, {\"col\": \"Cheap\", \"idx\": 32, \"val\": 0.0}, {\"col\": \"Expensive\", \"idx\": 33, \"val\": 0.0}, {\"col\": \"Cheap\", \"idx\": 33, \"val\": 1.0}, {\"col\": \"Expensive\", \"idx\": 34, \"val\": 1.0}, {\"col\": \"Cheap\", \"idx\": 34, \"val\": 0.0}, {\"col\": \"Expensive\", \"idx\": 35, \"val\": 0.0}, {\"col\": \"Cheap\", \"idx\": 35, \"val\": 0.0}, {\"col\": \"Expensive\", \"idx\": 36, \"val\": 1.0}, {\"col\": \"Cheap\", \"idx\": 36, \"val\": 0.0}, {\"col\": \"Expensive\", \"idx\": 37, \"val\": 0.0}, {\"col\": \"Cheap\", \"idx\": 37, \"val\": 1.0}, {\"col\": \"Expensive\", \"idx\": 38, \"val\": 1.0}, {\"col\": \"Cheap\", \"idx\": 38, \"val\": 0.0}, {\"col\": \"Expensive\", \"idx\": 39, \"val\": 1.0}, {\"col\": \"Cheap\", \"idx\": 39, \"val\": 0.0}, {\"col\": \"Expensive\", \"idx\": 40, \"val\": 0.0}, {\"col\": \"Cheap\", \"idx\": 40, \"val\": 1.0}, {\"col\": \"Expensive\", \"idx\": 41, \"val\": 0.0}, {\"col\": \"Cheap\", \"idx\": 41, \"val\": 1.0}, {\"col\": \"Expensive\", \"idx\": 42, \"val\": 0.0}, {\"col\": \"Cheap\", \"idx\": 42, \"val\": 0.0}, {\"col\": \"Expensive\", \"idx\": 43, \"val\": 0.0}, {\"col\": \"Cheap\", \"idx\": 43, \"val\": 1.0}, {\"col\": \"Expensive\", \"idx\": 44, \"val\": 1.0}, {\"col\": \"Cheap\", \"idx\": 44, \"val\": 0.0}, {\"col\": \"Expensive\", \"idx\": 45, \"val\": 1.0}, {\"col\": \"Cheap\", \"idx\": 45, \"val\": 0.0}, {\"col\": \"Expensive\", \"idx\": 46, \"val\": 0.0}, {\"col\": \"Cheap\", \"idx\": 46, \"val\": 1.0}, {\"col\": \"Expensive\", \"idx\": 47, \"val\": 0.0}, {\"col\": \"Cheap\", \"idx\": 47, \"val\": 0.0}, {\"col\": \"Expensive\", \"idx\": 48, \"val\": 1.0}, {\"col\": \"Cheap\", \"idx\": 48, \"val\": 0.0}, {\"col\": \"Expensive\", \"idx\": 49, \"val\": 0.0}, {\"col\": \"Cheap\", \"idx\": 49, \"val\": 1.0}, {\"col\": \"Expensive\", \"idx\": 50, \"val\": 1.0}, {\"col\": \"Cheap\", \"idx\": 50, \"val\": 0.0}, {\"col\": \"Expensive\", \"idx\": 51, \"val\": 0.0}, {\"col\": \"Cheap\", \"idx\": 51, \"val\": 0.0}, {\"col\": \"Expensive\", \"idx\": 52, \"val\": NaN}, {\"col\": \"Cheap\", \"idx\": 52, \"val\": NaN}, {\"col\": \"Expensive\", \"idx\": 53, \"val\": NaN}, {\"col\": \"Cheap\", \"idx\": 53, \"val\": NaN}, {\"col\": \"Expensive\", \"idx\": 54, \"val\": NaN}, {\"col\": \"Cheap\", \"idx\": 54, \"val\": NaN}, {\"col\": \"Expensive\", \"idx\": 55, \"val\": NaN}, {\"col\": \"Cheap\", \"idx\": 55, \"val\": NaN}, {\"col\": \"Expensive\", \"idx\": 56, \"val\": NaN}, {\"col\": \"Cheap\", \"idx\": 56, \"val\": NaN}, {\"col\": \"Expensive\", \"idx\": 57, \"val\": NaN}, {\"col\": \"Cheap\", \"idx\": 57, \"val\": NaN}, {\"col\": \"Expensive\", \"idx\": 58, \"val\": NaN}, {\"col\": \"Cheap\", \"idx\": 58, \"val\": NaN}, {\"col\": \"Expensive\", \"idx\": 59, \"val\": NaN}, {\"col\": \"Cheap\", \"idx\": 59, \"val\": NaN}, {\"col\": \"Expensive\", \"idx\": 60, \"val\": NaN}, {\"col\": \"Cheap\", \"idx\": 60, \"val\": NaN}, {\"col\": \"Expensive\", \"idx\": 61, \"val\": NaN}, {\"col\": \"Cheap\", \"idx\": 61, \"val\": NaN}, {\"col\": \"Expensive\", \"idx\": 62, \"val\": NaN}, {\"col\": \"Cheap\", \"idx\": 62, \"val\": NaN}, {\"col\": \"Expensive\", \"idx\": 63, \"val\": NaN}, {\"col\": \"Cheap\", \"idx\": 63, \"val\": NaN}, {\"col\": \"Expensive\", \"idx\": 64, \"val\": NaN}, {\"col\": \"Cheap\", \"idx\": 64, \"val\": NaN}, {\"col\": \"Expensive\", \"idx\": 65, \"val\": NaN}, {\"col\": \"Cheap\", \"idx\": 65, \"val\": NaN}, {\"col\": \"Expensive\", \"idx\": 66, \"val\": NaN}, {\"col\": \"Cheap\", \"idx\": 66, \"val\": NaN}, {\"col\": \"Expensive\", \"idx\": 67, \"val\": NaN}, {\"col\": \"Cheap\", \"idx\": 67, \"val\": NaN}, {\"col\": \"Expensive\", \"idx\": 68, \"val\": NaN}, {\"col\": \"Cheap\", \"idx\": 68, \"val\": NaN}, {\"col\": \"Expensive\", \"idx\": 69, \"val\": NaN}, {\"col\": \"Cheap\", \"idx\": 69, \"val\": NaN}, {\"col\": \"Expensive\", \"idx\": 70, \"val\": NaN}, {\"col\": \"Cheap\", \"idx\": 70, \"val\": NaN}, {\"col\": \"Expensive\", \"idx\": 71, \"val\": NaN}, {\"col\": \"Cheap\", \"idx\": 71, \"val\": NaN}, {\"col\": \"Expensive\", \"idx\": 72, \"val\": NaN}, {\"col\": \"Cheap\", \"idx\": 72, \"val\": NaN}, {\"col\": \"Expensive\", \"idx\": 73, \"val\": NaN}, {\"col\": \"Cheap\", \"idx\": 73, \"val\": NaN}, {\"col\": \"Expensive\", \"idx\": 74, \"val\": NaN}, {\"col\": \"Cheap\", \"idx\": 74, \"val\": NaN}, {\"col\": \"Expensive\", \"idx\": 75, \"val\": NaN}, {\"col\": \"Cheap\", \"idx\": 75, \"val\": NaN}, {\"col\": \"Expensive\", \"idx\": 76, \"val\": NaN}, {\"col\": \"Cheap\", \"idx\": 76, \"val\": NaN}, {\"col\": \"Expensive\", \"idx\": 77, \"val\": NaN}, {\"col\": \"Cheap\", \"idx\": 77, \"val\": NaN}]}, {\"name\": \"stats\", \"source\": \"table\", \"transform\": [{\"keys\": [\"data.idx\"], \"type\": \"facet\"}, {\"type\": \"stats\", \"value\": \"data.val\"}]}], \"height\": 300, \"legends\": [{\"fill\": \"color\", \"offset\": 0, \"properties\": {}, \"title\": \"Edge\"}], \"marks\": [{\"from\": {\"data\": \"table\", \"transform\": [{\"keys\": [\"data.col\"], \"type\": \"facet\"}, {\"height\": \"data.val\", \"point\": \"data.idx\", \"type\": \"stack\"}]}, \"marks\": [{\"properties\": {\"enter\": {\"fill\": {\"field\": \"data.col\", \"scale\": \"color\"}, \"interpolate\": {\"value\": \"monotone\"}, \"opacity\": {\"value\": 0.8}, \"x\": {\"field\": \"data.idx\", \"scale\": \"x\"}, \"y\": {\"field\": \"y\", \"scale\": \"y\"}, \"y2\": {\"field\": \"y2\", \"scale\": \"y\"}}, \"hover\": {\"opacity\": {\"value\": 1}, \"size\": {\"value\": 200}}, \"update\": {\"opacity\": {\"value\": 0.8}, \"size\": {\"value\": 100}}}, \"type\": \"area\"}], \"type\": \"group\"}], \"padding\": \"auto\", \"scales\": [{\"domain\": {\"data\": \"table\", \"field\": \"data.idx\"}, \"name\": \"x\", \"range\": \"width\", \"type\": \"linear\", \"zero\": false}, {\"domain\": [0, 156], \"name\": \"y\", \"nice\": true, \"range\": \"height\"}, {\"domain\": {\"data\": \"table\", \"field\": \"data.col\"}, \"name\": \"color\", \"range\": [\"#ff0000\", \"#50aa50\", \"#eeeeee\"], \"type\": \"ordinal\"}], \"width\": 400}, function(chart) {\n",
        "         chart({el: \"#visd9a81d17dd6d481fabc76613125136e8\"}).update();\n",
        "       });\n",
        "     };\n",
        "     _do_plot();\n",
        "   })();\n",
        "</script>\n",
        "<style>.vega canvas {width: 100%;}</style>\n",
        "        "
       ],
       "metadata": {},
       "output_type": "display_data",
       "text": [
        "<vincent.charts.Area at 0x7f5a76287510>"
       ]
      },
      {
       "html": [
        "<h3>Waiting random walk. Cost: 499.0, a 28.9173789174% gain</h3>"
       ],
       "metadata": {},
       "output_type": "display_data",
       "text": [
        "<IPython.core.display.HTML at 0x7f5a76275090>"
       ]
      },
      {
       "html": [
        "<div id=\"vis039022eb792b42f9bd84511922174e90\"></div>\n",
        "<script>\n",
        "   ( function() {\n",
        "     var _do_plot = function() {\n",
        "       if (typeof vg === 'undefined') {\n",
        "         window.addEventListener('vincent_libs_loaded', _do_plot)\n",
        "         return;\n",
        "       }\n",
        "       vg.parse.spec({\"axes\": [{\"scale\": \"x\", \"title\": \"Rounds\", \"type\": \"x\"}, {\"scale\": \"y\", \"title\": \"# edges traversed\", \"type\": \"y\"}], \"data\": [{\"name\": \"table\", \"values\": [{\"col\": \"Expensive\", \"idx\": 1, \"val\": 28.0}, {\"col\": \"Cheap\", \"idx\": 1, \"val\": 32.0}, {\"col\": \"Expensive\", \"idx\": 2, \"val\": 32.0}, {\"col\": \"Cheap\", \"idx\": 2, \"val\": 17.0}, {\"col\": \"Expensive\", \"idx\": 3, \"val\": 34.0}, {\"col\": \"Cheap\", \"idx\": 3, \"val\": 9.0}, {\"col\": \"Expensive\", \"idx\": 4, \"val\": 24.0}, {\"col\": \"Cheap\", \"idx\": 4, \"val\": 10.0}, {\"col\": \"Expensive\", \"idx\": 5, \"val\": 18.0}, {\"col\": \"Cheap\", \"idx\": 5, \"val\": 9.0}, {\"col\": \"Expensive\", \"idx\": 6, \"val\": 17.0}, {\"col\": \"Cheap\", \"idx\": 6, \"val\": 9.0}, {\"col\": \"Expensive\", \"idx\": 7, \"val\": 12.0}, {\"col\": \"Cheap\", \"idx\": 7, \"val\": 9.0}, {\"col\": \"Expensive\", \"idx\": 8, \"val\": 10.0}, {\"col\": \"Cheap\", \"idx\": 8, \"val\": 9.0}, {\"col\": \"Expensive\", \"idx\": 9, \"val\": 14.0}, {\"col\": \"Cheap\", \"idx\": 9, \"val\": 8.0}, {\"col\": \"Expensive\", \"idx\": 10, \"val\": 16.0}, {\"col\": \"Cheap\", \"idx\": 10, \"val\": 11.0}, {\"col\": \"Expensive\", \"idx\": 11, \"val\": 12.0}, {\"col\": \"Cheap\", \"idx\": 11, \"val\": 9.0}, {\"col\": \"Expensive\", \"idx\": 12, \"val\": 10.0}, {\"col\": \"Cheap\", \"idx\": 12, \"val\": 9.0}, {\"col\": \"Expensive\", \"idx\": 13, \"val\": 11.0}, {\"col\": \"Cheap\", \"idx\": 13, \"val\": 7.0}, {\"col\": \"Expensive\", \"idx\": 14, \"val\": 13.0}, {\"col\": \"Cheap\", \"idx\": 14, \"val\": 10.0}, {\"col\": \"Expensive\", \"idx\": 15, \"val\": 9.0}, {\"col\": \"Cheap\", \"idx\": 15, \"val\": 6.0}, {\"col\": \"Expensive\", \"idx\": 16, \"val\": 11.0}, {\"col\": \"Cheap\", \"idx\": 16, \"val\": 7.0}, {\"col\": \"Expensive\", \"idx\": 17, \"val\": 7.0}, {\"col\": \"Cheap\", \"idx\": 17, \"val\": 5.0}, {\"col\": \"Expensive\", \"idx\": 18, \"val\": 11.0}, {\"col\": \"Cheap\", \"idx\": 18, \"val\": 7.0}, {\"col\": \"Expensive\", \"idx\": 19, \"val\": 8.0}, {\"col\": \"Cheap\", \"idx\": 19, \"val\": 7.0}, {\"col\": \"Expensive\", \"idx\": 20, \"val\": 5.0}, {\"col\": \"Cheap\", \"idx\": 20, \"val\": 6.0}, {\"col\": \"Expensive\", \"idx\": 21, \"val\": 11.0}, {\"col\": \"Cheap\", \"idx\": 21, \"val\": 7.0}, {\"col\": \"Expensive\", \"idx\": 22, \"val\": 7.0}, {\"col\": \"Cheap\", \"idx\": 22, \"val\": 10.0}, {\"col\": \"Expensive\", \"idx\": 23, \"val\": 6.0}, {\"col\": \"Cheap\", \"idx\": 23, \"val\": 7.0}, {\"col\": \"Expensive\", \"idx\": 24, \"val\": 8.0}, {\"col\": \"Cheap\", \"idx\": 24, \"val\": 6.0}, {\"col\": \"Expensive\", \"idx\": 25, \"val\": 8.0}, {\"col\": \"Cheap\", \"idx\": 25, \"val\": 4.0}, {\"col\": \"Expensive\", \"idx\": 26, \"val\": 6.0}, {\"col\": \"Cheap\", \"idx\": 26, \"val\": 5.0}, {\"col\": \"Expensive\", \"idx\": 27, \"val\": 5.0}, {\"col\": \"Cheap\", \"idx\": 27, \"val\": 5.0}, {\"col\": \"Expensive\", \"idx\": 28, \"val\": 6.0}, {\"col\": \"Cheap\", \"idx\": 28, \"val\": 3.0}, {\"col\": \"Expensive\", \"idx\": 29, \"val\": 7.0}, {\"col\": \"Cheap\", \"idx\": 29, \"val\": 5.0}, {\"col\": \"Expensive\", \"idx\": 30, \"val\": 7.0}, {\"col\": \"Cheap\", \"idx\": 30, \"val\": 5.0}, {\"col\": \"Expensive\", \"idx\": 31, \"val\": 6.0}, {\"col\": \"Cheap\", \"idx\": 31, \"val\": 2.0}, {\"col\": \"Expensive\", \"idx\": 32, \"val\": 7.0}, {\"col\": \"Cheap\", \"idx\": 32, \"val\": 5.0}, {\"col\": \"Expensive\", \"idx\": 33, \"val\": 6.0}, {\"col\": \"Cheap\", \"idx\": 33, \"val\": 3.0}, {\"col\": \"Expensive\", \"idx\": 34, \"val\": 7.0}, {\"col\": \"Cheap\", \"idx\": 34, \"val\": 7.0}, {\"col\": \"Expensive\", \"idx\": 35, \"val\": 3.0}, {\"col\": \"Cheap\", \"idx\": 35, \"val\": 5.0}, {\"col\": \"Expensive\", \"idx\": 36, \"val\": 4.0}, {\"col\": \"Cheap\", \"idx\": 36, \"val\": 2.0}, {\"col\": \"Expensive\", \"idx\": 37, \"val\": 7.0}, {\"col\": \"Cheap\", \"idx\": 37, \"val\": 2.0}, {\"col\": \"Expensive\", \"idx\": 38, \"val\": 6.0}, {\"col\": \"Cheap\", \"idx\": 38, \"val\": 6.0}, {\"col\": \"Expensive\", \"idx\": 39, \"val\": 3.0}, {\"col\": \"Cheap\", \"idx\": 39, \"val\": 3.0}, {\"col\": \"Expensive\", \"idx\": 40, \"val\": 4.0}, {\"col\": \"Cheap\", \"idx\": 40, \"val\": 2.0}, {\"col\": \"Expensive\", \"idx\": 41, \"val\": 4.0}, {\"col\": \"Cheap\", \"idx\": 41, \"val\": 4.0}, {\"col\": \"Expensive\", \"idx\": 42, \"val\": 5.0}, {\"col\": \"Cheap\", \"idx\": 42, \"val\": 3.0}, {\"col\": \"Expensive\", \"idx\": 43, \"val\": 1.0}, {\"col\": \"Cheap\", \"idx\": 43, \"val\": 2.0}, {\"col\": \"Expensive\", \"idx\": 44, \"val\": 3.0}, {\"col\": \"Cheap\", \"idx\": 44, \"val\": 1.0}, {\"col\": \"Expensive\", \"idx\": 45, \"val\": 5.0}, {\"col\": \"Cheap\", \"idx\": 45, \"val\": 2.0}, {\"col\": \"Expensive\", \"idx\": 46, \"val\": 2.0}, {\"col\": \"Cheap\", \"idx\": 46, \"val\": 3.0}, {\"col\": \"Expensive\", \"idx\": 47, \"val\": 2.0}, {\"col\": \"Cheap\", \"idx\": 47, \"val\": 0.0}, {\"col\": \"Expensive\", \"idx\": 48, \"val\": 2.0}, {\"col\": \"Cheap\", \"idx\": 48, \"val\": 1.0}, {\"col\": \"Expensive\", \"idx\": 49, \"val\": 3.0}, {\"col\": \"Cheap\", \"idx\": 49, \"val\": 1.0}, {\"col\": \"Expensive\", \"idx\": 50, \"val\": 4.0}, {\"col\": \"Cheap\", \"idx\": 50, \"val\": 2.0}, {\"col\": \"Expensive\", \"idx\": 51, \"val\": 2.0}, {\"col\": \"Cheap\", \"idx\": 51, \"val\": 1.0}, {\"col\": \"Expensive\", \"idx\": 52, \"val\": 2.0}, {\"col\": \"Cheap\", \"idx\": 52, \"val\": 4.0}, {\"col\": \"Expensive\", \"idx\": 53, \"val\": 2.0}, {\"col\": \"Cheap\", \"idx\": 53, \"val\": 0.0}, {\"col\": \"Expensive\", \"idx\": 54, \"val\": 3.0}, {\"col\": \"Cheap\", \"idx\": 54, \"val\": 2.0}, {\"col\": \"Expensive\", \"idx\": 55, \"val\": 1.0}, {\"col\": \"Cheap\", \"idx\": 55, \"val\": 2.0}, {\"col\": \"Expensive\", \"idx\": 56, \"val\": 3.0}, {\"col\": \"Cheap\", \"idx\": 56, \"val\": 0.0}, {\"col\": \"Expensive\", \"idx\": 57, \"val\": 4.0}, {\"col\": \"Cheap\", \"idx\": 57, \"val\": 1.0}, {\"col\": \"Expensive\", \"idx\": 58, \"val\": 2.0}, {\"col\": \"Cheap\", \"idx\": 58, \"val\": 2.0}, {\"col\": \"Expensive\", \"idx\": 59, \"val\": 2.0}, {\"col\": \"Cheap\", \"idx\": 59, \"val\": 1.0}, {\"col\": \"Expensive\", \"idx\": 60, \"val\": 2.0}, {\"col\": \"Cheap\", \"idx\": 60, \"val\": 0.0}, {\"col\": \"Expensive\", \"idx\": 61, \"val\": 3.0}, {\"col\": \"Cheap\", \"idx\": 61, \"val\": 1.0}, {\"col\": \"Expensive\", \"idx\": 62, \"val\": 2.0}, {\"col\": \"Cheap\", \"idx\": 62, \"val\": 2.0}, {\"col\": \"Expensive\", \"idx\": 63, \"val\": 0.0}, {\"col\": \"Cheap\", \"idx\": 63, \"val\": 1.0}, {\"col\": \"Expensive\", \"idx\": 64, \"val\": 1.0}, {\"col\": \"Cheap\", \"idx\": 64, \"val\": 0.0}, {\"col\": \"Expensive\", \"idx\": 65, \"val\": 1.0}, {\"col\": \"Cheap\", \"idx\": 65, \"val\": 0.0}, {\"col\": \"Expensive\", \"idx\": 66, \"val\": 2.0}, {\"col\": \"Cheap\", \"idx\": 66, \"val\": 1.0}, {\"col\": \"Expensive\", \"idx\": 67, \"val\": 1.0}, {\"col\": \"Cheap\", \"idx\": 67, \"val\": 1.0}, {\"col\": \"Expensive\", \"idx\": 68, \"val\": 1.0}, {\"col\": \"Cheap\", \"idx\": 68, \"val\": 0.0}, {\"col\": \"Expensive\", \"idx\": 69, \"val\": 2.0}, {\"col\": \"Cheap\", \"idx\": 69, \"val\": 1.0}, {\"col\": \"Expensive\", \"idx\": 70, \"val\": 2.0}, {\"col\": \"Cheap\", \"idx\": 70, \"val\": 1.0}, {\"col\": \"Expensive\", \"idx\": 71, \"val\": 1.0}, {\"col\": \"Cheap\", \"idx\": 71, \"val\": 0.0}, {\"col\": \"Expensive\", \"idx\": 72, \"val\": 0.0}, {\"col\": \"Cheap\", \"idx\": 72, \"val\": 1.0}, {\"col\": \"Expensive\", \"idx\": 73, \"val\": 1.0}, {\"col\": \"Cheap\", \"idx\": 73, \"val\": 0.0}, {\"col\": \"Expensive\", \"idx\": 74, \"val\": 1.0}, {\"col\": \"Cheap\", \"idx\": 74, \"val\": 1.0}, {\"col\": \"Expensive\", \"idx\": 75, \"val\": 0.0}, {\"col\": \"Cheap\", \"idx\": 75, \"val\": 0.0}, {\"col\": \"Expensive\", \"idx\": 76, \"val\": 1.0}, {\"col\": \"Cheap\", \"idx\": 76, \"val\": 0.0}, {\"col\": \"Expensive\", \"idx\": 77, \"val\": 0.0}, {\"col\": \"Cheap\", \"idx\": 77, \"val\": 0.0}]}, {\"name\": \"stats\", \"source\": \"table\", \"transform\": [{\"keys\": [\"data.idx\"], \"type\": \"facet\"}, {\"type\": \"stats\", \"value\": \"data.val\"}]}], \"height\": 300, \"legends\": [{\"fill\": \"color\", \"offset\": 0, \"properties\": {}, \"title\": \"Edge\"}], \"marks\": [{\"from\": {\"data\": \"table\", \"transform\": [{\"keys\": [\"data.col\"], \"type\": \"facet\"}, {\"height\": \"data.val\", \"point\": \"data.idx\", \"type\": \"stack\"}]}, \"marks\": [{\"properties\": {\"enter\": {\"fill\": {\"field\": \"data.col\", \"scale\": \"color\"}, \"interpolate\": {\"value\": \"monotone\"}, \"opacity\": {\"value\": 0.8}, \"x\": {\"field\": \"data.idx\", \"scale\": \"x\"}, \"y\": {\"field\": \"y\", \"scale\": \"y\"}, \"y2\": {\"field\": \"y2\", \"scale\": \"y\"}}, \"hover\": {\"opacity\": {\"value\": 1}, \"size\": {\"value\": 200}}, \"update\": {\"opacity\": {\"value\": 0.8}, \"size\": {\"value\": 100}}}, \"type\": \"area\"}], \"type\": \"group\"}], \"padding\": \"auto\", \"scales\": [{\"domain\": {\"data\": \"table\", \"field\": \"data.idx\"}, \"name\": \"x\", \"range\": \"width\", \"type\": \"linear\", \"zero\": false}, {\"domain\": [0, 156], \"name\": \"y\", \"nice\": true, \"range\": \"height\"}, {\"domain\": {\"data\": \"table\", \"field\": \"data.col\"}, \"name\": \"color\", \"range\": [\"#ff0000\", \"#50aa50\", \"#eeeeee\"], \"type\": \"ordinal\"}], \"width\": 400}, function(chart) {\n",
        "         chart({el: \"#vis039022eb792b42f9bd84511922174e90\"}).update();\n",
        "       });\n",
        "     };\n",
        "     _do_plot();\n",
        "   })();\n",
        "</script>\n",
        "<style>.vega canvas {width: 100%;}</style>\n",
        "        "
       ],
       "metadata": {},
       "output_type": "display_data",
       "text": [
        "<vincent.charts.Area at 0x7f5a7625d650>"
       ]
      },
      {
       "html": [
        "<h4>Waiting algorithm: What are the frogs up to?</h4>"
       ],
       "metadata": {},
       "output_type": "display_data",
       "text": [
        "<IPython.core.display.HTML at 0x7f5a76215e10>"
       ]
      },
      {
       "html": [
        "<div id=\"vis42f7857ccf664003a1eed1224b27e45a\"></div>\n",
        "<script>\n",
        "   ( function() {\n",
        "     var _do_plot = function() {\n",
        "       if (typeof vg === 'undefined') {\n",
        "         window.addEventListener('vincent_libs_loaded', _do_plot)\n",
        "         return;\n",
        "       }\n",
        "       vg.parse.spec({\"axes\": [{\"scale\": \"x\", \"title\": \"Rounds\", \"type\": \"x\"}, {\"scale\": \"y\", \"title\": \"# frogs\", \"type\": \"y\"}], \"data\": [{\"name\": \"table\", \"values\": [{\"col\": \"Expensive\", \"idx\": 1, \"val\": 142.0}, {\"col\": \"Cheap\", \"idx\": 1, \"val\": 174.0}, {\"col\": \"Teleportation\", \"idx\": 1, \"val\": 85.0}, {\"col\": \"Waiting\", \"idx\": 1, \"val\": 430.0}, {\"col\": \"Expensive\", \"idx\": 2, \"val\": 229.0}, {\"col\": \"Cheap\", \"idx\": 2, \"val\": 116.0}, {\"col\": \"Teleportation\", \"idx\": 2, \"val\": 22.0}, {\"col\": \"Waiting\", \"idx\": 2, \"val\": 400.0}, {\"col\": \"Expensive\", \"idx\": 3, \"val\": 206.0}, {\"col\": \"Cheap\", \"idx\": 3, \"val\": 99.0}, {\"col\": \"Teleportation\", \"idx\": 3, \"val\": 12.0}, {\"col\": \"Waiting\", \"idx\": 3, \"val\": 369.0}, {\"col\": \"Expensive\", \"idx\": 4, \"val\": 266.0}, {\"col\": \"Cheap\", \"idx\": 4, \"val\": 96.0}, {\"col\": \"Teleportation\", \"idx\": 4, \"val\": 20.0}, {\"col\": \"Waiting\", \"idx\": 4, \"val\": 255.0}, {\"col\": \"Expensive\", \"idx\": 5, \"val\": 253.0}, {\"col\": \"Cheap\", \"idx\": 5, \"val\": 87.0}, {\"col\": \"Teleportation\", \"idx\": 5, \"val\": 36.0}, {\"col\": \"Waiting\", \"idx\": 5, \"val\": 214.0}, {\"col\": \"Expensive\", \"idx\": 6, \"val\": 172.0}, {\"col\": \"Cheap\", \"idx\": 6, \"val\": 83.0}, {\"col\": \"Teleportation\", \"idx\": 6, \"val\": 15.0}, {\"col\": \"Waiting\", \"idx\": 6, \"val\": 261.0}, {\"col\": \"Expensive\", \"idx\": 7, \"val\": 89.0}, {\"col\": \"Cheap\", \"idx\": 7, \"val\": 35.0}, {\"col\": \"Teleportation\", \"idx\": 7, \"val\": 20.0}, {\"col\": \"Waiting\", \"idx\": 7, \"val\": 349.0}, {\"col\": \"Expensive\", \"idx\": 8, \"val\": 158.0}, {\"col\": \"Cheap\", \"idx\": 8, \"val\": 47.0}, {\"col\": \"Teleportation\", \"idx\": 8, \"val\": 10.0}, {\"col\": \"Waiting\", \"idx\": 8, \"val\": 259.0}, {\"col\": \"Expensive\", \"idx\": 9, \"val\": 209.0}, {\"col\": \"Cheap\", \"idx\": 9, \"val\": 42.0}, {\"col\": \"Teleportation\", \"idx\": 9, \"val\": 31.0}, {\"col\": \"Waiting\", \"idx\": 9, \"val\": 156.0}, {\"col\": \"Expensive\", \"idx\": 10, \"val\": 127.0}, {\"col\": \"Cheap\", \"idx\": 10, \"val\": 89.0}, {\"col\": \"Teleportation\", \"idx\": 10, \"val\": 7.0}, {\"col\": \"Waiting\", \"idx\": 10, \"val\": 172.0}, {\"col\": \"Expensive\", \"idx\": 11, \"val\": 59.0}, {\"col\": \"Cheap\", \"idx\": 11, \"val\": 32.0}, {\"col\": \"Teleportation\", \"idx\": 11, \"val\": 6.0}, {\"col\": \"Waiting\", \"idx\": 11, \"val\": 265.0}, {\"col\": \"Expensive\", \"idx\": 12, \"val\": 132.0}, {\"col\": \"Cheap\", \"idx\": 12, \"val\": 35.0}, {\"col\": \"Teleportation\", \"idx\": 12, \"val\": 7.0}, {\"col\": \"Waiting\", \"idx\": 12, \"val\": 177.0}, {\"col\": \"Expensive\", \"idx\": 13, \"val\": 150.0}, {\"col\": \"Cheap\", \"idx\": 13, \"val\": 38.0}, {\"col\": \"Teleportation\", \"idx\": 13, \"val\": 25.0}, {\"col\": \"Waiting\", \"idx\": 13, \"val\": 109.0}, {\"col\": \"Expensive\", \"idx\": 14, \"val\": 109.0}, {\"col\": \"Cheap\", \"idx\": 14, \"val\": 60.0}, {\"col\": \"Teleportation\", \"idx\": 14, \"val\": 6.0}, {\"col\": \"Waiting\", \"idx\": 14, \"val\": 113.0}, {\"col\": \"Expensive\", \"idx\": 15, \"val\": 35.0}, {\"col\": \"Cheap\", \"idx\": 15, \"val\": 15.0}, {\"col\": \"Teleportation\", \"idx\": 15, \"val\": 5.0}, {\"col\": \"Waiting\", \"idx\": 15, \"val\": 203.0}, {\"col\": \"Expensive\", \"idx\": 16, \"val\": 78.0}, {\"col\": \"Cheap\", \"idx\": 16, \"val\": 15.0}, {\"col\": \"Teleportation\", \"idx\": 16, \"val\": 4.0}, {\"col\": \"Waiting\", \"idx\": 16, \"val\": 151.0}, {\"col\": \"Expensive\", \"idx\": 17, \"val\": 121.0}, {\"col\": \"Cheap\", \"idx\": 17, \"val\": 24.0}, {\"col\": \"Teleportation\", \"idx\": 17, \"val\": 6.0}, {\"col\": \"Waiting\", \"idx\": 17, \"val\": 78.0}, {\"col\": \"Expensive\", \"idx\": 18, \"val\": 74.0}, {\"col\": \"Cheap\", \"idx\": 18, \"val\": 54.0}, {\"col\": \"Teleportation\", \"idx\": 18, \"val\": 3.0}, {\"col\": \"Waiting\", \"idx\": 18, \"val\": 75.0}, {\"col\": \"Expensive\", \"idx\": 19, \"val\": 22.0}, {\"col\": \"Cheap\", \"idx\": 19, \"val\": 23.0}, {\"col\": \"Teleportation\", \"idx\": 19, \"val\": 7.0}, {\"col\": \"Waiting\", \"idx\": 19, \"val\": 133.0}, {\"col\": \"Expensive\", \"idx\": 20, \"val\": 53.0}, {\"col\": \"Cheap\", \"idx\": 20, \"val\": 15.0}, {\"col\": \"Teleportation\", \"idx\": 20, \"val\": 10.0}, {\"col\": \"Waiting\", \"idx\": 20, \"val\": 96.0}, {\"col\": \"Expensive\", \"idx\": 21, \"val\": 84.0}, {\"col\": \"Cheap\", \"idx\": 21, \"val\": 17.0}, {\"col\": \"Teleportation\", \"idx\": 21, \"val\": 9.0}, {\"col\": \"Waiting\", \"idx\": 21, \"val\": 51.0}, {\"col\": \"Expensive\", \"idx\": 22, \"val\": 56.0}, {\"col\": \"Cheap\", \"idx\": 22, \"val\": 35.0}, {\"col\": \"Teleportation\", \"idx\": 22, \"val\": 2.0}, {\"col\": \"Waiting\", \"idx\": 22, \"val\": 47.0}, {\"col\": \"Expensive\", \"idx\": 23, \"val\": 17.0}, {\"col\": \"Cheap\", \"idx\": 23, \"val\": 15.0}, {\"col\": \"Teleportation\", \"idx\": 23, \"val\": 2.0}, {\"col\": \"Waiting\", \"idx\": 23, \"val\": 97.0}, {\"col\": \"Expensive\", \"idx\": 24, \"val\": 37.0}, {\"col\": \"Cheap\", \"idx\": 24, \"val\": 9.0}, {\"col\": \"Teleportation\", \"idx\": 24, \"val\": 2.0}, {\"col\": \"Waiting\", \"idx\": 24, \"val\": 78.0}, {\"col\": \"Expensive\", \"idx\": 25, \"val\": 57.0}, {\"col\": \"Cheap\", \"idx\": 25, \"val\": 10.0}, {\"col\": \"Teleportation\", \"idx\": 25, \"val\": 5.0}, {\"col\": \"Waiting\", \"idx\": 25, \"val\": 48.0}, {\"col\": \"Expensive\", \"idx\": 26, \"val\": 39.0}, {\"col\": \"Cheap\", \"idx\": 26, \"val\": 18.0}, {\"col\": \"Teleportation\", \"idx\": 26, \"val\": 1.0}, {\"col\": \"Waiting\", \"idx\": 26, \"val\": 50.0}, {\"col\": \"Expensive\", \"idx\": 27, \"val\": 16.0}, {\"col\": \"Cheap\", \"idx\": 27, \"val\": 7.0}, {\"col\": \"Teleportation\", \"idx\": 27, \"val\": 2.0}, {\"col\": \"Waiting\", \"idx\": 27, \"val\": 73.0}, {\"col\": \"Expensive\", \"idx\": 28, \"val\": 25.0}, {\"col\": \"Cheap\", \"idx\": 28, \"val\": 6.0}, {\"col\": \"Teleportation\", \"idx\": 28, \"val\": 3.0}, {\"col\": \"Waiting\", \"idx\": 28, \"val\": 59.0}, {\"col\": \"Expensive\", \"idx\": 29, \"val\": 41.0}, {\"col\": \"Cheap\", \"idx\": 29, \"val\": 10.0}, {\"col\": \"Teleportation\", \"idx\": 29, \"val\": 5.0}, {\"col\": \"Waiting\", \"idx\": 29, \"val\": 31.0}, {\"col\": \"Expensive\", \"idx\": 30, \"val\": 28.0}, {\"col\": \"Cheap\", \"idx\": 30, \"val\": 15.0}, {\"col\": \"Teleportation\", \"idx\": 30, \"val\": NaN}, {\"col\": \"Waiting\", \"idx\": 30, \"val\": 35.0}, {\"col\": \"Expensive\", \"idx\": 31, \"val\": 11.0}, {\"col\": \"Cheap\", \"idx\": 31, \"val\": 2.0}, {\"col\": \"Teleportation\", \"idx\": 31, \"val\": 2.0}, {\"col\": \"Waiting\", \"idx\": 31, \"val\": 59.0}, {\"col\": \"Expensive\", \"idx\": 32, \"val\": 20.0}, {\"col\": \"Cheap\", \"idx\": 32, \"val\": 6.0}, {\"col\": \"Teleportation\", \"idx\": 32, \"val\": NaN}, {\"col\": \"Waiting\", \"idx\": 32, \"val\": 47.0}, {\"col\": \"Expensive\", \"idx\": 33, \"val\": 37.0}, {\"col\": \"Cheap\", \"idx\": 33, \"val\": 4.0}, {\"col\": \"Teleportation\", \"idx\": 33, \"val\": 5.0}, {\"col\": \"Waiting\", \"idx\": 33, \"val\": 21.0}, {\"col\": \"Expensive\", \"idx\": 34, \"val\": 19.0}, {\"col\": \"Cheap\", \"idx\": 34, \"val\": 19.0}, {\"col\": \"Teleportation\", \"idx\": 34, \"val\": 1.0}, {\"col\": \"Waiting\", \"idx\": 34, \"val\": 16.0}, {\"col\": \"Expensive\", \"idx\": 35, \"val\": 6.0}, {\"col\": \"Cheap\", \"idx\": 35, \"val\": 7.0}, {\"col\": \"Teleportation\", \"idx\": 35, \"val\": 1.0}, {\"col\": \"Waiting\", \"idx\": 35, \"val\": 34.0}, {\"col\": \"Expensive\", \"idx\": 36, \"val\": 16.0}, {\"col\": \"Cheap\", \"idx\": 36, \"val\": 2.0}, {\"col\": \"Teleportation\", \"idx\": 36, \"val\": 3.0}, {\"col\": \"Waiting\", \"idx\": 36, \"val\": 25.0}, {\"col\": \"Expensive\", \"idx\": 37, \"val\": 21.0}, {\"col\": \"Cheap\", \"idx\": 37, \"val\": 5.0}, {\"col\": \"Teleportation\", \"idx\": 37, \"val\": 5.0}, {\"col\": \"Waiting\", \"idx\": 37, \"val\": 11.0}, {\"col\": \"Expensive\", \"idx\": 38, \"val\": 12.0}, {\"col\": \"Cheap\", \"idx\": 38, \"val\": 9.0}, {\"col\": \"Teleportation\", \"idx\": 38, \"val\": NaN}, {\"col\": \"Waiting\", \"idx\": 38, \"val\": 15.0}, {\"col\": \"Expensive\", \"idx\": 39, \"val\": 3.0}, {\"col\": \"Cheap\", \"idx\": 39, \"val\": 4.0}, {\"col\": \"Teleportation\", \"idx\": 39, \"val\": 1.0}, {\"col\": \"Waiting\", \"idx\": 39, \"val\": 23.0}, {\"col\": \"Expensive\", \"idx\": 40, \"val\": 10.0}, {\"col\": \"Cheap\", \"idx\": 40, \"val\": 2.0}, {\"col\": \"Teleportation\", \"idx\": 40, \"val\": 1.0}, {\"col\": \"Waiting\", \"idx\": 40, \"val\": 15.0}, {\"col\": \"Expensive\", \"idx\": 41, \"val\": 12.0}, {\"col\": \"Cheap\", \"idx\": 41, \"val\": 4.0}, {\"col\": \"Teleportation\", \"idx\": 41, \"val\": NaN}, {\"col\": \"Waiting\", \"idx\": 41, \"val\": 10.0}, {\"col\": \"Expensive\", \"idx\": 42, \"val\": 10.0}, {\"col\": \"Cheap\", \"idx\": 42, \"val\": 5.0}, {\"col\": \"Teleportation\", \"idx\": 42, \"val\": NaN}, {\"col\": \"Waiting\", \"idx\": 42, \"val\": 11.0}, {\"col\": \"Expensive\", \"idx\": 43, \"val\": 1.0}, {\"col\": \"Cheap\", \"idx\": 43, \"val\": 2.0}, {\"col\": \"Teleportation\", \"idx\": 43, \"val\": NaN}, {\"col\": \"Waiting\", \"idx\": 43, \"val\": 20.0}, {\"col\": \"Expensive\", \"idx\": 44, \"val\": 5.0}, {\"col\": \"Cheap\", \"idx\": 44, \"val\": 1.0}, {\"col\": \"Teleportation\", \"idx\": 44, \"val\": 1.0}, {\"col\": \"Waiting\", \"idx\": 44, \"val\": 15.0}, {\"col\": \"Expensive\", \"idx\": 45, \"val\": 12.0}, {\"col\": \"Cheap\", \"idx\": 45, \"val\": 2.0}, {\"col\": \"Teleportation\", \"idx\": 45, \"val\": NaN}, {\"col\": \"Waiting\", \"idx\": 45, \"val\": 6.0}, {\"col\": \"Expensive\", \"idx\": 46, \"val\": 5.0}, {\"col\": \"Cheap\", \"idx\": 46, \"val\": 3.0}, {\"col\": \"Teleportation\", \"idx\": 46, \"val\": NaN}, {\"col\": \"Waiting\", \"idx\": 46, \"val\": 9.0}, {\"col\": \"Expensive\", \"idx\": 47, \"val\": 2.0}, {\"col\": \"Cheap\", \"idx\": 47, \"val\": 0.0}, {\"col\": \"Teleportation\", \"idx\": 47, \"val\": 1.0}, {\"col\": \"Waiting\", \"idx\": 47, \"val\": 12.0}, {\"col\": \"Expensive\", \"idx\": 48, \"val\": 3.0}, {\"col\": \"Cheap\", \"idx\": 48, \"val\": 1.0}, {\"col\": \"Teleportation\", \"idx\": 48, \"val\": NaN}, {\"col\": \"Waiting\", \"idx\": 48, \"val\": 10.0}, {\"col\": \"Expensive\", \"idx\": 49, \"val\": 8.0}, {\"col\": \"Cheap\", \"idx\": 49, \"val\": 2.0}, {\"col\": \"Teleportation\", \"idx\": 49, \"val\": NaN}, {\"col\": \"Waiting\", \"idx\": 49, \"val\": 4.0}, {\"col\": \"Expensive\", \"idx\": 50, \"val\": 6.0}, {\"col\": \"Cheap\", \"idx\": 50, \"val\": 4.0}, {\"col\": \"Teleportation\", \"idx\": 50, \"val\": NaN}, {\"col\": \"Waiting\", \"idx\": 50, \"val\": 2.0}, {\"col\": \"Expensive\", \"idx\": 51, \"val\": 4.0}, {\"col\": \"Cheap\", \"idx\": 51, \"val\": 1.0}, {\"col\": \"Teleportation\", \"idx\": 51, \"val\": NaN}, {\"col\": \"Waiting\", \"idx\": 51, \"val\": 5.0}, {\"col\": \"Expensive\", \"idx\": 52, \"val\": 3.0}, {\"col\": \"Cheap\", \"idx\": 52, \"val\": 4.0}, {\"col\": \"Teleportation\", \"idx\": 52, \"val\": NaN}, {\"col\": \"Waiting\", \"idx\": 52, \"val\": 3.0}, {\"col\": \"Expensive\", \"idx\": 53, \"val\": 4.0}, {\"col\": \"Cheap\", \"idx\": 53, \"val\": 0.0}, {\"col\": \"Teleportation\", \"idx\": 53, \"val\": 2.0}, {\"col\": \"Waiting\", \"idx\": 53, \"val\": 4.0}, {\"col\": \"Expensive\", \"idx\": 54, \"val\": 3.0}, {\"col\": \"Cheap\", \"idx\": 54, \"val\": 3.0}, {\"col\": \"Teleportation\", \"idx\": 54, \"val\": NaN}, {\"col\": \"Waiting\", \"idx\": 54, \"val\": 4.0}, {\"col\": \"Expensive\", \"idx\": 55, \"val\": 1.0}, {\"col\": \"Cheap\", \"idx\": 55, \"val\": 2.0}, {\"col\": \"Teleportation\", \"idx\": 55, \"val\": NaN}, {\"col\": \"Waiting\", \"idx\": 55, \"val\": 6.0}, {\"col\": \"Expensive\", \"idx\": 56, \"val\": 3.0}, {\"col\": \"Cheap\", \"idx\": 56, \"val\": 0.0}, {\"col\": \"Teleportation\", \"idx\": 56, \"val\": NaN}, {\"col\": \"Waiting\", \"idx\": 56, \"val\": 6.0}, {\"col\": \"Expensive\", \"idx\": 57, \"val\": 4.0}, {\"col\": \"Cheap\", \"idx\": 57, \"val\": 1.0}, {\"col\": \"Teleportation\", \"idx\": 57, \"val\": 1.0}, {\"col\": \"Waiting\", \"idx\": 57, \"val\": 3.0}, {\"col\": \"Expensive\", \"idx\": 58, \"val\": 2.0}, {\"col\": \"Cheap\", \"idx\": 58, \"val\": 2.0}, {\"col\": \"Teleportation\", \"idx\": 58, \"val\": NaN}, {\"col\": \"Waiting\", \"idx\": 58, \"val\": 4.0}, {\"col\": \"Expensive\", \"idx\": 59, \"val\": 2.0}, {\"col\": \"Cheap\", \"idx\": 59, \"val\": 1.0}, {\"col\": \"Teleportation\", \"idx\": 59, \"val\": 1.0}, {\"col\": \"Waiting\", \"idx\": 59, \"val\": 4.0}, {\"col\": \"Expensive\", \"idx\": 60, \"val\": 3.0}, {\"col\": \"Cheap\", \"idx\": 60, \"val\": 0.0}, {\"col\": \"Teleportation\", \"idx\": 60, \"val\": NaN}, {\"col\": \"Waiting\", \"idx\": 60, \"val\": 5.0}, {\"col\": \"Expensive\", \"idx\": 61, \"val\": 5.0}, {\"col\": \"Cheap\", \"idx\": 61, \"val\": 1.0}, {\"col\": \"Teleportation\", \"idx\": 61, \"val\": NaN}, {\"col\": \"Waiting\", \"idx\": 61, \"val\": 2.0}, {\"col\": \"Expensive\", \"idx\": 62, \"val\": 2.0}, {\"col\": \"Cheap\", \"idx\": 62, \"val\": 4.0}, {\"col\": \"Teleportation\", \"idx\": 62, \"val\": 1.0}, {\"col\": \"Waiting\", \"idx\": 62, \"val\": 1.0}, {\"col\": \"Expensive\", \"idx\": 63, \"val\": 0.0}, {\"col\": \"Cheap\", \"idx\": 63, \"val\": 1.0}, {\"col\": \"Teleportation\", \"idx\": 63, \"val\": NaN}, {\"col\": \"Waiting\", \"idx\": 63, \"val\": 5.0}, {\"col\": \"Expensive\", \"idx\": 64, \"val\": 1.0}, {\"col\": \"Cheap\", \"idx\": 64, \"val\": 0.0}, {\"col\": \"Teleportation\", \"idx\": 64, \"val\": 1.0}, {\"col\": \"Waiting\", \"idx\": 64, \"val\": 4.0}, {\"col\": \"Expensive\", \"idx\": 65, \"val\": 2.0}, {\"col\": \"Cheap\", \"idx\": 65, \"val\": 0.0}, {\"col\": \"Teleportation\", \"idx\": 65, \"val\": NaN}, {\"col\": \"Waiting\", \"idx\": 65, \"val\": 4.0}, {\"col\": \"Expensive\", \"idx\": 66, \"val\": 2.0}, {\"col\": \"Cheap\", \"idx\": 66, \"val\": 1.0}, {\"col\": \"Teleportation\", \"idx\": 66, \"val\": NaN}, {\"col\": \"Waiting\", \"idx\": 66, \"val\": 3.0}, {\"col\": \"Expensive\", \"idx\": 67, \"val\": 1.0}, {\"col\": \"Cheap\", \"idx\": 67, \"val\": 1.0}, {\"col\": \"Teleportation\", \"idx\": 67, \"val\": NaN}, {\"col\": \"Waiting\", \"idx\": 67, \"val\": 4.0}, {\"col\": \"Expensive\", \"idx\": 68, \"val\": 1.0}, {\"col\": \"Cheap\", \"idx\": 68, \"val\": 0.0}, {\"col\": \"Teleportation\", \"idx\": 68, \"val\": 1.0}, {\"col\": \"Waiting\", \"idx\": 68, \"val\": 4.0}, {\"col\": \"Expensive\", \"idx\": 69, \"val\": 2.0}, {\"col\": \"Cheap\", \"idx\": 69, \"val\": 1.0}, {\"col\": \"Teleportation\", \"idx\": 69, \"val\": NaN}, {\"col\": \"Waiting\", \"idx\": 69, \"val\": 2.0}, {\"col\": \"Expensive\", \"idx\": 70, \"val\": 2.0}, {\"col\": \"Cheap\", \"idx\": 70, \"val\": 1.0}, {\"col\": \"Teleportation\", \"idx\": 70, \"val\": NaN}, {\"col\": \"Waiting\", \"idx\": 70, \"val\": 1.0}, {\"col\": \"Expensive\", \"idx\": 71, \"val\": 1.0}, {\"col\": \"Cheap\", \"idx\": 71, \"val\": 0.0}, {\"col\": \"Teleportation\", \"idx\": 71, \"val\": NaN}, {\"col\": \"Waiting\", \"idx\": 71, \"val\": 3.0}, {\"col\": \"Expensive\", \"idx\": 72, \"val\": 0.0}, {\"col\": \"Cheap\", \"idx\": 72, \"val\": 1.0}, {\"col\": \"Teleportation\", \"idx\": 72, \"val\": NaN}, {\"col\": \"Waiting\", \"idx\": 72, \"val\": 3.0}, {\"col\": \"Expensive\", \"idx\": 73, \"val\": 2.0}, {\"col\": \"Cheap\", \"idx\": 73, \"val\": 0.0}, {\"col\": \"Teleportation\", \"idx\": 73, \"val\": NaN}, {\"col\": \"Waiting\", \"idx\": 73, \"val\": 1.0}, {\"col\": \"Expensive\", \"idx\": 74, \"val\": 1.0}, {\"col\": \"Cheap\", \"idx\": 74, \"val\": 1.0}, {\"col\": \"Teleportation\", \"idx\": 74, \"val\": NaN}, {\"col\": \"Waiting\", \"idx\": 74, \"val\": 1.0}, {\"col\": \"Expensive\", \"idx\": 75, \"val\": 0.0}, {\"col\": \"Cheap\", \"idx\": 75, \"val\": 0.0}, {\"col\": \"Teleportation\", \"idx\": 75, \"val\": NaN}, {\"col\": \"Waiting\", \"idx\": 75, \"val\": 1.0}, {\"col\": \"Expensive\", \"idx\": 76, \"val\": 1.0}, {\"col\": \"Cheap\", \"idx\": 76, \"val\": 0.0}, {\"col\": \"Teleportation\", \"idx\": 76, \"val\": NaN}, {\"col\": \"Waiting\", \"idx\": 76, \"val\": 0.0}, {\"col\": \"Expensive\", \"idx\": 77, \"val\": 0.0}, {\"col\": \"Cheap\", \"idx\": 77, \"val\": 0.0}, {\"col\": \"Teleportation\", \"idx\": 77, \"val\": NaN}, {\"col\": \"Waiting\", \"idx\": 77, \"val\": 0.0}]}, {\"name\": \"stats\", \"source\": \"table\", \"transform\": [{\"keys\": [\"data.idx\"], \"type\": \"facet\"}, {\"type\": \"stats\", \"value\": \"data.val\"}]}], \"height\": 300, \"legends\": [{\"fill\": \"color\", \"offset\": 0, \"properties\": {}, \"title\": \"Edge\"}], \"marks\": [{\"from\": {\"data\": \"table\", \"transform\": [{\"keys\": [\"data.col\"], \"type\": \"facet\"}, {\"height\": \"data.val\", \"point\": \"data.idx\", \"type\": \"stack\"}]}, \"marks\": [{\"properties\": {\"enter\": {\"fill\": {\"field\": \"data.col\", \"scale\": \"color\"}, \"interpolate\": {\"value\": \"monotone\"}, \"opacity\": {\"value\": 0.8}, \"x\": {\"field\": \"data.idx\", \"scale\": \"x\"}, \"y\": {\"field\": \"y\", \"scale\": \"y\"}, \"y2\": {\"field\": \"y2\", \"scale\": \"y\"}}, \"hover\": {\"opacity\": {\"value\": 1}, \"size\": {\"value\": 200}}, \"update\": {\"opacity\": {\"value\": 0.8}, \"size\": {\"value\": 100}}}, \"type\": \"area\"}], \"type\": \"group\"}], \"padding\": \"auto\", \"scales\": [{\"domain\": {\"data\": \"table\", \"field\": \"data.idx\"}, \"name\": \"x\", \"range\": \"width\", \"type\": \"linear\", \"zero\": false}, {\"domain\": {\"data\": \"stats\", \"field\": \"sum\"}, \"name\": \"y\", \"nice\": true, \"range\": \"height\"}, {\"domain\": {\"data\": \"table\", \"field\": \"data.col\"}, \"name\": \"color\", \"range\": [\"#ff0000\", \"#50aa50\", \"#6060aa\", \"#eeeeee\"], \"type\": \"ordinal\"}], \"width\": 400}, function(chart) {\n",
        "         chart({el: \"#vis42f7857ccf664003a1eed1224b27e45a\"}).update();\n",
        "       });\n",
        "     };\n",
        "     _do_plot();\n",
        "   })();\n",
        "</script>\n",
        "<style>.vega canvas {width: 100%;}</style>\n",
        "        "
       ],
       "metadata": {},
       "output_type": "display_data",
       "text": [
        "<vincent.charts.Area at 0x7f5a76215d10>"
       ]
      },
      {
       "html": [
        "<h3>Performance stats</h3>"
       ],
       "metadata": {},
       "output_type": "display_data",
       "text": [
        "<IPython.core.display.HTML at 0x7f5a76215cd0>"
       ]
      },
      {
       "output_type": "stream",
       "stream": "stdout",
       "text": [
        "Stats normalized by equivalent vanilla random walk stats:\n",
        "\n",
        "Average death round (waiting/vanilla): 1.91066666667\n",
        "Total duration in rounds (waiting/vanilla): 1.50980392157\n",
        "Cost (waiting/vanilla): 0.710826210826\n"
       ]
      },
      {
       "html": [
        "<h2>Graph: Powerlaw-Cluster Graph</h2>"
       ],
       "metadata": {},
       "output_type": "display_data",
       "text": [
        "<IPython.core.display.HTML at 0x7f5a7625d750>"
       ]
      },
      {
       "html": [
        "<h3>Vanilla random walk. Cost: 1774.0</h3>"
       ],
       "metadata": {},
       "output_type": "display_data",
       "text": [
        "<IPython.core.display.HTML at 0x7f5a7cd82190>"
       ]
      },
      {
       "html": [
        "<div id=\"vis212379a9859342ecb8f0a44be8fb2a0e\"></div>\n",
        "<script>\n",
        "   ( function() {\n",
        "     var _do_plot = function() {\n",
        "       if (typeof vg === 'undefined') {\n",
        "         window.addEventListener('vincent_libs_loaded', _do_plot)\n",
        "         return;\n",
        "       }\n",
        "       vg.parse.spec({\"axes\": [{\"scale\": \"x\", \"title\": \"Rounds\", \"type\": \"x\"}, {\"scale\": \"y\", \"title\": \"# edges traversed\", \"type\": \"y\"}], \"data\": [{\"name\": \"table\", \"values\": [{\"col\": \"Expensive\", \"idx\": 0, \"val\": NaN}, {\"col\": \"Cheap\", \"idx\": 0, \"val\": NaN}, {\"col\": \"Expensive\", \"idx\": 1, \"val\": 147.0}, {\"col\": \"Cheap\", \"idx\": 1, \"val\": 39.0}, {\"col\": \"Expensive\", \"idx\": 2, \"val\": 145.0}, {\"col\": \"Cheap\", \"idx\": 2, \"val\": 41.0}, {\"col\": \"Expensive\", \"idx\": 3, \"val\": 146.0}, {\"col\": \"Cheap\", \"idx\": 3, \"val\": 43.0}, {\"col\": \"Expensive\", \"idx\": 4, \"val\": 138.0}, {\"col\": \"Cheap\", \"idx\": 4, \"val\": 39.0}, {\"col\": \"Expensive\", \"idx\": 5, \"val\": 133.0}, {\"col\": \"Cheap\", \"idx\": 5, \"val\": 40.0}, {\"col\": \"Expensive\", \"idx\": 6, \"val\": 124.0}, {\"col\": \"Cheap\", \"idx\": 6, \"val\": 39.0}, {\"col\": \"Expensive\", \"idx\": 7, \"val\": 115.0}, {\"col\": \"Cheap\", \"idx\": 7, \"val\": 32.0}, {\"col\": \"Expensive\", \"idx\": 8, \"val\": 107.0}, {\"col\": \"Cheap\", \"idx\": 8, \"val\": 34.0}, {\"col\": \"Expensive\", \"idx\": 9, \"val\": 96.0}, {\"col\": \"Cheap\", \"idx\": 9, \"val\": 31.0}, {\"col\": \"Expensive\", \"idx\": 10, \"val\": 84.0}, {\"col\": \"Cheap\", \"idx\": 10, \"val\": 22.0}, {\"col\": \"Expensive\", \"idx\": 11, \"val\": 78.0}, {\"col\": \"Cheap\", \"idx\": 11, \"val\": 18.0}, {\"col\": \"Expensive\", \"idx\": 12, \"val\": 69.0}, {\"col\": \"Cheap\", \"idx\": 12, \"val\": 20.0}, {\"col\": \"Expensive\", \"idx\": 13, \"val\": 62.0}, {\"col\": \"Cheap\", \"idx\": 13, \"val\": 14.0}, {\"col\": \"Expensive\", \"idx\": 14, \"val\": 46.0}, {\"col\": \"Cheap\", \"idx\": 14, \"val\": 13.0}, {\"col\": \"Expensive\", \"idx\": 15, \"val\": 41.0}, {\"col\": \"Cheap\", \"idx\": 15, \"val\": 17.0}, {\"col\": \"Expensive\", \"idx\": 16, \"val\": 30.0}, {\"col\": \"Cheap\", \"idx\": 16, \"val\": 13.0}, {\"col\": \"Expensive\", \"idx\": 17, \"val\": 33.0}, {\"col\": \"Cheap\", \"idx\": 17, \"val\": 10.0}, {\"col\": \"Expensive\", \"idx\": 18, \"val\": 28.0}, {\"col\": \"Cheap\", \"idx\": 18, \"val\": 7.0}, {\"col\": \"Expensive\", \"idx\": 19, \"val\": 24.0}, {\"col\": \"Cheap\", \"idx\": 19, \"val\": 5.0}, {\"col\": \"Expensive\", \"idx\": 20, \"val\": 23.0}, {\"col\": \"Cheap\", \"idx\": 20, \"val\": 3.0}, {\"col\": \"Expensive\", \"idx\": 21, \"val\": 13.0}, {\"col\": \"Cheap\", \"idx\": 21, \"val\": 10.0}, {\"col\": \"Expensive\", \"idx\": 22, \"val\": 17.0}, {\"col\": \"Cheap\", \"idx\": 22, \"val\": 4.0}, {\"col\": \"Expensive\", \"idx\": 23, \"val\": 15.0}, {\"col\": \"Cheap\", \"idx\": 23, \"val\": 2.0}, {\"col\": \"Expensive\", \"idx\": 24, \"val\": 10.0}, {\"col\": \"Cheap\", \"idx\": 24, \"val\": 3.0}, {\"col\": \"Expensive\", \"idx\": 25, \"val\": 7.0}, {\"col\": \"Cheap\", \"idx\": 25, \"val\": 2.0}, {\"col\": \"Expensive\", \"idx\": 26, \"val\": 3.0}, {\"col\": \"Cheap\", \"idx\": 26, \"val\": 5.0}, {\"col\": \"Expensive\", \"idx\": 27, \"val\": 7.0}, {\"col\": \"Cheap\", \"idx\": 27, \"val\": 1.0}, {\"col\": \"Expensive\", \"idx\": 28, \"val\": 4.0}, {\"col\": \"Cheap\", \"idx\": 28, \"val\": 2.0}, {\"col\": \"Expensive\", \"idx\": 29, \"val\": 4.0}, {\"col\": \"Cheap\", \"idx\": 29, \"val\": 0.0}, {\"col\": \"Expensive\", \"idx\": 30, \"val\": 4.0}, {\"col\": \"Cheap\", \"idx\": 30, \"val\": 0.0}, {\"col\": \"Expensive\", \"idx\": 31, \"val\": 3.0}, {\"col\": \"Cheap\", \"idx\": 31, \"val\": 0.0}, {\"col\": \"Expensive\", \"idx\": 32, \"val\": 3.0}, {\"col\": \"Cheap\", \"idx\": 32, \"val\": 0.0}, {\"col\": \"Expensive\", \"idx\": 33, \"val\": 2.0}, {\"col\": \"Cheap\", \"idx\": 33, \"val\": 1.0}, {\"col\": \"Expensive\", \"idx\": 34, \"val\": 3.0}, {\"col\": \"Cheap\", \"idx\": 34, \"val\": 0.0}, {\"col\": \"Expensive\", \"idx\": 35, \"val\": 2.0}, {\"col\": \"Cheap\", \"idx\": 35, \"val\": 0.0}, {\"col\": \"Expensive\", \"idx\": 36, \"val\": 2.0}, {\"col\": \"Cheap\", \"idx\": 36, \"val\": 0.0}, {\"col\": \"Expensive\", \"idx\": 37, \"val\": 2.0}, {\"col\": \"Cheap\", \"idx\": 37, \"val\": 0.0}, {\"col\": \"Expensive\", \"idx\": 38, \"val\": 1.0}, {\"col\": \"Cheap\", \"idx\": 38, \"val\": 1.0}, {\"col\": \"Expensive\", \"idx\": 39, \"val\": 1.0}, {\"col\": \"Cheap\", \"idx\": 39, \"val\": 0.0}, {\"col\": \"Expensive\", \"idx\": 40, \"val\": 1.0}, {\"col\": \"Cheap\", \"idx\": 40, \"val\": 0.0}, {\"col\": \"Expensive\", \"idx\": 41, \"val\": 0.0}, {\"col\": \"Cheap\", \"idx\": 41, \"val\": 1.0}, {\"col\": \"Expensive\", \"idx\": 42, \"val\": 1.0}, {\"col\": \"Cheap\", \"idx\": 42, \"val\": 0.0}, {\"col\": \"Expensive\", \"idx\": 43, \"val\": 0.0}, {\"col\": \"Cheap\", \"idx\": 43, \"val\": 1.0}, {\"col\": \"Expensive\", \"idx\": 44, \"val\": 0.0}, {\"col\": \"Cheap\", \"idx\": 44, \"val\": 0.0}, {\"col\": \"Expensive\", \"idx\": 45, \"val\": NaN}, {\"col\": \"Cheap\", \"idx\": 45, \"val\": NaN}, {\"col\": \"Expensive\", \"idx\": 46, \"val\": NaN}, {\"col\": \"Cheap\", \"idx\": 46, \"val\": NaN}, {\"col\": \"Expensive\", \"idx\": 47, \"val\": NaN}, {\"col\": \"Cheap\", \"idx\": 47, \"val\": NaN}, {\"col\": \"Expensive\", \"idx\": 48, \"val\": NaN}, {\"col\": \"Cheap\", \"idx\": 48, \"val\": NaN}, {\"col\": \"Expensive\", \"idx\": 49, \"val\": NaN}, {\"col\": \"Cheap\", \"idx\": 49, \"val\": NaN}, {\"col\": \"Expensive\", \"idx\": 50, \"val\": NaN}, {\"col\": \"Cheap\", \"idx\": 50, \"val\": NaN}, {\"col\": \"Expensive\", \"idx\": 51, \"val\": NaN}, {\"col\": \"Cheap\", \"idx\": 51, \"val\": NaN}, {\"col\": \"Expensive\", \"idx\": 52, \"val\": NaN}, {\"col\": \"Cheap\", \"idx\": 52, \"val\": NaN}, {\"col\": \"Expensive\", \"idx\": 53, \"val\": NaN}, {\"col\": \"Cheap\", \"idx\": 53, \"val\": NaN}, {\"col\": \"Expensive\", \"idx\": 54, \"val\": NaN}, {\"col\": \"Cheap\", \"idx\": 54, \"val\": NaN}, {\"col\": \"Expensive\", \"idx\": 55, \"val\": NaN}, {\"col\": \"Cheap\", \"idx\": 55, \"val\": NaN}, {\"col\": \"Expensive\", \"idx\": 56, \"val\": NaN}, {\"col\": \"Cheap\", \"idx\": 56, \"val\": NaN}, {\"col\": \"Expensive\", \"idx\": 57, \"val\": NaN}, {\"col\": \"Cheap\", \"idx\": 57, \"val\": NaN}, {\"col\": \"Expensive\", \"idx\": 58, \"val\": NaN}, {\"col\": \"Cheap\", \"idx\": 58, \"val\": NaN}, {\"col\": \"Expensive\", \"idx\": 59, \"val\": NaN}, {\"col\": \"Cheap\", \"idx\": 59, \"val\": NaN}, {\"col\": \"Expensive\", \"idx\": 60, \"val\": NaN}, {\"col\": \"Cheap\", \"idx\": 60, \"val\": NaN}, {\"col\": \"Expensive\", \"idx\": 61, \"val\": NaN}, {\"col\": \"Cheap\", \"idx\": 61, \"val\": NaN}, {\"col\": \"Expensive\", \"idx\": 62, \"val\": NaN}, {\"col\": \"Cheap\", \"idx\": 62, \"val\": NaN}, {\"col\": \"Expensive\", \"idx\": 63, \"val\": NaN}, {\"col\": \"Cheap\", \"idx\": 63, \"val\": NaN}, {\"col\": \"Expensive\", \"idx\": 64, \"val\": NaN}, {\"col\": \"Cheap\", \"idx\": 64, \"val\": NaN}, {\"col\": \"Expensive\", \"idx\": 65, \"val\": NaN}, {\"col\": \"Cheap\", \"idx\": 65, \"val\": NaN}, {\"col\": \"Expensive\", \"idx\": 66, \"val\": NaN}, {\"col\": \"Cheap\", \"idx\": 66, \"val\": NaN}, {\"col\": \"Expensive\", \"idx\": 67, \"val\": NaN}, {\"col\": \"Cheap\", \"idx\": 67, \"val\": NaN}, {\"col\": \"Expensive\", \"idx\": 68, \"val\": NaN}, {\"col\": \"Cheap\", \"idx\": 68, \"val\": NaN}, {\"col\": \"Expensive\", \"idx\": 69, \"val\": NaN}, {\"col\": \"Cheap\", \"idx\": 69, \"val\": NaN}, {\"col\": \"Expensive\", \"idx\": 70, \"val\": NaN}, {\"col\": \"Cheap\", \"idx\": 70, \"val\": NaN}, {\"col\": \"Expensive\", \"idx\": 71, \"val\": NaN}, {\"col\": \"Cheap\", \"idx\": 71, \"val\": NaN}, {\"col\": \"Expensive\", \"idx\": 72, \"val\": NaN}, {\"col\": \"Cheap\", \"idx\": 72, \"val\": NaN}, {\"col\": \"Expensive\", \"idx\": 73, \"val\": NaN}, {\"col\": \"Cheap\", \"idx\": 73, \"val\": NaN}, {\"col\": \"Expensive\", \"idx\": 74, \"val\": NaN}, {\"col\": \"Cheap\", \"idx\": 74, \"val\": NaN}, {\"col\": \"Expensive\", \"idx\": 75, \"val\": NaN}, {\"col\": \"Cheap\", \"idx\": 75, \"val\": NaN}, {\"col\": \"Expensive\", \"idx\": 76, \"val\": NaN}, {\"col\": \"Cheap\", \"idx\": 76, \"val\": NaN}, {\"col\": \"Expensive\", \"idx\": 77, \"val\": NaN}, {\"col\": \"Cheap\", \"idx\": 77, \"val\": NaN}, {\"col\": \"Expensive\", \"idx\": 78, \"val\": NaN}, {\"col\": \"Cheap\", \"idx\": 78, \"val\": NaN}, {\"col\": \"Expensive\", \"idx\": 79, \"val\": NaN}, {\"col\": \"Cheap\", \"idx\": 79, \"val\": NaN}, {\"col\": \"Expensive\", \"idx\": 80, \"val\": NaN}, {\"col\": \"Cheap\", \"idx\": 80, \"val\": NaN}, {\"col\": \"Expensive\", \"idx\": 81, \"val\": NaN}, {\"col\": \"Cheap\", \"idx\": 81, \"val\": NaN}, {\"col\": \"Expensive\", \"idx\": 82, \"val\": NaN}, {\"col\": \"Cheap\", \"idx\": 82, \"val\": NaN}, {\"col\": \"Expensive\", \"idx\": 83, \"val\": NaN}, {\"col\": \"Cheap\", \"idx\": 83, \"val\": NaN}, {\"col\": \"Expensive\", \"idx\": 84, \"val\": NaN}, {\"col\": \"Cheap\", \"idx\": 84, \"val\": NaN}, {\"col\": \"Expensive\", \"idx\": 85, \"val\": NaN}, {\"col\": \"Cheap\", \"idx\": 85, \"val\": NaN}, {\"col\": \"Expensive\", \"idx\": 86, \"val\": NaN}, {\"col\": \"Cheap\", \"idx\": 86, \"val\": NaN}, {\"col\": \"Expensive\", \"idx\": 87, \"val\": NaN}, {\"col\": \"Cheap\", \"idx\": 87, \"val\": NaN}, {\"col\": \"Expensive\", \"idx\": 88, \"val\": NaN}, {\"col\": \"Cheap\", \"idx\": 88, \"val\": NaN}, {\"col\": \"Expensive\", \"idx\": 89, \"val\": NaN}, {\"col\": \"Cheap\", \"idx\": 89, \"val\": NaN}, {\"col\": \"Expensive\", \"idx\": 90, \"val\": NaN}, {\"col\": \"Cheap\", \"idx\": 90, \"val\": NaN}]}, {\"name\": \"stats\", \"source\": \"table\", \"transform\": [{\"keys\": [\"data.idx\"], \"type\": \"facet\"}, {\"type\": \"stats\", \"value\": \"data.val\"}]}], \"height\": 300, \"legends\": [{\"fill\": \"color\", \"offset\": 0, \"properties\": {}, \"title\": \"Edge\"}], \"marks\": [{\"from\": {\"data\": \"table\", \"transform\": [{\"keys\": [\"data.col\"], \"type\": \"facet\"}, {\"height\": \"data.val\", \"point\": \"data.idx\", \"type\": \"stack\"}]}, \"marks\": [{\"properties\": {\"enter\": {\"fill\": {\"field\": \"data.col\", \"scale\": \"color\"}, \"interpolate\": {\"value\": \"monotone\"}, \"opacity\": {\"value\": 0.8}, \"x\": {\"field\": \"data.idx\", \"scale\": \"x\"}, \"y\": {\"field\": \"y\", \"scale\": \"y\"}, \"y2\": {\"field\": \"y2\", \"scale\": \"y\"}}, \"hover\": {\"opacity\": {\"value\": 1}, \"size\": {\"value\": 200}}, \"update\": {\"opacity\": {\"value\": 0.8}, \"size\": {\"value\": 100}}}, \"type\": \"area\"}], \"type\": \"group\"}], \"padding\": \"auto\", \"scales\": [{\"domain\": {\"data\": \"table\", \"field\": \"data.idx\"}, \"name\": \"x\", \"range\": \"width\", \"type\": \"linear\", \"zero\": false}, {\"domain\": [0, 196], \"name\": \"y\", \"nice\": true, \"range\": \"height\"}, {\"domain\": {\"data\": \"table\", \"field\": \"data.col\"}, \"name\": \"color\", \"range\": [\"#ff0000\", \"#50aa50\", \"#eeeeee\"], \"type\": \"ordinal\"}], \"width\": 400}, function(chart) {\n",
        "         chart({el: \"#vis212379a9859342ecb8f0a44be8fb2a0e\"}).update();\n",
        "       });\n",
        "     };\n",
        "     _do_plot();\n",
        "   })();\n",
        "</script>\n",
        "<style>.vega canvas {width: 100%;}</style>\n",
        "        "
       ],
       "metadata": {},
       "output_type": "display_data",
       "text": [
        "<vincent.charts.Area at 0x7f5a7623b1d0>"
       ]
      },
      {
       "html": [
        "<h3>Waiting random walk. Cost: 1345.0, a 24.182638106% gain</h3>"
       ],
       "metadata": {},
       "output_type": "display_data",
       "text": [
        "<IPython.core.display.HTML at 0x7f5a9415b4d0>"
       ]
      },
      {
       "html": [
        "<div id=\"visa8d0427a5ef54e0e8486edfaedbfaf41\"></div>\n",
        "<script>\n",
        "   ( function() {\n",
        "     var _do_plot = function() {\n",
        "       if (typeof vg === 'undefined') {\n",
        "         window.addEventListener('vincent_libs_loaded', _do_plot)\n",
        "         return;\n",
        "       }\n",
        "       vg.parse.spec({\"axes\": [{\"scale\": \"x\", \"title\": \"Rounds\", \"type\": \"x\"}, {\"scale\": \"y\", \"title\": \"# edges traversed\", \"type\": \"y\"}], \"data\": [{\"name\": \"table\", \"values\": [{\"col\": \"Expensive\", \"idx\": 1, \"val\": 42.0}, {\"col\": \"Cheap\", \"idx\": 1, \"val\": 41.0}, {\"col\": \"Expensive\", \"idx\": 2, \"val\": 37.0}, {\"col\": \"Cheap\", \"idx\": 2, \"val\": 34.0}, {\"col\": \"Expensive\", \"idx\": 3, \"val\": 39.0}, {\"col\": \"Cheap\", \"idx\": 3, \"val\": 31.0}, {\"col\": \"Expensive\", \"idx\": 4, \"val\": 33.0}, {\"col\": \"Cheap\", \"idx\": 4, \"val\": 26.0}, {\"col\": \"Expensive\", \"idx\": 5, \"val\": 43.0}, {\"col\": \"Cheap\", \"idx\": 5, \"val\": 25.0}, {\"col\": \"Expensive\", \"idx\": 6, \"val\": 37.0}, {\"col\": \"Cheap\", \"idx\": 6, \"val\": 30.0}, {\"col\": \"Expensive\", \"idx\": 7, \"val\": 39.0}, {\"col\": \"Cheap\", \"idx\": 7, \"val\": 32.0}, {\"col\": \"Expensive\", \"idx\": 8, \"val\": 33.0}, {\"col\": \"Cheap\", \"idx\": 8, \"val\": 25.0}, {\"col\": \"Expensive\", \"idx\": 9, \"val\": 42.0}, {\"col\": \"Cheap\", \"idx\": 9, \"val\": 18.0}, {\"col\": \"Expensive\", \"idx\": 10, \"val\": 37.0}, {\"col\": \"Cheap\", \"idx\": 10, \"val\": 25.0}, {\"col\": \"Expensive\", \"idx\": 11, \"val\": 40.0}, {\"col\": \"Cheap\", \"idx\": 11, \"val\": 24.0}, {\"col\": \"Expensive\", \"idx\": 12, \"val\": 32.0}, {\"col\": \"Cheap\", \"idx\": 12, \"val\": 19.0}, {\"col\": \"Expensive\", \"idx\": 13, \"val\": 41.0}, {\"col\": \"Cheap\", \"idx\": 13, \"val\": 17.0}, {\"col\": \"Expensive\", \"idx\": 14, \"val\": 34.0}, {\"col\": \"Cheap\", \"idx\": 14, \"val\": 18.0}, {\"col\": \"Expensive\", \"idx\": 15, \"val\": 38.0}, {\"col\": \"Cheap\", \"idx\": 15, \"val\": 19.0}, {\"col\": \"Expensive\", \"idx\": 16, \"val\": 28.0}, {\"col\": \"Cheap\", \"idx\": 16, \"val\": 22.0}, {\"col\": \"Expensive\", \"idx\": 17, \"val\": 39.0}, {\"col\": \"Cheap\", \"idx\": 17, \"val\": 14.0}, {\"col\": \"Expensive\", \"idx\": 18, \"val\": 30.0}, {\"col\": \"Cheap\", \"idx\": 18, \"val\": 22.0}, {\"col\": \"Expensive\", \"idx\": 19, \"val\": 37.0}, {\"col\": \"Cheap\", \"idx\": 19, \"val\": 13.0}, {\"col\": \"Expensive\", \"idx\": 20, \"val\": 29.0}, {\"col\": \"Cheap\", \"idx\": 20, \"val\": 20.0}, {\"col\": \"Expensive\", \"idx\": 21, \"val\": 36.0}, {\"col\": \"Cheap\", \"idx\": 21, \"val\": 11.0}, {\"col\": \"Expensive\", \"idx\": 22, \"val\": 33.0}, {\"col\": \"Cheap\", \"idx\": 22, \"val\": 12.0}, {\"col\": \"Expensive\", \"idx\": 23, \"val\": 35.0}, {\"col\": \"Cheap\", \"idx\": 23, \"val\": 10.0}, {\"col\": \"Expensive\", \"idx\": 24, \"val\": 26.0}, {\"col\": \"Cheap\", \"idx\": 24, \"val\": 12.0}, {\"col\": \"Expensive\", \"idx\": 25, \"val\": 31.0}, {\"col\": \"Cheap\", \"idx\": 25, \"val\": 10.0}, {\"col\": \"Expensive\", \"idx\": 26, \"val\": 25.0}, {\"col\": \"Cheap\", \"idx\": 26, \"val\": 12.0}, {\"col\": \"Expensive\", \"idx\": 27, \"val\": 22.0}, {\"col\": \"Cheap\", \"idx\": 27, \"val\": 11.0}, {\"col\": \"Expensive\", \"idx\": 28, \"val\": 22.0}, {\"col\": \"Cheap\", \"idx\": 28, \"val\": 7.0}, {\"col\": \"Expensive\", \"idx\": 29, \"val\": 25.0}, {\"col\": \"Cheap\", \"idx\": 29, \"val\": 3.0}, {\"col\": \"Expensive\", \"idx\": 30, \"val\": 26.0}, {\"col\": \"Cheap\", \"idx\": 30, \"val\": 7.0}, {\"col\": \"Expensive\", \"idx\": 31, \"val\": 13.0}, {\"col\": \"Cheap\", \"idx\": 31, \"val\": 6.0}, {\"col\": \"Expensive\", \"idx\": 32, \"val\": 18.0}, {\"col\": \"Cheap\", \"idx\": 32, \"val\": 5.0}, {\"col\": \"Expensive\", \"idx\": 33, \"val\": 20.0}, {\"col\": \"Cheap\", \"idx\": 33, \"val\": 5.0}, {\"col\": \"Expensive\", \"idx\": 34, \"val\": 21.0}, {\"col\": \"Cheap\", \"idx\": 34, \"val\": 2.0}, {\"col\": \"Expensive\", \"idx\": 35, \"val\": 14.0}, {\"col\": \"Cheap\", \"idx\": 35, \"val\": 6.0}, {\"col\": \"Expensive\", \"idx\": 36, \"val\": 10.0}, {\"col\": \"Cheap\", \"idx\": 36, \"val\": 2.0}, {\"col\": \"Expensive\", \"idx\": 37, \"val\": 17.0}, {\"col\": \"Cheap\", \"idx\": 37, \"val\": 1.0}, {\"col\": \"Expensive\", \"idx\": 38, \"val\": 13.0}, {\"col\": \"Cheap\", \"idx\": 38, \"val\": 6.0}, {\"col\": \"Expensive\", \"idx\": 39, \"val\": 13.0}, {\"col\": \"Cheap\", \"idx\": 39, \"val\": 2.0}, {\"col\": \"Expensive\", \"idx\": 40, \"val\": 9.0}, {\"col\": \"Cheap\", \"idx\": 40, \"val\": 4.0}, {\"col\": \"Expensive\", \"idx\": 41, \"val\": 12.0}, {\"col\": \"Cheap\", \"idx\": 41, \"val\": 2.0}, {\"col\": \"Expensive\", \"idx\": 42, \"val\": 13.0}, {\"col\": \"Cheap\", \"idx\": 42, \"val\": 3.0}, {\"col\": \"Expensive\", \"idx\": 43, \"val\": 7.0}, {\"col\": \"Cheap\", \"idx\": 43, \"val\": 3.0}, {\"col\": \"Expensive\", \"idx\": 44, \"val\": 9.0}, {\"col\": \"Cheap\", \"idx\": 44, \"val\": 2.0}, {\"col\": \"Expensive\", \"idx\": 45, \"val\": 15.0}, {\"col\": \"Cheap\", \"idx\": 45, \"val\": 1.0}, {\"col\": \"Expensive\", \"idx\": 46, \"val\": 7.0}, {\"col\": \"Cheap\", \"idx\": 46, \"val\": 3.0}, {\"col\": \"Expensive\", \"idx\": 47, \"val\": 9.0}, {\"col\": \"Cheap\", \"idx\": 47, \"val\": 1.0}, {\"col\": \"Expensive\", \"idx\": 48, \"val\": 9.0}, {\"col\": \"Cheap\", \"idx\": 48, \"val\": 0.0}, {\"col\": \"Expensive\", \"idx\": 49, \"val\": 7.0}, {\"col\": \"Cheap\", \"idx\": 49, \"val\": 1.0}, {\"col\": \"Expensive\", \"idx\": 50, \"val\": 4.0}, {\"col\": \"Cheap\", \"idx\": 50, \"val\": 2.0}, {\"col\": \"Expensive\", \"idx\": 51, \"val\": 8.0}, {\"col\": \"Cheap\", \"idx\": 51, \"val\": 1.0}, {\"col\": \"Expensive\", \"idx\": 52, \"val\": 9.0}, {\"col\": \"Cheap\", \"idx\": 52, \"val\": 1.0}, {\"col\": \"Expensive\", \"idx\": 53, \"val\": 8.0}, {\"col\": \"Cheap\", \"idx\": 53, \"val\": 1.0}, {\"col\": \"Expensive\", \"idx\": 54, \"val\": 4.0}, {\"col\": \"Cheap\", \"idx\": 54, \"val\": 2.0}, {\"col\": \"Expensive\", \"idx\": 55, \"val\": 6.0}, {\"col\": \"Cheap\", \"idx\": 55, \"val\": 3.0}, {\"col\": \"Expensive\", \"idx\": 56, \"val\": 3.0}, {\"col\": \"Cheap\", \"idx\": 56, \"val\": 2.0}, {\"col\": \"Expensive\", \"idx\": 57, \"val\": 6.0}, {\"col\": \"Cheap\", \"idx\": 57, \"val\": 0.0}, {\"col\": \"Expensive\", \"idx\": 58, \"val\": 2.0}, {\"col\": \"Cheap\", \"idx\": 58, \"val\": 0.0}, {\"col\": \"Expensive\", \"idx\": 59, \"val\": 6.0}, {\"col\": \"Cheap\", \"idx\": 59, \"val\": 1.0}, {\"col\": \"Expensive\", \"idx\": 60, \"val\": 3.0}, {\"col\": \"Cheap\", \"idx\": 60, \"val\": 0.0}, {\"col\": \"Expensive\", \"idx\": 61, \"val\": 5.0}, {\"col\": \"Cheap\", \"idx\": 61, \"val\": 0.0}, {\"col\": \"Expensive\", \"idx\": 62, \"val\": 2.0}, {\"col\": \"Cheap\", \"idx\": 62, \"val\": 1.0}, {\"col\": \"Expensive\", \"idx\": 63, \"val\": 2.0}, {\"col\": \"Cheap\", \"idx\": 63, \"val\": 0.0}, {\"col\": \"Expensive\", \"idx\": 64, \"val\": 1.0}, {\"col\": \"Cheap\", \"idx\": 64, \"val\": 1.0}, {\"col\": \"Expensive\", \"idx\": 65, \"val\": 3.0}, {\"col\": \"Cheap\", \"idx\": 65, \"val\": 1.0}, {\"col\": \"Expensive\", \"idx\": 66, \"val\": 0.0}, {\"col\": \"Cheap\", \"idx\": 66, \"val\": 0.0}, {\"col\": \"Expensive\", \"idx\": 67, \"val\": 1.0}, {\"col\": \"Cheap\", \"idx\": 67, \"val\": 0.0}, {\"col\": \"Expensive\", \"idx\": 68, \"val\": 2.0}, {\"col\": \"Cheap\", \"idx\": 68, \"val\": 0.0}, {\"col\": \"Expensive\", \"idx\": 69, \"val\": 3.0}, {\"col\": \"Cheap\", \"idx\": 69, \"val\": 0.0}, {\"col\": \"Expensive\", \"idx\": 70, \"val\": 1.0}, {\"col\": \"Cheap\", \"idx\": 70, \"val\": 1.0}, {\"col\": \"Expensive\", \"idx\": 71, \"val\": 3.0}, {\"col\": \"Cheap\", \"idx\": 71, \"val\": 0.0}, {\"col\": \"Expensive\", \"idx\": 72, \"val\": 1.0}, {\"col\": \"Cheap\", \"idx\": 72, \"val\": 0.0}, {\"col\": \"Expensive\", \"idx\": 73, \"val\": 2.0}, {\"col\": \"Cheap\", \"idx\": 73, \"val\": 0.0}, {\"col\": \"Expensive\", \"idx\": 74, \"val\": 1.0}, {\"col\": \"Cheap\", \"idx\": 74, \"val\": 0.0}, {\"col\": \"Expensive\", \"idx\": 75, \"val\": 1.0}, {\"col\": \"Cheap\", \"idx\": 75, \"val\": 0.0}, {\"col\": \"Expensive\", \"idx\": 76, \"val\": 1.0}, {\"col\": \"Cheap\", \"idx\": 76, \"val\": 0.0}, {\"col\": \"Expensive\", \"idx\": 77, \"val\": 1.0}, {\"col\": \"Cheap\", \"idx\": 77, \"val\": 0.0}, {\"col\": \"Expensive\", \"idx\": 78, \"val\": 1.0}, {\"col\": \"Cheap\", \"idx\": 78, \"val\": 0.0}, {\"col\": \"Expensive\", \"idx\": 79, \"val\": 1.0}, {\"col\": \"Cheap\", \"idx\": 79, \"val\": 0.0}, {\"col\": \"Expensive\", \"idx\": 80, \"val\": 1.0}, {\"col\": \"Cheap\", \"idx\": 80, \"val\": 0.0}, {\"col\": \"Expensive\", \"idx\": 81, \"val\": 1.0}, {\"col\": \"Cheap\", \"idx\": 81, \"val\": 0.0}, {\"col\": \"Expensive\", \"idx\": 82, \"val\": 0.0}, {\"col\": \"Cheap\", \"idx\": 82, \"val\": 0.0}, {\"col\": \"Expensive\", \"idx\": 83, \"val\": 1.0}, {\"col\": \"Cheap\", \"idx\": 83, \"val\": 0.0}, {\"col\": \"Expensive\", \"idx\": 84, \"val\": 2.0}, {\"col\": \"Cheap\", \"idx\": 84, \"val\": 0.0}, {\"col\": \"Expensive\", \"idx\": 85, \"val\": 0.0}, {\"col\": \"Cheap\", \"idx\": 85, \"val\": 1.0}, {\"col\": \"Expensive\", \"idx\": 86, \"val\": 0.0}, {\"col\": \"Cheap\", \"idx\": 86, \"val\": 0.0}, {\"col\": \"Expensive\", \"idx\": 87, \"val\": 0.0}, {\"col\": \"Cheap\", \"idx\": 87, \"val\": 0.0}, {\"col\": \"Expensive\", \"idx\": 88, \"val\": 1.0}, {\"col\": \"Cheap\", \"idx\": 88, \"val\": 0.0}, {\"col\": \"Expensive\", \"idx\": 89, \"val\": 1.0}, {\"col\": \"Cheap\", \"idx\": 89, \"val\": 0.0}, {\"col\": \"Expensive\", \"idx\": 90, \"val\": 0.0}, {\"col\": \"Cheap\", \"idx\": 90, \"val\": 0.0}]}, {\"name\": \"stats\", \"source\": \"table\", \"transform\": [{\"keys\": [\"data.idx\"], \"type\": \"facet\"}, {\"type\": \"stats\", \"value\": \"data.val\"}]}], \"height\": 300, \"legends\": [{\"fill\": \"color\", \"offset\": 0, \"properties\": {}, \"title\": \"Edge\"}], \"marks\": [{\"from\": {\"data\": \"table\", \"transform\": [{\"keys\": [\"data.col\"], \"type\": \"facet\"}, {\"height\": \"data.val\", \"point\": \"data.idx\", \"type\": \"stack\"}]}, \"marks\": [{\"properties\": {\"enter\": {\"fill\": {\"field\": \"data.col\", \"scale\": \"color\"}, \"interpolate\": {\"value\": \"monotone\"}, \"opacity\": {\"value\": 0.8}, \"x\": {\"field\": \"data.idx\", \"scale\": \"x\"}, \"y\": {\"field\": \"y\", \"scale\": \"y\"}, \"y2\": {\"field\": \"y2\", \"scale\": \"y\"}}, \"hover\": {\"opacity\": {\"value\": 1}, \"size\": {\"value\": 200}}, \"update\": {\"opacity\": {\"value\": 0.8}, \"size\": {\"value\": 100}}}, \"type\": \"area\"}], \"type\": \"group\"}], \"padding\": \"auto\", \"scales\": [{\"domain\": {\"data\": \"table\", \"field\": \"data.idx\"}, \"name\": \"x\", \"range\": \"width\", \"type\": \"linear\", \"zero\": false}, {\"domain\": [0, 196], \"name\": \"y\", \"nice\": true, \"range\": \"height\"}, {\"domain\": {\"data\": \"table\", \"field\": \"data.col\"}, \"name\": \"color\", \"range\": [\"#ff0000\", \"#50aa50\", \"#eeeeee\"], \"type\": \"ordinal\"}], \"width\": 400}, function(chart) {\n",
        "         chart({el: \"#visa8d0427a5ef54e0e8486edfaedbfaf41\"}).update();\n",
        "       });\n",
        "     };\n",
        "     _do_plot();\n",
        "   })();\n",
        "</script>\n",
        "<style>.vega canvas {width: 100%;}</style>\n",
        "        "
       ],
       "metadata": {},
       "output_type": "display_data",
       "text": [
        "<vincent.charts.Area at 0x7f5a763da0d0>"
       ]
      },
      {
       "html": [
        "<h4>Waiting algorithm: What are the frogs up to?</h4>"
       ],
       "metadata": {},
       "output_type": "display_data",
       "text": [
        "<IPython.core.display.HTML at 0x7f5a763daa10>"
       ]
      },
      {
       "html": [
        "<div id=\"vis27615c7e49734c30a779fac2b4912e78\"></div>\n",
        "<script>\n",
        "   ( function() {\n",
        "     var _do_plot = function() {\n",
        "       if (typeof vg === 'undefined') {\n",
        "         window.addEventListener('vincent_libs_loaded', _do_plot)\n",
        "         return;\n",
        "       }\n",
        "       vg.parse.spec({\"axes\": [{\"scale\": \"x\", \"title\": \"Rounds\", \"type\": \"x\"}, {\"scale\": \"y\", \"title\": \"# frogs\", \"type\": \"y\"}], \"data\": [{\"name\": \"table\", \"values\": [{\"col\": \"Expensive\", \"idx\": 1, \"val\": 171.0}, {\"col\": \"Cheap\", \"idx\": 1, \"val\": 183.0}, {\"col\": \"Waiting\", \"idx\": 1, \"val\": 472.0}, {\"col\": \"Expensive\", \"idx\": 2, \"val\": 213.0}, {\"col\": \"Cheap\", \"idx\": 2, \"val\": 77.0}, {\"col\": \"Waiting\", \"idx\": 2, \"val\": 462.0}, {\"col\": \"Expensive\", \"idx\": 3, \"val\": 238.0}, {\"col\": \"Cheap\", \"idx\": 3, \"val\": 60.0}, {\"col\": \"Waiting\", \"idx\": 3, \"val\": 402.0}, {\"col\": \"Expensive\", \"idx\": 4, \"val\": 222.0}, {\"col\": \"Cheap\", \"idx\": 4, \"val\": 53.0}, {\"col\": \"Waiting\", \"idx\": 4, \"val\": 372.0}, {\"col\": \"Expensive\", \"idx\": 5, \"val\": 206.0}, {\"col\": \"Cheap\", \"idx\": 5, \"val\": 41.0}, {\"col\": \"Waiting\", \"idx\": 5, \"val\": 350.0}, {\"col\": \"Expensive\", \"idx\": 6, \"val\": 168.0}, {\"col\": \"Cheap\", \"idx\": 6, \"val\": 54.0}, {\"col\": \"Waiting\", \"idx\": 6, \"val\": 334.0}, {\"col\": \"Expensive\", \"idx\": 7, \"val\": 182.0}, {\"col\": \"Cheap\", \"idx\": 7, \"val\": 47.0}, {\"col\": \"Waiting\", \"idx\": 7, \"val\": 296.0}, {\"col\": \"Expensive\", \"idx\": 8, \"val\": 155.0}, {\"col\": \"Cheap\", \"idx\": 8, \"val\": 38.0}, {\"col\": \"Waiting\", \"idx\": 8, \"val\": 295.0}, {\"col\": \"Expensive\", \"idx\": 9, \"val\": 161.0}, {\"col\": \"Cheap\", \"idx\": 9, \"val\": 29.0}, {\"col\": \"Waiting\", \"idx\": 9, \"val\": 263.0}, {\"col\": \"Expensive\", \"idx\": 10, \"val\": 136.0}, {\"col\": \"Cheap\", \"idx\": 10, \"val\": 34.0}, {\"col\": \"Waiting\", \"idx\": 10, \"val\": 242.0}, {\"col\": \"Expensive\", \"idx\": 11, \"val\": 140.0}, {\"col\": \"Cheap\", \"idx\": 11, \"val\": 29.0}, {\"col\": \"Waiting\", \"idx\": 11, \"val\": 220.0}, {\"col\": \"Expensive\", \"idx\": 12, \"val\": 107.0}, {\"col\": \"Cheap\", \"idx\": 12, \"val\": 24.0}, {\"col\": \"Waiting\", \"idx\": 12, \"val\": 227.0}, {\"col\": \"Expensive\", \"idx\": 13, \"val\": 115.0}, {\"col\": \"Cheap\", \"idx\": 13, \"val\": 22.0}, {\"col\": \"Waiting\", \"idx\": 13, \"val\": 201.0}, {\"col\": \"Expensive\", \"idx\": 14, \"val\": 117.0}, {\"col\": \"Cheap\", \"idx\": 14, \"val\": 30.0}, {\"col\": \"Waiting\", \"idx\": 14, \"val\": 174.0}, {\"col\": \"Expensive\", \"idx\": 15, \"val\": 109.0}, {\"col\": \"Cheap\", \"idx\": 15, \"val\": 32.0}, {\"col\": \"Waiting\", \"idx\": 15, \"val\": 159.0}, {\"col\": \"Expensive\", \"idx\": 16, \"val\": 69.0}, {\"col\": \"Cheap\", \"idx\": 16, \"val\": 27.0}, {\"col\": \"Waiting\", \"idx\": 16, \"val\": 184.0}, {\"col\": \"Expensive\", \"idx\": 17, \"val\": 96.0}, {\"col\": \"Cheap\", \"idx\": 17, \"val\": 18.0}, {\"col\": \"Waiting\", \"idx\": 17, \"val\": 144.0}, {\"col\": \"Expensive\", \"idx\": 18, \"val\": 83.0}, {\"col\": \"Cheap\", \"idx\": 18, \"val\": 31.0}, {\"col\": \"Waiting\", \"idx\": 18, \"val\": 123.0}, {\"col\": \"Expensive\", \"idx\": 19, \"val\": 87.0}, {\"col\": \"Cheap\", \"idx\": 19, \"val\": 20.0}, {\"col\": \"Waiting\", \"idx\": 19, \"val\": 110.0}, {\"col\": \"Expensive\", \"idx\": 20, \"val\": 54.0}, {\"col\": \"Cheap\", \"idx\": 20, \"val\": 26.0}, {\"col\": \"Waiting\", \"idx\": 20, \"val\": 121.0}, {\"col\": \"Expensive\", \"idx\": 21, \"val\": 63.0}, {\"col\": \"Cheap\", \"idx\": 21, \"val\": 14.0}, {\"col\": \"Waiting\", \"idx\": 21, \"val\": 112.0}, {\"col\": \"Expensive\", \"idx\": 22, \"val\": 56.0}, {\"col\": \"Cheap\", \"idx\": 22, \"val\": 12.0}, {\"col\": \"Waiting\", \"idx\": 22, \"val\": 109.0}, {\"col\": \"Expensive\", \"idx\": 23, \"val\": 73.0}, {\"col\": \"Cheap\", \"idx\": 23, \"val\": 10.0}, {\"col\": \"Waiting\", \"idx\": 23, \"val\": 82.0}, {\"col\": \"Expensive\", \"idx\": 24, \"val\": 42.0}, {\"col\": \"Cheap\", \"idx\": 24, \"val\": 17.0}, {\"col\": \"Waiting\", \"idx\": 24, \"val\": 91.0}, {\"col\": \"Expensive\", \"idx\": 25, \"val\": 54.0}, {\"col\": \"Cheap\", \"idx\": 25, \"val\": 11.0}, {\"col\": \"Waiting\", \"idx\": 25, \"val\": 72.0}, {\"col\": \"Expensive\", \"idx\": 26, \"val\": 39.0}, {\"col\": \"Cheap\", \"idx\": 26, \"val\": 13.0}, {\"col\": \"Waiting\", \"idx\": 26, \"val\": 77.0}, {\"col\": \"Expensive\", \"idx\": 27, \"val\": 41.0}, {\"col\": \"Cheap\", \"idx\": 27, \"val\": 15.0}, {\"col\": \"Waiting\", \"idx\": 27, \"val\": 66.0}, {\"col\": \"Expensive\", \"idx\": 28, \"val\": 31.0}, {\"col\": \"Cheap\", \"idx\": 28, \"val\": 7.0}, {\"col\": \"Waiting\", \"idx\": 28, \"val\": 77.0}, {\"col\": \"Expensive\", \"idx\": 29, \"val\": 39.0}, {\"col\": \"Cheap\", \"idx\": 29, \"val\": 3.0}, {\"col\": \"Waiting\", \"idx\": 29, \"val\": 61.0}, {\"col\": \"Expensive\", \"idx\": 30, \"val\": 38.0}, {\"col\": \"Cheap\", \"idx\": 30, \"val\": 7.0}, {\"col\": \"Waiting\", \"idx\": 30, \"val\": 49.0}, {\"col\": \"Expensive\", \"idx\": 31, \"val\": 20.0}, {\"col\": \"Cheap\", \"idx\": 31, \"val\": 6.0}, {\"col\": \"Waiting\", \"idx\": 31, \"val\": 57.0}, {\"col\": \"Expensive\", \"idx\": 32, \"val\": 24.0}, {\"col\": \"Cheap\", \"idx\": 32, \"val\": 6.0}, {\"col\": \"Waiting\", \"idx\": 32, \"val\": 51.0}, {\"col\": \"Expensive\", \"idx\": 33, \"val\": 29.0}, {\"col\": \"Cheap\", \"idx\": 33, \"val\": 6.0}, {\"col\": \"Waiting\", \"idx\": 33, \"val\": 39.0}, {\"col\": \"Expensive\", \"idx\": 34, \"val\": 28.0}, {\"col\": \"Cheap\", \"idx\": 34, \"val\": 6.0}, {\"col\": \"Waiting\", \"idx\": 34, \"val\": 32.0}, {\"col\": \"Expensive\", \"idx\": 35, \"val\": 17.0}, {\"col\": \"Cheap\", \"idx\": 35, \"val\": 6.0}, {\"col\": \"Waiting\", \"idx\": 35, \"val\": 36.0}, {\"col\": \"Expensive\", \"idx\": 36, \"val\": 13.0}, {\"col\": \"Cheap\", \"idx\": 36, \"val\": 2.0}, {\"col\": \"Waiting\", \"idx\": 36, \"val\": 43.0}, {\"col\": \"Expensive\", \"idx\": 37, \"val\": 22.0}, {\"col\": \"Cheap\", \"idx\": 37, \"val\": 1.0}, {\"col\": \"Waiting\", \"idx\": 37, \"val\": 29.0}, {\"col\": \"Expensive\", \"idx\": 38, \"val\": 18.0}, {\"col\": \"Cheap\", \"idx\": 38, \"val\": 6.0}, {\"col\": \"Waiting\", \"idx\": 38, \"val\": 26.0}, {\"col\": \"Expensive\", \"idx\": 39, \"val\": 16.0}, {\"col\": \"Cheap\", \"idx\": 39, \"val\": 2.0}, {\"col\": \"Waiting\", \"idx\": 39, \"val\": 28.0}, {\"col\": \"Expensive\", \"idx\": 40, \"val\": 11.0}, {\"col\": \"Cheap\", \"idx\": 40, \"val\": 4.0}, {\"col\": \"Waiting\", \"idx\": 40, \"val\": 29.0}, {\"col\": \"Expensive\", \"idx\": 41, \"val\": 13.0}, {\"col\": \"Cheap\", \"idx\": 41, \"val\": 2.0}, {\"col\": \"Waiting\", \"idx\": 41, \"val\": 27.0}, {\"col\": \"Expensive\", \"idx\": 42, \"val\": 15.0}, {\"col\": \"Cheap\", \"idx\": 42, \"val\": 3.0}, {\"col\": \"Waiting\", \"idx\": 42, \"val\": 23.0}, {\"col\": \"Expensive\", \"idx\": 43, \"val\": 10.0}, {\"col\": \"Cheap\", \"idx\": 43, \"val\": 3.0}, {\"col\": \"Waiting\", \"idx\": 43, \"val\": 23.0}, {\"col\": \"Expensive\", \"idx\": 44, \"val\": 10.0}, {\"col\": \"Cheap\", \"idx\": 44, \"val\": 2.0}, {\"col\": \"Waiting\", \"idx\": 44, \"val\": 23.0}, {\"col\": \"Expensive\", \"idx\": 45, \"val\": 17.0}, {\"col\": \"Cheap\", \"idx\": 45, \"val\": 1.0}, {\"col\": \"Waiting\", \"idx\": 45, \"val\": 16.0}, {\"col\": \"Expensive\", \"idx\": 46, \"val\": 8.0}, {\"col\": \"Cheap\", \"idx\": 46, \"val\": 3.0}, {\"col\": \"Waiting\", \"idx\": 46, \"val\": 21.0}, {\"col\": \"Expensive\", \"idx\": 47, \"val\": 11.0}, {\"col\": \"Cheap\", \"idx\": 47, \"val\": 1.0}, {\"col\": \"Waiting\", \"idx\": 47, \"val\": 16.0}, {\"col\": \"Expensive\", \"idx\": 48, \"val\": 9.0}, {\"col\": \"Cheap\", \"idx\": 48, \"val\": 0.0}, {\"col\": \"Waiting\", \"idx\": 48, \"val\": 19.0}, {\"col\": \"Expensive\", \"idx\": 49, \"val\": 8.0}, {\"col\": \"Cheap\", \"idx\": 49, \"val\": 1.0}, {\"col\": \"Waiting\", \"idx\": 49, \"val\": 19.0}, {\"col\": \"Expensive\", \"idx\": 50, \"val\": 6.0}, {\"col\": \"Cheap\", \"idx\": 50, \"val\": 3.0}, {\"col\": \"Waiting\", \"idx\": 50, \"val\": 19.0}, {\"col\": \"Expensive\", \"idx\": 51, \"val\": 10.0}, {\"col\": \"Cheap\", \"idx\": 51, \"val\": 1.0}, {\"col\": \"Waiting\", \"idx\": 51, \"val\": 16.0}, {\"col\": \"Expensive\", \"idx\": 52, \"val\": 10.0}, {\"col\": \"Cheap\", \"idx\": 52, \"val\": 1.0}, {\"col\": \"Waiting\", \"idx\": 52, \"val\": 13.0}, {\"col\": \"Expensive\", \"idx\": 53, \"val\": 9.0}, {\"col\": \"Cheap\", \"idx\": 53, \"val\": 1.0}, {\"col\": \"Waiting\", \"idx\": 53, \"val\": 11.0}, {\"col\": \"Expensive\", \"idx\": 54, \"val\": 5.0}, {\"col\": \"Cheap\", \"idx\": 54, \"val\": 2.0}, {\"col\": \"Waiting\", \"idx\": 54, \"val\": 11.0}, {\"col\": \"Expensive\", \"idx\": 55, \"val\": 6.0}, {\"col\": \"Cheap\", \"idx\": 55, \"val\": 4.0}, {\"col\": \"Waiting\", \"idx\": 55, \"val\": 7.0}, {\"col\": \"Expensive\", \"idx\": 56, \"val\": 4.0}, {\"col\": \"Cheap\", \"idx\": 56, \"val\": 2.0}, {\"col\": \"Waiting\", \"idx\": 56, \"val\": 9.0}, {\"col\": \"Expensive\", \"idx\": 57, \"val\": 6.0}, {\"col\": \"Cheap\", \"idx\": 57, \"val\": 0.0}, {\"col\": \"Waiting\", \"idx\": 57, \"val\": 8.0}, {\"col\": \"Expensive\", \"idx\": 58, \"val\": 3.0}, {\"col\": \"Cheap\", \"idx\": 58, \"val\": 0.0}, {\"col\": \"Waiting\", \"idx\": 58, \"val\": 8.0}, {\"col\": \"Expensive\", \"idx\": 59, \"val\": 6.0}, {\"col\": \"Cheap\", \"idx\": 59, \"val\": 1.0}, {\"col\": \"Waiting\", \"idx\": 59, \"val\": 4.0}, {\"col\": \"Expensive\", \"idx\": 60, \"val\": 3.0}, {\"col\": \"Cheap\", \"idx\": 60, \"val\": 0.0}, {\"col\": \"Waiting\", \"idx\": 60, \"val\": 7.0}, {\"col\": \"Expensive\", \"idx\": 61, \"val\": 5.0}, {\"col\": \"Cheap\", \"idx\": 61, \"val\": 0.0}, {\"col\": \"Waiting\", \"idx\": 61, \"val\": 4.0}, {\"col\": \"Expensive\", \"idx\": 62, \"val\": 2.0}, {\"col\": \"Cheap\", \"idx\": 62, \"val\": 1.0}, {\"col\": \"Waiting\", \"idx\": 62, \"val\": 5.0}, {\"col\": \"Expensive\", \"idx\": 63, \"val\": 2.0}, {\"col\": \"Cheap\", \"idx\": 63, \"val\": 0.0}, {\"col\": \"Waiting\", \"idx\": 63, \"val\": 5.0}, {\"col\": \"Expensive\", \"idx\": 64, \"val\": 1.0}, {\"col\": \"Cheap\", \"idx\": 64, \"val\": 1.0}, {\"col\": \"Waiting\", \"idx\": 64, \"val\": 5.0}, {\"col\": \"Expensive\", \"idx\": 65, \"val\": 4.0}, {\"col\": \"Cheap\", \"idx\": 65, \"val\": 1.0}, {\"col\": \"Waiting\", \"idx\": 65, \"val\": 2.0}, {\"col\": \"Expensive\", \"idx\": 66, \"val\": 0.0}, {\"col\": \"Cheap\", \"idx\": 66, \"val\": 0.0}, {\"col\": \"Waiting\", \"idx\": 66, \"val\": 7.0}, {\"col\": \"Expensive\", \"idx\": 67, \"val\": 1.0}, {\"col\": \"Cheap\", \"idx\": 67, \"val\": 0.0}, {\"col\": \"Waiting\", \"idx\": 67, \"val\": 6.0}, {\"col\": \"Expensive\", \"idx\": 68, \"val\": 2.0}, {\"col\": \"Cheap\", \"idx\": 68, \"val\": 0.0}, {\"col\": \"Waiting\", \"idx\": 68, \"val\": 5.0}, {\"col\": \"Expensive\", \"idx\": 69, \"val\": 4.0}, {\"col\": \"Cheap\", \"idx\": 69, \"val\": 0.0}, {\"col\": \"Waiting\", \"idx\": 69, \"val\": 3.0}, {\"col\": \"Expensive\", \"idx\": 70, \"val\": 1.0}, {\"col\": \"Cheap\", \"idx\": 70, \"val\": 1.0}, {\"col\": \"Waiting\", \"idx\": 70, \"val\": 4.0}, {\"col\": \"Expensive\", \"idx\": 71, \"val\": 3.0}, {\"col\": \"Cheap\", \"idx\": 71, \"val\": 0.0}, {\"col\": \"Waiting\", \"idx\": 71, \"val\": 2.0}, {\"col\": \"Expensive\", \"idx\": 72, \"val\": 1.0}, {\"col\": \"Cheap\", \"idx\": 72, \"val\": 0.0}, {\"col\": \"Waiting\", \"idx\": 72, \"val\": 3.0}, {\"col\": \"Expensive\", \"idx\": 73, \"val\": 2.0}, {\"col\": \"Cheap\", \"idx\": 73, \"val\": 0.0}, {\"col\": \"Waiting\", \"idx\": 73, \"val\": 2.0}, {\"col\": \"Expensive\", \"idx\": 74, \"val\": 1.0}, {\"col\": \"Cheap\", \"idx\": 74, \"val\": 0.0}, {\"col\": \"Waiting\", \"idx\": 74, \"val\": 3.0}, {\"col\": \"Expensive\", \"idx\": 75, \"val\": 1.0}, {\"col\": \"Cheap\", \"idx\": 75, \"val\": 0.0}, {\"col\": \"Waiting\", \"idx\": 75, \"val\": 3.0}, {\"col\": \"Expensive\", \"idx\": 76, \"val\": 1.0}, {\"col\": \"Cheap\", \"idx\": 76, \"val\": 0.0}, {\"col\": \"Waiting\", \"idx\": 76, \"val\": 2.0}, {\"col\": \"Expensive\", \"idx\": 77, \"val\": 1.0}, {\"col\": \"Cheap\", \"idx\": 77, \"val\": 0.0}, {\"col\": \"Waiting\", \"idx\": 77, \"val\": 2.0}, {\"col\": \"Expensive\", \"idx\": 78, \"val\": 1.0}, {\"col\": \"Cheap\", \"idx\": 78, \"val\": 0.0}, {\"col\": \"Waiting\", \"idx\": 78, \"val\": 2.0}, {\"col\": \"Expensive\", \"idx\": 79, \"val\": 1.0}, {\"col\": \"Cheap\", \"idx\": 79, \"val\": 0.0}, {\"col\": \"Waiting\", \"idx\": 79, \"val\": 2.0}, {\"col\": \"Expensive\", \"idx\": 80, \"val\": 1.0}, {\"col\": \"Cheap\", \"idx\": 80, \"val\": 0.0}, {\"col\": \"Waiting\", \"idx\": 80, \"val\": 2.0}, {\"col\": \"Expensive\", \"idx\": 81, \"val\": 1.0}, {\"col\": \"Cheap\", \"idx\": 81, \"val\": 0.0}, {\"col\": \"Waiting\", \"idx\": 81, \"val\": 2.0}, {\"col\": \"Expensive\", \"idx\": 82, \"val\": 0.0}, {\"col\": \"Cheap\", \"idx\": 82, \"val\": 0.0}, {\"col\": \"Waiting\", \"idx\": 82, \"val\": 2.0}, {\"col\": \"Expensive\", \"idx\": 83, \"val\": 1.0}, {\"col\": \"Cheap\", \"idx\": 83, \"val\": 0.0}, {\"col\": \"Waiting\", \"idx\": 83, \"val\": 1.0}, {\"col\": \"Expensive\", \"idx\": 84, \"val\": 2.0}, {\"col\": \"Cheap\", \"idx\": 84, \"val\": 0.0}, {\"col\": \"Waiting\", \"idx\": 84, \"val\": 0.0}, {\"col\": \"Expensive\", \"idx\": 85, \"val\": 0.0}, {\"col\": \"Cheap\", \"idx\": 85, \"val\": 1.0}, {\"col\": \"Waiting\", \"idx\": 85, \"val\": 1.0}, {\"col\": \"Expensive\", \"idx\": 86, \"val\": 0.0}, {\"col\": \"Cheap\", \"idx\": 86, \"val\": 0.0}, {\"col\": \"Waiting\", \"idx\": 86, \"val\": 2.0}, {\"col\": \"Expensive\", \"idx\": 87, \"val\": 0.0}, {\"col\": \"Cheap\", \"idx\": 87, \"val\": 0.0}, {\"col\": \"Waiting\", \"idx\": 87, \"val\": 2.0}, {\"col\": \"Expensive\", \"idx\": 88, \"val\": 1.0}, {\"col\": \"Cheap\", \"idx\": 88, \"val\": 0.0}, {\"col\": \"Waiting\", \"idx\": 88, \"val\": 1.0}, {\"col\": \"Expensive\", \"idx\": 89, \"val\": 1.0}, {\"col\": \"Cheap\", \"idx\": 89, \"val\": 0.0}, {\"col\": \"Waiting\", \"idx\": 89, \"val\": 0.0}, {\"col\": \"Expensive\", \"idx\": 90, \"val\": 0.0}, {\"col\": \"Cheap\", \"idx\": 90, \"val\": 0.0}, {\"col\": \"Waiting\", \"idx\": 90, \"val\": 0.0}]}, {\"name\": \"stats\", \"source\": \"table\", \"transform\": [{\"keys\": [\"data.idx\"], \"type\": \"facet\"}, {\"type\": \"stats\", \"value\": \"data.val\"}]}], \"height\": 300, \"legends\": [{\"fill\": \"color\", \"offset\": 0, \"properties\": {}, \"title\": \"Edge\"}], \"marks\": [{\"from\": {\"data\": \"table\", \"transform\": [{\"keys\": [\"data.col\"], \"type\": \"facet\"}, {\"height\": \"data.val\", \"point\": \"data.idx\", \"type\": \"stack\"}]}, \"marks\": [{\"properties\": {\"enter\": {\"fill\": {\"field\": \"data.col\", \"scale\": \"color\"}, \"interpolate\": {\"value\": \"monotone\"}, \"opacity\": {\"value\": 0.8}, \"x\": {\"field\": \"data.idx\", \"scale\": \"x\"}, \"y\": {\"field\": \"y\", \"scale\": \"y\"}, \"y2\": {\"field\": \"y2\", \"scale\": \"y\"}}, \"hover\": {\"opacity\": {\"value\": 1}, \"size\": {\"value\": 200}}, \"update\": {\"opacity\": {\"value\": 0.8}, \"size\": {\"value\": 100}}}, \"type\": \"area\"}], \"type\": \"group\"}], \"padding\": \"auto\", \"scales\": [{\"domain\": {\"data\": \"table\", \"field\": \"data.idx\"}, \"name\": \"x\", \"range\": \"width\", \"type\": \"linear\", \"zero\": false}, {\"domain\": {\"data\": \"stats\", \"field\": \"sum\"}, \"name\": \"y\", \"nice\": true, \"range\": \"height\"}, {\"domain\": {\"data\": \"table\", \"field\": \"data.col\"}, \"name\": \"color\", \"range\": [\"#ff0000\", \"#50aa50\", \"#eeeeee\"], \"type\": \"ordinal\"}], \"width\": 400}, function(chart) {\n",
        "         chart({el: \"#vis27615c7e49734c30a779fac2b4912e78\"}).update();\n",
        "       });\n",
        "     };\n",
        "     _do_plot();\n",
        "   })();\n",
        "</script>\n",
        "<style>.vega canvas {width: 100%;}</style>\n",
        "        "
       ],
       "metadata": {},
       "output_type": "display_data",
       "text": [
        "<vincent.charts.Area at 0x7f5a763da090>"
       ]
      },
      {
       "html": [
        "<h3>Performance stats</h3>"
       ],
       "metadata": {},
       "output_type": "display_data",
       "text": [
        "<IPython.core.display.HTML at 0x7f5a763da150>"
       ]
      },
      {
       "output_type": "stream",
       "stream": "stdout",
       "text": [
        "Stats normalized by equivalent vanilla random walk stats:\n",
        "\n",
        "Average death round (waiting/vanilla): 2.07916666667\n",
        "Total duration in rounds (waiting/vanilla): 2.04545454545\n",
        "Cost (waiting/vanilla): 0.75817361894\n"
       ]
      }
     ],
     "prompt_number": 11
    },
    {
     "cell_type": "code",
     "collapsed": false,
     "input": [],
     "language": "python",
     "metadata": {},
     "outputs": []
    }
   ],
   "metadata": {}
  }
 ]
}