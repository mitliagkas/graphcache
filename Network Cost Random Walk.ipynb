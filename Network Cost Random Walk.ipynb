{
 "metadata": {
  "name": "",
  "signature": "sha256:066d50a5cabf5be3d08f5d7f30f9382cd9a5fed87159251b74125629e41ce29d"
 },
 "nbformat": 3,
 "nbformat_minor": 0,
 "worksheets": [
  {
   "cells": [
    {
     "cell_type": "code",
     "collapsed": false,
     "input": [
      "import networkx as nx\n",
      "from random import random\n",
      "import math, time"
     ],
     "language": "python",
     "metadata": {},
     "outputs": [],
     "prompt_number": 57
    },
    {
     "cell_type": "code",
     "collapsed": false,
     "input": [
      "import json\n",
      "from networkx.readwrite import json_graph"
     ],
     "language": "python",
     "metadata": {},
     "outputs": [],
     "prompt_number": 58
    },
    {
     "cell_type": "code",
     "collapsed": false,
     "input": [
      "import vincent\n",
      "from IPython.display import display\n",
      "vincent.initialize_notebook()"
     ],
     "language": "python",
     "metadata": {},
     "outputs": [
      {
       "html": [
        "\n",
        "           <script>\n",
        "               \n",
        "                function vct_load_lib(url, callback){\n",
        "                      if(typeof d3 !== 'undefined' &&\n",
        "                         url === 'http://d3js.org/d3.v3.min.js'){\n",
        "                        callback()\n",
        "                      }\n",
        "                      var s = document.createElement('script');\n",
        "                      s.src = url;\n",
        "                      s.async = true;\n",
        "                      s.onreadystatechange = s.onload = callback;\n",
        "                      s.onerror = function(){\n",
        "                        console.warn(\"failed to load library \" + url);\n",
        "                        };\n",
        "                      document.getElementsByTagName(\"head\")[0].appendChild(s);\n",
        "                };\n",
        "                var vincent_event = new CustomEvent(\n",
        "                  \"vincent_libs_loaded\",\n",
        "                  {bubbles: true, cancelable: true}\n",
        "                );\n",
        "                \n",
        "               function load_all_libs(){\n",
        "                  console.log('Loading Vincent libs...')\n",
        "                  vct_load_lib('http://d3js.org/d3.v3.min.js', function(){\n",
        "                  vct_load_lib('http://d3js.org/d3.geo.projection.v0.min.js', function(){\n",
        "                  vct_load_lib('http://wrobstory.github.io/d3-cloud/d3.layout.cloud.js', function(){\n",
        "                  vct_load_lib('http://wrobstory.github.io/vega/vega.v1.3.3.js', function(){\n",
        "                  window.dispatchEvent(vincent_event);\n",
        "                  });\n",
        "                  });\n",
        "                  });\n",
        "                  });\n",
        "               };\n",
        "               if(typeof define === \"function\" && define.amd){\n",
        "                    if (window['d3'] === undefined ||\n",
        "                        window['topojson'] === undefined){\n",
        "                        require.config(\n",
        "                            {paths: {\n",
        "                              d3: 'http://d3js.org/d3.v3.min',\n",
        "                              topojson: 'http://d3js.org/topojson.v1.min'\n",
        "                              }\n",
        "                            }\n",
        "                          );\n",
        "                        require([\"d3\"], function(d3){\n",
        "                            console.log('Loading Vincent from require.js...')\n",
        "                            window.d3 = d3;\n",
        "                            require([\"topojson\"], function(topojson){\n",
        "                                window.topojson = topojson;\n",
        "                                load_all_libs();\n",
        "                            });\n",
        "                        });\n",
        "                    } else {\n",
        "                        load_all_libs();\n",
        "                    };\n",
        "               }else{\n",
        "                    console.log('Require.js not found, loading manually...')\n",
        "                    load_all_libs();\n",
        "               };\n",
        "\n",
        "           </script>"
       ],
       "metadata": {},
       "output_type": "display_data",
       "text": [
        "<IPython.core.display.HTML at 0x108b32bd0>"
       ]
      }
     ],
     "prompt_number": 59
    },
    {
     "cell_type": "code",
     "collapsed": false,
     "input": [
      "import matplotlib.pyplot as plt\n",
      "%matplotlib inline\n",
      "%config InlineBackend.figure_format = 'svg' "
     ],
     "language": "python",
     "metadata": {},
     "outputs": [],
     "prompt_number": 60
    },
    {
     "cell_type": "code",
     "collapsed": false,
     "input": [
      "%load_ext autoreload\n",
      "%autoreload 2"
     ],
     "language": "python",
     "metadata": {},
     "outputs": [
      {
       "output_type": "stream",
       "stream": "stdout",
       "text": [
        "The autoreload extension is already loaded. To reload it, use:\n",
        "  %reload_ext autoreload\n"
       ]
      }
     ],
     "prompt_number": 61
    },
    {
     "cell_type": "heading",
     "level": 3,
     "metadata": {},
     "source": [
      "This notebook is not self-contained. It depends on the module `randomwalk`"
     ]
    },
    {
     "cell_type": "code",
     "collapsed": false,
     "input": [
      "from randomwalk import plotrwtraversal, randomwalk, edgetokey"
     ],
     "language": "python",
     "metadata": {},
     "outputs": [],
     "prompt_number": 62
    },
    {
     "cell_type": "code",
     "collapsed": false,
     "input": [
      "def rungraph(G, k=2):\n",
      "    # Convert to DiGraph if necessary\n",
      "    if G.is_multigraph():\n",
      "        if G.is_directed():\n",
      "            Gm = G.copy()\n",
      "            G = nx.DiGraph()\n",
      "            G.graph['name'] = Gm.graph['name']\n",
      "            for (u,v) in Gm.edges_iter():\n",
      "                G.add_edge(u,v)\n",
      "\n",
      "    # Randomize the expensive edges\n",
      "    expensiveedges = []\n",
      "    for e in G.edges_iter():\n",
      "        if random() > 1/float(k):\n",
      "            expensiveedges.append(edgetokey(e))\n",
      "            G.edge[e[0]][e[1]]['expensive'] = True\n",
      "        else:\n",
      "            G.edge[e[0]][e[1]]['expensive'] = False\n",
      "\n",
      "    get_ipython().run_cell_magic(u'html', u'', '<h2>Graph: '+G.graph['name']+'</h2>')\n",
      "        \n",
      "    if False:\n",
      "        # Save and plot graph\n",
      "        d = json_graph.node_link_data(G)\n",
      "        for node in d['nodes']:\n",
      "            node['name']=node['id']\n",
      "            node['value']=G.degree(node['id'])\n",
      "\n",
      "        d['adjacency'] = json_graph.adjacency_data(G)['adjacency']\n",
      "        json.dump(d, open('graph.json','w'))\n",
      "\n",
      "        time.sleep(1)\n",
      "\n",
      "        get_ipython().run_cell_magic(u'html', u'', u'<div id=\"d3-example\"></div>\\n<style>\\n.node {stroke: #fff; stroke-width: 1.5px;}\\nmarker {stroke: #999;}\\n.link {stroke: #999; stroke-opacity: .6;}\\n</style>\\n<script src=\"force.js\"></script>')\n",
      "        #nx.draw_graphviz(G)\n",
      "\n",
      "    # Run algos\n",
      "    G1 = G.copy()\n",
      "    randomwalk(G1, frogs, P_die)\n",
      "    G2 = G.copy()\n",
      "    randomwalk(G2, frogs, P_die, 4, expensiveedges)\n",
      "\n",
      "    # Make graphs\n",
      "    (line1, df1) = plotrwtraversal(G1,expensiveedges, time=G2.graph['endtime']+1)\n",
      "    (line2, df2) = plotrwtraversal(G2, expensiveedges)\n",
      "    get_ipython().run_cell_magic(u'html', u'', '<h3>'+\"Vanilla random walk. Cost: \" + str(G1.graph['cost'])+'</h3>')\n",
      "    display(line1)\n",
      "\n",
      "    get_ipython().run_cell_magic(u'html', u'', '<h3>'+\"Waiting random walk. Cost: \" + str(G2.graph['cost'])\n",
      "                                 + ', a ' + str( 100*(1 - G2.graph['cost'] / float(G1.graph['cost']) ) ) + '% gain</h3>')\n",
      "    display(line2)\n",
      "\n",
      "    (l, d) = plotrwtraversal(G2, countfrogs=True, expensiveedges = expensiveedges)\n",
      "    get_ipython().run_cell_magic(u'html', u'', '<h4>'+\"Waiting algorithm: What are the frogs up to?\"+'</h4>')\n",
      "    display(l)\n",
      "\n",
      "    get_ipython().run_cell_magic(u'html', u'', '<h3>'+'Performance stats'+'</h3>')\n",
      "    print \"Stats normalized by equivalent vanilla random walk stats:\"\n",
      "    print\n",
      "    print \"Average death round (waiting/vanilla):\", G2.graph['death_times_sum'] / float(L*frogs)\n",
      "    print \"Total duration in rounds (waiting/vanilla):\", G2.graph['endtime'] / float(G1.graph['endtime'])\n",
      "    print \"Cost (waiting/vanilla):\", G2.graph['cost'] / float(G1.graph['cost'])\n"
     ],
     "language": "python",
     "metadata": {},
     "outputs": [],
     "prompt_number": 154
    },
    {
     "cell_type": "heading",
     "level": 1,
     "metadata": {},
     "source": [
      "Generate graph"
     ]
    },
    {
     "cell_type": "code",
     "collapsed": false,
     "input": [
      "n = 100\n",
      "m = 2\n",
      "p = 0.3"
     ],
     "language": "python",
     "metadata": {},
     "outputs": [],
     "prompt_number": 155
    },
    {
     "cell_type": "code",
     "collapsed": false,
     "input": [
      "allG = []\n",
      "#allG.append(nx.barbell_graph(50,0))\n",
      "allG.append(nx.scale_free_graph(n))\n",
      "allG.append(nx.powerlaw_cluster_graph(n=n, m=m, p=p))\n",
      "#allG.append(nx.cycle_graph(n))"
     ],
     "language": "python",
     "metadata": {},
     "outputs": [],
     "prompt_number": 168
    },
    {
     "cell_type": "heading",
     "level": 1,
     "metadata": {},
     "source": [
      "Simulate Random Walks"
     ]
    },
    {
     "cell_type": "code",
     "collapsed": true,
     "input": [
      "frogs = 1000\n",
      "# Life expectancy L. L should be the mean of a geometric distribution\n",
      "L = 6\n",
      "# P_die is the probability that a frog dies at any given time\n",
      "P_die = 1/float(L)"
     ],
     "language": "python",
     "metadata": {},
     "outputs": [],
     "prompt_number": 169
    },
    {
     "cell_type": "code",
     "collapsed": false,
     "input": [
      "for k in [4]:\n",
      "    get_ipython().run_cell_magic(u'html', u'', '<h1>Simulating ' + str(k) + ' machines.</h1>')\n",
      "    for G in allG:\n",
      "        rungraph(G, k=k)"
     ],
     "language": "python",
     "metadata": {},
     "outputs": [
      {
       "html": [
        "<h1>Simulating 4 machines.</h1>"
       ],
       "metadata": {},
       "output_type": "display_data",
       "text": [
        "<IPython.core.display.HTML at 0x108765a90>"
       ]
      },
      {
       "html": [
        "<h2>Graph: directed_scale_free_graph(100,alpha=0.41,beta=0.54,gamma=0.05,delta_in=0.2,delta_out=0)</h2>"
       ],
       "metadata": {},
       "output_type": "display_data",
       "text": [
        "<IPython.core.display.HTML at 0x1087657d0>"
       ]
      },
      {
       "html": [
        "<h3>Vanilla random walk. Cost: 992.0</h3>"
       ],
       "metadata": {},
       "output_type": "display_data",
       "text": [
        "<IPython.core.display.HTML at 0x1089ee0d0>"
       ]
      },
      {
       "html": [
        "<div id=\"vis8a970b4520f44114968e5cf6d741aaae\"></div>\n",
        "<script>\n",
        "   ( function() {\n",
        "     var _do_plot = function() {\n",
        "       if (typeof vg === 'undefined') {\n",
        "         window.addEventListener('vincent_libs_loaded', _do_plot)\n",
        "         return;\n",
        "       }\n",
        "       vg.parse.spec({\"axes\": [{\"scale\": \"x\", \"title\": \"Rounds\", \"type\": \"x\"}, {\"scale\": \"y\", \"title\": \"# edges traversed\", \"type\": \"y\"}], \"data\": [{\"name\": \"table\", \"values\": [{\"col\": \"Expensive\", \"idx\": 0, \"val\": NaN}, {\"col\": \"Cheap\", \"idx\": 0, \"val\": NaN}, {\"col\": \"Expensive\", \"idx\": 1, \"val\": 109.0}, {\"col\": \"Cheap\", \"idx\": 1, \"val\": 36.0}, {\"col\": \"Expensive\", \"idx\": 2, \"val\": 72.0}, {\"col\": \"Cheap\", \"idx\": 2, \"val\": 19.0}, {\"col\": \"Expensive\", \"idx\": 3, \"val\": 72.0}, {\"col\": \"Cheap\", \"idx\": 3, \"val\": 23.0}, {\"col\": \"Expensive\", \"idx\": 4, \"val\": 78.0}, {\"col\": \"Cheap\", \"idx\": 4, \"val\": 26.0}, {\"col\": \"Expensive\", \"idx\": 5, \"val\": 67.0}, {\"col\": \"Cheap\", \"idx\": 5, \"val\": 24.0}, {\"col\": \"Expensive\", \"idx\": 6, \"val\": 59.0}, {\"col\": \"Cheap\", \"idx\": 6, \"val\": 20.0}, {\"col\": \"Expensive\", \"idx\": 7, \"val\": 68.0}, {\"col\": \"Cheap\", \"idx\": 7, \"val\": 19.0}, {\"col\": \"Expensive\", \"idx\": 8, \"val\": 56.0}, {\"col\": \"Cheap\", \"idx\": 8, \"val\": 18.0}, {\"col\": \"Expensive\", \"idx\": 9, \"val\": 56.0}, {\"col\": \"Cheap\", \"idx\": 9, \"val\": 16.0}, {\"col\": \"Expensive\", \"idx\": 10, \"val\": 44.0}, {\"col\": \"Cheap\", \"idx\": 10, \"val\": 11.0}, {\"col\": \"Expensive\", \"idx\": 11, \"val\": 44.0}, {\"col\": \"Cheap\", \"idx\": 11, \"val\": 15.0}, {\"col\": \"Expensive\", \"idx\": 12, \"val\": 40.0}, {\"col\": \"Cheap\", \"idx\": 12, \"val\": 11.0}, {\"col\": \"Expensive\", \"idx\": 13, \"val\": 37.0}, {\"col\": \"Cheap\", \"idx\": 13, \"val\": 9.0}, {\"col\": \"Expensive\", \"idx\": 14, \"val\": 26.0}, {\"col\": \"Cheap\", \"idx\": 14, \"val\": 12.0}, {\"col\": \"Expensive\", \"idx\": 15, \"val\": 23.0}, {\"col\": \"Cheap\", \"idx\": 15, \"val\": 8.0}, {\"col\": \"Expensive\", \"idx\": 16, \"val\": 19.0}, {\"col\": \"Cheap\", \"idx\": 16, \"val\": 10.0}, {\"col\": \"Expensive\", \"idx\": 17, \"val\": 18.0}, {\"col\": \"Cheap\", \"idx\": 17, \"val\": 2.0}, {\"col\": \"Expensive\", \"idx\": 18, \"val\": 17.0}, {\"col\": \"Cheap\", \"idx\": 18, \"val\": 7.0}, {\"col\": \"Expensive\", \"idx\": 19, \"val\": 15.0}, {\"col\": \"Cheap\", \"idx\": 19, \"val\": 1.0}, {\"col\": \"Expensive\", \"idx\": 20, \"val\": 14.0}, {\"col\": \"Cheap\", \"idx\": 20, \"val\": 3.0}, {\"col\": \"Expensive\", \"idx\": 21, \"val\": 12.0}, {\"col\": \"Cheap\", \"idx\": 21, \"val\": 2.0}, {\"col\": \"Expensive\", \"idx\": 22, \"val\": 5.0}, {\"col\": \"Cheap\", \"idx\": 22, \"val\": 5.0}, {\"col\": \"Expensive\", \"idx\": 23, \"val\": 4.0}, {\"col\": \"Cheap\", \"idx\": 23, \"val\": 1.0}, {\"col\": \"Expensive\", \"idx\": 24, \"val\": 6.0}, {\"col\": \"Cheap\", \"idx\": 24, \"val\": 0.0}, {\"col\": \"Expensive\", \"idx\": 25, \"val\": 6.0}, {\"col\": \"Cheap\", \"idx\": 25, \"val\": 0.0}, {\"col\": \"Expensive\", \"idx\": 26, \"val\": 2.0}, {\"col\": \"Cheap\", \"idx\": 26, \"val\": 2.0}, {\"col\": \"Expensive\", \"idx\": 27, \"val\": 3.0}, {\"col\": \"Cheap\", \"idx\": 27, \"val\": 0.0}, {\"col\": \"Expensive\", \"idx\": 28, \"val\": 4.0}, {\"col\": \"Cheap\", \"idx\": 28, \"val\": 1.0}, {\"col\": \"Expensive\", \"idx\": 29, \"val\": 3.0}, {\"col\": \"Cheap\", \"idx\": 29, \"val\": 1.0}, {\"col\": \"Expensive\", \"idx\": 30, \"val\": 3.0}, {\"col\": \"Cheap\", \"idx\": 30, \"val\": 1.0}, {\"col\": \"Expensive\", \"idx\": 31, \"val\": 3.0}, {\"col\": \"Cheap\", \"idx\": 31, \"val\": 0.0}, {\"col\": \"Expensive\", \"idx\": 32, \"val\": 1.0}, {\"col\": \"Cheap\", \"idx\": 32, \"val\": 1.0}, {\"col\": \"Expensive\", \"idx\": 33, \"val\": 2.0}, {\"col\": \"Cheap\", \"idx\": 33, \"val\": 0.0}, {\"col\": \"Expensive\", \"idx\": 34, \"val\": 1.0}, {\"col\": \"Cheap\", \"idx\": 34, \"val\": 1.0}, {\"col\": \"Expensive\", \"idx\": 35, \"val\": 1.0}, {\"col\": \"Cheap\", \"idx\": 35, \"val\": 1.0}, {\"col\": \"Expensive\", \"idx\": 36, \"val\": 1.0}, {\"col\": \"Cheap\", \"idx\": 36, \"val\": 0.0}, {\"col\": \"Expensive\", \"idx\": 37, \"val\": 1.0}, {\"col\": \"Cheap\", \"idx\": 37, \"val\": 0.0}, {\"col\": \"Expensive\", \"idx\": 38, \"val\": 0.0}, {\"col\": \"Cheap\", \"idx\": 38, \"val\": 0.0}, {\"col\": \"Expensive\", \"idx\": 39, \"val\": NaN}, {\"col\": \"Cheap\", \"idx\": 39, \"val\": NaN}, {\"col\": \"Expensive\", \"idx\": 40, \"val\": NaN}, {\"col\": \"Cheap\", \"idx\": 40, \"val\": NaN}, {\"col\": \"Expensive\", \"idx\": 41, \"val\": NaN}, {\"col\": \"Cheap\", \"idx\": 41, \"val\": NaN}, {\"col\": \"Expensive\", \"idx\": 42, \"val\": NaN}, {\"col\": \"Cheap\", \"idx\": 42, \"val\": NaN}, {\"col\": \"Expensive\", \"idx\": 43, \"val\": NaN}, {\"col\": \"Cheap\", \"idx\": 43, \"val\": NaN}, {\"col\": \"Expensive\", \"idx\": 44, \"val\": NaN}, {\"col\": \"Cheap\", \"idx\": 44, \"val\": NaN}, {\"col\": \"Expensive\", \"idx\": 45, \"val\": NaN}, {\"col\": \"Cheap\", \"idx\": 45, \"val\": NaN}, {\"col\": \"Expensive\", \"idx\": 46, \"val\": NaN}, {\"col\": \"Cheap\", \"idx\": 46, \"val\": NaN}, {\"col\": \"Expensive\", \"idx\": 47, \"val\": NaN}, {\"col\": \"Cheap\", \"idx\": 47, \"val\": NaN}, {\"col\": \"Expensive\", \"idx\": 48, \"val\": NaN}, {\"col\": \"Cheap\", \"idx\": 48, \"val\": NaN}, {\"col\": \"Expensive\", \"idx\": 49, \"val\": NaN}, {\"col\": \"Cheap\", \"idx\": 49, \"val\": NaN}, {\"col\": \"Expensive\", \"idx\": 50, \"val\": NaN}, {\"col\": \"Cheap\", \"idx\": 50, \"val\": NaN}, {\"col\": \"Expensive\", \"idx\": 51, \"val\": NaN}, {\"col\": \"Cheap\", \"idx\": 51, \"val\": NaN}, {\"col\": \"Expensive\", \"idx\": 52, \"val\": NaN}, {\"col\": \"Cheap\", \"idx\": 52, \"val\": NaN}, {\"col\": \"Expensive\", \"idx\": 53, \"val\": NaN}, {\"col\": \"Cheap\", \"idx\": 53, \"val\": NaN}, {\"col\": \"Expensive\", \"idx\": 54, \"val\": NaN}, {\"col\": \"Cheap\", \"idx\": 54, \"val\": NaN}, {\"col\": \"Expensive\", \"idx\": 55, \"val\": NaN}, {\"col\": \"Cheap\", \"idx\": 55, \"val\": NaN}, {\"col\": \"Expensive\", \"idx\": 56, \"val\": NaN}, {\"col\": \"Cheap\", \"idx\": 56, \"val\": NaN}, {\"col\": \"Expensive\", \"idx\": 57, \"val\": NaN}, {\"col\": \"Cheap\", \"idx\": 57, \"val\": NaN}, {\"col\": \"Expensive\", \"idx\": 58, \"val\": NaN}, {\"col\": \"Cheap\", \"idx\": 58, \"val\": NaN}, {\"col\": \"Expensive\", \"idx\": 59, \"val\": NaN}, {\"col\": \"Cheap\", \"idx\": 59, \"val\": NaN}]}, {\"name\": \"stats\", \"source\": \"table\", \"transform\": [{\"keys\": [\"data.idx\"], \"type\": \"facet\"}, {\"type\": \"stats\", \"value\": \"data.val\"}]}], \"height\": 300, \"legends\": [{\"fill\": \"color\", \"offset\": 0, \"properties\": {}, \"title\": \"Edge\"}], \"marks\": [{\"from\": {\"data\": \"table\", \"transform\": [{\"keys\": [\"data.col\"], \"type\": \"facet\"}, {\"height\": \"data.val\", \"point\": \"data.idx\", \"type\": \"stack\"}]}, \"marks\": [{\"properties\": {\"enter\": {\"fill\": {\"field\": \"data.col\", \"scale\": \"color\"}, \"interpolate\": {\"value\": \"monotone\"}, \"opacity\": {\"value\": 0.8}, \"x\": {\"field\": \"data.idx\", \"scale\": \"x\"}, \"y\": {\"field\": \"y\", \"scale\": \"y\"}, \"y2\": {\"field\": \"y2\", \"scale\": \"y\"}}, \"hover\": {\"opacity\": {\"value\": 1}, \"size\": {\"value\": 200}}, \"update\": {\"opacity\": {\"value\": 0.8}, \"size\": {\"value\": 100}}}, \"type\": \"area\"}], \"type\": \"group\"}], \"padding\": \"auto\", \"scales\": [{\"domain\": {\"data\": \"table\", \"field\": \"data.idx\"}, \"name\": \"x\", \"range\": \"width\", \"type\": \"linear\", \"zero\": false}, {\"domain\": [0, 159], \"name\": \"y\", \"nice\": true, \"range\": \"height\"}, {\"domain\": {\"data\": \"table\", \"field\": \"data.col\"}, \"name\": \"color\", \"range\": [\"#ff0000\", \"#50aa50\", \"#eeeeee\"], \"type\": \"ordinal\"}], \"width\": 400}, function(chart) {\n",
        "         chart({el: \"#vis8a970b4520f44114968e5cf6d741aaae\"}).update();\n",
        "       });\n",
        "     };\n",
        "     _do_plot();\n",
        "   })();\n",
        "</script>\n",
        "<style>.vega canvas {width: 100%;}</style>\n",
        "        "
       ],
       "metadata": {},
       "output_type": "display_data",
       "text": [
        "<vincent.charts.Area at 0x108b368d0>"
       ]
      },
      {
       "html": [
        "<h3>Waiting random walk. Cost: 657.0, a 33.7701612903% gain</h3>"
       ],
       "metadata": {},
       "output_type": "display_data",
       "text": [
        "<IPython.core.display.HTML at 0x1089ee450>"
       ]
      },
      {
       "html": [
        "<div id=\"vis1b73ea15e7e843b99b7e8995f5e46e85\"></div>\n",
        "<script>\n",
        "   ( function() {\n",
        "     var _do_plot = function() {\n",
        "       if (typeof vg === 'undefined') {\n",
        "         window.addEventListener('vincent_libs_loaded', _do_plot)\n",
        "         return;\n",
        "       }\n",
        "       vg.parse.spec({\"axes\": [{\"scale\": \"x\", \"title\": \"Rounds\", \"type\": \"x\"}, {\"scale\": \"y\", \"title\": \"# edges traversed\", \"type\": \"y\"}], \"data\": [{\"name\": \"table\", \"values\": [{\"col\": \"Expensive\", \"idx\": 1, \"val\": 24.0}, {\"col\": \"Cheap\", \"idx\": 1, \"val\": 34.0}, {\"col\": \"Expensive\", \"idx\": 2, \"val\": 28.0}, {\"col\": \"Cheap\", \"idx\": 2, \"val\": 20.0}, {\"col\": \"Expensive\", \"idx\": 3, \"val\": 31.0}, {\"col\": \"Cheap\", \"idx\": 3, \"val\": 16.0}, {\"col\": \"Expensive\", \"idx\": 4, \"val\": 29.0}, {\"col\": \"Cheap\", \"idx\": 4, \"val\": 21.0}, {\"col\": \"Expensive\", \"idx\": 5, \"val\": 21.0}, {\"col\": \"Cheap\", \"idx\": 5, \"val\": 9.0}, {\"col\": \"Expensive\", \"idx\": 6, \"val\": 24.0}, {\"col\": \"Cheap\", \"idx\": 6, \"val\": 10.0}, {\"col\": \"Expensive\", \"idx\": 7, \"val\": 25.0}, {\"col\": \"Cheap\", \"idx\": 7, \"val\": 24.0}, {\"col\": \"Expensive\", \"idx\": 8, \"val\": 27.0}, {\"col\": \"Cheap\", \"idx\": 8, \"val\": 18.0}, {\"col\": \"Expensive\", \"idx\": 9, \"val\": 24.0}, {\"col\": \"Cheap\", \"idx\": 9, \"val\": 11.0}, {\"col\": \"Expensive\", \"idx\": 10, \"val\": 26.0}, {\"col\": \"Cheap\", \"idx\": 10, \"val\": 9.0}, {\"col\": \"Expensive\", \"idx\": 11, \"val\": 24.0}, {\"col\": \"Cheap\", \"idx\": 11, \"val\": 21.0}, {\"col\": \"Expensive\", \"idx\": 12, \"val\": 18.0}, {\"col\": \"Cheap\", \"idx\": 12, \"val\": 20.0}, {\"col\": \"Expensive\", \"idx\": 13, \"val\": 18.0}, {\"col\": \"Cheap\", \"idx\": 13, \"val\": 7.0}, {\"col\": \"Expensive\", \"idx\": 14, \"val\": 23.0}, {\"col\": \"Cheap\", \"idx\": 14, \"val\": 8.0}, {\"col\": \"Expensive\", \"idx\": 15, \"val\": 18.0}, {\"col\": \"Cheap\", \"idx\": 15, \"val\": 15.0}, {\"col\": \"Expensive\", \"idx\": 16, \"val\": 23.0}, {\"col\": \"Cheap\", \"idx\": 16, \"val\": 10.0}, {\"col\": \"Expensive\", \"idx\": 17, \"val\": 15.0}, {\"col\": \"Cheap\", \"idx\": 17, \"val\": 4.0}, {\"col\": \"Expensive\", \"idx\": 18, \"val\": 19.0}, {\"col\": \"Cheap\", \"idx\": 18, \"val\": 6.0}, {\"col\": \"Expensive\", \"idx\": 19, \"val\": 14.0}, {\"col\": \"Cheap\", \"idx\": 19, \"val\": 9.0}, {\"col\": \"Expensive\", \"idx\": 20, \"val\": 14.0}, {\"col\": \"Cheap\", \"idx\": 20, \"val\": 8.0}, {\"col\": \"Expensive\", \"idx\": 21, \"val\": 14.0}, {\"col\": \"Cheap\", \"idx\": 21, \"val\": 4.0}, {\"col\": \"Expensive\", \"idx\": 22, \"val\": 17.0}, {\"col\": \"Cheap\", \"idx\": 22, \"val\": 5.0}, {\"col\": \"Expensive\", \"idx\": 23, \"val\": 15.0}, {\"col\": \"Cheap\", \"idx\": 23, \"val\": 7.0}, {\"col\": \"Expensive\", \"idx\": 24, \"val\": 14.0}, {\"col\": \"Cheap\", \"idx\": 24, \"val\": 3.0}, {\"col\": \"Expensive\", \"idx\": 25, \"val\": 10.0}, {\"col\": \"Cheap\", \"idx\": 25, \"val\": 1.0}, {\"col\": \"Expensive\", \"idx\": 26, \"val\": 12.0}, {\"col\": \"Cheap\", \"idx\": 26, \"val\": 3.0}, {\"col\": \"Expensive\", \"idx\": 27, \"val\": 9.0}, {\"col\": \"Cheap\", \"idx\": 27, \"val\": 7.0}, {\"col\": \"Expensive\", \"idx\": 28, \"val\": 10.0}, {\"col\": \"Cheap\", \"idx\": 28, \"val\": 3.0}, {\"col\": \"Expensive\", \"idx\": 29, \"val\": 7.0}, {\"col\": \"Cheap\", \"idx\": 29, \"val\": 2.0}, {\"col\": \"Expensive\", \"idx\": 30, \"val\": 9.0}, {\"col\": \"Cheap\", \"idx\": 30, \"val\": 1.0}, {\"col\": \"Expensive\", \"idx\": 31, \"val\": 9.0}, {\"col\": \"Cheap\", \"idx\": 31, \"val\": 5.0}, {\"col\": \"Expensive\", \"idx\": 32, \"val\": 8.0}, {\"col\": \"Cheap\", \"idx\": 32, \"val\": 3.0}, {\"col\": \"Expensive\", \"idx\": 33, \"val\": 8.0}, {\"col\": \"Cheap\", \"idx\": 33, \"val\": 2.0}, {\"col\": \"Expensive\", \"idx\": 34, \"val\": 8.0}, {\"col\": \"Cheap\", \"idx\": 34, \"val\": 1.0}, {\"col\": \"Expensive\", \"idx\": 35, \"val\": 5.0}, {\"col\": \"Cheap\", \"idx\": 35, \"val\": 3.0}, {\"col\": \"Expensive\", \"idx\": 36, \"val\": 3.0}, {\"col\": \"Cheap\", \"idx\": 36, \"val\": 2.0}, {\"col\": \"Expensive\", \"idx\": 37, \"val\": 6.0}, {\"col\": \"Cheap\", \"idx\": 37, \"val\": 0.0}, {\"col\": \"Expensive\", \"idx\": 38, \"val\": 5.0}, {\"col\": \"Cheap\", \"idx\": 38, \"val\": 0.0}, {\"col\": \"Expensive\", \"idx\": 39, \"val\": 5.0}, {\"col\": \"Cheap\", \"idx\": 39, \"val\": 2.0}, {\"col\": \"Expensive\", \"idx\": 40, \"val\": 4.0}, {\"col\": \"Cheap\", \"idx\": 40, \"val\": 1.0}, {\"col\": \"Expensive\", \"idx\": 41, \"val\": 5.0}, {\"col\": \"Cheap\", \"idx\": 41, \"val\": 0.0}, {\"col\": \"Expensive\", \"idx\": 42, \"val\": 4.0}, {\"col\": \"Cheap\", \"idx\": 42, \"val\": 1.0}, {\"col\": \"Expensive\", \"idx\": 43, \"val\": 1.0}, {\"col\": \"Cheap\", \"idx\": 43, \"val\": 2.0}, {\"col\": \"Expensive\", \"idx\": 44, \"val\": 4.0}, {\"col\": \"Cheap\", \"idx\": 44, \"val\": 0.0}, {\"col\": \"Expensive\", \"idx\": 45, \"val\": 4.0}, {\"col\": \"Cheap\", \"idx\": 45, \"val\": 1.0}, {\"col\": \"Expensive\", \"idx\": 46, \"val\": 4.0}, {\"col\": \"Cheap\", \"idx\": 46, \"val\": 0.0}, {\"col\": \"Expensive\", \"idx\": 47, \"val\": 2.0}, {\"col\": \"Cheap\", \"idx\": 47, \"val\": 0.0}, {\"col\": \"Expensive\", \"idx\": 48, \"val\": 1.0}, {\"col\": \"Cheap\", \"idx\": 48, \"val\": 0.0}, {\"col\": \"Expensive\", \"idx\": 49, \"val\": 2.0}, {\"col\": \"Cheap\", \"idx\": 49, \"val\": 1.0}, {\"col\": \"Expensive\", \"idx\": 50, \"val\": 1.0}, {\"col\": \"Cheap\", \"idx\": 50, \"val\": 0.0}, {\"col\": \"Expensive\", \"idx\": 51, \"val\": 1.0}, {\"col\": \"Cheap\", \"idx\": 51, \"val\": 0.0}, {\"col\": \"Expensive\", \"idx\": 52, \"val\": 1.0}, {\"col\": \"Cheap\", \"idx\": 52, \"val\": 0.0}, {\"col\": \"Expensive\", \"idx\": 53, \"val\": 1.0}, {\"col\": \"Cheap\", \"idx\": 53, \"val\": 0.0}, {\"col\": \"Expensive\", \"idx\": 54, \"val\": 0.0}, {\"col\": \"Cheap\", \"idx\": 54, \"val\": 0.0}, {\"col\": \"Expensive\", \"idx\": 55, \"val\": 2.0}, {\"col\": \"Cheap\", \"idx\": 55, \"val\": 0.0}, {\"col\": \"Expensive\", \"idx\": 56, \"val\": 0.0}, {\"col\": \"Cheap\", \"idx\": 56, \"val\": 0.0}, {\"col\": \"Expensive\", \"idx\": 57, \"val\": 1.0}, {\"col\": \"Cheap\", \"idx\": 57, \"val\": 0.0}, {\"col\": \"Expensive\", \"idx\": 58, \"val\": 0.0}, {\"col\": \"Cheap\", \"idx\": 58, \"val\": 1.0}, {\"col\": \"Expensive\", \"idx\": 59, \"val\": 0.0}, {\"col\": \"Cheap\", \"idx\": 59, \"val\": 0.0}]}, {\"name\": \"stats\", \"source\": \"table\", \"transform\": [{\"keys\": [\"data.idx\"], \"type\": \"facet\"}, {\"type\": \"stats\", \"value\": \"data.val\"}]}], \"height\": 300, \"legends\": [{\"fill\": \"color\", \"offset\": 0, \"properties\": {}, \"title\": \"Edge\"}], \"marks\": [{\"from\": {\"data\": \"table\", \"transform\": [{\"keys\": [\"data.col\"], \"type\": \"facet\"}, {\"height\": \"data.val\", \"point\": \"data.idx\", \"type\": \"stack\"}]}, \"marks\": [{\"properties\": {\"enter\": {\"fill\": {\"field\": \"data.col\", \"scale\": \"color\"}, \"interpolate\": {\"value\": \"monotone\"}, \"opacity\": {\"value\": 0.8}, \"x\": {\"field\": \"data.idx\", \"scale\": \"x\"}, \"y\": {\"field\": \"y\", \"scale\": \"y\"}, \"y2\": {\"field\": \"y2\", \"scale\": \"y\"}}, \"hover\": {\"opacity\": {\"value\": 1}, \"size\": {\"value\": 200}}, \"update\": {\"opacity\": {\"value\": 0.8}, \"size\": {\"value\": 100}}}, \"type\": \"area\"}], \"type\": \"group\"}], \"padding\": \"auto\", \"scales\": [{\"domain\": {\"data\": \"table\", \"field\": \"data.idx\"}, \"name\": \"x\", \"range\": \"width\", \"type\": \"linear\", \"zero\": false}, {\"domain\": [0, 159], \"name\": \"y\", \"nice\": true, \"range\": \"height\"}, {\"domain\": {\"data\": \"table\", \"field\": \"data.col\"}, \"name\": \"color\", \"range\": [\"#ff0000\", \"#50aa50\", \"#eeeeee\"], \"type\": \"ordinal\"}], \"width\": 400}, function(chart) {\n",
        "         chart({el: \"#vis1b73ea15e7e843b99b7e8995f5e46e85\"}).update();\n",
        "       });\n",
        "     };\n",
        "     _do_plot();\n",
        "   })();\n",
        "</script>\n",
        "<style>.vega canvas {width: 100%;}</style>\n",
        "        "
       ],
       "metadata": {},
       "output_type": "display_data",
       "text": [
        "<vincent.charts.Area at 0x10875ddd0>"
       ]
      },
      {
       "html": [
        "<h4>Waiting algorithm: What are the frogs up to?</h4>"
       ],
       "metadata": {},
       "output_type": "display_data",
       "text": [
        "<IPython.core.display.HTML at 0x108b33d90>"
       ]
      },
      {
       "html": [
        "<div id=\"visae48927946544a058c22af9fe2dab45a\"></div>\n",
        "<script>\n",
        "   ( function() {\n",
        "     var _do_plot = function() {\n",
        "       if (typeof vg === 'undefined') {\n",
        "         window.addEventListener('vincent_libs_loaded', _do_plot)\n",
        "         return;\n",
        "       }\n",
        "       vg.parse.spec({\"axes\": [{\"scale\": \"x\", \"title\": \"Rounds\", \"type\": \"x\"}, {\"scale\": \"y\", \"title\": \"# frogs\", \"type\": \"y\"}], \"data\": [{\"name\": \"table\", \"values\": [{\"col\": \"Expensive\", \"idx\": 1, \"val\": 116.0}, {\"col\": \"Cheap\", \"idx\": 1, \"val\": 174.0}, {\"col\": \"Teleportation\", \"idx\": 1, \"val\": 115.0}, {\"col\": \"Waiting\", \"idx\": 1, \"val\": 424.0}, {\"col\": \"Expensive\", \"idx\": 2, \"val\": 166.0}, {\"col\": \"Cheap\", \"idx\": 2, \"val\": 42.0}, {\"col\": \"Teleportation\", \"idx\": 2, \"val\": 72.0}, {\"col\": \"Waiting\", \"idx\": 2, \"val\": 493.0}, {\"col\": \"Expensive\", \"idx\": 3, \"val\": 178.0}, {\"col\": \"Cheap\", \"idx\": 3, \"val\": 24.0}, {\"col\": \"Teleportation\", \"idx\": 3, \"val\": 54.0}, {\"col\": \"Waiting\", \"idx\": 3, \"val\": 470.0}, {\"col\": \"Expensive\", \"idx\": 4, \"val\": 270.0}, {\"col\": \"Cheap\", \"idx\": 4, \"val\": 44.0}, {\"col\": \"Teleportation\", \"idx\": 4, \"val\": 49.0}, {\"col\": \"Waiting\", \"idx\": 4, \"val\": 330.0}, {\"col\": \"Expensive\", \"idx\": 5, \"val\": 346.0}, {\"col\": \"Cheap\", \"idx\": 5, \"val\": 21.0}, {\"col\": \"Teleportation\", \"idx\": 5, \"val\": 46.0}, {\"col\": \"Waiting\", \"idx\": 5, \"val\": 227.0}, {\"col\": \"Expensive\", \"idx\": 6, \"val\": 136.0}, {\"col\": \"Cheap\", \"idx\": 6, \"val\": 36.0}, {\"col\": \"Teleportation\", \"idx\": 6, \"val\": 201.0}, {\"col\": \"Waiting\", \"idx\": 6, \"val\": 199.0}, {\"col\": \"Expensive\", \"idx\": 7, \"val\": 147.0}, {\"col\": \"Cheap\", \"idx\": 7, \"val\": 44.0}, {\"col\": \"Teleportation\", \"idx\": 7, \"val\": 70.0}, {\"col\": \"Waiting\", \"idx\": 7, \"val\": 245.0}, {\"col\": \"Expensive\", \"idx\": 8, \"val\": 140.0}, {\"col\": \"Cheap\", \"idx\": 8, \"val\": 37.0}, {\"col\": \"Teleportation\", \"idx\": 8, \"val\": 46.0}, {\"col\": \"Waiting\", \"idx\": 8, \"val\": 245.0}, {\"col\": \"Expensive\", \"idx\": 9, \"val\": 207.0}, {\"col\": \"Cheap\", \"idx\": 9, \"val\": 18.0}, {\"col\": \"Teleportation\", \"idx\": 9, \"val\": 20.0}, {\"col\": \"Waiting\", \"idx\": 9, \"val\": 188.0}, {\"col\": \"Expensive\", \"idx\": 10, \"val\": 122.0}, {\"col\": \"Cheap\", \"idx\": 10, \"val\": 26.0}, {\"col\": \"Teleportation\", \"idx\": 10, \"val\": 115.0}, {\"col\": \"Waiting\", \"idx\": 10, \"val\": 126.0}, {\"col\": \"Expensive\", \"idx\": 11, \"val\": 105.0}, {\"col\": \"Cheap\", \"idx\": 11, \"val\": 36.0}, {\"col\": \"Teleportation\", \"idx\": 11, \"val\": 49.0}, {\"col\": \"Waiting\", \"idx\": 11, \"val\": 158.0}, {\"col\": \"Expensive\", \"idx\": 12, \"val\": 83.0}, {\"col\": \"Cheap\", \"idx\": 12, \"val\": 35.0}, {\"col\": \"Teleportation\", \"idx\": 12, \"val\": 30.0}, {\"col\": \"Waiting\", \"idx\": 12, \"val\": 167.0}, {\"col\": \"Expensive\", \"idx\": 13, \"val\": 125.0}, {\"col\": \"Cheap\", \"idx\": 13, \"val\": 14.0}, {\"col\": \"Teleportation\", \"idx\": 13, \"val\": 20.0}, {\"col\": \"Waiting\", \"idx\": 13, \"val\": 131.0}, {\"col\": \"Expensive\", \"idx\": 14, \"val\": 81.0}, {\"col\": \"Cheap\", \"idx\": 14, \"val\": 17.0}, {\"col\": \"Teleportation\", \"idx\": 14, \"val\": 69.0}, {\"col\": \"Waiting\", \"idx\": 14, \"val\": 96.0}, {\"col\": \"Expensive\", \"idx\": 15, \"val\": 54.0}, {\"col\": \"Cheap\", \"idx\": 15, \"val\": 23.0}, {\"col\": \"Teleportation\", \"idx\": 15, \"val\": 36.0}, {\"col\": \"Waiting\", \"idx\": 15, \"val\": 127.0}, {\"col\": \"Expensive\", \"idx\": 16, \"val\": 77.0}, {\"col\": \"Cheap\", \"idx\": 16, \"val\": 17.0}, {\"col\": \"Teleportation\", \"idx\": 16, \"val\": 10.0}, {\"col\": \"Waiting\", \"idx\": 16, \"val\": 119.0}, {\"col\": \"Expensive\", \"idx\": 17, \"val\": 102.0}, {\"col\": \"Cheap\", \"idx\": 17, \"val\": 4.0}, {\"col\": \"Teleportation\", \"idx\": 17, \"val\": 10.0}, {\"col\": \"Waiting\", \"idx\": 17, \"val\": 88.0}, {\"col\": \"Expensive\", \"idx\": 18, \"val\": 61.0}, {\"col\": \"Cheap\", \"idx\": 18, \"val\": 8.0}, {\"col\": \"Teleportation\", \"idx\": 18, \"val\": 57.0}, {\"col\": \"Waiting\", \"idx\": 18, \"val\": 53.0}, {\"col\": \"Expensive\", \"idx\": 19, \"val\": 46.0}, {\"col\": \"Cheap\", \"idx\": 19, \"val\": 11.0}, {\"col\": \"Teleportation\", \"idx\": 19, \"val\": 23.0}, {\"col\": \"Waiting\", \"idx\": 19, \"val\": 74.0}, {\"col\": \"Expensive\", \"idx\": 20, \"val\": 42.0}, {\"col\": \"Cheap\", \"idx\": 20, \"val\": 11.0}, {\"col\": \"Teleportation\", \"idx\": 20, \"val\": 16.0}, {\"col\": \"Waiting\", \"idx\": 20, \"val\": 73.0}, {\"col\": \"Expensive\", \"idx\": 21, \"val\": 59.0}, {\"col\": \"Cheap\", \"idx\": 21, \"val\": 4.0}, {\"col\": \"Teleportation\", \"idx\": 21, \"val\": 6.0}, {\"col\": \"Waiting\", \"idx\": 21, \"val\": 55.0}, {\"col\": \"Expensive\", \"idx\": 22, \"val\": 33.0}, {\"col\": \"Cheap\", \"idx\": 22, \"val\": 6.0}, {\"col\": \"Teleportation\", \"idx\": 22, \"val\": 34.0}, {\"col\": \"Waiting\", \"idx\": 22, \"val\": 43.0}, {\"col\": \"Expensive\", \"idx\": 23, \"val\": 26.0}, {\"col\": \"Cheap\", \"idx\": 23, \"val\": 8.0}, {\"col\": \"Teleportation\", \"idx\": 23, \"val\": 12.0}, {\"col\": \"Waiting\", \"idx\": 23, \"val\": 58.0}, {\"col\": \"Expensive\", \"idx\": 24, \"val\": 31.0}, {\"col\": \"Cheap\", \"idx\": 24, \"val\": 3.0}, {\"col\": \"Teleportation\", \"idx\": 24, \"val\": 7.0}, {\"col\": \"Waiting\", \"idx\": 24, \"val\": 58.0}, {\"col\": \"Expensive\", \"idx\": 25, \"val\": 38.0}, {\"col\": \"Cheap\", \"idx\": 25, \"val\": 1.0}, {\"col\": \"Teleportation\", \"idx\": 25, \"val\": 2.0}, {\"col\": \"Waiting\", \"idx\": 25, \"val\": 46.0}, {\"col\": \"Expensive\", \"idx\": 26, \"val\": 35.0}, {\"col\": \"Cheap\", \"idx\": 26, \"val\": 4.0}, {\"col\": \"Teleportation\", \"idx\": 26, \"val\": 19.0}, {\"col\": \"Waiting\", \"idx\": 26, \"val\": 26.0}, {\"col\": \"Expensive\", \"idx\": 27, \"val\": 17.0}, {\"col\": \"Cheap\", \"idx\": 27, \"val\": 7.0}, {\"col\": \"Teleportation\", \"idx\": 27, \"val\": 14.0}, {\"col\": \"Waiting\", \"idx\": 27, \"val\": 35.0}, {\"col\": \"Expensive\", \"idx\": 28, \"val\": 23.0}, {\"col\": \"Cheap\", \"idx\": 28, \"val\": 5.0}, {\"col\": \"Teleportation\", \"idx\": 28, \"val\": 3.0}, {\"col\": \"Waiting\", \"idx\": 28, \"val\": 36.0}, {\"col\": \"Expensive\", \"idx\": 29, \"val\": 28.0}, {\"col\": \"Cheap\", \"idx\": 29, \"val\": 2.0}, {\"col\": \"Teleportation\", \"idx\": 29, \"val\": NaN}, {\"col\": \"Waiting\", \"idx\": 29, \"val\": 29.0}, {\"col\": \"Expensive\", \"idx\": 30, \"val\": 16.0}, {\"col\": \"Cheap\", \"idx\": 30, \"val\": 1.0}, {\"col\": \"Teleportation\", \"idx\": 30, \"val\": 14.0}, {\"col\": \"Waiting\", \"idx\": 30, \"val\": 21.0}, {\"col\": \"Expensive\", \"idx\": 31, \"val\": 18.0}, {\"col\": \"Cheap\", \"idx\": 31, \"val\": 5.0}, {\"col\": \"Teleportation\", \"idx\": 31, \"val\": 9.0}, {\"col\": \"Waiting\", \"idx\": 31, \"val\": 15.0}, {\"col\": \"Expensive\", \"idx\": 32, \"val\": 13.0}, {\"col\": \"Cheap\", \"idx\": 32, \"val\": 3.0}, {\"col\": \"Teleportation\", \"idx\": 32, \"val\": 4.0}, {\"col\": \"Waiting\", \"idx\": 32, \"val\": 21.0}, {\"col\": \"Expensive\", \"idx\": 33, \"val\": 18.0}, {\"col\": \"Cheap\", \"idx\": 33, \"val\": 2.0}, {\"col\": \"Teleportation\", \"idx\": 33, \"val\": 1.0}, {\"col\": \"Waiting\", \"idx\": 33, \"val\": 17.0}, {\"col\": \"Expensive\", \"idx\": 34, \"val\": 11.0}, {\"col\": \"Cheap\", \"idx\": 34, \"val\": 1.0}, {\"col\": \"Teleportation\", \"idx\": 34, \"val\": 11.0}, {\"col\": \"Waiting\", \"idx\": 34, \"val\": 11.0}, {\"col\": \"Expensive\", \"idx\": 35, \"val\": 8.0}, {\"col\": \"Cheap\", \"idx\": 35, \"val\": 3.0}, {\"col\": \"Teleportation\", \"idx\": 35, \"val\": 2.0}, {\"col\": \"Waiting\", \"idx\": 35, \"val\": 15.0}, {\"col\": \"Expensive\", \"idx\": 36, \"val\": 8.0}, {\"col\": \"Cheap\", \"idx\": 36, \"val\": 2.0}, {\"col\": \"Teleportation\", \"idx\": 36, \"val\": 1.0}, {\"col\": \"Waiting\", \"idx\": 36, \"val\": 14.0}, {\"col\": \"Expensive\", \"idx\": 37, \"val\": 11.0}, {\"col\": \"Cheap\", \"idx\": 37, \"val\": 0.0}, {\"col\": \"Teleportation\", \"idx\": 37, \"val\": 1.0}, {\"col\": \"Waiting\", \"idx\": 37, \"val\": 9.0}, {\"col\": \"Expensive\", \"idx\": 38, \"val\": 6.0}, {\"col\": \"Cheap\", \"idx\": 38, \"val\": 0.0}, {\"col\": \"Teleportation\", \"idx\": 38, \"val\": 6.0}, {\"col\": \"Waiting\", \"idx\": 38, \"val\": 8.0}, {\"col\": \"Expensive\", \"idx\": 39, \"val\": 5.0}, {\"col\": \"Cheap\", \"idx\": 39, \"val\": 2.0}, {\"col\": \"Teleportation\", \"idx\": 39, \"val\": 4.0}, {\"col\": \"Waiting\", \"idx\": 39, \"val\": 9.0}, {\"col\": \"Expensive\", \"idx\": 40, \"val\": 7.0}, {\"col\": \"Cheap\", \"idx\": 40, \"val\": 1.0}, {\"col\": \"Teleportation\", \"idx\": 40, \"val\": 3.0}, {\"col\": \"Waiting\", \"idx\": 40, \"val\": 7.0}, {\"col\": \"Expensive\", \"idx\": 41, \"val\": 7.0}, {\"col\": \"Cheap\", \"idx\": 41, \"val\": 0.0}, {\"col\": \"Teleportation\", \"idx\": 41, \"val\": 2.0}, {\"col\": \"Waiting\", \"idx\": 41, \"val\": 5.0}, {\"col\": \"Expensive\", \"idx\": 42, \"val\": 4.0}, {\"col\": \"Cheap\", \"idx\": 42, \"val\": 1.0}, {\"col\": \"Teleportation\", \"idx\": 42, \"val\": 4.0}, {\"col\": \"Waiting\", \"idx\": 42, \"val\": 4.0}, {\"col\": \"Expensive\", \"idx\": 43, \"val\": 1.0}, {\"col\": \"Cheap\", \"idx\": 43, \"val\": 2.0}, {\"col\": \"Teleportation\", \"idx\": 43, \"val\": 2.0}, {\"col\": \"Waiting\", \"idx\": 43, \"val\": 8.0}, {\"col\": \"Expensive\", \"idx\": 44, \"val\": 6.0}, {\"col\": \"Cheap\", \"idx\": 44, \"val\": 0.0}, {\"col\": \"Teleportation\", \"idx\": 44, \"val\": 2.0}, {\"col\": \"Waiting\", \"idx\": 44, \"val\": 4.0}, {\"col\": \"Expensive\", \"idx\": 45, \"val\": 7.0}, {\"col\": \"Cheap\", \"idx\": 45, \"val\": 1.0}, {\"col\": \"Teleportation\", \"idx\": 45, \"val\": NaN}, {\"col\": \"Waiting\", \"idx\": 45, \"val\": 2.0}, {\"col\": \"Expensive\", \"idx\": 46, \"val\": 4.0}, {\"col\": \"Cheap\", \"idx\": 46, \"val\": 0.0}, {\"col\": \"Teleportation\", \"idx\": 46, \"val\": 2.0}, {\"col\": \"Waiting\", \"idx\": 46, \"val\": 2.0}, {\"col\": \"Expensive\", \"idx\": 47, \"val\": 2.0}, {\"col\": \"Cheap\", \"idx\": 47, \"val\": 0.0}, {\"col\": \"Teleportation\", \"idx\": 47, \"val\": 3.0}, {\"col\": \"Waiting\", \"idx\": 47, \"val\": 3.0}, {\"col\": \"Expensive\", \"idx\": 48, \"val\": 2.0}, {\"col\": \"Cheap\", \"idx\": 48, \"val\": 0.0}, {\"col\": \"Teleportation\", \"idx\": 48, \"val\": 1.0}, {\"col\": \"Waiting\", \"idx\": 48, \"val\": 3.0}, {\"col\": \"Expensive\", \"idx\": 49, \"val\": 3.0}, {\"col\": \"Cheap\", \"idx\": 49, \"val\": 1.0}, {\"col\": \"Teleportation\", \"idx\": 49, \"val\": NaN}, {\"col\": \"Waiting\", \"idx\": 49, \"val\": 2.0}, {\"col\": \"Expensive\", \"idx\": 50, \"val\": 1.0}, {\"col\": \"Cheap\", \"idx\": 50, \"val\": 0.0}, {\"col\": \"Teleportation\", \"idx\": 50, \"val\": 2.0}, {\"col\": \"Waiting\", \"idx\": 50, \"val\": 1.0}, {\"col\": \"Expensive\", \"idx\": 51, \"val\": 1.0}, {\"col\": \"Cheap\", \"idx\": 51, \"val\": 0.0}, {\"col\": \"Teleportation\", \"idx\": 51, \"val\": 1.0}, {\"col\": \"Waiting\", \"idx\": 51, \"val\": 2.0}, {\"col\": \"Expensive\", \"idx\": 52, \"val\": 1.0}, {\"col\": \"Cheap\", \"idx\": 52, \"val\": 0.0}, {\"col\": \"Teleportation\", \"idx\": 52, \"val\": 1.0}, {\"col\": \"Waiting\", \"idx\": 52, \"val\": 2.0}, {\"col\": \"Expensive\", \"idx\": 53, \"val\": 1.0}, {\"col\": \"Cheap\", \"idx\": 53, \"val\": 0.0}, {\"col\": \"Teleportation\", \"idx\": 53, \"val\": NaN}, {\"col\": \"Waiting\", \"idx\": 53, \"val\": 2.0}, {\"col\": \"Expensive\", \"idx\": 54, \"val\": 0.0}, {\"col\": \"Cheap\", \"idx\": 54, \"val\": 0.0}, {\"col\": \"Teleportation\", \"idx\": 54, \"val\": NaN}, {\"col\": \"Waiting\", \"idx\": 54, \"val\": 3.0}, {\"col\": \"Expensive\", \"idx\": 55, \"val\": 2.0}, {\"col\": \"Cheap\", \"idx\": 55, \"val\": 0.0}, {\"col\": \"Teleportation\", \"idx\": 55, \"val\": NaN}, {\"col\": \"Waiting\", \"idx\": 55, \"val\": 1.0}, {\"col\": \"Expensive\", \"idx\": 56, \"val\": 0.0}, {\"col\": \"Cheap\", \"idx\": 56, \"val\": 0.0}, {\"col\": \"Teleportation\", \"idx\": 56, \"val\": 1.0}, {\"col\": \"Waiting\", \"idx\": 56, \"val\": 1.0}, {\"col\": \"Expensive\", \"idx\": 57, \"val\": 1.0}, {\"col\": \"Cheap\", \"idx\": 57, \"val\": 0.0}, {\"col\": \"Teleportation\", \"idx\": 57, \"val\": NaN}, {\"col\": \"Waiting\", \"idx\": 57, \"val\": 0.0}, {\"col\": \"Expensive\", \"idx\": 58, \"val\": 0.0}, {\"col\": \"Cheap\", \"idx\": 58, \"val\": 1.0}, {\"col\": \"Teleportation\", \"idx\": 58, \"val\": NaN}, {\"col\": \"Waiting\", \"idx\": 58, \"val\": 0.0}, {\"col\": \"Expensive\", \"idx\": 59, \"val\": 0.0}, {\"col\": \"Cheap\", \"idx\": 59, \"val\": 0.0}, {\"col\": \"Teleportation\", \"idx\": 59, \"val\": NaN}, {\"col\": \"Waiting\", \"idx\": 59, \"val\": 0.0}]}, {\"name\": \"stats\", \"source\": \"table\", \"transform\": [{\"keys\": [\"data.idx\"], \"type\": \"facet\"}, {\"type\": \"stats\", \"value\": \"data.val\"}]}], \"height\": 300, \"legends\": [{\"fill\": \"color\", \"offset\": 0, \"properties\": {}, \"title\": \"Edge\"}], \"marks\": [{\"from\": {\"data\": \"table\", \"transform\": [{\"keys\": [\"data.col\"], \"type\": \"facet\"}, {\"height\": \"data.val\", \"point\": \"data.idx\", \"type\": \"stack\"}]}, \"marks\": [{\"properties\": {\"enter\": {\"fill\": {\"field\": \"data.col\", \"scale\": \"color\"}, \"interpolate\": {\"value\": \"monotone\"}, \"opacity\": {\"value\": 0.8}, \"x\": {\"field\": \"data.idx\", \"scale\": \"x\"}, \"y\": {\"field\": \"y\", \"scale\": \"y\"}, \"y2\": {\"field\": \"y2\", \"scale\": \"y\"}}, \"hover\": {\"opacity\": {\"value\": 1}, \"size\": {\"value\": 200}}, \"update\": {\"opacity\": {\"value\": 0.8}, \"size\": {\"value\": 100}}}, \"type\": \"area\"}], \"type\": \"group\"}], \"padding\": \"auto\", \"scales\": [{\"domain\": {\"data\": \"table\", \"field\": \"data.idx\"}, \"name\": \"x\", \"range\": \"width\", \"type\": \"linear\", \"zero\": false}, {\"domain\": {\"data\": \"stats\", \"field\": \"sum\"}, \"name\": \"y\", \"nice\": true, \"range\": \"height\"}, {\"domain\": {\"data\": \"table\", \"field\": \"data.col\"}, \"name\": \"color\", \"range\": [\"#ff0000\", \"#50aa50\", \"#6060aa\", \"#eeeeee\"], \"type\": \"ordinal\"}], \"width\": 400}, function(chart) {\n",
        "         chart({el: \"#visae48927946544a058c22af9fe2dab45a\"}).update();\n",
        "       });\n",
        "     };\n",
        "     _do_plot();\n",
        "   })();\n",
        "</script>\n",
        "<style>.vega canvas {width: 100%;}</style>\n",
        "        "
       ],
       "metadata": {},
       "output_type": "display_data",
       "text": [
        "<vincent.charts.Area at 0x1089a3d10>"
       ]
      },
      {
       "html": [
        "<h3>Performance stats</h3>"
       ],
       "metadata": {},
       "output_type": "display_data",
       "text": [
        "<IPython.core.display.HTML at 0x108b33f90>"
       ]
      },
      {
       "output_type": "stream",
       "stream": "stdout",
       "text": [
        "Stats normalized by equivalent vanilla random walk stats:\n",
        "\n",
        "Average death round (waiting/vanilla): 1.7765\n",
        "Total duration in rounds (waiting/vanilla): 1.55263157895\n",
        "Cost (waiting/vanilla): 0.662298387097\n"
       ]
      },
      {
       "html": [
        "<h2>Graph: Powerlaw-Cluster Graph</h2>"
       ],
       "metadata": {},
       "output_type": "display_data",
       "text": [
        "<IPython.core.display.HTML at 0x108b33a10>"
       ]
      },
      {
       "html": [
        "<h3>Vanilla random walk. Cost: 1692.0</h3>"
       ],
       "metadata": {},
       "output_type": "display_data",
       "text": [
        "<IPython.core.display.HTML at 0x10e26e9d0>"
       ]
      },
      {
       "html": [
        "<div id=\"visd99a2716a5c5458eb07380c4b62662aa\"></div>\n",
        "<script>\n",
        "   ( function() {\n",
        "     var _do_plot = function() {\n",
        "       if (typeof vg === 'undefined') {\n",
        "         window.addEventListener('vincent_libs_loaded', _do_plot)\n",
        "         return;\n",
        "       }\n",
        "       vg.parse.spec({\"axes\": [{\"scale\": \"x\", \"title\": \"Rounds\", \"type\": \"x\"}, {\"scale\": \"y\", \"title\": \"# edges traversed\", \"type\": \"y\"}], \"data\": [{\"name\": \"table\", \"values\": [{\"col\": \"Expensive\", \"idx\": 0, \"val\": NaN}, {\"col\": \"Cheap\", \"idx\": 0, \"val\": NaN}, {\"col\": \"Expensive\", \"idx\": 1, \"val\": 140.0}, {\"col\": \"Cheap\", \"idx\": 1, \"val\": 47.0}, {\"col\": \"Expensive\", \"idx\": 2, \"val\": 138.0}, {\"col\": \"Cheap\", \"idx\": 2, \"val\": 49.0}, {\"col\": \"Expensive\", \"idx\": 3, \"val\": 136.0}, {\"col\": \"Cheap\", \"idx\": 3, \"val\": 44.0}, {\"col\": \"Expensive\", \"idx\": 4, \"val\": 137.0}, {\"col\": \"Cheap\", \"idx\": 4, \"val\": 47.0}, {\"col\": \"Expensive\", \"idx\": 5, \"val\": 127.0}, {\"col\": \"Cheap\", \"idx\": 5, \"val\": 45.0}, {\"col\": \"Expensive\", \"idx\": 6, \"val\": 118.0}, {\"col\": \"Cheap\", \"idx\": 6, \"val\": 45.0}, {\"col\": \"Expensive\", \"idx\": 7, \"val\": 117.0}, {\"col\": \"Cheap\", \"idx\": 7, \"val\": 39.0}, {\"col\": \"Expensive\", \"idx\": 8, \"val\": 106.0}, {\"col\": \"Cheap\", \"idx\": 8, \"val\": 36.0}, {\"col\": \"Expensive\", \"idx\": 9, \"val\": 92.0}, {\"col\": \"Cheap\", \"idx\": 9, \"val\": 30.0}, {\"col\": \"Expensive\", \"idx\": 10, \"val\": 89.0}, {\"col\": \"Cheap\", \"idx\": 10, \"val\": 25.0}, {\"col\": \"Expensive\", \"idx\": 11, \"val\": 74.0}, {\"col\": \"Cheap\", \"idx\": 11, \"val\": 29.0}, {\"col\": \"Expensive\", \"idx\": 12, \"val\": 70.0}, {\"col\": \"Cheap\", \"idx\": 12, \"val\": 20.0}, {\"col\": \"Expensive\", \"idx\": 13, \"val\": 51.0}, {\"col\": \"Cheap\", \"idx\": 13, \"val\": 21.0}, {\"col\": \"Expensive\", \"idx\": 14, \"val\": 42.0}, {\"col\": \"Cheap\", \"idx\": 14, \"val\": 20.0}, {\"col\": \"Expensive\", \"idx\": 15, \"val\": 41.0}, {\"col\": \"Cheap\", \"idx\": 15, \"val\": 13.0}, {\"col\": \"Expensive\", \"idx\": 16, \"val\": 39.0}, {\"col\": \"Cheap\", \"idx\": 16, \"val\": 11.0}, {\"col\": \"Expensive\", \"idx\": 17, \"val\": 28.0}, {\"col\": \"Cheap\", \"idx\": 17, \"val\": 10.0}, {\"col\": \"Expensive\", \"idx\": 18, \"val\": 32.0}, {\"col\": \"Cheap\", \"idx\": 18, \"val\": 4.0}, {\"col\": \"Expensive\", \"idx\": 19, \"val\": 19.0}, {\"col\": \"Cheap\", \"idx\": 19, \"val\": 10.0}, {\"col\": \"Expensive\", \"idx\": 20, \"val\": 19.0}, {\"col\": \"Cheap\", \"idx\": 20, \"val\": 6.0}, {\"col\": \"Expensive\", \"idx\": 21, \"val\": 14.0}, {\"col\": \"Cheap\", \"idx\": 21, \"val\": 7.0}, {\"col\": \"Expensive\", \"idx\": 22, \"val\": 10.0}, {\"col\": \"Cheap\", \"idx\": 22, \"val\": 5.0}, {\"col\": \"Expensive\", \"idx\": 23, \"val\": 10.0}, {\"col\": \"Cheap\", \"idx\": 23, \"val\": 3.0}, {\"col\": \"Expensive\", \"idx\": 24, \"val\": 7.0}, {\"col\": \"Cheap\", \"idx\": 24, \"val\": 3.0}, {\"col\": \"Expensive\", \"idx\": 25, \"val\": 6.0}, {\"col\": \"Cheap\", \"idx\": 25, \"val\": 2.0}, {\"col\": \"Expensive\", \"idx\": 26, \"val\": 6.0}, {\"col\": \"Cheap\", \"idx\": 26, \"val\": 1.0}, {\"col\": \"Expensive\", \"idx\": 27, \"val\": 4.0}, {\"col\": \"Cheap\", \"idx\": 27, \"val\": 1.0}, {\"col\": \"Expensive\", \"idx\": 28, \"val\": 3.0}, {\"col\": \"Cheap\", \"idx\": 28, \"val\": 1.0}, {\"col\": \"Expensive\", \"idx\": 29, \"val\": 2.0}, {\"col\": \"Cheap\", \"idx\": 29, \"val\": 2.0}, {\"col\": \"Expensive\", \"idx\": 30, \"val\": 2.0}, {\"col\": \"Cheap\", \"idx\": 30, \"val\": 1.0}, {\"col\": \"Expensive\", \"idx\": 31, \"val\": 2.0}, {\"col\": \"Cheap\", \"idx\": 31, \"val\": 1.0}, {\"col\": \"Expensive\", \"idx\": 32, \"val\": 2.0}, {\"col\": \"Cheap\", \"idx\": 32, \"val\": 1.0}, {\"col\": \"Expensive\", \"idx\": 33, \"val\": 1.0}, {\"col\": \"Cheap\", \"idx\": 33, \"val\": 2.0}, {\"col\": \"Expensive\", \"idx\": 34, \"val\": 3.0}, {\"col\": \"Cheap\", \"idx\": 34, \"val\": 0.0}, {\"col\": \"Expensive\", \"idx\": 35, \"val\": 1.0}, {\"col\": \"Cheap\", \"idx\": 35, \"val\": 1.0}, {\"col\": \"Expensive\", \"idx\": 36, \"val\": 1.0}, {\"col\": \"Cheap\", \"idx\": 36, \"val\": 0.0}, {\"col\": \"Expensive\", \"idx\": 37, \"val\": 1.0}, {\"col\": \"Cheap\", \"idx\": 37, \"val\": 0.0}, {\"col\": \"Expensive\", \"idx\": 38, \"val\": 0.0}, {\"col\": \"Cheap\", \"idx\": 38, \"val\": 1.0}, {\"col\": \"Expensive\", \"idx\": 39, \"val\": 0.0}, {\"col\": \"Cheap\", \"idx\": 39, \"val\": 1.0}, {\"col\": \"Expensive\", \"idx\": 40, \"val\": 1.0}, {\"col\": \"Cheap\", \"idx\": 40, \"val\": 0.0}, {\"col\": \"Expensive\", \"idx\": 41, \"val\": 1.0}, {\"col\": \"Cheap\", \"idx\": 41, \"val\": 0.0}, {\"col\": \"Expensive\", \"idx\": 42, \"val\": 0.0}, {\"col\": \"Cheap\", \"idx\": 42, \"val\": 0.0}, {\"col\": \"Expensive\", \"idx\": 43, \"val\": NaN}, {\"col\": \"Cheap\", \"idx\": 43, \"val\": NaN}, {\"col\": \"Expensive\", \"idx\": 44, \"val\": NaN}, {\"col\": \"Cheap\", \"idx\": 44, \"val\": NaN}, {\"col\": \"Expensive\", \"idx\": 45, \"val\": NaN}, {\"col\": \"Cheap\", \"idx\": 45, \"val\": NaN}, {\"col\": \"Expensive\", \"idx\": 46, \"val\": NaN}, {\"col\": \"Cheap\", \"idx\": 46, \"val\": NaN}, {\"col\": \"Expensive\", \"idx\": 47, \"val\": NaN}, {\"col\": \"Cheap\", \"idx\": 47, \"val\": NaN}, {\"col\": \"Expensive\", \"idx\": 48, \"val\": NaN}, {\"col\": \"Cheap\", \"idx\": 48, \"val\": NaN}, {\"col\": \"Expensive\", \"idx\": 49, \"val\": NaN}, {\"col\": \"Cheap\", \"idx\": 49, \"val\": NaN}, {\"col\": \"Expensive\", \"idx\": 50, \"val\": NaN}, {\"col\": \"Cheap\", \"idx\": 50, \"val\": NaN}, {\"col\": \"Expensive\", \"idx\": 51, \"val\": NaN}, {\"col\": \"Cheap\", \"idx\": 51, \"val\": NaN}, {\"col\": \"Expensive\", \"idx\": 52, \"val\": NaN}, {\"col\": \"Cheap\", \"idx\": 52, \"val\": NaN}, {\"col\": \"Expensive\", \"idx\": 53, \"val\": NaN}, {\"col\": \"Cheap\", \"idx\": 53, \"val\": NaN}, {\"col\": \"Expensive\", \"idx\": 54, \"val\": NaN}, {\"col\": \"Cheap\", \"idx\": 54, \"val\": NaN}, {\"col\": \"Expensive\", \"idx\": 55, \"val\": NaN}, {\"col\": \"Cheap\", \"idx\": 55, \"val\": NaN}, {\"col\": \"Expensive\", \"idx\": 56, \"val\": NaN}, {\"col\": \"Cheap\", \"idx\": 56, \"val\": NaN}, {\"col\": \"Expensive\", \"idx\": 57, \"val\": NaN}, {\"col\": \"Cheap\", \"idx\": 57, \"val\": NaN}, {\"col\": \"Expensive\", \"idx\": 58, \"val\": NaN}, {\"col\": \"Cheap\", \"idx\": 58, \"val\": NaN}, {\"col\": \"Expensive\", \"idx\": 59, \"val\": NaN}, {\"col\": \"Cheap\", \"idx\": 59, \"val\": NaN}, {\"col\": \"Expensive\", \"idx\": 60, \"val\": NaN}, {\"col\": \"Cheap\", \"idx\": 60, \"val\": NaN}, {\"col\": \"Expensive\", \"idx\": 61, \"val\": NaN}, {\"col\": \"Cheap\", \"idx\": 61, \"val\": NaN}, {\"col\": \"Expensive\", \"idx\": 62, \"val\": NaN}, {\"col\": \"Cheap\", \"idx\": 62, \"val\": NaN}, {\"col\": \"Expensive\", \"idx\": 63, \"val\": NaN}, {\"col\": \"Cheap\", \"idx\": 63, \"val\": NaN}, {\"col\": \"Expensive\", \"idx\": 64, \"val\": NaN}, {\"col\": \"Cheap\", \"idx\": 64, \"val\": NaN}, {\"col\": \"Expensive\", \"idx\": 65, \"val\": NaN}, {\"col\": \"Cheap\", \"idx\": 65, \"val\": NaN}, {\"col\": \"Expensive\", \"idx\": 66, \"val\": NaN}, {\"col\": \"Cheap\", \"idx\": 66, \"val\": NaN}, {\"col\": \"Expensive\", \"idx\": 67, \"val\": NaN}, {\"col\": \"Cheap\", \"idx\": 67, \"val\": NaN}, {\"col\": \"Expensive\", \"idx\": 68, \"val\": NaN}, {\"col\": \"Cheap\", \"idx\": 68, \"val\": NaN}, {\"col\": \"Expensive\", \"idx\": 69, \"val\": NaN}, {\"col\": \"Cheap\", \"idx\": 69, \"val\": NaN}, {\"col\": \"Expensive\", \"idx\": 70, \"val\": NaN}, {\"col\": \"Cheap\", \"idx\": 70, \"val\": NaN}, {\"col\": \"Expensive\", \"idx\": 71, \"val\": NaN}, {\"col\": \"Cheap\", \"idx\": 71, \"val\": NaN}, {\"col\": \"Expensive\", \"idx\": 72, \"val\": NaN}, {\"col\": \"Cheap\", \"idx\": 72, \"val\": NaN}]}, {\"name\": \"stats\", \"source\": \"table\", \"transform\": [{\"keys\": [\"data.idx\"], \"type\": \"facet\"}, {\"type\": \"stats\", \"value\": \"data.val\"}]}], \"height\": 300, \"legends\": [{\"fill\": \"color\", \"offset\": 0, \"properties\": {}, \"title\": \"Edge\"}], \"marks\": [{\"from\": {\"data\": \"table\", \"transform\": [{\"keys\": [\"data.col\"], \"type\": \"facet\"}, {\"height\": \"data.val\", \"point\": \"data.idx\", \"type\": \"stack\"}]}, \"marks\": [{\"properties\": {\"enter\": {\"fill\": {\"field\": \"data.col\", \"scale\": \"color\"}, \"interpolate\": {\"value\": \"monotone\"}, \"opacity\": {\"value\": 0.8}, \"x\": {\"field\": \"data.idx\", \"scale\": \"x\"}, \"y\": {\"field\": \"y\", \"scale\": \"y\"}, \"y2\": {\"field\": \"y2\", \"scale\": \"y\"}}, \"hover\": {\"opacity\": {\"value\": 1}, \"size\": {\"value\": 200}}, \"update\": {\"opacity\": {\"value\": 0.8}, \"size\": {\"value\": 100}}}, \"type\": \"area\"}], \"type\": \"group\"}], \"padding\": \"auto\", \"scales\": [{\"domain\": {\"data\": \"table\", \"field\": \"data.idx\"}, \"name\": \"x\", \"range\": \"width\", \"type\": \"linear\", \"zero\": false}, {\"domain\": [0, 196], \"name\": \"y\", \"nice\": true, \"range\": \"height\"}, {\"domain\": {\"data\": \"table\", \"field\": \"data.col\"}, \"name\": \"color\", \"range\": [\"#ff0000\", \"#50aa50\", \"#eeeeee\"], \"type\": \"ordinal\"}], \"width\": 400}, function(chart) {\n",
        "         chart({el: \"#visd99a2716a5c5458eb07380c4b62662aa\"}).update();\n",
        "       });\n",
        "     };\n",
        "     _do_plot();\n",
        "   })();\n",
        "</script>\n",
        "<style>.vega canvas {width: 100%;}</style>\n",
        "        "
       ],
       "metadata": {},
       "output_type": "display_data",
       "text": [
        "<vincent.charts.Area at 0x108b846d0>"
       ]
      },
      {
       "html": [
        "<h3>Waiting random walk. Cost: 1237.0, a 26.8912529551% gain</h3>"
       ],
       "metadata": {},
       "output_type": "display_data",
       "text": [
        "<IPython.core.display.HTML at 0x10e26e0d0>"
       ]
      },
      {
       "html": [
        "<div id=\"visa80f888fddeb4d79ad0736f10966e827\"></div>\n",
        "<script>\n",
        "   ( function() {\n",
        "     var _do_plot = function() {\n",
        "       if (typeof vg === 'undefined') {\n",
        "         window.addEventListener('vincent_libs_loaded', _do_plot)\n",
        "         return;\n",
        "       }\n",
        "       vg.parse.spec({\"axes\": [{\"scale\": \"x\", \"title\": \"Rounds\", \"type\": \"x\"}, {\"scale\": \"y\", \"title\": \"# edges traversed\", \"type\": \"y\"}], \"data\": [{\"name\": \"table\", \"values\": [{\"col\": \"Expensive\", \"idx\": 1, \"val\": 38.0}, {\"col\": \"Cheap\", \"idx\": 1, \"val\": 45.0}, {\"col\": \"Expensive\", \"idx\": 2, \"val\": 29.0}, {\"col\": \"Cheap\", \"idx\": 2, \"val\": 43.0}, {\"col\": \"Expensive\", \"idx\": 3, \"val\": 40.0}, {\"col\": \"Cheap\", \"idx\": 3, \"val\": 36.0}, {\"col\": \"Expensive\", \"idx\": 4, \"val\": 39.0}, {\"col\": \"Cheap\", \"idx\": 4, \"val\": 35.0}, {\"col\": \"Expensive\", \"idx\": 5, \"val\": 38.0}, {\"col\": \"Cheap\", \"idx\": 5, \"val\": 34.0}, {\"col\": \"Expensive\", \"idx\": 6, \"val\": 28.0}, {\"col\": \"Cheap\", \"idx\": 6, \"val\": 34.0}, {\"col\": \"Expensive\", \"idx\": 7, \"val\": 38.0}, {\"col\": \"Cheap\", \"idx\": 7, \"val\": 24.0}, {\"col\": \"Expensive\", \"idx\": 8, \"val\": 39.0}, {\"col\": \"Cheap\", \"idx\": 8, \"val\": 28.0}, {\"col\": \"Expensive\", \"idx\": 9, \"val\": 36.0}, {\"col\": \"Cheap\", \"idx\": 9, \"val\": 33.0}, {\"col\": \"Expensive\", \"idx\": 10, \"val\": 29.0}, {\"col\": \"Cheap\", \"idx\": 10, \"val\": 24.0}, {\"col\": \"Expensive\", \"idx\": 11, \"val\": 39.0}, {\"col\": \"Cheap\", \"idx\": 11, \"val\": 25.0}, {\"col\": \"Expensive\", \"idx\": 12, \"val\": 37.0}, {\"col\": \"Cheap\", \"idx\": 12, \"val\": 25.0}, {\"col\": \"Expensive\", \"idx\": 13, \"val\": 36.0}, {\"col\": \"Cheap\", \"idx\": 13, \"val\": 24.0}, {\"col\": \"Expensive\", \"idx\": 14, \"val\": 28.0}, {\"col\": \"Cheap\", \"idx\": 14, \"val\": 23.0}, {\"col\": \"Expensive\", \"idx\": 15, \"val\": 40.0}, {\"col\": \"Cheap\", \"idx\": 15, \"val\": 16.0}, {\"col\": \"Expensive\", \"idx\": 16, \"val\": 34.0}, {\"col\": \"Cheap\", \"idx\": 16, \"val\": 27.0}, {\"col\": \"Expensive\", \"idx\": 17, \"val\": 33.0}, {\"col\": \"Cheap\", \"idx\": 17, \"val\": 16.0}, {\"col\": \"Expensive\", \"idx\": 18, \"val\": 25.0}, {\"col\": \"Cheap\", \"idx\": 18, \"val\": 18.0}, {\"col\": \"Expensive\", \"idx\": 19, \"val\": 33.0}, {\"col\": \"Cheap\", \"idx\": 19, \"val\": 17.0}, {\"col\": \"Expensive\", \"idx\": 20, \"val\": 31.0}, {\"col\": \"Cheap\", \"idx\": 20, \"val\": 14.0}, {\"col\": \"Expensive\", \"idx\": 21, \"val\": 26.0}, {\"col\": \"Cheap\", \"idx\": 21, \"val\": 13.0}, {\"col\": \"Expensive\", \"idx\": 22, \"val\": 19.0}, {\"col\": \"Cheap\", \"idx\": 22, \"val\": 8.0}, {\"col\": \"Expensive\", \"idx\": 23, \"val\": 29.0}, {\"col\": \"Cheap\", \"idx\": 23, \"val\": 7.0}, {\"col\": \"Expensive\", \"idx\": 24, \"val\": 30.0}, {\"col\": \"Cheap\", \"idx\": 24, \"val\": 15.0}, {\"col\": \"Expensive\", \"idx\": 25, \"val\": 30.0}, {\"col\": \"Cheap\", \"idx\": 25, \"val\": 11.0}, {\"col\": \"Expensive\", \"idx\": 26, \"val\": 19.0}, {\"col\": \"Cheap\", \"idx\": 26, \"val\": 9.0}, {\"col\": \"Expensive\", \"idx\": 27, \"val\": 27.0}, {\"col\": \"Cheap\", \"idx\": 27, \"val\": 9.0}, {\"col\": \"Expensive\", \"idx\": 28, \"val\": 25.0}, {\"col\": \"Cheap\", \"idx\": 28, \"val\": 13.0}, {\"col\": \"Expensive\", \"idx\": 29, \"val\": 21.0}, {\"col\": \"Cheap\", \"idx\": 29, \"val\": 8.0}, {\"col\": \"Expensive\", \"idx\": 30, \"val\": 13.0}, {\"col\": \"Cheap\", \"idx\": 30, \"val\": 7.0}, {\"col\": \"Expensive\", \"idx\": 31, \"val\": 23.0}, {\"col\": \"Cheap\", \"idx\": 31, \"val\": 8.0}, {\"col\": \"Expensive\", \"idx\": 32, \"val\": 22.0}, {\"col\": \"Cheap\", \"idx\": 32, \"val\": 9.0}, {\"col\": \"Expensive\", \"idx\": 33, \"val\": 19.0}, {\"col\": \"Cheap\", \"idx\": 33, \"val\": 11.0}, {\"col\": \"Expensive\", \"idx\": 34, \"val\": 8.0}, {\"col\": \"Cheap\", \"idx\": 34, \"val\": 12.0}, {\"col\": \"Expensive\", \"idx\": 35, \"val\": 19.0}, {\"col\": \"Cheap\", \"idx\": 35, \"val\": 6.0}, {\"col\": \"Expensive\", \"idx\": 36, \"val\": 20.0}, {\"col\": \"Cheap\", \"idx\": 36, \"val\": 4.0}, {\"col\": \"Expensive\", \"idx\": 37, \"val\": 18.0}, {\"col\": \"Cheap\", \"idx\": 37, \"val\": 6.0}, {\"col\": \"Expensive\", \"idx\": 38, \"val\": 10.0}, {\"col\": \"Cheap\", \"idx\": 38, \"val\": 6.0}, {\"col\": \"Expensive\", \"idx\": 39, \"val\": 13.0}, {\"col\": \"Cheap\", \"idx\": 39, \"val\": 2.0}, {\"col\": \"Expensive\", \"idx\": 40, \"val\": 15.0}, {\"col\": \"Cheap\", \"idx\": 40, \"val\": 2.0}, {\"col\": \"Expensive\", \"idx\": 41, \"val\": 12.0}, {\"col\": \"Cheap\", \"idx\": 41, \"val\": 8.0}, {\"col\": \"Expensive\", \"idx\": 42, \"val\": 8.0}, {\"col\": \"Cheap\", \"idx\": 42, \"val\": 3.0}, {\"col\": \"Expensive\", \"idx\": 43, \"val\": 12.0}, {\"col\": \"Cheap\", \"idx\": 43, \"val\": 5.0}, {\"col\": \"Expensive\", \"idx\": 44, \"val\": 7.0}, {\"col\": \"Cheap\", \"idx\": 44, \"val\": 5.0}, {\"col\": \"Expensive\", \"idx\": 45, \"val\": 8.0}, {\"col\": \"Cheap\", \"idx\": 45, \"val\": 5.0}, {\"col\": \"Expensive\", \"idx\": 46, \"val\": 6.0}, {\"col\": \"Cheap\", \"idx\": 46, \"val\": 5.0}, {\"col\": \"Expensive\", \"idx\": 47, \"val\": 10.0}, {\"col\": \"Cheap\", \"idx\": 47, \"val\": 2.0}, {\"col\": \"Expensive\", \"idx\": 48, \"val\": 9.0}, {\"col\": \"Cheap\", \"idx\": 48, \"val\": 3.0}, {\"col\": \"Expensive\", \"idx\": 49, \"val\": 6.0}, {\"col\": \"Cheap\", \"idx\": 49, \"val\": 2.0}, {\"col\": \"Expensive\", \"idx\": 50, \"val\": 4.0}, {\"col\": \"Cheap\", \"idx\": 50, \"val\": 1.0}, {\"col\": \"Expensive\", \"idx\": 51, \"val\": 8.0}, {\"col\": \"Cheap\", \"idx\": 51, \"val\": 0.0}, {\"col\": \"Expensive\", \"idx\": 52, \"val\": 5.0}, {\"col\": \"Cheap\", \"idx\": 52, \"val\": 1.0}, {\"col\": \"Expensive\", \"idx\": 53, \"val\": 7.0}, {\"col\": \"Cheap\", \"idx\": 53, \"val\": 0.0}, {\"col\": \"Expensive\", \"idx\": 54, \"val\": 4.0}, {\"col\": \"Cheap\", \"idx\": 54, \"val\": 0.0}, {\"col\": \"Expensive\", \"idx\": 55, \"val\": 6.0}, {\"col\": \"Cheap\", \"idx\": 55, \"val\": 1.0}, {\"col\": \"Expensive\", \"idx\": 56, \"val\": 4.0}, {\"col\": \"Cheap\", \"idx\": 56, \"val\": 1.0}, {\"col\": \"Expensive\", \"idx\": 57, \"val\": 4.0}, {\"col\": \"Cheap\", \"idx\": 57, \"val\": 0.0}, {\"col\": \"Expensive\", \"idx\": 58, \"val\": 0.0}, {\"col\": \"Cheap\", \"idx\": 58, \"val\": 1.0}, {\"col\": \"Expensive\", \"idx\": 59, \"val\": 3.0}, {\"col\": \"Cheap\", \"idx\": 59, \"val\": 0.0}, {\"col\": \"Expensive\", \"idx\": 60, \"val\": 1.0}, {\"col\": \"Cheap\", \"idx\": 60, \"val\": 0.0}, {\"col\": \"Expensive\", \"idx\": 61, \"val\": 4.0}, {\"col\": \"Cheap\", \"idx\": 61, \"val\": 0.0}, {\"col\": \"Expensive\", \"idx\": 62, \"val\": 1.0}, {\"col\": \"Cheap\", \"idx\": 62, \"val\": 1.0}, {\"col\": \"Expensive\", \"idx\": 63, \"val\": 2.0}, {\"col\": \"Cheap\", \"idx\": 63, \"val\": 1.0}, {\"col\": \"Expensive\", \"idx\": 64, \"val\": 0.0}, {\"col\": \"Cheap\", \"idx\": 64, \"val\": 0.0}, {\"col\": \"Expensive\", \"idx\": 65, \"val\": 2.0}, {\"col\": \"Cheap\", \"idx\": 65, \"val\": 0.0}, {\"col\": \"Expensive\", \"idx\": 66, \"val\": 1.0}, {\"col\": \"Cheap\", \"idx\": 66, \"val\": 0.0}, {\"col\": \"Expensive\", \"idx\": 67, \"val\": 2.0}, {\"col\": \"Cheap\", \"idx\": 67, \"val\": 0.0}, {\"col\": \"Expensive\", \"idx\": 68, \"val\": 1.0}, {\"col\": \"Cheap\", \"idx\": 68, \"val\": 1.0}, {\"col\": \"Expensive\", \"idx\": 69, \"val\": 3.0}, {\"col\": \"Cheap\", \"idx\": 69, \"val\": 0.0}, {\"col\": \"Expensive\", \"idx\": 70, \"val\": 0.0}, {\"col\": \"Cheap\", \"idx\": 70, \"val\": 0.0}, {\"col\": \"Expensive\", \"idx\": 71, \"val\": 1.0}, {\"col\": \"Cheap\", \"idx\": 71, \"val\": 0.0}, {\"col\": \"Expensive\", \"idx\": 72, \"val\": 0.0}, {\"col\": \"Cheap\", \"idx\": 72, \"val\": 0.0}]}, {\"name\": \"stats\", \"source\": \"table\", \"transform\": [{\"keys\": [\"data.idx\"], \"type\": \"facet\"}, {\"type\": \"stats\", \"value\": \"data.val\"}]}], \"height\": 300, \"legends\": [{\"fill\": \"color\", \"offset\": 0, \"properties\": {}, \"title\": \"Edge\"}], \"marks\": [{\"from\": {\"data\": \"table\", \"transform\": [{\"keys\": [\"data.col\"], \"type\": \"facet\"}, {\"height\": \"data.val\", \"point\": \"data.idx\", \"type\": \"stack\"}]}, \"marks\": [{\"properties\": {\"enter\": {\"fill\": {\"field\": \"data.col\", \"scale\": \"color\"}, \"interpolate\": {\"value\": \"monotone\"}, \"opacity\": {\"value\": 0.8}, \"x\": {\"field\": \"data.idx\", \"scale\": \"x\"}, \"y\": {\"field\": \"y\", \"scale\": \"y\"}, \"y2\": {\"field\": \"y2\", \"scale\": \"y\"}}, \"hover\": {\"opacity\": {\"value\": 1}, \"size\": {\"value\": 200}}, \"update\": {\"opacity\": {\"value\": 0.8}, \"size\": {\"value\": 100}}}, \"type\": \"area\"}], \"type\": \"group\"}], \"padding\": \"auto\", \"scales\": [{\"domain\": {\"data\": \"table\", \"field\": \"data.idx\"}, \"name\": \"x\", \"range\": \"width\", \"type\": \"linear\", \"zero\": false}, {\"domain\": [0, 196], \"name\": \"y\", \"nice\": true, \"range\": \"height\"}, {\"domain\": {\"data\": \"table\", \"field\": \"data.col\"}, \"name\": \"color\", \"range\": [\"#ff0000\", \"#50aa50\", \"#eeeeee\"], \"type\": \"ordinal\"}], \"width\": 400}, function(chart) {\n",
        "         chart({el: \"#visa80f888fddeb4d79ad0736f10966e827\"}).update();\n",
        "       });\n",
        "     };\n",
        "     _do_plot();\n",
        "   })();\n",
        "</script>\n",
        "<style>.vega canvas {width: 100%;}</style>\n",
        "        "
       ],
       "metadata": {},
       "output_type": "display_data",
       "text": [
        "<vincent.charts.Area at 0x10873b8d0>"
       ]
      },
      {
       "html": [
        "<h4>Waiting algorithm: What are the frogs up to?</h4>"
       ],
       "metadata": {},
       "output_type": "display_data",
       "text": [
        "<IPython.core.display.HTML at 0x108b32590>"
       ]
      },
      {
       "html": [
        "<div id=\"vis62f59d212a144d609c899e1407b42d40\"></div>\n",
        "<script>\n",
        "   ( function() {\n",
        "     var _do_plot = function() {\n",
        "       if (typeof vg === 'undefined') {\n",
        "         window.addEventListener('vincent_libs_loaded', _do_plot)\n",
        "         return;\n",
        "       }\n",
        "       vg.parse.spec({\"axes\": [{\"scale\": \"x\", \"title\": \"Rounds\", \"type\": \"x\"}, {\"scale\": \"y\", \"title\": \"# frogs\", \"type\": \"y\"}], \"data\": [{\"name\": \"table\", \"values\": [{\"col\": \"Expensive\", \"idx\": 1, \"val\": 187.0}, {\"col\": \"Cheap\", \"idx\": 1, \"val\": 192.0}, {\"col\": \"Waiting\", \"idx\": 1, \"val\": 439.0}, {\"col\": \"Expensive\", \"idx\": 2, \"val\": 166.0}, {\"col\": \"Cheap\", \"idx\": 2, \"val\": 112.0}, {\"col\": \"Waiting\", \"idx\": 2, \"val\": 483.0}, {\"col\": \"Expensive\", \"idx\": 3, \"val\": 233.0}, {\"col\": \"Cheap\", \"idx\": 3, \"val\": 75.0}, {\"col\": \"Waiting\", \"idx\": 3, \"val\": 405.0}, {\"col\": \"Expensive\", \"idx\": 4, \"val\": 265.0}, {\"col\": \"Cheap\", \"idx\": 4, \"val\": 67.0}, {\"col\": \"Waiting\", \"idx\": 4, \"val\": 335.0}, {\"col\": \"Expensive\", \"idx\": 5, \"val\": 191.0}, {\"col\": \"Cheap\", \"idx\": 5, \"val\": 64.0}, {\"col\": \"Waiting\", \"idx\": 5, \"val\": 359.0}, {\"col\": \"Expensive\", \"idx\": 6, \"val\": 152.0}, {\"col\": \"Cheap\", \"idx\": 6, \"val\": 54.0}, {\"col\": \"Waiting\", \"idx\": 6, \"val\": 366.0}, {\"col\": \"Expensive\", \"idx\": 7, \"val\": 197.0}, {\"col\": \"Cheap\", \"idx\": 7, \"val\": 33.0}, {\"col\": \"Waiting\", \"idx\": 7, \"val\": 306.0}, {\"col\": \"Expensive\", \"idx\": 8, \"val\": 170.0}, {\"col\": \"Cheap\", \"idx\": 8, \"val\": 55.0}, {\"col\": \"Waiting\", \"idx\": 8, \"val\": 266.0}, {\"col\": \"Expensive\", \"idx\": 9, \"val\": 132.0}, {\"col\": \"Cheap\", \"idx\": 9, \"val\": 52.0}, {\"col\": \"Waiting\", \"idx\": 9, \"val\": 273.0}, {\"col\": \"Expensive\", \"idx\": 10, \"val\": 122.0}, {\"col\": \"Cheap\", \"idx\": 10, \"val\": 32.0}, {\"col\": \"Waiting\", \"idx\": 10, \"val\": 276.0}, {\"col\": \"Expensive\", \"idx\": 11, \"val\": 163.0}, {\"col\": \"Cheap\", \"idx\": 11, \"val\": 34.0}, {\"col\": \"Waiting\", \"idx\": 11, \"val\": 204.0}, {\"col\": \"Expensive\", \"idx\": 12, \"val\": 130.0}, {\"col\": \"Cheap\", \"idx\": 12, \"val\": 38.0}, {\"col\": \"Waiting\", \"idx\": 12, \"val\": 199.0}, {\"col\": \"Expensive\", \"idx\": 13, \"val\": 118.0}, {\"col\": \"Cheap\", \"idx\": 13, \"val\": 35.0}, {\"col\": \"Waiting\", \"idx\": 13, \"val\": 182.0}, {\"col\": \"Expensive\", \"idx\": 14, \"val\": 72.0}, {\"col\": \"Cheap\", \"idx\": 14, \"val\": 34.0}, {\"col\": \"Waiting\", \"idx\": 14, \"val\": 201.0}, {\"col\": \"Expensive\", \"idx\": 15, \"val\": 120.0}, {\"col\": \"Cheap\", \"idx\": 15, \"val\": 19.0}, {\"col\": \"Waiting\", \"idx\": 15, \"val\": 148.0}, {\"col\": \"Expensive\", \"idx\": 16, \"val\": 85.0}, {\"col\": \"Cheap\", \"idx\": 16, \"val\": 38.0}, {\"col\": \"Waiting\", \"idx\": 16, \"val\": 142.0}, {\"col\": \"Expensive\", \"idx\": 17, \"val\": 79.0}, {\"col\": \"Cheap\", \"idx\": 17, \"val\": 21.0}, {\"col\": \"Waiting\", \"idx\": 17, \"val\": 135.0}, {\"col\": \"Expensive\", \"idx\": 18, \"val\": 55.0}, {\"col\": \"Cheap\", \"idx\": 18, \"val\": 20.0}, {\"col\": \"Waiting\", \"idx\": 18, \"val\": 137.0}, {\"col\": \"Expensive\", \"idx\": 19, \"val\": 82.0}, {\"col\": \"Cheap\", \"idx\": 19, \"val\": 18.0}, {\"col\": \"Waiting\", \"idx\": 19, \"val\": 98.0}, {\"col\": \"Expensive\", \"idx\": 20, \"val\": 61.0}, {\"col\": \"Cheap\", \"idx\": 20, \"val\": 20.0}, {\"col\": \"Waiting\", \"idx\": 20, \"val\": 103.0}, {\"col\": \"Expensive\", \"idx\": 21, \"val\": 61.0}, {\"col\": \"Cheap\", \"idx\": 21, \"val\": 17.0}, {\"col\": \"Waiting\", \"idx\": 21, \"val\": 95.0}, {\"col\": \"Expensive\", \"idx\": 22, \"val\": 39.0}, {\"col\": \"Cheap\", \"idx\": 22, \"val\": 13.0}, {\"col\": \"Waiting\", \"idx\": 22, \"val\": 113.0}, {\"col\": \"Expensive\", \"idx\": 23, \"val\": 53.0}, {\"col\": \"Cheap\", \"idx\": 23, \"val\": 10.0}, {\"col\": \"Waiting\", \"idx\": 23, \"val\": 97.0}, {\"col\": \"Expensive\", \"idx\": 24, \"val\": 49.0}, {\"col\": \"Cheap\", \"idx\": 24, \"val\": 19.0}, {\"col\": \"Waiting\", \"idx\": 24, \"val\": 89.0}, {\"col\": \"Expensive\", \"idx\": 25, \"val\": 54.0}, {\"col\": \"Cheap\", \"idx\": 25, \"val\": 15.0}, {\"col\": \"Waiting\", \"idx\": 25, \"val\": 76.0}, {\"col\": \"Expensive\", \"idx\": 26, \"val\": 39.0}, {\"col\": \"Cheap\", \"idx\": 26, \"val\": 10.0}, {\"col\": \"Waiting\", \"idx\": 26, \"val\": 78.0}, {\"col\": \"Expensive\", \"idx\": 27, \"val\": 49.0}, {\"col\": \"Cheap\", \"idx\": 27, \"val\": 11.0}, {\"col\": \"Waiting\", \"idx\": 27, \"val\": 60.0}, {\"col\": \"Expensive\", \"idx\": 28, \"val\": 33.0}, {\"col\": \"Cheap\", \"idx\": 28, \"val\": 15.0}, {\"col\": \"Waiting\", \"idx\": 28, \"val\": 61.0}, {\"col\": \"Expensive\", \"idx\": 29, \"val\": 31.0}, {\"col\": \"Cheap\", \"idx\": 29, \"val\": 9.0}, {\"col\": \"Waiting\", \"idx\": 29, \"val\": 58.0}, {\"col\": \"Expensive\", \"idx\": 30, \"val\": 19.0}, {\"col\": \"Cheap\", \"idx\": 30, \"val\": 7.0}, {\"col\": \"Waiting\", \"idx\": 30, \"val\": 65.0}, {\"col\": \"Expensive\", \"idx\": 31, \"val\": 30.0}, {\"col\": \"Cheap\", \"idx\": 31, \"val\": 8.0}, {\"col\": \"Waiting\", \"idx\": 31, \"val\": 50.0}, {\"col\": \"Expensive\", \"idx\": 32, \"val\": 30.0}, {\"col\": \"Cheap\", \"idx\": 32, \"val\": 9.0}, {\"col\": \"Waiting\", \"idx\": 32, \"val\": 46.0}, {\"col\": \"Expensive\", \"idx\": 33, \"val\": 29.0}, {\"col\": \"Cheap\", \"idx\": 33, \"val\": 12.0}, {\"col\": \"Waiting\", \"idx\": 33, \"val\": 40.0}, {\"col\": \"Expensive\", \"idx\": 34, \"val\": 9.0}, {\"col\": \"Cheap\", \"idx\": 34, \"val\": 14.0}, {\"col\": \"Waiting\", \"idx\": 34, \"val\": 52.0}, {\"col\": \"Expensive\", \"idx\": 35, \"val\": 23.0}, {\"col\": \"Cheap\", \"idx\": 35, \"val\": 6.0}, {\"col\": \"Waiting\", \"idx\": 35, \"val\": 45.0}, {\"col\": \"Expensive\", \"idx\": 36, \"val\": 24.0}, {\"col\": \"Cheap\", \"idx\": 36, \"val\": 4.0}, {\"col\": \"Waiting\", \"idx\": 36, \"val\": 38.0}, {\"col\": \"Expensive\", \"idx\": 37, \"val\": 25.0}, {\"col\": \"Cheap\", \"idx\": 37, \"val\": 6.0}, {\"col\": \"Waiting\", \"idx\": 37, \"val\": 31.0}, {\"col\": \"Expensive\", \"idx\": 38, \"val\": 10.0}, {\"col\": \"Cheap\", \"idx\": 38, \"val\": 6.0}, {\"col\": \"Waiting\", \"idx\": 38, \"val\": 38.0}, {\"col\": \"Expensive\", \"idx\": 39, \"val\": 18.0}, {\"col\": \"Cheap\", \"idx\": 39, \"val\": 2.0}, {\"col\": \"Waiting\", \"idx\": 39, \"val\": 30.0}, {\"col\": \"Expensive\", \"idx\": 40, \"val\": 20.0}, {\"col\": \"Cheap\", \"idx\": 40, \"val\": 2.0}, {\"col\": \"Waiting\", \"idx\": 40, \"val\": 23.0}, {\"col\": \"Expensive\", \"idx\": 41, \"val\": 15.0}, {\"col\": \"Cheap\", \"idx\": 41, \"val\": 8.0}, {\"col\": \"Waiting\", \"idx\": 41, \"val\": 19.0}, {\"col\": \"Expensive\", \"idx\": 42, \"val\": 10.0}, {\"col\": \"Cheap\", \"idx\": 42, \"val\": 3.0}, {\"col\": \"Waiting\", \"idx\": 42, \"val\": 25.0}, {\"col\": \"Expensive\", \"idx\": 43, \"val\": 17.0}, {\"col\": \"Cheap\", \"idx\": 43, \"val\": 6.0}, {\"col\": \"Waiting\", \"idx\": 43, \"val\": 14.0}, {\"col\": \"Expensive\", \"idx\": 44, \"val\": 8.0}, {\"col\": \"Cheap\", \"idx\": 44, \"val\": 5.0}, {\"col\": \"Waiting\", \"idx\": 44, \"val\": 18.0}, {\"col\": \"Expensive\", \"idx\": 45, \"val\": 8.0}, {\"col\": \"Cheap\", \"idx\": 45, \"val\": 5.0}, {\"col\": \"Waiting\", \"idx\": 45, \"val\": 16.0}, {\"col\": \"Expensive\", \"idx\": 46, \"val\": 6.0}, {\"col\": \"Cheap\", \"idx\": 46, \"val\": 5.0}, {\"col\": \"Waiting\", \"idx\": 46, \"val\": 18.0}, {\"col\": \"Expensive\", \"idx\": 47, \"val\": 12.0}, {\"col\": \"Cheap\", \"idx\": 47, \"val\": 2.0}, {\"col\": \"Waiting\", \"idx\": 47, \"val\": 13.0}, {\"col\": \"Expensive\", \"idx\": 48, \"val\": 9.0}, {\"col\": \"Cheap\", \"idx\": 48, \"val\": 3.0}, {\"col\": \"Waiting\", \"idx\": 48, \"val\": 13.0}, {\"col\": \"Expensive\", \"idx\": 49, \"val\": 6.0}, {\"col\": \"Cheap\", \"idx\": 49, \"val\": 3.0}, {\"col\": \"Waiting\", \"idx\": 49, \"val\": 13.0}, {\"col\": \"Expensive\", \"idx\": 50, \"val\": 4.0}, {\"col\": \"Cheap\", \"idx\": 50, \"val\": 1.0}, {\"col\": \"Waiting\", \"idx\": 50, \"val\": 17.0}, {\"col\": \"Expensive\", \"idx\": 51, \"val\": 8.0}, {\"col\": \"Cheap\", \"idx\": 51, \"val\": 0.0}, {\"col\": \"Waiting\", \"idx\": 51, \"val\": 11.0}, {\"col\": \"Expensive\", \"idx\": 52, \"val\": 5.0}, {\"col\": \"Cheap\", \"idx\": 52, \"val\": 1.0}, {\"col\": \"Waiting\", \"idx\": 52, \"val\": 12.0}, {\"col\": \"Expensive\", \"idx\": 53, \"val\": 7.0}, {\"col\": \"Cheap\", \"idx\": 53, \"val\": 0.0}, {\"col\": \"Waiting\", \"idx\": 53, \"val\": 8.0}, {\"col\": \"Expensive\", \"idx\": 54, \"val\": 4.0}, {\"col\": \"Cheap\", \"idx\": 54, \"val\": 0.0}, {\"col\": \"Waiting\", \"idx\": 54, \"val\": 11.0}, {\"col\": \"Expensive\", \"idx\": 55, \"val\": 8.0}, {\"col\": \"Cheap\", \"idx\": 55, \"val\": 1.0}, {\"col\": \"Waiting\", \"idx\": 55, \"val\": 6.0}, {\"col\": \"Expensive\", \"idx\": 56, \"val\": 4.0}, {\"col\": \"Cheap\", \"idx\": 56, \"val\": 1.0}, {\"col\": \"Waiting\", \"idx\": 56, \"val\": 7.0}, {\"col\": \"Expensive\", \"idx\": 57, \"val\": 4.0}, {\"col\": \"Cheap\", \"idx\": 57, \"val\": 0.0}, {\"col\": \"Waiting\", \"idx\": 57, \"val\": 4.0}, {\"col\": \"Expensive\", \"idx\": 58, \"val\": 0.0}, {\"col\": \"Cheap\", \"idx\": 58, \"val\": 1.0}, {\"col\": \"Waiting\", \"idx\": 58, \"val\": 7.0}, {\"col\": \"Expensive\", \"idx\": 59, \"val\": 3.0}, {\"col\": \"Cheap\", \"idx\": 59, \"val\": 0.0}, {\"col\": \"Waiting\", \"idx\": 59, \"val\": 4.0}, {\"col\": \"Expensive\", \"idx\": 60, \"val\": 1.0}, {\"col\": \"Cheap\", \"idx\": 60, \"val\": 0.0}, {\"col\": \"Waiting\", \"idx\": 60, \"val\": 6.0}, {\"col\": \"Expensive\", \"idx\": 61, \"val\": 4.0}, {\"col\": \"Cheap\", \"idx\": 61, \"val\": 0.0}, {\"col\": \"Waiting\", \"idx\": 61, \"val\": 2.0}, {\"col\": \"Expensive\", \"idx\": 62, \"val\": 1.0}, {\"col\": \"Cheap\", \"idx\": 62, \"val\": 1.0}, {\"col\": \"Waiting\", \"idx\": 62, \"val\": 3.0}, {\"col\": \"Expensive\", \"idx\": 63, \"val\": 2.0}, {\"col\": \"Cheap\", \"idx\": 63, \"val\": 1.0}, {\"col\": \"Waiting\", \"idx\": 63, \"val\": 2.0}, {\"col\": \"Expensive\", \"idx\": 64, \"val\": 0.0}, {\"col\": \"Cheap\", \"idx\": 64, \"val\": 0.0}, {\"col\": \"Waiting\", \"idx\": 64, \"val\": 4.0}, {\"col\": \"Expensive\", \"idx\": 65, \"val\": 2.0}, {\"col\": \"Cheap\", \"idx\": 65, \"val\": 0.0}, {\"col\": \"Waiting\", \"idx\": 65, \"val\": 2.0}, {\"col\": \"Expensive\", \"idx\": 66, \"val\": 1.0}, {\"col\": \"Cheap\", \"idx\": 66, \"val\": 0.0}, {\"col\": \"Waiting\", \"idx\": 66, \"val\": 3.0}, {\"col\": \"Expensive\", \"idx\": 67, \"val\": 2.0}, {\"col\": \"Cheap\", \"idx\": 67, \"val\": 0.0}, {\"col\": \"Waiting\", \"idx\": 67, \"val\": 2.0}, {\"col\": \"Expensive\", \"idx\": 68, \"val\": 1.0}, {\"col\": \"Cheap\", \"idx\": 68, \"val\": 1.0}, {\"col\": \"Waiting\", \"idx\": 68, \"val\": 2.0}, {\"col\": \"Expensive\", \"idx\": 69, \"val\": 3.0}, {\"col\": \"Cheap\", \"idx\": 69, \"val\": 0.0}, {\"col\": \"Waiting\", \"idx\": 69, \"val\": 1.0}, {\"col\": \"Expensive\", \"idx\": 70, \"val\": 0.0}, {\"col\": \"Cheap\", \"idx\": 70, \"val\": 0.0}, {\"col\": \"Waiting\", \"idx\": 70, \"val\": 1.0}, {\"col\": \"Expensive\", \"idx\": 71, \"val\": 1.0}, {\"col\": \"Cheap\", \"idx\": 71, \"val\": 0.0}, {\"col\": \"Waiting\", \"idx\": 71, \"val\": 0.0}, {\"col\": \"Expensive\", \"idx\": 72, \"val\": 0.0}, {\"col\": \"Cheap\", \"idx\": 72, \"val\": 0.0}, {\"col\": \"Waiting\", \"idx\": 72, \"val\": 0.0}]}, {\"name\": \"stats\", \"source\": \"table\", \"transform\": [{\"keys\": [\"data.idx\"], \"type\": \"facet\"}, {\"type\": \"stats\", \"value\": \"data.val\"}]}], \"height\": 300, \"legends\": [{\"fill\": \"color\", \"offset\": 0, \"properties\": {}, \"title\": \"Edge\"}], \"marks\": [{\"from\": {\"data\": \"table\", \"transform\": [{\"keys\": [\"data.col\"], \"type\": \"facet\"}, {\"height\": \"data.val\", \"point\": \"data.idx\", \"type\": \"stack\"}]}, \"marks\": [{\"properties\": {\"enter\": {\"fill\": {\"field\": \"data.col\", \"scale\": \"color\"}, \"interpolate\": {\"value\": \"monotone\"}, \"opacity\": {\"value\": 0.8}, \"x\": {\"field\": \"data.idx\", \"scale\": \"x\"}, \"y\": {\"field\": \"y\", \"scale\": \"y\"}, \"y2\": {\"field\": \"y2\", \"scale\": \"y\"}}, \"hover\": {\"opacity\": {\"value\": 1}, \"size\": {\"value\": 200}}, \"update\": {\"opacity\": {\"value\": 0.8}, \"size\": {\"value\": 100}}}, \"type\": \"area\"}], \"type\": \"group\"}], \"padding\": \"auto\", \"scales\": [{\"domain\": {\"data\": \"table\", \"field\": \"data.idx\"}, \"name\": \"x\", \"range\": \"width\", \"type\": \"linear\", \"zero\": false}, {\"domain\": {\"data\": \"stats\", \"field\": \"sum\"}, \"name\": \"y\", \"nice\": true, \"range\": \"height\"}, {\"domain\": {\"data\": \"table\", \"field\": \"data.col\"}, \"name\": \"color\", \"range\": [\"#ff0000\", \"#50aa50\", \"#eeeeee\"], \"type\": \"ordinal\"}], \"width\": 400}, function(chart) {\n",
        "         chart({el: \"#vis62f59d212a144d609c899e1407b42d40\"}).update();\n",
        "       });\n",
        "     };\n",
        "     _do_plot();\n",
        "   })();\n",
        "</script>\n",
        "<style>.vega canvas {width: 100%;}</style>\n",
        "        "
       ],
       "metadata": {},
       "output_type": "display_data",
       "text": [
        "<vincent.charts.Area at 0x10874a190>"
       ]
      },
      {
       "html": [
        "<h3>Performance stats</h3>"
       ],
       "metadata": {},
       "output_type": "display_data",
       "text": [
        "<IPython.core.display.HTML at 0x1089dc1d0>"
       ]
      },
      {
       "output_type": "stream",
       "stream": "stdout",
       "text": [
        "Stats normalized by equivalent vanilla random walk stats:\n",
        "\n",
        "Average death round (waiting/vanilla): 2.05716666667\n",
        "Total duration in rounds (waiting/vanilla): 1.71428571429\n",
        "Cost (waiting/vanilla): 0.731087470449\n"
       ]
      }
     ],
     "prompt_number": 170
    },
    {
     "cell_type": "code",
     "collapsed": false,
     "input": [],
     "language": "python",
     "metadata": {},
     "outputs": []
    }
   ],
   "metadata": {}
  }
 ]
}