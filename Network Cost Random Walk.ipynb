{
 "metadata": {
  "name": "",
  "signature": "sha256:2d8412da5b978c4afb339fa628a707c3d5728ea2edf41b96533fb9ccf3e7ce04"
 },
 "nbformat": 3,
 "nbformat_minor": 0,
 "worksheets": [
  {
   "cells": [
    {
     "cell_type": "code",
     "collapsed": false,
     "input": [
      "import networkx as nx\n",
      "import numpy as np\n",
      "from random import randrange, choice, random\n",
      "import math"
     ],
     "language": "python",
     "metadata": {},
     "outputs": [],
     "prompt_number": 308
    },
    {
     "cell_type": "code",
     "collapsed": false,
     "input": [
      "import json\n",
      "from networkx.readwrite import json_graph"
     ],
     "language": "python",
     "metadata": {},
     "outputs": [],
     "prompt_number": 309
    },
    {
     "cell_type": "heading",
     "level": 1,
     "metadata": {},
     "source": [
      "Generate graph"
     ]
    },
    {
     "cell_type": "code",
     "collapsed": false,
     "input": [
      "n = 10\n",
      "m = 2\n",
      "p = 0.3"
     ],
     "language": "python",
     "metadata": {},
     "outputs": [],
     "prompt_number": 310
    },
    {
     "cell_type": "code",
     "collapsed": true,
     "input": [
      "G = nx.barbell_graph(4,0)"
     ],
     "language": "python",
     "metadata": {},
     "outputs": [],
     "prompt_number": 311
    },
    {
     "cell_type": "code",
     "collapsed": false,
     "input": [
      "G = nx.scale_free_graph(n)"
     ],
     "language": "python",
     "metadata": {},
     "outputs": [],
     "prompt_number": 312
    },
    {
     "cell_type": "code",
     "collapsed": true,
     "input": [
      "G = nx.powerlaw_cluster_graph(n=n, m=m, p=p)"
     ],
     "language": "python",
     "metadata": {},
     "outputs": [],
     "prompt_number": 313
    },
    {
     "cell_type": "code",
     "collapsed": true,
     "input": [
      "G = nx.cycle_graph(5)"
     ],
     "language": "python",
     "metadata": {},
     "outputs": [],
     "prompt_number": 314
    },
    {
     "cell_type": "heading",
     "level": 3,
     "metadata": {},
     "source": [
      "Save and Plot Graph"
     ]
    },
    {
     "cell_type": "code",
     "collapsed": false,
     "input": [
      "d = json_graph.node_link_data(G)\n",
      "for node in d['nodes']:\n",
      "    node['name']=node['id']\n",
      "    node['value']=G.degree(node['id'])\n",
      "\n",
      "d['adjacency'] = json_graph.adjacency_data(G)['adjacency']\n",
      "json.dump(d, open('graph.json','w'))"
     ],
     "language": "python",
     "metadata": {},
     "outputs": [],
     "prompt_number": 353
    },
    {
     "cell_type": "code",
     "collapsed": false,
     "input": [
      "%%html\n",
      "<div id=\"d3-example\"></div>\n",
      "<style>\n",
      ".node {stroke: #fff; stroke-width: 1.5px;}\n",
      "marker {stroke: #999;}\n",
      ".link {stroke: #999; stroke-opacity: .3;}\n",
      "</style>\n",
      "<script src=\"force.js\"></script>"
     ],
     "language": "python",
     "metadata": {},
     "outputs": [
      {
       "html": [
        "<div id=\"d3-example\"></div>\n",
        "<style>\n",
        ".node {stroke: #fff; stroke-width: 1.5px;}\n",
        "marker {stroke: #999;}\n",
        ".link {stroke: #999; stroke-opacity: .3;}\n",
        "</style>\n",
        "<script src=\"force.js\"></script>"
       ],
       "metadata": {},
       "output_type": "display_data",
       "text": [
        "<IPython.core.display.HTML at 0x109237d50>"
       ]
      }
     ],
     "prompt_number": 354
    },
    {
     "cell_type": "heading",
     "level": 3,
     "metadata": {},
     "source": [
      "Convert to DiGraph, if necessary"
     ]
    },
    {
     "cell_type": "code",
     "collapsed": false,
     "input": [
      "if G.is_multigraph():\n",
      "    if G.is_directed():\n",
      "        Gm = G.copy()\n",
      "        G = nx.DiGraph()\n",
      "        for (u,v) in Gm.edges_iter():\n",
      "            G.add_edge(u,v)"
     ],
     "language": "python",
     "metadata": {},
     "outputs": [],
     "prompt_number": 317
    },
    {
     "cell_type": "heading",
     "level": 1,
     "metadata": {},
     "source": [
      "Simulate Random Walks"
     ]
    },
    {
     "cell_type": "code",
     "collapsed": true,
     "input": [
      "frogs = 10000"
     ],
     "language": "python",
     "metadata": {},
     "outputs": [],
     "prompt_number": 422
    },
    {
     "cell_type": "code",
     "collapsed": false,
     "input": [
      "# Life expectancy L. L should be the mean of a geometric distribution\n",
      "L = int(math.ceil(10*math.log(G.order())))"
     ],
     "language": "python",
     "metadata": {},
     "outputs": [],
     "prompt_number": 423
    },
    {
     "cell_type": "code",
     "collapsed": false,
     "input": [
      "# P_die is the probability that a frog dies at any given time\n",
      "P_die = 1/float(L)"
     ],
     "language": "python",
     "metadata": {},
     "outputs": [],
     "prompt_number": 424
    },
    {
     "cell_type": "code",
     "collapsed": false,
     "input": [
      "T = 10"
     ],
     "language": "python",
     "metadata": {},
     "outputs": [],
     "prompt_number": 425
    },
    {
     "cell_type": "heading",
     "level": 4,
     "metadata": {},
     "source": [
      "Count Visits and Deaths"
     ]
    },
    {
     "cell_type": "code",
     "collapsed": false,
     "input": [
      "frog_locations = np.random.randint(0, high = G.number_of_nodes(), size = frogs)\n",
      "for node in G.nodes_iter():\n",
      "    G.node[node]['visits'] = 0\n",
      "    G.node[node]['deaths'] = 0\n",
      "# Initialize edge traversal counters\n",
      "for e in G.edges_iter():\n",
      "    G.edge[e[0]][e[1]]['tripsvanilla'] = 0\n",
      "#    G.edge[e[0]][e[1]]['tripssmart'] = 0\n",
      "#    G.edge[e[0]][e[1]]['frogswaiting'] = 0\n",
      "    G.edge[e[0]][e[1]]['timeline'] = {}"
     ],
     "language": "python",
     "metadata": {},
     "outputs": [],
     "prompt_number": 426
    },
    {
     "cell_type": "code",
     "collapsed": false,
     "input": [
      "frogs_left = frogs\n",
      "time = 0\n",
      "total_visits = 0\n",
      "death_times_sum = 0\n",
      "while frogs_left:\n",
      "    time +=1\n",
      "    for f in range(frogs):\n",
      "        curloc = frog_locations[f]\n",
      "        if curloc == -1:\n",
      "            continue\n",
      "            \n",
      "        if random() < P_die:\n",
      "            G.node[curloc]['deaths'] += 1\n",
      "            death_times_sum += time\n",
      "            frog_locations[f] = -1\n",
      "            frogs_left -= 1\n",
      "            continue\n",
      "        \n",
      "        total_visits +=1\n",
      "        \n",
      "        if len(G[curloc])>0:\n",
      "            frog_locations[f] = choice(G[curloc].keys())\n",
      "            G.edge[curloc][frog_locations[f]]['tripsvanilla'] += 1\n",
      "            loc = frog_locations[f]\n",
      "\n",
      "            try:\n",
      "                G.edge[curloc][loc]['timeline'][time] += 1\n",
      "            except:\n",
      "                G.edge[curloc][loc]['timeline'][time] = 1\n",
      "            if not G.is_directed():\n",
      "                try:\n",
      "                    G.edge[loc][curloc]['timeline'][time] += 1\n",
      "                except:\n",
      "                    G.edge[loc][curloc]['timeline'][time] = 1\n",
      "        else:\n",
      "            frog_locations[f] = np.random.randint(0, high = G.number_of_nodes())\n",
      "            \n",
      "            \n",
      "        G.node[frog_locations[f]]['visits'] +=1\n",
      "            "
     ],
     "language": "python",
     "metadata": {},
     "outputs": [],
     "prompt_number": 427
    },
    {
     "cell_type": "code",
     "collapsed": false,
     "input": [
      "print \"Average death time:\", death_times_sum / frogs\n",
      "print \"Expected death time:\", L\n",
      "print \"Nominal death time STD:\", math.sqrt((1-P_die)/P_die**2)"
     ],
     "language": "python",
     "metadata": {},
     "outputs": [
      {
       "output_type": "stream",
       "stream": "stdout",
       "text": [
        "Average death time: 16\n",
        "Expected death time: 17\n",
        "Nominal death time STD: 16.4924225025\n"
       ]
      }
     ],
     "prompt_number": 428
    },
    {
     "cell_type": "code",
     "collapsed": false,
     "input": [
      "visits = [G.node[node]['visits'] for node in G.nodes_iter() ]\n",
      "norm_visits = np.array(visits)/float(total_visits)\n",
      "norm_visits"
     ],
     "language": "python",
     "metadata": {},
     "outputs": [
      {
       "metadata": {},
       "output_type": "pyout",
       "prompt_number": 429,
       "text": [
        "array([ 0.19944263,  0.19966331,  0.20020555,  0.20038209,  0.20030643])"
       ]
      }
     ],
     "prompt_number": 429
    },
    {
     "cell_type": "code",
     "collapsed": false,
     "input": [
      "deaths = [G.node[node]['deaths'] for node in G.nodes_iter() ]\n",
      "norm_deaths = np.array(deaths)/float(frogs)\n",
      "norm_deaths"
     ],
     "language": "python",
     "metadata": {},
     "outputs": [
      {
       "metadata": {},
       "output_type": "pyout",
       "prompt_number": 430,
       "text": [
        "array([ 0.2036,  0.2015,  0.2021,  0.2006,  0.1922])"
       ]
      }
     ],
     "prompt_number": 430
    },
    {
     "cell_type": "code",
     "collapsed": false,
     "input": [
      "if G.is_directed():\n",
      "    degrees = [ G.in_degree(node) for node in G.nodes_iter() ]\n",
      "    norm_degrees = np.array(degrees)/float(G.size())\n",
      "else:\n",
      "    degrees = [ G.degree(node) for node in G.nodes_iter() ]\n",
      "    norm_degrees = np.array(degrees)/float(2*G.size())\n",
      "\n",
      "norm_degrees"
     ],
     "language": "python",
     "metadata": {},
     "outputs": [
      {
       "metadata": {},
       "output_type": "pyout",
       "prompt_number": 431,
       "text": [
        "array([ 0.2,  0.2,  0.2,  0.2,  0.2])"
       ]
      }
     ],
     "prompt_number": 431
    },
    {
     "cell_type": "code",
     "collapsed": false,
     "input": [
      "import vincent\n",
      "vincent.initialize_notebook()"
     ],
     "language": "python",
     "metadata": {},
     "outputs": [
      {
       "html": [
        "\n",
        "           <script>\n",
        "               \n",
        "                function vct_load_lib(url, callback){\n",
        "                      if(typeof d3 !== 'undefined' &&\n",
        "                         url === 'http://d3js.org/d3.v3.min.js'){\n",
        "                        callback()\n",
        "                      }\n",
        "                      var s = document.createElement('script');\n",
        "                      s.src = url;\n",
        "                      s.async = true;\n",
        "                      s.onreadystatechange = s.onload = callback;\n",
        "                      s.onerror = function(){\n",
        "                        console.warn(\"failed to load library \" + url);\n",
        "                        };\n",
        "                      document.getElementsByTagName(\"head\")[0].appendChild(s);\n",
        "                };\n",
        "                var vincent_event = new CustomEvent(\n",
        "                  \"vincent_libs_loaded\",\n",
        "                  {bubbles: true, cancelable: true}\n",
        "                );\n",
        "                \n",
        "               function load_all_libs(){\n",
        "                  console.log('Loading Vincent libs...')\n",
        "                  vct_load_lib('http://d3js.org/d3.v3.min.js', function(){\n",
        "                  vct_load_lib('http://d3js.org/d3.geo.projection.v0.min.js', function(){\n",
        "                  vct_load_lib('http://wrobstory.github.io/d3-cloud/d3.layout.cloud.js', function(){\n",
        "                  vct_load_lib('http://wrobstory.github.io/vega/vega.v1.3.3.js', function(){\n",
        "                  window.dispatchEvent(vincent_event);\n",
        "                  });\n",
        "                  });\n",
        "                  });\n",
        "                  });\n",
        "               };\n",
        "               if(typeof define === \"function\" && define.amd){\n",
        "                    if (window['d3'] === undefined ||\n",
        "                        window['topojson'] === undefined){\n",
        "                        require.config(\n",
        "                            {paths: {\n",
        "                              d3: 'http://d3js.org/d3.v3.min',\n",
        "                              topojson: 'http://d3js.org/topojson.v1.min'\n",
        "                              }\n",
        "                            }\n",
        "                          );\n",
        "                        require([\"d3\"], function(d3){\n",
        "                            console.log('Loading Vincent from require.js...')\n",
        "                            window.d3 = d3;\n",
        "                            require([\"topojson\"], function(topojson){\n",
        "                                window.topojson = topojson;\n",
        "                                load_all_libs();\n",
        "                            });\n",
        "                        });\n",
        "                    } else {\n",
        "                        load_all_libs();\n",
        "                    };\n",
        "               }else{\n",
        "                    console.log('Require.js not found, loading manually...')\n",
        "                    load_all_libs();\n",
        "               };\n",
        "\n",
        "           </script>"
       ],
       "metadata": {},
       "output_type": "display_data",
       "text": [
        "<IPython.core.display.HTML at 0x10941dbd0>"
       ]
      }
     ],
     "prompt_number": 432
    },
    {
     "cell_type": "code",
     "collapsed": false,
     "input": [
      "multi_iter1 = {'index':range(G.order()), 'Visits':norm_visits, 'Deaths':norm_deaths, 'Degree':norm_degrees}"
     ],
     "language": "python",
     "metadata": {},
     "outputs": [],
     "prompt_number": 433
    },
    {
     "cell_type": "code",
     "collapsed": false,
     "input": [
      "line = vincent.Scatter(multi_iter1, iter_idx='index')\n",
      "line.axis_titles(x='Vertex', y='Juice')\n",
      "line.legend(title='Results')\n",
      "line.width = 400\n",
      "line.height = 300\n",
      "line.marks[0].marks[0].properties.enter.opacity = vincent.ValueRef(value=1)"
     ],
     "language": "python",
     "metadata": {},
     "outputs": [],
     "prompt_number": 434
    },
    {
     "cell_type": "code",
     "collapsed": false,
     "input": [
      "line.marks[0].marks[0].properties.update = vincent.PropertySet()\n",
      "line.marks[0].marks[0].properties.update.size = vincent.ValueRef(value=100)\n",
      "line.marks[0].marks[0].properties.hover = vincent.PropertySet()\n",
      "line.marks[0].marks[0].properties.hover.size = vincent.ValueRef(value=200)"
     ],
     "language": "python",
     "metadata": {},
     "outputs": [],
     "prompt_number": 435
    },
    {
     "cell_type": "code",
     "collapsed": false,
     "input": [
      "line.marks[0].marks[0].properties.update.size = vincent.ValueRef(value=100)\n",
      "line.marks[0].marks[0].properties.hover = vincent.PropertySet()\n",
      "line.marks[0].marks[0].properties.hover.size = vincent.ValueRef(value=200)"
     ],
     "language": "python",
     "metadata": {},
     "outputs": [],
     "prompt_number": 436
    },
    {
     "cell_type": "code",
     "collapsed": false,
     "input": [
      "line.scales['shape'] = vincent.Scale(name='shape', type='ordinal',\n",
      "                      domain=vincent.DataRef(data='table', field='data.col'),\n",
      "                      range=[\"square\", \"circle\", \"triangle-down\", \"triangle-up\"])"
     ],
     "language": "python",
     "metadata": {},
     "outputs": [],
     "prompt_number": 437
    },
    {
     "cell_type": "code",
     "collapsed": false,
     "input": [
      "line.marks[0].marks[0].properties.enter.shape = vincent.ValueRef(scale=\"shape\", field=\"data.col\")\n",
      "line.legends[0].shape = \"shape\""
     ],
     "language": "python",
     "metadata": {},
     "outputs": [],
     "prompt_number": 438
    },
    {
     "cell_type": "code",
     "collapsed": false,
     "input": [
      "line"
     ],
     "language": "python",
     "metadata": {},
     "outputs": [
      {
       "html": [
        "<div id=\"visd6ee217b7cd242b6a8cb75907f8a173b\"></div>\n",
        "<script>\n",
        "   ( function() {\n",
        "     var _do_plot = function() {\n",
        "       if (typeof vg === 'undefined') {\n",
        "         window.addEventListener('vincent_libs_loaded', _do_plot)\n",
        "         return;\n",
        "       }\n",
        "       vg.parse.spec({\"axes\": [{\"scale\": \"x\", \"title\": \"Vertex\", \"type\": \"x\"}, {\"scale\": \"y\", \"title\": \"Juice\", \"type\": \"y\"}], \"data\": [{\"name\": \"table\", \"values\": [{\"col\": \"Deaths\", \"idx\": 0, \"val\": 0.2036}, {\"col\": \"Deaths\", \"idx\": 1, \"val\": 0.20150000000000001}, {\"col\": \"Deaths\", \"idx\": 2, \"val\": 0.2021}, {\"col\": \"Deaths\", \"idx\": 3, \"val\": 0.2006}, {\"col\": \"Deaths\", \"idx\": 4, \"val\": 0.19220000000000001}, {\"col\": \"Degree\", \"idx\": 0, \"val\": 0.20000000000000001}, {\"col\": \"Degree\", \"idx\": 1, \"val\": 0.20000000000000001}, {\"col\": \"Degree\", \"idx\": 2, \"val\": 0.20000000000000001}, {\"col\": \"Degree\", \"idx\": 3, \"val\": 0.20000000000000001}, {\"col\": \"Degree\", \"idx\": 4, \"val\": 0.20000000000000001}, {\"col\": \"Visits\", \"idx\": 0, \"val\": 0.1994426299794454}, {\"col\": \"Visits\", \"idx\": 1, \"val\": 0.19966330815500435}, {\"col\": \"Visits\", \"idx\": 2, \"val\": 0.20020554595780632}, {\"col\": \"Visits\", \"idx\": 3, \"val\": 0.20038208849825348}, {\"col\": \"Visits\", \"idx\": 4, \"val\": 0.20030642740949042}]}], \"height\": 300, \"legends\": [{\"fill\": \"color\", \"offset\": 0, \"properties\": {}, \"shape\": \"shape\", \"title\": \"Results\"}], \"marks\": [{\"from\": {\"data\": \"table\", \"transform\": [{\"keys\": [\"data.col\"], \"type\": \"facet\"}]}, \"marks\": [{\"properties\": {\"enter\": {\"fill\": {\"field\": \"data.col\", \"scale\": \"color\"}, \"opacity\": {\"value\": 1}, \"shape\": {\"field\": \"data.col\", \"scale\": \"shape\"}, \"size\": {\"value\": 100}, \"x\": {\"field\": \"data.idx\", \"scale\": \"x\"}, \"y\": {\"field\": \"data.val\", \"scale\": \"y\"}}, \"hover\": {\"size\": {\"value\": 200}}, \"update\": {\"size\": {\"value\": 100}}}, \"type\": \"symbol\"}], \"type\": \"group\"}], \"padding\": \"auto\", \"scales\": [{\"domain\": {\"data\": \"table\", \"field\": \"data.idx\"}, \"name\": \"x\", \"range\": \"width\", \"type\": \"linear\"}, {\"domain\": {\"data\": \"table\", \"field\": \"data.val\"}, \"name\": \"y\", \"nice\": true, \"range\": \"height\"}, {\"domain\": {\"data\": \"table\", \"field\": \"data.col\"}, \"name\": \"color\", \"range\": \"category20\", \"type\": \"ordinal\"}, {\"domain\": {\"data\": \"table\", \"field\": \"data.col\"}, \"name\": \"shape\", \"range\": [\"square\", \"circle\", \"triangle-down\", \"triangle-up\"], \"type\": \"ordinal\"}], \"width\": 400}, function(chart) {\n",
        "         chart({el: \"#visd6ee217b7cd242b6a8cb75907f8a173b\"}).update();\n",
        "       });\n",
        "     };\n",
        "     _do_plot();\n",
        "   })();\n",
        "</script>\n",
        "<style>.vega canvas {width: 100%;}</style>\n",
        "        "
       ],
       "metadata": {},
       "output_type": "pyout",
       "prompt_number": 439,
       "text": [
        "<vincent.charts.Scatter at 0x10941d1d0>"
       ]
      }
     ],
     "prompt_number": 439
    },
    {
     "cell_type": "code",
     "collapsed": false,
     "input": [
      "import pandas as pd"
     ],
     "language": "python",
     "metadata": {},
     "outputs": [],
     "prompt_number": 440
    },
    {
     "cell_type": "code",
     "collapsed": false,
     "input": [
      "def edgetokey(e):\n",
      "    (u,v) = e\n",
      "    return '(' + str(u) + ', ' + str(v) + ')'"
     ],
     "language": "python",
     "metadata": {},
     "outputs": [],
     "prompt_number": 441
    },
    {
     "cell_type": "code",
     "collapsed": false,
     "input": [
      "data = []\n",
      "index = []\n",
      "for e in G.edges_iter():\n",
      "    key = edgetokey((e[0], e[1]))\n",
      "    data.append(pd.Series(G.edge[e[0]][e[1]]['timeline']))\n",
      "    index.append(key)\n",
      "\n",
      "df = pd.DataFrame(data, index=index).T"
     ],
     "language": "python",
     "metadata": {},
     "outputs": [],
     "prompt_number": 442
    },
    {
     "cell_type": "code",
     "collapsed": false,
     "input": [
      "#line = vincent.Scatter(data, iter_idx='index')\n",
      "line = vincent.StackedArea(df)\n",
      "line.axis_titles(x='Time', y='# frogs')\n",
      "#line.colors(brew = 'Spectral')\n",
      "#line.axes([0, 40, 0, 2])\n",
      "line.legend(title='Edge')\n",
      "line.width = 400\n",
      "line.height = 300\n",
      "line.marks[0].marks[0].properties.enter.opacity = vincent.ValueRef(value=0.5)"
     ],
     "language": "python",
     "metadata": {},
     "outputs": [],
     "prompt_number": 443
    },
    {
     "cell_type": "code",
     "collapsed": false,
     "input": [
      "line.marks[0].marks[0].properties.update = vincent.PropertySet()\n",
      "line.marks[0].marks[0].properties.update.size = vincent.ValueRef(value=100)\n",
      "line.marks[0].marks[0].properties.hover = vincent.PropertySet()\n",
      "line.marks[0].marks[0].properties.hover.size = vincent.ValueRef(value=200)\n",
      "\n",
      "line.marks[0].marks[0].properties.update.opacity = vincent.ValueRef(value=0.7)\n",
      "line.marks[0].marks[0].properties.hover.opacity = vincent.ValueRef(value=1)"
     ],
     "language": "python",
     "metadata": {},
     "outputs": [],
     "prompt_number": 444
    },
    {
     "cell_type": "code",
     "collapsed": false,
     "input": [
      "line"
     ],
     "language": "python",
     "metadata": {},
     "outputs": [
      {
       "html": [
        "<div id=\"vis9a7930bfcc9545b28d7242b14cba599f\"></div>\n",
        "<script>\n",
        "   ( function() {\n",
        "     var _do_plot = function() {\n",
        "       if (typeof vg === 'undefined') {\n",
        "         window.addEventListener('vincent_libs_loaded', _do_plot)\n",
        "         return;\n",
        "       }\n",
        "       vg.parse.spec({\"axes\": [{\"scale\": \"x\", \"title\": \"Time\", \"type\": \"x\"}, {\"scale\": \"y\", \"title\": \"# frogs\", \"type\": \"y\"}], \"data\": [{\"name\": \"table\", \"values\": [{\"col\": \"(0, 1)\", \"idx\": 1, \"val\": 3916.0}, {\"col\": \"(0, 4)\", \"idx\": 1, \"val\": 3838.0}, {\"col\": \"(1, 2)\", \"idx\": 1, \"val\": 3688.0}, {\"col\": \"(2, 3)\", \"idx\": 1, \"val\": 3686.0}, {\"col\": \"(3, 4)\", \"idx\": 1, \"val\": 3732.0}, {\"col\": \"(0, 1)\", \"idx\": 2, \"val\": 3550.0}, {\"col\": \"(0, 4)\", \"idx\": 2, \"val\": 3610.0}, {\"col\": \"(1, 2)\", \"idx\": 2, \"val\": 3650.0}, {\"col\": \"(2, 3)\", \"idx\": 2, \"val\": 3404.0}, {\"col\": \"(3, 4)\", \"idx\": 2, \"val\": 3542.0}, {\"col\": \"(0, 1)\", \"idx\": 3, \"val\": 3390.0}, {\"col\": \"(0, 4)\", \"idx\": 3, \"val\": 3380.0}, {\"col\": \"(1, 2)\", \"idx\": 3, \"val\": 3356.0}, {\"col\": \"(2, 3)\", \"idx\": 3, \"val\": 3334.0}, {\"col\": \"(3, 4)\", \"idx\": 3, \"val\": 3270.0}, {\"col\": \"(0, 1)\", \"idx\": 4, \"val\": 3234.0}, {\"col\": \"(0, 4)\", \"idx\": 4, \"val\": 3150.0}, {\"col\": \"(1, 2)\", \"idx\": 4, \"val\": 3208.0}, {\"col\": \"(2, 3)\", \"idx\": 4, \"val\": 3066.0}, {\"col\": \"(3, 4)\", \"idx\": 4, \"val\": 3084.0}, {\"col\": \"(0, 1)\", \"idx\": 5, \"val\": 2942.0}, {\"col\": \"(0, 4)\", \"idx\": 5, \"val\": 3004.0}, {\"col\": \"(1, 2)\", \"idx\": 5, \"val\": 2992.0}, {\"col\": \"(2, 3)\", \"idx\": 5, \"val\": 2898.0}, {\"col\": \"(3, 4)\", \"idx\": 5, \"val\": 2956.0}, {\"col\": \"(0, 1)\", \"idx\": 6, \"val\": 2718.0}, {\"col\": \"(0, 4)\", \"idx\": 6, \"val\": 2794.0}, {\"col\": \"(1, 2)\", \"idx\": 6, \"val\": 2772.0}, {\"col\": \"(2, 3)\", \"idx\": 6, \"val\": 2802.0}, {\"col\": \"(3, 4)\", \"idx\": 6, \"val\": 2796.0}, {\"col\": \"(0, 1)\", \"idx\": 7, \"val\": 2580.0}, {\"col\": \"(0, 4)\", \"idx\": 7, \"val\": 2606.0}, {\"col\": \"(1, 2)\", \"idx\": 7, \"val\": 2644.0}, {\"col\": \"(2, 3)\", \"idx\": 7, \"val\": 2426.0}, {\"col\": \"(3, 4)\", \"idx\": 7, \"val\": 2732.0}, {\"col\": \"(0, 1)\", \"idx\": 8, \"val\": 2398.0}, {\"col\": \"(0, 4)\", \"idx\": 8, \"val\": 2474.0}, {\"col\": \"(1, 2)\", \"idx\": 8, \"val\": 2424.0}, {\"col\": \"(2, 3)\", \"idx\": 8, \"val\": 2378.0}, {\"col\": \"(3, 4)\", \"idx\": 8, \"val\": 2470.0}, {\"col\": \"(0, 1)\", \"idx\": 9, \"val\": 2204.0}, {\"col\": \"(0, 4)\", \"idx\": 9, \"val\": 2214.0}, {\"col\": \"(1, 2)\", \"idx\": 9, \"val\": 2322.0}, {\"col\": \"(2, 3)\", \"idx\": 9, \"val\": 2312.0}, {\"col\": \"(3, 4)\", \"idx\": 9, \"val\": 2332.0}, {\"col\": \"(0, 1)\", \"idx\": 10, \"val\": 2032.0}, {\"col\": \"(0, 4)\", \"idx\": 10, \"val\": 2050.0}, {\"col\": \"(1, 2)\", \"idx\": 10, \"val\": 2238.0}, {\"col\": \"(2, 3)\", \"idx\": 10, \"val\": 2192.0}, {\"col\": \"(3, 4)\", \"idx\": 10, \"val\": 2142.0}, {\"col\": \"(0, 1)\", \"idx\": 11, \"val\": 1930.0}, {\"col\": \"(0, 4)\", \"idx\": 11, \"val\": 1970.0}, {\"col\": \"(1, 2)\", \"idx\": 11, \"val\": 2022.0}, {\"col\": \"(2, 3)\", \"idx\": 11, \"val\": 2112.0}, {\"col\": \"(3, 4)\", \"idx\": 11, \"val\": 2000.0}, {\"col\": \"(0, 1)\", \"idx\": 12, \"val\": 1766.0}, {\"col\": \"(0, 4)\", \"idx\": 12, \"val\": 1940.0}, {\"col\": \"(1, 2)\", \"idx\": 12, \"val\": 1930.0}, {\"col\": \"(2, 3)\", \"idx\": 12, \"val\": 1928.0}, {\"col\": \"(3, 4)\", \"idx\": 12, \"val\": 1892.0}, {\"col\": \"(0, 1)\", \"idx\": 13, \"val\": 1846.0}, {\"col\": \"(0, 4)\", \"idx\": 13, \"val\": 1732.0}, {\"col\": \"(1, 2)\", \"idx\": 13, \"val\": 1760.0}, {\"col\": \"(2, 3)\", \"idx\": 13, \"val\": 1728.0}, {\"col\": \"(3, 4)\", \"idx\": 13, \"val\": 1826.0}, {\"col\": \"(0, 1)\", \"idx\": 14, \"val\": 1668.0}, {\"col\": \"(0, 4)\", \"idx\": 14, \"val\": 1626.0}, {\"col\": \"(1, 2)\", \"idx\": 14, \"val\": 1640.0}, {\"col\": \"(2, 3)\", \"idx\": 14, \"val\": 1648.0}, {\"col\": \"(3, 4)\", \"idx\": 14, \"val\": 1684.0}, {\"col\": \"(0, 1)\", \"idx\": 15, \"val\": 1528.0}, {\"col\": \"(0, 4)\", \"idx\": 15, \"val\": 1528.0}, {\"col\": \"(1, 2)\", \"idx\": 15, \"val\": 1582.0}, {\"col\": \"(2, 3)\", \"idx\": 15, \"val\": 1474.0}, {\"col\": \"(3, 4)\", \"idx\": 15, \"val\": 1668.0}, {\"col\": \"(0, 1)\", \"idx\": 16, \"val\": 1492.0}, {\"col\": \"(0, 4)\", \"idx\": 16, \"val\": 1420.0}, {\"col\": \"(1, 2)\", \"idx\": 16, \"val\": 1452.0}, {\"col\": \"(2, 3)\", \"idx\": 16, \"val\": 1422.0}, {\"col\": \"(3, 4)\", \"idx\": 16, \"val\": 1524.0}, {\"col\": \"(0, 1)\", \"idx\": 17, \"val\": 1384.0}, {\"col\": \"(0, 4)\", \"idx\": 17, \"val\": 1408.0}, {\"col\": \"(1, 2)\", \"idx\": 17, \"val\": 1322.0}, {\"col\": \"(2, 3)\", \"idx\": 17, \"val\": 1436.0}, {\"col\": \"(3, 4)\", \"idx\": 17, \"val\": 1336.0}, {\"col\": \"(0, 1)\", \"idx\": 18, \"val\": 1356.0}, {\"col\": \"(0, 4)\", \"idx\": 18, \"val\": 1250.0}, {\"col\": \"(1, 2)\", \"idx\": 18, \"val\": 1248.0}, {\"col\": \"(2, 3)\", \"idx\": 18, \"val\": 1276.0}, {\"col\": \"(3, 4)\", \"idx\": 18, \"val\": 1396.0}, {\"col\": \"(0, 1)\", \"idx\": 19, \"val\": 1194.0}, {\"col\": \"(0, 4)\", \"idx\": 19, \"val\": 1260.0}, {\"col\": \"(1, 2)\", \"idx\": 19, \"val\": 1228.0}, {\"col\": \"(2, 3)\", \"idx\": 19, \"val\": 1222.0}, {\"col\": \"(3, 4)\", \"idx\": 19, \"val\": 1238.0}, {\"col\": \"(0, 1)\", \"idx\": 20, \"val\": 1128.0}, {\"col\": \"(0, 4)\", \"idx\": 20, \"val\": 1198.0}, {\"col\": \"(1, 2)\", \"idx\": 20, \"val\": 1116.0}, {\"col\": \"(2, 3)\", \"idx\": 20, \"val\": 1212.0}, {\"col\": \"(3, 4)\", \"idx\": 20, \"val\": 1134.0}, {\"col\": \"(0, 1)\", \"idx\": 21, \"val\": 1074.0}, {\"col\": \"(0, 4)\", \"idx\": 21, \"val\": 1060.0}, {\"col\": \"(1, 2)\", \"idx\": 21, \"val\": 1044.0}, {\"col\": \"(2, 3)\", \"idx\": 21, \"val\": 1074.0}, {\"col\": \"(3, 4)\", \"idx\": 21, \"val\": 1196.0}, {\"col\": \"(0, 1)\", \"idx\": 22, \"val\": 1044.0}, {\"col\": \"(0, 4)\", \"idx\": 22, \"val\": 1070.0}, {\"col\": \"(1, 2)\", \"idx\": 22, \"val\": 976.0}, {\"col\": \"(2, 3)\", \"idx\": 22, \"val\": 996.0}, {\"col\": \"(3, 4)\", \"idx\": 22, \"val\": 1070.0}, {\"col\": \"(0, 1)\", \"idx\": 23, \"val\": 970.0}, {\"col\": \"(0, 4)\", \"idx\": 23, \"val\": 1050.0}, {\"col\": \"(1, 2)\", \"idx\": 23, \"val\": 984.0}, {\"col\": \"(2, 3)\", \"idx\": 23, \"val\": 930.0}, {\"col\": \"(3, 4)\", \"idx\": 23, \"val\": 938.0}, {\"col\": \"(0, 1)\", \"idx\": 24, \"val\": 948.0}, {\"col\": \"(0, 4)\", \"idx\": 24, \"val\": 892.0}, {\"col\": \"(1, 2)\", \"idx\": 24, \"val\": 898.0}, {\"col\": \"(2, 3)\", \"idx\": 24, \"val\": 928.0}, {\"col\": \"(3, 4)\", \"idx\": 24, \"val\": 928.0}, {\"col\": \"(0, 1)\", \"idx\": 25, \"val\": 822.0}, {\"col\": \"(0, 4)\", \"idx\": 25, \"val\": 840.0}, {\"col\": \"(1, 2)\", \"idx\": 25, \"val\": 840.0}, {\"col\": \"(2, 3)\", \"idx\": 25, \"val\": 916.0}, {\"col\": \"(3, 4)\", \"idx\": 25, \"val\": 886.0}, {\"col\": \"(0, 1)\", \"idx\": 26, \"val\": 748.0}, {\"col\": \"(0, 4)\", \"idx\": 26, \"val\": 826.0}, {\"col\": \"(1, 2)\", \"idx\": 26, \"val\": 788.0}, {\"col\": \"(2, 3)\", \"idx\": 26, \"val\": 880.0}, {\"col\": \"(3, 4)\", \"idx\": 26, \"val\": 804.0}, {\"col\": \"(0, 1)\", \"idx\": 27, \"val\": 742.0}, {\"col\": \"(0, 4)\", \"idx\": 27, \"val\": 782.0}, {\"col\": \"(1, 2)\", \"idx\": 27, \"val\": 738.0}, {\"col\": \"(2, 3)\", \"idx\": 27, \"val\": 826.0}, {\"col\": \"(3, 4)\", \"idx\": 27, \"val\": 736.0}, {\"col\": \"(0, 1)\", \"idx\": 28, \"val\": 714.0}, {\"col\": \"(0, 4)\", \"idx\": 28, \"val\": 758.0}, {\"col\": \"(1, 2)\", \"idx\": 28, \"val\": 752.0}, {\"col\": \"(2, 3)\", \"idx\": 28, \"val\": 728.0}, {\"col\": \"(3, 4)\", \"idx\": 28, \"val\": 678.0}, {\"col\": \"(0, 1)\", \"idx\": 29, \"val\": 698.0}, {\"col\": \"(0, 4)\", \"idx\": 29, \"val\": 652.0}, {\"col\": \"(1, 2)\", \"idx\": 29, \"val\": 740.0}, {\"col\": \"(2, 3)\", \"idx\": 29, \"val\": 704.0}, {\"col\": \"(3, 4)\", \"idx\": 29, \"val\": 628.0}, {\"col\": \"(0, 1)\", \"idx\": 30, \"val\": 626.0}, {\"col\": \"(0, 4)\", \"idx\": 30, \"val\": 608.0}, {\"col\": \"(1, 2)\", \"idx\": 30, \"val\": 686.0}, {\"col\": \"(2, 3)\", \"idx\": 30, \"val\": 676.0}, {\"col\": \"(3, 4)\", \"idx\": 30, \"val\": 622.0}, {\"col\": \"(0, 1)\", \"idx\": 31, \"val\": 608.0}, {\"col\": \"(0, 4)\", \"idx\": 31, \"val\": 578.0}, {\"col\": \"(1, 2)\", \"idx\": 31, \"val\": 596.0}, {\"col\": \"(2, 3)\", \"idx\": 31, \"val\": 662.0}, {\"col\": \"(3, 4)\", \"idx\": 31, \"val\": 600.0}, {\"col\": \"(0, 1)\", \"idx\": 32, \"val\": 574.0}, {\"col\": \"(0, 4)\", \"idx\": 32, \"val\": 574.0}, {\"col\": \"(1, 2)\", \"idx\": 32, \"val\": 570.0}, {\"col\": \"(2, 3)\", \"idx\": 32, \"val\": 584.0}, {\"col\": \"(3, 4)\", \"idx\": 32, \"val\": 590.0}, {\"col\": \"(0, 1)\", \"idx\": 33, \"val\": 524.0}, {\"col\": \"(0, 4)\", \"idx\": 33, \"val\": 556.0}, {\"col\": \"(1, 2)\", \"idx\": 33, \"val\": 536.0}, {\"col\": \"(2, 3)\", \"idx\": 33, \"val\": 528.0}, {\"col\": \"(3, 4)\", \"idx\": 33, \"val\": 584.0}, {\"col\": \"(0, 1)\", \"idx\": 34, \"val\": 482.0}, {\"col\": \"(0, 4)\", \"idx\": 34, \"val\": 536.0}, {\"col\": \"(1, 2)\", \"idx\": 34, \"val\": 498.0}, {\"col\": \"(2, 3)\", \"idx\": 34, \"val\": 538.0}, {\"col\": \"(3, 4)\", \"idx\": 34, \"val\": 540.0}, {\"col\": \"(0, 1)\", \"idx\": 35, \"val\": 442.0}, {\"col\": \"(0, 4)\", \"idx\": 35, \"val\": 496.0}, {\"col\": \"(1, 2)\", \"idx\": 35, \"val\": 504.0}, {\"col\": \"(2, 3)\", \"idx\": 35, \"val\": 514.0}, {\"col\": \"(3, 4)\", \"idx\": 35, \"val\": 502.0}, {\"col\": \"(0, 1)\", \"idx\": 36, \"val\": 438.0}, {\"col\": \"(0, 4)\", \"idx\": 36, \"val\": 432.0}, {\"col\": \"(1, 2)\", \"idx\": 36, \"val\": 518.0}, {\"col\": \"(2, 3)\", \"idx\": 36, \"val\": 446.0}, {\"col\": \"(3, 4)\", \"idx\": 36, \"val\": 480.0}, {\"col\": \"(0, 1)\", \"idx\": 37, \"val\": 392.0}, {\"col\": \"(0, 4)\", \"idx\": 37, \"val\": 444.0}, {\"col\": \"(1, 2)\", \"idx\": 37, \"val\": 466.0}, {\"col\": \"(2, 3)\", \"idx\": 37, \"val\": 464.0}, {\"col\": \"(3, 4)\", \"idx\": 37, \"val\": 406.0}, {\"col\": \"(0, 1)\", \"idx\": 38, \"val\": 382.0}, {\"col\": \"(0, 4)\", \"idx\": 38, \"val\": 394.0}, {\"col\": \"(1, 2)\", \"idx\": 38, \"val\": 406.0}, {\"col\": \"(2, 3)\", \"idx\": 38, \"val\": 462.0}, {\"col\": \"(3, 4)\", \"idx\": 38, \"val\": 412.0}, {\"col\": \"(0, 1)\", \"idx\": 39, \"val\": 388.0}, {\"col\": \"(0, 4)\", \"idx\": 39, \"val\": 384.0}, {\"col\": \"(1, 2)\", \"idx\": 39, \"val\": 348.0}, {\"col\": \"(2, 3)\", \"idx\": 39, \"val\": 396.0}, {\"col\": \"(3, 4)\", \"idx\": 39, \"val\": 404.0}, {\"col\": \"(0, 1)\", \"idx\": 40, \"val\": 378.0}, {\"col\": \"(0, 4)\", \"idx\": 40, \"val\": 356.0}, {\"col\": \"(1, 2)\", \"idx\": 40, \"val\": 324.0}, {\"col\": \"(2, 3)\", \"idx\": 40, \"val\": 388.0}, {\"col\": \"(3, 4)\", \"idx\": 40, \"val\": 360.0}, {\"col\": \"(0, 1)\", \"idx\": 41, \"val\": 354.0}, {\"col\": \"(0, 4)\", \"idx\": 41, \"val\": 336.0}, {\"col\": \"(1, 2)\", \"idx\": 41, \"val\": 318.0}, {\"col\": \"(2, 3)\", \"idx\": 41, \"val\": 360.0}, {\"col\": \"(3, 4)\", \"idx\": 41, \"val\": 320.0}, {\"col\": \"(0, 1)\", \"idx\": 42, \"val\": 332.0}, {\"col\": \"(0, 4)\", \"idx\": 42, \"val\": 330.0}, {\"col\": \"(1, 2)\", \"idx\": 42, \"val\": 300.0}, {\"col\": \"(2, 3)\", \"idx\": 42, \"val\": 312.0}, {\"col\": \"(3, 4)\", \"idx\": 42, \"val\": 328.0}, {\"col\": \"(0, 1)\", \"idx\": 43, \"val\": 268.0}, {\"col\": \"(0, 4)\", \"idx\": 43, \"val\": 334.0}, {\"col\": \"(1, 2)\", \"idx\": 43, \"val\": 298.0}, {\"col\": \"(2, 3)\", \"idx\": 43, \"val\": 320.0}, {\"col\": \"(3, 4)\", \"idx\": 43, \"val\": 286.0}, {\"col\": \"(0, 1)\", \"idx\": 44, \"val\": 246.0}, {\"col\": \"(0, 4)\", \"idx\": 44, \"val\": 292.0}, {\"col\": \"(1, 2)\", \"idx\": 44, \"val\": 296.0}, {\"col\": \"(2, 3)\", \"idx\": 44, \"val\": 298.0}, {\"col\": \"(3, 4)\", \"idx\": 44, \"val\": 282.0}, {\"col\": \"(0, 1)\", \"idx\": 45, \"val\": 258.0}, {\"col\": \"(0, 4)\", \"idx\": 45, \"val\": 262.0}, {\"col\": \"(1, 2)\", \"idx\": 45, \"val\": 254.0}, {\"col\": \"(2, 3)\", \"idx\": 45, \"val\": 294.0}, {\"col\": \"(3, 4)\", \"idx\": 45, \"val\": 270.0}, {\"col\": \"(0, 1)\", \"idx\": 46, \"val\": 242.0}, {\"col\": \"(0, 4)\", \"idx\": 46, \"val\": 268.0}, {\"col\": \"(1, 2)\", \"idx\": 46, \"val\": 238.0}, {\"col\": \"(2, 3)\", \"idx\": 46, \"val\": 268.0}, {\"col\": \"(3, 4)\", \"idx\": 46, \"val\": 258.0}, {\"col\": \"(0, 1)\", \"idx\": 47, \"val\": 250.0}, {\"col\": \"(0, 4)\", \"idx\": 47, \"val\": 234.0}, {\"col\": \"(1, 2)\", \"idx\": 47, \"val\": 222.0}, {\"col\": \"(2, 3)\", \"idx\": 47, \"val\": 240.0}, {\"col\": \"(3, 4)\", \"idx\": 47, \"val\": 242.0}, {\"col\": \"(0, 1)\", \"idx\": 48, \"val\": 210.0}, {\"col\": \"(0, 4)\", \"idx\": 48, \"val\": 244.0}, {\"col\": \"(1, 2)\", \"idx\": 48, \"val\": 228.0}, {\"col\": \"(2, 3)\", \"idx\": 48, \"val\": 232.0}, {\"col\": \"(3, 4)\", \"idx\": 48, \"val\": 194.0}, {\"col\": \"(0, 1)\", \"idx\": 49, \"val\": 198.0}, {\"col\": \"(0, 4)\", \"idx\": 49, \"val\": 218.0}, {\"col\": \"(1, 2)\", \"idx\": 49, \"val\": 226.0}, {\"col\": \"(2, 3)\", \"idx\": 49, \"val\": 218.0}, {\"col\": \"(3, 4)\", \"idx\": 49, \"val\": 194.0}, {\"col\": \"(0, 1)\", \"idx\": 50, \"val\": 198.0}, {\"col\": \"(0, 4)\", \"idx\": 50, \"val\": 200.0}, {\"col\": \"(1, 2)\", \"idx\": 50, \"val\": 196.0}, {\"col\": \"(2, 3)\", \"idx\": 50, \"val\": 190.0}, {\"col\": \"(3, 4)\", \"idx\": 50, \"val\": 206.0}, {\"col\": \"(0, 1)\", \"idx\": 51, \"val\": 182.0}, {\"col\": \"(0, 4)\", \"idx\": 51, \"val\": 190.0}, {\"col\": \"(1, 2)\", \"idx\": 51, \"val\": 194.0}, {\"col\": \"(2, 3)\", \"idx\": 51, \"val\": 192.0}, {\"col\": \"(3, 4)\", \"idx\": 51, \"val\": 170.0}, {\"col\": \"(0, 1)\", \"idx\": 52, \"val\": 214.0}, {\"col\": \"(0, 4)\", \"idx\": 52, \"val\": 140.0}, {\"col\": \"(1, 2)\", \"idx\": 52, \"val\": 172.0}, {\"col\": \"(2, 3)\", \"idx\": 52, \"val\": 186.0}, {\"col\": \"(3, 4)\", \"idx\": 52, \"val\": 166.0}, {\"col\": \"(0, 1)\", \"idx\": 53, \"val\": 188.0}, {\"col\": \"(0, 4)\", \"idx\": 53, \"val\": 152.0}, {\"col\": \"(1, 2)\", \"idx\": 53, \"val\": 172.0}, {\"col\": \"(2, 3)\", \"idx\": 53, \"val\": 166.0}, {\"col\": \"(3, 4)\", \"idx\": 53, \"val\": 148.0}, {\"col\": \"(0, 1)\", \"idx\": 54, \"val\": 168.0}, {\"col\": \"(0, 4)\", \"idx\": 54, \"val\": 154.0}, {\"col\": \"(1, 2)\", \"idx\": 54, \"val\": 172.0}, {\"col\": \"(2, 3)\", \"idx\": 54, \"val\": 146.0}, {\"col\": \"(3, 4)\", \"idx\": 54, \"val\": 138.0}, {\"col\": \"(0, 1)\", \"idx\": 55, \"val\": 158.0}, {\"col\": \"(0, 4)\", \"idx\": 55, \"val\": 128.0}, {\"col\": \"(1, 2)\", \"idx\": 55, \"val\": 154.0}, {\"col\": \"(2, 3)\", \"idx\": 55, \"val\": 142.0}, {\"col\": \"(3, 4)\", \"idx\": 55, \"val\": 148.0}, {\"col\": \"(0, 1)\", \"idx\": 56, \"val\": 168.0}, {\"col\": \"(0, 4)\", \"idx\": 56, \"val\": 114.0}, {\"col\": \"(1, 2)\", \"idx\": 56, \"val\": 124.0}, {\"col\": \"(2, 3)\", \"idx\": 56, \"val\": 136.0}, {\"col\": \"(3, 4)\", \"idx\": 56, \"val\": 130.0}, {\"col\": \"(0, 1)\", \"idx\": 57, \"val\": 114.0}, {\"col\": \"(0, 4)\", \"idx\": 57, \"val\": 120.0}, {\"col\": \"(1, 2)\", \"idx\": 57, \"val\": 172.0}, {\"col\": \"(2, 3)\", \"idx\": 57, \"val\": 114.0}, {\"col\": \"(3, 4)\", \"idx\": 57, \"val\": 114.0}, {\"col\": \"(0, 1)\", \"idx\": 58, \"val\": 134.0}, {\"col\": \"(0, 4)\", \"idx\": 58, \"val\": 88.0}, {\"col\": \"(1, 2)\", \"idx\": 58, \"val\": 142.0}, {\"col\": \"(2, 3)\", \"idx\": 58, \"val\": 126.0}, {\"col\": \"(3, 4)\", \"idx\": 58, \"val\": 108.0}, {\"col\": \"(0, 1)\", \"idx\": 59, \"val\": 132.0}, {\"col\": \"(0, 4)\", \"idx\": 59, \"val\": 98.0}, {\"col\": \"(1, 2)\", \"idx\": 59, \"val\": 134.0}, {\"col\": \"(2, 3)\", \"idx\": 59, \"val\": 90.0}, {\"col\": \"(3, 4)\", \"idx\": 59, \"val\": 110.0}, {\"col\": \"(0, 1)\", \"idx\": 60, \"val\": 96.0}, {\"col\": \"(0, 4)\", \"idx\": 60, \"val\": 122.0}, {\"col\": \"(1, 2)\", \"idx\": 60, \"val\": 134.0}, {\"col\": \"(2, 3)\", \"idx\": 60, \"val\": 88.0}, {\"col\": \"(3, 4)\", \"idx\": 60, \"val\": 98.0}, {\"col\": \"(0, 1)\", \"idx\": 61, \"val\": 96.0}, {\"col\": \"(0, 4)\", \"idx\": 61, \"val\": 106.0}, {\"col\": \"(1, 2)\", \"idx\": 61, \"val\": 104.0}, {\"col\": \"(2, 3)\", \"idx\": 61, \"val\": 106.0}, {\"col\": \"(3, 4)\", \"idx\": 61, \"val\": 94.0}, {\"col\": \"(0, 1)\", \"idx\": 62, \"val\": 98.0}, {\"col\": \"(0, 4)\", \"idx\": 62, \"val\": 84.0}, {\"col\": \"(1, 2)\", \"idx\": 62, \"val\": 96.0}, {\"col\": \"(2, 3)\", \"idx\": 62, \"val\": 100.0}, {\"col\": \"(3, 4)\", \"idx\": 62, \"val\": 104.0}, {\"col\": \"(0, 1)\", \"idx\": 63, \"val\": 72.0}, {\"col\": \"(0, 4)\", \"idx\": 63, \"val\": 106.0}, {\"col\": \"(1, 2)\", \"idx\": 63, \"val\": 88.0}, {\"col\": \"(2, 3)\", \"idx\": 63, \"val\": 106.0}, {\"col\": \"(3, 4)\", \"idx\": 63, \"val\": 74.0}, {\"col\": \"(0, 1)\", \"idx\": 64, \"val\": 72.0}, {\"col\": \"(0, 4)\", \"idx\": 64, \"val\": 88.0}, {\"col\": \"(1, 2)\", \"idx\": 64, \"val\": 92.0}, {\"col\": \"(2, 3)\", \"idx\": 64, \"val\": 76.0}, {\"col\": \"(3, 4)\", \"idx\": 64, \"val\": 100.0}, {\"col\": \"(0, 1)\", \"idx\": 65, \"val\": 110.0}, {\"col\": \"(0, 4)\", \"idx\": 65, \"val\": 56.0}, {\"col\": \"(1, 2)\", \"idx\": 65, \"val\": 62.0}, {\"col\": \"(2, 3)\", \"idx\": 65, \"val\": 86.0}, {\"col\": \"(3, 4)\", \"idx\": 65, \"val\": 90.0}, {\"col\": \"(0, 1)\", \"idx\": 66, \"val\": 96.0}, {\"col\": \"(0, 4)\", \"idx\": 66, \"val\": 80.0}, {\"col\": \"(1, 2)\", \"idx\": 66, \"val\": 56.0}, {\"col\": \"(2, 3)\", \"idx\": 66, \"val\": 86.0}, {\"col\": \"(3, 4)\", \"idx\": 66, \"val\": 74.0}, {\"col\": \"(0, 1)\", \"idx\": 67, \"val\": 68.0}, {\"col\": \"(0, 4)\", \"idx\": 67, \"val\": 92.0}, {\"col\": \"(1, 2)\", \"idx\": 67, \"val\": 64.0}, {\"col\": \"(2, 3)\", \"idx\": 67, \"val\": 80.0}, {\"col\": \"(3, 4)\", \"idx\": 67, \"val\": 64.0}, {\"col\": \"(0, 1)\", \"idx\": 68, \"val\": 76.0}, {\"col\": \"(0, 4)\", \"idx\": 68, \"val\": 72.0}, {\"col\": \"(1, 2)\", \"idx\": 68, \"val\": 60.0}, {\"col\": \"(2, 3)\", \"idx\": 68, \"val\": 66.0}, {\"col\": \"(3, 4)\", \"idx\": 68, \"val\": 74.0}, {\"col\": \"(0, 1)\", \"idx\": 69, \"val\": 62.0}, {\"col\": \"(0, 4)\", \"idx\": 69, \"val\": 78.0}, {\"col\": \"(1, 2)\", \"idx\": 69, \"val\": 54.0}, {\"col\": \"(2, 3)\", \"idx\": 69, \"val\": 72.0}, {\"col\": \"(3, 4)\", \"idx\": 69, \"val\": 60.0}, {\"col\": \"(0, 1)\", \"idx\": 70, \"val\": 58.0}, {\"col\": \"(0, 4)\", \"idx\": 70, \"val\": 84.0}, {\"col\": \"(1, 2)\", \"idx\": 70, \"val\": 46.0}, {\"col\": \"(2, 3)\", \"idx\": 70, \"val\": 68.0}, {\"col\": \"(3, 4)\", \"idx\": 70, \"val\": 56.0}, {\"col\": \"(0, 1)\", \"idx\": 71, \"val\": 58.0}, {\"col\": \"(0, 4)\", \"idx\": 71, \"val\": 78.0}, {\"col\": \"(1, 2)\", \"idx\": 71, \"val\": 44.0}, {\"col\": \"(2, 3)\", \"idx\": 71, \"val\": 58.0}, {\"col\": \"(3, 4)\", \"idx\": 71, \"val\": 46.0}, {\"col\": \"(0, 1)\", \"idx\": 72, \"val\": 62.0}, {\"col\": \"(0, 4)\", \"idx\": 72, \"val\": 48.0}, {\"col\": \"(1, 2)\", \"idx\": 72, \"val\": 60.0}, {\"col\": \"(2, 3)\", \"idx\": 72, \"val\": 44.0}, {\"col\": \"(3, 4)\", \"idx\": 72, \"val\": 50.0}, {\"col\": \"(0, 1)\", \"idx\": 73, \"val\": 60.0}, {\"col\": \"(0, 4)\", \"idx\": 73, \"val\": 44.0}, {\"col\": \"(1, 2)\", \"idx\": 73, \"val\": 56.0}, {\"col\": \"(2, 3)\", \"idx\": 73, \"val\": 46.0}, {\"col\": \"(3, 4)\", \"idx\": 73, \"val\": 42.0}, {\"col\": \"(0, 1)\", \"idx\": 74, \"val\": 54.0}, {\"col\": \"(0, 4)\", \"idx\": 74, \"val\": 64.0}, {\"col\": \"(1, 2)\", \"idx\": 74, \"val\": 42.0}, {\"col\": \"(2, 3)\", \"idx\": 74, \"val\": 42.0}, {\"col\": \"(3, 4)\", \"idx\": 74, \"val\": 38.0}, {\"col\": \"(0, 1)\", \"idx\": 75, \"val\": 66.0}, {\"col\": \"(0, 4)\", \"idx\": 75, \"val\": 48.0}, {\"col\": \"(1, 2)\", \"idx\": 75, \"val\": 24.0}, {\"col\": \"(2, 3)\", \"idx\": 75, \"val\": 44.0}, {\"col\": \"(3, 4)\", \"idx\": 75, \"val\": 40.0}, {\"col\": \"(0, 1)\", \"idx\": 76, \"val\": 38.0}, {\"col\": \"(0, 4)\", \"idx\": 76, \"val\": 60.0}, {\"col\": \"(1, 2)\", \"idx\": 76, \"val\": 38.0}, {\"col\": \"(2, 3)\", \"idx\": 76, \"val\": 40.0}, {\"col\": \"(3, 4)\", \"idx\": 76, \"val\": 30.0}, {\"col\": \"(0, 1)\", \"idx\": 77, \"val\": 34.0}, {\"col\": \"(0, 4)\", \"idx\": 77, \"val\": 44.0}, {\"col\": \"(1, 2)\", \"idx\": 77, \"val\": 48.0}, {\"col\": \"(2, 3)\", \"idx\": 77, \"val\": 24.0}, {\"col\": \"(3, 4)\", \"idx\": 77, \"val\": 40.0}, {\"col\": \"(0, 1)\", \"idx\": 78, \"val\": 48.0}, {\"col\": \"(0, 4)\", \"idx\": 78, \"val\": 36.0}, {\"col\": \"(1, 2)\", \"idx\": 78, \"val\": 28.0}, {\"col\": \"(2, 3)\", \"idx\": 78, \"val\": 48.0}, {\"col\": \"(3, 4)\", \"idx\": 78, \"val\": 18.0}, {\"col\": \"(0, 1)\", \"idx\": 79, \"val\": 44.0}, {\"col\": \"(0, 4)\", \"idx\": 79, \"val\": 24.0}, {\"col\": \"(1, 2)\", \"idx\": 79, \"val\": 46.0}, {\"col\": \"(2, 3)\", \"idx\": 79, \"val\": 30.0}, {\"col\": \"(3, 4)\", \"idx\": 79, \"val\": 24.0}, {\"col\": \"(0, 1)\", \"idx\": 80, \"val\": 32.0}, {\"col\": \"(0, 4)\", \"idx\": 80, \"val\": 24.0}, {\"col\": \"(1, 2)\", \"idx\": 80, \"val\": 52.0}, {\"col\": \"(2, 3)\", \"idx\": 80, \"val\": 22.0}, {\"col\": \"(3, 4)\", \"idx\": 80, \"val\": 28.0}, {\"col\": \"(0, 1)\", \"idx\": 81, \"val\": 18.0}, {\"col\": \"(0, 4)\", \"idx\": 81, \"val\": 40.0}, {\"col\": \"(1, 2)\", \"idx\": 81, \"val\": 34.0}, {\"col\": \"(2, 3)\", \"idx\": 81, \"val\": 26.0}, {\"col\": \"(3, 4)\", \"idx\": 81, \"val\": 26.0}, {\"col\": \"(0, 1)\", \"idx\": 82, \"val\": 24.0}, {\"col\": \"(0, 4)\", \"idx\": 82, \"val\": 32.0}, {\"col\": \"(1, 2)\", \"idx\": 82, \"val\": 20.0}, {\"col\": \"(2, 3)\", \"idx\": 82, \"val\": 22.0}, {\"col\": \"(3, 4)\", \"idx\": 82, \"val\": 38.0}, {\"col\": \"(0, 1)\", \"idx\": 83, \"val\": 24.0}, {\"col\": \"(0, 4)\", \"idx\": 83, \"val\": 26.0}, {\"col\": \"(1, 2)\", \"idx\": 83, \"val\": 26.0}, {\"col\": \"(2, 3)\", \"idx\": 83, \"val\": 26.0}, {\"col\": \"(3, 4)\", \"idx\": 83, \"val\": 28.0}, {\"col\": \"(0, 1)\", \"idx\": 84, \"val\": 16.0}, {\"col\": \"(0, 4)\", \"idx\": 84, \"val\": 36.0}, {\"col\": \"(1, 2)\", \"idx\": 84, \"val\": 26.0}, {\"col\": \"(2, 3)\", \"idx\": 84, \"val\": 30.0}, {\"col\": \"(3, 4)\", \"idx\": 84, \"val\": 12.0}, {\"col\": \"(0, 1)\", \"idx\": 85, \"val\": 22.0}, {\"col\": \"(0, 4)\", \"idx\": 85, \"val\": 26.0}, {\"col\": \"(1, 2)\", \"idx\": 85, \"val\": 24.0}, {\"col\": \"(2, 3)\", \"idx\": 85, \"val\": 20.0}, {\"col\": \"(3, 4)\", \"idx\": 85, \"val\": 14.0}, {\"col\": \"(0, 1)\", \"idx\": 86, \"val\": 30.0}, {\"col\": \"(0, 4)\", \"idx\": 86, \"val\": 16.0}, {\"col\": \"(1, 2)\", \"idx\": 86, \"val\": 22.0}, {\"col\": \"(2, 3)\", \"idx\": 86, \"val\": 12.0}, {\"col\": \"(3, 4)\", \"idx\": 86, \"val\": 22.0}, {\"col\": \"(0, 1)\", \"idx\": 87, \"val\": 20.0}, {\"col\": \"(0, 4)\", \"idx\": 87, \"val\": 20.0}, {\"col\": \"(1, 2)\", \"idx\": 87, \"val\": 18.0}, {\"col\": \"(2, 3)\", \"idx\": 87, \"val\": 14.0}, {\"col\": \"(3, 4)\", \"idx\": 87, \"val\": 18.0}, {\"col\": \"(0, 1)\", \"idx\": 88, \"val\": 18.0}, {\"col\": \"(0, 4)\", \"idx\": 88, \"val\": 8.0}, {\"col\": \"(1, 2)\", \"idx\": 88, \"val\": 22.0}, {\"col\": \"(2, 3)\", \"idx\": 88, \"val\": 8.0}, {\"col\": \"(3, 4)\", \"idx\": 88, \"val\": 24.0}, {\"col\": \"(0, 1)\", \"idx\": 89, \"val\": 20.0}, {\"col\": \"(0, 4)\", \"idx\": 89, \"val\": 8.0}, {\"col\": \"(1, 2)\", \"idx\": 89, \"val\": 16.0}, {\"col\": \"(2, 3)\", \"idx\": 89, \"val\": 12.0}, {\"col\": \"(3, 4)\", \"idx\": 89, \"val\": 20.0}, {\"col\": \"(0, 1)\", \"idx\": 90, \"val\": 12.0}, {\"col\": \"(0, 4)\", \"idx\": 90, \"val\": 18.0}, {\"col\": \"(1, 2)\", \"idx\": 90, \"val\": 14.0}, {\"col\": \"(2, 3)\", \"idx\": 90, \"val\": 14.0}, {\"col\": \"(3, 4)\", \"idx\": 90, \"val\": 14.0}, {\"col\": \"(0, 1)\", \"idx\": 91, \"val\": 4.0}, {\"col\": \"(0, 4)\", \"idx\": 91, \"val\": 18.0}, {\"col\": \"(1, 2)\", \"idx\": 91, \"val\": 18.0}, {\"col\": \"(2, 3)\", \"idx\": 91, \"val\": 14.0}, {\"col\": \"(3, 4)\", \"idx\": 91, \"val\": 14.0}, {\"col\": \"(0, 1)\", \"idx\": 92, \"val\": 6.0}, {\"col\": \"(0, 4)\", \"idx\": 92, \"val\": 20.0}, {\"col\": \"(1, 2)\", \"idx\": 92, \"val\": 12.0}, {\"col\": \"(2, 3)\", \"idx\": 92, \"val\": 16.0}, {\"col\": \"(3, 4)\", \"idx\": 92, \"val\": 8.0}, {\"col\": \"(0, 1)\", \"idx\": 93, \"val\": 12.0}, {\"col\": \"(0, 4)\", \"idx\": 93, \"val\": 14.0}, {\"col\": \"(1, 2)\", \"idx\": 93, \"val\": 12.0}, {\"col\": \"(2, 3)\", \"idx\": 93, \"val\": 6.0}, {\"col\": \"(3, 4)\", \"idx\": 93, \"val\": 14.0}, {\"col\": \"(0, 1)\", \"idx\": 94, \"val\": 6.0}, {\"col\": \"(0, 4)\", \"idx\": 94, \"val\": 16.0}, {\"col\": \"(1, 2)\", \"idx\": 94, \"val\": 16.0}, {\"col\": \"(2, 3)\", \"idx\": 94, \"val\": 4.0}, {\"col\": \"(3, 4)\", \"idx\": 94, \"val\": 12.0}, {\"col\": \"(0, 1)\", \"idx\": 95, \"val\": 14.0}, {\"col\": \"(0, 4)\", \"idx\": 95, \"val\": 8.0}, {\"col\": \"(1, 2)\", \"idx\": 95, \"val\": 6.0}, {\"col\": \"(2, 3)\", \"idx\": 95, \"val\": 10.0}, {\"col\": \"(3, 4)\", \"idx\": 95, \"val\": 14.0}, {\"col\": \"(0, 1)\", \"idx\": 96, \"val\": 10.0}, {\"col\": \"(0, 4)\", \"idx\": 96, \"val\": 6.0}, {\"col\": \"(1, 2)\", \"idx\": 96, \"val\": 10.0}, {\"col\": \"(2, 3)\", \"idx\": 96, \"val\": 6.0}, {\"col\": \"(3, 4)\", \"idx\": 96, \"val\": 14.0}, {\"col\": \"(0, 1)\", \"idx\": 97, \"val\": 4.0}, {\"col\": \"(0, 4)\", \"idx\": 97, \"val\": 12.0}, {\"col\": \"(1, 2)\", \"idx\": 97, \"val\": 10.0}, {\"col\": \"(2, 3)\", \"idx\": 97, \"val\": 12.0}, {\"col\": \"(3, 4)\", \"idx\": 97, \"val\": 8.0}, {\"col\": \"(0, 1)\", \"idx\": 98, \"val\": 8.0}, {\"col\": \"(0, 4)\", \"idx\": 98, \"val\": 10.0}, {\"col\": \"(1, 2)\", \"idx\": 98, \"val\": 4.0}, {\"col\": \"(2, 3)\", \"idx\": 98, \"val\": 10.0}, {\"col\": \"(3, 4)\", \"idx\": 98, \"val\": 10.0}, {\"col\": \"(0, 1)\", \"idx\": 99, \"val\": 4.0}, {\"col\": \"(0, 4)\", \"idx\": 99, \"val\": 12.0}, {\"col\": \"(1, 2)\", \"idx\": 99, \"val\": 12.0}, {\"col\": \"(2, 3)\", \"idx\": 99, \"val\": 4.0}, {\"col\": \"(3, 4)\", \"idx\": 99, \"val\": 10.0}, {\"col\": \"(0, 1)\", \"idx\": 100, \"val\": 6.0}, {\"col\": \"(0, 4)\", \"idx\": 100, \"val\": 6.0}, {\"col\": \"(1, 2)\", \"idx\": 100, \"val\": 10.0}, {\"col\": \"(2, 3)\", \"idx\": 100, \"val\": 12.0}, {\"col\": \"(3, 4)\", \"idx\": 100, \"val\": 6.0}, {\"col\": \"(0, 1)\", \"idx\": 101, \"val\": 6.0}, {\"col\": \"(0, 4)\", \"idx\": 101, \"val\": 6.0}, {\"col\": \"(1, 2)\", \"idx\": 101, \"val\": 6.0}, {\"col\": \"(2, 3)\", \"idx\": 101, \"val\": 18.0}, {\"col\": \"(3, 4)\", \"idx\": 101, \"val\": 4.0}, {\"col\": \"(0, 1)\", \"idx\": 102, \"val\": 2.0}, {\"col\": \"(0, 4)\", \"idx\": 102, \"val\": 10.0}, {\"col\": \"(1, 2)\", \"idx\": 102, \"val\": 6.0}, {\"col\": \"(2, 3)\", \"idx\": 102, \"val\": 14.0}, {\"col\": \"(3, 4)\", \"idx\": 102, \"val\": 8.0}, {\"col\": \"(0, 1)\", \"idx\": 103, \"val\": 6.0}, {\"col\": \"(0, 4)\", \"idx\": 103, \"val\": 6.0}, {\"col\": \"(1, 2)\", \"idx\": 103, \"val\": 8.0}, {\"col\": \"(2, 3)\", \"idx\": 103, \"val\": 6.0}, {\"col\": \"(3, 4)\", \"idx\": 103, \"val\": 14.0}, {\"col\": \"(0, 1)\", \"idx\": 104, \"val\": 8.0}, {\"col\": \"(0, 4)\", \"idx\": 104, \"val\": 4.0}, {\"col\": \"(1, 2)\", \"idx\": 104, \"val\": 8.0}, {\"col\": \"(2, 3)\", \"idx\": 104, \"val\": 4.0}, {\"col\": \"(3, 4)\", \"idx\": 104, \"val\": 16.0}, {\"col\": \"(0, 1)\", \"idx\": 105, \"val\": 6.0}, {\"col\": \"(0, 4)\", \"idx\": 105, \"val\": 10.0}, {\"col\": \"(1, 2)\", \"idx\": 105, \"val\": 8.0}, {\"col\": \"(2, 3)\", \"idx\": 105, \"val\": 2.0}, {\"col\": \"(3, 4)\", \"idx\": 105, \"val\": 14.0}, {\"col\": \"(0, 1)\", \"idx\": 106, \"val\": 10.0}, {\"col\": \"(0, 4)\", \"idx\": 106, \"val\": 6.0}, {\"col\": \"(1, 2)\", \"idx\": 106, \"val\": 4.0}, {\"col\": \"(2, 3)\", \"idx\": 106, \"val\": 2.0}, {\"col\": \"(3, 4)\", \"idx\": 106, \"val\": 12.0}, {\"col\": \"(0, 1)\", \"idx\": 107, \"val\": 4.0}, {\"col\": \"(0, 4)\", \"idx\": 107, \"val\": 8.0}, {\"col\": \"(1, 2)\", \"idx\": 107, \"val\": 8.0}, {\"col\": \"(2, 3)\", \"idx\": 107, \"val\": 2.0}, {\"col\": \"(3, 4)\", \"idx\": 107, \"val\": 12.0}, {\"col\": \"(0, 1)\", \"idx\": 108, \"val\": 6.0}, {\"col\": \"(0, 4)\", \"idx\": 108, \"val\": 6.0}, {\"col\": \"(1, 2)\", \"idx\": 108, \"val\": 8.0}, {\"col\": \"(2, 3)\", \"idx\": 108, \"val\": 4.0}, {\"col\": \"(3, 4)\", \"idx\": 108, \"val\": 10.0}, {\"col\": \"(0, 1)\", \"idx\": 109, \"val\": 8.0}, {\"col\": \"(0, 4)\", \"idx\": 109, \"val\": 4.0}, {\"col\": \"(1, 2)\", \"idx\": 109, \"val\": 2.0}, {\"col\": \"(2, 3)\", \"idx\": 109, \"val\": 8.0}, {\"col\": \"(3, 4)\", \"idx\": 109, \"val\": 6.0}, {\"col\": \"(0, 1)\", \"idx\": 110, \"val\": 4.0}, {\"col\": \"(0, 4)\", \"idx\": 110, \"val\": 8.0}, {\"col\": \"(1, 2)\", \"idx\": 110, \"val\": 2.0}, {\"col\": \"(2, 3)\", \"idx\": 110, \"val\": 12.0}, {\"col\": \"(3, 4)\", \"idx\": 110, \"val\": 2.0}, {\"col\": \"(0, 1)\", \"idx\": 111, \"val\": 4.0}, {\"col\": \"(0, 4)\", \"idx\": 111, \"val\": 4.0}, {\"col\": \"(1, 2)\", \"idx\": 111, \"val\": 6.0}, {\"col\": \"(2, 3)\", \"idx\": 111, \"val\": 10.0}, {\"col\": \"(3, 4)\", \"idx\": 111, \"val\": 4.0}, {\"col\": \"(0, 1)\", \"idx\": 112, \"val\": 6.0}, {\"col\": \"(0, 4)\", \"idx\": 112, \"val\": 2.0}, {\"col\": \"(1, 2)\", \"idx\": 112, \"val\": 2.0}, {\"col\": \"(2, 3)\", \"idx\": 112, \"val\": 6.0}, {\"col\": \"(3, 4)\", \"idx\": 112, \"val\": 8.0}, {\"col\": \"(0, 1)\", \"idx\": 113, \"val\": 6.0}, {\"col\": \"(0, 4)\", \"idx\": 113, \"val\": 4.0}, {\"col\": \"(1, 2)\", \"idx\": 113, \"val\": NaN}, {\"col\": \"(2, 3)\", \"idx\": 113, \"val\": 6.0}, {\"col\": \"(3, 4)\", \"idx\": 113, \"val\": 8.0}, {\"col\": \"(0, 1)\", \"idx\": 114, \"val\": 2.0}, {\"col\": \"(0, 4)\", \"idx\": 114, \"val\": 2.0}, {\"col\": \"(1, 2)\", \"idx\": 114, \"val\": 4.0}, {\"col\": \"(2, 3)\", \"idx\": 114, \"val\": 8.0}, {\"col\": \"(3, 4)\", \"idx\": 114, \"val\": 4.0}, {\"col\": \"(0, 1)\", \"idx\": 115, \"val\": 2.0}, {\"col\": \"(0, 4)\", \"idx\": 115, \"val\": NaN}, {\"col\": \"(1, 2)\", \"idx\": 115, \"val\": 6.0}, {\"col\": \"(2, 3)\", \"idx\": 115, \"val\": 6.0}, {\"col\": \"(3, 4)\", \"idx\": 115, \"val\": 2.0}, {\"col\": \"(0, 1)\", \"idx\": 116, \"val\": 4.0}, {\"col\": \"(0, 4)\", \"idx\": 116, \"val\": NaN}, {\"col\": \"(1, 2)\", \"idx\": 116, \"val\": 4.0}, {\"col\": \"(2, 3)\", \"idx\": 116, \"val\": 2.0}, {\"col\": \"(3, 4)\", \"idx\": 116, \"val\": 4.0}, {\"col\": \"(0, 1)\", \"idx\": 117, \"val\": 2.0}, {\"col\": \"(0, 4)\", \"idx\": 117, \"val\": 4.0}, {\"col\": \"(1, 2)\", \"idx\": 117, \"val\": 4.0}, {\"col\": \"(2, 3)\", \"idx\": 117, \"val\": 2.0}, {\"col\": \"(3, 4)\", \"idx\": 117, \"val\": NaN}, {\"col\": \"(0, 1)\", \"idx\": 118, \"val\": 4.0}, {\"col\": \"(0, 4)\", \"idx\": 118, \"val\": 4.0}, {\"col\": \"(1, 2)\", \"idx\": 118, \"val\": 2.0}, {\"col\": \"(2, 3)\", \"idx\": 118, \"val\": 2.0}, {\"col\": \"(3, 4)\", \"idx\": 118, \"val\": NaN}, {\"col\": \"(0, 1)\", \"idx\": 119, \"val\": 4.0}, {\"col\": \"(0, 4)\", \"idx\": 119, \"val\": 6.0}, {\"col\": \"(1, 2)\", \"idx\": 119, \"val\": NaN}, {\"col\": \"(2, 3)\", \"idx\": 119, \"val\": NaN}, {\"col\": \"(3, 4)\", \"idx\": 119, \"val\": 2.0}, {\"col\": \"(0, 1)\", \"idx\": 120, \"val\": 2.0}, {\"col\": \"(0, 4)\", \"idx\": 120, \"val\": 4.0}, {\"col\": \"(1, 2)\", \"idx\": 120, \"val\": NaN}, {\"col\": \"(2, 3)\", \"idx\": 120, \"val\": NaN}, {\"col\": \"(3, 4)\", \"idx\": 120, \"val\": 4.0}, {\"col\": \"(0, 1)\", \"idx\": 121, \"val\": 2.0}, {\"col\": \"(0, 4)\", \"idx\": 121, \"val\": NaN}, {\"col\": \"(1, 2)\", \"idx\": 121, \"val\": 2.0}, {\"col\": \"(2, 3)\", \"idx\": 121, \"val\": NaN}, {\"col\": \"(3, 4)\", \"idx\": 121, \"val\": 6.0}, {\"col\": \"(0, 1)\", \"idx\": 122, \"val\": NaN}, {\"col\": \"(0, 4)\", \"idx\": 122, \"val\": NaN}, {\"col\": \"(1, 2)\", \"idx\": 122, \"val\": 4.0}, {\"col\": \"(2, 3)\", \"idx\": 122, \"val\": 2.0}, {\"col\": \"(3, 4)\", \"idx\": 122, \"val\": 4.0}, {\"col\": \"(0, 1)\", \"idx\": 123, \"val\": NaN}, {\"col\": \"(0, 4)\", \"idx\": 123, \"val\": NaN}, {\"col\": \"(1, 2)\", \"idx\": 123, \"val\": 4.0}, {\"col\": \"(2, 3)\", \"idx\": 123, \"val\": 2.0}, {\"col\": \"(3, 4)\", \"idx\": 123, \"val\": 4.0}, {\"col\": \"(0, 1)\", \"idx\": 124, \"val\": 2.0}, {\"col\": \"(0, 4)\", \"idx\": 124, \"val\": 2.0}, {\"col\": \"(1, 2)\", \"idx\": 124, \"val\": NaN}, {\"col\": \"(2, 3)\", \"idx\": 124, \"val\": 2.0}, {\"col\": \"(3, 4)\", \"idx\": 124, \"val\": 4.0}, {\"col\": \"(0, 1)\", \"idx\": 125, \"val\": 2.0}, {\"col\": \"(0, 4)\", \"idx\": 125, \"val\": 4.0}, {\"col\": \"(1, 2)\", \"idx\": 125, \"val\": NaN}, {\"col\": \"(2, 3)\", \"idx\": 125, \"val\": 4.0}, {\"col\": \"(3, 4)\", \"idx\": 125, \"val\": NaN}, {\"col\": \"(0, 1)\", \"idx\": 126, \"val\": NaN}, {\"col\": \"(0, 4)\", \"idx\": 126, \"val\": 2.0}, {\"col\": \"(1, 2)\", \"idx\": 126, \"val\": 4.0}, {\"col\": \"(2, 3)\", \"idx\": 126, \"val\": NaN}, {\"col\": \"(3, 4)\", \"idx\": 126, \"val\": 2.0}, {\"col\": \"(0, 1)\", \"idx\": 127, \"val\": 2.0}, {\"col\": \"(0, 4)\", \"idx\": 127, \"val\": 2.0}, {\"col\": \"(1, 2)\", \"idx\": 127, \"val\": 2.0}, {\"col\": \"(2, 3)\", \"idx\": 127, \"val\": NaN}, {\"col\": \"(3, 4)\", \"idx\": 127, \"val\": 2.0}, {\"col\": \"(0, 1)\", \"idx\": 128, \"val\": 4.0}, {\"col\": \"(0, 4)\", \"idx\": 128, \"val\": 2.0}, {\"col\": \"(1, 2)\", \"idx\": 128, \"val\": NaN}, {\"col\": \"(2, 3)\", \"idx\": 128, \"val\": NaN}, {\"col\": \"(3, 4)\", \"idx\": 128, \"val\": NaN}, {\"col\": \"(0, 1)\", \"idx\": 129, \"val\": 2.0}, {\"col\": \"(0, 4)\", \"idx\": 129, \"val\": NaN}, {\"col\": \"(1, 2)\", \"idx\": 129, \"val\": 2.0}, {\"col\": \"(2, 3)\", \"idx\": 129, \"val\": NaN}, {\"col\": \"(3, 4)\", \"idx\": 129, \"val\": 2.0}, {\"col\": \"(0, 1)\", \"idx\": 130, \"val\": NaN}, {\"col\": \"(0, 4)\", \"idx\": 130, \"val\": NaN}, {\"col\": \"(1, 2)\", \"idx\": 130, \"val\": 2.0}, {\"col\": \"(2, 3)\", \"idx\": 130, \"val\": 4.0}, {\"col\": \"(3, 4)\", \"idx\": 130, \"val\": NaN}, {\"col\": \"(0, 1)\", \"idx\": 131, \"val\": NaN}, {\"col\": \"(0, 4)\", \"idx\": 131, \"val\": NaN}, {\"col\": \"(1, 2)\", \"idx\": 131, \"val\": 2.0}, {\"col\": \"(2, 3)\", \"idx\": 131, \"val\": 4.0}, {\"col\": \"(3, 4)\", \"idx\": 131, \"val\": NaN}, {\"col\": \"(0, 1)\", \"idx\": 132, \"val\": NaN}, {\"col\": \"(0, 4)\", \"idx\": 132, \"val\": NaN}, {\"col\": \"(1, 2)\", \"idx\": 132, \"val\": 4.0}, {\"col\": \"(2, 3)\", \"idx\": 132, \"val\": 2.0}, {\"col\": \"(3, 4)\", \"idx\": 132, \"val\": NaN}, {\"col\": \"(0, 1)\", \"idx\": 133, \"val\": NaN}, {\"col\": \"(0, 4)\", \"idx\": 133, \"val\": NaN}, {\"col\": \"(1, 2)\", \"idx\": 133, \"val\": 2.0}, {\"col\": \"(2, 3)\", \"idx\": 133, \"val\": NaN}, {\"col\": \"(3, 4)\", \"idx\": 133, \"val\": NaN}, {\"col\": \"(0, 1)\", \"idx\": 134, \"val\": NaN}, {\"col\": \"(0, 4)\", \"idx\": 134, \"val\": NaN}, {\"col\": \"(1, 2)\", \"idx\": 134, \"val\": 2.0}, {\"col\": \"(2, 3)\", \"idx\": 134, \"val\": NaN}, {\"col\": \"(3, 4)\", \"idx\": 134, \"val\": NaN}, {\"col\": \"(0, 1)\", \"idx\": 135, \"val\": 2.0}, {\"col\": \"(0, 4)\", \"idx\": 135, \"val\": NaN}, {\"col\": \"(1, 2)\", \"idx\": 135, \"val\": NaN}, {\"col\": \"(2, 3)\", \"idx\": 135, \"val\": NaN}, {\"col\": \"(3, 4)\", \"idx\": 135, \"val\": NaN}, {\"col\": \"(0, 1)\", \"idx\": 136, \"val\": 2.0}, {\"col\": \"(0, 4)\", \"idx\": 136, \"val\": NaN}, {\"col\": \"(1, 2)\", \"idx\": 136, \"val\": NaN}, {\"col\": \"(2, 3)\", \"idx\": 136, \"val\": NaN}, {\"col\": \"(3, 4)\", \"idx\": 136, \"val\": NaN}, {\"col\": \"(0, 1)\", \"idx\": 137, \"val\": 2.0}, {\"col\": \"(0, 4)\", \"idx\": 137, \"val\": NaN}, {\"col\": \"(1, 2)\", \"idx\": 137, \"val\": NaN}, {\"col\": \"(2, 3)\", \"idx\": 137, \"val\": NaN}, {\"col\": \"(3, 4)\", \"idx\": 137, \"val\": NaN}, {\"col\": \"(0, 1)\", \"idx\": 138, \"val\": NaN}, {\"col\": \"(0, 4)\", \"idx\": 138, \"val\": 2.0}, {\"col\": \"(1, 2)\", \"idx\": 138, \"val\": NaN}, {\"col\": \"(2, 3)\", \"idx\": 138, \"val\": NaN}, {\"col\": \"(3, 4)\", \"idx\": 138, \"val\": NaN}, {\"col\": \"(0, 1)\", \"idx\": 139, \"val\": NaN}, {\"col\": \"(0, 4)\", \"idx\": 139, \"val\": NaN}, {\"col\": \"(1, 2)\", \"idx\": 139, \"val\": NaN}, {\"col\": \"(2, 3)\", \"idx\": 139, \"val\": NaN}, {\"col\": \"(3, 4)\", \"idx\": 139, \"val\": 2.0}, {\"col\": \"(0, 1)\", \"idx\": 140, \"val\": NaN}, {\"col\": \"(0, 4)\", \"idx\": 140, \"val\": NaN}, {\"col\": \"(1, 2)\", \"idx\": 140, \"val\": NaN}, {\"col\": \"(2, 3)\", \"idx\": 140, \"val\": NaN}, {\"col\": \"(3, 4)\", \"idx\": 140, \"val\": 2.0}, {\"col\": \"(0, 1)\", \"idx\": 141, \"val\": NaN}, {\"col\": \"(0, 4)\", \"idx\": 141, \"val\": NaN}, {\"col\": \"(1, 2)\", \"idx\": 141, \"val\": NaN}, {\"col\": \"(2, 3)\", \"idx\": 141, \"val\": NaN}, {\"col\": \"(3, 4)\", \"idx\": 141, \"val\": 2.0}, {\"col\": \"(0, 1)\", \"idx\": 142, \"val\": NaN}, {\"col\": \"(0, 4)\", \"idx\": 142, \"val\": NaN}, {\"col\": \"(1, 2)\", \"idx\": 142, \"val\": NaN}, {\"col\": \"(2, 3)\", \"idx\": 142, \"val\": NaN}, {\"col\": \"(3, 4)\", \"idx\": 142, \"val\": 2.0}, {\"col\": \"(0, 1)\", \"idx\": 143, \"val\": NaN}, {\"col\": \"(0, 4)\", \"idx\": 143, \"val\": NaN}, {\"col\": \"(1, 2)\", \"idx\": 143, \"val\": NaN}, {\"col\": \"(2, 3)\", \"idx\": 143, \"val\": NaN}, {\"col\": \"(3, 4)\", \"idx\": 143, \"val\": 2.0}, {\"col\": \"(0, 1)\", \"idx\": 144, \"val\": NaN}, {\"col\": \"(0, 4)\", \"idx\": 144, \"val\": NaN}, {\"col\": \"(1, 2)\", \"idx\": 144, \"val\": NaN}, {\"col\": \"(2, 3)\", \"idx\": 144, \"val\": 2.0}, {\"col\": \"(3, 4)\", \"idx\": 144, \"val\": NaN}]}, {\"name\": \"stats\", \"source\": \"table\", \"transform\": [{\"keys\": [\"data.idx\"], \"type\": \"facet\"}, {\"type\": \"stats\", \"value\": \"data.val\"}]}], \"height\": 300, \"legends\": [{\"fill\": \"color\", \"offset\": 0, \"properties\": {}, \"title\": \"Edge\"}], \"marks\": [{\"from\": {\"data\": \"table\", \"transform\": [{\"keys\": [\"data.col\"], \"type\": \"facet\"}, {\"height\": \"data.val\", \"point\": \"data.idx\", \"type\": \"stack\"}]}, \"marks\": [{\"properties\": {\"enter\": {\"fill\": {\"field\": \"data.col\", \"scale\": \"color\"}, \"interpolate\": {\"value\": \"monotone\"}, \"opacity\": {\"value\": 0.5}, \"x\": {\"field\": \"data.idx\", \"scale\": \"x\"}, \"y\": {\"field\": \"y\", \"scale\": \"y\"}, \"y2\": {\"field\": \"y2\", \"scale\": \"y\"}}, \"hover\": {\"opacity\": {\"value\": 1}, \"size\": {\"value\": 200}}, \"update\": {\"opacity\": {\"value\": 0.7}, \"size\": {\"value\": 100}}}, \"type\": \"area\"}], \"type\": \"group\"}], \"padding\": \"auto\", \"scales\": [{\"domain\": {\"data\": \"table\", \"field\": \"data.idx\"}, \"name\": \"x\", \"range\": \"width\", \"type\": \"linear\", \"zero\": false}, {\"domain\": {\"data\": \"stats\", \"field\": \"sum\"}, \"name\": \"y\", \"nice\": true, \"range\": \"height\"}, {\"domain\": {\"data\": \"table\", \"field\": \"data.col\"}, \"name\": \"color\", \"range\": \"category20\", \"type\": \"ordinal\"}], \"width\": 400}, function(chart) {\n",
        "         chart({el: \"#vis9a7930bfcc9545b28d7242b14cba599f\"}).update();\n",
        "       });\n",
        "     };\n",
        "     _do_plot();\n",
        "   })();\n",
        "</script>\n",
        "<style>.vega canvas {width: 100%;}</style>\n",
        "        "
       ],
       "metadata": {},
       "output_type": "pyout",
       "prompt_number": 445,
       "text": [
        "<vincent.charts.Area at 0x1090771d0>"
       ]
      }
     ],
     "prompt_number": 445
    },
    {
     "cell_type": "heading",
     "level": 3,
     "metadata": {},
     "source": [
      "Introduce expensive edges"
     ]
    },
    {
     "cell_type": "code",
     "collapsed": false,
     "input": [
      "expensiveedges=[]\n",
      "ei = G.edges_iter()\n",
      "expensiveedges.append(edgetokey(ei.next()))\n",
      "expensiveedges.append(edgetokey(ei.next()))"
     ],
     "language": "python",
     "metadata": {},
     "outputs": [],
     "prompt_number": 446
    },
    {
     "cell_type": "code",
     "collapsed": false,
     "input": [
      "dfexp = df[expensiveedges].copy()\n",
      "dfcheap = df.copy()\n",
      "dfcheap.drop(expensiveedges, 1, inplace=True)"
     ],
     "language": "python",
     "metadata": {},
     "outputs": [],
     "prompt_number": 447
    },
    {
     "cell_type": "code",
     "collapsed": false,
     "input": [
      "datacost = [dfexp.sum(axis=1), dfcheap.sum(axis=1)]\n",
      "indexcost = ['Expensive', 'Cheap']\n",
      "dfcost = pd.DataFrame(datacost, index=indexcost).T"
     ],
     "language": "python",
     "metadata": {},
     "outputs": [],
     "prompt_number": 448
    },
    {
     "cell_type": "code",
     "collapsed": false,
     "input": [
      "#line = vincent.Scatter(data, iter_idx='index')\n",
      "line = vincent.StackedArea(dfcost)\n",
      "line.axis_titles(x='Time', y='# frogs')\n",
      "line.colors(range_=['#ff0000','#50aa50'])\n",
      "#line.axes([0, 40, 0, 2])\n",
      "line.legend(title='Edge Traversals')\n",
      "line.width = 400\n",
      "line.height = 300\n",
      "line.marks[0].marks[0].properties.enter.opacity = vincent.ValueRef(value=0.5)"
     ],
     "language": "python",
     "metadata": {},
     "outputs": [],
     "prompt_number": 449
    },
    {
     "cell_type": "code",
     "collapsed": false,
     "input": [
      "line"
     ],
     "language": "python",
     "metadata": {},
     "outputs": [
      {
       "html": [
        "<div id=\"vis1dfbe85a590f47fcba4d7f4da78ae2ac\"></div>\n",
        "<script>\n",
        "   ( function() {\n",
        "     var _do_plot = function() {\n",
        "       if (typeof vg === 'undefined') {\n",
        "         window.addEventListener('vincent_libs_loaded', _do_plot)\n",
        "         return;\n",
        "       }\n",
        "       vg.parse.spec({\"axes\": [{\"scale\": \"x\", \"title\": \"Time\", \"type\": \"x\"}, {\"scale\": \"y\", \"title\": \"# frogs\", \"type\": \"y\"}], \"data\": [{\"name\": \"table\", \"values\": [{\"col\": \"Expensive\", \"idx\": 1, \"val\": 7754.0}, {\"col\": \"Cheap\", \"idx\": 1, \"val\": 11106.0}, {\"col\": \"Expensive\", \"idx\": 2, \"val\": 7160.0}, {\"col\": \"Cheap\", \"idx\": 2, \"val\": 10596.0}, {\"col\": \"Expensive\", \"idx\": 3, \"val\": 6770.0}, {\"col\": \"Cheap\", \"idx\": 3, \"val\": 9960.0}, {\"col\": \"Expensive\", \"idx\": 4, \"val\": 6384.0}, {\"col\": \"Cheap\", \"idx\": 4, \"val\": 9358.0}, {\"col\": \"Expensive\", \"idx\": 5, \"val\": 5946.0}, {\"col\": \"Cheap\", \"idx\": 5, \"val\": 8846.0}, {\"col\": \"Expensive\", \"idx\": 6, \"val\": 5512.0}, {\"col\": \"Cheap\", \"idx\": 6, \"val\": 8370.0}, {\"col\": \"Expensive\", \"idx\": 7, \"val\": 5186.0}, {\"col\": \"Cheap\", \"idx\": 7, \"val\": 7802.0}, {\"col\": \"Expensive\", \"idx\": 8, \"val\": 4872.0}, {\"col\": \"Cheap\", \"idx\": 8, \"val\": 7272.0}, {\"col\": \"Expensive\", \"idx\": 9, \"val\": 4418.0}, {\"col\": \"Cheap\", \"idx\": 9, \"val\": 6966.0}, {\"col\": \"Expensive\", \"idx\": 10, \"val\": 4082.0}, {\"col\": \"Cheap\", \"idx\": 10, \"val\": 6572.0}, {\"col\": \"Expensive\", \"idx\": 11, \"val\": 3900.0}, {\"col\": \"Cheap\", \"idx\": 11, \"val\": 6134.0}, {\"col\": \"Expensive\", \"idx\": 12, \"val\": 3706.0}, {\"col\": \"Cheap\", \"idx\": 12, \"val\": 5750.0}, {\"col\": \"Expensive\", \"idx\": 13, \"val\": 3578.0}, {\"col\": \"Cheap\", \"idx\": 13, \"val\": 5314.0}, {\"col\": \"Expensive\", \"idx\": 14, \"val\": 3294.0}, {\"col\": \"Cheap\", \"idx\": 14, \"val\": 4972.0}, {\"col\": \"Expensive\", \"idx\": 15, \"val\": 3056.0}, {\"col\": \"Cheap\", \"idx\": 15, \"val\": 4724.0}, {\"col\": \"Expensive\", \"idx\": 16, \"val\": 2912.0}, {\"col\": \"Cheap\", \"idx\": 16, \"val\": 4398.0}, {\"col\": \"Expensive\", \"idx\": 17, \"val\": 2792.0}, {\"col\": \"Cheap\", \"idx\": 17, \"val\": 4094.0}, {\"col\": \"Expensive\", \"idx\": 18, \"val\": 2606.0}, {\"col\": \"Cheap\", \"idx\": 18, \"val\": 3920.0}, {\"col\": \"Expensive\", \"idx\": 19, \"val\": 2454.0}, {\"col\": \"Cheap\", \"idx\": 19, \"val\": 3688.0}, {\"col\": \"Expensive\", \"idx\": 20, \"val\": 2326.0}, {\"col\": \"Cheap\", \"idx\": 20, \"val\": 3462.0}, {\"col\": \"Expensive\", \"idx\": 21, \"val\": 2134.0}, {\"col\": \"Cheap\", \"idx\": 21, \"val\": 3314.0}, {\"col\": \"Expensive\", \"idx\": 22, \"val\": 2114.0}, {\"col\": \"Cheap\", \"idx\": 22, \"val\": 3042.0}, {\"col\": \"Expensive\", \"idx\": 23, \"val\": 2020.0}, {\"col\": \"Cheap\", \"idx\": 23, \"val\": 2852.0}, {\"col\": \"Expensive\", \"idx\": 24, \"val\": 1840.0}, {\"col\": \"Cheap\", \"idx\": 24, \"val\": 2754.0}, {\"col\": \"Expensive\", \"idx\": 25, \"val\": 1662.0}, {\"col\": \"Cheap\", \"idx\": 25, \"val\": 2642.0}, {\"col\": \"Expensive\", \"idx\": 26, \"val\": 1574.0}, {\"col\": \"Cheap\", \"idx\": 26, \"val\": 2472.0}, {\"col\": \"Expensive\", \"idx\": 27, \"val\": 1524.0}, {\"col\": \"Cheap\", \"idx\": 27, \"val\": 2300.0}, {\"col\": \"Expensive\", \"idx\": 28, \"val\": 1472.0}, {\"col\": \"Cheap\", \"idx\": 28, \"val\": 2158.0}, {\"col\": \"Expensive\", \"idx\": 29, \"val\": 1350.0}, {\"col\": \"Cheap\", \"idx\": 29, \"val\": 2072.0}, {\"col\": \"Expensive\", \"idx\": 30, \"val\": 1234.0}, {\"col\": \"Cheap\", \"idx\": 30, \"val\": 1984.0}, {\"col\": \"Expensive\", \"idx\": 31, \"val\": 1186.0}, {\"col\": \"Cheap\", \"idx\": 31, \"val\": 1858.0}, {\"col\": \"Expensive\", \"idx\": 32, \"val\": 1148.0}, {\"col\": \"Cheap\", \"idx\": 32, \"val\": 1744.0}, {\"col\": \"Expensive\", \"idx\": 33, \"val\": 1080.0}, {\"col\": \"Cheap\", \"idx\": 33, \"val\": 1648.0}, {\"col\": \"Expensive\", \"idx\": 34, \"val\": 1018.0}, {\"col\": \"Cheap\", \"idx\": 34, \"val\": 1576.0}, {\"col\": \"Expensive\", \"idx\": 35, \"val\": 938.0}, {\"col\": \"Cheap\", \"idx\": 35, \"val\": 1520.0}, {\"col\": \"Expensive\", \"idx\": 36, \"val\": 870.0}, {\"col\": \"Cheap\", \"idx\": 36, \"val\": 1444.0}, {\"col\": \"Expensive\", \"idx\": 37, \"val\": 836.0}, {\"col\": \"Cheap\", \"idx\": 37, \"val\": 1336.0}, {\"col\": \"Expensive\", \"idx\": 38, \"val\": 776.0}, {\"col\": \"Cheap\", \"idx\": 38, \"val\": 1280.0}, {\"col\": \"Expensive\", \"idx\": 39, \"val\": 772.0}, {\"col\": \"Cheap\", \"idx\": 39, \"val\": 1148.0}, {\"col\": \"Expensive\", \"idx\": 40, \"val\": 734.0}, {\"col\": \"Cheap\", \"idx\": 40, \"val\": 1072.0}, {\"col\": \"Expensive\", \"idx\": 41, \"val\": 690.0}, {\"col\": \"Cheap\", \"idx\": 41, \"val\": 998.0}, {\"col\": \"Expensive\", \"idx\": 42, \"val\": 662.0}, {\"col\": \"Cheap\", \"idx\": 42, \"val\": 940.0}, {\"col\": \"Expensive\", \"idx\": 43, \"val\": 602.0}, {\"col\": \"Cheap\", \"idx\": 43, \"val\": 904.0}, {\"col\": \"Expensive\", \"idx\": 44, \"val\": 538.0}, {\"col\": \"Cheap\", \"idx\": 44, \"val\": 876.0}, {\"col\": \"Expensive\", \"idx\": 45, \"val\": 520.0}, {\"col\": \"Cheap\", \"idx\": 45, \"val\": 818.0}, {\"col\": \"Expensive\", \"idx\": 46, \"val\": 510.0}, {\"col\": \"Cheap\", \"idx\": 46, \"val\": 764.0}, {\"col\": \"Expensive\", \"idx\": 47, \"val\": 484.0}, {\"col\": \"Cheap\", \"idx\": 47, \"val\": 704.0}, {\"col\": \"Expensive\", \"idx\": 48, \"val\": 454.0}, {\"col\": \"Cheap\", \"idx\": 48, \"val\": 654.0}, {\"col\": \"Expensive\", \"idx\": 49, \"val\": 416.0}, {\"col\": \"Cheap\", \"idx\": 49, \"val\": 638.0}, {\"col\": \"Expensive\", \"idx\": 50, \"val\": 398.0}, {\"col\": \"Cheap\", \"idx\": 50, \"val\": 592.0}, {\"col\": \"Expensive\", \"idx\": 51, \"val\": 372.0}, {\"col\": \"Cheap\", \"idx\": 51, \"val\": 556.0}, {\"col\": \"Expensive\", \"idx\": 52, \"val\": 354.0}, {\"col\": \"Cheap\", \"idx\": 52, \"val\": 524.0}, {\"col\": \"Expensive\", \"idx\": 53, \"val\": 340.0}, {\"col\": \"Cheap\", \"idx\": 53, \"val\": 486.0}, {\"col\": \"Expensive\", \"idx\": 54, \"val\": 322.0}, {\"col\": \"Cheap\", \"idx\": 54, \"val\": 456.0}, {\"col\": \"Expensive\", \"idx\": 55, \"val\": 286.0}, {\"col\": \"Cheap\", \"idx\": 55, \"val\": 444.0}, {\"col\": \"Expensive\", \"idx\": 56, \"val\": 282.0}, {\"col\": \"Cheap\", \"idx\": 56, \"val\": 390.0}, {\"col\": \"Expensive\", \"idx\": 57, \"val\": 234.0}, {\"col\": \"Cheap\", \"idx\": 57, \"val\": 400.0}, {\"col\": \"Expensive\", \"idx\": 58, \"val\": 222.0}, {\"col\": \"Cheap\", \"idx\": 58, \"val\": 376.0}, {\"col\": \"Expensive\", \"idx\": 59, \"val\": 230.0}, {\"col\": \"Cheap\", \"idx\": 59, \"val\": 334.0}, {\"col\": \"Expensive\", \"idx\": 60, \"val\": 218.0}, {\"col\": \"Cheap\", \"idx\": 60, \"val\": 320.0}, {\"col\": \"Expensive\", \"idx\": 61, \"val\": 202.0}, {\"col\": \"Cheap\", \"idx\": 61, \"val\": 304.0}, {\"col\": \"Expensive\", \"idx\": 62, \"val\": 182.0}, {\"col\": \"Cheap\", \"idx\": 62, \"val\": 300.0}, {\"col\": \"Expensive\", \"idx\": 63, \"val\": 178.0}, {\"col\": \"Cheap\", \"idx\": 63, \"val\": 268.0}, {\"col\": \"Expensive\", \"idx\": 64, \"val\": 160.0}, {\"col\": \"Cheap\", \"idx\": 64, \"val\": 268.0}, {\"col\": \"Expensive\", \"idx\": 65, \"val\": 166.0}, {\"col\": \"Cheap\", \"idx\": 65, \"val\": 238.0}, {\"col\": \"Expensive\", \"idx\": 66, \"val\": 176.0}, {\"col\": \"Cheap\", \"idx\": 66, \"val\": 216.0}, {\"col\": \"Expensive\", \"idx\": 67, \"val\": 160.0}, {\"col\": \"Cheap\", \"idx\": 67, \"val\": 208.0}, {\"col\": \"Expensive\", \"idx\": 68, \"val\": 148.0}, {\"col\": \"Cheap\", \"idx\": 68, \"val\": 200.0}, {\"col\": \"Expensive\", \"idx\": 69, \"val\": 140.0}, {\"col\": \"Cheap\", \"idx\": 69, \"val\": 186.0}, {\"col\": \"Expensive\", \"idx\": 70, \"val\": 142.0}, {\"col\": \"Cheap\", \"idx\": 70, \"val\": 170.0}, {\"col\": \"Expensive\", \"idx\": 71, \"val\": 136.0}, {\"col\": \"Cheap\", \"idx\": 71, \"val\": 148.0}, {\"col\": \"Expensive\", \"idx\": 72, \"val\": 110.0}, {\"col\": \"Cheap\", \"idx\": 72, \"val\": 154.0}, {\"col\": \"Expensive\", \"idx\": 73, \"val\": 104.0}, {\"col\": \"Cheap\", \"idx\": 73, \"val\": 144.0}, {\"col\": \"Expensive\", \"idx\": 74, \"val\": 118.0}, {\"col\": \"Cheap\", \"idx\": 74, \"val\": 122.0}, {\"col\": \"Expensive\", \"idx\": 75, \"val\": 114.0}, {\"col\": \"Cheap\", \"idx\": 75, \"val\": 108.0}, {\"col\": \"Expensive\", \"idx\": 76, \"val\": 98.0}, {\"col\": \"Cheap\", \"idx\": 76, \"val\": 108.0}, {\"col\": \"Expensive\", \"idx\": 77, \"val\": 78.0}, {\"col\": \"Cheap\", \"idx\": 77, \"val\": 112.0}, {\"col\": \"Expensive\", \"idx\": 78, \"val\": 84.0}, {\"col\": \"Cheap\", \"idx\": 78, \"val\": 94.0}, {\"col\": \"Expensive\", \"idx\": 79, \"val\": 68.0}, {\"col\": \"Cheap\", \"idx\": 79, \"val\": 100.0}, {\"col\": \"Expensive\", \"idx\": 80, \"val\": 56.0}, {\"col\": \"Cheap\", \"idx\": 80, \"val\": 102.0}, {\"col\": \"Expensive\", \"idx\": 81, \"val\": 58.0}, {\"col\": \"Cheap\", \"idx\": 81, \"val\": 86.0}, {\"col\": \"Expensive\", \"idx\": 82, \"val\": 56.0}, {\"col\": \"Cheap\", \"idx\": 82, \"val\": 80.0}, {\"col\": \"Expensive\", \"idx\": 83, \"val\": 50.0}, {\"col\": \"Cheap\", \"idx\": 83, \"val\": 80.0}, {\"col\": \"Expensive\", \"idx\": 84, \"val\": 52.0}, {\"col\": \"Cheap\", \"idx\": 84, \"val\": 68.0}, {\"col\": \"Expensive\", \"idx\": 85, \"val\": 48.0}, {\"col\": \"Cheap\", \"idx\": 85, \"val\": 58.0}, {\"col\": \"Expensive\", \"idx\": 86, \"val\": 46.0}, {\"col\": \"Cheap\", \"idx\": 86, \"val\": 56.0}, {\"col\": \"Expensive\", \"idx\": 87, \"val\": 40.0}, {\"col\": \"Cheap\", \"idx\": 87, \"val\": 50.0}, {\"col\": \"Expensive\", \"idx\": 88, \"val\": 26.0}, {\"col\": \"Cheap\", \"idx\": 88, \"val\": 54.0}, {\"col\": \"Expensive\", \"idx\": 89, \"val\": 28.0}, {\"col\": \"Cheap\", \"idx\": 89, \"val\": 48.0}, {\"col\": \"Expensive\", \"idx\": 90, \"val\": 30.0}, {\"col\": \"Cheap\", \"idx\": 90, \"val\": 42.0}, {\"col\": \"Expensive\", \"idx\": 91, \"val\": 22.0}, {\"col\": \"Cheap\", \"idx\": 91, \"val\": 46.0}, {\"col\": \"Expensive\", \"idx\": 92, \"val\": 26.0}, {\"col\": \"Cheap\", \"idx\": 92, \"val\": 36.0}, {\"col\": \"Expensive\", \"idx\": 93, \"val\": 26.0}, {\"col\": \"Cheap\", \"idx\": 93, \"val\": 32.0}, {\"col\": \"Expensive\", \"idx\": 94, \"val\": 22.0}, {\"col\": \"Cheap\", \"idx\": 94, \"val\": 32.0}, {\"col\": \"Expensive\", \"idx\": 95, \"val\": 22.0}, {\"col\": \"Cheap\", \"idx\": 95, \"val\": 30.0}, {\"col\": \"Expensive\", \"idx\": 96, \"val\": 16.0}, {\"col\": \"Cheap\", \"idx\": 96, \"val\": 30.0}, {\"col\": \"Expensive\", \"idx\": 97, \"val\": 16.0}, {\"col\": \"Cheap\", \"idx\": 97, \"val\": 30.0}, {\"col\": \"Expensive\", \"idx\": 98, \"val\": 18.0}, {\"col\": \"Cheap\", \"idx\": 98, \"val\": 24.0}, {\"col\": \"Expensive\", \"idx\": 99, \"val\": 16.0}, {\"col\": \"Cheap\", \"idx\": 99, \"val\": 26.0}, {\"col\": \"Expensive\", \"idx\": 100, \"val\": 12.0}, {\"col\": \"Cheap\", \"idx\": 100, \"val\": 28.0}, {\"col\": \"Expensive\", \"idx\": 101, \"val\": 12.0}, {\"col\": \"Cheap\", \"idx\": 101, \"val\": 28.0}, {\"col\": \"Expensive\", \"idx\": 102, \"val\": 12.0}, {\"col\": \"Cheap\", \"idx\": 102, \"val\": 28.0}, {\"col\": \"Expensive\", \"idx\": 103, \"val\": 12.0}, {\"col\": \"Cheap\", \"idx\": 103, \"val\": 28.0}, {\"col\": \"Expensive\", \"idx\": 104, \"val\": 12.0}, {\"col\": \"Cheap\", \"idx\": 104, \"val\": 28.0}, {\"col\": \"Expensive\", \"idx\": 105, \"val\": 16.0}, {\"col\": \"Cheap\", \"idx\": 105, \"val\": 24.0}, {\"col\": \"Expensive\", \"idx\": 106, \"val\": 16.0}, {\"col\": \"Cheap\", \"idx\": 106, \"val\": 18.0}, {\"col\": \"Expensive\", \"idx\": 107, \"val\": 12.0}, {\"col\": \"Cheap\", \"idx\": 107, \"val\": 22.0}, {\"col\": \"Expensive\", \"idx\": 108, \"val\": 12.0}, {\"col\": \"Cheap\", \"idx\": 108, \"val\": 22.0}, {\"col\": \"Expensive\", \"idx\": 109, \"val\": 12.0}, {\"col\": \"Cheap\", \"idx\": 109, \"val\": 16.0}, {\"col\": \"Expensive\", \"idx\": 110, \"val\": 12.0}, {\"col\": \"Cheap\", \"idx\": 110, \"val\": 16.0}, {\"col\": \"Expensive\", \"idx\": 111, \"val\": 8.0}, {\"col\": \"Cheap\", \"idx\": 111, \"val\": 20.0}, {\"col\": \"Expensive\", \"idx\": 112, \"val\": 8.0}, {\"col\": \"Cheap\", \"idx\": 112, \"val\": 16.0}, {\"col\": \"Expensive\", \"idx\": 113, \"val\": 10.0}, {\"col\": \"Cheap\", \"idx\": 113, \"val\": 14.0}, {\"col\": \"Expensive\", \"idx\": 114, \"val\": 4.0}, {\"col\": \"Cheap\", \"idx\": 114, \"val\": 16.0}, {\"col\": \"Expensive\", \"idx\": 115, \"val\": 2.0}, {\"col\": \"Cheap\", \"idx\": 115, \"val\": 14.0}, {\"col\": \"Expensive\", \"idx\": 116, \"val\": 4.0}, {\"col\": \"Cheap\", \"idx\": 116, \"val\": 10.0}, {\"col\": \"Expensive\", \"idx\": 117, \"val\": 6.0}, {\"col\": \"Cheap\", \"idx\": 117, \"val\": 6.0}, {\"col\": \"Expensive\", \"idx\": 118, \"val\": 8.0}, {\"col\": \"Cheap\", \"idx\": 118, \"val\": 4.0}, {\"col\": \"Expensive\", \"idx\": 119, \"val\": 10.0}, {\"col\": \"Cheap\", \"idx\": 119, \"val\": 2.0}, {\"col\": \"Expensive\", \"idx\": 120, \"val\": 6.0}, {\"col\": \"Cheap\", \"idx\": 120, \"val\": 4.0}, {\"col\": \"Expensive\", \"idx\": 121, \"val\": 2.0}, {\"col\": \"Cheap\", \"idx\": 121, \"val\": 8.0}, {\"col\": \"Expensive\", \"idx\": 122, \"val\": NaN}, {\"col\": \"Cheap\", \"idx\": 122, \"val\": 10.0}, {\"col\": \"Expensive\", \"idx\": 123, \"val\": NaN}, {\"col\": \"Cheap\", \"idx\": 123, \"val\": 10.0}, {\"col\": \"Expensive\", \"idx\": 124, \"val\": 4.0}, {\"col\": \"Cheap\", \"idx\": 124, \"val\": 6.0}, {\"col\": \"Expensive\", \"idx\": 125, \"val\": 6.0}, {\"col\": \"Cheap\", \"idx\": 125, \"val\": 4.0}, {\"col\": \"Expensive\", \"idx\": 126, \"val\": 2.0}, {\"col\": \"Cheap\", \"idx\": 126, \"val\": 6.0}, {\"col\": \"Expensive\", \"idx\": 127, \"val\": 4.0}, {\"col\": \"Cheap\", \"idx\": 127, \"val\": 4.0}, {\"col\": \"Expensive\", \"idx\": 128, \"val\": 6.0}, {\"col\": \"Cheap\", \"idx\": 128, \"val\": NaN}, {\"col\": \"Expensive\", \"idx\": 129, \"val\": 2.0}, {\"col\": \"Cheap\", \"idx\": 129, \"val\": 4.0}, {\"col\": \"Expensive\", \"idx\": 130, \"val\": NaN}, {\"col\": \"Cheap\", \"idx\": 130, \"val\": 6.0}, {\"col\": \"Expensive\", \"idx\": 131, \"val\": NaN}, {\"col\": \"Cheap\", \"idx\": 131, \"val\": 6.0}, {\"col\": \"Expensive\", \"idx\": 132, \"val\": NaN}, {\"col\": \"Cheap\", \"idx\": 132, \"val\": 6.0}, {\"col\": \"Expensive\", \"idx\": 133, \"val\": NaN}, {\"col\": \"Cheap\", \"idx\": 133, \"val\": 2.0}, {\"col\": \"Expensive\", \"idx\": 134, \"val\": NaN}, {\"col\": \"Cheap\", \"idx\": 134, \"val\": 2.0}, {\"col\": \"Expensive\", \"idx\": 135, \"val\": 2.0}, {\"col\": \"Cheap\", \"idx\": 135, \"val\": NaN}, {\"col\": \"Expensive\", \"idx\": 136, \"val\": 2.0}, {\"col\": \"Cheap\", \"idx\": 136, \"val\": NaN}, {\"col\": \"Expensive\", \"idx\": 137, \"val\": 2.0}, {\"col\": \"Cheap\", \"idx\": 137, \"val\": NaN}, {\"col\": \"Expensive\", \"idx\": 138, \"val\": 2.0}, {\"col\": \"Cheap\", \"idx\": 138, \"val\": NaN}, {\"col\": \"Expensive\", \"idx\": 139, \"val\": NaN}, {\"col\": \"Cheap\", \"idx\": 139, \"val\": 2.0}, {\"col\": \"Expensive\", \"idx\": 140, \"val\": NaN}, {\"col\": \"Cheap\", \"idx\": 140, \"val\": 2.0}, {\"col\": \"Expensive\", \"idx\": 141, \"val\": NaN}, {\"col\": \"Cheap\", \"idx\": 141, \"val\": 2.0}, {\"col\": \"Expensive\", \"idx\": 142, \"val\": NaN}, {\"col\": \"Cheap\", \"idx\": 142, \"val\": 2.0}, {\"col\": \"Expensive\", \"idx\": 143, \"val\": NaN}, {\"col\": \"Cheap\", \"idx\": 143, \"val\": 2.0}, {\"col\": \"Expensive\", \"idx\": 144, \"val\": NaN}, {\"col\": \"Cheap\", \"idx\": 144, \"val\": 2.0}]}, {\"name\": \"stats\", \"source\": \"table\", \"transform\": [{\"keys\": [\"data.idx\"], \"type\": \"facet\"}, {\"type\": \"stats\", \"value\": \"data.val\"}]}], \"height\": 300, \"legends\": [{\"fill\": \"color\", \"offset\": 0, \"properties\": {}, \"title\": \"Edge Traversals\"}], \"marks\": [{\"from\": {\"data\": \"table\", \"transform\": [{\"keys\": [\"data.col\"], \"type\": \"facet\"}, {\"height\": \"data.val\", \"point\": \"data.idx\", \"type\": \"stack\"}]}, \"marks\": [{\"properties\": {\"enter\": {\"fill\": {\"field\": \"data.col\", \"scale\": \"color\"}, \"interpolate\": {\"value\": \"monotone\"}, \"opacity\": {\"value\": 0.5}, \"x\": {\"field\": \"data.idx\", \"scale\": \"x\"}, \"y\": {\"field\": \"y\", \"scale\": \"y\"}, \"y2\": {\"field\": \"y2\", \"scale\": \"y\"}}}, \"type\": \"area\"}], \"type\": \"group\"}], \"padding\": \"auto\", \"scales\": [{\"domain\": {\"data\": \"table\", \"field\": \"data.idx\"}, \"name\": \"x\", \"range\": \"width\", \"type\": \"linear\", \"zero\": false}, {\"domain\": {\"data\": \"stats\", \"field\": \"sum\"}, \"name\": \"y\", \"nice\": true, \"range\": \"height\"}, {\"domain\": {\"data\": \"table\", \"field\": \"data.col\"}, \"name\": \"color\", \"range\": [\"#ff0000\", \"#50aa50\"], \"type\": \"ordinal\"}], \"width\": 400}, function(chart) {\n",
        "         chart({el: \"#vis1dfbe85a590f47fcba4d7f4da78ae2ac\"}).update();\n",
        "       });\n",
        "     };\n",
        "     _do_plot();\n",
        "   })();\n",
        "</script>\n",
        "<style>.vega canvas {width: 100%;}</style>\n",
        "        "
       ],
       "metadata": {},
       "output_type": "pyout",
       "prompt_number": 450,
       "text": [
        "<vincent.charts.Area at 0x109239d90>"
       ]
      }
     ],
     "prompt_number": 450
    },
    {
     "cell_type": "heading",
     "level": 3,
     "metadata": {},
     "source": [
      "Waiting algorithm"
     ]
    },
    {
     "cell_type": "code",
     "collapsed": false,
     "input": [
      "def isexpensive(G,expensiveedges,e):\n",
      "    if G.is_directed():\n",
      "        return edgetokey(e) in expensiveedges or edgetokey((loc, curloc)) in expensiveedges\n",
      "    else:\n",
      "        (u,v) = e\n",
      "        return edgetokey((u,v)) in expensiveedges or edgetokey((v,u)) in expensiveedges "
     ],
     "language": "python",
     "metadata": {},
     "outputs": [],
     "prompt_number": 451
    },
    {
     "cell_type": "code",
     "collapsed": false,
     "input": [
      "frog_locations = np.random.randint(0, high = G.number_of_nodes(), size = frogs)\n",
      "for node in G.nodes_iter():\n",
      "    G.node[node]['visits'] = 0\n",
      "    G.node[node]['deaths'] = 0\n",
      "# Initialize edge traversal counters\n",
      "for e in G.edges_iter():\n",
      "    G.edge[e[0]][e[1]]['tripsvanilla'] = 0\n",
      "    G.edge[e[0]][e[1]]['frogswaiting'] = {}\n",
      "    G.edge[e[0]][e[1]]['timeline'] = {}\n",
      "frogs_left = frogs\n",
      "time = 0\n",
      "total_visits = 0\n",
      "death_times_sum = 0\n",
      "while frogs_left:\n",
      "    time +=1\n",
      "    for f in range(frogs):\n",
      "        curloc = frog_locations[f]\n",
      "        if curloc == None:\n",
      "            continue\n",
      "            \n",
      "        if random() < P_die:\n",
      "            G.node[curloc]['deaths'] += 1\n",
      "            death_times_sum += time\n",
      "            frog_locations[f] = None\n",
      "            frogs_left -= 1\n",
      "            continue\n",
      "        \n",
      "        total_visits += 1\n",
      "        \n",
      "        if len(G[curloc])>0:\n",
      "            frog_locations[f] = choice(G[curloc].keys())\n",
      "            G.edge[curloc][frog_locations[f]]['tripsvanilla'] += 1\n",
      "            loc = frog_locations[f]\n",
      "\n",
      "            e = (curloc, loc)\n",
      "            if isexpensive(G,expensiveedges,e):\n",
      "                try:\n",
      "                    G.edge[curloc][loc]['frogswaiting'][time] += 1\n",
      "                else:\n",
      "                    G.edge[curloc][loc]['frogswaiting'][time] = 1\n",
      "                if not G.is_directed():\n",
      "                    try:\n",
      "                        G.edge[loc][curloc]['timeline'][time] += 1\n",
      "                    except:\n",
      "                        G.edge[loc][curloc]['timeline'][time] = 1\n",
      "                \n",
      "                if time % T == 0:\n",
      "                    \n",
      "                    \n",
      "            else:      \n",
      "                try:\n",
      "                    G.edge[curloc][loc]['timeline'][time] += 1\n",
      "                except:\n",
      "                    G.edge[curloc][loc]['timeline'][time] = 1\n",
      "                if not G.is_directed():\n",
      "                    try:\n",
      "                        G.edge[loc][curloc]['timeline'][time] += 1\n",
      "                    except:\n",
      "                        G.edge[loc][curloc]['timeline'][time] = 1\n",
      "        else:\n",
      "            frog_locations[f] = np.random.randint(0, high = G.number_of_nodes())\n",
      "            \n",
      "            \n",
      "        G.node[frog_locations[f]]['visits'] +=1\n",
      "            "
     ],
     "language": "python",
     "metadata": {},
     "outputs": [
      {
       "ename": "SyntaxError",
       "evalue": "invalid syntax (<ipython-input-452-61cdecce0f2a>, line 39)",
       "output_type": "pyerr",
       "traceback": [
        "\u001b[0;36m  File \u001b[0;32m\"<ipython-input-452-61cdecce0f2a>\"\u001b[0;36m, line \u001b[0;32m39\u001b[0m\n\u001b[0;31m    else:\u001b[0m\n\u001b[0m       ^\u001b[0m\n\u001b[0;31mSyntaxError\u001b[0m\u001b[0;31m:\u001b[0m invalid syntax\n"
       ]
      }
     ],
     "prompt_number": 452
    },
    {
     "cell_type": "code",
     "collapsed": false,
     "input": [],
     "language": "python",
     "metadata": {},
     "outputs": []
    }
   ],
   "metadata": {}
  }
 ]
}