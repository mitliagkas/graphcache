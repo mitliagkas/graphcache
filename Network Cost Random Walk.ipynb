{
 "metadata": {
  "name": "",
  "signature": "sha256:8f12214e85a9685e35e99dd0d322fc005c706fff37fae8a1cd176dbce6a4a2b8"
 },
 "nbformat": 3,
 "nbformat_minor": 0,
 "worksheets": [
  {
   "cells": [
    {
     "cell_type": "code",
     "collapsed": false,
     "input": [
      "import networkx as nx\n",
      "import numpy as np\n",
      "from random import randrange, choice, random\n",
      "import math"
     ],
     "language": "python",
     "metadata": {},
     "outputs": [],
     "prompt_number": 1
    },
    {
     "cell_type": "code",
     "collapsed": false,
     "input": [
      "import json\n",
      "from networkx.readwrite import json_graph"
     ],
     "language": "python",
     "metadata": {},
     "outputs": [],
     "prompt_number": 2
    },
    {
     "cell_type": "code",
     "collapsed": false,
     "input": [
      "import pandas as pd\n",
      "import vincent\n",
      "vincent.initialize_notebook()"
     ],
     "language": "python",
     "metadata": {},
     "outputs": [
      {
       "html": [
        "\n",
        "           <script>\n",
        "               \n",
        "                function vct_load_lib(url, callback){\n",
        "                      if(typeof d3 !== 'undefined' &&\n",
        "                         url === 'http://d3js.org/d3.v3.min.js'){\n",
        "                        callback()\n",
        "                      }\n",
        "                      var s = document.createElement('script');\n",
        "                      s.src = url;\n",
        "                      s.async = true;\n",
        "                      s.onreadystatechange = s.onload = callback;\n",
        "                      s.onerror = function(){\n",
        "                        console.warn(\"failed to load library \" + url);\n",
        "                        };\n",
        "                      document.getElementsByTagName(\"head\")[0].appendChild(s);\n",
        "                };\n",
        "                var vincent_event = new CustomEvent(\n",
        "                  \"vincent_libs_loaded\",\n",
        "                  {bubbles: true, cancelable: true}\n",
        "                );\n",
        "                \n",
        "               function load_all_libs(){\n",
        "                  console.log('Loading Vincent libs...')\n",
        "                  vct_load_lib('http://d3js.org/d3.v3.min.js', function(){\n",
        "                  vct_load_lib('http://d3js.org/d3.geo.projection.v0.min.js', function(){\n",
        "                  vct_load_lib('http://wrobstory.github.io/d3-cloud/d3.layout.cloud.js', function(){\n",
        "                  vct_load_lib('http://wrobstory.github.io/vega/vega.v1.3.3.js', function(){\n",
        "                  window.dispatchEvent(vincent_event);\n",
        "                  });\n",
        "                  });\n",
        "                  });\n",
        "                  });\n",
        "               };\n",
        "               if(typeof define === \"function\" && define.amd){\n",
        "                    if (window['d3'] === undefined ||\n",
        "                        window['topojson'] === undefined){\n",
        "                        require.config(\n",
        "                            {paths: {\n",
        "                              d3: 'http://d3js.org/d3.v3.min',\n",
        "                              topojson: 'http://d3js.org/topojson.v1.min'\n",
        "                              }\n",
        "                            }\n",
        "                          );\n",
        "                        require([\"d3\"], function(d3){\n",
        "                            console.log('Loading Vincent from require.js...')\n",
        "                            window.d3 = d3;\n",
        "                            require([\"topojson\"], function(topojson){\n",
        "                                window.topojson = topojson;\n",
        "                                load_all_libs();\n",
        "                            });\n",
        "                        });\n",
        "                    } else {\n",
        "                        load_all_libs();\n",
        "                    };\n",
        "               }else{\n",
        "                    console.log('Require.js not found, loading manually...')\n",
        "                    load_all_libs();\n",
        "               };\n",
        "\n",
        "           </script>"
       ],
       "metadata": {},
       "output_type": "display_data",
       "text": [
        "<IPython.core.display.HTML at 0x107be00d0>"
       ]
      }
     ],
     "prompt_number": 20
    },
    {
     "cell_type": "heading",
     "level": 1,
     "metadata": {},
     "source": [
      "Generate graph"
     ]
    },
    {
     "cell_type": "code",
     "collapsed": false,
     "input": [
      "n = 8\n",
      "m = 2\n",
      "p = 0.3"
     ],
     "language": "python",
     "metadata": {},
     "outputs": [],
     "prompt_number": 140
    },
    {
     "cell_type": "code",
     "collapsed": true,
     "input": [
      "G = nx.barbell_graph(4,0)"
     ],
     "language": "python",
     "metadata": {},
     "outputs": [],
     "prompt_number": 113
    },
    {
     "cell_type": "code",
     "collapsed": false,
     "input": [
      "G = nx.scale_free_graph(n)"
     ],
     "language": "python",
     "metadata": {},
     "outputs": [],
     "prompt_number": 296
    },
    {
     "cell_type": "code",
     "collapsed": true,
     "input": [
      "G = nx.powerlaw_cluster_graph(n=n, m=m, p=p)"
     ],
     "language": "python",
     "metadata": {},
     "outputs": [],
     "prompt_number": 313
    },
    {
     "cell_type": "code",
     "collapsed": true,
     "input": [
      "G = nx.cycle_graph(5)"
     ],
     "language": "python",
     "metadata": {},
     "outputs": [],
     "prompt_number": 184
    },
    {
     "cell_type": "heading",
     "level": 3,
     "metadata": {},
     "source": [
      "Save and Plot Graph"
     ]
    },
    {
     "cell_type": "code",
     "collapsed": false,
     "input": [
      "d = json_graph.node_link_data(G)\n",
      "for node in d['nodes']:\n",
      "    node['name']=node['id']\n",
      "    node['value']=G.degree(node['id'])\n",
      "\n",
      "d['adjacency'] = json_graph.adjacency_data(G)['adjacency']\n",
      "json.dump(d, open('graph.json','w'))"
     ],
     "language": "python",
     "metadata": {},
     "outputs": [],
     "prompt_number": 297
    },
    {
     "cell_type": "code",
     "collapsed": false,
     "input": [
      "%%html\n",
      "<div id=\"d3-example\"></div>\n",
      "<style>\n",
      ".node {stroke: #fff; stroke-width: 1.5px;}\n",
      "marker {stroke: #999;}\n",
      ".link {stroke: #999; stroke-opacity: .3;}\n",
      "</style>\n",
      "<script src=\"force.js\"></script>"
     ],
     "language": "python",
     "metadata": {},
     "outputs": [
      {
       "html": [
        "<div id=\"d3-example\"></div>\n",
        "<style>\n",
        ".node {stroke: #fff; stroke-width: 1.5px;}\n",
        "marker {stroke: #999;}\n",
        ".link {stroke: #999; stroke-opacity: .3;}\n",
        "</style>\n",
        "<script src=\"force.js\"></script>"
       ],
       "metadata": {},
       "output_type": "display_data",
       "text": [
        "<IPython.core.display.HTML at 0x10959c3d0>"
       ]
      }
     ],
     "prompt_number": 298
    },
    {
     "cell_type": "heading",
     "level": 3,
     "metadata": {},
     "source": [
      "Convert to DiGraph, if necessary"
     ]
    },
    {
     "cell_type": "code",
     "collapsed": false,
     "input": [
      "if G.is_multigraph():\n",
      "    if G.is_directed():\n",
      "        Gm = G.copy()\n",
      "        G = nx.DiGraph()\n",
      "        for (u,v) in Gm.edges_iter():\n",
      "            G.add_edge(u,v)"
     ],
     "language": "python",
     "metadata": {},
     "outputs": [],
     "prompt_number": 299
    },
    {
     "cell_type": "heading",
     "level": 1,
     "metadata": {},
     "source": [
      "Simulate Random Walks"
     ]
    },
    {
     "cell_type": "code",
     "collapsed": true,
     "input": [
      "frogs = 1000"
     ],
     "language": "python",
     "metadata": {},
     "outputs": [],
     "prompt_number": 145
    },
    {
     "cell_type": "code",
     "collapsed": false,
     "input": [
      "# Life expectancy L. L should be the mean of a geometric distribution\n",
      "L = int(math.ceil(10*math.log(G.order())))"
     ],
     "language": "python",
     "metadata": {},
     "outputs": [],
     "prompt_number": 146
    },
    {
     "cell_type": "code",
     "collapsed": false,
     "input": [
      "# P_die is the probability that a frog dies at any given time\n",
      "P_die = 1/float(L)"
     ],
     "language": "python",
     "metadata": {},
     "outputs": [],
     "prompt_number": 147
    },
    {
     "cell_type": "code",
     "collapsed": false,
     "input": [
      "T = 10"
     ],
     "language": "python",
     "metadata": {},
     "outputs": [],
     "prompt_number": 148
    },
    {
     "cell_type": "heading",
     "level": 4,
     "metadata": {},
     "source": [
      "Count Visits and Deaths"
     ]
    },
    {
     "cell_type": "code",
     "collapsed": false,
     "input": [
      "frog_locations = np.random.randint(0, high = G.number_of_nodes(), size = frogs)\n",
      "for node in G.nodes_iter():\n",
      "    G.node[node]['visits'] = 0\n",
      "    G.node[node]['deaths'] = 0\n",
      "# Initialize edge traversal counters\n",
      "for e in G.edges_iter():\n",
      "    G.edge[e[0]][e[1]]['tripsvanilla'] = 0\n",
      "#    G.edge[e[0]][e[1]]['tripssmart'] = 0\n",
      "#    G.edge[e[0]][e[1]]['frogswaiting'] = 0\n",
      "    G.edge[e[0]][e[1]]['timeline'] = {}\n",
      "frogs_left = frogs\n",
      "time = 0\n",
      "total_visits = 0\n",
      "death_times_sum = 0\n",
      "while frogs_left:\n",
      "    time +=1\n",
      "    for f in range(frogs):\n",
      "        curloc = frog_locations[f]\n",
      "        \n",
      "        # Skip dead frogs\n",
      "        if curloc == -1:\n",
      "            continue\n",
      "            \n",
      "        # Flip a coin to die\n",
      "        if random() < P_die:\n",
      "            G.node[curloc]['deaths'] += 1\n",
      "            death_times_sum += time\n",
      "            frog_locations[f] = -1\n",
      "            frogs_left -= 1\n",
      "            continue\n",
      "        \n",
      "        total_visits +=1\n",
      "        \n",
      "        if len(G[curloc])>0:\n",
      "            frog_locations[f] = choice(G[curloc].keys())\n",
      "            G.edge[curloc][frog_locations[f]]['tripsvanilla'] += 1\n",
      "            loc = frog_locations[f]\n",
      "\n",
      "            try:\n",
      "                G.edge[curloc][loc]['timeline'][time] += 1\n",
      "            except:\n",
      "                G.edge[curloc][loc]['timeline'][time] = 1\n",
      "            if not G.is_directed():\n",
      "                try:\n",
      "                    G.edge[loc][curloc]['timeline'][time] += 1\n",
      "                except:\n",
      "                    G.edge[loc][curloc]['timeline'][time] = 1\n",
      "        else:\n",
      "            frog_locations[f] = np.random.randint(0, high = G.number_of_nodes())\n",
      "            \n",
      "            \n",
      "        G.node[frog_locations[f]]['visits'] +=1"
     ],
     "language": "python",
     "metadata": {},
     "outputs": [],
     "prompt_number": 174
    },
    {
     "cell_type": "code",
     "collapsed": false,
     "input": [
      "print \"Average death time:\", death_times_sum / frogs\n",
      "print \"Expected death time:\", L\n",
      "print \"Nominal death time STD:\", math.sqrt((1-P_die)/P_die**2)"
     ],
     "language": "python",
     "metadata": {},
     "outputs": [
      {
       "output_type": "stream",
       "stream": "stdout",
       "text": [
        "Average death time: 20\n",
        "Expected death time: 21\n",
        "Nominal death time STD: 20.4939015319\n"
       ]
      }
     ],
     "prompt_number": 175
    },
    {
     "cell_type": "code",
     "collapsed": false,
     "input": [
      "visits = [G.node[node]['visits'] for node in G.nodes_iter() ]\n",
      "norm_visits = np.array(visits)/float(total_visits)\n",
      "norm_visits\n",
      "deaths = [G.node[node]['deaths'] for node in G.nodes_iter() ]\n",
      "norm_deaths = np.array(deaths)/float(frogs)\n",
      "norm_deaths\n",
      "if G.is_directed():\n",
      "    degrees = [ G.in_degree(node) for node in G.nodes_iter() ]\n",
      "    norm_degrees = np.array(degrees)/float(G.size())\n",
      "else:\n",
      "    degrees = [ G.degree(node) for node in G.nodes_iter() ]\n",
      "    norm_degrees = np.array(degrees)/float(2*G.size())\n",
      "\n",
      "norm_degrees\n",
      "multi_iter1 = {'index':range(G.order()), 'Visits':norm_visits, 'Deaths':norm_deaths, 'Degree':norm_degrees}\n",
      "line = vincent.Scatter(multi_iter1, iter_idx='index')\n",
      "line.axis_titles(x='Vertex', y='Juice')\n",
      "line.legend(title='Results')\n",
      "line.width = 400\n",
      "line.height = 300\n",
      "line.marks[0].marks[0].properties.enter.opacity = vincent.ValueRef(value=1)"
     ],
     "language": "python",
     "metadata": {},
     "outputs": []
    },
    {
     "cell_type": "code",
     "collapsed": false,
     "input": [
      "line.marks[0].marks[0].properties.update = vincent.PropertySet()\n",
      "line.marks[0].marks[0].properties.update.size = vincent.ValueRef(value=100)\n",
      "line.marks[0].marks[0].properties.hover = vincent.PropertySet()\n",
      "line.marks[0].marks[0].properties.hover.size = vincent.ValueRef(value=200)\n",
      "line.marks[0].marks[0].properties.update.size = vincent.ValueRef(value=100)\n",
      "line.marks[0].marks[0].properties.hover = vincent.PropertySet()\n",
      "line.marks[0].marks[0].properties.hover.size = vincent.ValueRef(value=200)\n",
      "line.scales['shape'] = vincent.Scale(name='shape', type='ordinal',\n",
      "                      domain=vincent.DataRef(data='table', field='data.col'),\n",
      "                      range=[\"square\", \"circle\", \"triangle-down\", \"triangle-up\"])\n",
      "line.marks[0].marks[0].properties.enter.shape = vincent.ValueRef(scale=\"shape\", field=\"data.col\")\n",
      "line.legends[0].shape = \"shape\""
     ],
     "language": "python",
     "metadata": {},
     "outputs": [
      {
       "output_type": "stream",
       "stream": "stdout",
       "text": [
        "Average death time: 20\n",
        "Expected death time: 21\n",
        "Nominal death time STD: 20.4939015319\n"
       ]
      }
     ],
     "prompt_number": 25
    },
    {
     "cell_type": "code",
     "collapsed": false,
     "input": [
      "line"
     ],
     "language": "python",
     "metadata": {},
     "outputs": [
      {
       "html": [
        "<div id=\"vis019efa1163cf4e27b797c0be7b549dea\"></div>\n",
        "<script>\n",
        "   ( function() {\n",
        "     var _do_plot = function() {\n",
        "       if (typeof vg === 'undefined') {\n",
        "         window.addEventListener('vincent_libs_loaded', _do_plot)\n",
        "         return;\n",
        "       }\n",
        "       vg.parse.spec({\"axes\": [{\"scale\": \"x\", \"title\": \"Vertex\", \"type\": \"x\"}, {\"scale\": \"y\", \"title\": \"Juice\", \"type\": \"y\"}], \"data\": [{\"name\": \"table\", \"values\": [{\"col\": \"Deaths\", \"idx\": 0, \"val\": 0.108}, {\"col\": \"Deaths\", \"idx\": 1, \"val\": 0.11799999999999999}, {\"col\": \"Deaths\", \"idx\": 2, \"val\": 0.104}, {\"col\": \"Deaths\", \"idx\": 3, \"val\": 0.16200000000000001}, {\"col\": \"Deaths\", \"idx\": 4, \"val\": 0.17000000000000001}, {\"col\": \"Deaths\", \"idx\": 5, \"val\": 0.105}, {\"col\": \"Deaths\", \"idx\": 6, \"val\": 0.12}, {\"col\": \"Deaths\", \"idx\": 7, \"val\": 0.113}, {\"col\": \"Degree\", \"idx\": 0, \"val\": 0.11538461538461539}, {\"col\": \"Degree\", \"idx\": 1, \"val\": 0.11538461538461539}, {\"col\": \"Degree\", \"idx\": 2, \"val\": 0.11538461538461539}, {\"col\": \"Degree\", \"idx\": 3, \"val\": 0.15384615384615385}, {\"col\": \"Degree\", \"idx\": 4, \"val\": 0.15384615384615385}, {\"col\": \"Degree\", \"idx\": 5, \"val\": 0.11538461538461539}, {\"col\": \"Degree\", \"idx\": 6, \"val\": 0.11538461538461539}, {\"col\": \"Degree\", \"idx\": 7, \"val\": 0.11538461538461539}, {\"col\": \"Visits\", \"idx\": 0, \"val\": 0.11659732317409394}, {\"col\": \"Visits\", \"idx\": 1, \"val\": 0.11704847360769964}, {\"col\": \"Visits\", \"idx\": 2, \"val\": 0.11815128577873578}, {\"col\": \"Visits\", \"idx\": 3, \"val\": 0.15765201263221215}, {\"col\": \"Visits\", \"idx\": 4, \"val\": 0.15223820742894381}, {\"col\": \"Visits\", \"idx\": 5, \"val\": 0.11409093187628452}, {\"col\": \"Visits\", \"idx\": 6, \"val\": 0.11238658579377413}, {\"col\": \"Visits\", \"idx\": 7, \"val\": 0.11183517970825606}]}], \"height\": 300, \"legends\": [{\"fill\": \"color\", \"offset\": 0, \"properties\": {}, \"shape\": \"shape\", \"title\": \"Results\"}], \"marks\": [{\"from\": {\"data\": \"table\", \"transform\": [{\"keys\": [\"data.col\"], \"type\": \"facet\"}]}, \"marks\": [{\"properties\": {\"enter\": {\"fill\": {\"field\": \"data.col\", \"scale\": \"color\"}, \"opacity\": {\"value\": 1}, \"shape\": {\"field\": \"data.col\", \"scale\": \"shape\"}, \"size\": {\"value\": 100}, \"x\": {\"field\": \"data.idx\", \"scale\": \"x\"}, \"y\": {\"field\": \"data.val\", \"scale\": \"y\"}}, \"hover\": {\"size\": {\"value\": 200}}, \"update\": {\"size\": {\"value\": 100}}}, \"type\": \"symbol\"}], \"type\": \"group\"}], \"padding\": \"auto\", \"scales\": [{\"domain\": {\"data\": \"table\", \"field\": \"data.idx\"}, \"name\": \"x\", \"range\": \"width\", \"type\": \"linear\"}, {\"domain\": {\"data\": \"table\", \"field\": \"data.val\"}, \"name\": \"y\", \"nice\": true, \"range\": \"height\"}, {\"domain\": {\"data\": \"table\", \"field\": \"data.col\"}, \"name\": \"color\", \"range\": \"category20\", \"type\": \"ordinal\"}, {\"domain\": {\"data\": \"table\", \"field\": \"data.col\"}, \"name\": \"shape\", \"range\": [\"square\", \"circle\", \"triangle-down\", \"triangle-up\"], \"type\": \"ordinal\"}], \"width\": 400}, function(chart) {\n",
        "         chart({el: \"#vis019efa1163cf4e27b797c0be7b549dea\"}).update();\n",
        "       });\n",
        "     };\n",
        "     _do_plot();\n",
        "   })();\n",
        "</script>\n",
        "<style>.vega canvas {width: 100%;}</style>\n",
        "        "
       ],
       "metadata": {},
       "output_type": "pyout",
       "prompt_number": 36,
       "text": [
        "<vincent.charts.Scatter at 0x107ba9c50>"
       ]
      }
     ],
     "prompt_number": 36
    },
    {
     "cell_type": "code",
     "collapsed": false,
     "input": [
      "def edgetokey(e):\n",
      "    if False:\n",
      "        return e\n",
      "    else:\n",
      "        (u,v) = e\n",
      "        return '(' + str(u) + ', ' + str(v) + ')'"
     ],
     "language": "python",
     "metadata": {},
     "outputs": [],
     "prompt_number": 61
    },
    {
     "cell_type": "code",
     "collapsed": false,
     "input": [
      "data = []\n",
      "index = []\n",
      "for e in G.edges_iter():\n",
      "    key = edgetokey((e[0], e[1]))\n",
      "    data.append(pd.Series(G.edge[e[0]][e[1]]['timeline']))\n",
      "    index.append(key)"
     ],
     "language": "python",
     "metadata": {},
     "outputs": []
    },
    {
     "cell_type": "code",
     "collapsed": false,
     "input": [
      "df = pd.DataFrame(data, index=index).T\n",
      "#line = vincent.Scatter(data, iter_idx='index')\n",
      "line = vincent.StackedArea(df)\n",
      "line.axis_titles(x='Time', y='# frogs')\n",
      "#line.colors(brew = 'Spectral')\n",
      "#line.axes([0, 40, 0, 2])\n",
      "line.legend(title='Edge')\n",
      "line.width = 400\n",
      "line.height = 300\n",
      "line.marks[0].marks[0].properties.enter.opacity = vincent.ValueRef(value=0.5)"
     ],
     "language": "python",
     "metadata": {},
     "outputs": [],
     "prompt_number": 62
    },
    {
     "cell_type": "code",
     "collapsed": false,
     "input": [
      "line.marks[0].marks[0].properties.update = vincent.PropertySet()\n",
      "line.marks[0].marks[0].properties.update.size = vincent.ValueRef(value=100)\n",
      "line.marks[0].marks[0].properties.hover = vincent.PropertySet()\n",
      "line.marks[0].marks[0].properties.hover.size = vincent.ValueRef(value=200)\n",
      "\n",
      "line.marks[0].marks[0].properties.update.opacity = vincent.ValueRef(value=0.7)\n",
      "line.marks[0].marks[0].properties.hover.opacity = vincent.ValueRef(value=1)"
     ],
     "language": "python",
     "metadata": {},
     "outputs": [],
     "prompt_number": 64
    },
    {
     "cell_type": "code",
     "collapsed": false,
     "input": [
      "line"
     ],
     "language": "python",
     "metadata": {},
     "outputs": [
      {
       "html": [
        "<div id=\"vis2136d0a99a534917a0a50eb42fb21bdf\"></div>\n",
        "<script>\n",
        "   ( function() {\n",
        "     var _do_plot = function() {\n",
        "       if (typeof vg === 'undefined') {\n",
        "         window.addEventListener('vincent_libs_loaded', _do_plot)\n",
        "         return;\n",
        "       }\n",
        "       vg.parse.spec({\"axes\": [{\"scale\": \"x\", \"title\": \"Time\", \"type\": \"x\"}, {\"scale\": \"y\", \"title\": \"# frogs\", \"type\": \"y\"}], \"data\": [{\"name\": \"table\", \"values\": [{\"col\": \"(0, 1)\", \"idx\": 1, \"val\": 134.0}, {\"col\": \"(0, 2)\", \"idx\": 1, \"val\": 168.0}, {\"col\": \"(0, 3)\", \"idx\": 1, \"val\": 158.0}, {\"col\": \"(1, 2)\", \"idx\": 1, \"val\": 146.0}, {\"col\": \"(1, 3)\", \"idx\": 1, \"val\": 134.0}, {\"col\": \"(2, 3)\", \"idx\": 1, \"val\": 136.0}, {\"col\": \"(3, 4)\", \"idx\": 1, \"val\": 140.0}, {\"col\": \"(4, 5)\", \"idx\": 1, \"val\": 172.0}, {\"col\": \"(4, 6)\", \"idx\": 1, \"val\": 148.0}, {\"col\": \"(4, 7)\", \"idx\": 1, \"val\": 110.0}, {\"col\": \"(5, 6)\", \"idx\": 1, \"val\": 158.0}, {\"col\": \"(5, 7)\", \"idx\": 1, \"val\": 144.0}, {\"col\": \"(6, 7)\", \"idx\": 1, \"val\": 156.0}, {\"col\": \"(0, 1)\", \"idx\": 2, \"val\": 110.0}, {\"col\": \"(0, 2)\", \"idx\": 2, \"val\": 156.0}, {\"col\": \"(0, 3)\", \"idx\": 2, \"val\": 144.0}, {\"col\": \"(1, 2)\", \"idx\": 2, \"val\": 126.0}, {\"col\": \"(1, 3)\", \"idx\": 2, \"val\": 164.0}, {\"col\": \"(2, 3)\", \"idx\": 2, \"val\": 144.0}, {\"col\": \"(3, 4)\", \"idx\": 2, \"val\": 150.0}, {\"col\": \"(4, 5)\", \"idx\": 2, \"val\": 116.0}, {\"col\": \"(4, 6)\", \"idx\": 2, \"val\": 118.0}, {\"col\": \"(4, 7)\", \"idx\": 2, \"val\": 156.0}, {\"col\": \"(5, 6)\", \"idx\": 2, \"val\": 128.0}, {\"col\": \"(5, 7)\", \"idx\": 2, \"val\": 156.0}, {\"col\": \"(6, 7)\", \"idx\": 2, \"val\": 154.0}, {\"col\": \"(0, 1)\", \"idx\": 3, \"val\": 124.0}, {\"col\": \"(0, 2)\", \"idx\": 3, \"val\": 150.0}, {\"col\": \"(0, 3)\", \"idx\": 3, \"val\": 150.0}, {\"col\": \"(1, 2)\", \"idx\": 3, \"val\": 136.0}, {\"col\": \"(1, 3)\", \"idx\": 3, \"val\": 170.0}, {\"col\": \"(2, 3)\", \"idx\": 3, \"val\": 114.0}, {\"col\": \"(3, 4)\", \"idx\": 3, \"val\": 128.0}, {\"col\": \"(4, 5)\", \"idx\": 3, \"val\": 134.0}, {\"col\": \"(4, 6)\", \"idx\": 3, \"val\": 112.0}, {\"col\": \"(4, 7)\", \"idx\": 3, \"val\": 156.0}, {\"col\": \"(5, 6)\", \"idx\": 3, \"val\": 100.0}, {\"col\": \"(5, 7)\", \"idx\": 3, \"val\": 152.0}, {\"col\": \"(6, 7)\", \"idx\": 3, \"val\": 130.0}, {\"col\": \"(0, 1)\", \"idx\": 4, \"val\": 148.0}, {\"col\": \"(0, 2)\", \"idx\": 4, \"val\": 150.0}, {\"col\": \"(0, 3)\", \"idx\": 4, \"val\": 114.0}, {\"col\": \"(1, 2)\", \"idx\": 4, \"val\": 114.0}, {\"col\": \"(1, 3)\", \"idx\": 4, \"val\": 156.0}, {\"col\": \"(2, 3)\", \"idx\": 4, \"val\": 156.0}, {\"col\": \"(3, 4)\", \"idx\": 4, \"val\": 116.0}, {\"col\": \"(4, 5)\", \"idx\": 4, \"val\": 118.0}, {\"col\": \"(4, 6)\", \"idx\": 4, \"val\": 88.0}, {\"col\": \"(4, 7)\", \"idx\": 4, \"val\": 132.0}, {\"col\": \"(5, 6)\", \"idx\": 4, \"val\": 130.0}, {\"col\": \"(5, 7)\", \"idx\": 4, \"val\": 120.0}, {\"col\": \"(6, 7)\", \"idx\": 4, \"val\": 138.0}, {\"col\": \"(0, 1)\", \"idx\": 5, \"val\": 138.0}, {\"col\": \"(0, 2)\", \"idx\": 5, \"val\": 152.0}, {\"col\": \"(0, 3)\", \"idx\": 5, \"val\": 94.0}, {\"col\": \"(1, 2)\", \"idx\": 5, \"val\": 118.0}, {\"col\": \"(1, 3)\", \"idx\": 5, \"val\": 152.0}, {\"col\": \"(2, 3)\", \"idx\": 5, \"val\": 134.0}, {\"col\": \"(3, 4)\", \"idx\": 5, \"val\": 124.0}, {\"col\": \"(4, 5)\", \"idx\": 5, \"val\": 110.0}, {\"col\": \"(4, 6)\", \"idx\": 5, \"val\": 106.0}, {\"col\": \"(4, 7)\", \"idx\": 5, \"val\": 106.0}, {\"col\": \"(5, 6)\", \"idx\": 5, \"val\": 134.0}, {\"col\": \"(5, 7)\", \"idx\": 5, \"val\": 110.0}, {\"col\": \"(6, 7)\", \"idx\": 5, \"val\": 130.0}, {\"col\": \"(0, 1)\", \"idx\": 6, \"val\": 130.0}, {\"col\": \"(0, 2)\", \"idx\": 6, \"val\": 106.0}, {\"col\": \"(0, 3)\", \"idx\": 6, \"val\": 130.0}, {\"col\": \"(1, 2)\", \"idx\": 6, \"val\": 108.0}, {\"col\": \"(1, 3)\", \"idx\": 6, \"val\": 120.0}, {\"col\": \"(2, 3)\", \"idx\": 6, \"val\": 150.0}, {\"col\": \"(3, 4)\", \"idx\": 6, \"val\": 120.0}, {\"col\": \"(4, 5)\", \"idx\": 6, \"val\": 114.0}, {\"col\": \"(4, 6)\", \"idx\": 6, \"val\": 118.0}, {\"col\": \"(4, 7)\", \"idx\": 6, \"val\": 108.0}, {\"col\": \"(5, 6)\", \"idx\": 6, \"val\": 132.0}, {\"col\": \"(5, 7)\", \"idx\": 6, \"val\": 108.0}, {\"col\": \"(6, 7)\", \"idx\": 6, \"val\": 100.0}, {\"col\": \"(0, 1)\", \"idx\": 7, \"val\": 130.0}, {\"col\": \"(0, 2)\", \"idx\": 7, \"val\": 104.0}, {\"col\": \"(0, 3)\", \"idx\": 7, \"val\": 124.0}, {\"col\": \"(1, 2)\", \"idx\": 7, \"val\": 106.0}, {\"col\": \"(1, 3)\", \"idx\": 7, \"val\": 122.0}, {\"col\": \"(2, 3)\", \"idx\": 7, \"val\": 112.0}, {\"col\": \"(3, 4)\", \"idx\": 7, \"val\": 104.0}, {\"col\": \"(4, 5)\", \"idx\": 7, \"val\": 108.0}, {\"col\": \"(4, 6)\", \"idx\": 7, \"val\": 106.0}, {\"col\": \"(4, 7)\", \"idx\": 7, \"val\": 128.0}, {\"col\": \"(5, 6)\", \"idx\": 7, \"val\": 110.0}, {\"col\": \"(5, 7)\", \"idx\": 7, \"val\": 100.0}, {\"col\": \"(6, 7)\", \"idx\": 7, \"val\": 112.0}, {\"col\": \"(0, 1)\", \"idx\": 8, \"val\": 112.0}, {\"col\": \"(0, 2)\", \"idx\": 8, \"val\": 120.0}, {\"col\": \"(0, 3)\", \"idx\": 8, \"val\": 102.0}, {\"col\": \"(1, 2)\", \"idx\": 8, \"val\": 126.0}, {\"col\": \"(1, 3)\", \"idx\": 8, \"val\": 88.0}, {\"col\": \"(2, 3)\", \"idx\": 8, \"val\": 104.0}, {\"col\": \"(3, 4)\", \"idx\": 8, \"val\": 96.0}, {\"col\": \"(4, 5)\", \"idx\": 8, \"val\": 112.0}, {\"col\": \"(4, 6)\", \"idx\": 8, \"val\": 120.0}, {\"col\": \"(4, 7)\", \"idx\": 8, \"val\": 96.0}, {\"col\": \"(5, 6)\", \"idx\": 8, \"val\": 106.0}, {\"col\": \"(5, 7)\", \"idx\": 8, \"val\": 112.0}, {\"col\": \"(6, 7)\", \"idx\": 8, \"val\": 96.0}, {\"col\": \"(0, 1)\", \"idx\": 9, \"val\": 108.0}, {\"col\": \"(0, 2)\", \"idx\": 9, \"val\": 112.0}, {\"col\": \"(0, 3)\", \"idx\": 9, \"val\": 112.0}, {\"col\": \"(1, 2)\", \"idx\": 9, \"val\": 104.0}, {\"col\": \"(1, 3)\", \"idx\": 9, \"val\": 68.0}, {\"col\": \"(2, 3)\", \"idx\": 9, \"val\": 142.0}, {\"col\": \"(3, 4)\", \"idx\": 9, \"val\": 74.0}, {\"col\": \"(4, 5)\", \"idx\": 9, \"val\": 122.0}, {\"col\": \"(4, 6)\", \"idx\": 9, \"val\": 114.0}, {\"col\": \"(4, 7)\", \"idx\": 9, \"val\": 84.0}, {\"col\": \"(5, 6)\", \"idx\": 9, \"val\": 112.0}, {\"col\": \"(5, 7)\", \"idx\": 9, \"val\": 88.0}, {\"col\": \"(6, 7)\", \"idx\": 9, \"val\": 92.0}, {\"col\": \"(0, 1)\", \"idx\": 10, \"val\": 118.0}, {\"col\": \"(0, 2)\", \"idx\": 10, \"val\": 110.0}, {\"col\": \"(0, 3)\", \"idx\": 10, \"val\": 102.0}, {\"col\": \"(1, 2)\", \"idx\": 10, \"val\": 78.0}, {\"col\": \"(1, 3)\", \"idx\": 10, \"val\": 92.0}, {\"col\": \"(2, 3)\", \"idx\": 10, \"val\": 86.0}, {\"col\": \"(3, 4)\", \"idx\": 10, \"val\": 128.0}, {\"col\": \"(4, 5)\", \"idx\": 10, \"val\": 110.0}, {\"col\": \"(4, 6)\", \"idx\": 10, \"val\": 84.0}, {\"col\": \"(4, 7)\", \"idx\": 10, \"val\": 88.0}, {\"col\": \"(5, 6)\", \"idx\": 10, \"val\": 98.0}, {\"col\": \"(5, 7)\", \"idx\": 10, \"val\": 78.0}, {\"col\": \"(6, 7)\", \"idx\": 10, \"val\": 88.0}, {\"col\": \"(0, 1)\", \"idx\": 11, \"val\": 104.0}, {\"col\": \"(0, 2)\", \"idx\": 11, \"val\": 88.0}, {\"col\": \"(0, 3)\", \"idx\": 11, \"val\": 112.0}, {\"col\": \"(1, 2)\", \"idx\": 11, \"val\": 94.0}, {\"col\": \"(1, 3)\", \"idx\": 11, \"val\": 88.0}, {\"col\": \"(2, 3)\", \"idx\": 11, \"val\": 86.0}, {\"col\": \"(3, 4)\", \"idx\": 11, \"val\": 90.0}, {\"col\": \"(4, 5)\", \"idx\": 11, \"val\": 94.0}, {\"col\": \"(4, 6)\", \"idx\": 11, \"val\": 70.0}, {\"col\": \"(4, 7)\", \"idx\": 11, \"val\": 80.0}, {\"col\": \"(5, 6)\", \"idx\": 11, \"val\": 92.0}, {\"col\": \"(5, 7)\", \"idx\": 11, \"val\": 96.0}, {\"col\": \"(6, 7)\", \"idx\": 11, \"val\": 90.0}, {\"col\": \"(0, 1)\", \"idx\": 12, \"val\": 90.0}, {\"col\": \"(0, 2)\", \"idx\": 12, \"val\": 92.0}, {\"col\": \"(0, 3)\", \"idx\": 12, \"val\": 64.0}, {\"col\": \"(1, 2)\", \"idx\": 12, \"val\": 90.0}, {\"col\": \"(1, 3)\", \"idx\": 12, \"val\": 88.0}, {\"col\": \"(2, 3)\", \"idx\": 12, \"val\": 86.0}, {\"col\": \"(3, 4)\", \"idx\": 12, \"val\": 92.0}, {\"col\": \"(4, 5)\", \"idx\": 12, \"val\": 62.0}, {\"col\": \"(4, 6)\", \"idx\": 12, \"val\": 78.0}, {\"col\": \"(4, 7)\", \"idx\": 12, \"val\": 98.0}, {\"col\": \"(5, 6)\", \"idx\": 12, \"val\": 64.0}, {\"col\": \"(5, 7)\", \"idx\": 12, \"val\": 98.0}, {\"col\": \"(6, 7)\", \"idx\": 12, \"val\": 100.0}, {\"col\": \"(0, 1)\", \"idx\": 13, \"val\": 86.0}, {\"col\": \"(0, 2)\", \"idx\": 13, \"val\": 62.0}, {\"col\": \"(0, 3)\", \"idx\": 13, \"val\": 72.0}, {\"col\": \"(1, 2)\", \"idx\": 13, \"val\": 94.0}, {\"col\": \"(1, 3)\", \"idx\": 13, \"val\": 76.0}, {\"col\": \"(2, 3)\", \"idx\": 13, \"val\": 76.0}, {\"col\": \"(3, 4)\", \"idx\": 13, \"val\": 88.0}, {\"col\": \"(4, 5)\", \"idx\": 13, \"val\": 90.0}, {\"col\": \"(4, 6)\", \"idx\": 13, \"val\": 74.0}, {\"col\": \"(4, 7)\", \"idx\": 13, \"val\": 100.0}, {\"col\": \"(5, 6)\", \"idx\": 13, \"val\": 56.0}, {\"col\": \"(5, 7)\", \"idx\": 13, \"val\": 84.0}, {\"col\": \"(6, 7)\", \"idx\": 13, \"val\": 92.0}, {\"col\": \"(0, 1)\", \"idx\": 14, \"val\": 76.0}, {\"col\": \"(0, 2)\", \"idx\": 14, \"val\": 80.0}, {\"col\": \"(0, 3)\", \"idx\": 14, \"val\": 78.0}, {\"col\": \"(1, 2)\", \"idx\": 14, \"val\": 64.0}, {\"col\": \"(1, 3)\", \"idx\": 14, \"val\": 90.0}, {\"col\": \"(2, 3)\", \"idx\": 14, \"val\": 70.0}, {\"col\": \"(3, 4)\", \"idx\": 14, \"val\": 76.0}, {\"col\": \"(4, 5)\", \"idx\": 14, \"val\": 80.0}, {\"col\": \"(4, 6)\", \"idx\": 14, \"val\": 78.0}, {\"col\": \"(4, 7)\", \"idx\": 14, \"val\": 78.0}, {\"col\": \"(5, 6)\", \"idx\": 14, \"val\": 68.0}, {\"col\": \"(5, 7)\", \"idx\": 14, \"val\": 78.0}, {\"col\": \"(6, 7)\", \"idx\": 14, \"val\": 86.0}, {\"col\": \"(0, 1)\", \"idx\": 15, \"val\": 92.0}, {\"col\": \"(0, 2)\", \"idx\": 15, \"val\": 78.0}, {\"col\": \"(0, 3)\", \"idx\": 15, \"val\": 52.0}, {\"col\": \"(1, 2)\", \"idx\": 15, \"val\": 64.0}, {\"col\": \"(1, 3)\", \"idx\": 15, \"val\": 78.0}, {\"col\": \"(2, 3)\", \"idx\": 15, \"val\": 90.0}, {\"col\": \"(3, 4)\", \"idx\": 15, \"val\": 60.0}, {\"col\": \"(4, 5)\", \"idx\": 15, \"val\": 72.0}, {\"col\": \"(4, 6)\", \"idx\": 15, \"val\": 76.0}, {\"col\": \"(4, 7)\", \"idx\": 15, \"val\": 66.0}, {\"col\": \"(5, 6)\", \"idx\": 15, \"val\": 78.0}, {\"col\": \"(5, 7)\", \"idx\": 15, \"val\": 84.0}, {\"col\": \"(6, 7)\", \"idx\": 15, \"val\": 70.0}, {\"col\": \"(0, 1)\", \"idx\": 16, \"val\": 68.0}, {\"col\": \"(0, 2)\", \"idx\": 16, \"val\": 68.0}, {\"col\": \"(0, 3)\", \"idx\": 16, \"val\": 62.0}, {\"col\": \"(1, 2)\", \"idx\": 16, \"val\": 68.0}, {\"col\": \"(1, 3)\", \"idx\": 16, \"val\": 74.0}, {\"col\": \"(2, 3)\", \"idx\": 16, \"val\": 92.0}, {\"col\": \"(3, 4)\", \"idx\": 16, \"val\": 72.0}, {\"col\": \"(4, 5)\", \"idx\": 16, \"val\": 90.0}, {\"col\": \"(4, 6)\", \"idx\": 16, \"val\": 50.0}, {\"col\": \"(4, 7)\", \"idx\": 16, \"val\": 58.0}, {\"col\": \"(5, 6)\", \"idx\": 16, \"val\": 74.0}, {\"col\": \"(5, 7)\", \"idx\": 16, \"val\": 78.0}, {\"col\": \"(6, 7)\", \"idx\": 16, \"val\": 68.0}, {\"col\": \"(0, 1)\", \"idx\": 17, \"val\": 54.0}, {\"col\": \"(0, 2)\", \"idx\": 17, \"val\": 74.0}, {\"col\": \"(0, 3)\", \"idx\": 17, \"val\": 82.0}, {\"col\": \"(1, 2)\", \"idx\": 17, \"val\": 74.0}, {\"col\": \"(1, 3)\", \"idx\": 17, \"val\": 58.0}, {\"col\": \"(2, 3)\", \"idx\": 17, \"val\": 68.0}, {\"col\": \"(3, 4)\", \"idx\": 17, \"val\": 66.0}, {\"col\": \"(4, 5)\", \"idx\": 17, \"val\": 82.0}, {\"col\": \"(4, 6)\", \"idx\": 17, \"val\": 72.0}, {\"col\": \"(4, 7)\", \"idx\": 17, \"val\": 70.0}, {\"col\": \"(5, 6)\", \"idx\": 17, \"val\": 64.0}, {\"col\": \"(5, 7)\", \"idx\": 17, \"val\": 64.0}, {\"col\": \"(6, 7)\", \"idx\": 17, \"val\": 50.0}, {\"col\": \"(0, 1)\", \"idx\": 18, \"val\": 56.0}, {\"col\": \"(0, 2)\", \"idx\": 18, \"val\": 64.0}, {\"col\": \"(0, 3)\", \"idx\": 18, \"val\": 76.0}, {\"col\": \"(1, 2)\", \"idx\": 18, \"val\": 76.0}, {\"col\": \"(1, 3)\", \"idx\": 18, \"val\": 66.0}, {\"col\": \"(2, 3)\", \"idx\": 18, \"val\": 54.0}, {\"col\": \"(3, 4)\", \"idx\": 18, \"val\": 62.0}, {\"col\": \"(4, 5)\", \"idx\": 18, \"val\": 78.0}, {\"col\": \"(4, 6)\", \"idx\": 18, \"val\": 68.0}, {\"col\": \"(4, 7)\", \"idx\": 18, \"val\": 54.0}, {\"col\": \"(5, 6)\", \"idx\": 18, \"val\": 62.0}, {\"col\": \"(5, 7)\", \"idx\": 18, \"val\": 60.0}, {\"col\": \"(6, 7)\", \"idx\": 18, \"val\": 56.0}, {\"col\": \"(0, 1)\", \"idx\": 19, \"val\": 56.0}, {\"col\": \"(0, 2)\", \"idx\": 19, \"val\": 46.0}, {\"col\": \"(0, 3)\", \"idx\": 19, \"val\": 74.0}, {\"col\": \"(1, 2)\", \"idx\": 19, \"val\": 62.0}, {\"col\": \"(1, 3)\", \"idx\": 19, \"val\": 60.0}, {\"col\": \"(2, 3)\", \"idx\": 19, \"val\": 78.0}, {\"col\": \"(3, 4)\", \"idx\": 19, \"val\": 54.0}, {\"col\": \"(4, 5)\", \"idx\": 19, \"val\": 56.0}, {\"col\": \"(4, 6)\", \"idx\": 19, \"val\": 62.0}, {\"col\": \"(4, 7)\", \"idx\": 19, \"val\": 52.0}, {\"col\": \"(5, 6)\", \"idx\": 19, \"val\": 58.0}, {\"col\": \"(5, 7)\", \"idx\": 19, \"val\": 62.0}, {\"col\": \"(6, 7)\", \"idx\": 19, \"val\": 68.0}, {\"col\": \"(0, 1)\", \"idx\": 20, \"val\": 56.0}, {\"col\": \"(0, 2)\", \"idx\": 20, \"val\": 62.0}, {\"col\": \"(0, 3)\", \"idx\": 20, \"val\": 56.0}, {\"col\": \"(1, 2)\", \"idx\": 20, \"val\": 76.0}, {\"col\": \"(1, 3)\", \"idx\": 20, \"val\": 54.0}, {\"col\": \"(2, 3)\", \"idx\": 20, \"val\": 50.0}, {\"col\": \"(3, 4)\", \"idx\": 20, \"val\": 56.0}, {\"col\": \"(4, 5)\", \"idx\": 20, \"val\": 54.0}, {\"col\": \"(4, 6)\", \"idx\": 20, \"val\": 66.0}, {\"col\": \"(4, 7)\", \"idx\": 20, \"val\": 50.0}, {\"col\": \"(5, 6)\", \"idx\": 20, \"val\": 52.0}, {\"col\": \"(5, 7)\", \"idx\": 20, \"val\": 56.0}, {\"col\": \"(6, 7)\", \"idx\": 20, \"val\": 60.0}, {\"col\": \"(0, 1)\", \"idx\": 21, \"val\": 70.0}, {\"col\": \"(0, 2)\", \"idx\": 21, \"val\": 54.0}, {\"col\": \"(0, 3)\", \"idx\": 21, \"val\": 40.0}, {\"col\": \"(1, 2)\", \"idx\": 21, \"val\": 68.0}, {\"col\": \"(1, 3)\", \"idx\": 21, \"val\": 54.0}, {\"col\": \"(2, 3)\", \"idx\": 21, \"val\": 50.0}, {\"col\": \"(3, 4)\", \"idx\": 21, \"val\": 56.0}, {\"col\": \"(4, 5)\", \"idx\": 21, \"val\": 50.0}, {\"col\": \"(4, 6)\", \"idx\": 21, \"val\": 44.0}, {\"col\": \"(4, 7)\", \"idx\": 21, \"val\": 62.0}, {\"col\": \"(5, 6)\", \"idx\": 21, \"val\": 54.0}, {\"col\": \"(5, 7)\", \"idx\": 21, \"val\": 48.0}, {\"col\": \"(6, 7)\", \"idx\": 21, \"val\": 56.0}, {\"col\": \"(0, 1)\", \"idx\": 22, \"val\": 58.0}, {\"col\": \"(0, 2)\", \"idx\": 22, \"val\": 48.0}, {\"col\": \"(0, 3)\", \"idx\": 22, \"val\": 44.0}, {\"col\": \"(1, 2)\", \"idx\": 22, \"val\": 50.0}, {\"col\": \"(1, 3)\", \"idx\": 22, \"val\": 72.0}, {\"col\": \"(2, 3)\", \"idx\": 22, \"val\": 62.0}, {\"col\": \"(3, 4)\", \"idx\": 22, \"val\": 36.0}, {\"col\": \"(4, 5)\", \"idx\": 22, \"val\": 60.0}, {\"col\": \"(4, 6)\", \"idx\": 22, \"val\": 46.0}, {\"col\": \"(4, 7)\", \"idx\": 22, \"val\": 46.0}, {\"col\": \"(5, 6)\", \"idx\": 22, \"val\": 32.0}, {\"col\": \"(5, 7)\", \"idx\": 22, \"val\": 52.0}, {\"col\": \"(6, 7)\", \"idx\": 22, \"val\": 66.0}, {\"col\": \"(0, 1)\", \"idx\": 23, \"val\": 40.0}, {\"col\": \"(0, 2)\", \"idx\": 23, \"val\": 56.0}, {\"col\": \"(0, 3)\", \"idx\": 23, \"val\": 40.0}, {\"col\": \"(1, 2)\", \"idx\": 23, \"val\": 58.0}, {\"col\": \"(1, 3)\", \"idx\": 23, \"val\": 56.0}, {\"col\": \"(2, 3)\", \"idx\": 23, \"val\": 66.0}, {\"col\": \"(3, 4)\", \"idx\": 23, \"val\": 62.0}, {\"col\": \"(4, 5)\", \"idx\": 23, \"val\": 54.0}, {\"col\": \"(4, 6)\", \"idx\": 23, \"val\": 50.0}, {\"col\": \"(4, 7)\", \"idx\": 23, \"val\": 52.0}, {\"col\": \"(5, 6)\", \"idx\": 23, \"val\": 40.0}, {\"col\": \"(5, 7)\", \"idx\": 23, \"val\": 34.0}, {\"col\": \"(6, 7)\", \"idx\": 23, \"val\": 46.0}, {\"col\": \"(0, 1)\", \"idx\": 24, \"val\": 30.0}, {\"col\": \"(0, 2)\", \"idx\": 24, \"val\": 62.0}, {\"col\": \"(0, 3)\", \"idx\": 24, \"val\": 54.0}, {\"col\": \"(1, 2)\", \"idx\": 24, \"val\": 44.0}, {\"col\": \"(1, 3)\", \"idx\": 24, \"val\": 50.0}, {\"col\": \"(2, 3)\", \"idx\": 24, \"val\": 48.0}, {\"col\": \"(3, 4)\", \"idx\": 24, \"val\": 56.0}, {\"col\": \"(4, 5)\", \"idx\": 24, \"val\": 44.0}, {\"col\": \"(4, 6)\", \"idx\": 24, \"val\": 50.0}, {\"col\": \"(4, 7)\", \"idx\": 24, \"val\": 52.0}, {\"col\": \"(5, 6)\", \"idx\": 24, \"val\": 40.0}, {\"col\": \"(5, 7)\", \"idx\": 24, \"val\": 36.0}, {\"col\": \"(6, 7)\", \"idx\": 24, \"val\": 30.0}, {\"col\": \"(0, 1)\", \"idx\": 25, \"val\": 44.0}, {\"col\": \"(0, 2)\", \"idx\": 25, \"val\": 52.0}, {\"col\": \"(0, 3)\", \"idx\": 25, \"val\": 48.0}, {\"col\": \"(1, 2)\", \"idx\": 25, \"val\": 46.0}, {\"col\": \"(1, 3)\", \"idx\": 25, \"val\": 42.0}, {\"col\": \"(2, 3)\", \"idx\": 25, \"val\": 42.0}, {\"col\": \"(3, 4)\", \"idx\": 25, \"val\": 54.0}, {\"col\": \"(4, 5)\", \"idx\": 25, \"val\": 38.0}, {\"col\": \"(4, 6)\", \"idx\": 25, \"val\": 42.0}, {\"col\": \"(4, 7)\", \"idx\": 25, \"val\": 50.0}, {\"col\": \"(5, 6)\", \"idx\": 25, \"val\": 46.0}, {\"col\": \"(5, 7)\", \"idx\": 25, \"val\": 32.0}, {\"col\": \"(6, 7)\", \"idx\": 25, \"val\": 44.0}, {\"col\": \"(0, 1)\", \"idx\": 26, \"val\": 48.0}, {\"col\": \"(0, 2)\", \"idx\": 26, \"val\": 46.0}, {\"col\": \"(0, 3)\", \"idx\": 26, \"val\": 42.0}, {\"col\": \"(1, 2)\", \"idx\": 26, \"val\": 44.0}, {\"col\": \"(1, 3)\", \"idx\": 26, \"val\": 38.0}, {\"col\": \"(2, 3)\", \"idx\": 26, \"val\": 50.0}, {\"col\": \"(3, 4)\", \"idx\": 26, \"val\": 54.0}, {\"col\": \"(4, 5)\", \"idx\": 26, \"val\": 32.0}, {\"col\": \"(4, 6)\", \"idx\": 26, \"val\": 34.0}, {\"col\": \"(4, 7)\", \"idx\": 26, \"val\": 48.0}, {\"col\": \"(5, 6)\", \"idx\": 26, \"val\": 42.0}, {\"col\": \"(5, 7)\", \"idx\": 26, \"val\": 32.0}, {\"col\": \"(6, 7)\", \"idx\": 26, \"val\": 48.0}, {\"col\": \"(0, 1)\", \"idx\": 27, \"val\": 36.0}, {\"col\": \"(0, 2)\", \"idx\": 27, \"val\": 38.0}, {\"col\": \"(0, 3)\", \"idx\": 27, \"val\": 48.0}, {\"col\": \"(1, 2)\", \"idx\": 27, \"val\": 40.0}, {\"col\": \"(1, 3)\", \"idx\": 27, \"val\": 54.0}, {\"col\": \"(2, 3)\", \"idx\": 27, \"val\": 60.0}, {\"col\": \"(3, 4)\", \"idx\": 27, \"val\": 26.0}, {\"col\": \"(4, 5)\", \"idx\": 27, \"val\": 42.0}, {\"col\": \"(4, 6)\", \"idx\": 27, \"val\": 40.0}, {\"col\": \"(4, 7)\", \"idx\": 27, \"val\": 32.0}, {\"col\": \"(5, 6)\", \"idx\": 27, \"val\": 44.0}, {\"col\": \"(5, 7)\", \"idx\": 27, \"val\": 34.0}, {\"col\": \"(6, 7)\", \"idx\": 27, \"val\": 38.0}, {\"col\": \"(0, 1)\", \"idx\": 28, \"val\": 40.0}, {\"col\": \"(0, 2)\", \"idx\": 28, \"val\": 44.0}, {\"col\": \"(0, 3)\", \"idx\": 28, \"val\": 28.0}, {\"col\": \"(1, 2)\", \"idx\": 28, \"val\": 42.0}, {\"col\": \"(1, 3)\", \"idx\": 28, \"val\": 54.0}, {\"col\": \"(2, 3)\", \"idx\": 28, \"val\": 44.0}, {\"col\": \"(3, 4)\", \"idx\": 28, \"val\": 22.0}, {\"col\": \"(4, 5)\", \"idx\": 28, \"val\": 40.0}, {\"col\": \"(4, 6)\", \"idx\": 28, \"val\": 48.0}, {\"col\": \"(4, 7)\", \"idx\": 28, \"val\": 28.0}, {\"col\": \"(5, 6)\", \"idx\": 28, \"val\": 60.0}, {\"col\": \"(5, 7)\", \"idx\": 28, \"val\": 24.0}, {\"col\": \"(6, 7)\", \"idx\": 28, \"val\": 36.0}, {\"col\": \"(0, 1)\", \"idx\": 29, \"val\": 48.0}, {\"col\": \"(0, 2)\", \"idx\": 29, \"val\": 40.0}, {\"col\": \"(0, 3)\", \"idx\": 29, \"val\": 32.0}, {\"col\": \"(1, 2)\", \"idx\": 29, \"val\": 38.0}, {\"col\": \"(1, 3)\", \"idx\": 29, \"val\": 40.0}, {\"col\": \"(2, 3)\", \"idx\": 29, \"val\": 34.0}, {\"col\": \"(3, 4)\", \"idx\": 29, \"val\": 32.0}, {\"col\": \"(4, 5)\", \"idx\": 29, \"val\": 38.0}, {\"col\": \"(4, 6)\", \"idx\": 29, \"val\": 42.0}, {\"col\": \"(4, 7)\", \"idx\": 29, \"val\": 26.0}, {\"col\": \"(5, 6)\", \"idx\": 29, \"val\": 46.0}, {\"col\": \"(5, 7)\", \"idx\": 29, \"val\": 32.0}, {\"col\": \"(6, 7)\", \"idx\": 29, \"val\": 32.0}, {\"col\": \"(0, 1)\", \"idx\": 30, \"val\": 44.0}, {\"col\": \"(0, 2)\", \"idx\": 30, \"val\": 32.0}, {\"col\": \"(0, 3)\", \"idx\": 30, \"val\": 28.0}, {\"col\": \"(1, 2)\", \"idx\": 30, \"val\": 40.0}, {\"col\": \"(1, 3)\", \"idx\": 30, \"val\": 46.0}, {\"col\": \"(2, 3)\", \"idx\": 30, \"val\": 30.0}, {\"col\": \"(3, 4)\", \"idx\": 30, \"val\": 40.0}, {\"col\": \"(4, 5)\", \"idx\": 30, \"val\": 32.0}, {\"col\": \"(4, 6)\", \"idx\": 30, \"val\": 38.0}, {\"col\": \"(4, 7)\", \"idx\": 30, \"val\": 40.0}, {\"col\": \"(5, 6)\", \"idx\": 30, \"val\": 36.0}, {\"col\": \"(5, 7)\", \"idx\": 30, \"val\": 30.0}, {\"col\": \"(6, 7)\", \"idx\": 30, \"val\": 26.0}, {\"col\": \"(0, 1)\", \"idx\": 31, \"val\": 44.0}, {\"col\": \"(0, 2)\", \"idx\": 31, \"val\": 20.0}, {\"col\": \"(0, 3)\", \"idx\": 31, \"val\": 26.0}, {\"col\": \"(1, 2)\", \"idx\": 31, \"val\": 34.0}, {\"col\": \"(1, 3)\", \"idx\": 31, \"val\": 46.0}, {\"col\": \"(2, 3)\", \"idx\": 31, \"val\": 32.0}, {\"col\": \"(3, 4)\", \"idx\": 31, \"val\": 48.0}, {\"col\": \"(4, 5)\", \"idx\": 31, \"val\": 26.0}, {\"col\": \"(4, 6)\", \"idx\": 31, \"val\": 36.0}, {\"col\": \"(4, 7)\", \"idx\": 31, \"val\": 16.0}, {\"col\": \"(5, 6)\", \"idx\": 31, \"val\": 46.0}, {\"col\": \"(5, 7)\", \"idx\": 31, \"val\": 42.0}, {\"col\": \"(6, 7)\", \"idx\": 31, \"val\": 22.0}, {\"col\": \"(0, 1)\", \"idx\": 32, \"val\": 30.0}, {\"col\": \"(0, 2)\", \"idx\": 32, \"val\": 30.0}, {\"col\": \"(0, 3)\", \"idx\": 32, \"val\": 30.0}, {\"col\": \"(1, 2)\", \"idx\": 32, \"val\": 26.0}, {\"col\": \"(1, 3)\", \"idx\": 32, \"val\": 50.0}, {\"col\": \"(2, 3)\", \"idx\": 32, \"val\": 36.0}, {\"col\": \"(3, 4)\", \"idx\": 32, \"val\": 38.0}, {\"col\": \"(4, 5)\", \"idx\": 32, \"val\": 26.0}, {\"col\": \"(4, 6)\", \"idx\": 32, \"val\": 38.0}, {\"col\": \"(4, 7)\", \"idx\": 32, \"val\": 18.0}, {\"col\": \"(5, 6)\", \"idx\": 32, \"val\": 34.0}, {\"col\": \"(5, 7)\", \"idx\": 32, \"val\": 40.0}, {\"col\": \"(6, 7)\", \"idx\": 32, \"val\": 24.0}, {\"col\": \"(0, 1)\", \"idx\": 33, \"val\": 24.0}, {\"col\": \"(0, 2)\", \"idx\": 33, \"val\": 26.0}, {\"col\": \"(0, 3)\", \"idx\": 33, \"val\": 32.0}, {\"col\": \"(1, 2)\", \"idx\": 33, \"val\": 38.0}, {\"col\": \"(1, 3)\", \"idx\": 33, \"val\": 36.0}, {\"col\": \"(2, 3)\", \"idx\": 33, \"val\": 30.0}, {\"col\": \"(3, 4)\", \"idx\": 33, \"val\": 30.0}, {\"col\": \"(4, 5)\", \"idx\": 33, \"val\": 28.0}, {\"col\": \"(4, 6)\", \"idx\": 33, \"val\": 28.0}, {\"col\": \"(4, 7)\", \"idx\": 33, \"val\": 42.0}, {\"col\": \"(5, 6)\", \"idx\": 33, \"val\": 28.0}, {\"col\": \"(5, 7)\", \"idx\": 33, \"val\": 26.0}, {\"col\": \"(6, 7)\", \"idx\": 33, \"val\": 26.0}, {\"col\": \"(0, 1)\", \"idx\": 34, \"val\": 18.0}, {\"col\": \"(0, 2)\", \"idx\": 34, \"val\": 28.0}, {\"col\": \"(0, 3)\", \"idx\": 34, \"val\": 28.0}, {\"col\": \"(1, 2)\", \"idx\": 34, \"val\": 36.0}, {\"col\": \"(1, 3)\", \"idx\": 34, \"val\": 30.0}, {\"col\": \"(2, 3)\", \"idx\": 34, \"val\": 40.0}, {\"col\": \"(3, 4)\", \"idx\": 34, \"val\": 32.0}, {\"col\": \"(4, 5)\", \"idx\": 34, \"val\": 46.0}, {\"col\": \"(4, 6)\", \"idx\": 34, \"val\": 30.0}, {\"col\": \"(4, 7)\", \"idx\": 34, \"val\": 28.0}, {\"col\": \"(5, 6)\", \"idx\": 34, \"val\": 20.0}, {\"col\": \"(5, 7)\", \"idx\": 34, \"val\": 24.0}, {\"col\": \"(6, 7)\", \"idx\": 34, \"val\": 22.0}, {\"col\": \"(0, 1)\", \"idx\": 35, \"val\": 18.0}, {\"col\": \"(0, 2)\", \"idx\": 35, \"val\": 30.0}, {\"col\": \"(0, 3)\", \"idx\": 35, \"val\": 28.0}, {\"col\": \"(1, 2)\", \"idx\": 35, \"val\": 28.0}, {\"col\": \"(1, 3)\", \"idx\": 35, \"val\": 38.0}, {\"col\": \"(2, 3)\", \"idx\": 35, \"val\": 32.0}, {\"col\": \"(3, 4)\", \"idx\": 35, \"val\": 32.0}, {\"col\": \"(4, 5)\", \"idx\": 35, \"val\": 18.0}, {\"col\": \"(4, 6)\", \"idx\": 35, \"val\": 42.0}, {\"col\": \"(4, 7)\", \"idx\": 35, \"val\": 34.0}, {\"col\": \"(5, 6)\", \"idx\": 35, \"val\": 24.0}, {\"col\": \"(5, 7)\", \"idx\": 35, \"val\": 20.0}, {\"col\": \"(6, 7)\", \"idx\": 35, \"val\": 22.0}, {\"col\": \"(0, 1)\", \"idx\": 36, \"val\": 40.0}, {\"col\": \"(0, 2)\", \"idx\": 36, \"val\": 28.0}, {\"col\": \"(0, 3)\", \"idx\": 36, \"val\": 26.0}, {\"col\": \"(1, 2)\", \"idx\": 36, \"val\": 38.0}, {\"col\": \"(1, 3)\", \"idx\": 36, \"val\": 18.0}, {\"col\": \"(2, 3)\", \"idx\": 36, \"val\": 16.0}, {\"col\": \"(3, 4)\", \"idx\": 36, \"val\": 26.0}, {\"col\": \"(4, 5)\", \"idx\": 36, \"val\": 18.0}, {\"col\": \"(4, 6)\", \"idx\": 36, \"val\": 28.0}, {\"col\": \"(4, 7)\", \"idx\": 36, \"val\": 32.0}, {\"col\": \"(5, 6)\", \"idx\": 36, \"val\": 34.0}, {\"col\": \"(5, 7)\", \"idx\": 36, \"val\": 18.0}, {\"col\": \"(6, 7)\", \"idx\": 36, \"val\": 24.0}, {\"col\": \"(0, 1)\", \"idx\": 37, \"val\": 32.0}, {\"col\": \"(0, 2)\", \"idx\": 37, \"val\": 28.0}, {\"col\": \"(0, 3)\", \"idx\": 37, \"val\": 20.0}, {\"col\": \"(1, 2)\", \"idx\": 37, \"val\": 28.0}, {\"col\": \"(1, 3)\", \"idx\": 37, \"val\": 24.0}, {\"col\": \"(2, 3)\", \"idx\": 37, \"val\": 24.0}, {\"col\": \"(3, 4)\", \"idx\": 37, \"val\": 18.0}, {\"col\": \"(4, 5)\", \"idx\": 37, \"val\": 26.0}, {\"col\": \"(4, 6)\", \"idx\": 37, \"val\": 28.0}, {\"col\": \"(4, 7)\", \"idx\": 37, \"val\": 24.0}, {\"col\": \"(5, 6)\", \"idx\": 37, \"val\": 16.0}, {\"col\": \"(5, 7)\", \"idx\": 37, \"val\": 38.0}, {\"col\": \"(6, 7)\", \"idx\": 37, \"val\": 22.0}, {\"col\": \"(0, 1)\", \"idx\": 38, \"val\": 22.0}, {\"col\": \"(0, 2)\", \"idx\": 38, \"val\": 18.0}, {\"col\": \"(0, 3)\", \"idx\": 38, \"val\": 30.0}, {\"col\": \"(1, 2)\", \"idx\": 38, \"val\": 12.0}, {\"col\": \"(1, 3)\", \"idx\": 38, \"val\": 30.0}, {\"col\": \"(2, 3)\", \"idx\": 38, \"val\": 28.0}, {\"col\": \"(3, 4)\", \"idx\": 38, \"val\": 26.0}, {\"col\": \"(4, 5)\", \"idx\": 38, \"val\": 18.0}, {\"col\": \"(4, 6)\", \"idx\": 38, \"val\": 26.0}, {\"col\": \"(4, 7)\", \"idx\": 38, \"val\": 28.0}, {\"col\": \"(5, 6)\", \"idx\": 38, \"val\": 14.0}, {\"col\": \"(5, 7)\", \"idx\": 38, \"val\": 30.0}, {\"col\": \"(6, 7)\", \"idx\": 38, \"val\": 22.0}, {\"col\": \"(0, 1)\", \"idx\": 39, \"val\": 14.0}, {\"col\": \"(0, 2)\", \"idx\": 39, \"val\": 20.0}, {\"col\": \"(0, 3)\", \"idx\": 39, \"val\": 30.0}, {\"col\": \"(1, 2)\", \"idx\": 39, \"val\": 24.0}, {\"col\": \"(1, 3)\", \"idx\": 39, \"val\": 16.0}, {\"col\": \"(2, 3)\", \"idx\": 39, \"val\": 26.0}, {\"col\": \"(3, 4)\", \"idx\": 39, \"val\": 26.0}, {\"col\": \"(4, 5)\", \"idx\": 39, \"val\": 18.0}, {\"col\": \"(4, 6)\", \"idx\": 39, \"val\": 16.0}, {\"col\": \"(4, 7)\", \"idx\": 39, \"val\": 34.0}, {\"col\": \"(5, 6)\", \"idx\": 39, \"val\": 16.0}, {\"col\": \"(5, 7)\", \"idx\": 39, \"val\": 24.0}, {\"col\": \"(6, 7)\", \"idx\": 39, \"val\": 24.0}, {\"col\": \"(0, 1)\", \"idx\": 40, \"val\": 22.0}, {\"col\": \"(0, 2)\", \"idx\": 40, \"val\": 24.0}, {\"col\": \"(0, 3)\", \"idx\": 40, \"val\": 20.0}, {\"col\": \"(1, 2)\", \"idx\": 40, \"val\": 12.0}, {\"col\": \"(1, 3)\", \"idx\": 40, \"val\": 24.0}, {\"col\": \"(2, 3)\", \"idx\": 40, \"val\": 24.0}, {\"col\": \"(3, 4)\", \"idx\": 40, \"val\": 22.0}, {\"col\": \"(4, 5)\", \"idx\": 40, \"val\": 14.0}, {\"col\": \"(4, 6)\", \"idx\": 40, \"val\": 12.0}, {\"col\": \"(4, 7)\", \"idx\": 40, \"val\": 30.0}, {\"col\": \"(5, 6)\", \"idx\": 40, \"val\": 18.0}, {\"col\": \"(5, 7)\", \"idx\": 40, \"val\": 22.0}, {\"col\": \"(6, 7)\", \"idx\": 40, \"val\": 24.0}, {\"col\": \"(0, 1)\", \"idx\": 41, \"val\": 32.0}, {\"col\": \"(0, 2)\", \"idx\": 41, \"val\": 10.0}, {\"col\": \"(0, 3)\", \"idx\": 41, \"val\": 34.0}, {\"col\": \"(1, 2)\", \"idx\": 41, \"val\": 20.0}, {\"col\": \"(1, 3)\", \"idx\": 41, \"val\": 20.0}, {\"col\": \"(2, 3)\", \"idx\": 41, \"val\": 12.0}, {\"col\": \"(3, 4)\", \"idx\": 41, \"val\": 14.0}, {\"col\": \"(4, 5)\", \"idx\": 41, \"val\": 14.0}, {\"col\": \"(4, 6)\", \"idx\": 41, \"val\": 30.0}, {\"col\": \"(4, 7)\", \"idx\": 41, \"val\": 28.0}, {\"col\": \"(5, 6)\", \"idx\": 41, \"val\": 26.0}, {\"col\": \"(5, 7)\", \"idx\": 41, \"val\": 10.0}, {\"col\": \"(6, 7)\", \"idx\": 41, \"val\": 12.0}, {\"col\": \"(0, 1)\", \"idx\": 42, \"val\": 12.0}, {\"col\": \"(0, 2)\", \"idx\": 42, \"val\": 24.0}, {\"col\": \"(0, 3)\", \"idx\": 42, \"val\": 20.0}, {\"col\": \"(1, 2)\", \"idx\": 42, \"val\": 24.0}, {\"col\": \"(1, 3)\", \"idx\": 42, \"val\": 20.0}, {\"col\": \"(2, 3)\", \"idx\": 42, \"val\": 20.0}, {\"col\": \"(3, 4)\", \"idx\": 42, \"val\": 18.0}, {\"col\": \"(4, 5)\", \"idx\": 42, \"val\": 26.0}, {\"col\": \"(4, 6)\", \"idx\": 42, \"val\": 24.0}, {\"col\": \"(4, 7)\", \"idx\": 42, \"val\": 18.0}, {\"col\": \"(5, 6)\", \"idx\": 42, \"val\": 20.0}, {\"col\": \"(5, 7)\", \"idx\": 42, \"val\": 8.0}, {\"col\": \"(6, 7)\", \"idx\": 42, \"val\": 10.0}, {\"col\": \"(0, 1)\", \"idx\": 43, \"val\": 10.0}, {\"col\": \"(0, 2)\", \"idx\": 43, \"val\": 24.0}, {\"col\": \"(0, 3)\", \"idx\": 43, \"val\": 18.0}, {\"col\": \"(1, 2)\", \"idx\": 43, \"val\": 18.0}, {\"col\": \"(1, 3)\", \"idx\": 43, \"val\": 12.0}, {\"col\": \"(2, 3)\", \"idx\": 43, \"val\": 26.0}, {\"col\": \"(3, 4)\", \"idx\": 43, \"val\": 12.0}, {\"col\": \"(4, 5)\", \"idx\": 43, \"val\": 34.0}, {\"col\": \"(4, 6)\", \"idx\": 43, \"val\": 20.0}, {\"col\": \"(4, 7)\", \"idx\": 43, \"val\": 14.0}, {\"col\": \"(5, 6)\", \"idx\": 43, \"val\": 16.0}, {\"col\": \"(5, 7)\", \"idx\": 43, \"val\": 8.0}, {\"col\": \"(6, 7)\", \"idx\": 43, \"val\": 16.0}, {\"col\": \"(0, 1)\", \"idx\": 44, \"val\": 24.0}, {\"col\": \"(0, 2)\", \"idx\": 44, \"val\": 10.0}, {\"col\": \"(0, 3)\", \"idx\": 44, \"val\": 18.0}, {\"col\": \"(1, 2)\", \"idx\": 44, \"val\": 26.0}, {\"col\": \"(1, 3)\", \"idx\": 44, \"val\": 6.0}, {\"col\": \"(2, 3)\", \"idx\": 44, \"val\": 12.0}, {\"col\": \"(3, 4)\", \"idx\": 44, \"val\": 12.0}, {\"col\": \"(4, 5)\", \"idx\": 44, \"val\": 16.0}, {\"col\": \"(4, 6)\", \"idx\": 44, \"val\": 24.0}, {\"col\": \"(4, 7)\", \"idx\": 44, \"val\": 14.0}, {\"col\": \"(5, 6)\", \"idx\": 44, \"val\": 20.0}, {\"col\": \"(5, 7)\", \"idx\": 44, \"val\": 12.0}, {\"col\": \"(6, 7)\", \"idx\": 44, \"val\": 16.0}, {\"col\": \"(0, 1)\", \"idx\": 45, \"val\": 16.0}, {\"col\": \"(0, 2)\", \"idx\": 45, \"val\": 8.0}, {\"col\": \"(0, 3)\", \"idx\": 45, \"val\": 14.0}, {\"col\": \"(1, 2)\", \"idx\": 45, \"val\": 12.0}, {\"col\": \"(1, 3)\", \"idx\": 45, \"val\": 22.0}, {\"col\": \"(2, 3)\", \"idx\": 45, \"val\": 18.0}, {\"col\": \"(3, 4)\", \"idx\": 45, \"val\": 14.0}, {\"col\": \"(4, 5)\", \"idx\": 45, \"val\": 16.0}, {\"col\": \"(4, 6)\", \"idx\": 45, \"val\": 22.0}, {\"col\": \"(4, 7)\", \"idx\": 45, \"val\": 12.0}, {\"col\": \"(5, 6)\", \"idx\": 45, \"val\": 18.0}, {\"col\": \"(5, 7)\", \"idx\": 45, \"val\": 14.0}, {\"col\": \"(6, 7)\", \"idx\": 45, \"val\": 14.0}, {\"col\": \"(0, 1)\", \"idx\": 46, \"val\": 16.0}, {\"col\": \"(0, 2)\", \"idx\": 46, \"val\": 10.0}, {\"col\": \"(0, 3)\", \"idx\": 46, \"val\": 28.0}, {\"col\": \"(1, 2)\", \"idx\": 46, \"val\": 14.0}, {\"col\": \"(1, 3)\", \"idx\": 46, \"val\": 10.0}, {\"col\": \"(2, 3)\", \"idx\": 46, \"val\": 10.0}, {\"col\": \"(3, 4)\", \"idx\": 46, \"val\": 18.0}, {\"col\": \"(4, 5)\", \"idx\": 46, \"val\": 26.0}, {\"col\": \"(4, 6)\", \"idx\": 46, \"val\": 8.0}, {\"col\": \"(4, 7)\", \"idx\": 46, \"val\": 8.0}, {\"col\": \"(5, 6)\", \"idx\": 46, \"val\": 18.0}, {\"col\": \"(5, 7)\", \"idx\": 46, \"val\": 8.0}, {\"col\": \"(6, 7)\", \"idx\": 46, \"val\": 16.0}, {\"col\": \"(0, 1)\", \"idx\": 47, \"val\": 20.0}, {\"col\": \"(0, 2)\", \"idx\": 47, \"val\": 14.0}, {\"col\": \"(0, 3)\", \"idx\": 47, \"val\": 10.0}, {\"col\": \"(1, 2)\", \"idx\": 47, \"val\": 16.0}, {\"col\": \"(1, 3)\", \"idx\": 47, \"val\": 14.0}, {\"col\": \"(2, 3)\", \"idx\": 47, \"val\": 12.0}, {\"col\": \"(3, 4)\", \"idx\": 47, \"val\": 14.0}, {\"col\": \"(4, 5)\", \"idx\": 47, \"val\": 14.0}, {\"col\": \"(4, 6)\", \"idx\": 47, \"val\": 10.0}, {\"col\": \"(4, 7)\", \"idx\": 47, \"val\": 14.0}, {\"col\": \"(5, 6)\", \"idx\": 47, \"val\": 22.0}, {\"col\": \"(5, 7)\", \"idx\": 47, \"val\": 16.0}, {\"col\": \"(6, 7)\", \"idx\": 47, \"val\": 6.0}, {\"col\": \"(0, 1)\", \"idx\": 48, \"val\": 10.0}, {\"col\": \"(0, 2)\", \"idx\": 48, \"val\": 10.0}, {\"col\": \"(0, 3)\", \"idx\": 48, \"val\": 10.0}, {\"col\": \"(1, 2)\", \"idx\": 48, \"val\": 26.0}, {\"col\": \"(1, 3)\", \"idx\": 48, \"val\": 18.0}, {\"col\": \"(2, 3)\", \"idx\": 48, \"val\": 10.0}, {\"col\": \"(3, 4)\", \"idx\": 48, \"val\": 12.0}, {\"col\": \"(4, 5)\", \"idx\": 48, \"val\": 8.0}, {\"col\": \"(4, 6)\", \"idx\": 48, \"val\": 14.0}, {\"col\": \"(4, 7)\", \"idx\": 48, \"val\": 16.0}, {\"col\": \"(5, 6)\", \"idx\": 48, \"val\": 10.0}, {\"col\": \"(5, 7)\", \"idx\": 48, \"val\": 22.0}, {\"col\": \"(6, 7)\", \"idx\": 48, \"val\": 12.0}, {\"col\": \"(0, 1)\", \"idx\": 49, \"val\": 14.0}, {\"col\": \"(0, 2)\", \"idx\": 49, \"val\": 8.0}, {\"col\": \"(0, 3)\", \"idx\": 49, \"val\": 12.0}, {\"col\": \"(1, 2)\", \"idx\": 49, \"val\": 18.0}, {\"col\": \"(1, 3)\", \"idx\": 49, \"val\": 18.0}, {\"col\": \"(2, 3)\", \"idx\": 49, \"val\": 12.0}, {\"col\": \"(3, 4)\", \"idx\": 49, \"val\": 8.0}, {\"col\": \"(4, 5)\", \"idx\": 49, \"val\": 16.0}, {\"col\": \"(4, 6)\", \"idx\": 49, \"val\": 12.0}, {\"col\": \"(4, 7)\", \"idx\": 49, \"val\": 12.0}, {\"col\": \"(5, 6)\", \"idx\": 49, \"val\": 10.0}, {\"col\": \"(5, 7)\", \"idx\": 49, \"val\": 8.0}, {\"col\": \"(6, 7)\", \"idx\": 49, \"val\": 20.0}, {\"col\": \"(0, 1)\", \"idx\": 50, \"val\": 10.0}, {\"col\": \"(0, 2)\", \"idx\": 50, \"val\": 20.0}, {\"col\": \"(0, 3)\", \"idx\": 50, \"val\": 14.0}, {\"col\": \"(1, 2)\", \"idx\": 50, \"val\": 10.0}, {\"col\": \"(1, 3)\", \"idx\": 50, \"val\": 18.0}, {\"col\": \"(2, 3)\", \"idx\": 50, \"val\": 8.0}, {\"col\": \"(3, 4)\", \"idx\": 50, \"val\": 12.0}, {\"col\": \"(4, 5)\", \"idx\": 50, \"val\": 4.0}, {\"col\": \"(4, 6)\", \"idx\": 50, \"val\": 18.0}, {\"col\": \"(4, 7)\", \"idx\": 50, \"val\": 8.0}, {\"col\": \"(5, 6)\", \"idx\": 50, \"val\": 16.0}, {\"col\": \"(5, 7)\", \"idx\": 50, \"val\": 8.0}, {\"col\": \"(6, 7)\", \"idx\": 50, \"val\": 14.0}, {\"col\": \"(0, 1)\", \"idx\": 51, \"val\": 14.0}, {\"col\": \"(0, 2)\", \"idx\": 51, \"val\": 16.0}, {\"col\": \"(0, 3)\", \"idx\": 51, \"val\": 16.0}, {\"col\": \"(1, 2)\", \"idx\": 51, \"val\": 12.0}, {\"col\": \"(1, 3)\", \"idx\": 51, \"val\": 14.0}, {\"col\": \"(2, 3)\", \"idx\": 51, \"val\": 8.0}, {\"col\": \"(3, 4)\", \"idx\": 51, \"val\": 8.0}, {\"col\": \"(4, 5)\", \"idx\": 51, \"val\": 8.0}, {\"col\": \"(4, 6)\", \"idx\": 51, \"val\": 10.0}, {\"col\": \"(4, 7)\", \"idx\": 51, \"val\": 12.0}, {\"col\": \"(5, 6)\", \"idx\": 51, \"val\": 12.0}, {\"col\": \"(5, 7)\", \"idx\": 51, \"val\": 14.0}, {\"col\": \"(6, 7)\", \"idx\": 51, \"val\": 8.0}, {\"col\": \"(0, 1)\", \"idx\": 52, \"val\": 16.0}, {\"col\": \"(0, 2)\", \"idx\": 52, \"val\": 18.0}, {\"col\": \"(0, 3)\", \"idx\": 52, \"val\": 12.0}, {\"col\": \"(1, 2)\", \"idx\": 52, \"val\": 6.0}, {\"col\": \"(1, 3)\", \"idx\": 52, \"val\": 12.0}, {\"col\": \"(2, 3)\", \"idx\": 52, \"val\": 2.0}, {\"col\": \"(3, 4)\", \"idx\": 52, \"val\": 18.0}, {\"col\": \"(4, 5)\", \"idx\": 52, \"val\": 10.0}, {\"col\": \"(4, 6)\", \"idx\": 52, \"val\": 8.0}, {\"col\": \"(4, 7)\", \"idx\": 52, \"val\": 6.0}, {\"col\": \"(5, 6)\", \"idx\": 52, \"val\": 14.0}, {\"col\": \"(5, 7)\", \"idx\": 52, \"val\": 8.0}, {\"col\": \"(6, 7)\", \"idx\": 52, \"val\": 12.0}, {\"col\": \"(0, 1)\", \"idx\": 53, \"val\": 16.0}, {\"col\": \"(0, 2)\", \"idx\": 53, \"val\": 16.0}, {\"col\": \"(0, 3)\", \"idx\": 53, \"val\": 10.0}, {\"col\": \"(1, 2)\", \"idx\": 53, \"val\": 2.0}, {\"col\": \"(1, 3)\", \"idx\": 53, \"val\": 4.0}, {\"col\": \"(2, 3)\", \"idx\": 53, \"val\": 10.0}, {\"col\": \"(3, 4)\", \"idx\": 53, \"val\": 10.0}, {\"col\": \"(4, 5)\", \"idx\": 53, \"val\": 12.0}, {\"col\": \"(4, 6)\", \"idx\": 53, \"val\": 14.0}, {\"col\": \"(4, 7)\", \"idx\": 53, \"val\": 12.0}, {\"col\": \"(5, 6)\", \"idx\": 53, \"val\": 14.0}, {\"col\": \"(5, 7)\", \"idx\": 53, \"val\": 6.0}, {\"col\": \"(6, 7)\", \"idx\": 53, \"val\": 8.0}, {\"col\": \"(0, 1)\", \"idx\": 54, \"val\": 8.0}, {\"col\": \"(0, 2)\", \"idx\": 54, \"val\": 18.0}, {\"col\": \"(0, 3)\", \"idx\": 54, \"val\": 4.0}, {\"col\": \"(1, 2)\", \"idx\": 54, \"val\": 12.0}, {\"col\": \"(1, 3)\", \"idx\": 54, \"val\": 4.0}, {\"col\": \"(2, 3)\", \"idx\": 54, \"val\": 8.0}, {\"col\": \"(3, 4)\", \"idx\": 54, \"val\": 10.0}, {\"col\": \"(4, 5)\", \"idx\": 54, \"val\": 12.0}, {\"col\": \"(4, 6)\", \"idx\": 54, \"val\": 14.0}, {\"col\": \"(4, 7)\", \"idx\": 54, \"val\": 12.0}, {\"col\": \"(5, 6)\", \"idx\": 54, \"val\": 10.0}, {\"col\": \"(5, 7)\", \"idx\": 54, \"val\": 12.0}, {\"col\": \"(6, 7)\", \"idx\": 54, \"val\": 4.0}, {\"col\": \"(0, 1)\", \"idx\": 55, \"val\": 12.0}, {\"col\": \"(0, 2)\", \"idx\": 55, \"val\": 2.0}, {\"col\": \"(0, 3)\", \"idx\": 55, \"val\": 4.0}, {\"col\": \"(1, 2)\", \"idx\": 55, \"val\": 14.0}, {\"col\": \"(1, 3)\", \"idx\": 55, \"val\": 10.0}, {\"col\": \"(2, 3)\", \"idx\": 55, \"val\": 12.0}, {\"col\": \"(3, 4)\", \"idx\": 55, \"val\": 10.0}, {\"col\": \"(4, 5)\", \"idx\": 55, \"val\": 6.0}, {\"col\": \"(4, 6)\", \"idx\": 55, \"val\": 12.0}, {\"col\": \"(4, 7)\", \"idx\": 55, \"val\": 4.0}, {\"col\": \"(5, 6)\", \"idx\": 55, \"val\": 22.0}, {\"col\": \"(5, 7)\", \"idx\": 55, \"val\": 10.0}, {\"col\": \"(6, 7)\", \"idx\": 55, \"val\": 4.0}, {\"col\": \"(0, 1)\", \"idx\": 56, \"val\": 6.0}, {\"col\": \"(0, 2)\", \"idx\": 56, \"val\": 6.0}, {\"col\": \"(0, 3)\", \"idx\": 56, \"val\": 12.0}, {\"col\": \"(1, 2)\", \"idx\": 56, \"val\": 14.0}, {\"col\": \"(1, 3)\", \"idx\": 56, \"val\": 6.0}, {\"col\": \"(2, 3)\", \"idx\": 56, \"val\": 14.0}, {\"col\": \"(3, 4)\", \"idx\": 56, \"val\": 8.0}, {\"col\": \"(4, 5)\", \"idx\": 56, \"val\": 6.0}, {\"col\": \"(4, 6)\", \"idx\": 56, \"val\": 8.0}, {\"col\": \"(4, 7)\", \"idx\": 56, \"val\": 6.0}, {\"col\": \"(5, 6)\", \"idx\": 56, \"val\": 18.0}, {\"col\": \"(5, 7)\", \"idx\": 56, \"val\": 12.0}, {\"col\": \"(6, 7)\", \"idx\": 56, \"val\": 6.0}, {\"col\": \"(0, 1)\", \"idx\": 57, \"val\": 10.0}, {\"col\": \"(0, 2)\", \"idx\": 57, \"val\": 10.0}, {\"col\": \"(0, 3)\", \"idx\": 57, \"val\": 6.0}, {\"col\": \"(1, 2)\", \"idx\": 57, \"val\": 8.0}, {\"col\": \"(1, 3)\", \"idx\": 57, \"val\": 4.0}, {\"col\": \"(2, 3)\", \"idx\": 57, \"val\": 18.0}, {\"col\": \"(3, 4)\", \"idx\": 57, \"val\": 12.0}, {\"col\": \"(4, 5)\", \"idx\": 57, \"val\": 10.0}, {\"col\": \"(4, 6)\", \"idx\": 57, \"val\": NaN}, {\"col\": \"(4, 7)\", \"idx\": 57, \"val\": 8.0}, {\"col\": \"(5, 6)\", \"idx\": 57, \"val\": 8.0}, {\"col\": \"(5, 7)\", \"idx\": 57, \"val\": 12.0}, {\"col\": \"(6, 7)\", \"idx\": 57, \"val\": 10.0}, {\"col\": \"(0, 1)\", \"idx\": 58, \"val\": 12.0}, {\"col\": \"(0, 2)\", \"idx\": 58, \"val\": 6.0}, {\"col\": \"(0, 3)\", \"idx\": 58, \"val\": 6.0}, {\"col\": \"(1, 2)\", \"idx\": 58, \"val\": 10.0}, {\"col\": \"(1, 3)\", \"idx\": 58, \"val\": 6.0}, {\"col\": \"(2, 3)\", \"idx\": 58, \"val\": 14.0}, {\"col\": \"(3, 4)\", \"idx\": 58, \"val\": 14.0}, {\"col\": \"(4, 5)\", \"idx\": 58, \"val\": 8.0}, {\"col\": \"(4, 6)\", \"idx\": 58, \"val\": 6.0}, {\"col\": \"(4, 7)\", \"idx\": 58, \"val\": 8.0}, {\"col\": \"(5, 6)\", \"idx\": 58, \"val\": 10.0}, {\"col\": \"(5, 7)\", \"idx\": 58, \"val\": 8.0}, {\"col\": \"(6, 7)\", \"idx\": 58, \"val\": 2.0}, {\"col\": \"(0, 1)\", \"idx\": 59, \"val\": 4.0}, {\"col\": \"(0, 2)\", \"idx\": 59, \"val\": 12.0}, {\"col\": \"(0, 3)\", \"idx\": 59, \"val\": 10.0}, {\"col\": \"(1, 2)\", \"idx\": 59, \"val\": NaN}, {\"col\": \"(1, 3)\", \"idx\": 59, \"val\": 14.0}, {\"col\": \"(2, 3)\", \"idx\": 59, \"val\": 12.0}, {\"col\": \"(3, 4)\", \"idx\": 59, \"val\": 10.0}, {\"col\": \"(4, 5)\", \"idx\": 59, \"val\": 4.0}, {\"col\": \"(4, 6)\", \"idx\": 59, \"val\": 10.0}, {\"col\": \"(4, 7)\", \"idx\": 59, \"val\": 8.0}, {\"col\": \"(5, 6)\", \"idx\": 59, \"val\": 10.0}, {\"col\": \"(5, 7)\", \"idx\": 59, \"val\": 6.0}, {\"col\": \"(6, 7)\", \"idx\": 59, \"val\": 2.0}, {\"col\": \"(0, 1)\", \"idx\": 60, \"val\": 6.0}, {\"col\": \"(0, 2)\", \"idx\": 60, \"val\": 8.0}, {\"col\": \"(0, 3)\", \"idx\": 60, \"val\": 16.0}, {\"col\": \"(1, 2)\", \"idx\": 60, \"val\": 2.0}, {\"col\": \"(1, 3)\", \"idx\": 60, \"val\": 8.0}, {\"col\": \"(2, 3)\", \"idx\": 60, \"val\": 2.0}, {\"col\": \"(3, 4)\", \"idx\": 60, \"val\": 20.0}, {\"col\": \"(4, 5)\", \"idx\": 60, \"val\": 12.0}, {\"col\": \"(4, 6)\", \"idx\": 60, \"val\": 8.0}, {\"col\": \"(4, 7)\", \"idx\": 60, \"val\": 4.0}, {\"col\": \"(5, 6)\", \"idx\": 60, \"val\": 4.0}, {\"col\": \"(5, 7)\", \"idx\": 60, \"val\": 6.0}, {\"col\": \"(6, 7)\", \"idx\": 60, \"val\": 4.0}, {\"col\": \"(0, 1)\", \"idx\": 61, \"val\": 14.0}, {\"col\": \"(0, 2)\", \"idx\": 61, \"val\": 6.0}, {\"col\": \"(0, 3)\", \"idx\": 61, \"val\": 4.0}, {\"col\": \"(1, 2)\", \"idx\": 61, \"val\": 2.0}, {\"col\": \"(1, 3)\", \"idx\": 61, \"val\": 4.0}, {\"col\": \"(2, 3)\", \"idx\": 61, \"val\": 14.0}, {\"col\": \"(3, 4)\", \"idx\": 61, \"val\": 2.0}, {\"col\": \"(4, 5)\", \"idx\": 61, \"val\": 18.0}, {\"col\": \"(4, 6)\", \"idx\": 61, \"val\": 10.0}, {\"col\": \"(4, 7)\", \"idx\": 61, \"val\": 8.0}, {\"col\": \"(5, 6)\", \"idx\": 61, \"val\": 10.0}, {\"col\": \"(5, 7)\", \"idx\": 61, \"val\": 4.0}, {\"col\": \"(6, 7)\", \"idx\": 61, \"val\": NaN}, {\"col\": \"(0, 1)\", \"idx\": 62, \"val\": NaN}, {\"col\": \"(0, 2)\", \"idx\": 62, \"val\": 10.0}, {\"col\": \"(0, 3)\", \"idx\": 62, \"val\": 6.0}, {\"col\": \"(1, 2)\", \"idx\": 62, \"val\": 6.0}, {\"col\": \"(1, 3)\", \"idx\": 62, \"val\": 4.0}, {\"col\": \"(2, 3)\", \"idx\": 62, \"val\": 14.0}, {\"col\": \"(3, 4)\", \"idx\": 62, \"val\": 6.0}, {\"col\": \"(4, 5)\", \"idx\": 62, \"val\": 6.0}, {\"col\": \"(4, 6)\", \"idx\": 62, \"val\": 8.0}, {\"col\": \"(4, 7)\", \"idx\": 62, \"val\": 4.0}, {\"col\": \"(5, 6)\", \"idx\": 62, \"val\": 20.0}, {\"col\": \"(5, 7)\", \"idx\": 62, \"val\": 8.0}, {\"col\": \"(6, 7)\", \"idx\": 62, \"val\": NaN}, {\"col\": \"(0, 1)\", \"idx\": 63, \"val\": 2.0}, {\"col\": \"(0, 2)\", \"idx\": 63, \"val\": 2.0}, {\"col\": \"(0, 3)\", \"idx\": 63, \"val\": 10.0}, {\"col\": \"(1, 2)\", \"idx\": 63, \"val\": 6.0}, {\"col\": \"(1, 3)\", \"idx\": 63, \"val\": 4.0}, {\"col\": \"(2, 3)\", \"idx\": 63, \"val\": 6.0}, {\"col\": \"(3, 4)\", \"idx\": 63, \"val\": 10.0}, {\"col\": \"(4, 5)\", \"idx\": 63, \"val\": 12.0}, {\"col\": \"(4, 6)\", \"idx\": 63, \"val\": 8.0}, {\"col\": \"(4, 7)\", \"idx\": 63, \"val\": 2.0}, {\"col\": \"(5, 6)\", \"idx\": 63, \"val\": 14.0}, {\"col\": \"(5, 7)\", \"idx\": 63, \"val\": 8.0}, {\"col\": \"(6, 7)\", \"idx\": 63, \"val\": 6.0}, {\"col\": \"(0, 1)\", \"idx\": 64, \"val\": 6.0}, {\"col\": \"(0, 2)\", \"idx\": 64, \"val\": NaN}, {\"col\": \"(0, 3)\", \"idx\": 64, \"val\": 8.0}, {\"col\": \"(1, 2)\", \"idx\": 64, \"val\": 4.0}, {\"col\": \"(1, 3)\", \"idx\": 64, \"val\": 6.0}, {\"col\": \"(2, 3)\", \"idx\": 64, \"val\": 2.0}, {\"col\": \"(3, 4)\", \"idx\": 64, \"val\": 14.0}, {\"col\": \"(4, 5)\", \"idx\": 64, \"val\": 4.0}, {\"col\": \"(4, 6)\", \"idx\": 64, \"val\": 4.0}, {\"col\": \"(4, 7)\", \"idx\": 64, \"val\": 8.0}, {\"col\": \"(5, 6)\", \"idx\": 64, \"val\": 6.0}, {\"col\": \"(5, 7)\", \"idx\": 64, \"val\": 16.0}, {\"col\": \"(6, 7)\", \"idx\": 64, \"val\": 4.0}, {\"col\": \"(0, 1)\", \"idx\": 65, \"val\": 4.0}, {\"col\": \"(0, 2)\", \"idx\": 65, \"val\": 6.0}, {\"col\": \"(0, 3)\", \"idx\": 65, \"val\": 8.0}, {\"col\": \"(1, 2)\", \"idx\": 65, \"val\": NaN}, {\"col\": \"(1, 3)\", \"idx\": 65, \"val\": 6.0}, {\"col\": \"(2, 3)\", \"idx\": 65, \"val\": 4.0}, {\"col\": \"(3, 4)\", \"idx\": 65, \"val\": 8.0}, {\"col\": \"(4, 5)\", \"idx\": 65, \"val\": 4.0}, {\"col\": \"(4, 6)\", \"idx\": 65, \"val\": 6.0}, {\"col\": \"(4, 7)\", \"idx\": 65, \"val\": 16.0}, {\"col\": \"(5, 6)\", \"idx\": 65, \"val\": 2.0}, {\"col\": \"(5, 7)\", \"idx\": 65, \"val\": 10.0}, {\"col\": \"(6, 7)\", \"idx\": 65, \"val\": 4.0}, {\"col\": \"(0, 1)\", \"idx\": 66, \"val\": 4.0}, {\"col\": \"(0, 2)\", \"idx\": 66, \"val\": 6.0}, {\"col\": \"(0, 3)\", \"idx\": 66, \"val\": 4.0}, {\"col\": \"(1, 2)\", \"idx\": 66, \"val\": 6.0}, {\"col\": \"(1, 3)\", \"idx\": 66, \"val\": NaN}, {\"col\": \"(2, 3)\", \"idx\": 66, \"val\": 10.0}, {\"col\": \"(3, 4)\", \"idx\": 66, \"val\": 6.0}, {\"col\": \"(4, 5)\", \"idx\": 66, \"val\": 8.0}, {\"col\": \"(4, 6)\", \"idx\": 66, \"val\": NaN}, {\"col\": \"(4, 7)\", \"idx\": 66, \"val\": 8.0}, {\"col\": \"(5, 6)\", \"idx\": 66, \"val\": 6.0}, {\"col\": \"(5, 7)\", \"idx\": 66, \"val\": 10.0}, {\"col\": \"(6, 7)\", \"idx\": 66, \"val\": 10.0}, {\"col\": \"(0, 1)\", \"idx\": 67, \"val\": 2.0}, {\"col\": \"(0, 2)\", \"idx\": 67, \"val\": 2.0}, {\"col\": \"(0, 3)\", \"idx\": 67, \"val\": 4.0}, {\"col\": \"(1, 2)\", \"idx\": 67, \"val\": 4.0}, {\"col\": \"(1, 3)\", \"idx\": 67, \"val\": 2.0}, {\"col\": \"(2, 3)\", \"idx\": 67, \"val\": 14.0}, {\"col\": \"(3, 4)\", \"idx\": 67, \"val\": 4.0}, {\"col\": \"(4, 5)\", \"idx\": 67, \"val\": 6.0}, {\"col\": \"(4, 6)\", \"idx\": 67, \"val\": 6.0}, {\"col\": \"(4, 7)\", \"idx\": 67, \"val\": 10.0}, {\"col\": \"(5, 6)\", \"idx\": 67, \"val\": 4.0}, {\"col\": \"(5, 7)\", \"idx\": 67, \"val\": 8.0}, {\"col\": \"(6, 7)\", \"idx\": 67, \"val\": 8.0}, {\"col\": \"(0, 1)\", \"idx\": 68, \"val\": 6.0}, {\"col\": \"(0, 2)\", \"idx\": 68, \"val\": 4.0}, {\"col\": \"(0, 3)\", \"idx\": 68, \"val\": 6.0}, {\"col\": \"(1, 2)\", \"idx\": 68, \"val\": 4.0}, {\"col\": \"(1, 3)\", \"idx\": 68, \"val\": 2.0}, {\"col\": \"(2, 3)\", \"idx\": 68, \"val\": 4.0}, {\"col\": \"(3, 4)\", \"idx\": 68, \"val\": 10.0}, {\"col\": \"(4, 5)\", \"idx\": 68, \"val\": 8.0}, {\"col\": \"(4, 6)\", \"idx\": 68, \"val\": 6.0}, {\"col\": \"(4, 7)\", \"idx\": 68, \"val\": 2.0}, {\"col\": \"(5, 6)\", \"idx\": 68, \"val\": 4.0}, {\"col\": \"(5, 7)\", \"idx\": 68, \"val\": 6.0}, {\"col\": \"(6, 7)\", \"idx\": 68, \"val\": 10.0}, {\"col\": \"(0, 1)\", \"idx\": 69, \"val\": 4.0}, {\"col\": \"(0, 2)\", \"idx\": 69, \"val\": 10.0}, {\"col\": \"(0, 3)\", \"idx\": 69, \"val\": 4.0}, {\"col\": \"(1, 2)\", \"idx\": 69, \"val\": 8.0}, {\"col\": \"(1, 3)\", \"idx\": 69, \"val\": NaN}, {\"col\": \"(2, 3)\", \"idx\": 69, \"val\": 4.0}, {\"col\": \"(3, 4)\", \"idx\": 69, \"val\": 4.0}, {\"col\": \"(4, 5)\", \"idx\": 69, \"val\": 4.0}, {\"col\": \"(4, 6)\", \"idx\": 69, \"val\": 2.0}, {\"col\": \"(4, 7)\", \"idx\": 69, \"val\": 4.0}, {\"col\": \"(5, 6)\", \"idx\": 69, \"val\": 12.0}, {\"col\": \"(5, 7)\", \"idx\": 69, \"val\": 8.0}, {\"col\": \"(6, 7)\", \"idx\": 69, \"val\": 4.0}, {\"col\": \"(0, 1)\", \"idx\": 70, \"val\": 2.0}, {\"col\": \"(0, 2)\", \"idx\": 70, \"val\": 6.0}, {\"col\": \"(0, 3)\", \"idx\": 70, \"val\": 2.0}, {\"col\": \"(1, 2)\", \"idx\": 70, \"val\": 8.0}, {\"col\": \"(1, 3)\", \"idx\": 70, \"val\": 4.0}, {\"col\": \"(2, 3)\", \"idx\": 70, \"val\": 4.0}, {\"col\": \"(3, 4)\", \"idx\": 70, \"val\": 6.0}, {\"col\": \"(4, 5)\", \"idx\": 70, \"val\": 10.0}, {\"col\": \"(4, 6)\", \"idx\": 70, \"val\": 2.0}, {\"col\": \"(4, 7)\", \"idx\": 70, \"val\": NaN}, {\"col\": \"(5, 6)\", \"idx\": 70, \"val\": 6.0}, {\"col\": \"(5, 7)\", \"idx\": 70, \"val\": 12.0}, {\"col\": \"(6, 7)\", \"idx\": 70, \"val\": 4.0}, {\"col\": \"(0, 1)\", \"idx\": 71, \"val\": 4.0}, {\"col\": \"(0, 2)\", \"idx\": 71, \"val\": 6.0}, {\"col\": \"(0, 3)\", \"idx\": 71, \"val\": 2.0}, {\"col\": \"(1, 2)\", \"idx\": 71, \"val\": 4.0}, {\"col\": \"(1, 3)\", \"idx\": 71, \"val\": 4.0}, {\"col\": \"(2, 3)\", \"idx\": 71, \"val\": NaN}, {\"col\": \"(3, 4)\", \"idx\": 71, \"val\": 10.0}, {\"col\": \"(4, 5)\", \"idx\": 71, \"val\": 10.0}, {\"col\": \"(4, 6)\", \"idx\": 71, \"val\": NaN}, {\"col\": \"(4, 7)\", \"idx\": 71, \"val\": 6.0}, {\"col\": \"(5, 6)\", \"idx\": 71, \"val\": 8.0}, {\"col\": \"(5, 7)\", \"idx\": 71, \"val\": 4.0}, {\"col\": \"(6, 7)\", \"idx\": 71, \"val\": 6.0}, {\"col\": \"(0, 1)\", \"idx\": 72, \"val\": 2.0}, {\"col\": \"(0, 2)\", \"idx\": 72, \"val\": 2.0}, {\"col\": \"(0, 3)\", \"idx\": 72, \"val\": 8.0}, {\"col\": \"(1, 2)\", \"idx\": 72, \"val\": 4.0}, {\"col\": \"(1, 3)\", \"idx\": 72, \"val\": NaN}, {\"col\": \"(2, 3)\", \"idx\": 72, \"val\": 2.0}, {\"col\": \"(3, 4)\", \"idx\": 72, \"val\": 2.0}, {\"col\": \"(4, 5)\", \"idx\": 72, \"val\": 8.0}, {\"col\": \"(4, 6)\", \"idx\": 72, \"val\": 8.0}, {\"col\": \"(4, 7)\", \"idx\": 72, \"val\": 6.0}, {\"col\": \"(5, 6)\", \"idx\": 72, \"val\": 6.0}, {\"col\": \"(5, 7)\", \"idx\": 72, \"val\": 6.0}, {\"col\": \"(6, 7)\", \"idx\": 72, \"val\": 4.0}, {\"col\": \"(0, 1)\", \"idx\": 73, \"val\": NaN}, {\"col\": \"(0, 2)\", \"idx\": 73, \"val\": 2.0}, {\"col\": \"(0, 3)\", \"idx\": 73, \"val\": 4.0}, {\"col\": \"(1, 2)\", \"idx\": 73, \"val\": NaN}, {\"col\": \"(1, 3)\", \"idx\": 73, \"val\": 4.0}, {\"col\": \"(2, 3)\", \"idx\": 73, \"val\": 6.0}, {\"col\": \"(3, 4)\", \"idx\": 73, \"val\": 4.0}, {\"col\": \"(4, 5)\", \"idx\": 73, \"val\": 4.0}, {\"col\": \"(4, 6)\", \"idx\": 73, \"val\": 4.0}, {\"col\": \"(4, 7)\", \"idx\": 73, \"val\": 6.0}, {\"col\": \"(5, 6)\", \"idx\": 73, \"val\": 6.0}, {\"col\": \"(5, 7)\", \"idx\": 73, \"val\": 8.0}, {\"col\": \"(6, 7)\", \"idx\": 73, \"val\": 8.0}, {\"col\": \"(0, 1)\", \"idx\": 74, \"val\": NaN}, {\"col\": \"(0, 2)\", \"idx\": 74, \"val\": NaN}, {\"col\": \"(0, 3)\", \"idx\": 74, \"val\": 2.0}, {\"col\": \"(1, 2)\", \"idx\": 74, \"val\": 2.0}, {\"col\": \"(1, 3)\", \"idx\": 74, \"val\": 6.0}, {\"col\": \"(2, 3)\", \"idx\": 74, \"val\": 2.0}, {\"col\": \"(3, 4)\", \"idx\": 74, \"val\": 6.0}, {\"col\": \"(4, 5)\", \"idx\": 74, \"val\": 6.0}, {\"col\": \"(4, 6)\", \"idx\": 74, \"val\": 10.0}, {\"col\": \"(4, 7)\", \"idx\": 74, \"val\": 8.0}, {\"col\": \"(5, 6)\", \"idx\": 74, \"val\": 2.0}, {\"col\": \"(5, 7)\", \"idx\": 74, \"val\": 4.0}, {\"col\": \"(6, 7)\", \"idx\": 74, \"val\": 6.0}, {\"col\": \"(0, 1)\", \"idx\": 75, \"val\": 2.0}, {\"col\": \"(0, 2)\", \"idx\": 75, \"val\": 2.0}, {\"col\": \"(0, 3)\", \"idx\": 75, \"val\": 4.0}, {\"col\": \"(1, 2)\", \"idx\": 75, \"val\": NaN}, {\"col\": \"(1, 3)\", \"idx\": 75, \"val\": 4.0}, {\"col\": \"(2, 3)\", \"idx\": 75, \"val\": 2.0}, {\"col\": \"(3, 4)\", \"idx\": 75, \"val\": 2.0}, {\"col\": \"(4, 5)\", \"idx\": 75, \"val\": 4.0}, {\"col\": \"(4, 6)\", \"idx\": 75, \"val\": 6.0}, {\"col\": \"(4, 7)\", \"idx\": 75, \"val\": 8.0}, {\"col\": \"(5, 6)\", \"idx\": 75, \"val\": 6.0}, {\"col\": \"(5, 7)\", \"idx\": 75, \"val\": 6.0}, {\"col\": \"(6, 7)\", \"idx\": 75, \"val\": 4.0}, {\"col\": \"(0, 1)\", \"idx\": 76, \"val\": 2.0}, {\"col\": \"(0, 2)\", \"idx\": 76, \"val\": 6.0}, {\"col\": \"(0, 3)\", \"idx\": 76, \"val\": 2.0}, {\"col\": \"(1, 2)\", \"idx\": 76, \"val\": 2.0}, {\"col\": \"(1, 3)\", \"idx\": 76, \"val\": NaN}, {\"col\": \"(2, 3)\", \"idx\": 76, \"val\": 4.0}, {\"col\": \"(3, 4)\", \"idx\": 76, \"val\": NaN}, {\"col\": \"(4, 5)\", \"idx\": 76, \"val\": 2.0}, {\"col\": \"(4, 6)\", \"idx\": 76, \"val\": 8.0}, {\"col\": \"(4, 7)\", \"idx\": 76, \"val\": 8.0}, {\"col\": \"(5, 6)\", \"idx\": 76, \"val\": 6.0}, {\"col\": \"(5, 7)\", \"idx\": 76, \"val\": 4.0}, {\"col\": \"(6, 7)\", \"idx\": 76, \"val\": 4.0}, {\"col\": \"(0, 1)\", \"idx\": 77, \"val\": 2.0}, {\"col\": \"(0, 2)\", \"idx\": 77, \"val\": 6.0}, {\"col\": \"(0, 3)\", \"idx\": 77, \"val\": 2.0}, {\"col\": \"(1, 2)\", \"idx\": 77, \"val\": 2.0}, {\"col\": \"(1, 3)\", \"idx\": 77, \"val\": NaN}, {\"col\": \"(2, 3)\", \"idx\": 77, \"val\": 4.0}, {\"col\": \"(3, 4)\", \"idx\": 77, \"val\": 4.0}, {\"col\": \"(4, 5)\", \"idx\": 77, \"val\": 4.0}, {\"col\": \"(4, 6)\", \"idx\": 77, \"val\": 4.0}, {\"col\": \"(4, 7)\", \"idx\": 77, \"val\": 6.0}, {\"col\": \"(5, 6)\", \"idx\": 77, \"val\": 6.0}, {\"col\": \"(5, 7)\", \"idx\": 77, \"val\": 4.0}, {\"col\": \"(6, 7)\", \"idx\": 77, \"val\": 4.0}, {\"col\": \"(0, 1)\", \"idx\": 78, \"val\": 4.0}, {\"col\": \"(0, 2)\", \"idx\": 78, \"val\": NaN}, {\"col\": \"(0, 3)\", \"idx\": 78, \"val\": 6.0}, {\"col\": \"(1, 2)\", \"idx\": 78, \"val\": 2.0}, {\"col\": \"(1, 3)\", \"idx\": 78, \"val\": 4.0}, {\"col\": \"(2, 3)\", \"idx\": 78, \"val\": 2.0}, {\"col\": \"(3, 4)\", \"idx\": 78, \"val\": NaN}, {\"col\": \"(4, 5)\", \"idx\": 78, \"val\": 4.0}, {\"col\": \"(4, 6)\", \"idx\": 78, \"val\": NaN}, {\"col\": \"(4, 7)\", \"idx\": 78, \"val\": 8.0}, {\"col\": \"(5, 6)\", \"idx\": 78, \"val\": 4.0}, {\"col\": \"(5, 7)\", \"idx\": 78, \"val\": 4.0}, {\"col\": \"(6, 7)\", \"idx\": 78, \"val\": 8.0}, {\"col\": \"(0, 1)\", \"idx\": 79, \"val\": 2.0}, {\"col\": \"(0, 2)\", \"idx\": 79, \"val\": 4.0}, {\"col\": \"(0, 3)\", \"idx\": 79, \"val\": 2.0}, {\"col\": \"(1, 2)\", \"idx\": 79, \"val\": 6.0}, {\"col\": \"(1, 3)\", \"idx\": 79, \"val\": 2.0}, {\"col\": \"(2, 3)\", \"idx\": 79, \"val\": NaN}, {\"col\": \"(3, 4)\", \"idx\": 79, \"val\": 8.0}, {\"col\": \"(4, 5)\", \"idx\": 79, \"val\": 4.0}, {\"col\": \"(4, 6)\", \"idx\": 79, \"val\": NaN}, {\"col\": \"(4, 7)\", \"idx\": 79, \"val\": 2.0}, {\"col\": \"(5, 6)\", \"idx\": 79, \"val\": 2.0}, {\"col\": \"(5, 7)\", \"idx\": 79, \"val\": 4.0}, {\"col\": \"(6, 7)\", \"idx\": 79, \"val\": 10.0}, {\"col\": \"(0, 1)\", \"idx\": 80, \"val\": 4.0}, {\"col\": \"(0, 2)\", \"idx\": 80, \"val\": 6.0}, {\"col\": \"(0, 3)\", \"idx\": 80, \"val\": NaN}, {\"col\": \"(1, 2)\", \"idx\": 80, \"val\": 2.0}, {\"col\": \"(1, 3)\", \"idx\": 80, \"val\": NaN}, {\"col\": \"(2, 3)\", \"idx\": 80, \"val\": 8.0}, {\"col\": \"(3, 4)\", \"idx\": 80, \"val\": 4.0}, {\"col\": \"(4, 5)\", \"idx\": 80, \"val\": 4.0}, {\"col\": \"(4, 6)\", \"idx\": 80, \"val\": 4.0}, {\"col\": \"(4, 7)\", \"idx\": 80, \"val\": 2.0}, {\"col\": \"(5, 6)\", \"idx\": 80, \"val\": 2.0}, {\"col\": \"(5, 7)\", \"idx\": 80, \"val\": 4.0}, {\"col\": \"(6, 7)\", \"idx\": 80, \"val\": 6.0}, {\"col\": \"(0, 1)\", \"idx\": 81, \"val\": 4.0}, {\"col\": \"(0, 2)\", \"idx\": 81, \"val\": 4.0}, {\"col\": \"(0, 3)\", \"idx\": 81, \"val\": NaN}, {\"col\": \"(1, 2)\", \"idx\": 81, \"val\": 4.0}, {\"col\": \"(1, 3)\", \"idx\": 81, \"val\": 2.0}, {\"col\": \"(2, 3)\", \"idx\": 81, \"val\": 4.0}, {\"col\": \"(3, 4)\", \"idx\": 81, \"val\": 6.0}, {\"col\": \"(4, 5)\", \"idx\": 81, \"val\": 2.0}, {\"col\": \"(4, 6)\", \"idx\": 81, \"val\": 10.0}, {\"col\": \"(4, 7)\", \"idx\": 81, \"val\": 2.0}, {\"col\": \"(5, 6)\", \"idx\": 81, \"val\": 4.0}, {\"col\": \"(5, 7)\", \"idx\": 81, \"val\": NaN}, {\"col\": \"(6, 7)\", \"idx\": 81, \"val\": 2.0}, {\"col\": \"(0, 1)\", \"idx\": 82, \"val\": 2.0}, {\"col\": \"(0, 2)\", \"idx\": 82, \"val\": 2.0}, {\"col\": \"(0, 3)\", \"idx\": 82, \"val\": NaN}, {\"col\": \"(1, 2)\", \"idx\": 82, \"val\": 6.0}, {\"col\": \"(1, 3)\", \"idx\": 82, \"val\": NaN}, {\"col\": \"(2, 3)\", \"idx\": 82, \"val\": 8.0}, {\"col\": \"(3, 4)\", \"idx\": 82, \"val\": 2.0}, {\"col\": \"(4, 5)\", \"idx\": 82, \"val\": 2.0}, {\"col\": \"(4, 6)\", \"idx\": 82, \"val\": 6.0}, {\"col\": \"(4, 7)\", \"idx\": 82, \"val\": 2.0}, {\"col\": \"(5, 6)\", \"idx\": 82, \"val\": 6.0}, {\"col\": \"(5, 7)\", \"idx\": 82, \"val\": NaN}, {\"col\": \"(6, 7)\", \"idx\": 82, \"val\": 4.0}, {\"col\": \"(0, 1)\", \"idx\": 83, \"val\": NaN}, {\"col\": \"(0, 2)\", \"idx\": 83, \"val\": 4.0}, {\"col\": \"(0, 3)\", \"idx\": 83, \"val\": NaN}, {\"col\": \"(1, 2)\", \"idx\": 83, \"val\": 6.0}, {\"col\": \"(1, 3)\", \"idx\": 83, \"val\": NaN}, {\"col\": \"(2, 3)\", \"idx\": 83, \"val\": 4.0}, {\"col\": \"(3, 4)\", \"idx\": 83, \"val\": 4.0}, {\"col\": \"(4, 5)\", \"idx\": 83, \"val\": NaN}, {\"col\": \"(4, 6)\", \"idx\": 83, \"val\": NaN}, {\"col\": \"(4, 7)\", \"idx\": 83, \"val\": 2.0}, {\"col\": \"(5, 6)\", \"idx\": 83, \"val\": 2.0}, {\"col\": \"(5, 7)\", \"idx\": 83, \"val\": 8.0}, {\"col\": \"(6, 7)\", \"idx\": 83, \"val\": 8.0}, {\"col\": \"(0, 1)\", \"idx\": 84, \"val\": NaN}, {\"col\": \"(0, 2)\", \"idx\": 84, \"val\": 2.0}, {\"col\": \"(0, 3)\", \"idx\": 84, \"val\": 6.0}, {\"col\": \"(1, 2)\", \"idx\": 84, \"val\": 4.0}, {\"col\": \"(1, 3)\", \"idx\": 84, \"val\": NaN}, {\"col\": \"(2, 3)\", \"idx\": 84, \"val\": 4.0}, {\"col\": \"(3, 4)\", \"idx\": 84, \"val\": NaN}, {\"col\": \"(4, 5)\", \"idx\": 84, \"val\": 2.0}, {\"col\": \"(4, 6)\", \"idx\": 84, \"val\": 2.0}, {\"col\": \"(4, 7)\", \"idx\": 84, \"val\": 6.0}, {\"col\": \"(5, 6)\", \"idx\": 84, \"val\": 4.0}, {\"col\": \"(5, 7)\", \"idx\": 84, \"val\": 8.0}, {\"col\": \"(6, 7)\", \"idx\": 84, \"val\": NaN}, {\"col\": \"(0, 1)\", \"idx\": 85, \"val\": 4.0}, {\"col\": \"(0, 2)\", \"idx\": 85, \"val\": 4.0}, {\"col\": \"(0, 3)\", \"idx\": 85, \"val\": 2.0}, {\"col\": \"(1, 2)\", \"idx\": 85, \"val\": NaN}, {\"col\": \"(1, 3)\", \"idx\": 85, \"val\": 4.0}, {\"col\": \"(2, 3)\", \"idx\": 85, \"val\": 2.0}, {\"col\": \"(3, 4)\", \"idx\": 85, \"val\": NaN}, {\"col\": \"(4, 5)\", \"idx\": 85, \"val\": 4.0}, {\"col\": \"(4, 6)\", \"idx\": 85, \"val\": 6.0}, {\"col\": \"(4, 7)\", \"idx\": 85, \"val\": 2.0}, {\"col\": \"(5, 6)\", \"idx\": 85, \"val\": 6.0}, {\"col\": \"(5, 7)\", \"idx\": 85, \"val\": 4.0}, {\"col\": \"(6, 7)\", \"idx\": 85, \"val\": NaN}, {\"col\": \"(0, 1)\", \"idx\": 86, \"val\": 6.0}, {\"col\": \"(0, 2)\", \"idx\": 86, \"val\": NaN}, {\"col\": \"(0, 3)\", \"idx\": 86, \"val\": NaN}, {\"col\": \"(1, 2)\", \"idx\": 86, \"val\": 4.0}, {\"col\": \"(1, 3)\", \"idx\": 86, \"val\": 2.0}, {\"col\": \"(2, 3)\", \"idx\": 86, \"val\": NaN}, {\"col\": \"(3, 4)\", \"idx\": 86, \"val\": 4.0}, {\"col\": \"(4, 5)\", \"idx\": 86, \"val\": 2.0}, {\"col\": \"(4, 6)\", \"idx\": 86, \"val\": 2.0}, {\"col\": \"(4, 7)\", \"idx\": 86, \"val\": NaN}, {\"col\": \"(5, 6)\", \"idx\": 86, \"val\": 2.0}, {\"col\": \"(5, 7)\", \"idx\": 86, \"val\": 4.0}, {\"col\": \"(6, 7)\", \"idx\": 86, \"val\": 8.0}, {\"col\": \"(0, 1)\", \"idx\": 87, \"val\": 2.0}, {\"col\": \"(0, 2)\", \"idx\": 87, \"val\": NaN}, {\"col\": \"(0, 3)\", \"idx\": 87, \"val\": 2.0}, {\"col\": \"(1, 2)\", \"idx\": 87, \"val\": 2.0}, {\"col\": \"(1, 3)\", \"idx\": 87, \"val\": 2.0}, {\"col\": \"(2, 3)\", \"idx\": 87, \"val\": 6.0}, {\"col\": \"(3, 4)\", \"idx\": 87, \"val\": 2.0}, {\"col\": \"(4, 5)\", \"idx\": 87, \"val\": 2.0}, {\"col\": \"(4, 6)\", \"idx\": 87, \"val\": 2.0}, {\"col\": \"(4, 7)\", \"idx\": 87, \"val\": 2.0}, {\"col\": \"(5, 6)\", \"idx\": 87, \"val\": 2.0}, {\"col\": \"(5, 7)\", \"idx\": 87, \"val\": 6.0}, {\"col\": \"(6, 7)\", \"idx\": 87, \"val\": 4.0}, {\"col\": \"(0, 1)\", \"idx\": 88, \"val\": 2.0}, {\"col\": \"(0, 2)\", \"idx\": 88, \"val\": NaN}, {\"col\": \"(0, 3)\", \"idx\": 88, \"val\": 4.0}, {\"col\": \"(1, 2)\", \"idx\": 88, \"val\": 2.0}, {\"col\": \"(1, 3)\", \"idx\": 88, \"val\": 2.0}, {\"col\": \"(2, 3)\", \"idx\": 88, \"val\": 2.0}, {\"col\": \"(3, 4)\", \"idx\": 88, \"val\": 6.0}, {\"col\": \"(4, 5)\", \"idx\": 88, \"val\": 2.0}, {\"col\": \"(4, 6)\", \"idx\": 88, \"val\": 2.0}, {\"col\": \"(4, 7)\", \"idx\": 88, \"val\": NaN}, {\"col\": \"(5, 6)\", \"idx\": 88, \"val\": 2.0}, {\"col\": \"(5, 7)\", \"idx\": 88, \"val\": 8.0}, {\"col\": \"(6, 7)\", \"idx\": 88, \"val\": 2.0}, {\"col\": \"(0, 1)\", \"idx\": 89, \"val\": 2.0}, {\"col\": \"(0, 2)\", \"idx\": 89, \"val\": 4.0}, {\"col\": \"(0, 3)\", \"idx\": 89, \"val\": NaN}, {\"col\": \"(1, 2)\", \"idx\": 89, \"val\": 2.0}, {\"col\": \"(1, 3)\", \"idx\": 89, \"val\": 2.0}, {\"col\": \"(2, 3)\", \"idx\": 89, \"val\": NaN}, {\"col\": \"(3, 4)\", \"idx\": 89, \"val\": NaN}, {\"col\": \"(4, 5)\", \"idx\": 89, \"val\": 4.0}, {\"col\": \"(4, 6)\", \"idx\": 89, \"val\": 2.0}, {\"col\": \"(4, 7)\", \"idx\": 89, \"val\": 8.0}, {\"col\": \"(5, 6)\", \"idx\": 89, \"val\": 2.0}, {\"col\": \"(5, 7)\", \"idx\": 89, \"val\": 2.0}, {\"col\": \"(6, 7)\", \"idx\": 89, \"val\": NaN}, {\"col\": \"(0, 1)\", \"idx\": 90, \"val\": NaN}, {\"col\": \"(0, 2)\", \"idx\": 90, \"val\": 4.0}, {\"col\": \"(0, 3)\", \"idx\": 90, \"val\": NaN}, {\"col\": \"(1, 2)\", \"idx\": 90, \"val\": 6.0}, {\"col\": \"(1, 3)\", \"idx\": 90, \"val\": NaN}, {\"col\": \"(2, 3)\", \"idx\": 90, \"val\": NaN}, {\"col\": \"(3, 4)\", \"idx\": 90, \"val\": NaN}, {\"col\": \"(4, 5)\", \"idx\": 90, \"val\": 4.0}, {\"col\": \"(4, 6)\", \"idx\": 90, \"val\": 4.0}, {\"col\": \"(4, 7)\", \"idx\": 90, \"val\": 6.0}, {\"col\": \"(5, 6)\", \"idx\": 90, \"val\": 2.0}, {\"col\": \"(5, 7)\", \"idx\": 90, \"val\": 2.0}, {\"col\": \"(6, 7)\", \"idx\": 90, \"val\": NaN}, {\"col\": \"(0, 1)\", \"idx\": 91, \"val\": 4.0}, {\"col\": \"(0, 2)\", \"idx\": 91, \"val\": 2.0}, {\"col\": \"(0, 3)\", \"idx\": 91, \"val\": NaN}, {\"col\": \"(1, 2)\", \"idx\": 91, \"val\": 4.0}, {\"col\": \"(1, 3)\", \"idx\": 91, \"val\": NaN}, {\"col\": \"(2, 3)\", \"idx\": 91, \"val\": NaN}, {\"col\": \"(3, 4)\", \"idx\": 91, \"val\": NaN}, {\"col\": \"(4, 5)\", \"idx\": 91, \"val\": 2.0}, {\"col\": \"(4, 6)\", \"idx\": 91, \"val\": 6.0}, {\"col\": \"(4, 7)\", \"idx\": 91, \"val\": 2.0}, {\"col\": \"(5, 6)\", \"idx\": 91, \"val\": NaN}, {\"col\": \"(5, 7)\", \"idx\": 91, \"val\": 4.0}, {\"col\": \"(6, 7)\", \"idx\": 91, \"val\": 2.0}, {\"col\": \"(0, 1)\", \"idx\": 92, \"val\": 2.0}, {\"col\": \"(0, 2)\", \"idx\": 92, \"val\": 2.0}, {\"col\": \"(0, 3)\", \"idx\": 92, \"val\": NaN}, {\"col\": \"(1, 2)\", \"idx\": 92, \"val\": 2.0}, {\"col\": \"(1, 3)\", \"idx\": 92, \"val\": 2.0}, {\"col\": \"(2, 3)\", \"idx\": 92, \"val\": 2.0}, {\"col\": \"(3, 4)\", \"idx\": 92, \"val\": NaN}, {\"col\": \"(4, 5)\", \"idx\": 92, \"val\": NaN}, {\"col\": \"(4, 6)\", \"idx\": 92, \"val\": 2.0}, {\"col\": \"(4, 7)\", \"idx\": 92, \"val\": 2.0}, {\"col\": \"(5, 6)\", \"idx\": 92, \"val\": 6.0}, {\"col\": \"(5, 7)\", \"idx\": 92, \"val\": 4.0}, {\"col\": \"(6, 7)\", \"idx\": 92, \"val\": 2.0}, {\"col\": \"(0, 1)\", \"idx\": 93, \"val\": NaN}, {\"col\": \"(0, 2)\", \"idx\": 93, \"val\": 4.0}, {\"col\": \"(0, 3)\", \"idx\": 93, \"val\": NaN}, {\"col\": \"(1, 2)\", \"idx\": 93, \"val\": NaN}, {\"col\": \"(1, 3)\", \"idx\": 93, \"val\": 4.0}, {\"col\": \"(2, 3)\", \"idx\": 93, \"val\": NaN}, {\"col\": \"(3, 4)\", \"idx\": 93, \"val\": 2.0}, {\"col\": \"(4, 5)\", \"idx\": 93, \"val\": NaN}, {\"col\": \"(4, 6)\", \"idx\": 93, \"val\": NaN}, {\"col\": \"(4, 7)\", \"idx\": 93, \"val\": 2.0}, {\"col\": \"(5, 6)\", \"idx\": 93, \"val\": 6.0}, {\"col\": \"(5, 7)\", \"idx\": 93, \"val\": 4.0}, {\"col\": \"(6, 7)\", \"idx\": 93, \"val\": NaN}, {\"col\": \"(0, 1)\", \"idx\": 94, \"val\": NaN}, {\"col\": \"(0, 2)\", \"idx\": 94, \"val\": NaN}, {\"col\": \"(0, 3)\", \"idx\": 94, \"val\": 4.0}, {\"col\": \"(1, 2)\", \"idx\": 94, \"val\": NaN}, {\"col\": \"(1, 3)\", \"idx\": 94, \"val\": 2.0}, {\"col\": \"(2, 3)\", \"idx\": 94, \"val\": NaN}, {\"col\": \"(3, 4)\", \"idx\": 94, \"val\": 2.0}, {\"col\": \"(4, 5)\", \"idx\": 94, \"val\": NaN}, {\"col\": \"(4, 6)\", \"idx\": 94, \"val\": NaN}, {\"col\": \"(4, 7)\", \"idx\": 94, \"val\": 2.0}, {\"col\": \"(5, 6)\", \"idx\": 94, \"val\": 2.0}, {\"col\": \"(5, 7)\", \"idx\": 94, \"val\": 6.0}, {\"col\": \"(6, 7)\", \"idx\": 94, \"val\": 2.0}, {\"col\": \"(0, 1)\", \"idx\": 95, \"val\": NaN}, {\"col\": \"(0, 2)\", \"idx\": 95, \"val\": NaN}, {\"col\": \"(0, 3)\", \"idx\": 95, \"val\": 2.0}, {\"col\": \"(1, 2)\", \"idx\": 95, \"val\": NaN}, {\"col\": \"(1, 3)\", \"idx\": 95, \"val\": 2.0}, {\"col\": \"(2, 3)\", \"idx\": 95, \"val\": 2.0}, {\"col\": \"(3, 4)\", \"idx\": 95, \"val\": 2.0}, {\"col\": \"(4, 5)\", \"idx\": 95, \"val\": NaN}, {\"col\": \"(4, 6)\", \"idx\": 95, \"val\": NaN}, {\"col\": \"(4, 7)\", \"idx\": 95, \"val\": NaN}, {\"col\": \"(5, 6)\", \"idx\": 95, \"val\": 4.0}, {\"col\": \"(5, 7)\", \"idx\": 95, \"val\": 4.0}, {\"col\": \"(6, 7)\", \"idx\": 95, \"val\": NaN}, {\"col\": \"(0, 1)\", \"idx\": 96, \"val\": 4.0}, {\"col\": \"(0, 2)\", \"idx\": 96, \"val\": NaN}, {\"col\": \"(0, 3)\", \"idx\": 96, \"val\": NaN}, {\"col\": \"(1, 2)\", \"idx\": 96, \"val\": NaN}, {\"col\": \"(1, 3)\", \"idx\": 96, \"val\": NaN}, {\"col\": \"(2, 3)\", \"idx\": 96, \"val\": 2.0}, {\"col\": \"(3, 4)\", \"idx\": 96, \"val\": 2.0}, {\"col\": \"(4, 5)\", \"idx\": 96, \"val\": 2.0}, {\"col\": \"(4, 6)\", \"idx\": 96, \"val\": NaN}, {\"col\": \"(4, 7)\", \"idx\": 96, \"val\": NaN}, {\"col\": \"(5, 6)\", \"idx\": 96, \"val\": 6.0}, {\"col\": \"(5, 7)\", \"idx\": 96, \"val\": NaN}, {\"col\": \"(6, 7)\", \"idx\": 96, \"val\": NaN}, {\"col\": \"(0, 1)\", \"idx\": 97, \"val\": NaN}, {\"col\": \"(0, 2)\", \"idx\": 97, \"val\": 2.0}, {\"col\": \"(0, 3)\", \"idx\": 97, \"val\": NaN}, {\"col\": \"(1, 2)\", \"idx\": 97, \"val\": NaN}, {\"col\": \"(1, 3)\", \"idx\": 97, \"val\": 2.0}, {\"col\": \"(2, 3)\", \"idx\": 97, \"val\": 2.0}, {\"col\": \"(3, 4)\", \"idx\": 97, \"val\": 4.0}, {\"col\": \"(4, 5)\", \"idx\": 97, \"val\": NaN}, {\"col\": \"(4, 6)\", \"idx\": 97, \"val\": 2.0}, {\"col\": \"(4, 7)\", \"idx\": 97, \"val\": NaN}, {\"col\": \"(5, 6)\", \"idx\": 97, \"val\": NaN}, {\"col\": \"(5, 7)\", \"idx\": 97, \"val\": 2.0}, {\"col\": \"(6, 7)\", \"idx\": 97, \"val\": 2.0}, {\"col\": \"(0, 1)\", \"idx\": 98, \"val\": NaN}, {\"col\": \"(0, 2)\", \"idx\": 98, \"val\": NaN}, {\"col\": \"(0, 3)\", \"idx\": 98, \"val\": NaN}, {\"col\": \"(1, 2)\", \"idx\": 98, \"val\": 2.0}, {\"col\": \"(1, 3)\", \"idx\": 98, \"val\": 2.0}, {\"col\": \"(2, 3)\", \"idx\": 98, \"val\": 2.0}, {\"col\": \"(3, 4)\", \"idx\": 98, \"val\": 4.0}, {\"col\": \"(4, 5)\", \"idx\": 98, \"val\": NaN}, {\"col\": \"(4, 6)\", \"idx\": 98, \"val\": 2.0}, {\"col\": \"(4, 7)\", \"idx\": 98, \"val\": NaN}, {\"col\": \"(5, 6)\", \"idx\": 98, \"val\": NaN}, {\"col\": \"(5, 7)\", \"idx\": 98, \"val\": 2.0}, {\"col\": \"(6, 7)\", \"idx\": 98, \"val\": 2.0}, {\"col\": \"(0, 1)\", \"idx\": 99, \"val\": NaN}, {\"col\": \"(0, 2)\", \"idx\": 99, \"val\": NaN}, {\"col\": \"(0, 3)\", \"idx\": 99, \"val\": NaN}, {\"col\": \"(1, 2)\", \"idx\": 99, \"val\": 4.0}, {\"col\": \"(1, 3)\", \"idx\": 99, \"val\": NaN}, {\"col\": \"(2, 3)\", \"idx\": 99, \"val\": 2.0}, {\"col\": \"(3, 4)\", \"idx\": 99, \"val\": NaN}, {\"col\": \"(4, 5)\", \"idx\": 99, \"val\": 2.0}, {\"col\": \"(4, 6)\", \"idx\": 99, \"val\": 4.0}, {\"col\": \"(4, 7)\", \"idx\": 99, \"val\": NaN}, {\"col\": \"(5, 6)\", \"idx\": 99, \"val\": 4.0}, {\"col\": \"(5, 7)\", \"idx\": 99, \"val\": NaN}, {\"col\": \"(6, 7)\", \"idx\": 99, \"val\": NaN}, {\"col\": \"(0, 1)\", \"idx\": 100, \"val\": NaN}, {\"col\": \"(0, 2)\", \"idx\": 100, \"val\": 4.0}, {\"col\": \"(0, 3)\", \"idx\": 100, \"val\": NaN}, {\"col\": \"(1, 2)\", \"idx\": 100, \"val\": 2.0}, {\"col\": \"(1, 3)\", \"idx\": 100, \"val\": NaN}, {\"col\": \"(2, 3)\", \"idx\": 100, \"val\": NaN}, {\"col\": \"(3, 4)\", \"idx\": 100, \"val\": NaN}, {\"col\": \"(4, 5)\", \"idx\": 100, \"val\": 4.0}, {\"col\": \"(4, 6)\", \"idx\": 100, \"val\": NaN}, {\"col\": \"(4, 7)\", \"idx\": 100, \"val\": NaN}, {\"col\": \"(5, 6)\", \"idx\": 100, \"val\": 6.0}, {\"col\": \"(5, 7)\", \"idx\": 100, \"val\": NaN}, {\"col\": \"(6, 7)\", \"idx\": 100, \"val\": NaN}, {\"col\": \"(0, 1)\", \"idx\": 101, \"val\": 2.0}, {\"col\": \"(0, 2)\", \"idx\": 101, \"val\": 2.0}, {\"col\": \"(0, 3)\", \"idx\": 101, \"val\": NaN}, {\"col\": \"(1, 2)\", \"idx\": 101, \"val\": NaN}, {\"col\": \"(1, 3)\", \"idx\": 101, \"val\": 2.0}, {\"col\": \"(2, 3)\", \"idx\": 101, \"val\": NaN}, {\"col\": \"(3, 4)\", \"idx\": 101, \"val\": 2.0}, {\"col\": \"(4, 5)\", \"idx\": 101, \"val\": 2.0}, {\"col\": \"(4, 6)\", \"idx\": 101, \"val\": NaN}, {\"col\": \"(4, 7)\", \"idx\": 101, \"val\": NaN}, {\"col\": \"(5, 6)\", \"idx\": 101, \"val\": NaN}, {\"col\": \"(5, 7)\", \"idx\": 101, \"val\": 2.0}, {\"col\": \"(6, 7)\", \"idx\": 101, \"val\": 2.0}, {\"col\": \"(0, 1)\", \"idx\": 102, \"val\": 2.0}, {\"col\": \"(0, 2)\", \"idx\": 102, \"val\": NaN}, {\"col\": \"(0, 3)\", \"idx\": 102, \"val\": 2.0}, {\"col\": \"(1, 2)\", \"idx\": 102, \"val\": NaN}, {\"col\": \"(1, 3)\", \"idx\": 102, \"val\": NaN}, {\"col\": \"(2, 3)\", \"idx\": 102, \"val\": 4.0}, {\"col\": \"(3, 4)\", \"idx\": 102, \"val\": NaN}, {\"col\": \"(4, 5)\", \"idx\": 102, \"val\": NaN}, {\"col\": \"(4, 6)\", \"idx\": 102, \"val\": NaN}, {\"col\": \"(4, 7)\", \"idx\": 102, \"val\": NaN}, {\"col\": \"(5, 6)\", \"idx\": 102, \"val\": NaN}, {\"col\": \"(5, 7)\", \"idx\": 102, \"val\": 2.0}, {\"col\": \"(6, 7)\", \"idx\": 102, \"val\": 2.0}, {\"col\": \"(0, 1)\", \"idx\": 103, \"val\": 2.0}, {\"col\": \"(0, 2)\", \"idx\": 103, \"val\": 2.0}, {\"col\": \"(0, 3)\", \"idx\": 103, \"val\": 2.0}, {\"col\": \"(1, 2)\", \"idx\": 103, \"val\": 2.0}, {\"col\": \"(1, 3)\", \"idx\": 103, \"val\": NaN}, {\"col\": \"(2, 3)\", \"idx\": 103, \"val\": NaN}, {\"col\": \"(3, 4)\", \"idx\": 103, \"val\": NaN}, {\"col\": \"(4, 5)\", \"idx\": 103, \"val\": NaN}, {\"col\": \"(4, 6)\", \"idx\": 103, \"val\": 2.0}, {\"col\": \"(4, 7)\", \"idx\": 103, \"val\": NaN}, {\"col\": \"(5, 6)\", \"idx\": 103, \"val\": 2.0}, {\"col\": \"(5, 7)\", \"idx\": 103, \"val\": NaN}, {\"col\": \"(6, 7)\", \"idx\": 103, \"val\": NaN}, {\"col\": \"(0, 1)\", \"idx\": 104, \"val\": 2.0}, {\"col\": \"(0, 2)\", \"idx\": 104, \"val\": NaN}, {\"col\": \"(0, 3)\", \"idx\": 104, \"val\": NaN}, {\"col\": \"(1, 2)\", \"idx\": 104, \"val\": 2.0}, {\"col\": \"(1, 3)\", \"idx\": 104, \"val\": 2.0}, {\"col\": \"(2, 3)\", \"idx\": 104, \"val\": 2.0}, {\"col\": \"(3, 4)\", \"idx\": 104, \"val\": NaN}, {\"col\": \"(4, 5)\", \"idx\": 104, \"val\": NaN}, {\"col\": \"(4, 6)\", \"idx\": 104, \"val\": NaN}, {\"col\": \"(4, 7)\", \"idx\": 104, \"val\": NaN}, {\"col\": \"(5, 6)\", \"idx\": 104, \"val\": 2.0}, {\"col\": \"(5, 7)\", \"idx\": 104, \"val\": NaN}, {\"col\": \"(6, 7)\", \"idx\": 104, \"val\": NaN}, {\"col\": \"(0, 1)\", \"idx\": 105, \"val\": NaN}, {\"col\": \"(0, 2)\", \"idx\": 105, \"val\": 2.0}, {\"col\": \"(0, 3)\", \"idx\": 105, \"val\": 2.0}, {\"col\": \"(1, 2)\", \"idx\": 105, \"val\": NaN}, {\"col\": \"(1, 3)\", \"idx\": 105, \"val\": 2.0}, {\"col\": \"(2, 3)\", \"idx\": 105, \"val\": NaN}, {\"col\": \"(3, 4)\", \"idx\": 105, \"val\": 2.0}, {\"col\": \"(4, 5)\", \"idx\": 105, \"val\": 2.0}, {\"col\": \"(4, 6)\", \"idx\": 105, \"val\": NaN}, {\"col\": \"(4, 7)\", \"idx\": 105, \"val\": NaN}, {\"col\": \"(5, 6)\", \"idx\": 105, \"val\": NaN}, {\"col\": \"(5, 7)\", \"idx\": 105, \"val\": NaN}, {\"col\": \"(6, 7)\", \"idx\": 105, \"val\": NaN}, {\"col\": \"(0, 1)\", \"idx\": 106, \"val\": NaN}, {\"col\": \"(0, 2)\", \"idx\": 106, \"val\": NaN}, {\"col\": \"(0, 3)\", \"idx\": 106, \"val\": 6.0}, {\"col\": \"(1, 2)\", \"idx\": 106, \"val\": NaN}, {\"col\": \"(1, 3)\", \"idx\": 106, \"val\": NaN}, {\"col\": \"(2, 3)\", \"idx\": 106, \"val\": NaN}, {\"col\": \"(3, 4)\", \"idx\": 106, \"val\": 4.0}, {\"col\": \"(4, 5)\", \"idx\": 106, \"val\": NaN}, {\"col\": \"(4, 6)\", \"idx\": 106, \"val\": NaN}, {\"col\": \"(4, 7)\", \"idx\": 106, \"val\": NaN}, {\"col\": \"(5, 6)\", \"idx\": 106, \"val\": NaN}, {\"col\": \"(5, 7)\", \"idx\": 106, \"val\": NaN}, {\"col\": \"(6, 7)\", \"idx\": 106, \"val\": NaN}, {\"col\": \"(0, 1)\", \"idx\": 107, \"val\": 2.0}, {\"col\": \"(0, 2)\", \"idx\": 107, \"val\": NaN}, {\"col\": \"(0, 3)\", \"idx\": 107, \"val\": 4.0}, {\"col\": \"(1, 2)\", \"idx\": 107, \"val\": NaN}, {\"col\": \"(1, 3)\", \"idx\": 107, \"val\": NaN}, {\"col\": \"(2, 3)\", \"idx\": 107, \"val\": NaN}, {\"col\": \"(3, 4)\", \"idx\": 107, \"val\": 4.0}, {\"col\": \"(4, 5)\", \"idx\": 107, \"val\": NaN}, {\"col\": \"(4, 6)\", \"idx\": 107, \"val\": NaN}, {\"col\": \"(4, 7)\", \"idx\": 107, \"val\": NaN}, {\"col\": \"(5, 6)\", \"idx\": 107, \"val\": NaN}, {\"col\": \"(5, 7)\", \"idx\": 107, \"val\": NaN}, {\"col\": \"(6, 7)\", \"idx\": 107, \"val\": NaN}, {\"col\": \"(0, 1)\", \"idx\": 108, \"val\": 2.0}, {\"col\": \"(0, 2)\", \"idx\": 108, \"val\": NaN}, {\"col\": \"(0, 3)\", \"idx\": 108, \"val\": 4.0}, {\"col\": \"(1, 2)\", \"idx\": 108, \"val\": NaN}, {\"col\": \"(1, 3)\", \"idx\": 108, \"val\": NaN}, {\"col\": \"(2, 3)\", \"idx\": 108, \"val\": NaN}, {\"col\": \"(3, 4)\", \"idx\": 108, \"val\": 4.0}, {\"col\": \"(4, 5)\", \"idx\": 108, \"val\": NaN}, {\"col\": \"(4, 6)\", \"idx\": 108, \"val\": NaN}, {\"col\": \"(4, 7)\", \"idx\": 108, \"val\": NaN}, {\"col\": \"(5, 6)\", \"idx\": 108, \"val\": NaN}, {\"col\": \"(5, 7)\", \"idx\": 108, \"val\": NaN}, {\"col\": \"(6, 7)\", \"idx\": 108, \"val\": NaN}, {\"col\": \"(0, 1)\", \"idx\": 109, \"val\": NaN}, {\"col\": \"(0, 2)\", \"idx\": 109, \"val\": 2.0}, {\"col\": \"(0, 3)\", \"idx\": 109, \"val\": 4.0}, {\"col\": \"(1, 2)\", \"idx\": 109, \"val\": NaN}, {\"col\": \"(1, 3)\", \"idx\": 109, \"val\": 2.0}, {\"col\": \"(2, 3)\", \"idx\": 109, \"val\": 2.0}, {\"col\": \"(3, 4)\", \"idx\": 109, \"val\": NaN}, {\"col\": \"(4, 5)\", \"idx\": 109, \"val\": NaN}, {\"col\": \"(4, 6)\", \"idx\": 109, \"val\": NaN}, {\"col\": \"(4, 7)\", \"idx\": 109, \"val\": NaN}, {\"col\": \"(5, 6)\", \"idx\": 109, \"val\": NaN}, {\"col\": \"(5, 7)\", \"idx\": 109, \"val\": NaN}, {\"col\": \"(6, 7)\", \"idx\": 109, \"val\": NaN}, {\"col\": \"(0, 1)\", \"idx\": 110, \"val\": 2.0}, {\"col\": \"(0, 2)\", \"idx\": 110, \"val\": 2.0}, {\"col\": \"(0, 3)\", \"idx\": 110, \"val\": 2.0}, {\"col\": \"(1, 2)\", \"idx\": 110, \"val\": 2.0}, {\"col\": \"(1, 3)\", \"idx\": 110, \"val\": NaN}, {\"col\": \"(2, 3)\", \"idx\": 110, \"val\": 2.0}, {\"col\": \"(3, 4)\", \"idx\": 110, \"val\": NaN}, {\"col\": \"(4, 5)\", \"idx\": 110, \"val\": NaN}, {\"col\": \"(4, 6)\", \"idx\": 110, \"val\": NaN}, {\"col\": \"(4, 7)\", \"idx\": 110, \"val\": NaN}, {\"col\": \"(5, 6)\", \"idx\": 110, \"val\": NaN}, {\"col\": \"(5, 7)\", \"idx\": 110, \"val\": NaN}, {\"col\": \"(6, 7)\", \"idx\": 110, \"val\": NaN}, {\"col\": \"(0, 1)\", \"idx\": 111, \"val\": 2.0}, {\"col\": \"(0, 2)\", \"idx\": 111, \"val\": 2.0}, {\"col\": \"(0, 3)\", \"idx\": 111, \"val\": 2.0}, {\"col\": \"(1, 2)\", \"idx\": 111, \"val\": NaN}, {\"col\": \"(1, 3)\", \"idx\": 111, \"val\": NaN}, {\"col\": \"(2, 3)\", \"idx\": 111, \"val\": NaN}, {\"col\": \"(3, 4)\", \"idx\": 111, \"val\": 4.0}, {\"col\": \"(4, 5)\", \"idx\": 111, \"val\": NaN}, {\"col\": \"(4, 6)\", \"idx\": 111, \"val\": NaN}, {\"col\": \"(4, 7)\", \"idx\": 111, \"val\": NaN}, {\"col\": \"(5, 6)\", \"idx\": 111, \"val\": NaN}, {\"col\": \"(5, 7)\", \"idx\": 111, \"val\": NaN}, {\"col\": \"(6, 7)\", \"idx\": 111, \"val\": NaN}, {\"col\": \"(0, 1)\", \"idx\": 112, \"val\": NaN}, {\"col\": \"(0, 2)\", \"idx\": 112, \"val\": NaN}, {\"col\": \"(0, 3)\", \"idx\": 112, \"val\": 2.0}, {\"col\": \"(1, 2)\", \"idx\": 112, \"val\": NaN}, {\"col\": \"(1, 3)\", \"idx\": 112, \"val\": NaN}, {\"col\": \"(2, 3)\", \"idx\": 112, \"val\": NaN}, {\"col\": \"(3, 4)\", \"idx\": 112, \"val\": 2.0}, {\"col\": \"(4, 5)\", \"idx\": 112, \"val\": 2.0}, {\"col\": \"(4, 6)\", \"idx\": 112, \"val\": 2.0}, {\"col\": \"(4, 7)\", \"idx\": 112, \"val\": NaN}, {\"col\": \"(5, 6)\", \"idx\": 112, \"val\": NaN}, {\"col\": \"(5, 7)\", \"idx\": 112, \"val\": NaN}, {\"col\": \"(6, 7)\", \"idx\": 112, \"val\": NaN}, {\"col\": \"(0, 1)\", \"idx\": 113, \"val\": NaN}, {\"col\": \"(0, 2)\", \"idx\": 113, \"val\": NaN}, {\"col\": \"(0, 3)\", \"idx\": 113, \"val\": NaN}, {\"col\": \"(1, 2)\", \"idx\": 113, \"val\": NaN}, {\"col\": \"(1, 3)\", \"idx\": 113, \"val\": 2.0}, {\"col\": \"(2, 3)\", \"idx\": 113, \"val\": NaN}, {\"col\": \"(3, 4)\", \"idx\": 113, \"val\": NaN}, {\"col\": \"(4, 5)\", \"idx\": 113, \"val\": NaN}, {\"col\": \"(4, 6)\", \"idx\": 113, \"val\": 2.0}, {\"col\": \"(4, 7)\", \"idx\": 113, \"val\": 2.0}, {\"col\": \"(5, 6)\", \"idx\": 113, \"val\": 2.0}, {\"col\": \"(5, 7)\", \"idx\": 113, \"val\": NaN}, {\"col\": \"(6, 7)\", \"idx\": 113, \"val\": NaN}, {\"col\": \"(0, 1)\", \"idx\": 114, \"val\": 2.0}, {\"col\": \"(0, 2)\", \"idx\": 114, \"val\": NaN}, {\"col\": \"(0, 3)\", \"idx\": 114, \"val\": NaN}, {\"col\": \"(1, 2)\", \"idx\": 114, \"val\": NaN}, {\"col\": \"(1, 3)\", \"idx\": 114, \"val\": NaN}, {\"col\": \"(2, 3)\", \"idx\": 114, \"val\": NaN}, {\"col\": \"(3, 4)\", \"idx\": 114, \"val\": NaN}, {\"col\": \"(4, 5)\", \"idx\": 114, \"val\": NaN}, {\"col\": \"(4, 6)\", \"idx\": 114, \"val\": 2.0}, {\"col\": \"(4, 7)\", \"idx\": 114, \"val\": 2.0}, {\"col\": \"(5, 6)\", \"idx\": 114, \"val\": 2.0}, {\"col\": \"(5, 7)\", \"idx\": 114, \"val\": NaN}, {\"col\": \"(6, 7)\", \"idx\": 114, \"val\": NaN}, {\"col\": \"(0, 1)\", \"idx\": 115, \"val\": NaN}, {\"col\": \"(0, 2)\", \"idx\": 115, \"val\": 2.0}, {\"col\": \"(0, 3)\", \"idx\": 115, \"val\": NaN}, {\"col\": \"(1, 2)\", \"idx\": 115, \"val\": NaN}, {\"col\": \"(1, 3)\", \"idx\": 115, \"val\": NaN}, {\"col\": \"(2, 3)\", \"idx\": 115, \"val\": NaN}, {\"col\": \"(3, 4)\", \"idx\": 115, \"val\": NaN}, {\"col\": \"(4, 5)\", \"idx\": 115, \"val\": 2.0}, {\"col\": \"(4, 6)\", \"idx\": 115, \"val\": NaN}, {\"col\": \"(4, 7)\", \"idx\": 115, \"val\": NaN}, {\"col\": \"(5, 6)\", \"idx\": 115, \"val\": 4.0}, {\"col\": \"(5, 7)\", \"idx\": 115, \"val\": NaN}, {\"col\": \"(6, 7)\", \"idx\": 115, \"val\": NaN}, {\"col\": \"(0, 1)\", \"idx\": 116, \"val\": NaN}, {\"col\": \"(0, 2)\", \"idx\": 116, \"val\": NaN}, {\"col\": \"(0, 3)\", \"idx\": 116, \"val\": NaN}, {\"col\": \"(1, 2)\", \"idx\": 116, \"val\": 2.0}, {\"col\": \"(1, 3)\", \"idx\": 116, \"val\": NaN}, {\"col\": \"(2, 3)\", \"idx\": 116, \"val\": NaN}, {\"col\": \"(3, 4)\", \"idx\": 116, \"val\": NaN}, {\"col\": \"(4, 5)\", \"idx\": 116, \"val\": 2.0}, {\"col\": \"(4, 6)\", \"idx\": 116, \"val\": 2.0}, {\"col\": \"(4, 7)\", \"idx\": 116, \"val\": NaN}, {\"col\": \"(5, 6)\", \"idx\": 116, \"val\": NaN}, {\"col\": \"(5, 7)\", \"idx\": 116, \"val\": 2.0}, {\"col\": \"(6, 7)\", \"idx\": 116, \"val\": NaN}, {\"col\": \"(0, 1)\", \"idx\": 117, \"val\": NaN}, {\"col\": \"(0, 2)\", \"idx\": 117, \"val\": NaN}, {\"col\": \"(0, 3)\", \"idx\": 117, \"val\": NaN}, {\"col\": \"(1, 2)\", \"idx\": 117, \"val\": 2.0}, {\"col\": \"(1, 3)\", \"idx\": 117, \"val\": NaN}, {\"col\": \"(2, 3)\", \"idx\": 117, \"val\": NaN}, {\"col\": \"(3, 4)\", \"idx\": 117, \"val\": 2.0}, {\"col\": \"(4, 5)\", \"idx\": 117, \"val\": 2.0}, {\"col\": \"(4, 6)\", \"idx\": 117, \"val\": NaN}, {\"col\": \"(4, 7)\", \"idx\": 117, \"val\": 2.0}, {\"col\": \"(5, 6)\", \"idx\": 117, \"val\": NaN}, {\"col\": \"(5, 7)\", \"idx\": 117, \"val\": NaN}, {\"col\": \"(6, 7)\", \"idx\": 117, \"val\": NaN}, {\"col\": \"(0, 1)\", \"idx\": 118, \"val\": NaN}, {\"col\": \"(0, 2)\", \"idx\": 118, \"val\": 2.0}, {\"col\": \"(0, 3)\", \"idx\": 118, \"val\": NaN}, {\"col\": \"(1, 2)\", \"idx\": 118, \"val\": NaN}, {\"col\": \"(1, 3)\", \"idx\": 118, \"val\": NaN}, {\"col\": \"(2, 3)\", \"idx\": 118, \"val\": NaN}, {\"col\": \"(3, 4)\", \"idx\": 118, \"val\": 2.0}, {\"col\": \"(4, 5)\", \"idx\": 118, \"val\": NaN}, {\"col\": \"(4, 6)\", \"idx\": 118, \"val\": 2.0}, {\"col\": \"(4, 7)\", \"idx\": 118, \"val\": NaN}, {\"col\": \"(5, 6)\", \"idx\": 118, \"val\": 2.0}, {\"col\": \"(5, 7)\", \"idx\": 118, \"val\": NaN}, {\"col\": \"(6, 7)\", \"idx\": 118, \"val\": NaN}, {\"col\": \"(0, 1)\", \"idx\": 119, \"val\": NaN}, {\"col\": \"(0, 2)\", \"idx\": 119, \"val\": NaN}, {\"col\": \"(0, 3)\", \"idx\": 119, \"val\": 2.0}, {\"col\": \"(1, 2)\", \"idx\": 119, \"val\": NaN}, {\"col\": \"(1, 3)\", \"idx\": 119, \"val\": NaN}, {\"col\": \"(2, 3)\", \"idx\": 119, \"val\": NaN}, {\"col\": \"(3, 4)\", \"idx\": 119, \"val\": 2.0}, {\"col\": \"(4, 5)\", \"idx\": 119, \"val\": NaN}, {\"col\": \"(4, 6)\", \"idx\": 119, \"val\": NaN}, {\"col\": \"(4, 7)\", \"idx\": 119, \"val\": NaN}, {\"col\": \"(5, 6)\", \"idx\": 119, \"val\": 2.0}, {\"col\": \"(5, 7)\", \"idx\": 119, \"val\": NaN}, {\"col\": \"(6, 7)\", \"idx\": 119, \"val\": 2.0}, {\"col\": \"(0, 1)\", \"idx\": 120, \"val\": NaN}, {\"col\": \"(0, 2)\", \"idx\": 120, \"val\": NaN}, {\"col\": \"(0, 3)\", \"idx\": 120, \"val\": 2.0}, {\"col\": \"(1, 2)\", \"idx\": 120, \"val\": NaN}, {\"col\": \"(1, 3)\", \"idx\": 120, \"val\": NaN}, {\"col\": \"(2, 3)\", \"idx\": 120, \"val\": 2.0}, {\"col\": \"(3, 4)\", \"idx\": 120, \"val\": NaN}, {\"col\": \"(4, 5)\", \"idx\": 120, \"val\": NaN}, {\"col\": \"(4, 6)\", \"idx\": 120, \"val\": NaN}, {\"col\": \"(4, 7)\", \"idx\": 120, \"val\": NaN}, {\"col\": \"(5, 6)\", \"idx\": 120, \"val\": 2.0}, {\"col\": \"(5, 7)\", \"idx\": 120, \"val\": NaN}, {\"col\": \"(6, 7)\", \"idx\": 120, \"val\": 2.0}, {\"col\": \"(0, 1)\", \"idx\": 121, \"val\": 2.0}, {\"col\": \"(0, 2)\", \"idx\": 121, \"val\": 2.0}, {\"col\": \"(0, 3)\", \"idx\": 121, \"val\": NaN}, {\"col\": \"(1, 2)\", \"idx\": 121, \"val\": NaN}, {\"col\": \"(1, 3)\", \"idx\": 121, \"val\": NaN}, {\"col\": \"(2, 3)\", \"idx\": 121, \"val\": NaN}, {\"col\": \"(3, 4)\", \"idx\": 121, \"val\": NaN}, {\"col\": \"(4, 5)\", \"idx\": 121, \"val\": NaN}, {\"col\": \"(4, 6)\", \"idx\": 121, \"val\": 2.0}, {\"col\": \"(4, 7)\", \"idx\": 121, \"val\": NaN}, {\"col\": \"(5, 6)\", \"idx\": 121, \"val\": NaN}, {\"col\": \"(5, 7)\", \"idx\": 121, \"val\": NaN}, {\"col\": \"(6, 7)\", \"idx\": 121, \"val\": 2.0}, {\"col\": \"(0, 1)\", \"idx\": 122, \"val\": NaN}, {\"col\": \"(0, 2)\", \"idx\": 122, \"val\": NaN}, {\"col\": \"(0, 3)\", \"idx\": 122, \"val\": 2.0}, {\"col\": \"(1, 2)\", \"idx\": 122, \"val\": NaN}, {\"col\": \"(1, 3)\", \"idx\": 122, \"val\": 2.0}, {\"col\": \"(2, 3)\", \"idx\": 122, \"val\": NaN}, {\"col\": \"(3, 4)\", \"idx\": 122, \"val\": 2.0}, {\"col\": \"(4, 5)\", \"idx\": 122, \"val\": NaN}, {\"col\": \"(4, 6)\", \"idx\": 122, \"val\": NaN}, {\"col\": \"(4, 7)\", \"idx\": 122, \"val\": NaN}, {\"col\": \"(5, 6)\", \"idx\": 122, \"val\": NaN}, {\"col\": \"(5, 7)\", \"idx\": 122, \"val\": 2.0}, {\"col\": \"(6, 7)\", \"idx\": 122, \"val\": NaN}, {\"col\": \"(0, 1)\", \"idx\": 123, \"val\": NaN}, {\"col\": \"(0, 2)\", \"idx\": 123, \"val\": NaN}, {\"col\": \"(0, 3)\", \"idx\": 123, \"val\": 2.0}, {\"col\": \"(1, 2)\", \"idx\": 123, \"val\": NaN}, {\"col\": \"(1, 3)\", \"idx\": 123, \"val\": NaN}, {\"col\": \"(2, 3)\", \"idx\": 123, \"val\": 4.0}, {\"col\": \"(3, 4)\", \"idx\": 123, \"val\": NaN}, {\"col\": \"(4, 5)\", \"idx\": 123, \"val\": 2.0}, {\"col\": \"(4, 6)\", \"idx\": 123, \"val\": NaN}, {\"col\": \"(4, 7)\", \"idx\": 123, \"val\": NaN}, {\"col\": \"(5, 6)\", \"idx\": 123, \"val\": NaN}, {\"col\": \"(5, 7)\", \"idx\": 123, \"val\": NaN}, {\"col\": \"(6, 7)\", \"idx\": 123, \"val\": NaN}, {\"col\": \"(0, 1)\", \"idx\": 124, \"val\": NaN}, {\"col\": \"(0, 2)\", \"idx\": 124, \"val\": 4.0}, {\"col\": \"(0, 3)\", \"idx\": 124, \"val\": 2.0}, {\"col\": \"(1, 2)\", \"idx\": 124, \"val\": NaN}, {\"col\": \"(1, 3)\", \"idx\": 124, \"val\": NaN}, {\"col\": \"(2, 3)\", \"idx\": 124, \"val\": NaN}, {\"col\": \"(3, 4)\", \"idx\": 124, \"val\": 2.0}, {\"col\": \"(4, 5)\", \"idx\": 124, \"val\": NaN}, {\"col\": \"(4, 6)\", \"idx\": 124, \"val\": NaN}, {\"col\": \"(4, 7)\", \"idx\": 124, \"val\": NaN}, {\"col\": \"(5, 6)\", \"idx\": 124, \"val\": NaN}, {\"col\": \"(5, 7)\", \"idx\": 124, \"val\": NaN}, {\"col\": \"(6, 7)\", \"idx\": 124, \"val\": NaN}, {\"col\": \"(0, 1)\", \"idx\": 125, \"val\": 2.0}, {\"col\": \"(0, 2)\", \"idx\": 125, \"val\": 2.0}, {\"col\": \"(0, 3)\", \"idx\": 125, \"val\": 2.0}, {\"col\": \"(1, 2)\", \"idx\": 125, \"val\": NaN}, {\"col\": \"(1, 3)\", \"idx\": 125, \"val\": NaN}, {\"col\": \"(2, 3)\", \"idx\": 125, \"val\": 2.0}, {\"col\": \"(3, 4)\", \"idx\": 125, \"val\": NaN}, {\"col\": \"(4, 5)\", \"idx\": 125, \"val\": NaN}, {\"col\": \"(4, 6)\", \"idx\": 125, \"val\": NaN}, {\"col\": \"(4, 7)\", \"idx\": 125, \"val\": NaN}, {\"col\": \"(5, 6)\", \"idx\": 125, \"val\": NaN}, {\"col\": \"(5, 7)\", \"idx\": 125, \"val\": NaN}, {\"col\": \"(6, 7)\", \"idx\": 125, \"val\": NaN}, {\"col\": \"(0, 1)\", \"idx\": 126, \"val\": 2.0}, {\"col\": \"(0, 2)\", \"idx\": 126, \"val\": 2.0}, {\"col\": \"(0, 3)\", \"idx\": 126, \"val\": 2.0}, {\"col\": \"(1, 2)\", \"idx\": 126, \"val\": 2.0}, {\"col\": \"(1, 3)\", \"idx\": 126, \"val\": NaN}, {\"col\": \"(2, 3)\", \"idx\": 126, \"val\": NaN}, {\"col\": \"(3, 4)\", \"idx\": 126, \"val\": NaN}, {\"col\": \"(4, 5)\", \"idx\": 126, \"val\": NaN}, {\"col\": \"(4, 6)\", \"idx\": 126, \"val\": NaN}, {\"col\": \"(4, 7)\", \"idx\": 126, \"val\": NaN}, {\"col\": \"(5, 6)\", \"idx\": 126, \"val\": NaN}, {\"col\": \"(5, 7)\", \"idx\": 126, \"val\": NaN}, {\"col\": \"(6, 7)\", \"idx\": 126, \"val\": NaN}, {\"col\": \"(0, 1)\", \"idx\": 127, \"val\": NaN}, {\"col\": \"(0, 2)\", \"idx\": 127, \"val\": 4.0}, {\"col\": \"(0, 3)\", \"idx\": 127, \"val\": 2.0}, {\"col\": \"(1, 2)\", \"idx\": 127, \"val\": 2.0}, {\"col\": \"(1, 3)\", \"idx\": 127, \"val\": NaN}, {\"col\": \"(2, 3)\", \"idx\": 127, \"val\": NaN}, {\"col\": \"(3, 4)\", \"idx\": 127, \"val\": NaN}, {\"col\": \"(4, 5)\", \"idx\": 127, \"val\": NaN}, {\"col\": \"(4, 6)\", \"idx\": 127, \"val\": NaN}, {\"col\": \"(4, 7)\", \"idx\": 127, \"val\": NaN}, {\"col\": \"(5, 6)\", \"idx\": 127, \"val\": NaN}, {\"col\": \"(5, 7)\", \"idx\": 127, \"val\": NaN}, {\"col\": \"(6, 7)\", \"idx\": 127, \"val\": NaN}, {\"col\": \"(0, 1)\", \"idx\": 128, \"val\": 2.0}, {\"col\": \"(0, 2)\", \"idx\": 128, \"val\": 4.0}, {\"col\": \"(0, 3)\", \"idx\": 128, \"val\": NaN}, {\"col\": \"(1, 2)\", \"idx\": 128, \"val\": NaN}, {\"col\": \"(1, 3)\", \"idx\": 128, \"val\": NaN}, {\"col\": \"(2, 3)\", \"idx\": 128, \"val\": 2.0}, {\"col\": \"(3, 4)\", \"idx\": 128, \"val\": NaN}, {\"col\": \"(4, 5)\", \"idx\": 128, \"val\": NaN}, {\"col\": \"(4, 6)\", \"idx\": 128, \"val\": NaN}, {\"col\": \"(4, 7)\", \"idx\": 128, \"val\": NaN}, {\"col\": \"(5, 6)\", \"idx\": 128, \"val\": NaN}, {\"col\": \"(5, 7)\", \"idx\": 128, \"val\": NaN}, {\"col\": \"(6, 7)\", \"idx\": 128, \"val\": NaN}, {\"col\": \"(0, 1)\", \"idx\": 129, \"val\": NaN}, {\"col\": \"(0, 2)\", \"idx\": 129, \"val\": 2.0}, {\"col\": \"(0, 3)\", \"idx\": 129, \"val\": 4.0}, {\"col\": \"(1, 2)\", \"idx\": 129, \"val\": NaN}, {\"col\": \"(1, 3)\", \"idx\": 129, \"val\": NaN}, {\"col\": \"(2, 3)\", \"idx\": 129, \"val\": NaN}, {\"col\": \"(3, 4)\", \"idx\": 129, \"val\": NaN}, {\"col\": \"(4, 5)\", \"idx\": 129, \"val\": NaN}, {\"col\": \"(4, 6)\", \"idx\": 129, \"val\": NaN}, {\"col\": \"(4, 7)\", \"idx\": 129, \"val\": NaN}, {\"col\": \"(5, 6)\", \"idx\": 129, \"val\": NaN}, {\"col\": \"(5, 7)\", \"idx\": 129, \"val\": NaN}, {\"col\": \"(6, 7)\", \"idx\": 129, \"val\": NaN}, {\"col\": \"(0, 1)\", \"idx\": 130, \"val\": 2.0}, {\"col\": \"(0, 2)\", \"idx\": 130, \"val\": 2.0}, {\"col\": \"(0, 3)\", \"idx\": 130, \"val\": NaN}, {\"col\": \"(1, 2)\", \"idx\": 130, \"val\": NaN}, {\"col\": \"(1, 3)\", \"idx\": 130, \"val\": 2.0}, {\"col\": \"(2, 3)\", \"idx\": 130, \"val\": NaN}, {\"col\": \"(3, 4)\", \"idx\": 130, \"val\": NaN}, {\"col\": \"(4, 5)\", \"idx\": 130, \"val\": NaN}, {\"col\": \"(4, 6)\", \"idx\": 130, \"val\": NaN}, {\"col\": \"(4, 7)\", \"idx\": 130, \"val\": NaN}, {\"col\": \"(5, 6)\", \"idx\": 130, \"val\": NaN}, {\"col\": \"(5, 7)\", \"idx\": 130, \"val\": NaN}, {\"col\": \"(6, 7)\", \"idx\": 130, \"val\": NaN}, {\"col\": \"(0, 1)\", \"idx\": 131, \"val\": 2.0}, {\"col\": \"(0, 2)\", \"idx\": 131, \"val\": NaN}, {\"col\": \"(0, 3)\", \"idx\": 131, \"val\": NaN}, {\"col\": \"(1, 2)\", \"idx\": 131, \"val\": NaN}, {\"col\": \"(1, 3)\", \"idx\": 131, \"val\": 2.0}, {\"col\": \"(2, 3)\", \"idx\": 131, \"val\": NaN}, {\"col\": \"(3, 4)\", \"idx\": 131, \"val\": NaN}, {\"col\": \"(4, 5)\", \"idx\": 131, \"val\": NaN}, {\"col\": \"(4, 6)\", \"idx\": 131, \"val\": NaN}, {\"col\": \"(4, 7)\", \"idx\": 131, \"val\": NaN}, {\"col\": \"(5, 6)\", \"idx\": 131, \"val\": NaN}, {\"col\": \"(5, 7)\", \"idx\": 131, \"val\": NaN}, {\"col\": \"(6, 7)\", \"idx\": 131, \"val\": NaN}, {\"col\": \"(0, 1)\", \"idx\": 132, \"val\": NaN}, {\"col\": \"(0, 2)\", \"idx\": 132, \"val\": 2.0}, {\"col\": \"(0, 3)\", \"idx\": 132, \"val\": NaN}, {\"col\": \"(1, 2)\", \"idx\": 132, \"val\": NaN}, {\"col\": \"(1, 3)\", \"idx\": 132, \"val\": NaN}, {\"col\": \"(2, 3)\", \"idx\": 132, \"val\": NaN}, {\"col\": \"(3, 4)\", \"idx\": 132, \"val\": 2.0}, {\"col\": \"(4, 5)\", \"idx\": 132, \"val\": NaN}, {\"col\": \"(4, 6)\", \"idx\": 132, \"val\": NaN}, {\"col\": \"(4, 7)\", \"idx\": 132, \"val\": NaN}, {\"col\": \"(5, 6)\", \"idx\": 132, \"val\": NaN}, {\"col\": \"(5, 7)\", \"idx\": 132, \"val\": NaN}, {\"col\": \"(6, 7)\", \"idx\": 132, \"val\": NaN}, {\"col\": \"(0, 1)\", \"idx\": 133, \"val\": NaN}, {\"col\": \"(0, 2)\", \"idx\": 133, \"val\": 2.0}, {\"col\": \"(0, 3)\", \"idx\": 133, \"val\": NaN}, {\"col\": \"(1, 2)\", \"idx\": 133, \"val\": NaN}, {\"col\": \"(1, 3)\", \"idx\": 133, \"val\": NaN}, {\"col\": \"(2, 3)\", \"idx\": 133, \"val\": NaN}, {\"col\": \"(3, 4)\", \"idx\": 133, \"val\": 2.0}, {\"col\": \"(4, 5)\", \"idx\": 133, \"val\": NaN}, {\"col\": \"(4, 6)\", \"idx\": 133, \"val\": NaN}, {\"col\": \"(4, 7)\", \"idx\": 133, \"val\": NaN}, {\"col\": \"(5, 6)\", \"idx\": 133, \"val\": NaN}, {\"col\": \"(5, 7)\", \"idx\": 133, \"val\": NaN}, {\"col\": \"(6, 7)\", \"idx\": 133, \"val\": NaN}]}, {\"name\": \"stats\", \"source\": \"table\", \"transform\": [{\"keys\": [\"data.idx\"], \"type\": \"facet\"}, {\"type\": \"stats\", \"value\": \"data.val\"}]}], \"height\": 300, \"legends\": [{\"fill\": \"color\", \"offset\": 0, \"properties\": {}, \"title\": \"Edge\"}], \"marks\": [{\"from\": {\"data\": \"table\", \"transform\": [{\"keys\": [\"data.col\"], \"type\": \"facet\"}, {\"height\": \"data.val\", \"point\": \"data.idx\", \"type\": \"stack\"}]}, \"marks\": [{\"properties\": {\"enter\": {\"fill\": {\"field\": \"data.col\", \"scale\": \"color\"}, \"interpolate\": {\"value\": \"monotone\"}, \"opacity\": {\"value\": 0.5}, \"x\": {\"field\": \"data.idx\", \"scale\": \"x\"}, \"y\": {\"field\": \"y\", \"scale\": \"y\"}, \"y2\": {\"field\": \"y2\", \"scale\": \"y\"}}, \"hover\": {\"opacity\": {\"value\": 1}, \"size\": {\"value\": 200}}, \"update\": {\"opacity\": {\"value\": 0.7}, \"size\": {\"value\": 100}}}, \"type\": \"area\"}], \"type\": \"group\"}], \"padding\": \"auto\", \"scales\": [{\"domain\": {\"data\": \"table\", \"field\": \"data.idx\"}, \"name\": \"x\", \"range\": \"width\", \"type\": \"linear\", \"zero\": false}, {\"domain\": {\"data\": \"stats\", \"field\": \"sum\"}, \"name\": \"y\", \"nice\": true, \"range\": \"height\"}, {\"domain\": {\"data\": \"table\", \"field\": \"data.col\"}, \"name\": \"color\", \"range\": \"category20\", \"type\": \"ordinal\"}], \"width\": 400}, function(chart) {\n",
        "         chart({el: \"#vis2136d0a99a534917a0a50eb42fb21bdf\"}).update();\n",
        "       });\n",
        "     };\n",
        "     _do_plot();\n",
        "   })();\n",
        "</script>\n",
        "<style>.vega canvas {width: 100%;}</style>\n",
        "        "
       ],
       "metadata": {},
       "output_type": "pyout",
       "prompt_number": 65,
       "text": [
        "<vincent.charts.Area at 0x107e061d0>"
       ]
      }
     ],
     "prompt_number": 65
    },
    {
     "cell_type": "heading",
     "level": 3,
     "metadata": {},
     "source": [
      "Introduce expensive edges"
     ]
    },
    {
     "cell_type": "code",
     "collapsed": false,
     "input": [
      "expensiveedges=[]\n",
      "if False:\n",
      "    ei = G.edges_iter()\n",
      "    expensiveedges.append(edgetokey(ei.next()))\n",
      "    expensiveedges.append(edgetokey(ei.next()))\n",
      "else:\n",
      "    expensiveedges.append(edgetokey((3,4)))\n",
      "dfexp = df[expensiveedges].copy()\n",
      "dfcheap = df.copy()\n",
      "dfcheap.drop(expensiveedges, 1, inplace=True)\n",
      "datacost = [dfexp.sum(axis=1), dfcheap.sum(axis=1)]\n",
      "indexcost = ['Expensive', 'Cheap']\n",
      "dfcost = pd.DataFrame(datacost, index=indexcost).T"
     ],
     "language": "python",
     "metadata": {},
     "outputs": [],
     "prompt_number": 486
    },
    {
     "cell_type": "code",
     "collapsed": false,
     "input": [
      "#line = vincent.Scatter(data, iter_idx='index')\n",
      "line = vincent.StackedArea(dfcost)\n",
      "line.axis_titles(x='Time', y='# frogs')\n",
      "line.colors(range_=['#ff0000','#50aa50'])\n",
      "#line.axes([0, 40, 0, 2])\n",
      "line.legend(title='Edge Traversals')\n",
      "line.width = 400\n",
      "line.height = 300\n",
      "line.marks[0].marks[0].properties.enter.opacity = vincent.ValueRef(value=0.5)"
     ],
     "language": "python",
     "metadata": {},
     "outputs": [],
     "prompt_number": 489
    },
    {
     "cell_type": "code",
     "collapsed": false,
     "input": [
      "line"
     ],
     "language": "python",
     "metadata": {},
     "outputs": [
      {
       "html": [
        "<div id=\"vis5e3fec46115547c09501821b1bd78d4a\"></div>\n",
        "<script>\n",
        "   ( function() {\n",
        "     var _do_plot = function() {\n",
        "       if (typeof vg === 'undefined') {\n",
        "         window.addEventListener('vincent_libs_loaded', _do_plot)\n",
        "         return;\n",
        "       }\n",
        "       vg.parse.spec({\"axes\": [{\"scale\": \"x\", \"title\": \"Time\", \"type\": \"x\"}, {\"scale\": \"y\", \"title\": \"# frogs\", \"type\": \"y\"}], \"data\": [{\"name\": \"table\", \"values\": [{\"col\": \"Expensive\", \"idx\": 1, \"val\": 120.0}, {\"col\": \"Cheap\", \"idx\": 1, \"val\": 1782.0}, {\"col\": \"Expensive\", \"idx\": 2, \"val\": 148.0}, {\"col\": \"Cheap\", \"idx\": 2, \"val\": 1646.0}, {\"col\": \"Expensive\", \"idx\": 3, \"val\": 124.0}, {\"col\": \"Cheap\", \"idx\": 3, \"val\": 1594.0}, {\"col\": \"Expensive\", \"idx\": 4, \"val\": 126.0}, {\"col\": \"Cheap\", \"idx\": 4, \"val\": 1536.0}, {\"col\": \"Expensive\", \"idx\": 5, \"val\": 114.0}, {\"col\": \"Cheap\", \"idx\": 5, \"val\": 1466.0}, {\"col\": \"Expensive\", \"idx\": 6, \"val\": 116.0}, {\"col\": \"Cheap\", \"idx\": 6, \"val\": 1386.0}, {\"col\": \"Expensive\", \"idx\": 7, \"val\": 94.0}, {\"col\": \"Cheap\", \"idx\": 7, \"val\": 1332.0}, {\"col\": \"Expensive\", \"idx\": 8, \"val\": 100.0}, {\"col\": \"Cheap\", \"idx\": 8, \"val\": 1262.0}, {\"col\": \"Expensive\", \"idx\": 9, \"val\": 92.0}, {\"col\": \"Cheap\", \"idx\": 9, \"val\": 1202.0}, {\"col\": \"Expensive\", \"idx\": 10, \"val\": 86.0}, {\"col\": \"Cheap\", \"idx\": 10, \"val\": 1148.0}, {\"col\": \"Expensive\", \"idx\": 11, \"val\": 118.0}, {\"col\": \"Cheap\", \"idx\": 11, \"val\": 1064.0}, {\"col\": \"Expensive\", \"idx\": 12, \"val\": 88.0}, {\"col\": \"Cheap\", \"idx\": 12, \"val\": 1038.0}, {\"col\": \"Expensive\", \"idx\": 13, \"val\": 74.0}, {\"col\": \"Cheap\", \"idx\": 13, \"val\": 1008.0}, {\"col\": \"Expensive\", \"idx\": 14, \"val\": 76.0}, {\"col\": \"Cheap\", \"idx\": 14, \"val\": 952.0}, {\"col\": \"Expensive\", \"idx\": 15, \"val\": 56.0}, {\"col\": \"Cheap\", \"idx\": 15, \"val\": 914.0}, {\"col\": \"Expensive\", \"idx\": 16, \"val\": 74.0}, {\"col\": \"Cheap\", \"idx\": 16, \"val\": 864.0}, {\"col\": \"Expensive\", \"idx\": 17, \"val\": 76.0}, {\"col\": \"Cheap\", \"idx\": 17, \"val\": 834.0}, {\"col\": \"Expensive\", \"idx\": 18, \"val\": 54.0}, {\"col\": \"Cheap\", \"idx\": 18, \"val\": 802.0}, {\"col\": \"Expensive\", \"idx\": 19, \"val\": 56.0}, {\"col\": \"Cheap\", \"idx\": 19, \"val\": 748.0}, {\"col\": \"Expensive\", \"idx\": 20, \"val\": 50.0}, {\"col\": \"Cheap\", \"idx\": 20, \"val\": 726.0}, {\"col\": \"Expensive\", \"idx\": 21, \"val\": 50.0}, {\"col\": \"Cheap\", \"idx\": 21, \"val\": 688.0}, {\"col\": \"Expensive\", \"idx\": 22, \"val\": 48.0}, {\"col\": \"Cheap\", \"idx\": 22, \"val\": 670.0}, {\"col\": \"Expensive\", \"idx\": 23, \"val\": 34.0}, {\"col\": \"Cheap\", \"idx\": 23, \"val\": 648.0}, {\"col\": \"Expensive\", \"idx\": 24, \"val\": 60.0}, {\"col\": \"Cheap\", \"idx\": 24, \"val\": 592.0}, {\"col\": \"Expensive\", \"idx\": 25, \"val\": 58.0}, {\"col\": \"Cheap\", \"idx\": 25, \"val\": 566.0}, {\"col\": \"Expensive\", \"idx\": 26, \"val\": 46.0}, {\"col\": \"Cheap\", \"idx\": 26, \"val\": 542.0}, {\"col\": \"Expensive\", \"idx\": 27, \"val\": 48.0}, {\"col\": \"Cheap\", \"idx\": 27, \"val\": 506.0}, {\"col\": \"Expensive\", \"idx\": 28, \"val\": 42.0}, {\"col\": \"Cheap\", \"idx\": 28, \"val\": 488.0}, {\"col\": \"Expensive\", \"idx\": 29, \"val\": 34.0}, {\"col\": \"Cheap\", \"idx\": 29, \"val\": 468.0}, {\"col\": \"Expensive\", \"idx\": 30, \"val\": 56.0}, {\"col\": \"Cheap\", \"idx\": 30, \"val\": 430.0}, {\"col\": \"Expensive\", \"idx\": 31, \"val\": 30.0}, {\"col\": \"Cheap\", \"idx\": 31, \"val\": 446.0}, {\"col\": \"Expensive\", \"idx\": 32, \"val\": 28.0}, {\"col\": \"Cheap\", \"idx\": 32, \"val\": 430.0}, {\"col\": \"Expensive\", \"idx\": 33, \"val\": 62.0}, {\"col\": \"Cheap\", \"idx\": 33, \"val\": 370.0}, {\"col\": \"Expensive\", \"idx\": 34, \"val\": 44.0}, {\"col\": \"Cheap\", \"idx\": 34, \"val\": 358.0}, {\"col\": \"Expensive\", \"idx\": 35, \"val\": 32.0}, {\"col\": \"Cheap\", \"idx\": 35, \"val\": 358.0}, {\"col\": \"Expensive\", \"idx\": 36, \"val\": 26.0}, {\"col\": \"Cheap\", \"idx\": 36, \"val\": 350.0}, {\"col\": \"Expensive\", \"idx\": 37, \"val\": 34.0}, {\"col\": \"Cheap\", \"idx\": 37, \"val\": 326.0}, {\"col\": \"Expensive\", \"idx\": 38, \"val\": 24.0}, {\"col\": \"Cheap\", \"idx\": 38, \"val\": 328.0}, {\"col\": \"Expensive\", \"idx\": 39, \"val\": 30.0}, {\"col\": \"Cheap\", \"idx\": 39, \"val\": 310.0}, {\"col\": \"Expensive\", \"idx\": 40, \"val\": 22.0}, {\"col\": \"Cheap\", \"idx\": 40, \"val\": 304.0}, {\"col\": \"Expensive\", \"idx\": 41, \"val\": 18.0}, {\"col\": \"Cheap\", \"idx\": 41, \"val\": 298.0}, {\"col\": \"Expensive\", \"idx\": 42, \"val\": 36.0}, {\"col\": \"Cheap\", \"idx\": 42, \"val\": 268.0}, {\"col\": \"Expensive\", \"idx\": 43, \"val\": 28.0}, {\"col\": \"Cheap\", \"idx\": 43, \"val\": 260.0}, {\"col\": \"Expensive\", \"idx\": 44, \"val\": 20.0}, {\"col\": \"Cheap\", \"idx\": 44, \"val\": 256.0}, {\"col\": \"Expensive\", \"idx\": 45, \"val\": 12.0}, {\"col\": \"Cheap\", \"idx\": 45, \"val\": 242.0}, {\"col\": \"Expensive\", \"idx\": 46, \"val\": 20.0}, {\"col\": \"Cheap\", \"idx\": 46, \"val\": 226.0}, {\"col\": \"Expensive\", \"idx\": 47, \"val\": 18.0}, {\"col\": \"Cheap\", \"idx\": 47, \"val\": 212.0}, {\"col\": \"Expensive\", \"idx\": 48, \"val\": 14.0}, {\"col\": \"Cheap\", \"idx\": 48, \"val\": 208.0}, {\"col\": \"Expensive\", \"idx\": 49, \"val\": 10.0}, {\"col\": \"Cheap\", \"idx\": 49, \"val\": 202.0}, {\"col\": \"Expensive\", \"idx\": 50, \"val\": 18.0}, {\"col\": \"Cheap\", \"idx\": 50, \"val\": 184.0}, {\"col\": \"Expensive\", \"idx\": 51, \"val\": 26.0}, {\"col\": \"Cheap\", \"idx\": 51, \"val\": 168.0}, {\"col\": \"Expensive\", \"idx\": 52, \"val\": 8.0}, {\"col\": \"Cheap\", \"idx\": 52, \"val\": 178.0}, {\"col\": \"Expensive\", \"idx\": 53, \"val\": 16.0}, {\"col\": \"Cheap\", \"idx\": 53, \"val\": 168.0}, {\"col\": \"Expensive\", \"idx\": 54, \"val\": 14.0}, {\"col\": \"Cheap\", \"idx\": 54, \"val\": 166.0}, {\"col\": \"Expensive\", \"idx\": 55, \"val\": 12.0}, {\"col\": \"Cheap\", \"idx\": 55, \"val\": 152.0}, {\"col\": \"Expensive\", \"idx\": 56, \"val\": 12.0}, {\"col\": \"Cheap\", \"idx\": 56, \"val\": 138.0}, {\"col\": \"Expensive\", \"idx\": 57, \"val\": 4.0}, {\"col\": \"Cheap\", \"idx\": 57, \"val\": 136.0}, {\"col\": \"Expensive\", \"idx\": 58, \"val\": 14.0}, {\"col\": \"Cheap\", \"idx\": 58, \"val\": 122.0}, {\"col\": \"Expensive\", \"idx\": 59, \"val\": 10.0}, {\"col\": \"Cheap\", \"idx\": 59, \"val\": 126.0}, {\"col\": \"Expensive\", \"idx\": 60, \"val\": 10.0}, {\"col\": \"Cheap\", \"idx\": 60, \"val\": 114.0}, {\"col\": \"Expensive\", \"idx\": 61, \"val\": 10.0}, {\"col\": \"Cheap\", \"idx\": 61, \"val\": 102.0}, {\"col\": \"Expensive\", \"idx\": 62, \"val\": 12.0}, {\"col\": \"Cheap\", \"idx\": 62, \"val\": 98.0}, {\"col\": \"Expensive\", \"idx\": 63, \"val\": 14.0}, {\"col\": \"Cheap\", \"idx\": 63, \"val\": 90.0}, {\"col\": \"Expensive\", \"idx\": 64, \"val\": 12.0}, {\"col\": \"Cheap\", \"idx\": 64, \"val\": 88.0}, {\"col\": \"Expensive\", \"idx\": 65, \"val\": 8.0}, {\"col\": \"Cheap\", \"idx\": 65, \"val\": 86.0}, {\"col\": \"Expensive\", \"idx\": 66, \"val\": 4.0}, {\"col\": \"Cheap\", \"idx\": 66, \"val\": 86.0}, {\"col\": \"Expensive\", \"idx\": 67, \"val\": 8.0}, {\"col\": \"Cheap\", \"idx\": 67, \"val\": 80.0}, {\"col\": \"Expensive\", \"idx\": 68, \"val\": 10.0}, {\"col\": \"Cheap\", \"idx\": 68, \"val\": 74.0}, {\"col\": \"Expensive\", \"idx\": 69, \"val\": 6.0}, {\"col\": \"Cheap\", \"idx\": 69, \"val\": 74.0}, {\"col\": \"Expensive\", \"idx\": 70, \"val\": 4.0}, {\"col\": \"Cheap\", \"idx\": 70, \"val\": 70.0}, {\"col\": \"Expensive\", \"idx\": 71, \"val\": 6.0}, {\"col\": \"Cheap\", \"idx\": 71, \"val\": 66.0}, {\"col\": \"Expensive\", \"idx\": 72, \"val\": 6.0}, {\"col\": \"Cheap\", \"idx\": 72, \"val\": 54.0}, {\"col\": \"Expensive\", \"idx\": 73, \"val\": NaN}, {\"col\": \"Cheap\", \"idx\": 73, \"val\": 56.0}, {\"col\": \"Expensive\", \"idx\": 74, \"val\": 2.0}, {\"col\": \"Cheap\", \"idx\": 74, \"val\": 54.0}, {\"col\": \"Expensive\", \"idx\": 75, \"val\": 4.0}, {\"col\": \"Cheap\", \"idx\": 75, \"val\": 52.0}, {\"col\": \"Expensive\", \"idx\": 76, \"val\": 2.0}, {\"col\": \"Cheap\", \"idx\": 76, \"val\": 50.0}, {\"col\": \"Expensive\", \"idx\": 77, \"val\": 10.0}, {\"col\": \"Cheap\", \"idx\": 77, \"val\": 40.0}, {\"col\": \"Expensive\", \"idx\": 78, \"val\": 4.0}, {\"col\": \"Cheap\", \"idx\": 78, \"val\": 44.0}, {\"col\": \"Expensive\", \"idx\": 79, \"val\": NaN}, {\"col\": \"Cheap\", \"idx\": 79, \"val\": 42.0}, {\"col\": \"Expensive\", \"idx\": 80, \"val\": 6.0}, {\"col\": \"Cheap\", \"idx\": 80, \"val\": 32.0}, {\"col\": \"Expensive\", \"idx\": 81, \"val\": 2.0}, {\"col\": \"Cheap\", \"idx\": 81, \"val\": 32.0}, {\"col\": \"Expensive\", \"idx\": 82, \"val\": NaN}, {\"col\": \"Cheap\", \"idx\": 82, \"val\": 34.0}, {\"col\": \"Expensive\", \"idx\": 83, \"val\": 4.0}, {\"col\": \"Cheap\", \"idx\": 83, \"val\": 26.0}, {\"col\": \"Expensive\", \"idx\": 84, \"val\": NaN}, {\"col\": \"Cheap\", \"idx\": 84, \"val\": 30.0}, {\"col\": \"Expensive\", \"idx\": 85, \"val\": 4.0}, {\"col\": \"Cheap\", \"idx\": 85, \"val\": 26.0}, {\"col\": \"Expensive\", \"idx\": 86, \"val\": NaN}, {\"col\": \"Cheap\", \"idx\": 86, \"val\": 30.0}, {\"col\": \"Expensive\", \"idx\": 87, \"val\": 2.0}, {\"col\": \"Cheap\", \"idx\": 87, \"val\": 26.0}, {\"col\": \"Expensive\", \"idx\": 88, \"val\": NaN}, {\"col\": \"Cheap\", \"idx\": 88, \"val\": 26.0}, {\"col\": \"Expensive\", \"idx\": 89, \"val\": 2.0}, {\"col\": \"Cheap\", \"idx\": 89, \"val\": 24.0}, {\"col\": \"Expensive\", \"idx\": 90, \"val\": 2.0}, {\"col\": \"Cheap\", \"idx\": 90, \"val\": 20.0}, {\"col\": \"Expensive\", \"idx\": 91, \"val\": 2.0}, {\"col\": \"Cheap\", \"idx\": 91, \"val\": 18.0}, {\"col\": \"Expensive\", \"idx\": 92, \"val\": 2.0}, {\"col\": \"Cheap\", \"idx\": 92, \"val\": 14.0}, {\"col\": \"Expensive\", \"idx\": 93, \"val\": NaN}, {\"col\": \"Cheap\", \"idx\": 93, \"val\": 14.0}, {\"col\": \"Expensive\", \"idx\": 94, \"val\": 2.0}, {\"col\": \"Cheap\", \"idx\": 94, \"val\": 10.0}, {\"col\": \"Expensive\", \"idx\": 95, \"val\": 2.0}, {\"col\": \"Cheap\", \"idx\": 95, \"val\": 8.0}, {\"col\": \"Expensive\", \"idx\": 96, \"val\": NaN}, {\"col\": \"Cheap\", \"idx\": 96, \"val\": 10.0}, {\"col\": \"Expensive\", \"idx\": 97, \"val\": 2.0}, {\"col\": \"Cheap\", \"idx\": 97, \"val\": 8.0}, {\"col\": \"Expensive\", \"idx\": 98, \"val\": NaN}, {\"col\": \"Cheap\", \"idx\": 98, \"val\": 10.0}, {\"col\": \"Expensive\", \"idx\": 99, \"val\": 2.0}, {\"col\": \"Cheap\", \"idx\": 99, \"val\": 8.0}, {\"col\": \"Expensive\", \"idx\": 100, \"val\": NaN}, {\"col\": \"Cheap\", \"idx\": 100, \"val\": 10.0}, {\"col\": \"Expensive\", \"idx\": 101, \"val\": NaN}, {\"col\": \"Cheap\", \"idx\": 101, \"val\": 10.0}, {\"col\": \"Expensive\", \"idx\": 102, \"val\": 2.0}, {\"col\": \"Cheap\", \"idx\": 102, \"val\": 8.0}, {\"col\": \"Expensive\", \"idx\": 103, \"val\": NaN}, {\"col\": \"Cheap\", \"idx\": 103, \"val\": 10.0}, {\"col\": \"Expensive\", \"idx\": 104, \"val\": NaN}, {\"col\": \"Cheap\", \"idx\": 104, \"val\": 10.0}, {\"col\": \"Expensive\", \"idx\": 105, \"val\": NaN}, {\"col\": \"Cheap\", \"idx\": 105, \"val\": 10.0}, {\"col\": \"Expensive\", \"idx\": 106, \"val\": 2.0}, {\"col\": \"Cheap\", \"idx\": 106, \"val\": 8.0}, {\"col\": \"Expensive\", \"idx\": 107, \"val\": NaN}, {\"col\": \"Cheap\", \"idx\": 107, \"val\": 10.0}, {\"col\": \"Expensive\", \"idx\": 108, \"val\": 2.0}, {\"col\": \"Cheap\", \"idx\": 108, \"val\": 6.0}, {\"col\": \"Expensive\", \"idx\": 109, \"val\": NaN}, {\"col\": \"Cheap\", \"idx\": 109, \"val\": 8.0}, {\"col\": \"Expensive\", \"idx\": 110, \"val\": NaN}, {\"col\": \"Cheap\", \"idx\": 110, \"val\": 8.0}, {\"col\": \"Expensive\", \"idx\": 111, \"val\": 2.0}, {\"col\": \"Cheap\", \"idx\": 111, \"val\": 6.0}, {\"col\": \"Expensive\", \"idx\": 112, \"val\": NaN}, {\"col\": \"Cheap\", \"idx\": 112, \"val\": 8.0}, {\"col\": \"Expensive\", \"idx\": 113, \"val\": NaN}, {\"col\": \"Cheap\", \"idx\": 113, \"val\": 8.0}, {\"col\": \"Expensive\", \"idx\": 114, \"val\": NaN}, {\"col\": \"Cheap\", \"idx\": 114, \"val\": 8.0}, {\"col\": \"Expensive\", \"idx\": 115, \"val\": NaN}, {\"col\": \"Cheap\", \"idx\": 115, \"val\": 8.0}, {\"col\": \"Expensive\", \"idx\": 116, \"val\": NaN}, {\"col\": \"Cheap\", \"idx\": 116, \"val\": 8.0}, {\"col\": \"Expensive\", \"idx\": 117, \"val\": NaN}, {\"col\": \"Cheap\", \"idx\": 117, \"val\": 8.0}, {\"col\": \"Expensive\", \"idx\": 118, \"val\": 2.0}, {\"col\": \"Cheap\", \"idx\": 118, \"val\": 6.0}, {\"col\": \"Expensive\", \"idx\": 119, \"val\": NaN}, {\"col\": \"Cheap\", \"idx\": 119, \"val\": 8.0}, {\"col\": \"Expensive\", \"idx\": 120, \"val\": NaN}, {\"col\": \"Cheap\", \"idx\": 120, \"val\": 8.0}, {\"col\": \"Expensive\", \"idx\": 121, \"val\": NaN}, {\"col\": \"Cheap\", \"idx\": 121, \"val\": 8.0}, {\"col\": \"Expensive\", \"idx\": 122, \"val\": NaN}, {\"col\": \"Cheap\", \"idx\": 122, \"val\": 8.0}, {\"col\": \"Expensive\", \"idx\": 123, \"val\": NaN}, {\"col\": \"Cheap\", \"idx\": 123, \"val\": 6.0}, {\"col\": \"Expensive\", \"idx\": 124, \"val\": NaN}, {\"col\": \"Cheap\", \"idx\": 124, \"val\": 6.0}, {\"col\": \"Expensive\", \"idx\": 125, \"val\": NaN}, {\"col\": \"Cheap\", \"idx\": 125, \"val\": 6.0}, {\"col\": \"Expensive\", \"idx\": 126, \"val\": NaN}, {\"col\": \"Cheap\", \"idx\": 126, \"val\": 6.0}, {\"col\": \"Expensive\", \"idx\": 127, \"val\": NaN}, {\"col\": \"Cheap\", \"idx\": 127, \"val\": 6.0}, {\"col\": \"Expensive\", \"idx\": 128, \"val\": NaN}, {\"col\": \"Cheap\", \"idx\": 128, \"val\": 6.0}, {\"col\": \"Expensive\", \"idx\": 129, \"val\": 2.0}, {\"col\": \"Cheap\", \"idx\": 129, \"val\": 4.0}, {\"col\": \"Expensive\", \"idx\": 130, \"val\": NaN}, {\"col\": \"Cheap\", \"idx\": 130, \"val\": 6.0}, {\"col\": \"Expensive\", \"idx\": 131, \"val\": 2.0}, {\"col\": \"Cheap\", \"idx\": 131, \"val\": 4.0}, {\"col\": \"Expensive\", \"idx\": 132, \"val\": NaN}, {\"col\": \"Cheap\", \"idx\": 132, \"val\": 6.0}, {\"col\": \"Expensive\", \"idx\": 133, \"val\": NaN}, {\"col\": \"Cheap\", \"idx\": 133, \"val\": 6.0}, {\"col\": \"Expensive\", \"idx\": 134, \"val\": 2.0}, {\"col\": \"Cheap\", \"idx\": 134, \"val\": 4.0}, {\"col\": \"Expensive\", \"idx\": 135, \"val\": NaN}, {\"col\": \"Cheap\", \"idx\": 135, \"val\": 6.0}, {\"col\": \"Expensive\", \"idx\": 136, \"val\": NaN}, {\"col\": \"Cheap\", \"idx\": 136, \"val\": 4.0}, {\"col\": \"Expensive\", \"idx\": 137, \"val\": NaN}, {\"col\": \"Cheap\", \"idx\": 137, \"val\": 4.0}, {\"col\": \"Expensive\", \"idx\": 138, \"val\": NaN}, {\"col\": \"Cheap\", \"idx\": 138, \"val\": 4.0}, {\"col\": \"Expensive\", \"idx\": 139, \"val\": NaN}, {\"col\": \"Cheap\", \"idx\": 139, \"val\": 4.0}, {\"col\": \"Expensive\", \"idx\": 140, \"val\": NaN}, {\"col\": \"Cheap\", \"idx\": 140, \"val\": 4.0}, {\"col\": \"Expensive\", \"idx\": 141, \"val\": NaN}, {\"col\": \"Cheap\", \"idx\": 141, \"val\": 4.0}, {\"col\": \"Expensive\", \"idx\": 142, \"val\": NaN}, {\"col\": \"Cheap\", \"idx\": 142, \"val\": 4.0}, {\"col\": \"Expensive\", \"idx\": 143, \"val\": NaN}, {\"col\": \"Cheap\", \"idx\": 143, \"val\": 4.0}, {\"col\": \"Expensive\", \"idx\": 144, \"val\": NaN}, {\"col\": \"Cheap\", \"idx\": 144, \"val\": 4.0}, {\"col\": \"Expensive\", \"idx\": 145, \"val\": NaN}, {\"col\": \"Cheap\", \"idx\": 145, \"val\": 4.0}, {\"col\": \"Expensive\", \"idx\": 146, \"val\": NaN}, {\"col\": \"Cheap\", \"idx\": 146, \"val\": 2.0}, {\"col\": \"Expensive\", \"idx\": 147, \"val\": NaN}, {\"col\": \"Cheap\", \"idx\": 147, \"val\": 2.0}, {\"col\": \"Expensive\", \"idx\": 148, \"val\": NaN}, {\"col\": \"Cheap\", \"idx\": 148, \"val\": 2.0}, {\"col\": \"Expensive\", \"idx\": 149, \"val\": NaN}, {\"col\": \"Cheap\", \"idx\": 149, \"val\": 2.0}, {\"col\": \"Expensive\", \"idx\": 150, \"val\": NaN}, {\"col\": \"Cheap\", \"idx\": 150, \"val\": 2.0}, {\"col\": \"Expensive\", \"idx\": 151, \"val\": NaN}, {\"col\": \"Cheap\", \"idx\": 151, \"val\": 2.0}, {\"col\": \"Expensive\", \"idx\": 152, \"val\": NaN}, {\"col\": \"Cheap\", \"idx\": 152, \"val\": 2.0}, {\"col\": \"Expensive\", \"idx\": 153, \"val\": NaN}, {\"col\": \"Cheap\", \"idx\": 153, \"val\": 2.0}, {\"col\": \"Expensive\", \"idx\": 154, \"val\": NaN}, {\"col\": \"Cheap\", \"idx\": 154, \"val\": 2.0}, {\"col\": \"Expensive\", \"idx\": 155, \"val\": NaN}, {\"col\": \"Cheap\", \"idx\": 155, \"val\": 2.0}, {\"col\": \"Expensive\", \"idx\": 156, \"val\": NaN}, {\"col\": \"Cheap\", \"idx\": 156, \"val\": 2.0}, {\"col\": \"Expensive\", \"idx\": 157, \"val\": NaN}, {\"col\": \"Cheap\", \"idx\": 157, \"val\": 2.0}, {\"col\": \"Expensive\", \"idx\": 158, \"val\": NaN}, {\"col\": \"Cheap\", \"idx\": 158, \"val\": 2.0}, {\"col\": \"Expensive\", \"idx\": 159, \"val\": NaN}, {\"col\": \"Cheap\", \"idx\": 159, \"val\": 2.0}, {\"col\": \"Expensive\", \"idx\": 160, \"val\": NaN}, {\"col\": \"Cheap\", \"idx\": 160, \"val\": 2.0}, {\"col\": \"Expensive\", \"idx\": 161, \"val\": NaN}, {\"col\": \"Cheap\", \"idx\": 161, \"val\": 2.0}, {\"col\": \"Expensive\", \"idx\": 162, \"val\": NaN}, {\"col\": \"Cheap\", \"idx\": 162, \"val\": 2.0}, {\"col\": \"Expensive\", \"idx\": 163, \"val\": NaN}, {\"col\": \"Cheap\", \"idx\": 163, \"val\": 2.0}, {\"col\": \"Expensive\", \"idx\": 164, \"val\": NaN}, {\"col\": \"Cheap\", \"idx\": 164, \"val\": 2.0}, {\"col\": \"Expensive\", \"idx\": 165, \"val\": NaN}, {\"col\": \"Cheap\", \"idx\": 165, \"val\": 2.0}, {\"col\": \"Expensive\", \"idx\": 166, \"val\": NaN}, {\"col\": \"Cheap\", \"idx\": 166, \"val\": 2.0}, {\"col\": \"Expensive\", \"idx\": 167, \"val\": NaN}, {\"col\": \"Cheap\", \"idx\": 167, \"val\": 2.0}, {\"col\": \"Expensive\", \"idx\": 168, \"val\": NaN}, {\"col\": \"Cheap\", \"idx\": 168, \"val\": 2.0}, {\"col\": \"Expensive\", \"idx\": 169, \"val\": NaN}, {\"col\": \"Cheap\", \"idx\": 169, \"val\": 2.0}, {\"col\": \"Expensive\", \"idx\": 170, \"val\": NaN}, {\"col\": \"Cheap\", \"idx\": 170, \"val\": 2.0}, {\"col\": \"Expensive\", \"idx\": 171, \"val\": NaN}, {\"col\": \"Cheap\", \"idx\": 171, \"val\": 2.0}, {\"col\": \"Expensive\", \"idx\": 172, \"val\": 2.0}, {\"col\": \"Cheap\", \"idx\": 172, \"val\": NaN}, {\"col\": \"Expensive\", \"idx\": 173, \"val\": NaN}, {\"col\": \"Cheap\", \"idx\": 173, \"val\": 2.0}, {\"col\": \"Expensive\", \"idx\": 174, \"val\": NaN}, {\"col\": \"Cheap\", \"idx\": 174, \"val\": 2.0}, {\"col\": \"Expensive\", \"idx\": 175, \"val\": NaN}, {\"col\": \"Cheap\", \"idx\": 175, \"val\": 2.0}, {\"col\": \"Expensive\", \"idx\": 176, \"val\": NaN}, {\"col\": \"Cheap\", \"idx\": 176, \"val\": 2.0}, {\"col\": \"Expensive\", \"idx\": 177, \"val\": NaN}, {\"col\": \"Cheap\", \"idx\": 177, \"val\": 2.0}, {\"col\": \"Expensive\", \"idx\": 178, \"val\": NaN}, {\"col\": \"Cheap\", \"idx\": 178, \"val\": 2.0}, {\"col\": \"Expensive\", \"idx\": 179, \"val\": NaN}, {\"col\": \"Cheap\", \"idx\": 179, \"val\": 2.0}, {\"col\": \"Expensive\", \"idx\": 180, \"val\": NaN}, {\"col\": \"Cheap\", \"idx\": 180, \"val\": 2.0}, {\"col\": \"Expensive\", \"idx\": 181, \"val\": NaN}, {\"col\": \"Cheap\", \"idx\": 181, \"val\": 2.0}, {\"col\": \"Expensive\", \"idx\": 182, \"val\": NaN}, {\"col\": \"Cheap\", \"idx\": 182, \"val\": 2.0}, {\"col\": \"Expensive\", \"idx\": 183, \"val\": NaN}, {\"col\": \"Cheap\", \"idx\": 183, \"val\": 2.0}, {\"col\": \"Expensive\", \"idx\": 184, \"val\": NaN}, {\"col\": \"Cheap\", \"idx\": 184, \"val\": 2.0}, {\"col\": \"Expensive\", \"idx\": 185, \"val\": NaN}, {\"col\": \"Cheap\", \"idx\": 185, \"val\": 2.0}]}, {\"name\": \"stats\", \"source\": \"table\", \"transform\": [{\"keys\": [\"data.idx\"], \"type\": \"facet\"}, {\"type\": \"stats\", \"value\": \"data.val\"}]}], \"height\": 300, \"legends\": [{\"fill\": \"color\", \"offset\": 0, \"properties\": {}, \"title\": \"Edge Traversals\"}], \"marks\": [{\"from\": {\"data\": \"table\", \"transform\": [{\"keys\": [\"data.col\"], \"type\": \"facet\"}, {\"height\": \"data.val\", \"point\": \"data.idx\", \"type\": \"stack\"}]}, \"marks\": [{\"properties\": {\"enter\": {\"fill\": {\"field\": \"data.col\", \"scale\": \"color\"}, \"interpolate\": {\"value\": \"monotone\"}, \"opacity\": {\"value\": 0.5}, \"x\": {\"field\": \"data.idx\", \"scale\": \"x\"}, \"y\": {\"field\": \"y\", \"scale\": \"y\"}, \"y2\": {\"field\": \"y2\", \"scale\": \"y\"}}}, \"type\": \"area\"}], \"type\": \"group\"}], \"padding\": \"auto\", \"scales\": [{\"domain\": {\"data\": \"table\", \"field\": \"data.idx\"}, \"name\": \"x\", \"range\": \"width\", \"type\": \"linear\", \"zero\": false}, {\"domain\": {\"data\": \"stats\", \"field\": \"sum\"}, \"name\": \"y\", \"nice\": true, \"range\": \"height\"}, {\"domain\": {\"data\": \"table\", \"field\": \"data.col\"}, \"name\": \"color\", \"range\": [\"#ff0000\", \"#50aa50\"], \"type\": \"ordinal\"}], \"width\": 400}, function(chart) {\n",
        "         chart({el: \"#vis5e3fec46115547c09501821b1bd78d4a\"}).update();\n",
        "       });\n",
        "     };\n",
        "     _do_plot();\n",
        "   })();\n",
        "</script>\n",
        "<style>.vega canvas {width: 100%;}</style>\n",
        "        "
       ],
       "metadata": {},
       "output_type": "pyout",
       "prompt_number": 490,
       "text": [
        "<vincent.charts.Area at 0x109341790>"
       ]
      }
     ],
     "prompt_number": 490
    },
    {
     "cell_type": "heading",
     "level": 3,
     "metadata": {},
     "source": [
      "Waiting algorithm"
     ]
    },
    {
     "cell_type": "code",
     "collapsed": false,
     "input": [
      "def isexpensive(G,expensiveedges,e):\n",
      "    if G.is_directed():\n",
      "        return edgetokey(e) in expensiveedges or edgetokey((loc, curloc)) in expensiveedges\n",
      "    else:\n",
      "        (u,v) = e\n",
      "        return edgetokey((u,v)) in expensiveedges or edgetokey((v,u)) in expensiveedges "
     ],
     "language": "python",
     "metadata": {},
     "outputs": [],
     "prompt_number": 451
    },
    {
     "cell_type": "code",
     "collapsed": false,
     "input": [
      "frog_locations = np.random.randint(0, high = G.number_of_nodes(), size = frogs)\n",
      "for node in G.nodes_iter():\n",
      "    G.node[node]['visits'] = 0\n",
      "    G.node[node]['deaths'] = 0\n",
      "# Initialize edge traversal counters\n",
      "for e in G.edges_iter():\n",
      "    G.edge[e[0]][e[1]]['tripsvanilla'] = 0\n",
      "    G.edge[e[0]][e[1]]['frogswaiting'] = {}\n",
      "    G.edge[e[0]][e[1]]['timeline'] = {}\n",
      "frogs_left = frogs\n",
      "time = 0\n",
      "total_visits = 0\n",
      "death_times_sum = 0\n",
      "while frogs_left:\n",
      "    time +=1\n",
      "    for f in range(frogs):\n",
      "        curloc = frog_locations[f]\n",
      "        if curloc == None:\n",
      "            continue\n",
      "            \n",
      "        if random() < P_die:\n",
      "            G.node[curloc]['deaths'] += 1\n",
      "            death_times_sum += time\n",
      "            frog_locations[f] = None\n",
      "            frogs_left -= 1\n",
      "            continue\n",
      "        \n",
      "        total_visits += 1\n",
      "        \n",
      "        if len(G[curloc])>0:\n",
      "            frog_locations[f] = choice(G[curloc].keys())\n",
      "            G.edge[curloc][frog_locations[f]]['tripsvanilla'] += 1\n",
      "            loc = frog_locations[f]\n",
      "\n",
      "            e = (curloc, loc)\n",
      "            if isexpensive(G,expensiveedges,e):\n",
      "                try:\n",
      "                    G.edge[curloc][loc]['frogswaiting'][time] += 1\n",
      "                else:\n",
      "                    G.edge[curloc][loc]['frogswaiting'][time] = 1\n",
      "                if not G.is_directed():\n",
      "                    try:\n",
      "                        G.edge[loc][curloc]['timeline'][time] += 1\n",
      "                    except:\n",
      "                        G.edge[loc][curloc]['timeline'][time] = 1\n",
      "                \n",
      "                if time % T == 0:\n",
      "                    \n",
      "                    \n",
      "            else:      \n",
      "                try:\n",
      "                    G.edge[curloc][loc]['timeline'][time] += 1\n",
      "                except:\n",
      "                    G.edge[curloc][loc]['timeline'][time] = 1\n",
      "                if not G.is_directed():\n",
      "                    try:\n",
      "                        G.edge[loc][curloc]['timeline'][time] += 1\n",
      "                    except:\n",
      "                        G.edge[loc][curloc]['timeline'][time] = 1\n",
      "        else:\n",
      "            frog_locations[f] = np.random.randint(0, high = G.number_of_nodes())\n",
      "            \n",
      "            \n",
      "        G.node[frog_locations[f]]['visits'] +=1\n",
      "            "
     ],
     "language": "python",
     "metadata": {},
     "outputs": [
      {
       "ename": "SyntaxError",
       "evalue": "invalid syntax (<ipython-input-452-61cdecce0f2a>, line 39)",
       "output_type": "pyerr",
       "traceback": [
        "\u001b[0;36m  File \u001b[0;32m\"<ipython-input-452-61cdecce0f2a>\"\u001b[0;36m, line \u001b[0;32m39\u001b[0m\n\u001b[0;31m    else:\u001b[0m\n\u001b[0m       ^\u001b[0m\n\u001b[0;31mSyntaxError\u001b[0m\u001b[0;31m:\u001b[0m invalid syntax\n"
       ]
      }
     ],
     "prompt_number": 452
    },
    {
     "cell_type": "code",
     "collapsed": false,
     "input": [],
     "language": "python",
     "metadata": {},
     "outputs": []
    },
    {
     "cell_type": "code",
     "collapsed": false,
     "input": [],
     "language": "python",
     "metadata": {},
     "outputs": []
    },
    {
     "cell_type": "heading",
     "level": 1,
     "metadata": {},
     "source": [
      "New development"
     ]
    },
    {
     "cell_type": "code",
     "collapsed": false,
     "input": [
      "def edgetokey(e):\n",
      "    (u,v) = e\n",
      "    return '(' + str(u) + ', ' + str(v) + ')'"
     ],
     "language": "python",
     "metadata": {},
     "outputs": [],
     "prompt_number": 300
    },
    {
     "cell_type": "code",
     "collapsed": false,
     "input": [
      "def isexpensive(G,expensiveedges,e):\n",
      "    if G.is_directed():\n",
      "        return edgetokey(e) in expensiveedges or edgetokey((loc, curloc)) in expensiveedges\n",
      "    else:\n",
      "        (u,v) = e\n",
      "        return edgetokey((u,v)) in expensiveedges or edgetokey((v,u)) in expensiveedges "
     ],
     "language": "python",
     "metadata": {},
     "outputs": [],
     "prompt_number": 301
    },
    {
     "cell_type": "code",
     "collapsed": false,
     "input": [
      "def dictcounter(d, k):\n",
      "    try:\n",
      "        d[k] += 1\n",
      "    except:\n",
      "        d[k] = 1"
     ],
     "language": "python",
     "metadata": {},
     "outputs": [],
     "prompt_number": 302
    },
    {
     "cell_type": "code",
     "collapsed": false,
     "input": [
      "def randomwalk(G, frogs, P_die):\n",
      "    frog_locations = np.random.randint(0, high = G.number_of_nodes(), size = frogs).tolist()\n",
      "    G.graph['teleportations'] = {}\n",
      "    for node in G.nodes_iter():\n",
      "        G.node[node]['visits'] = 0\n",
      "        G.node[node]['deaths'] = 0\n",
      "    # Initialize edge traversal counters\n",
      "    for e in G.edges_iter():\n",
      "        G.edge[e[0]][e[1]]['timeline'] = {}\n",
      "    frogs_left = frogs\n",
      "    time = 0\n",
      "    G.graph['total_visits'] = 0\n",
      "    G.graph['death_times_sum'] = 0\n",
      "\n",
      "    while frogs_left:\n",
      "        time +=1\n",
      "        for f in range(frogs):\n",
      "            curloc = frog_locations[f]\n",
      "\n",
      "            # Skip dead frogs\n",
      "            if curloc == None:\n",
      "                continue\n",
      "\n",
      "            # Flip coin to die\n",
      "            if random() < P_die:\n",
      "                G.node[curloc]['deaths'] += 1\n",
      "                G.graph['death_times_sum'] += time\n",
      "                frog_locations[f] = None\n",
      "                frogs_left -= 1\n",
      "                continue\n",
      "\n",
      "            G.graph['total_visits'] +=1\n",
      "\n",
      "            # Node has successors\n",
      "            if len(G[curloc])>0:\n",
      "                frog_locations[f] = choice(G[curloc].keys())\n",
      "                loc = frog_locations[f]\n",
      "\n",
      "                dictcounter(G.edge[curloc][loc]['timeline'], time)\n",
      "\n",
      "            # Node does not have successors - Teleport\n",
      "            else:\n",
      "                frog_locations[f] = np.random.randint(0, high = G.number_of_nodes())\n",
      "                dictcounter(G.graph['teleportations'],time)\n",
      "\n",
      "\n",
      "            G.node[frog_locations[f]]['visits'] +=1\n"
     ],
     "language": "python",
     "metadata": {},
     "outputs": [],
     "prompt_number": 303
    },
    {
     "cell_type": "code",
     "collapsed": false,
     "input": [
      "def plotrwresult(G):\n",
      "    visits = [G.node[node]['visits'] for node in G.nodes_iter() ]\n",
      "    norm_visits = np.array(visits)/float(G.graph['total_visits'])\n",
      "\n",
      "    deaths = [G.node[node]['deaths'] for node in G.nodes_iter() ]\n",
      "    norm_deaths = np.array(deaths)/float(sum(deaths))\n",
      "\n",
      "    if G.is_directed():\n",
      "        degrees = [ G.in_degree(node) for node in G.nodes_iter() ]\n",
      "        norm_degrees = np.array(degrees)/float(G.size())\n",
      "    else:\n",
      "        degrees = [ G.degree(node) for node in G.nodes_iter() ]\n",
      "        norm_degrees = np.array(degrees)/float(2*G.size())\n",
      "\n",
      "    multi_iter1 = {'index':range(G.order()), 'Visits':norm_visits, 'Deaths':norm_deaths, 'Degree':norm_degrees}\n",
      "    line = vincent.Scatter(multi_iter1, iter_idx='index')\n",
      "    line.axis_titles(x='Vertex', y='Juice')\n",
      "    line.legend(title='Results')\n",
      "    line.width = 400\n",
      "    line.height = 300\n",
      "    line.marks[0].marks[0].properties.enter.opacity = vincent.ValueRef(value=1)\n",
      "    \n",
      "    line.marks[0].marks[0].properties.update = vincent.PropertySet()\n",
      "    line.marks[0].marks[0].properties.update.size = vincent.ValueRef(value=100)\n",
      "    line.marks[0].marks[0].properties.hover = vincent.PropertySet()\n",
      "    line.marks[0].marks[0].properties.hover.size = vincent.ValueRef(value=200)\n",
      "    line.marks[0].marks[0].properties.update.size = vincent.ValueRef(value=100)\n",
      "    line.marks[0].marks[0].properties.hover = vincent.PropertySet()\n",
      "    line.marks[0].marks[0].properties.hover.size = vincent.ValueRef(value=200)\n",
      "    line.scales['shape'] = vincent.Scale(name='shape', type='ordinal',\n",
      "                          domain=vincent.DataRef(data='table', field='data.col'),\n",
      "                          range=[\"square\", \"circle\", \"triangle-down\", \"triangle-up\"])\n",
      "    line.marks[0].marks[0].properties.enter.shape = vincent.ValueRef(scale=\"shape\", field=\"data.col\")\n",
      "    line.legends[0].shape = \"shape\" \n",
      "    \n",
      "    return line"
     ],
     "language": "python",
     "metadata": {},
     "outputs": [],
     "prompt_number": 304
    },
    {
     "cell_type": "code",
     "collapsed": false,
     "input": [
      "def plotrwtraversal(G, expensiveedges=[]):\n",
      "    data = []\n",
      "    index = []\n",
      "\n",
      "    for e in G.edges_iter():\n",
      "        key = edgetokey((e[0], e[1]))\n",
      "        data.append(pd.Series(G.edge[e[0]][e[1]]['timeline']))\n",
      "        index.append(key)\n",
      "    \n",
      "    df = pd.DataFrame(data, index=index).T\n",
      "          \n",
      "    if len(expensiveedges)>0:           \n",
      "        dfexp = df[expensiveedges].copy()\n",
      "        dfcheap = df.copy()\n",
      "        dfcheap.drop(expensiveedges, 1, inplace=True)\n",
      "        datacost = [dfexp.sum(axis=1), dfcheap.sum(axis=1)]\n",
      "        indexcost = ['Expensive', 'Cheap']\n",
      "        dfcost = pd.DataFrame(datacost, index=indexcost).T\n",
      "        \n",
      "        finaldf = dfcost\n",
      "    else:\n",
      "        finaldf = df\n",
      "\n",
      "    if len(G.graph['teleportations'])>0:\n",
      "        finaldf['Teleportation'] = pd.Series(G.graph['teleportations'])\n",
      "        \n",
      "        \n",
      "    line = vincent.StackedArea(finaldf)\n",
      "    line.axis_titles(x='Time', y='# frogs')\n",
      "    line.legend(title='Edge')\n",
      "    line.width = 400\n",
      "    line.height = 300\n",
      "    line.marks[0].marks[0].properties.enter.opacity = vincent.ValueRef(value=0.8)\n",
      "    \n",
      "    if len(expensiveedges)>0:\n",
      "        line.colors(range_=['#ff0000','#50aa50','#6060aa'])\n",
      "\n",
      "    \n",
      "    line.marks[0].marks[0].properties.update = vincent.PropertySet()\n",
      "    line.marks[0].marks[0].properties.update.size = vincent.ValueRef(value=100)\n",
      "    line.marks[0].marks[0].properties.hover = vincent.PropertySet()\n",
      "    line.marks[0].marks[0].properties.hover.size = vincent.ValueRef(value=200)\n",
      "\n",
      "    line.marks[0].marks[0].properties.update.opacity = vincent.ValueRef(value=0.8)\n",
      "    line.marks[0].marks[0].properties.hover.opacity = vincent.ValueRef(value=1)\n",
      "        \n",
      "    return line"
     ],
     "language": "python",
     "metadata": {},
     "outputs": [],
     "prompt_number": 321
    },
    {
     "cell_type": "code",
     "collapsed": false,
     "input": [
      "def randomwalk2(G, frogs, P_die):\n",
      "    frog_locations = np.random.randint(0, high = G.number_of_nodes(), size = frogs).tolist()\n",
      "    G.graph['teleportations'] = {}\n",
      "    for node in G.nodes_iter():\n",
      "        G.node[node]['visits'] = 0\n",
      "        G.node[node]['deaths'] = 0\n",
      "    # Initialize edge traversal counters\n",
      "    for e in G.edges_iter():\n",
      "        G.edge[e[0]][e[1]]['timeline'] = {}\n",
      "    frogs_left = frogs\n",
      "    time = 0\n",
      "    G.graph['total_visits'] = 0\n",
      "    G.graph['death_times_sum'] = 0\n",
      "\n",
      "    while frogs_left:\n",
      "        time +=1\n",
      "        for f in range(frogs):\n",
      "            curloc = frog_locations[f]\n",
      "\n",
      "            # Skip dead frogs\n",
      "            if curloc == None:\n",
      "                continue\n",
      "\n",
      "            # Flip coin to die\n",
      "            if random() < P_die:\n",
      "                G.node[curloc]['deaths'] += 1\n",
      "                G.graph['death_times_sum'] += time\n",
      "                frog_locations[f] = None\n",
      "                frogs_left -= 1\n",
      "                continue\n",
      "\n",
      "            G.graph['total_visits'] +=1\n",
      "\n",
      "            # Node has successors\n",
      "            if len(G[curloc])>0:\n",
      "                frog_locations[f] = choice(G[curloc].keys())\n",
      "                loc = frog_locations[f]\n",
      "\n",
      "                dictcounter(G.edge[curloc][loc]['timeline'], time)\n",
      "\n",
      "            # Node does not have successors - Teleport\n",
      "            else:\n",
      "                frog_locations[f] = np.random.randint(0, high = G.number_of_nodes())\n",
      "                dictcounter(G.graph['teleportations'],time)\n",
      "\n",
      "\n",
      "            G.node[frog_locations[f]]['visits'] +=1\n"
     ],
     "language": "python",
     "metadata": {},
     "outputs": [],
     "prompt_number": 315
    },
    {
     "cell_type": "heading",
     "level": 2,
     "metadata": {},
     "source": [
      "Run stuff"
     ]
    },
    {
     "cell_type": "code",
     "collapsed": false,
     "input": [
      "randomwalk(G, frogs, P_die)"
     ],
     "language": "python",
     "metadata": {},
     "outputs": [],
     "prompt_number": 316
    },
    {
     "cell_type": "code",
     "collapsed": false,
     "input": [
      "plotrwresult(G)"
     ],
     "language": "python",
     "metadata": {},
     "outputs": [
      {
       "html": [
        "<div id=\"vis74dc490ab3fb4c4e85e71cd726d9ce34\"></div>\n",
        "<script>\n",
        "   ( function() {\n",
        "     var _do_plot = function() {\n",
        "       if (typeof vg === 'undefined') {\n",
        "         window.addEventListener('vincent_libs_loaded', _do_plot)\n",
        "         return;\n",
        "       }\n",
        "       vg.parse.spec({\"axes\": [{\"scale\": \"x\", \"title\": \"Vertex\", \"type\": \"x\"}, {\"scale\": \"y\", \"title\": \"Juice\", \"type\": \"y\"}], \"data\": [{\"name\": \"table\", \"values\": [{\"col\": \"Deaths\", \"idx\": 0, \"val\": 0.33200000000000002}, {\"col\": \"Deaths\", \"idx\": 1, \"val\": 0.13100000000000001}, {\"col\": \"Deaths\", \"idx\": 2, \"val\": 0.22}, {\"col\": \"Deaths\", \"idx\": 3, \"val\": 0.033000000000000002}, {\"col\": \"Deaths\", \"idx\": 4, \"val\": 0.111}, {\"col\": \"Deaths\", \"idx\": 5, \"val\": 0.029999999999999999}, {\"col\": \"Deaths\", \"idx\": 6, \"val\": 0.11799999999999999}, {\"col\": \"Deaths\", \"idx\": 7, \"val\": 0.025000000000000001}, {\"col\": \"Degree\", \"idx\": 0, \"val\": 0.33333333333333331}, {\"col\": \"Degree\", \"idx\": 1, \"val\": 0.22222222222222221}, {\"col\": \"Degree\", \"idx\": 2, \"val\": 0.22222222222222221}, {\"col\": \"Degree\", \"idx\": 3, \"val\": 0.0}, {\"col\": \"Degree\", \"idx\": 4, \"val\": 0.1111111111111111}, {\"col\": \"Degree\", \"idx\": 5, \"val\": 0.0}, {\"col\": \"Degree\", \"idx\": 6, \"val\": 0.1111111111111111}, {\"col\": \"Degree\", \"idx\": 7, \"val\": 0.0}, {\"col\": \"Visits\", \"idx\": 0, \"val\": 0.3253600195264828}, {\"col\": \"Visits\", \"idx\": 1, \"val\": 0.13741762265072005}, {\"col\": \"Visits\", \"idx\": 2, \"val\": 0.24120087869172566}, {\"col\": \"Visits\", \"idx\": 3, \"val\": 0.027922870392970468}, {\"col\": \"Visits\", \"idx\": 4, \"val\": 0.10910422260190383}, {\"col\": \"Visits\", \"idx\": 5, \"val\": 0.027288259702221138}, {\"col\": \"Visits\", \"idx\": 6, \"val\": 0.10641933121796436}, {\"col\": \"Visits\", \"idx\": 7, \"val\": 0.025286795216011716}]}], \"height\": 300, \"legends\": [{\"fill\": \"color\", \"offset\": 0, \"properties\": {}, \"shape\": \"shape\", \"title\": \"Results\"}], \"marks\": [{\"from\": {\"data\": \"table\", \"transform\": [{\"keys\": [\"data.col\"], \"type\": \"facet\"}]}, \"marks\": [{\"properties\": {\"enter\": {\"fill\": {\"field\": \"data.col\", \"scale\": \"color\"}, \"opacity\": {\"value\": 1}, \"shape\": {\"field\": \"data.col\", \"scale\": \"shape\"}, \"size\": {\"value\": 100}, \"x\": {\"field\": \"data.idx\", \"scale\": \"x\"}, \"y\": {\"field\": \"data.val\", \"scale\": \"y\"}}, \"hover\": {\"size\": {\"value\": 200}}, \"update\": {\"size\": {\"value\": 100}}}, \"type\": \"symbol\"}], \"type\": \"group\"}], \"padding\": \"auto\", \"scales\": [{\"domain\": {\"data\": \"table\", \"field\": \"data.idx\"}, \"name\": \"x\", \"range\": \"width\", \"type\": \"linear\"}, {\"domain\": {\"data\": \"table\", \"field\": \"data.val\"}, \"name\": \"y\", \"nice\": true, \"range\": \"height\"}, {\"domain\": {\"data\": \"table\", \"field\": \"data.col\"}, \"name\": \"color\", \"range\": \"category20\", \"type\": \"ordinal\"}, {\"domain\": {\"data\": \"table\", \"field\": \"data.col\"}, \"name\": \"shape\", \"range\": [\"square\", \"circle\", \"triangle-down\", \"triangle-up\"], \"type\": \"ordinal\"}], \"width\": 400}, function(chart) {\n",
        "         chart({el: \"#vis74dc490ab3fb4c4e85e71cd726d9ce34\"}).update();\n",
        "       });\n",
        "     };\n",
        "     _do_plot();\n",
        "   })();\n",
        "</script>\n",
        "<style>.vega canvas {width: 100%;}</style>\n",
        "        "
       ],
       "metadata": {},
       "output_type": "pyout",
       "prompt_number": 317,
       "text": [
        "<vincent.charts.Scatter at 0x10975e490>"
       ]
      }
     ],
     "prompt_number": 317
    },
    {
     "cell_type": "code",
     "collapsed": false,
     "input": [
      "plotrwtraversal(G)"
     ],
     "language": "python",
     "metadata": {},
     "outputs": [
      {
       "html": [
        "<div id=\"vis1e1e3972100b4fdb943b1ac6069ad680\"></div>\n",
        "<script>\n",
        "   ( function() {\n",
        "     var _do_plot = function() {\n",
        "       if (typeof vg === 'undefined') {\n",
        "         window.addEventListener('vincent_libs_loaded', _do_plot)\n",
        "         return;\n",
        "       }\n",
        "       vg.parse.spec({\"axes\": [{\"scale\": \"x\", \"title\": \"Time\", \"type\": \"x\"}, {\"scale\": \"y\", \"title\": \"# frogs\", \"type\": \"y\"}], \"data\": [{\"name\": \"table\", \"values\": [{\"col\": \"(0, 1)\", \"idx\": 1, \"val\": 26.0}, {\"col\": \"(0, 2)\", \"idx\": 1, \"val\": 24.0}, {\"col\": \"(0, 4)\", \"idx\": 1, \"val\": 26.0}, {\"col\": \"(0, 6)\", \"idx\": 1, \"val\": 33.0}, {\"col\": \"(1, 2)\", \"idx\": 1, \"val\": 117.0}, {\"col\": \"(2, 0)\", \"idx\": 1, \"val\": 124.0}, {\"col\": \"(3, 1)\", \"idx\": 1, \"val\": 118.0}, {\"col\": \"(5, 0)\", \"idx\": 1, \"val\": 111.0}, {\"col\": \"(7, 0)\", \"idx\": 1, \"val\": 126.0}, {\"col\": \"Teleportation\", \"idx\": 1, \"val\": 254.0}, {\"col\": \"(0, 1)\", \"idx\": 2, \"val\": 80.0}, {\"col\": \"(0, 2)\", \"idx\": 2, \"val\": 94.0}, {\"col\": \"(0, 4)\", \"idx\": 2, \"val\": 89.0}, {\"col\": \"(0, 6)\", \"idx\": 2, \"val\": 119.0}, {\"col\": \"(1, 2)\", \"idx\": 2, \"val\": 175.0}, {\"col\": \"(2, 0)\", \"idx\": 2, \"val\": 161.0}, {\"col\": \"(3, 1)\", \"idx\": 2, \"val\": 35.0}, {\"col\": \"(5, 0)\", \"idx\": 2, \"val\": 23.0}, {\"col\": \"(7, 0)\", \"idx\": 2, \"val\": 23.0}, {\"col\": \"Teleportation\", \"idx\": 2, \"val\": 123.0}, {\"col\": \"(0, 1)\", \"idx\": 3, \"val\": 44.0}, {\"col\": \"(0, 2)\", \"idx\": 3, \"val\": 52.0}, {\"col\": \"(0, 4)\", \"idx\": 3, \"val\": 58.0}, {\"col\": \"(0, 6)\", \"idx\": 3, \"val\": 54.0}, {\"col\": \"(1, 2)\", \"idx\": 3, \"val\": 120.0}, {\"col\": \"(2, 0)\", \"idx\": 3, \"val\": 260.0}, {\"col\": \"(3, 1)\", \"idx\": 3, \"val\": 16.0}, {\"col\": \"(5, 0)\", \"idx\": 3, \"val\": 20.0}, {\"col\": \"(7, 0)\", \"idx\": 3, \"val\": 15.0}, {\"col\": \"Teleportation\", \"idx\": 3, \"val\": 233.0}, {\"col\": \"(0, 1)\", \"idx\": 4, \"val\": 80.0}, {\"col\": \"(0, 2)\", \"idx\": 4, \"val\": 84.0}, {\"col\": \"(0, 4)\", \"idx\": 4, \"val\": 77.0}, {\"col\": \"(0, 6)\", \"idx\": 4, \"val\": 67.0}, {\"col\": \"(1, 2)\", \"idx\": 4, \"val\": 86.0}, {\"col\": \"(2, 0)\", \"idx\": 4, \"val\": 182.0}, {\"col\": \"(3, 1)\", \"idx\": 4, \"val\": 27.0}, {\"col\": \"(5, 0)\", \"idx\": 4, \"val\": 35.0}, {\"col\": \"(7, 0)\", \"idx\": 4, \"val\": 23.0}, {\"col\": \"Teleportation\", \"idx\": 4, \"val\": 162.0}, {\"col\": \"(0, 1)\", \"idx\": 5, \"val\": 60.0}, {\"col\": \"(0, 2)\", \"idx\": 5, \"val\": 64.0}, {\"col\": \"(0, 4)\", \"idx\": 5, \"val\": 63.0}, {\"col\": \"(0, 6)\", \"idx\": 5, \"val\": 63.0}, {\"col\": \"(1, 2)\", \"idx\": 5, \"val\": 121.0}, {\"col\": \"(2, 0)\", \"idx\": 5, \"val\": 183.0}, {\"col\": \"(3, 1)\", \"idx\": 5, \"val\": 27.0}, {\"col\": \"(5, 0)\", \"idx\": 5, \"val\": 15.0}, {\"col\": \"(7, 0)\", \"idx\": 5, \"val\": 24.0}, {\"col\": \"Teleportation\", \"idx\": 5, \"val\": 175.0}, {\"col\": \"(0, 1)\", \"idx\": 6, \"val\": 41.0}, {\"col\": \"(0, 2)\", \"idx\": 6, \"val\": 63.0}, {\"col\": \"(0, 4)\", \"idx\": 6, \"val\": 63.0}, {\"col\": \"(0, 6)\", \"idx\": 6, \"val\": 62.0}, {\"col\": \"(1, 2)\", \"idx\": 6, \"val\": 102.0}, {\"col\": \"(2, 0)\", \"idx\": 6, \"val\": 196.0}, {\"col\": \"(3, 1)\", \"idx\": 6, \"val\": 18.0}, {\"col\": \"(5, 0)\", \"idx\": 6, \"val\": 26.0}, {\"col\": \"(7, 0)\", \"idx\": 6, \"val\": 22.0}, {\"col\": \"Teleportation\", \"idx\": 6, \"val\": 162.0}, {\"col\": \"(0, 1)\", \"idx\": 7, \"val\": 55.0}, {\"col\": \"(0, 2)\", \"idx\": 7, \"val\": 70.0}, {\"col\": \"(0, 4)\", \"idx\": 7, \"val\": 64.0}, {\"col\": \"(0, 6)\", \"idx\": 7, \"val\": 61.0}, {\"col\": \"(1, 2)\", \"idx\": 7, \"val\": 69.0}, {\"col\": \"(2, 0)\", \"idx\": 7, \"val\": 180.0}, {\"col\": \"(3, 1)\", \"idx\": 7, \"val\": 19.0}, {\"col\": \"(5, 0)\", \"idx\": 7, \"val\": 19.0}, {\"col\": \"(7, 0)\", \"idx\": 7, \"val\": 17.0}, {\"col\": \"Teleportation\", \"idx\": 7, \"val\": 165.0}, {\"col\": \"(0, 1)\", \"idx\": 8, \"val\": 48.0}, {\"col\": \"(0, 2)\", \"idx\": 8, \"val\": 54.0}, {\"col\": \"(0, 4)\", \"idx\": 8, \"val\": 58.0}, {\"col\": \"(0, 6)\", \"idx\": 8, \"val\": 62.0}, {\"col\": \"(1, 2)\", \"idx\": 8, \"val\": 89.0}, {\"col\": \"(2, 0)\", \"idx\": 8, \"val\": 151.0}, {\"col\": \"(3, 1)\", \"idx\": 8, \"val\": 17.0}, {\"col\": \"(5, 0)\", \"idx\": 8, \"val\": 19.0}, {\"col\": \"(7, 0)\", \"idx\": 8, \"val\": 20.0}, {\"col\": \"Teleportation\", \"idx\": 8, \"val\": 166.0}, {\"col\": \"(0, 1)\", \"idx\": 9, \"val\": 34.0}, {\"col\": \"(0, 2)\", \"idx\": 9, \"val\": 46.0}, {\"col\": \"(0, 4)\", \"idx\": 9, \"val\": 64.0}, {\"col\": \"(0, 6)\", \"idx\": 9, \"val\": 56.0}, {\"col\": \"(1, 2)\", \"idx\": 9, \"val\": 86.0}, {\"col\": \"(2, 0)\", \"idx\": 9, \"val\": 152.0}, {\"col\": \"(3, 1)\", \"idx\": 9, \"val\": 19.0}, {\"col\": \"(5, 0)\", \"idx\": 9, \"val\": 21.0}, {\"col\": \"(7, 0)\", \"idx\": 9, \"val\": 20.0}, {\"col\": \"Teleportation\", \"idx\": 9, \"val\": 162.0}, {\"col\": \"(0, 1)\", \"idx\": 10, \"val\": 54.0}, {\"col\": \"(0, 2)\", \"idx\": 10, \"val\": 53.0}, {\"col\": \"(0, 4)\", \"idx\": 10, \"val\": 51.0}, {\"col\": \"(0, 6)\", \"idx\": 10, \"val\": 49.0}, {\"col\": \"(1, 2)\", \"idx\": 10, \"val\": 61.0}, {\"col\": \"(2, 0)\", \"idx\": 10, \"val\": 152.0}, {\"col\": \"(3, 1)\", \"idx\": 10, \"val\": 28.0}, {\"col\": \"(5, 0)\", \"idx\": 10, \"val\": 11.0}, {\"col\": \"(7, 0)\", \"idx\": 10, \"val\": 18.0}, {\"col\": \"Teleportation\", \"idx\": 10, \"val\": 150.0}, {\"col\": \"(0, 1)\", \"idx\": 11, \"val\": 44.0}, {\"col\": \"(0, 2)\", \"idx\": 11, \"val\": 48.0}, {\"col\": \"(0, 4)\", \"idx\": 11, \"val\": 55.0}, {\"col\": \"(0, 6)\", \"idx\": 11, \"val\": 47.0}, {\"col\": \"(1, 2)\", \"idx\": 11, \"val\": 99.0}, {\"col\": \"(2, 0)\", \"idx\": 11, \"val\": 128.0}, {\"col\": \"(3, 1)\", \"idx\": 11, \"val\": 16.0}, {\"col\": \"(5, 0)\", \"idx\": 11, \"val\": 20.0}, {\"col\": \"(7, 0)\", \"idx\": 11, \"val\": 16.0}, {\"col\": \"Teleportation\", \"idx\": 11, \"val\": 130.0}, {\"col\": \"(0, 1)\", \"idx\": 12, \"val\": 44.0}, {\"col\": \"(0, 2)\", \"idx\": 12, \"val\": 34.0}, {\"col\": \"(0, 4)\", \"idx\": 12, \"val\": 51.0}, {\"col\": \"(0, 6)\", \"idx\": 12, \"val\": 37.0}, {\"col\": \"(1, 2)\", \"idx\": 12, \"val\": 74.0}, {\"col\": \"(2, 0)\", \"idx\": 12, \"val\": 172.0}, {\"col\": \"(3, 1)\", \"idx\": 12, \"val\": 18.0}, {\"col\": \"(5, 0)\", \"idx\": 12, \"val\": 8.0}, {\"col\": \"(7, 0)\", \"idx\": 12, \"val\": 15.0}, {\"col\": \"Teleportation\", \"idx\": 12, \"val\": 119.0}, {\"col\": \"(0, 1)\", \"idx\": 13, \"val\": 40.0}, {\"col\": \"(0, 2)\", \"idx\": 13, \"val\": 45.0}, {\"col\": \"(0, 4)\", \"idx\": 13, \"val\": 45.0}, {\"col\": \"(0, 6)\", \"idx\": 13, \"val\": 64.0}, {\"col\": \"(1, 2)\", \"idx\": 13, \"val\": 77.0}, {\"col\": \"(2, 0)\", \"idx\": 13, \"val\": 116.0}, {\"col\": \"(3, 1)\", \"idx\": 13, \"val\": 17.0}, {\"col\": \"(5, 0)\", \"idx\": 13, \"val\": 15.0}, {\"col\": \"(7, 0)\", \"idx\": 13, \"val\": 12.0}, {\"col\": \"Teleportation\", \"idx\": 13, \"val\": 117.0}, {\"col\": \"(0, 1)\", \"idx\": 14, \"val\": 33.0}, {\"col\": \"(0, 2)\", \"idx\": 14, \"val\": 37.0}, {\"col\": \"(0, 4)\", \"idx\": 14, \"val\": 37.0}, {\"col\": \"(0, 6)\", \"idx\": 14, \"val\": 41.0}, {\"col\": \"(1, 2)\", \"idx\": 14, \"val\": 69.0}, {\"col\": \"(2, 0)\", \"idx\": 14, \"val\": 125.0}, {\"col\": \"(3, 1)\", \"idx\": 14, \"val\": 17.0}, {\"col\": \"(5, 0)\", \"idx\": 14, \"val\": 18.0}, {\"col\": \"(7, 0)\", \"idx\": 14, \"val\": 11.0}, {\"col\": \"Teleportation\", \"idx\": 14, \"val\": 136.0}, {\"col\": \"(0, 1)\", \"idx\": 15, \"val\": 39.0}, {\"col\": \"(0, 2)\", \"idx\": 15, \"val\": 37.0}, {\"col\": \"(0, 4)\", \"idx\": 15, \"val\": 48.0}, {\"col\": \"(0, 6)\", \"idx\": 15, \"val\": 39.0}, {\"col\": \"(1, 2)\", \"idx\": 15, \"val\": 66.0}, {\"col\": \"(2, 0)\", \"idx\": 15, \"val\": 120.0}, {\"col\": \"(3, 1)\", \"idx\": 15, \"val\": 14.0}, {\"col\": \"(5, 0)\", \"idx\": 15, \"val\": 14.0}, {\"col\": \"(7, 0)\", \"idx\": 15, \"val\": 12.0}, {\"col\": \"Teleportation\", \"idx\": 15, \"val\": 107.0}, {\"col\": \"(0, 1)\", \"idx\": 16, \"val\": 42.0}, {\"col\": \"(0, 2)\", \"idx\": 16, \"val\": 38.0}, {\"col\": \"(0, 4)\", \"idx\": 16, \"val\": 37.0}, {\"col\": \"(0, 6)\", \"idx\": 16, \"val\": 47.0}, {\"col\": \"(1, 2)\", \"idx\": 16, \"val\": 68.0}, {\"col\": \"(2, 0)\", \"idx\": 16, \"val\": 105.0}, {\"col\": \"(3, 1)\", \"idx\": 16, \"val\": 10.0}, {\"col\": \"(5, 0)\", \"idx\": 16, \"val\": 12.0}, {\"col\": \"(7, 0)\", \"idx\": 16, \"val\": 14.0}, {\"col\": \"Teleportation\", \"idx\": 16, \"val\": 104.0}, {\"col\": \"(0, 1)\", \"idx\": 17, \"val\": 43.0}, {\"col\": \"(0, 2)\", \"idx\": 17, \"val\": 33.0}, {\"col\": \"(0, 4)\", \"idx\": 17, \"val\": 27.0}, {\"col\": \"(0, 6)\", \"idx\": 17, \"val\": 37.0}, {\"col\": \"(1, 2)\", \"idx\": 17, \"val\": 57.0}, {\"col\": \"(2, 0)\", \"idx\": 17, \"val\": 114.0}, {\"col\": \"(3, 1)\", \"idx\": 17, \"val\": 15.0}, {\"col\": \"(5, 0)\", \"idx\": 17, \"val\": 10.0}, {\"col\": \"(7, 0)\", \"idx\": 17, \"val\": 8.0}, {\"col\": \"Teleportation\", \"idx\": 17, \"val\": 112.0}, {\"col\": \"(0, 1)\", \"idx\": 18, \"val\": 38.0}, {\"col\": \"(0, 2)\", \"idx\": 18, \"val\": 31.0}, {\"col\": \"(0, 4)\", \"idx\": 18, \"val\": 43.0}, {\"col\": \"(0, 6)\", \"idx\": 18, \"val\": 29.0}, {\"col\": \"(1, 2)\", \"idx\": 18, \"val\": 69.0}, {\"col\": \"(2, 0)\", \"idx\": 18, \"val\": 91.0}, {\"col\": \"(3, 1)\", \"idx\": 18, \"val\": 17.0}, {\"col\": \"(5, 0)\", \"idx\": 18, \"val\": 9.0}, {\"col\": \"(7, 0)\", \"idx\": 18, \"val\": 10.0}, {\"col\": \"Teleportation\", \"idx\": 18, \"val\": 94.0}, {\"col\": \"(0, 1)\", \"idx\": 19, \"val\": 38.0}, {\"col\": \"(0, 2)\", \"idx\": 19, \"val\": 21.0}, {\"col\": \"(0, 4)\", \"idx\": 19, \"val\": 31.0}, {\"col\": \"(0, 6)\", \"idx\": 19, \"val\": 26.0}, {\"col\": \"(1, 2)\", \"idx\": 19, \"val\": 64.0}, {\"col\": \"(2, 0)\", \"idx\": 19, \"val\": 110.0}, {\"col\": \"(3, 1)\", \"idx\": 19, \"val\": 6.0}, {\"col\": \"(5, 0)\", \"idx\": 19, \"val\": 18.0}, {\"col\": \"(7, 0)\", \"idx\": 19, \"val\": 9.0}, {\"col\": \"Teleportation\", \"idx\": 19, \"val\": 94.0}, {\"col\": \"(0, 1)\", \"idx\": 20, \"val\": 37.0}, {\"col\": \"(0, 2)\", \"idx\": 20, \"val\": 41.0}, {\"col\": \"(0, 4)\", \"idx\": 20, \"val\": 30.0}, {\"col\": \"(0, 6)\", \"idx\": 20, \"val\": 37.0}, {\"col\": \"(1, 2)\", \"idx\": 20, \"val\": 55.0}, {\"col\": \"(2, 0)\", \"idx\": 20, \"val\": 92.0}, {\"col\": \"(3, 1)\", \"idx\": 20, \"val\": 10.0}, {\"col\": \"(5, 0)\", \"idx\": 20, \"val\": 12.0}, {\"col\": \"(7, 0)\", \"idx\": 20, \"val\": 8.0}, {\"col\": \"Teleportation\", \"idx\": 20, \"val\": 72.0}, {\"col\": \"(0, 1)\", \"idx\": 21, \"val\": 33.0}, {\"col\": \"(0, 2)\", \"idx\": 21, \"val\": 30.0}, {\"col\": \"(0, 4)\", \"idx\": 21, \"val\": 30.0}, {\"col\": \"(0, 6)\", \"idx\": 21, \"val\": 25.0}, {\"col\": \"(1, 2)\", \"idx\": 21, \"val\": 53.0}, {\"col\": \"(2, 0)\", \"idx\": 21, \"val\": 99.0}, {\"col\": \"(3, 1)\", \"idx\": 21, \"val\": 7.0}, {\"col\": \"(5, 0)\", \"idx\": 21, \"val\": 7.0}, {\"col\": \"(7, 0)\", \"idx\": 21, \"val\": 7.0}, {\"col\": \"Teleportation\", \"idx\": 21, \"val\": 81.0}, {\"col\": \"(0, 1)\", \"idx\": 22, \"val\": 34.0}, {\"col\": \"(0, 2)\", \"idx\": 22, \"val\": 25.0}, {\"col\": \"(0, 4)\", \"idx\": 22, \"val\": 36.0}, {\"col\": \"(0, 6)\", \"idx\": 22, \"val\": 26.0}, {\"col\": \"(1, 2)\", \"idx\": 22, \"val\": 42.0}, {\"col\": \"(2, 0)\", \"idx\": 22, \"val\": 98.0}, {\"col\": \"(3, 1)\", \"idx\": 22, \"val\": 6.0}, {\"col\": \"(5, 0)\", \"idx\": 22, \"val\": 9.0}, {\"col\": \"(7, 0)\", \"idx\": 22, \"val\": 12.0}, {\"col\": \"Teleportation\", \"idx\": 22, \"val\": 62.0}, {\"col\": \"(0, 1)\", \"idx\": 23, \"val\": 30.0}, {\"col\": \"(0, 2)\", \"idx\": 23, \"val\": 29.0}, {\"col\": \"(0, 4)\", \"idx\": 23, \"val\": 38.0}, {\"col\": \"(0, 6)\", \"idx\": 23, \"val\": 22.0}, {\"col\": \"(1, 2)\", \"idx\": 23, \"val\": 47.0}, {\"col\": \"(2, 0)\", \"idx\": 23, \"val\": 70.0}, {\"col\": \"(3, 1)\", \"idx\": 23, \"val\": 10.0}, {\"col\": \"(5, 0)\", \"idx\": 23, \"val\": 4.0}, {\"col\": \"(7, 0)\", \"idx\": 23, \"val\": 10.0}, {\"col\": \"Teleportation\", \"idx\": 23, \"val\": 74.0}, {\"col\": \"(0, 1)\", \"idx\": 24, \"val\": 21.0}, {\"col\": \"(0, 2)\", \"idx\": 24, \"val\": 24.0}, {\"col\": \"(0, 4)\", \"idx\": 24, \"val\": 19.0}, {\"col\": \"(0, 6)\", \"idx\": 24, \"val\": 20.0}, {\"col\": \"(1, 2)\", \"idx\": 24, \"val\": 49.0}, {\"col\": \"(2, 0)\", \"idx\": 24, \"val\": 85.0}, {\"col\": \"(3, 1)\", \"idx\": 24, \"val\": 15.0}, {\"col\": \"(5, 0)\", \"idx\": 24, \"val\": 5.0}, {\"col\": \"(7, 0)\", \"idx\": 24, \"val\": 9.0}, {\"col\": \"Teleportation\", \"idx\": 24, \"val\": 72.0}, {\"col\": \"(0, 1)\", \"idx\": 25, \"val\": 22.0}, {\"col\": \"(0, 2)\", \"idx\": 25, \"val\": 32.0}, {\"col\": \"(0, 4)\", \"idx\": 25, \"val\": 22.0}, {\"col\": \"(0, 6)\", \"idx\": 25, \"val\": 27.0}, {\"col\": \"(1, 2)\", \"idx\": 25, \"val\": 47.0}, {\"col\": \"(2, 0)\", \"idx\": 25, \"val\": 78.0}, {\"col\": \"(3, 1)\", \"idx\": 25, \"val\": 5.0}, {\"col\": \"(5, 0)\", \"idx\": 25, \"val\": 7.0}, {\"col\": \"(7, 0)\", \"idx\": 25, \"val\": 6.0}, {\"col\": \"Teleportation\", \"idx\": 25, \"val\": 57.0}, {\"col\": \"(0, 1)\", \"idx\": 26, \"val\": 15.0}, {\"col\": \"(0, 2)\", \"idx\": 26, \"val\": 19.0}, {\"col\": \"(0, 4)\", \"idx\": 26, \"val\": 32.0}, {\"col\": \"(0, 6)\", \"idx\": 26, \"val\": 22.0}, {\"col\": \"(1, 2)\", \"idx\": 26, \"val\": 36.0}, {\"col\": \"(2, 0)\", \"idx\": 26, \"val\": 87.0}, {\"col\": \"(3, 1)\", \"idx\": 26, \"val\": 3.0}, {\"col\": \"(5, 0)\", \"idx\": 26, \"val\": 8.0}, {\"col\": \"(7, 0)\", \"idx\": 26, \"val\": 8.0}, {\"col\": \"Teleportation\", \"idx\": 26, \"val\": 59.0}, {\"col\": \"(0, 1)\", \"idx\": 27, \"val\": 25.0}, {\"col\": \"(0, 2)\", \"idx\": 27, \"val\": 32.0}, {\"col\": \"(0, 4)\", \"idx\": 27, \"val\": 27.0}, {\"col\": \"(0, 6)\", \"idx\": 27, \"val\": 18.0}, {\"col\": \"(1, 2)\", \"idx\": 27, \"val\": 23.0}, {\"col\": \"(2, 0)\", \"idx\": 27, \"val\": 58.0}, {\"col\": \"(3, 1)\", \"idx\": 27, \"val\": 7.0}, {\"col\": \"(5, 0)\", \"idx\": 27, \"val\": 9.0}, {\"col\": \"(7, 0)\", \"idx\": 27, \"val\": 7.0}, {\"col\": \"Teleportation\", \"idx\": 27, \"val\": 69.0}, {\"col\": \"(0, 1)\", \"idx\": 28, \"val\": 25.0}, {\"col\": \"(0, 2)\", \"idx\": 28, \"val\": 18.0}, {\"col\": \"(0, 4)\", \"idx\": 28, \"val\": 13.0}, {\"col\": \"(0, 6)\", \"idx\": 28, \"val\": 20.0}, {\"col\": \"(1, 2)\", \"idx\": 28, \"val\": 42.0}, {\"col\": \"(2, 0)\", \"idx\": 28, \"val\": 63.0}, {\"col\": \"(3, 1)\", \"idx\": 28, \"val\": 6.0}, {\"col\": \"(5, 0)\", \"idx\": 28, \"val\": 6.0}, {\"col\": \"(7, 0)\", \"idx\": 28, \"val\": 9.0}, {\"col\": \"Teleportation\", \"idx\": 28, \"val\": 61.0}, {\"col\": \"(0, 1)\", \"idx\": 29, \"val\": 16.0}, {\"col\": \"(0, 2)\", \"idx\": 29, \"val\": 22.0}, {\"col\": \"(0, 4)\", \"idx\": 29, \"val\": 24.0}, {\"col\": \"(0, 6)\", \"idx\": 29, \"val\": 20.0}, {\"col\": \"(1, 2)\", \"idx\": 29, \"val\": 38.0}, {\"col\": \"(2, 0)\", \"idx\": 29, \"val\": 62.0}, {\"col\": \"(3, 1)\", \"idx\": 29, \"val\": 5.0}, {\"col\": \"(5, 0)\", \"idx\": 29, \"val\": 10.0}, {\"col\": \"(7, 0)\", \"idx\": 29, \"val\": 6.0}, {\"col\": \"Teleportation\", \"idx\": 29, \"val\": 53.0}, {\"col\": \"(0, 1)\", \"idx\": 30, \"val\": 23.0}, {\"col\": \"(0, 2)\", \"idx\": 30, \"val\": 19.0}, {\"col\": \"(0, 4)\", \"idx\": 30, \"val\": 15.0}, {\"col\": \"(0, 6)\", \"idx\": 30, \"val\": 23.0}, {\"col\": \"(1, 2)\", \"idx\": 30, \"val\": 26.0}, {\"col\": \"(2, 0)\", \"idx\": 30, \"val\": 59.0}, {\"col\": \"(3, 1)\", \"idx\": 30, \"val\": 8.0}, {\"col\": \"(5, 0)\", \"idx\": 30, \"val\": 5.0}, {\"col\": \"(7, 0)\", \"idx\": 30, \"val\": 6.0}, {\"col\": \"Teleportation\", \"idx\": 30, \"val\": 54.0}, {\"col\": \"(0, 1)\", \"idx\": 31, \"val\": 21.0}, {\"col\": \"(0, 2)\", \"idx\": 31, \"val\": 18.0}, {\"col\": \"(0, 4)\", \"idx\": 31, \"val\": 17.0}, {\"col\": \"(0, 6)\", \"idx\": 31, \"val\": 16.0}, {\"col\": \"(1, 2)\", \"idx\": 31, \"val\": 33.0}, {\"col\": \"(2, 0)\", \"idx\": 31, \"val\": 50.0}, {\"col\": \"(3, 1)\", \"idx\": 31, \"val\": 4.0}, {\"col\": \"(5, 0)\", \"idx\": 31, \"val\": 6.0}, {\"col\": \"(7, 0)\", \"idx\": 31, \"val\": 8.0}, {\"col\": \"Teleportation\", \"idx\": 31, \"val\": 51.0}, {\"col\": \"(0, 1)\", \"idx\": 32, \"val\": 13.0}, {\"col\": \"(0, 2)\", \"idx\": 32, \"val\": 18.0}, {\"col\": \"(0, 4)\", \"idx\": 32, \"val\": 20.0}, {\"col\": \"(0, 6)\", \"idx\": 32, \"val\": 19.0}, {\"col\": \"(1, 2)\", \"idx\": 32, \"val\": 33.0}, {\"col\": \"(2, 0)\", \"idx\": 32, \"val\": 54.0}, {\"col\": \"(3, 1)\", \"idx\": 32, \"val\": 10.0}, {\"col\": \"(5, 0)\", \"idx\": 32, \"val\": 6.0}, {\"col\": \"(7, 0)\", \"idx\": 32, \"val\": 1.0}, {\"col\": \"Teleportation\", \"idx\": 32, \"val\": 45.0}, {\"col\": \"(0, 1)\", \"idx\": 33, \"val\": 18.0}, {\"col\": \"(0, 2)\", \"idx\": 33, \"val\": 16.0}, {\"col\": \"(0, 4)\", \"idx\": 33, \"val\": 19.0}, {\"col\": \"(0, 6)\", \"idx\": 33, \"val\": 16.0}, {\"col\": \"(1, 2)\", \"idx\": 33, \"val\": 29.0}, {\"col\": \"(2, 0)\", \"idx\": 33, \"val\": 53.0}, {\"col\": \"(3, 1)\", \"idx\": 33, \"val\": 3.0}, {\"col\": \"(5, 0)\", \"idx\": 33, \"val\": 4.0}, {\"col\": \"(7, 0)\", \"idx\": 33, \"val\": 4.0}, {\"col\": \"Teleportation\", \"idx\": 33, \"val\": 46.0}, {\"col\": \"(0, 1)\", \"idx\": 34, \"val\": 17.0}, {\"col\": \"(0, 2)\", \"idx\": 34, \"val\": 12.0}, {\"col\": \"(0, 4)\", \"idx\": 34, \"val\": 15.0}, {\"col\": \"(0, 6)\", \"idx\": 34, \"val\": 18.0}, {\"col\": \"(1, 2)\", \"idx\": 34, \"val\": 26.0}, {\"col\": \"(2, 0)\", \"idx\": 34, \"val\": 51.0}, {\"col\": \"(3, 1)\", \"idx\": 34, \"val\": 5.0}, {\"col\": \"(5, 0)\", \"idx\": 34, \"val\": 6.0}, {\"col\": \"(7, 0)\", \"idx\": 34, \"val\": 7.0}, {\"col\": \"Teleportation\", \"idx\": 34, \"val\": 43.0}, {\"col\": \"(0, 1)\", \"idx\": 35, \"val\": 22.0}, {\"col\": \"(0, 2)\", \"idx\": 35, \"val\": 14.0}, {\"col\": \"(0, 4)\", \"idx\": 35, \"val\": 14.0}, {\"col\": \"(0, 6)\", \"idx\": 35, \"val\": 17.0}, {\"col\": \"(1, 2)\", \"idx\": 35, \"val\": 25.0}, {\"col\": \"(2, 0)\", \"idx\": 35, \"val\": 41.0}, {\"col\": \"(3, 1)\", \"idx\": 35, \"val\": 5.0}, {\"col\": \"(5, 0)\", \"idx\": 35, \"val\": 5.0}, {\"col\": \"(7, 0)\", \"idx\": 35, \"val\": 8.0}, {\"col\": \"Teleportation\", \"idx\": 35, \"val\": 41.0}, {\"col\": \"(0, 1)\", \"idx\": 36, \"val\": 16.0}, {\"col\": \"(0, 2)\", \"idx\": 36, \"val\": 14.0}, {\"col\": \"(0, 4)\", \"idx\": 36, \"val\": 9.0}, {\"col\": \"(0, 6)\", \"idx\": 36, \"val\": 16.0}, {\"col\": \"(1, 2)\", \"idx\": 36, \"val\": 29.0}, {\"col\": \"(2, 0)\", \"idx\": 36, \"val\": 41.0}, {\"col\": \"(3, 1)\", \"idx\": 36, \"val\": 6.0}, {\"col\": \"(5, 0)\", \"idx\": 36, \"val\": 8.0}, {\"col\": \"(7, 0)\", \"idx\": 36, \"val\": 6.0}, {\"col\": \"Teleportation\", \"idx\": 36, \"val\": 37.0}, {\"col\": \"(0, 1)\", \"idx\": 37, \"val\": 12.0}, {\"col\": \"(0, 2)\", \"idx\": 37, \"val\": 13.0}, {\"col\": \"(0, 4)\", \"idx\": 37, \"val\": 15.0}, {\"col\": \"(0, 6)\", \"idx\": 37, \"val\": 14.0}, {\"col\": \"(1, 2)\", \"idx\": 37, \"val\": 27.0}, {\"col\": \"(2, 0)\", \"idx\": 37, \"val\": 48.0}, {\"col\": \"(3, 1)\", \"idx\": 37, \"val\": 3.0}, {\"col\": \"(5, 0)\", \"idx\": 37, \"val\": 8.0}, {\"col\": \"(7, 0)\", \"idx\": 37, \"val\": 6.0}, {\"col\": \"Teleportation\", \"idx\": 37, \"val\": 30.0}, {\"col\": \"(0, 1)\", \"idx\": 38, \"val\": 15.0}, {\"col\": \"(0, 2)\", \"idx\": 38, \"val\": 14.0}, {\"col\": \"(0, 4)\", \"idx\": 38, \"val\": 16.0}, {\"col\": \"(0, 6)\", \"idx\": 38, \"val\": 14.0}, {\"col\": \"(1, 2)\", \"idx\": 38, \"val\": 16.0}, {\"col\": \"(2, 0)\", \"idx\": 38, \"val\": 45.0}, {\"col\": \"(3, 1)\", \"idx\": 38, \"val\": 6.0}, {\"col\": \"(5, 0)\", \"idx\": 38, \"val\": 1.0}, {\"col\": \"(7, 0)\", \"idx\": 38, \"val\": 3.0}, {\"col\": \"Teleportation\", \"idx\": 38, \"val\": 33.0}, {\"col\": \"(0, 1)\", \"idx\": 39, \"val\": 18.0}, {\"col\": \"(0, 2)\", \"idx\": 39, \"val\": 13.0}, {\"col\": \"(0, 4)\", \"idx\": 39, \"val\": 10.0}, {\"col\": \"(0, 6)\", \"idx\": 39, \"val\": 7.0}, {\"col\": \"(1, 2)\", \"idx\": 39, \"val\": 25.0}, {\"col\": \"(2, 0)\", \"idx\": 39, \"val\": 33.0}, {\"col\": \"(3, 1)\", \"idx\": 39, \"val\": 7.0}, {\"col\": \"(5, 0)\", \"idx\": 39, \"val\": 3.0}, {\"col\": \"(7, 0)\", \"idx\": 39, \"val\": 3.0}, {\"col\": \"Teleportation\", \"idx\": 39, \"val\": 35.0}, {\"col\": \"(0, 1)\", \"idx\": 40, \"val\": 13.0}, {\"col\": \"(0, 2)\", \"idx\": 40, \"val\": 8.0}, {\"col\": \"(0, 4)\", \"idx\": 40, \"val\": 8.0}, {\"col\": \"(0, 6)\", \"idx\": 40, \"val\": 10.0}, {\"col\": \"(1, 2)\", \"idx\": 40, \"val\": 33.0}, {\"col\": \"(2, 0)\", \"idx\": 40, \"val\": 39.0}, {\"col\": \"(3, 1)\", \"idx\": 40, \"val\": 3.0}, {\"col\": \"(5, 0)\", \"idx\": 40, \"val\": 8.0}, {\"col\": \"(7, 0)\", \"idx\": 40, \"val\": 3.0}, {\"col\": \"Teleportation\", \"idx\": 40, \"val\": 20.0}, {\"col\": \"(0, 1)\", \"idx\": 41, \"val\": 10.0}, {\"col\": \"(0, 2)\", \"idx\": 41, \"val\": 11.0}, {\"col\": \"(0, 4)\", \"idx\": 41, \"val\": 14.0}, {\"col\": \"(0, 6)\", \"idx\": 41, \"val\": 13.0}, {\"col\": \"(1, 2)\", \"idx\": 41, \"val\": 16.0}, {\"col\": \"(2, 0)\", \"idx\": 41, \"val\": 41.0}, {\"col\": \"(3, 1)\", \"idx\": 41, \"val\": 7.0}, {\"col\": \"(5, 0)\", \"idx\": 41, \"val\": 3.0}, {\"col\": \"(7, 0)\", \"idx\": 41, \"val\": 3.0}, {\"col\": \"Teleportation\", \"idx\": 41, \"val\": 18.0}, {\"col\": \"(0, 1)\", \"idx\": 42, \"val\": 9.0}, {\"col\": \"(0, 2)\", \"idx\": 42, \"val\": 16.0}, {\"col\": \"(0, 4)\", \"idx\": 42, \"val\": 8.0}, {\"col\": \"(0, 6)\", \"idx\": 42, \"val\": 12.0}, {\"col\": \"(1, 2)\", \"idx\": 42, \"val\": 17.0}, {\"col\": \"(2, 0)\", \"idx\": 42, \"val\": 29.0}, {\"col\": \"(3, 1)\", \"idx\": 42, \"val\": 7.0}, {\"col\": \"(5, 0)\", \"idx\": 42, \"val\": 3.0}, {\"col\": \"(7, 0)\", \"idx\": 42, \"val\": 1.0}, {\"col\": \"Teleportation\", \"idx\": 42, \"val\": 27.0}, {\"col\": \"(0, 1)\", \"idx\": 43, \"val\": 10.0}, {\"col\": \"(0, 2)\", \"idx\": 43, \"val\": 12.0}, {\"col\": \"(0, 4)\", \"idx\": 43, \"val\": 6.0}, {\"col\": \"(0, 6)\", \"idx\": 43, \"val\": 8.0}, {\"col\": \"(1, 2)\", \"idx\": 43, \"val\": 18.0}, {\"col\": \"(2, 0)\", \"idx\": 43, \"val\": 32.0}, {\"col\": \"(3, 1)\", \"idx\": 43, \"val\": 3.0}, {\"col\": \"(5, 0)\", \"idx\": 43, \"val\": 5.0}, {\"col\": \"(7, 0)\", \"idx\": 43, \"val\": 1.0}, {\"col\": \"Teleportation\", \"idx\": 43, \"val\": 27.0}, {\"col\": \"(0, 1)\", \"idx\": 44, \"val\": 12.0}, {\"col\": \"(0, 2)\", \"idx\": 44, \"val\": 11.0}, {\"col\": \"(0, 4)\", \"idx\": 44, \"val\": 7.0}, {\"col\": \"(0, 6)\", \"idx\": 44, \"val\": 11.0}, {\"col\": \"(1, 2)\", \"idx\": 44, \"val\": 16.0}, {\"col\": \"(2, 0)\", \"idx\": 44, \"val\": 35.0}, {\"col\": \"(3, 1)\", \"idx\": 44, \"val\": 2.0}, {\"col\": \"(5, 0)\", \"idx\": 44, \"val\": NaN}, {\"col\": \"(7, 0)\", \"idx\": 44, \"val\": 1.0}, {\"col\": \"Teleportation\", \"idx\": 44, \"val\": 22.0}, {\"col\": \"(0, 1)\", \"idx\": 45, \"val\": 8.0}, {\"col\": \"(0, 2)\", \"idx\": 45, \"val\": 4.0}, {\"col\": \"(0, 4)\", \"idx\": 45, \"val\": 17.0}, {\"col\": \"(0, 6)\", \"idx\": 45, \"val\": 8.0}, {\"col\": \"(1, 2)\", \"idx\": 45, \"val\": 18.0}, {\"col\": \"(2, 0)\", \"idx\": 45, \"val\": 29.0}, {\"col\": \"(3, 1)\", \"idx\": 45, \"val\": 1.0}, {\"col\": \"(5, 0)\", \"idx\": 45, \"val\": 3.0}, {\"col\": \"(7, 0)\", \"idx\": 45, \"val\": 4.0}, {\"col\": \"Teleportation\", \"idx\": 45, \"val\": 21.0}, {\"col\": \"(0, 1)\", \"idx\": 46, \"val\": 14.0}, {\"col\": \"(0, 2)\", \"idx\": 46, \"val\": 5.0}, {\"col\": \"(0, 4)\", \"idx\": 46, \"val\": 11.0}, {\"col\": \"(0, 6)\", \"idx\": 46, \"val\": 6.0}, {\"col\": \"(1, 2)\", \"idx\": 46, \"val\": 10.0}, {\"col\": \"(2, 0)\", \"idx\": 46, \"val\": 25.0}, {\"col\": \"(3, 1)\", \"idx\": 46, \"val\": 2.0}, {\"col\": \"(5, 0)\", \"idx\": 46, \"val\": 2.0}, {\"col\": \"(7, 0)\", \"idx\": 46, \"val\": 4.0}, {\"col\": \"Teleportation\", \"idx\": 46, \"val\": 31.0}, {\"col\": \"(0, 1)\", \"idx\": 47, \"val\": 13.0}, {\"col\": \"(0, 2)\", \"idx\": 47, \"val\": 5.0}, {\"col\": \"(0, 4)\", \"idx\": 47, \"val\": 6.0}, {\"col\": \"(0, 6)\", \"idx\": 47, \"val\": 7.0}, {\"col\": \"(1, 2)\", \"idx\": 47, \"val\": 22.0}, {\"col\": \"(2, 0)\", \"idx\": 47, \"val\": 16.0}, {\"col\": \"(3, 1)\", \"idx\": 47, \"val\": 2.0}, {\"col\": \"(5, 0)\", \"idx\": 47, \"val\": 6.0}, {\"col\": \"(7, 0)\", \"idx\": 47, \"val\": 7.0}, {\"col\": \"Teleportation\", \"idx\": 47, \"val\": 22.0}, {\"col\": \"(0, 1)\", \"idx\": 48, \"val\": 8.0}, {\"col\": \"(0, 2)\", \"idx\": 48, \"val\": 9.0}, {\"col\": \"(0, 4)\", \"idx\": 48, \"val\": 6.0}, {\"col\": \"(0, 6)\", \"idx\": 48, \"val\": 6.0}, {\"col\": \"(1, 2)\", \"idx\": 48, \"val\": 16.0}, {\"col\": \"(2, 0)\", \"idx\": 48, \"val\": 25.0}, {\"col\": \"(3, 1)\", \"idx\": 48, \"val\": 2.0}, {\"col\": \"(5, 0)\", \"idx\": 48, \"val\": 8.0}, {\"col\": \"(7, 0)\", \"idx\": 48, \"val\": 2.0}, {\"col\": \"Teleportation\", \"idx\": 48, \"val\": 17.0}, {\"col\": \"(0, 1)\", \"idx\": 49, \"val\": 7.0}, {\"col\": \"(0, 2)\", \"idx\": 49, \"val\": 9.0}, {\"col\": \"(0, 4)\", \"idx\": 49, \"val\": 8.0}, {\"col\": \"(0, 6)\", \"idx\": 49, \"val\": 9.0}, {\"col\": \"(1, 2)\", \"idx\": 49, \"val\": 11.0}, {\"col\": \"(2, 0)\", \"idx\": 49, \"val\": 30.0}, {\"col\": \"(3, 1)\", \"idx\": 49, \"val\": 5.0}, {\"col\": \"(5, 0)\", \"idx\": 49, \"val\": 2.0}, {\"col\": \"(7, 0)\", \"idx\": 49, \"val\": NaN}, {\"col\": \"Teleportation\", \"idx\": 49, \"val\": 15.0}, {\"col\": \"(0, 1)\", \"idx\": 50, \"val\": 10.0}, {\"col\": \"(0, 2)\", \"idx\": 50, \"val\": 6.0}, {\"col\": \"(0, 4)\", \"idx\": 50, \"val\": 5.0}, {\"col\": \"(0, 6)\", \"idx\": 50, \"val\": 6.0}, {\"col\": \"(1, 2)\", \"idx\": 50, \"val\": 16.0}, {\"col\": \"(2, 0)\", \"idx\": 50, \"val\": 21.0}, {\"col\": \"(3, 1)\", \"idx\": 50, \"val\": 1.0}, {\"col\": \"(5, 0)\", \"idx\": 50, \"val\": 1.0}, {\"col\": \"(7, 0)\", \"idx\": 50, \"val\": NaN}, {\"col\": \"Teleportation\", \"idx\": 50, \"val\": 23.0}, {\"col\": \"(0, 1)\", \"idx\": 51, \"val\": 5.0}, {\"col\": \"(0, 2)\", \"idx\": 51, \"val\": 5.0}, {\"col\": \"(0, 4)\", \"idx\": 51, \"val\": 3.0}, {\"col\": \"(0, 6)\", \"idx\": 51, \"val\": 9.0}, {\"col\": \"(1, 2)\", \"idx\": 51, \"val\": 11.0}, {\"col\": \"(2, 0)\", \"idx\": 51, \"val\": 22.0}, {\"col\": \"(3, 1)\", \"idx\": 51, \"val\": 5.0}, {\"col\": \"(5, 0)\", \"idx\": 51, \"val\": 6.0}, {\"col\": \"(7, 0)\", \"idx\": 51, \"val\": 2.0}, {\"col\": \"Teleportation\", \"idx\": 51, \"val\": 12.0}, {\"col\": \"(0, 1)\", \"idx\": 52, \"val\": 10.0}, {\"col\": \"(0, 2)\", \"idx\": 52, \"val\": 5.0}, {\"col\": \"(0, 4)\", \"idx\": 52, \"val\": 6.0}, {\"col\": \"(0, 6)\", \"idx\": 52, \"val\": 11.0}, {\"col\": \"(1, 2)\", \"idx\": 52, \"val\": 10.0}, {\"col\": \"(2, 0)\", \"idx\": 52, \"val\": 20.0}, {\"col\": \"(3, 1)\", \"idx\": 52, \"val\": NaN}, {\"col\": \"(5, 0)\", \"idx\": 52, \"val\": NaN}, {\"col\": \"(7, 0)\", \"idx\": 52, \"val\": 1.0}, {\"col\": \"Teleportation\", \"idx\": 52, \"val\": 13.0}, {\"col\": \"(0, 1)\", \"idx\": 53, \"val\": 2.0}, {\"col\": \"(0, 2)\", \"idx\": 53, \"val\": 6.0}, {\"col\": \"(0, 4)\", \"idx\": 53, \"val\": 8.0}, {\"col\": \"(0, 6)\", \"idx\": 53, \"val\": 6.0}, {\"col\": \"(1, 2)\", \"idx\": 53, \"val\": 12.0}, {\"col\": \"(2, 0)\", \"idx\": 53, \"val\": 17.0}, {\"col\": \"(3, 1)\", \"idx\": 53, \"val\": 1.0}, {\"col\": \"(5, 0)\", \"idx\": 53, \"val\": 3.0}, {\"col\": \"(7, 0)\", \"idx\": 53, \"val\": 1.0}, {\"col\": \"Teleportation\", \"idx\": 53, \"val\": 15.0}, {\"col\": \"(0, 1)\", \"idx\": 54, \"val\": 4.0}, {\"col\": \"(0, 2)\", \"idx\": 54, \"val\": 10.0}, {\"col\": \"(0, 4)\", \"idx\": 54, \"val\": 6.0}, {\"col\": \"(0, 6)\", \"idx\": 54, \"val\": 3.0}, {\"col\": \"(1, 2)\", \"idx\": 54, \"val\": 4.0}, {\"col\": \"(2, 0)\", \"idx\": 54, \"val\": 20.0}, {\"col\": \"(3, 1)\", \"idx\": 54, \"val\": 2.0}, {\"col\": \"(5, 0)\", \"idx\": 54, \"val\": 1.0}, {\"col\": \"(7, 0)\", \"idx\": 54, \"val\": 2.0}, {\"col\": \"Teleportation\", \"idx\": 54, \"val\": 19.0}, {\"col\": \"(0, 1)\", \"idx\": 55, \"val\": 5.0}, {\"col\": \"(0, 2)\", \"idx\": 55, \"val\": 7.0}, {\"col\": \"(0, 4)\", \"idx\": 55, \"val\": 3.0}, {\"col\": \"(0, 6)\", \"idx\": 55, \"val\": 9.0}, {\"col\": \"(1, 2)\", \"idx\": 55, \"val\": 8.0}, {\"col\": \"(2, 0)\", \"idx\": 55, \"val\": 15.0}, {\"col\": \"(3, 1)\", \"idx\": 55, \"val\": 1.0}, {\"col\": \"(5, 0)\", \"idx\": 55, \"val\": 1.0}, {\"col\": \"(7, 0)\", \"idx\": 55, \"val\": 4.0}, {\"col\": \"Teleportation\", \"idx\": 55, \"val\": 14.0}, {\"col\": \"(0, 1)\", \"idx\": 56, \"val\": 6.0}, {\"col\": \"(0, 2)\", \"idx\": 56, \"val\": 6.0}, {\"col\": \"(0, 4)\", \"idx\": 56, \"val\": 5.0}, {\"col\": \"(0, 6)\", \"idx\": 56, \"val\": 4.0}, {\"col\": \"(1, 2)\", \"idx\": 56, \"val\": 7.0}, {\"col\": \"(2, 0)\", \"idx\": 56, \"val\": 16.0}, {\"col\": \"(3, 1)\", \"idx\": 56, \"val\": 1.0}, {\"col\": \"(5, 0)\", \"idx\": 56, \"val\": 2.0}, {\"col\": \"(7, 0)\", \"idx\": 56, \"val\": 1.0}, {\"col\": \"Teleportation\", \"idx\": 56, \"val\": 15.0}, {\"col\": \"(0, 1)\", \"idx\": 57, \"val\": 6.0}, {\"col\": \"(0, 2)\", \"idx\": 57, \"val\": 4.0}, {\"col\": \"(0, 4)\", \"idx\": 57, \"val\": 5.0}, {\"col\": \"(0, 6)\", \"idx\": 57, \"val\": 3.0}, {\"col\": \"(1, 2)\", \"idx\": 57, \"val\": 10.0}, {\"col\": \"(2, 0)\", \"idx\": 57, \"val\": 13.0}, {\"col\": \"(3, 1)\", \"idx\": 57, \"val\": 2.0}, {\"col\": \"(5, 0)\", \"idx\": 57, \"val\": 1.0}, {\"col\": \"(7, 0)\", \"idx\": 57, \"val\": 2.0}, {\"col\": \"Teleportation\", \"idx\": 57, \"val\": 13.0}, {\"col\": \"(0, 1)\", \"idx\": 58, \"val\": 2.0}, {\"col\": \"(0, 2)\", \"idx\": 58, \"val\": 7.0}, {\"col\": \"(0, 4)\", \"idx\": 58, \"val\": 5.0}, {\"col\": \"(0, 6)\", \"idx\": 58, \"val\": 5.0}, {\"col\": \"(1, 2)\", \"idx\": 58, \"val\": 10.0}, {\"col\": \"(2, 0)\", \"idx\": 58, \"val\": 14.0}, {\"col\": \"(3, 1)\", \"idx\": 58, \"val\": 3.0}, {\"col\": \"(5, 0)\", \"idx\": 58, \"val\": 1.0}, {\"col\": \"(7, 0)\", \"idx\": 58, \"val\": 1.0}, {\"col\": \"Teleportation\", \"idx\": 58, \"val\": 8.0}, {\"col\": \"(0, 1)\", \"idx\": 59, \"val\": 5.0}, {\"col\": \"(0, 2)\", \"idx\": 59, \"val\": 2.0}, {\"col\": \"(0, 4)\", \"idx\": 59, \"val\": 8.0}, {\"col\": \"(0, 6)\", \"idx\": 59, \"val\": 1.0}, {\"col\": \"(1, 2)\", \"idx\": 59, \"val\": 6.0}, {\"col\": \"(2, 0)\", \"idx\": 59, \"val\": 17.0}, {\"col\": \"(3, 1)\", \"idx\": 59, \"val\": 2.0}, {\"col\": \"(5, 0)\", \"idx\": 59, \"val\": NaN}, {\"col\": \"(7, 0)\", \"idx\": 59, \"val\": 1.0}, {\"col\": \"Teleportation\", \"idx\": 59, \"val\": 11.0}, {\"col\": \"(0, 1)\", \"idx\": 60, \"val\": 8.0}, {\"col\": \"(0, 2)\", \"idx\": 60, \"val\": 3.0}, {\"col\": \"(0, 4)\", \"idx\": 60, \"val\": 4.0}, {\"col\": \"(0, 6)\", \"idx\": 60, \"val\": 3.0}, {\"col\": \"(1, 2)\", \"idx\": 60, \"val\": 11.0}, {\"col\": \"(2, 0)\", \"idx\": 60, \"val\": 9.0}, {\"col\": \"(3, 1)\", \"idx\": 60, \"val\": 2.0}, {\"col\": \"(5, 0)\", \"idx\": 60, \"val\": 2.0}, {\"col\": \"(7, 0)\", \"idx\": 60, \"val\": 1.0}, {\"col\": \"Teleportation\", \"idx\": 60, \"val\": 9.0}, {\"col\": \"(0, 1)\", \"idx\": 61, \"val\": 2.0}, {\"col\": \"(0, 2)\", \"idx\": 61, \"val\": 2.0}, {\"col\": \"(0, 4)\", \"idx\": 61, \"val\": 8.0}, {\"col\": \"(0, 6)\", \"idx\": 61, \"val\": 2.0}, {\"col\": \"(1, 2)\", \"idx\": 61, \"val\": 10.0}, {\"col\": \"(2, 0)\", \"idx\": 61, \"val\": 15.0}, {\"col\": \"(3, 1)\", \"idx\": 61, \"val\": 1.0}, {\"col\": \"(5, 0)\", \"idx\": 61, \"val\": 3.0}, {\"col\": \"(7, 0)\", \"idx\": 61, \"val\": 1.0}, {\"col\": \"Teleportation\", \"idx\": 61, \"val\": 7.0}, {\"col\": \"(0, 1)\", \"idx\": 62, \"val\": 2.0}, {\"col\": \"(0, 2)\", \"idx\": 62, \"val\": 5.0}, {\"col\": \"(0, 4)\", \"idx\": 62, \"val\": 6.0}, {\"col\": \"(0, 6)\", \"idx\": 62, \"val\": 6.0}, {\"col\": \"(1, 2)\", \"idx\": 62, \"val\": 4.0}, {\"col\": \"(2, 0)\", \"idx\": 62, \"val\": 12.0}, {\"col\": \"(3, 1)\", \"idx\": 62, \"val\": 2.0}, {\"col\": \"(5, 0)\", \"idx\": 62, \"val\": 1.0}, {\"col\": \"(7, 0)\", \"idx\": 62, \"val\": 1.0}, {\"col\": \"Teleportation\", \"idx\": 62, \"val\": 11.0}, {\"col\": \"(0, 1)\", \"idx\": 63, \"val\": 4.0}, {\"col\": \"(0, 2)\", \"idx\": 63, \"val\": 5.0}, {\"col\": \"(0, 4)\", \"idx\": 63, \"val\": 3.0}, {\"col\": \"(0, 6)\", \"idx\": 63, \"val\": 2.0}, {\"col\": \"(1, 2)\", \"idx\": 63, \"val\": 7.0}, {\"col\": \"(2, 0)\", \"idx\": 63, \"val\": 8.0}, {\"col\": \"(3, 1)\", \"idx\": 63, \"val\": 1.0}, {\"col\": \"(5, 0)\", \"idx\": 63, \"val\": 1.0}, {\"col\": \"(7, 0)\", \"idx\": 63, \"val\": 1.0}, {\"col\": \"Teleportation\", \"idx\": 63, \"val\": 13.0}, {\"col\": \"(0, 1)\", \"idx\": 64, \"val\": 3.0}, {\"col\": \"(0, 2)\", \"idx\": 64, \"val\": 5.0}, {\"col\": \"(0, 4)\", \"idx\": 64, \"val\": 3.0}, {\"col\": \"(0, 6)\", \"idx\": 64, \"val\": 2.0}, {\"col\": \"(1, 2)\", \"idx\": 64, \"val\": 7.0}, {\"col\": \"(2, 0)\", \"idx\": 64, \"val\": 11.0}, {\"col\": \"(3, 1)\", \"idx\": 64, \"val\": 2.0}, {\"col\": \"(5, 0)\", \"idx\": 64, \"val\": 2.0}, {\"col\": \"(7, 0)\", \"idx\": 64, \"val\": 1.0}, {\"col\": \"Teleportation\", \"idx\": 64, \"val\": 8.0}, {\"col\": \"(0, 1)\", \"idx\": 65, \"val\": 6.0}, {\"col\": \"(0, 2)\", \"idx\": 65, \"val\": 3.0}, {\"col\": \"(0, 4)\", \"idx\": 65, \"val\": 1.0}, {\"col\": \"(0, 6)\", \"idx\": 65, \"val\": 2.0}, {\"col\": \"(1, 2)\", \"idx\": 65, \"val\": 5.0}, {\"col\": \"(2, 0)\", \"idx\": 65, \"val\": 14.0}, {\"col\": \"(3, 1)\", \"idx\": 65, \"val\": 1.0}, {\"col\": \"(5, 0)\", \"idx\": 65, \"val\": NaN}, {\"col\": \"(7, 0)\", \"idx\": 65, \"val\": 1.0}, {\"col\": \"Teleportation\", \"idx\": 65, \"val\": 5.0}, {\"col\": \"(0, 1)\", \"idx\": 66, \"val\": 5.0}, {\"col\": \"(0, 2)\", \"idx\": 66, \"val\": 1.0}, {\"col\": \"(0, 4)\", \"idx\": 66, \"val\": 6.0}, {\"col\": \"(0, 6)\", \"idx\": 66, \"val\": 3.0}, {\"col\": \"(1, 2)\", \"idx\": 66, \"val\": 8.0}, {\"col\": \"(2, 0)\", \"idx\": 66, \"val\": 8.0}, {\"col\": \"(3, 1)\", \"idx\": 66, \"val\": NaN}, {\"col\": \"(5, 0)\", \"idx\": 66, \"val\": 1.0}, {\"col\": \"(7, 0)\", \"idx\": 66, \"val\": NaN}, {\"col\": \"Teleportation\", \"idx\": 66, \"val\": 5.0}, {\"col\": \"(0, 1)\", \"idx\": 67, \"val\": 1.0}, {\"col\": \"(0, 2)\", \"idx\": 67, \"val\": 3.0}, {\"col\": \"(0, 4)\", \"idx\": 67, \"val\": 1.0}, {\"col\": \"(0, 6)\", \"idx\": 67, \"val\": 3.0}, {\"col\": \"(1, 2)\", \"idx\": 67, \"val\": 7.0}, {\"col\": \"(2, 0)\", \"idx\": 67, \"val\": 9.0}, {\"col\": \"(3, 1)\", \"idx\": 67, \"val\": 1.0}, {\"col\": \"(5, 0)\", \"idx\": 67, \"val\": NaN}, {\"col\": \"(7, 0)\", \"idx\": 67, \"val\": NaN}, {\"col\": \"Teleportation\", \"idx\": 67, \"val\": 10.0}, {\"col\": \"(0, 1)\", \"idx\": 68, \"val\": 3.0}, {\"col\": \"(0, 2)\", \"idx\": 68, \"val\": 3.0}, {\"col\": \"(0, 4)\", \"idx\": 68, \"val\": 1.0}, {\"col\": \"(0, 6)\", \"idx\": 68, \"val\": 4.0}, {\"col\": \"(1, 2)\", \"idx\": 68, \"val\": 3.0}, {\"col\": \"(2, 0)\", \"idx\": 68, \"val\": 10.0}, {\"col\": \"(3, 1)\", \"idx\": 68, \"val\": NaN}, {\"col\": \"(5, 0)\", \"idx\": 68, \"val\": 2.0}, {\"col\": \"(7, 0)\", \"idx\": 68, \"val\": 1.0}, {\"col\": \"Teleportation\", \"idx\": 68, \"val\": 8.0}, {\"col\": \"(0, 1)\", \"idx\": 69, \"val\": 2.0}, {\"col\": \"(0, 2)\", \"idx\": 69, \"val\": 6.0}, {\"col\": \"(0, 4)\", \"idx\": 69, \"val\": 5.0}, {\"col\": \"(0, 6)\", \"idx\": 69, \"val\": 1.0}, {\"col\": \"(1, 2)\", \"idx\": 69, \"val\": 4.0}, {\"col\": \"(2, 0)\", \"idx\": 69, \"val\": 6.0}, {\"col\": \"(3, 1)\", \"idx\": 69, \"val\": 1.0}, {\"col\": \"(5, 0)\", \"idx\": 69, \"val\": NaN}, {\"col\": \"(7, 0)\", \"idx\": 69, \"val\": 1.0}, {\"col\": \"Teleportation\", \"idx\": 69, \"val\": 9.0}, {\"col\": \"(0, 1)\", \"idx\": 70, \"val\": 3.0}, {\"col\": \"(0, 2)\", \"idx\": 70, \"val\": 1.0}, {\"col\": \"(0, 4)\", \"idx\": 70, \"val\": 3.0}, {\"col\": \"(0, 6)\", \"idx\": 70, \"val\": 1.0}, {\"col\": \"(1, 2)\", \"idx\": 70, \"val\": 4.0}, {\"col\": \"(2, 0)\", \"idx\": 70, \"val\": 13.0}, {\"col\": \"(3, 1)\", \"idx\": 70, \"val\": 2.0}, {\"col\": \"(5, 0)\", \"idx\": 70, \"val\": NaN}, {\"col\": \"(7, 0)\", \"idx\": 70, \"val\": NaN}, {\"col\": \"Teleportation\", \"idx\": 70, \"val\": 7.0}, {\"col\": \"(0, 1)\", \"idx\": 71, \"val\": 3.0}, {\"col\": \"(0, 2)\", \"idx\": 71, \"val\": 3.0}, {\"col\": \"(0, 4)\", \"idx\": 71, \"val\": 7.0}, {\"col\": \"(0, 6)\", \"idx\": 71, \"val\": 1.0}, {\"col\": \"(1, 2)\", \"idx\": 71, \"val\": 5.0}, {\"col\": \"(2, 0)\", \"idx\": 71, \"val\": 6.0}, {\"col\": \"(3, 1)\", \"idx\": 71, \"val\": 1.0}, {\"col\": \"(5, 0)\", \"idx\": 71, \"val\": 1.0}, {\"col\": \"(7, 0)\", \"idx\": 71, \"val\": 3.0}, {\"col\": \"Teleportation\", \"idx\": 71, \"val\": 4.0}, {\"col\": \"(0, 1)\", \"idx\": 72, \"val\": 2.0}, {\"col\": \"(0, 2)\", \"idx\": 72, \"val\": 1.0}, {\"col\": \"(0, 4)\", \"idx\": 72, \"val\": NaN}, {\"col\": \"(0, 6)\", \"idx\": 72, \"val\": 5.0}, {\"col\": \"(1, 2)\", \"idx\": 72, \"val\": 4.0}, {\"col\": \"(2, 0)\", \"idx\": 72, \"val\": 8.0}, {\"col\": \"(3, 1)\", \"idx\": 72, \"val\": NaN}, {\"col\": \"(5, 0)\", \"idx\": 72, \"val\": 2.0}, {\"col\": \"(7, 0)\", \"idx\": 72, \"val\": NaN}, {\"col\": \"Teleportation\", \"idx\": 72, \"val\": 10.0}, {\"col\": \"(0, 1)\", \"idx\": 73, \"val\": 1.0}, {\"col\": \"(0, 2)\", \"idx\": 73, \"val\": 2.0}, {\"col\": \"(0, 4)\", \"idx\": 73, \"val\": 4.0}, {\"col\": \"(0, 6)\", \"idx\": 73, \"val\": 2.0}, {\"col\": \"(1, 2)\", \"idx\": 73, \"val\": 3.0}, {\"col\": \"(2, 0)\", \"idx\": 73, \"val\": 7.0}, {\"col\": \"(3, 1)\", \"idx\": 73, \"val\": 1.0}, {\"col\": \"(5, 0)\", \"idx\": 73, \"val\": 1.0}, {\"col\": \"(7, 0)\", \"idx\": 73, \"val\": 1.0}, {\"col\": \"Teleportation\", \"idx\": 73, \"val\": 8.0}, {\"col\": \"(0, 1)\", \"idx\": 74, \"val\": 1.0}, {\"col\": \"(0, 2)\", \"idx\": 74, \"val\": 6.0}, {\"col\": \"(0, 4)\", \"idx\": 74, \"val\": 3.0}, {\"col\": \"(0, 6)\", \"idx\": 74, \"val\": 1.0}, {\"col\": \"(1, 2)\", \"idx\": 74, \"val\": 3.0}, {\"col\": \"(2, 0)\", \"idx\": 74, \"val\": 7.0}, {\"col\": \"(3, 1)\", \"idx\": 74, \"val\": NaN}, {\"col\": \"(5, 0)\", \"idx\": 74, \"val\": 2.0}, {\"col\": \"(7, 0)\", \"idx\": 74, \"val\": 1.0}, {\"col\": \"Teleportation\", \"idx\": 74, \"val\": 5.0}, {\"col\": \"(0, 1)\", \"idx\": 75, \"val\": 6.0}, {\"col\": \"(0, 2)\", \"idx\": 75, \"val\": 1.0}, {\"col\": \"(0, 4)\", \"idx\": 75, \"val\": 1.0}, {\"col\": \"(0, 6)\", \"idx\": 75, \"val\": 3.0}, {\"col\": \"(1, 2)\", \"idx\": 75, \"val\": 2.0}, {\"col\": \"(2, 0)\", \"idx\": 75, \"val\": 10.0}, {\"col\": \"(3, 1)\", \"idx\": 75, \"val\": NaN}, {\"col\": \"(5, 0)\", \"idx\": 75, \"val\": NaN}, {\"col\": \"(7, 0)\", \"idx\": 75, \"val\": NaN}, {\"col\": \"Teleportation\", \"idx\": 75, \"val\": 5.0}, {\"col\": \"(0, 1)\", \"idx\": 76, \"val\": 3.0}, {\"col\": \"(0, 2)\", \"idx\": 76, \"val\": 2.0}, {\"col\": \"(0, 4)\", \"idx\": 76, \"val\": 2.0}, {\"col\": \"(0, 6)\", \"idx\": 76, \"val\": 3.0}, {\"col\": \"(1, 2)\", \"idx\": 76, \"val\": 5.0}, {\"col\": \"(2, 0)\", \"idx\": 76, \"val\": 4.0}, {\"col\": \"(3, 1)\", \"idx\": 76, \"val\": NaN}, {\"col\": \"(5, 0)\", \"idx\": 76, \"val\": 1.0}, {\"col\": \"(7, 0)\", \"idx\": 76, \"val\": 1.0}, {\"col\": \"Teleportation\", \"idx\": 76, \"val\": 5.0}, {\"col\": \"(0, 1)\", \"idx\": 77, \"val\": 3.0}, {\"col\": \"(0, 2)\", \"idx\": 77, \"val\": 1.0}, {\"col\": \"(0, 4)\", \"idx\": 77, \"val\": NaN}, {\"col\": \"(0, 6)\", \"idx\": 77, \"val\": 3.0}, {\"col\": \"(1, 2)\", \"idx\": 77, \"val\": 3.0}, {\"col\": \"(2, 0)\", \"idx\": 77, \"val\": 8.0}, {\"col\": \"(3, 1)\", \"idx\": 77, \"val\": 2.0}, {\"col\": \"(5, 0)\", \"idx\": 77, \"val\": NaN}, {\"col\": \"(7, 0)\", \"idx\": 77, \"val\": NaN}, {\"col\": \"Teleportation\", \"idx\": 77, \"val\": 6.0}, {\"col\": \"(0, 1)\", \"idx\": 78, \"val\": 4.0}, {\"col\": \"(0, 2)\", \"idx\": 78, \"val\": 2.0}, {\"col\": \"(0, 4)\", \"idx\": 78, \"val\": NaN}, {\"col\": \"(0, 6)\", \"idx\": 78, \"val\": 2.0}, {\"col\": \"(1, 2)\", \"idx\": 78, \"val\": 6.0}, {\"col\": \"(2, 0)\", \"idx\": 78, \"val\": 5.0}, {\"col\": \"(3, 1)\", \"idx\": 78, \"val\": NaN}, {\"col\": \"(5, 0)\", \"idx\": 78, \"val\": NaN}, {\"col\": \"(7, 0)\", \"idx\": 78, \"val\": 2.0}, {\"col\": \"Teleportation\", \"idx\": 78, \"val\": 4.0}, {\"col\": \"(0, 1)\", \"idx\": 79, \"val\": 3.0}, {\"col\": \"(0, 2)\", \"idx\": 79, \"val\": NaN}, {\"col\": \"(0, 4)\", \"idx\": 79, \"val\": 2.0}, {\"col\": \"(0, 6)\", \"idx\": 79, \"val\": 2.0}, {\"col\": \"(1, 2)\", \"idx\": 79, \"val\": 4.0}, {\"col\": \"(2, 0)\", \"idx\": 79, \"val\": 8.0}, {\"col\": \"(3, 1)\", \"idx\": 79, \"val\": NaN}, {\"col\": \"(5, 0)\", \"idx\": 79, \"val\": NaN}, {\"col\": \"(7, 0)\", \"idx\": 79, \"val\": 2.0}, {\"col\": \"Teleportation\", \"idx\": 79, \"val\": 4.0}, {\"col\": \"(0, 1)\", \"idx\": 80, \"val\": 1.0}, {\"col\": \"(0, 2)\", \"idx\": 80, \"val\": 4.0}, {\"col\": \"(0, 4)\", \"idx\": 80, \"val\": 1.0}, {\"col\": \"(0, 6)\", \"idx\": 80, \"val\": 4.0}, {\"col\": \"(1, 2)\", \"idx\": 80, \"val\": 3.0}, {\"col\": \"(2, 0)\", \"idx\": 80, \"val\": 4.0}, {\"col\": \"(3, 1)\", \"idx\": 80, \"val\": NaN}, {\"col\": \"(5, 0)\", \"idx\": 80, \"val\": 1.0}, {\"col\": \"(7, 0)\", \"idx\": 80, \"val\": 1.0}, {\"col\": \"Teleportation\", \"idx\": 80, \"val\": 5.0}, {\"col\": \"(0, 1)\", \"idx\": 81, \"val\": 1.0}, {\"col\": \"(0, 2)\", \"idx\": 81, \"val\": NaN}, {\"col\": \"(0, 4)\", \"idx\": 81, \"val\": 1.0}, {\"col\": \"(0, 6)\", \"idx\": 81, \"val\": 3.0}, {\"col\": \"(1, 2)\", \"idx\": 81, \"val\": 2.0}, {\"col\": \"(2, 0)\", \"idx\": 81, \"val\": 7.0}, {\"col\": \"(3, 1)\", \"idx\": 81, \"val\": NaN}, {\"col\": \"(5, 0)\", \"idx\": 81, \"val\": NaN}, {\"col\": \"(7, 0)\", \"idx\": 81, \"val\": NaN}, {\"col\": \"Teleportation\", \"idx\": 81, \"val\": 7.0}, {\"col\": \"(0, 1)\", \"idx\": 82, \"val\": 3.0}, {\"col\": \"(0, 2)\", \"idx\": 82, \"val\": 3.0}, {\"col\": \"(0, 4)\", \"idx\": 82, \"val\": 1.0}, {\"col\": \"(0, 6)\", \"idx\": 82, \"val\": NaN}, {\"col\": \"(1, 2)\", \"idx\": 82, \"val\": 4.0}, {\"col\": \"(2, 0)\", \"idx\": 82, \"val\": 2.0}, {\"col\": \"(3, 1)\", \"idx\": 82, \"val\": NaN}, {\"col\": \"(5, 0)\", \"idx\": 82, \"val\": NaN}, {\"col\": \"(7, 0)\", \"idx\": 82, \"val\": NaN}, {\"col\": \"Teleportation\", \"idx\": 82, \"val\": 7.0}, {\"col\": \"(0, 1)\", \"idx\": 83, \"val\": 1.0}, {\"col\": \"(0, 2)\", \"idx\": 83, \"val\": NaN}, {\"col\": \"(0, 4)\", \"idx\": 83, \"val\": NaN}, {\"col\": \"(0, 6)\", \"idx\": 83, \"val\": 1.0}, {\"col\": \"(1, 2)\", \"idx\": 83, \"val\": 5.0}, {\"col\": \"(2, 0)\", \"idx\": 83, \"val\": 8.0}, {\"col\": \"(3, 1)\", \"idx\": 83, \"val\": NaN}, {\"col\": \"(5, 0)\", \"idx\": 83, \"val\": 1.0}, {\"col\": \"(7, 0)\", \"idx\": 83, \"val\": 1.0}, {\"col\": \"Teleportation\", \"idx\": 83, \"val\": 2.0}, {\"col\": \"(0, 1)\", \"idx\": 84, \"val\": 3.0}, {\"col\": \"(0, 2)\", \"idx\": 84, \"val\": 2.0}, {\"col\": \"(0, 4)\", \"idx\": 84, \"val\": 3.0}, {\"col\": \"(0, 6)\", \"idx\": 84, \"val\": 2.0}, {\"col\": \"(1, 2)\", \"idx\": 84, \"val\": 1.0}, {\"col\": \"(2, 0)\", \"idx\": 84, \"val\": 4.0}, {\"col\": \"(3, 1)\", \"idx\": 84, \"val\": NaN}, {\"col\": \"(5, 0)\", \"idx\": 84, \"val\": NaN}, {\"col\": \"(7, 0)\", \"idx\": 84, \"val\": NaN}, {\"col\": \"Teleportation\", \"idx\": 84, \"val\": 1.0}, {\"col\": \"(0, 1)\", \"idx\": 85, \"val\": 3.0}, {\"col\": \"(0, 2)\", \"idx\": 85, \"val\": 1.0}, {\"col\": \"(0, 4)\", \"idx\": 85, \"val\": NaN}, {\"col\": \"(0, 6)\", \"idx\": 85, \"val\": NaN}, {\"col\": \"(1, 2)\", \"idx\": 85, \"val\": 3.0}, {\"col\": \"(2, 0)\", \"idx\": 85, \"val\": 3.0}, {\"col\": \"(3, 1)\", \"idx\": 85, \"val\": 1.0}, {\"col\": \"(5, 0)\", \"idx\": 85, \"val\": NaN}, {\"col\": \"(7, 0)\", \"idx\": 85, \"val\": NaN}, {\"col\": \"Teleportation\", \"idx\": 85, \"val\": 5.0}, {\"col\": \"(0, 1)\", \"idx\": 86, \"val\": NaN}, {\"col\": \"(0, 2)\", \"idx\": 86, \"val\": 3.0}, {\"col\": \"(0, 4)\", \"idx\": 86, \"val\": 1.0}, {\"col\": \"(0, 6)\", \"idx\": 86, \"val\": NaN}, {\"col\": \"(1, 2)\", \"idx\": 86, \"val\": 4.0}, {\"col\": \"(2, 0)\", \"idx\": 86, \"val\": 4.0}, {\"col\": \"(3, 1)\", \"idx\": 86, \"val\": NaN}, {\"col\": \"(5, 0)\", \"idx\": 86, \"val\": 2.0}, {\"col\": \"(7, 0)\", \"idx\": 86, \"val\": NaN}, {\"col\": \"Teleportation\", \"idx\": 86, \"val\": 2.0}, {\"col\": \"(0, 1)\", \"idx\": 87, \"val\": NaN}, {\"col\": \"(0, 2)\", \"idx\": 87, \"val\": NaN}, {\"col\": \"(0, 4)\", \"idx\": 87, \"val\": 5.0}, {\"col\": \"(0, 6)\", \"idx\": 87, \"val\": 2.0}, {\"col\": \"(1, 2)\", \"idx\": 87, \"val\": NaN}, {\"col\": \"(2, 0)\", \"idx\": 87, \"val\": 6.0}, {\"col\": \"(3, 1)\", \"idx\": 87, \"val\": NaN}, {\"col\": \"(5, 0)\", \"idx\": 87, \"val\": NaN}, {\"col\": \"(7, 0)\", \"idx\": 87, \"val\": NaN}, {\"col\": \"Teleportation\", \"idx\": 87, \"val\": 1.0}, {\"col\": \"(0, 1)\", \"idx\": 88, \"val\": 3.0}, {\"col\": \"(0, 2)\", \"idx\": 88, \"val\": 1.0}, {\"col\": \"(0, 4)\", \"idx\": 88, \"val\": 1.0}, {\"col\": \"(0, 6)\", \"idx\": 88, \"val\": 1.0}, {\"col\": \"(1, 2)\", \"idx\": 88, \"val\": NaN}, {\"col\": \"(2, 0)\", \"idx\": 88, \"val\": NaN}, {\"col\": \"(3, 1)\", \"idx\": 88, \"val\": NaN}, {\"col\": \"(5, 0)\", \"idx\": 88, \"val\": NaN}, {\"col\": \"(7, 0)\", \"idx\": 88, \"val\": NaN}, {\"col\": \"Teleportation\", \"idx\": 88, \"val\": 7.0}, {\"col\": \"(0, 1)\", \"idx\": 89, \"val\": 1.0}, {\"col\": \"(0, 2)\", \"idx\": 89, \"val\": NaN}, {\"col\": \"(0, 4)\", \"idx\": 89, \"val\": NaN}, {\"col\": \"(0, 6)\", \"idx\": 89, \"val\": NaN}, {\"col\": \"(1, 2)\", \"idx\": 89, \"val\": 4.0}, {\"col\": \"(2, 0)\", \"idx\": 89, \"val\": 1.0}, {\"col\": \"(3, 1)\", \"idx\": 89, \"val\": 1.0}, {\"col\": \"(5, 0)\", \"idx\": 89, \"val\": 1.0}, {\"col\": \"(7, 0)\", \"idx\": 89, \"val\": 3.0}, {\"col\": \"Teleportation\", \"idx\": 89, \"val\": 2.0}, {\"col\": \"(0, 1)\", \"idx\": 90, \"val\": 1.0}, {\"col\": \"(0, 2)\", \"idx\": 90, \"val\": 2.0}, {\"col\": \"(0, 4)\", \"idx\": 90, \"val\": NaN}, {\"col\": \"(0, 6)\", \"idx\": 90, \"val\": 2.0}, {\"col\": \"(1, 2)\", \"idx\": 90, \"val\": 2.0}, {\"col\": \"(2, 0)\", \"idx\": 90, \"val\": 5.0}, {\"col\": \"(3, 1)\", \"idx\": 90, \"val\": NaN}, {\"col\": \"(5, 0)\", \"idx\": 90, \"val\": NaN}, {\"col\": \"(7, 0)\", \"idx\": 90, \"val\": 1.0}, {\"col\": \"Teleportation\", \"idx\": 90, \"val\": NaN}, {\"col\": \"(0, 1)\", \"idx\": 91, \"val\": 1.0}, {\"col\": \"(0, 2)\", \"idx\": 91, \"val\": NaN}, {\"col\": \"(0, 4)\", \"idx\": 91, \"val\": 4.0}, {\"col\": \"(0, 6)\", \"idx\": 91, \"val\": 1.0}, {\"col\": \"(1, 2)\", \"idx\": 91, \"val\": 1.0}, {\"col\": \"(2, 0)\", \"idx\": 91, \"val\": 4.0}, {\"col\": \"(3, 1)\", \"idx\": 91, \"val\": NaN}, {\"col\": \"(5, 0)\", \"idx\": 91, \"val\": NaN}, {\"col\": \"(7, 0)\", \"idx\": 91, \"val\": NaN}, {\"col\": \"Teleportation\", \"idx\": 91, \"val\": 2.0}, {\"col\": \"(0, 1)\", \"idx\": 92, \"val\": 1.0}, {\"col\": \"(0, 2)\", \"idx\": 92, \"val\": 1.0}, {\"col\": \"(0, 4)\", \"idx\": 92, \"val\": NaN}, {\"col\": \"(0, 6)\", \"idx\": 92, \"val\": 1.0}, {\"col\": \"(1, 2)\", \"idx\": 92, \"val\": 1.0}, {\"col\": \"(2, 0)\", \"idx\": 92, \"val\": 1.0}, {\"col\": \"(3, 1)\", \"idx\": 92, \"val\": NaN}, {\"col\": \"(5, 0)\", \"idx\": 92, \"val\": 1.0}, {\"col\": \"(7, 0)\", \"idx\": 92, \"val\": NaN}, {\"col\": \"Teleportation\", \"idx\": 92, \"val\": 6.0}, {\"col\": \"(0, 1)\", \"idx\": 93, \"val\": NaN}, {\"col\": \"(0, 2)\", \"idx\": 93, \"val\": 1.0}, {\"col\": \"(0, 4)\", \"idx\": 93, \"val\": NaN}, {\"col\": \"(0, 6)\", \"idx\": 93, \"val\": 1.0}, {\"col\": \"(1, 2)\", \"idx\": 93, \"val\": 2.0}, {\"col\": \"(2, 0)\", \"idx\": 93, \"val\": 3.0}, {\"col\": \"(3, 1)\", \"idx\": 93, \"val\": 1.0}, {\"col\": \"(5, 0)\", \"idx\": 93, \"val\": 2.0}, {\"col\": \"(7, 0)\", \"idx\": 93, \"val\": NaN}, {\"col\": \"Teleportation\", \"idx\": 93, \"val\": 2.0}, {\"col\": \"(0, 1)\", \"idx\": 94, \"val\": NaN}, {\"col\": \"(0, 2)\", \"idx\": 94, \"val\": 3.0}, {\"col\": \"(0, 4)\", \"idx\": 94, \"val\": 1.0}, {\"col\": \"(0, 6)\", \"idx\": 94, \"val\": 1.0}, {\"col\": \"(1, 2)\", \"idx\": 94, \"val\": 1.0}, {\"col\": \"(2, 0)\", \"idx\": 94, \"val\": 3.0}, {\"col\": \"(3, 1)\", \"idx\": 94, \"val\": NaN}, {\"col\": \"(5, 0)\", \"idx\": 94, \"val\": NaN}, {\"col\": \"(7, 0)\", \"idx\": 94, \"val\": 2.0}, {\"col\": \"Teleportation\", \"idx\": 94, \"val\": 1.0}, {\"col\": \"(0, 1)\", \"idx\": 95, \"val\": 1.0}, {\"col\": \"(0, 2)\", \"idx\": 95, \"val\": 1.0}, {\"col\": \"(0, 4)\", \"idx\": 95, \"val\": 1.0}, {\"col\": \"(0, 6)\", \"idx\": 95, \"val\": 1.0}, {\"col\": \"(1, 2)\", \"idx\": 95, \"val\": NaN}, {\"col\": \"(2, 0)\", \"idx\": 95, \"val\": 4.0}, {\"col\": \"(3, 1)\", \"idx\": 95, \"val\": 1.0}, {\"col\": \"(5, 0)\", \"idx\": 95, \"val\": NaN}, {\"col\": \"(7, 0)\", \"idx\": 95, \"val\": NaN}, {\"col\": \"Teleportation\", \"idx\": 95, \"val\": 2.0}, {\"col\": \"(0, 1)\", \"idx\": 96, \"val\": NaN}, {\"col\": \"(0, 2)\", \"idx\": 96, \"val\": 2.0}, {\"col\": \"(0, 4)\", \"idx\": 96, \"val\": 3.0}, {\"col\": \"(0, 6)\", \"idx\": 96, \"val\": NaN}, {\"col\": \"(1, 2)\", \"idx\": 96, \"val\": 2.0}, {\"col\": \"(2, 0)\", \"idx\": 96, \"val\": 1.0}, {\"col\": \"(3, 1)\", \"idx\": 96, \"val\": NaN}, {\"col\": \"(5, 0)\", \"idx\": 96, \"val\": NaN}, {\"col\": \"(7, 0)\", \"idx\": 96, \"val\": NaN}, {\"col\": \"Teleportation\", \"idx\": 96, \"val\": 3.0}, {\"col\": \"(0, 1)\", \"idx\": 97, \"val\": NaN}, {\"col\": \"(0, 2)\", \"idx\": 97, \"val\": NaN}, {\"col\": \"(0, 4)\", \"idx\": 97, \"val\": NaN}, {\"col\": \"(0, 6)\", \"idx\": 97, \"val\": 1.0}, {\"col\": \"(1, 2)\", \"idx\": 97, \"val\": NaN}, {\"col\": \"(2, 0)\", \"idx\": 97, \"val\": 4.0}, {\"col\": \"(3, 1)\", \"idx\": 97, \"val\": NaN}, {\"col\": \"(5, 0)\", \"idx\": 97, \"val\": 2.0}, {\"col\": \"(7, 0)\", \"idx\": 97, \"val\": NaN}, {\"col\": \"Teleportation\", \"idx\": 97, \"val\": 4.0}, {\"col\": \"(0, 1)\", \"idx\": 98, \"val\": 2.0}, {\"col\": \"(0, 2)\", \"idx\": 98, \"val\": NaN}, {\"col\": \"(0, 4)\", \"idx\": 98, \"val\": 4.0}, {\"col\": \"(0, 6)\", \"idx\": 98, \"val\": 1.0}, {\"col\": \"(1, 2)\", \"idx\": 98, \"val\": NaN}, {\"col\": \"(2, 0)\", \"idx\": 98, \"val\": NaN}, {\"col\": \"(3, 1)\", \"idx\": 98, \"val\": NaN}, {\"col\": \"(5, 0)\", \"idx\": 98, \"val\": NaN}, {\"col\": \"(7, 0)\", \"idx\": 98, \"val\": 1.0}, {\"col\": \"Teleportation\", \"idx\": 98, \"val\": 3.0}, {\"col\": \"(0, 1)\", \"idx\": 99, \"val\": NaN}, {\"col\": \"(0, 2)\", \"idx\": 99, \"val\": 1.0}, {\"col\": \"(0, 4)\", \"idx\": 99, \"val\": NaN}, {\"col\": \"(0, 6)\", \"idx\": 99, \"val\": NaN}, {\"col\": \"(1, 2)\", \"idx\": 99, \"val\": 2.0}, {\"col\": \"(2, 0)\", \"idx\": 99, \"val\": 1.0}, {\"col\": \"(3, 1)\", \"idx\": 99, \"val\": NaN}, {\"col\": \"(5, 0)\", \"idx\": 99, \"val\": 1.0}, {\"col\": \"(7, 0)\", \"idx\": 99, \"val\": 1.0}, {\"col\": \"Teleportation\", \"idx\": 99, \"val\": 5.0}, {\"col\": \"(0, 1)\", \"idx\": 100, \"val\": 2.0}, {\"col\": \"(0, 2)\", \"idx\": 100, \"val\": 1.0}, {\"col\": \"(0, 4)\", \"idx\": 100, \"val\": 1.0}, {\"col\": \"(0, 6)\", \"idx\": 100, \"val\": NaN}, {\"col\": \"(1, 2)\", \"idx\": 100, \"val\": NaN}, {\"col\": \"(2, 0)\", \"idx\": 100, \"val\": 4.0}, {\"col\": \"(3, 1)\", \"idx\": 100, \"val\": 1.0}, {\"col\": \"(5, 0)\", \"idx\": 100, \"val\": NaN}, {\"col\": \"(7, 0)\", \"idx\": 100, \"val\": 1.0}, {\"col\": \"Teleportation\", \"idx\": 100, \"val\": 1.0}, {\"col\": \"(0, 1)\", \"idx\": 101, \"val\": 4.0}, {\"col\": \"(0, 2)\", \"idx\": 101, \"val\": 1.0}, {\"col\": \"(0, 4)\", \"idx\": 101, \"val\": NaN}, {\"col\": \"(0, 6)\", \"idx\": 101, \"val\": 1.0}, {\"col\": \"(1, 2)\", \"idx\": 101, \"val\": 3.0}, {\"col\": \"(2, 0)\", \"idx\": 101, \"val\": 1.0}, {\"col\": \"(3, 1)\", \"idx\": 101, \"val\": NaN}, {\"col\": \"(5, 0)\", \"idx\": 101, \"val\": NaN}, {\"col\": \"(7, 0)\", \"idx\": 101, \"val\": NaN}, {\"col\": \"Teleportation\", \"idx\": 101, \"val\": 1.0}, {\"col\": \"(0, 1)\", \"idx\": 102, \"val\": NaN}, {\"col\": \"(0, 2)\", \"idx\": 102, \"val\": 1.0}, {\"col\": \"(0, 4)\", \"idx\": 102, \"val\": NaN}, {\"col\": \"(0, 6)\", \"idx\": 102, \"val\": NaN}, {\"col\": \"(1, 2)\", \"idx\": 102, \"val\": 4.0}, {\"col\": \"(2, 0)\", \"idx\": 102, \"val\": 3.0}, {\"col\": \"(3, 1)\", \"idx\": 102, \"val\": NaN}, {\"col\": \"(5, 0)\", \"idx\": 102, \"val\": 1.0}, {\"col\": \"(7, 0)\", \"idx\": 102, \"val\": NaN}, {\"col\": \"Teleportation\", \"idx\": 102, \"val\": 1.0}, {\"col\": \"(0, 1)\", \"idx\": 103, \"val\": NaN}, {\"col\": \"(0, 2)\", \"idx\": 103, \"val\": 1.0}, {\"col\": \"(0, 4)\", \"idx\": 103, \"val\": NaN}, {\"col\": \"(0, 6)\", \"idx\": 103, \"val\": 2.0}, {\"col\": \"(1, 2)\", \"idx\": 103, \"val\": NaN}, {\"col\": \"(2, 0)\", \"idx\": 103, \"val\": 5.0}, {\"col\": \"(3, 1)\", \"idx\": 103, \"val\": 1.0}, {\"col\": \"(5, 0)\", \"idx\": 103, \"val\": NaN}, {\"col\": \"(7, 0)\", \"idx\": 103, \"val\": NaN}, {\"col\": \"Teleportation\", \"idx\": 103, \"val\": NaN}, {\"col\": \"(0, 1)\", \"idx\": 104, \"val\": 1.0}, {\"col\": \"(0, 2)\", \"idx\": 104, \"val\": NaN}, {\"col\": \"(0, 4)\", \"idx\": 104, \"val\": 1.0}, {\"col\": \"(0, 6)\", \"idx\": 104, \"val\": 3.0}, {\"col\": \"(1, 2)\", \"idx\": 104, \"val\": 1.0}, {\"col\": \"(2, 0)\", \"idx\": 104, \"val\": 1.0}, {\"col\": \"(3, 1)\", \"idx\": 104, \"val\": NaN}, {\"col\": \"(5, 0)\", \"idx\": 104, \"val\": NaN}, {\"col\": \"(7, 0)\", \"idx\": 104, \"val\": NaN}, {\"col\": \"Teleportation\", \"idx\": 104, \"val\": 2.0}, {\"col\": \"(0, 1)\", \"idx\": 105, \"val\": NaN}, {\"col\": \"(0, 2)\", \"idx\": 105, \"val\": NaN}, {\"col\": \"(0, 4)\", \"idx\": 105, \"val\": 1.0}, {\"col\": \"(0, 6)\", \"idx\": 105, \"val\": NaN}, {\"col\": \"(1, 2)\", \"idx\": 105, \"val\": 1.0}, {\"col\": \"(2, 0)\", \"idx\": 105, \"val\": 1.0}, {\"col\": \"(3, 1)\", \"idx\": 105, \"val\": NaN}, {\"col\": \"(5, 0)\", \"idx\": 105, \"val\": NaN}, {\"col\": \"(7, 0)\", \"idx\": 105, \"val\": NaN}, {\"col\": \"Teleportation\", \"idx\": 105, \"val\": 5.0}, {\"col\": \"(0, 1)\", \"idx\": 106, \"val\": NaN}, {\"col\": \"(0, 2)\", \"idx\": 106, \"val\": 1.0}, {\"col\": \"(0, 4)\", \"idx\": 106, \"val\": NaN}, {\"col\": \"(0, 6)\", \"idx\": 106, \"val\": NaN}, {\"col\": \"(1, 2)\", \"idx\": 106, \"val\": 2.0}, {\"col\": \"(2, 0)\", \"idx\": 106, \"val\": 1.0}, {\"col\": \"(3, 1)\", \"idx\": 106, \"val\": NaN}, {\"col\": \"(5, 0)\", \"idx\": 106, \"val\": NaN}, {\"col\": \"(7, 0)\", \"idx\": 106, \"val\": 2.0}, {\"col\": \"Teleportation\", \"idx\": 106, \"val\": 1.0}, {\"col\": \"(0, 1)\", \"idx\": 107, \"val\": 1.0}, {\"col\": \"(0, 2)\", \"idx\": 107, \"val\": 1.0}, {\"col\": \"(0, 4)\", \"idx\": 107, \"val\": NaN}, {\"col\": \"(0, 6)\", \"idx\": 107, \"val\": 1.0}, {\"col\": \"(1, 2)\", \"idx\": 107, \"val\": NaN}, {\"col\": \"(2, 0)\", \"idx\": 107, \"val\": 3.0}, {\"col\": \"(3, 1)\", \"idx\": 107, \"val\": NaN}, {\"col\": \"(5, 0)\", \"idx\": 107, \"val\": NaN}, {\"col\": \"(7, 0)\", \"idx\": 107, \"val\": NaN}, {\"col\": \"Teleportation\", \"idx\": 107, \"val\": 1.0}, {\"col\": \"(0, 1)\", \"idx\": 108, \"val\": NaN}, {\"col\": \"(0, 2)\", \"idx\": 108, \"val\": 1.0}, {\"col\": \"(0, 4)\", \"idx\": 108, \"val\": 1.0}, {\"col\": \"(0, 6)\", \"idx\": 108, \"val\": 1.0}, {\"col\": \"(1, 2)\", \"idx\": 108, \"val\": 2.0}, {\"col\": \"(2, 0)\", \"idx\": 108, \"val\": 1.0}, {\"col\": \"(3, 1)\", \"idx\": 108, \"val\": NaN}, {\"col\": \"(5, 0)\", \"idx\": 108, \"val\": NaN}, {\"col\": \"(7, 0)\", \"idx\": 108, \"val\": NaN}, {\"col\": \"Teleportation\", \"idx\": 108, \"val\": 1.0}, {\"col\": \"(0, 1)\", \"idx\": 109, \"val\": NaN}, {\"col\": \"(0, 2)\", \"idx\": 109, \"val\": NaN}, {\"col\": \"(0, 4)\", \"idx\": 109, \"val\": NaN}, {\"col\": \"(0, 6)\", \"idx\": 109, \"val\": 1.0}, {\"col\": \"(1, 2)\", \"idx\": 109, \"val\": NaN}, {\"col\": \"(2, 0)\", \"idx\": 109, \"val\": 3.0}, {\"col\": \"(3, 1)\", \"idx\": 109, \"val\": NaN}, {\"col\": \"(5, 0)\", \"idx\": 109, \"val\": NaN}, {\"col\": \"(7, 0)\", \"idx\": 109, \"val\": NaN}, {\"col\": \"Teleportation\", \"idx\": 109, \"val\": 2.0}, {\"col\": \"(0, 1)\", \"idx\": 110, \"val\": NaN}, {\"col\": \"(0, 2)\", \"idx\": 110, \"val\": NaN}, {\"col\": \"(0, 4)\", \"idx\": 110, \"val\": 2.0}, {\"col\": \"(0, 6)\", \"idx\": 110, \"val\": 1.0}, {\"col\": \"(1, 2)\", \"idx\": 110, \"val\": NaN}, {\"col\": \"(2, 0)\", \"idx\": 110, \"val\": NaN}, {\"col\": \"(3, 1)\", \"idx\": 110, \"val\": NaN}, {\"col\": \"(5, 0)\", \"idx\": 110, \"val\": 1.0}, {\"col\": \"(7, 0)\", \"idx\": 110, \"val\": NaN}, {\"col\": \"Teleportation\", \"idx\": 110, \"val\": 1.0}, {\"col\": \"(0, 1)\", \"idx\": 111, \"val\": NaN}, {\"col\": \"(0, 2)\", \"idx\": 111, \"val\": NaN}, {\"col\": \"(0, 4)\", \"idx\": 111, \"val\": NaN}, {\"col\": \"(0, 6)\", \"idx\": 111, \"val\": 1.0}, {\"col\": \"(1, 2)\", \"idx\": 111, \"val\": 1.0}, {\"col\": \"(2, 0)\", \"idx\": 111, \"val\": NaN}, {\"col\": \"(3, 1)\", \"idx\": 111, \"val\": NaN}, {\"col\": \"(5, 0)\", \"idx\": 111, \"val\": NaN}, {\"col\": \"(7, 0)\", \"idx\": 111, \"val\": NaN}, {\"col\": \"Teleportation\", \"idx\": 111, \"val\": 3.0}, {\"col\": \"(0, 1)\", \"idx\": 112, \"val\": NaN}, {\"col\": \"(0, 2)\", \"idx\": 112, \"val\": NaN}, {\"col\": \"(0, 4)\", \"idx\": 112, \"val\": 1.0}, {\"col\": \"(0, 6)\", \"idx\": 112, \"val\": NaN}, {\"col\": \"(1, 2)\", \"idx\": 112, \"val\": NaN}, {\"col\": \"(2, 0)\", \"idx\": 112, \"val\": 1.0}, {\"col\": \"(3, 1)\", \"idx\": 112, \"val\": 1.0}, {\"col\": \"(5, 0)\", \"idx\": 112, \"val\": NaN}, {\"col\": \"(7, 0)\", \"idx\": 112, \"val\": NaN}, {\"col\": \"Teleportation\", \"idx\": 112, \"val\": 1.0}, {\"col\": \"(0, 1)\", \"idx\": 113, \"val\": NaN}, {\"col\": \"(0, 2)\", \"idx\": 113, \"val\": 1.0}, {\"col\": \"(0, 4)\", \"idx\": 113, \"val\": NaN}, {\"col\": \"(0, 6)\", \"idx\": 113, \"val\": NaN}, {\"col\": \"(1, 2)\", \"idx\": 113, \"val\": 1.0}, {\"col\": \"(2, 0)\", \"idx\": 113, \"val\": NaN}, {\"col\": \"(3, 1)\", \"idx\": 113, \"val\": NaN}, {\"col\": \"(5, 0)\", \"idx\": 113, \"val\": NaN}, {\"col\": \"(7, 0)\", \"idx\": 113, \"val\": NaN}, {\"col\": \"Teleportation\", \"idx\": 113, \"val\": 2.0}, {\"col\": \"(0, 1)\", \"idx\": 114, \"val\": NaN}, {\"col\": \"(0, 2)\", \"idx\": 114, \"val\": NaN}, {\"col\": \"(0, 4)\", \"idx\": 114, \"val\": NaN}, {\"col\": \"(0, 6)\", \"idx\": 114, \"val\": NaN}, {\"col\": \"(1, 2)\", \"idx\": 114, \"val\": NaN}, {\"col\": \"(2, 0)\", \"idx\": 114, \"val\": 2.0}, {\"col\": \"(3, 1)\", \"idx\": 114, \"val\": 1.0}, {\"col\": \"(5, 0)\", \"idx\": 114, \"val\": NaN}, {\"col\": \"(7, 0)\", \"idx\": 114, \"val\": 1.0}, {\"col\": \"Teleportation\", \"idx\": 114, \"val\": NaN}, {\"col\": \"(0, 1)\", \"idx\": 115, \"val\": 1.0}, {\"col\": \"(0, 2)\", \"idx\": 115, \"val\": 1.0}, {\"col\": \"(0, 4)\", \"idx\": 115, \"val\": 1.0}, {\"col\": \"(0, 6)\", \"idx\": 115, \"val\": NaN}, {\"col\": \"(1, 2)\", \"idx\": 115, \"val\": 1.0}, {\"col\": \"(2, 0)\", \"idx\": 115, \"val\": NaN}, {\"col\": \"(3, 1)\", \"idx\": 115, \"val\": NaN}, {\"col\": \"(5, 0)\", \"idx\": 115, \"val\": NaN}, {\"col\": \"(7, 0)\", \"idx\": 115, \"val\": NaN}, {\"col\": \"Teleportation\", \"idx\": 115, \"val\": NaN}, {\"col\": \"(0, 1)\", \"idx\": 116, \"val\": NaN}, {\"col\": \"(0, 2)\", \"idx\": 116, \"val\": NaN}, {\"col\": \"(0, 4)\", \"idx\": 116, \"val\": NaN}, {\"col\": \"(0, 6)\", \"idx\": 116, \"val\": NaN}, {\"col\": \"(1, 2)\", \"idx\": 116, \"val\": 1.0}, {\"col\": \"(2, 0)\", \"idx\": 116, \"val\": 2.0}, {\"col\": \"(3, 1)\", \"idx\": 116, \"val\": NaN}, {\"col\": \"(5, 0)\", \"idx\": 116, \"val\": NaN}, {\"col\": \"(7, 0)\", \"idx\": 116, \"val\": NaN}, {\"col\": \"Teleportation\", \"idx\": 116, \"val\": 1.0}, {\"col\": \"(0, 1)\", \"idx\": 117, \"val\": NaN}, {\"col\": \"(0, 2)\", \"idx\": 117, \"val\": NaN}, {\"col\": \"(0, 4)\", \"idx\": 117, \"val\": NaN}, {\"col\": \"(0, 6)\", \"idx\": 117, \"val\": 2.0}, {\"col\": \"(1, 2)\", \"idx\": 117, \"val\": NaN}, {\"col\": \"(2, 0)\", \"idx\": 117, \"val\": 1.0}, {\"col\": \"(3, 1)\", \"idx\": 117, \"val\": NaN}, {\"col\": \"(5, 0)\", \"idx\": 117, \"val\": NaN}, {\"col\": \"(7, 0)\", \"idx\": 117, \"val\": NaN}, {\"col\": \"Teleportation\", \"idx\": 117, \"val\": NaN}, {\"col\": \"(0, 1)\", \"idx\": 118, \"val\": NaN}, {\"col\": \"(0, 2)\", \"idx\": 118, \"val\": NaN}, {\"col\": \"(0, 4)\", \"idx\": 118, \"val\": 1.0}, {\"col\": \"(0, 6)\", \"idx\": 118, \"val\": NaN}, {\"col\": \"(1, 2)\", \"idx\": 118, \"val\": NaN}, {\"col\": \"(2, 0)\", \"idx\": 118, \"val\": NaN}, {\"col\": \"(3, 1)\", \"idx\": 118, \"val\": NaN}, {\"col\": \"(5, 0)\", \"idx\": 118, \"val\": NaN}, {\"col\": \"(7, 0)\", \"idx\": 118, \"val\": NaN}, {\"col\": \"Teleportation\", \"idx\": 118, \"val\": 2.0}, {\"col\": \"(0, 1)\", \"idx\": 119, \"val\": NaN}, {\"col\": \"(0, 2)\", \"idx\": 119, \"val\": NaN}, {\"col\": \"(0, 4)\", \"idx\": 119, \"val\": NaN}, {\"col\": \"(0, 6)\", \"idx\": 119, \"val\": NaN}, {\"col\": \"(1, 2)\", \"idx\": 119, \"val\": NaN}, {\"col\": \"(2, 0)\", \"idx\": 119, \"val\": NaN}, {\"col\": \"(3, 1)\", \"idx\": 119, \"val\": 1.0}, {\"col\": \"(5, 0)\", \"idx\": 119, \"val\": NaN}, {\"col\": \"(7, 0)\", \"idx\": 119, \"val\": NaN}, {\"col\": \"Teleportation\", \"idx\": 119, \"val\": 2.0}, {\"col\": \"(0, 1)\", \"idx\": 120, \"val\": 1.0}, {\"col\": \"(0, 2)\", \"idx\": 120, \"val\": NaN}, {\"col\": \"(0, 4)\", \"idx\": 120, \"val\": NaN}, {\"col\": \"(0, 6)\", \"idx\": 120, \"val\": NaN}, {\"col\": \"(1, 2)\", \"idx\": 120, \"val\": 1.0}, {\"col\": \"(2, 0)\", \"idx\": 120, \"val\": NaN}, {\"col\": \"(3, 1)\", \"idx\": 120, \"val\": NaN}, {\"col\": \"(5, 0)\", \"idx\": 120, \"val\": NaN}, {\"col\": \"(7, 0)\", \"idx\": 120, \"val\": NaN}, {\"col\": \"Teleportation\", \"idx\": 120, \"val\": 1.0}, {\"col\": \"(0, 1)\", \"idx\": 121, \"val\": NaN}, {\"col\": \"(0, 2)\", \"idx\": 121, \"val\": NaN}, {\"col\": \"(0, 4)\", \"idx\": 121, \"val\": NaN}, {\"col\": \"(0, 6)\", \"idx\": 121, \"val\": NaN}, {\"col\": \"(1, 2)\", \"idx\": 121, \"val\": 1.0}, {\"col\": \"(2, 0)\", \"idx\": 121, \"val\": 1.0}, {\"col\": \"(3, 1)\", \"idx\": 121, \"val\": NaN}, {\"col\": \"(5, 0)\", \"idx\": 121, \"val\": NaN}, {\"col\": \"(7, 0)\", \"idx\": 121, \"val\": 1.0}, {\"col\": \"Teleportation\", \"idx\": 121, \"val\": NaN}, {\"col\": \"(0, 1)\", \"idx\": 122, \"val\": NaN}, {\"col\": \"(0, 2)\", \"idx\": 122, \"val\": 1.0}, {\"col\": \"(0, 4)\", \"idx\": 122, \"val\": NaN}, {\"col\": \"(0, 6)\", \"idx\": 122, \"val\": NaN}, {\"col\": \"(1, 2)\", \"idx\": 122, \"val\": NaN}, {\"col\": \"(2, 0)\", \"idx\": 122, \"val\": 1.0}, {\"col\": \"(3, 1)\", \"idx\": 122, \"val\": NaN}, {\"col\": \"(5, 0)\", \"idx\": 122, \"val\": NaN}, {\"col\": \"(7, 0)\", \"idx\": 122, \"val\": NaN}, {\"col\": \"Teleportation\", \"idx\": 122, \"val\": NaN}, {\"col\": \"(0, 1)\", \"idx\": 123, \"val\": NaN}, {\"col\": \"(0, 2)\", \"idx\": 123, \"val\": NaN}, {\"col\": \"(0, 4)\", \"idx\": 123, \"val\": NaN}, {\"col\": \"(0, 6)\", \"idx\": 123, \"val\": 1.0}, {\"col\": \"(1, 2)\", \"idx\": 123, \"val\": NaN}, {\"col\": \"(2, 0)\", \"idx\": 123, \"val\": 1.0}, {\"col\": \"(3, 1)\", \"idx\": 123, \"val\": NaN}, {\"col\": \"(5, 0)\", \"idx\": 123, \"val\": NaN}, {\"col\": \"(7, 0)\", \"idx\": 123, \"val\": NaN}, {\"col\": \"Teleportation\", \"idx\": 123, \"val\": NaN}, {\"col\": \"(0, 1)\", \"idx\": 124, \"val\": NaN}, {\"col\": \"(0, 2)\", \"idx\": 124, \"val\": NaN}, {\"col\": \"(0, 4)\", \"idx\": 124, \"val\": 1.0}, {\"col\": \"(0, 6)\", \"idx\": 124, \"val\": NaN}, {\"col\": \"(1, 2)\", \"idx\": 124, \"val\": NaN}, {\"col\": \"(2, 0)\", \"idx\": 124, \"val\": NaN}, {\"col\": \"(3, 1)\", \"idx\": 124, \"val\": NaN}, {\"col\": \"(5, 0)\", \"idx\": 124, \"val\": NaN}, {\"col\": \"(7, 0)\", \"idx\": 124, \"val\": NaN}, {\"col\": \"Teleportation\", \"idx\": 124, \"val\": 1.0}, {\"col\": \"(0, 1)\", \"idx\": 125, \"val\": NaN}, {\"col\": \"(0, 2)\", \"idx\": 125, \"val\": NaN}, {\"col\": \"(0, 4)\", \"idx\": 125, \"val\": NaN}, {\"col\": \"(0, 6)\", \"idx\": 125, \"val\": NaN}, {\"col\": \"(1, 2)\", \"idx\": 125, \"val\": NaN}, {\"col\": \"(2, 0)\", \"idx\": 125, \"val\": NaN}, {\"col\": \"(3, 1)\", \"idx\": 125, \"val\": NaN}, {\"col\": \"(5, 0)\", \"idx\": 125, \"val\": 1.0}, {\"col\": \"(7, 0)\", \"idx\": 125, \"val\": NaN}, {\"col\": \"Teleportation\", \"idx\": 125, \"val\": 1.0}, {\"col\": \"(0, 1)\", \"idx\": 126, \"val\": NaN}, {\"col\": \"(0, 2)\", \"idx\": 126, \"val\": NaN}, {\"col\": \"(0, 4)\", \"idx\": 126, \"val\": NaN}, {\"col\": \"(0, 6)\", \"idx\": 126, \"val\": 1.0}, {\"col\": \"(1, 2)\", \"idx\": 126, \"val\": NaN}, {\"col\": \"(2, 0)\", \"idx\": 126, \"val\": NaN}, {\"col\": \"(3, 1)\", \"idx\": 126, \"val\": NaN}, {\"col\": \"(5, 0)\", \"idx\": 126, \"val\": 1.0}, {\"col\": \"(7, 0)\", \"idx\": 126, \"val\": NaN}, {\"col\": \"Teleportation\", \"idx\": 126, \"val\": NaN}, {\"col\": \"(0, 1)\", \"idx\": 128, \"val\": 1.0}, {\"col\": \"(0, 2)\", \"idx\": 128, \"val\": NaN}, {\"col\": \"(0, 4)\", \"idx\": 128, \"val\": NaN}, {\"col\": \"(0, 6)\", \"idx\": 128, \"val\": NaN}, {\"col\": \"(1, 2)\", \"idx\": 128, \"val\": NaN}, {\"col\": \"(2, 0)\", \"idx\": 128, \"val\": NaN}, {\"col\": \"(3, 1)\", \"idx\": 128, \"val\": NaN}, {\"col\": \"(5, 0)\", \"idx\": 128, \"val\": NaN}, {\"col\": \"(7, 0)\", \"idx\": 128, \"val\": NaN}, {\"col\": \"Teleportation\", \"idx\": 128, \"val\": NaN}, {\"col\": \"(0, 1)\", \"idx\": 129, \"val\": NaN}, {\"col\": \"(0, 2)\", \"idx\": 129, \"val\": NaN}, {\"col\": \"(0, 4)\", \"idx\": 129, \"val\": NaN}, {\"col\": \"(0, 6)\", \"idx\": 129, \"val\": NaN}, {\"col\": \"(1, 2)\", \"idx\": 129, \"val\": 1.0}, {\"col\": \"(2, 0)\", \"idx\": 129, \"val\": NaN}, {\"col\": \"(3, 1)\", \"idx\": 129, \"val\": NaN}, {\"col\": \"(5, 0)\", \"idx\": 129, \"val\": NaN}, {\"col\": \"(7, 0)\", \"idx\": 129, \"val\": NaN}, {\"col\": \"Teleportation\", \"idx\": 129, \"val\": NaN}, {\"col\": \"(0, 1)\", \"idx\": 130, \"val\": NaN}, {\"col\": \"(0, 2)\", \"idx\": 130, \"val\": NaN}, {\"col\": \"(0, 4)\", \"idx\": 130, \"val\": NaN}, {\"col\": \"(0, 6)\", \"idx\": 130, \"val\": NaN}, {\"col\": \"(1, 2)\", \"idx\": 130, \"val\": NaN}, {\"col\": \"(2, 0)\", \"idx\": 130, \"val\": 1.0}, {\"col\": \"(3, 1)\", \"idx\": 130, \"val\": NaN}, {\"col\": \"(5, 0)\", \"idx\": 130, \"val\": NaN}, {\"col\": \"(7, 0)\", \"idx\": 130, \"val\": NaN}, {\"col\": \"Teleportation\", \"idx\": 130, \"val\": NaN}, {\"col\": \"(0, 1)\", \"idx\": 131, \"val\": NaN}, {\"col\": \"(0, 2)\", \"idx\": 131, \"val\": 1.0}, {\"col\": \"(0, 4)\", \"idx\": 131, \"val\": NaN}, {\"col\": \"(0, 6)\", \"idx\": 131, \"val\": NaN}, {\"col\": \"(1, 2)\", \"idx\": 131, \"val\": NaN}, {\"col\": \"(2, 0)\", \"idx\": 131, \"val\": NaN}, {\"col\": \"(3, 1)\", \"idx\": 131, \"val\": NaN}, {\"col\": \"(5, 0)\", \"idx\": 131, \"val\": NaN}, {\"col\": \"(7, 0)\", \"idx\": 131, \"val\": NaN}, {\"col\": \"Teleportation\", \"idx\": 131, \"val\": NaN}, {\"col\": \"(0, 1)\", \"idx\": 132, \"val\": NaN}, {\"col\": \"(0, 2)\", \"idx\": 132, \"val\": NaN}, {\"col\": \"(0, 4)\", \"idx\": 132, \"val\": NaN}, {\"col\": \"(0, 6)\", \"idx\": 132, \"val\": NaN}, {\"col\": \"(1, 2)\", \"idx\": 132, \"val\": NaN}, {\"col\": \"(2, 0)\", \"idx\": 132, \"val\": 1.0}, {\"col\": \"(3, 1)\", \"idx\": 132, \"val\": NaN}, {\"col\": \"(5, 0)\", \"idx\": 132, \"val\": NaN}, {\"col\": \"(7, 0)\", \"idx\": 132, \"val\": NaN}, {\"col\": \"Teleportation\", \"idx\": 132, \"val\": NaN}, {\"col\": \"(0, 1)\", \"idx\": 133, \"val\": NaN}, {\"col\": \"(0, 2)\", \"idx\": 133, \"val\": NaN}, {\"col\": \"(0, 4)\", \"idx\": 133, \"val\": NaN}, {\"col\": \"(0, 6)\", \"idx\": 133, \"val\": 1.0}, {\"col\": \"(1, 2)\", \"idx\": 133, \"val\": NaN}, {\"col\": \"(2, 0)\", \"idx\": 133, \"val\": NaN}, {\"col\": \"(3, 1)\", \"idx\": 133, \"val\": NaN}, {\"col\": \"(5, 0)\", \"idx\": 133, \"val\": NaN}, {\"col\": \"(7, 0)\", \"idx\": 133, \"val\": NaN}, {\"col\": \"Teleportation\", \"idx\": 133, \"val\": NaN}, {\"col\": \"(0, 1)\", \"idx\": 135, \"val\": NaN}, {\"col\": \"(0, 2)\", \"idx\": 135, \"val\": NaN}, {\"col\": \"(0, 4)\", \"idx\": 135, \"val\": NaN}, {\"col\": \"(0, 6)\", \"idx\": 135, \"val\": NaN}, {\"col\": \"(1, 2)\", \"idx\": 135, \"val\": NaN}, {\"col\": \"(2, 0)\", \"idx\": 135, \"val\": NaN}, {\"col\": \"(3, 1)\", \"idx\": 135, \"val\": 1.0}, {\"col\": \"(5, 0)\", \"idx\": 135, \"val\": NaN}, {\"col\": \"(7, 0)\", \"idx\": 135, \"val\": NaN}, {\"col\": \"Teleportation\", \"idx\": 135, \"val\": NaN}, {\"col\": \"(0, 1)\", \"idx\": 136, \"val\": NaN}, {\"col\": \"(0, 2)\", \"idx\": 136, \"val\": NaN}, {\"col\": \"(0, 4)\", \"idx\": 136, \"val\": NaN}, {\"col\": \"(0, 6)\", \"idx\": 136, \"val\": NaN}, {\"col\": \"(1, 2)\", \"idx\": 136, \"val\": 1.0}, {\"col\": \"(2, 0)\", \"idx\": 136, \"val\": NaN}, {\"col\": \"(3, 1)\", \"idx\": 136, \"val\": NaN}, {\"col\": \"(5, 0)\", \"idx\": 136, \"val\": NaN}, {\"col\": \"(7, 0)\", \"idx\": 136, \"val\": NaN}, {\"col\": \"Teleportation\", \"idx\": 136, \"val\": NaN}, {\"col\": \"(0, 1)\", \"idx\": 137, \"val\": NaN}, {\"col\": \"(0, 2)\", \"idx\": 137, \"val\": NaN}, {\"col\": \"(0, 4)\", \"idx\": 137, \"val\": NaN}, {\"col\": \"(0, 6)\", \"idx\": 137, \"val\": NaN}, {\"col\": \"(1, 2)\", \"idx\": 137, \"val\": NaN}, {\"col\": \"(2, 0)\", \"idx\": 137, \"val\": 1.0}, {\"col\": \"(3, 1)\", \"idx\": 137, \"val\": NaN}, {\"col\": \"(5, 0)\", \"idx\": 137, \"val\": NaN}, {\"col\": \"(7, 0)\", \"idx\": 137, \"val\": NaN}, {\"col\": \"Teleportation\", \"idx\": 137, \"val\": NaN}, {\"col\": \"(0, 1)\", \"idx\": 138, \"val\": NaN}, {\"col\": \"(0, 2)\", \"idx\": 138, \"val\": 1.0}, {\"col\": \"(0, 4)\", \"idx\": 138, \"val\": NaN}, {\"col\": \"(0, 6)\", \"idx\": 138, \"val\": NaN}, {\"col\": \"(1, 2)\", \"idx\": 138, \"val\": NaN}, {\"col\": \"(2, 0)\", \"idx\": 138, \"val\": NaN}, {\"col\": \"(3, 1)\", \"idx\": 138, \"val\": NaN}, {\"col\": \"(5, 0)\", \"idx\": 138, \"val\": NaN}, {\"col\": \"(7, 0)\", \"idx\": 138, \"val\": NaN}, {\"col\": \"Teleportation\", \"idx\": 138, \"val\": NaN}, {\"col\": \"(0, 1)\", \"idx\": 139, \"val\": NaN}, {\"col\": \"(0, 2)\", \"idx\": 139, \"val\": NaN}, {\"col\": \"(0, 4)\", \"idx\": 139, \"val\": NaN}, {\"col\": \"(0, 6)\", \"idx\": 139, \"val\": NaN}, {\"col\": \"(1, 2)\", \"idx\": 139, \"val\": NaN}, {\"col\": \"(2, 0)\", \"idx\": 139, \"val\": 1.0}, {\"col\": \"(3, 1)\", \"idx\": 139, \"val\": NaN}, {\"col\": \"(5, 0)\", \"idx\": 139, \"val\": NaN}, {\"col\": \"(7, 0)\", \"idx\": 139, \"val\": NaN}, {\"col\": \"Teleportation\", \"idx\": 139, \"val\": NaN}, {\"col\": \"(0, 1)\", \"idx\": 140, \"val\": NaN}, {\"col\": \"(0, 2)\", \"idx\": 140, \"val\": NaN}, {\"col\": \"(0, 4)\", \"idx\": 140, \"val\": 1.0}, {\"col\": \"(0, 6)\", \"idx\": 140, \"val\": NaN}, {\"col\": \"(1, 2)\", \"idx\": 140, \"val\": NaN}, {\"col\": \"(2, 0)\", \"idx\": 140, \"val\": NaN}, {\"col\": \"(3, 1)\", \"idx\": 140, \"val\": NaN}, {\"col\": \"(5, 0)\", \"idx\": 140, \"val\": NaN}, {\"col\": \"(7, 0)\", \"idx\": 140, \"val\": NaN}, {\"col\": \"Teleportation\", \"idx\": 140, \"val\": NaN}, {\"col\": \"(0, 1)\", \"idx\": 142, \"val\": NaN}, {\"col\": \"(0, 2)\", \"idx\": 142, \"val\": NaN}, {\"col\": \"(0, 4)\", \"idx\": 142, \"val\": NaN}, {\"col\": \"(0, 6)\", \"idx\": 142, \"val\": NaN}, {\"col\": \"(1, 2)\", \"idx\": 142, \"val\": NaN}, {\"col\": \"(2, 0)\", \"idx\": 142, \"val\": 1.0}, {\"col\": \"(3, 1)\", \"idx\": 142, \"val\": NaN}, {\"col\": \"(5, 0)\", \"idx\": 142, \"val\": NaN}, {\"col\": \"(7, 0)\", \"idx\": 142, \"val\": NaN}, {\"col\": \"Teleportation\", \"idx\": 142, \"val\": NaN}, {\"col\": \"(0, 1)\", \"idx\": 143, \"val\": NaN}, {\"col\": \"(0, 2)\", \"idx\": 143, \"val\": NaN}, {\"col\": \"(0, 4)\", \"idx\": 143, \"val\": 1.0}, {\"col\": \"(0, 6)\", \"idx\": 143, \"val\": NaN}, {\"col\": \"(1, 2)\", \"idx\": 143, \"val\": NaN}, {\"col\": \"(2, 0)\", \"idx\": 143, \"val\": NaN}, {\"col\": \"(3, 1)\", \"idx\": 143, \"val\": NaN}, {\"col\": \"(5, 0)\", \"idx\": 143, \"val\": NaN}, {\"col\": \"(7, 0)\", \"idx\": 143, \"val\": NaN}, {\"col\": \"Teleportation\", \"idx\": 143, \"val\": NaN}, {\"col\": \"(0, 1)\", \"idx\": 145, \"val\": NaN}, {\"col\": \"(0, 2)\", \"idx\": 145, \"val\": NaN}, {\"col\": \"(0, 4)\", \"idx\": 145, \"val\": NaN}, {\"col\": \"(0, 6)\", \"idx\": 145, \"val\": NaN}, {\"col\": \"(1, 2)\", \"idx\": 145, \"val\": NaN}, {\"col\": \"(2, 0)\", \"idx\": 145, \"val\": 1.0}, {\"col\": \"(3, 1)\", \"idx\": 145, \"val\": NaN}, {\"col\": \"(5, 0)\", \"idx\": 145, \"val\": NaN}, {\"col\": \"(7, 0)\", \"idx\": 145, \"val\": NaN}, {\"col\": \"Teleportation\", \"idx\": 145, \"val\": NaN}, {\"col\": \"(0, 1)\", \"idx\": 146, \"val\": 1.0}, {\"col\": \"(0, 2)\", \"idx\": 146, \"val\": NaN}, {\"col\": \"(0, 4)\", \"idx\": 146, \"val\": NaN}, {\"col\": \"(0, 6)\", \"idx\": 146, \"val\": NaN}, {\"col\": \"(1, 2)\", \"idx\": 146, \"val\": NaN}, {\"col\": \"(2, 0)\", \"idx\": 146, \"val\": NaN}, {\"col\": \"(3, 1)\", \"idx\": 146, \"val\": NaN}, {\"col\": \"(5, 0)\", \"idx\": 146, \"val\": NaN}, {\"col\": \"(7, 0)\", \"idx\": 146, \"val\": NaN}, {\"col\": \"Teleportation\", \"idx\": 146, \"val\": NaN}, {\"col\": \"(0, 1)\", \"idx\": 147, \"val\": NaN}, {\"col\": \"(0, 2)\", \"idx\": 147, \"val\": NaN}, {\"col\": \"(0, 4)\", \"idx\": 147, \"val\": NaN}, {\"col\": \"(0, 6)\", \"idx\": 147, \"val\": NaN}, {\"col\": \"(1, 2)\", \"idx\": 147, \"val\": 1.0}, {\"col\": \"(2, 0)\", \"idx\": 147, \"val\": NaN}, {\"col\": \"(3, 1)\", \"idx\": 147, \"val\": NaN}, {\"col\": \"(5, 0)\", \"idx\": 147, \"val\": NaN}, {\"col\": \"(7, 0)\", \"idx\": 147, \"val\": NaN}, {\"col\": \"Teleportation\", \"idx\": 147, \"val\": NaN}, {\"col\": \"(0, 1)\", \"idx\": 148, \"val\": NaN}, {\"col\": \"(0, 2)\", \"idx\": 148, \"val\": NaN}, {\"col\": \"(0, 4)\", \"idx\": 148, \"val\": NaN}, {\"col\": \"(0, 6)\", \"idx\": 148, \"val\": NaN}, {\"col\": \"(1, 2)\", \"idx\": 148, \"val\": NaN}, {\"col\": \"(2, 0)\", \"idx\": 148, \"val\": 1.0}, {\"col\": \"(3, 1)\", \"idx\": 148, \"val\": NaN}, {\"col\": \"(5, 0)\", \"idx\": 148, \"val\": NaN}, {\"col\": \"(7, 0)\", \"idx\": 148, \"val\": NaN}, {\"col\": \"Teleportation\", \"idx\": 148, \"val\": NaN}, {\"col\": \"(0, 1)\", \"idx\": 149, \"val\": NaN}, {\"col\": \"(0, 2)\", \"idx\": 149, \"val\": NaN}, {\"col\": \"(0, 4)\", \"idx\": 149, \"val\": NaN}, {\"col\": \"(0, 6)\", \"idx\": 149, \"val\": 1.0}, {\"col\": \"(1, 2)\", \"idx\": 149, \"val\": NaN}, {\"col\": \"(2, 0)\", \"idx\": 149, \"val\": NaN}, {\"col\": \"(3, 1)\", \"idx\": 149, \"val\": NaN}, {\"col\": \"(5, 0)\", \"idx\": 149, \"val\": NaN}, {\"col\": \"(7, 0)\", \"idx\": 149, \"val\": NaN}, {\"col\": \"Teleportation\", \"idx\": 149, \"val\": NaN}, {\"col\": \"(0, 1)\", \"idx\": 151, \"val\": NaN}, {\"col\": \"(0, 2)\", \"idx\": 151, \"val\": NaN}, {\"col\": \"(0, 4)\", \"idx\": 151, \"val\": NaN}, {\"col\": \"(0, 6)\", \"idx\": 151, \"val\": NaN}, {\"col\": \"(1, 2)\", \"idx\": 151, \"val\": NaN}, {\"col\": \"(2, 0)\", \"idx\": 151, \"val\": NaN}, {\"col\": \"(3, 1)\", \"idx\": 151, \"val\": 1.0}, {\"col\": \"(5, 0)\", \"idx\": 151, \"val\": NaN}, {\"col\": \"(7, 0)\", \"idx\": 151, \"val\": NaN}, {\"col\": \"Teleportation\", \"idx\": 151, \"val\": NaN}, {\"col\": \"(0, 1)\", \"idx\": 152, \"val\": NaN}, {\"col\": \"(0, 2)\", \"idx\": 152, \"val\": NaN}, {\"col\": \"(0, 4)\", \"idx\": 152, \"val\": NaN}, {\"col\": \"(0, 6)\", \"idx\": 152, \"val\": NaN}, {\"col\": \"(1, 2)\", \"idx\": 152, \"val\": 1.0}, {\"col\": \"(2, 0)\", \"idx\": 152, \"val\": NaN}, {\"col\": \"(3, 1)\", \"idx\": 152, \"val\": NaN}, {\"col\": \"(5, 0)\", \"idx\": 152, \"val\": NaN}, {\"col\": \"(7, 0)\", \"idx\": 152, \"val\": NaN}, {\"col\": \"Teleportation\", \"idx\": 152, \"val\": NaN}, {\"col\": \"(0, 1)\", \"idx\": 153, \"val\": NaN}, {\"col\": \"(0, 2)\", \"idx\": 153, \"val\": NaN}, {\"col\": \"(0, 4)\", \"idx\": 153, \"val\": NaN}, {\"col\": \"(0, 6)\", \"idx\": 153, \"val\": NaN}, {\"col\": \"(1, 2)\", \"idx\": 153, \"val\": NaN}, {\"col\": \"(2, 0)\", \"idx\": 153, \"val\": 1.0}, {\"col\": \"(3, 1)\", \"idx\": 153, \"val\": NaN}, {\"col\": \"(5, 0)\", \"idx\": 153, \"val\": NaN}, {\"col\": \"(7, 0)\", \"idx\": 153, \"val\": NaN}, {\"col\": \"Teleportation\", \"idx\": 153, \"val\": NaN}, {\"col\": \"(0, 1)\", \"idx\": 154, \"val\": 1.0}, {\"col\": \"(0, 2)\", \"idx\": 154, \"val\": NaN}, {\"col\": \"(0, 4)\", \"idx\": 154, \"val\": NaN}, {\"col\": \"(0, 6)\", \"idx\": 154, \"val\": NaN}, {\"col\": \"(1, 2)\", \"idx\": 154, \"val\": NaN}, {\"col\": \"(2, 0)\", \"idx\": 154, \"val\": NaN}, {\"col\": \"(3, 1)\", \"idx\": 154, \"val\": NaN}, {\"col\": \"(5, 0)\", \"idx\": 154, \"val\": NaN}, {\"col\": \"(7, 0)\", \"idx\": 154, \"val\": NaN}, {\"col\": \"Teleportation\", \"idx\": 154, \"val\": NaN}, {\"col\": \"(0, 1)\", \"idx\": 155, \"val\": NaN}, {\"col\": \"(0, 2)\", \"idx\": 155, \"val\": NaN}, {\"col\": \"(0, 4)\", \"idx\": 155, \"val\": NaN}, {\"col\": \"(0, 6)\", \"idx\": 155, \"val\": NaN}, {\"col\": \"(1, 2)\", \"idx\": 155, \"val\": 1.0}, {\"col\": \"(2, 0)\", \"idx\": 155, \"val\": NaN}, {\"col\": \"(3, 1)\", \"idx\": 155, \"val\": NaN}, {\"col\": \"(5, 0)\", \"idx\": 155, \"val\": NaN}, {\"col\": \"(7, 0)\", \"idx\": 155, \"val\": NaN}, {\"col\": \"Teleportation\", \"idx\": 155, \"val\": NaN}, {\"col\": \"(0, 1)\", \"idx\": 156, \"val\": NaN}, {\"col\": \"(0, 2)\", \"idx\": 156, \"val\": NaN}, {\"col\": \"(0, 4)\", \"idx\": 156, \"val\": NaN}, {\"col\": \"(0, 6)\", \"idx\": 156, \"val\": NaN}, {\"col\": \"(1, 2)\", \"idx\": 156, \"val\": NaN}, {\"col\": \"(2, 0)\", \"idx\": 156, \"val\": 1.0}, {\"col\": \"(3, 1)\", \"idx\": 156, \"val\": NaN}, {\"col\": \"(5, 0)\", \"idx\": 156, \"val\": NaN}, {\"col\": \"(7, 0)\", \"idx\": 156, \"val\": NaN}, {\"col\": \"Teleportation\", \"idx\": 156, \"val\": NaN}, {\"col\": \"(0, 1)\", \"idx\": 157, \"val\": 1.0}, {\"col\": \"(0, 2)\", \"idx\": 157, \"val\": NaN}, {\"col\": \"(0, 4)\", \"idx\": 157, \"val\": NaN}, {\"col\": \"(0, 6)\", \"idx\": 157, \"val\": NaN}, {\"col\": \"(1, 2)\", \"idx\": 157, \"val\": NaN}, {\"col\": \"(2, 0)\", \"idx\": 157, \"val\": NaN}, {\"col\": \"(3, 1)\", \"idx\": 157, \"val\": NaN}, {\"col\": \"(5, 0)\", \"idx\": 157, \"val\": NaN}, {\"col\": \"(7, 0)\", \"idx\": 157, \"val\": NaN}, {\"col\": \"Teleportation\", \"idx\": 157, \"val\": NaN}, {\"col\": \"(0, 1)\", \"idx\": 158, \"val\": NaN}, {\"col\": \"(0, 2)\", \"idx\": 158, \"val\": NaN}, {\"col\": \"(0, 4)\", \"idx\": 158, \"val\": NaN}, {\"col\": \"(0, 6)\", \"idx\": 158, \"val\": NaN}, {\"col\": \"(1, 2)\", \"idx\": 158, \"val\": 1.0}, {\"col\": \"(2, 0)\", \"idx\": 158, \"val\": NaN}, {\"col\": \"(3, 1)\", \"idx\": 158, \"val\": NaN}, {\"col\": \"(5, 0)\", \"idx\": 158, \"val\": NaN}, {\"col\": \"(7, 0)\", \"idx\": 158, \"val\": NaN}, {\"col\": \"Teleportation\", \"idx\": 158, \"val\": NaN}, {\"col\": \"(0, 1)\", \"idx\": 159, \"val\": NaN}, {\"col\": \"(0, 2)\", \"idx\": 159, \"val\": NaN}, {\"col\": \"(0, 4)\", \"idx\": 159, \"val\": NaN}, {\"col\": \"(0, 6)\", \"idx\": 159, \"val\": NaN}, {\"col\": \"(1, 2)\", \"idx\": 159, \"val\": NaN}, {\"col\": \"(2, 0)\", \"idx\": 159, \"val\": 1.0}, {\"col\": \"(3, 1)\", \"idx\": 159, \"val\": NaN}, {\"col\": \"(5, 0)\", \"idx\": 159, \"val\": NaN}, {\"col\": \"(7, 0)\", \"idx\": 159, \"val\": NaN}, {\"col\": \"Teleportation\", \"idx\": 159, \"val\": NaN}, {\"col\": \"(0, 1)\", \"idx\": 160, \"val\": NaN}, {\"col\": \"(0, 2)\", \"idx\": 160, \"val\": NaN}, {\"col\": \"(0, 4)\", \"idx\": 160, \"val\": NaN}, {\"col\": \"(0, 6)\", \"idx\": 160, \"val\": 1.0}, {\"col\": \"(1, 2)\", \"idx\": 160, \"val\": NaN}, {\"col\": \"(2, 0)\", \"idx\": 160, \"val\": NaN}, {\"col\": \"(3, 1)\", \"idx\": 160, \"val\": NaN}, {\"col\": \"(5, 0)\", \"idx\": 160, \"val\": NaN}, {\"col\": \"(7, 0)\", \"idx\": 160, \"val\": NaN}, {\"col\": \"Teleportation\", \"idx\": 160, \"val\": NaN}, {\"col\": \"(0, 1)\", \"idx\": 162, \"val\": NaN}, {\"col\": \"(0, 2)\", \"idx\": 162, \"val\": NaN}, {\"col\": \"(0, 4)\", \"idx\": 162, \"val\": NaN}, {\"col\": \"(0, 6)\", \"idx\": 162, \"val\": NaN}, {\"col\": \"(1, 2)\", \"idx\": 162, \"val\": NaN}, {\"col\": \"(2, 0)\", \"idx\": 162, \"val\": NaN}, {\"col\": \"(3, 1)\", \"idx\": 162, \"val\": 1.0}, {\"col\": \"(5, 0)\", \"idx\": 162, \"val\": NaN}, {\"col\": \"(7, 0)\", \"idx\": 162, \"val\": NaN}, {\"col\": \"Teleportation\", \"idx\": 162, \"val\": NaN}]}, {\"name\": \"stats\", \"source\": \"table\", \"transform\": [{\"keys\": [\"data.idx\"], \"type\": \"facet\"}, {\"type\": \"stats\", \"value\": \"data.val\"}]}], \"height\": 300, \"legends\": [{\"fill\": \"color\", \"offset\": 0, \"properties\": {}, \"title\": \"Edge\"}], \"marks\": [{\"from\": {\"data\": \"table\", \"transform\": [{\"keys\": [\"data.col\"], \"type\": \"facet\"}, {\"height\": \"data.val\", \"point\": \"data.idx\", \"type\": \"stack\"}]}, \"marks\": [{\"properties\": {\"enter\": {\"fill\": {\"field\": \"data.col\", \"scale\": \"color\"}, \"interpolate\": {\"value\": \"monotone\"}, \"opacity\": {\"value\": 0.8}, \"x\": {\"field\": \"data.idx\", \"scale\": \"x\"}, \"y\": {\"field\": \"y\", \"scale\": \"y\"}, \"y2\": {\"field\": \"y2\", \"scale\": \"y\"}}, \"hover\": {\"opacity\": {\"value\": 1}, \"size\": {\"value\": 200}}, \"update\": {\"opacity\": {\"value\": 0.8}, \"size\": {\"value\": 100}}}, \"type\": \"area\"}], \"type\": \"group\"}], \"padding\": \"auto\", \"scales\": [{\"domain\": {\"data\": \"table\", \"field\": \"data.idx\"}, \"name\": \"x\", \"range\": \"width\", \"type\": \"linear\", \"zero\": false}, {\"domain\": {\"data\": \"stats\", \"field\": \"sum\"}, \"name\": \"y\", \"nice\": true, \"range\": \"height\"}, {\"domain\": {\"data\": \"table\", \"field\": \"data.col\"}, \"name\": \"color\", \"range\": \"category20\", \"type\": \"ordinal\"}], \"width\": 400}, function(chart) {\n",
        "         chart({el: \"#vis1e1e3972100b4fdb943b1ac6069ad680\"}).update();\n",
        "       });\n",
        "     };\n",
        "     _do_plot();\n",
        "   })();\n",
        "</script>\n",
        "<style>.vega canvas {width: 100%;}</style>\n",
        "        "
       ],
       "metadata": {},
       "output_type": "pyout",
       "prompt_number": 323,
       "text": [
        "<vincent.charts.Area at 0x109336650>"
       ]
      }
     ],
     "prompt_number": 323
    },
    {
     "cell_type": "code",
     "collapsed": false,
     "input": [
      "G.graph['total_visits']"
     ],
     "language": "python",
     "metadata": {},
     "outputs": [
      {
       "metadata": {},
       "output_type": "pyout",
       "prompt_number": 252,
       "text": [
        "18751"
       ]
      }
     ],
     "prompt_number": 252
    },
    {
     "cell_type": "code",
     "collapsed": false,
     "input": [
      "frogs"
     ],
     "language": "python",
     "metadata": {},
     "outputs": [
      {
       "metadata": {},
       "output_type": "pyout",
       "prompt_number": 253,
       "text": [
        "1000"
       ]
      }
     ],
     "prompt_number": 253
    },
    {
     "cell_type": "code",
     "collapsed": false,
     "input": [],
     "language": "python",
     "metadata": {},
     "outputs": []
    }
   ],
   "metadata": {}
  }
 ]
}