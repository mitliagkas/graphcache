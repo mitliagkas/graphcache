{
 "metadata": {
  "name": "",
  "signature": "sha256:70fd8f929ad099dc4dc30ff9da56a70f85403cb5ab596eecea08bc2b57ee9ed0"
 },
 "nbformat": 3,
 "nbformat_minor": 0,
 "worksheets": [
  {
   "cells": [
    {
     "cell_type": "code",
     "collapsed": false,
     "input": [
      "import networkx as nx\n",
      "import numpy as np\n",
      "from random import randrange, choice, random\n",
      "import math"
     ],
     "language": "python",
     "metadata": {},
     "outputs": [],
     "prompt_number": 1
    },
    {
     "cell_type": "code",
     "collapsed": false,
     "input": [
      "import json\n",
      "from networkx.readwrite import json_graph"
     ],
     "language": "python",
     "metadata": {},
     "outputs": [],
     "prompt_number": 2
    },
    {
     "cell_type": "code",
     "collapsed": false,
     "input": [
      "import pandas as pd\n",
      "import vincent\n",
      "vincent.initialize_notebook()"
     ],
     "language": "python",
     "metadata": {},
     "outputs": [
      {
       "html": [
        "\n",
        "           <script>\n",
        "               \n",
        "                function vct_load_lib(url, callback){\n",
        "                      if(typeof d3 !== 'undefined' &&\n",
        "                         url === 'http://d3js.org/d3.v3.min.js'){\n",
        "                        callback()\n",
        "                      }\n",
        "                      var s = document.createElement('script');\n",
        "                      s.src = url;\n",
        "                      s.async = true;\n",
        "                      s.onreadystatechange = s.onload = callback;\n",
        "                      s.onerror = function(){\n",
        "                        console.warn(\"failed to load library \" + url);\n",
        "                        };\n",
        "                      document.getElementsByTagName(\"head\")[0].appendChild(s);\n",
        "                };\n",
        "                var vincent_event = new CustomEvent(\n",
        "                  \"vincent_libs_loaded\",\n",
        "                  {bubbles: true, cancelable: true}\n",
        "                );\n",
        "                \n",
        "               function load_all_libs(){\n",
        "                  console.log('Loading Vincent libs...')\n",
        "                  vct_load_lib('http://d3js.org/d3.v3.min.js', function(){\n",
        "                  vct_load_lib('http://d3js.org/d3.geo.projection.v0.min.js', function(){\n",
        "                  vct_load_lib('http://wrobstory.github.io/d3-cloud/d3.layout.cloud.js', function(){\n",
        "                  vct_load_lib('http://wrobstory.github.io/vega/vega.v1.3.3.js', function(){\n",
        "                  window.dispatchEvent(vincent_event);\n",
        "                  });\n",
        "                  });\n",
        "                  });\n",
        "                  });\n",
        "               };\n",
        "               if(typeof define === \"function\" && define.amd){\n",
        "                    if (window['d3'] === undefined ||\n",
        "                        window['topojson'] === undefined){\n",
        "                        require.config(\n",
        "                            {paths: {\n",
        "                              d3: 'http://d3js.org/d3.v3.min',\n",
        "                              topojson: 'http://d3js.org/topojson.v1.min'\n",
        "                              }\n",
        "                            }\n",
        "                          );\n",
        "                        require([\"d3\"], function(d3){\n",
        "                            console.log('Loading Vincent from require.js...')\n",
        "                            window.d3 = d3;\n",
        "                            require([\"topojson\"], function(topojson){\n",
        "                                window.topojson = topojson;\n",
        "                                load_all_libs();\n",
        "                            });\n",
        "                        });\n",
        "                    } else {\n",
        "                        load_all_libs();\n",
        "                    };\n",
        "               }else{\n",
        "                    console.log('Require.js not found, loading manually...')\n",
        "                    load_all_libs();\n",
        "               };\n",
        "\n",
        "           </script>"
       ],
       "metadata": {},
       "output_type": "display_data",
       "text": [
        "<IPython.core.display.HTML at 0x107b68110>"
       ]
      }
     ],
     "prompt_number": 3
    },
    {
     "cell_type": "heading",
     "level": 1,
     "metadata": {},
     "source": [
      "Generate graph"
     ]
    },
    {
     "cell_type": "code",
     "collapsed": false,
     "input": [
      "n = 8\n",
      "m = 2\n",
      "p = 0.3"
     ],
     "language": "python",
     "metadata": {},
     "outputs": [],
     "prompt_number": 4
    },
    {
     "cell_type": "code",
     "collapsed": true,
     "input": [
      "G = nx.barbell_graph(4,0)"
     ],
     "language": "python",
     "metadata": {},
     "outputs": [],
     "prompt_number": 5
    },
    {
     "cell_type": "code",
     "collapsed": false,
     "input": [
      "G = nx.scale_free_graph(n)"
     ],
     "language": "python",
     "metadata": {},
     "outputs": [],
     "prompt_number": 6
    },
    {
     "cell_type": "code",
     "collapsed": true,
     "input": [
      "G = nx.powerlaw_cluster_graph(n=n, m=m, p=p)"
     ],
     "language": "python",
     "metadata": {},
     "outputs": [],
     "prompt_number": 313
    },
    {
     "cell_type": "code",
     "collapsed": true,
     "input": [
      "G = nx.cycle_graph(5)"
     ],
     "language": "python",
     "metadata": {},
     "outputs": [],
     "prompt_number": 184
    },
    {
     "cell_type": "heading",
     "level": 3,
     "metadata": {},
     "source": [
      "Save and Plot Graph"
     ]
    },
    {
     "cell_type": "code",
     "collapsed": false,
     "input": [
      "d = json_graph.node_link_data(G)\n",
      "for node in d['nodes']:\n",
      "    node['name']=node['id']\n",
      "    node['value']=G.degree(node['id'])\n",
      "\n",
      "d['adjacency'] = json_graph.adjacency_data(G)['adjacency']\n",
      "json.dump(d, open('graph.json','w'))"
     ],
     "language": "python",
     "metadata": {},
     "outputs": [],
     "prompt_number": 7
    },
    {
     "cell_type": "code",
     "collapsed": false,
     "input": [
      "%%html\n",
      "<div id=\"d3-example\"></div>\n",
      "<style>\n",
      ".node {stroke: #fff; stroke-width: 1.5px;}\n",
      "marker {stroke: #999;}\n",
      ".link {stroke: #999; stroke-opacity: .3;}\n",
      "</style>\n",
      "<script src=\"force.js\"></script>"
     ],
     "language": "python",
     "metadata": {},
     "outputs": [
      {
       "html": [
        "<div id=\"d3-example\"></div>\n",
        "<style>\n",
        ".node {stroke: #fff; stroke-width: 1.5px;}\n",
        "marker {stroke: #999;}\n",
        ".link {stroke: #999; stroke-opacity: .3;}\n",
        "</style>\n",
        "<script src=\"force.js\"></script>"
       ],
       "metadata": {},
       "output_type": "display_data",
       "text": [
        "<IPython.core.display.HTML at 0x107c05090>"
       ]
      }
     ],
     "prompt_number": 9
    },
    {
     "cell_type": "heading",
     "level": 3,
     "metadata": {},
     "source": [
      "Convert to DiGraph, if necessary"
     ]
    },
    {
     "cell_type": "code",
     "collapsed": false,
     "input": [
      "if G.is_multigraph():\n",
      "    if G.is_directed():\n",
      "        Gm = G.copy()\n",
      "        G = nx.DiGraph()\n",
      "        for (u,v) in Gm.edges_iter():\n",
      "            G.add_edge(u,v)"
     ],
     "language": "python",
     "metadata": {},
     "outputs": [],
     "prompt_number": 10
    },
    {
     "cell_type": "heading",
     "level": 1,
     "metadata": {},
     "source": [
      "Simulate Random Walks"
     ]
    },
    {
     "cell_type": "code",
     "collapsed": true,
     "input": [
      "frogs = 1000"
     ],
     "language": "python",
     "metadata": {},
     "outputs": [],
     "prompt_number": 21
    },
    {
     "cell_type": "code",
     "collapsed": false,
     "input": [
      "# Life expectancy L. L should be the mean of a geometric distribution\n",
      "L = int(math.ceil(10*math.log(G.order())))"
     ],
     "language": "python",
     "metadata": {},
     "outputs": [],
     "prompt_number": 22
    },
    {
     "cell_type": "code",
     "collapsed": false,
     "input": [
      "# P_die is the probability that a frog dies at any given time\n",
      "P_die = 1/float(L)"
     ],
     "language": "python",
     "metadata": {},
     "outputs": [],
     "prompt_number": 23
    },
    {
     "cell_type": "code",
     "collapsed": false,
     "input": [
      "print \"Average death time:\", death_times_sum / frogs\n",
      "print \"Expected death time:\", L\n",
      "print \"Nominal death time STD:\", math.sqrt((1-P_die)/P_die**2)"
     ],
     "language": "python",
     "metadata": {},
     "outputs": [
      {
       "output_type": "stream",
       "stream": "stdout",
       "text": [
        "Average death time: 20\n",
        "Expected death time: 21\n",
        "Nominal death time STD: 20.4939015319\n"
       ]
      }
     ],
     "prompt_number": 175
    },
    {
     "cell_type": "heading",
     "level": 1,
     "metadata": {},
     "source": [
      "New development"
     ]
    },
    {
     "cell_type": "code",
     "collapsed": false,
     "input": [
      "def edgetokey(e):\n",
      "    (u,v) = e\n",
      "    return '(' + str(u) + ', ' + str(v) + ')'"
     ],
     "language": "python",
     "metadata": {},
     "outputs": [],
     "prompt_number": 24
    },
    {
     "cell_type": "code",
     "collapsed": false,
     "input": [
      "def isexpensive(G,expensiveedges,e):\n",
      "    if G.is_directed():\n",
      "        return edgetokey(e) in expensiveedges\n",
      "    else:\n",
      "        (u,v) = e\n",
      "        return edgetokey((u,v)) in expensiveedges or edgetokey((v,u)) in expensiveedges "
     ],
     "language": "python",
     "metadata": {},
     "outputs": [],
     "prompt_number": 34
    },
    {
     "cell_type": "code",
     "collapsed": false,
     "input": [
      "def dictcounter(d, k, v=1):\n",
      "    try:\n",
      "        d[k] += v\n",
      "    except:\n",
      "        d[k] = v"
     ],
     "language": "python",
     "metadata": {},
     "outputs": [],
     "prompt_number": 35
    },
    {
     "cell_type": "code",
     "collapsed": false,
     "input": [
      "def randomwalk(G, frogs, P_die):\n",
      "    frog_locations = np.random.randint(0, high = G.number_of_nodes(), size = frogs).tolist()\n",
      "    G.graph['teleportations'] = {}\n",
      "    for node in G.nodes_iter():\n",
      "        G.node[node]['visits'] = 0\n",
      "        G.node[node]['deaths'] = 0\n",
      "    # Initialize edge traversal counters\n",
      "    for e in G.edges_iter():\n",
      "        G.edge[e[0]][e[1]]['timeline'] = {}\n",
      "    frogs_left = frogs\n",
      "    time = 0\n",
      "    G.graph['total_visits'] = 0\n",
      "    G.graph['death_times_sum'] = 0\n",
      "\n",
      "    while frogs_left:\n",
      "        time +=1\n",
      "        for f in range(frogs):\n",
      "            curloc = frog_locations[f]\n",
      "\n",
      "            # Skip dead frogs\n",
      "            if curloc == None:\n",
      "                continue\n",
      "\n",
      "            # Flip coin to die\n",
      "            if random() < P_die:\n",
      "                G.node[curloc]['deaths'] += 1\n",
      "                G.graph['death_times_sum'] += time\n",
      "                frog_locations[f] = None\n",
      "                frogs_left -= 1\n",
      "                continue\n",
      "\n",
      "            G.graph['total_visits'] +=1\n",
      "\n",
      "            # Node has successors\n",
      "            if len(G[curloc])>0:\n",
      "                frog_locations[f] = choice(G[curloc].keys())\n",
      "                loc = frog_locations[f]\n",
      "\n",
      "                dictcounter(G.edge[curloc][loc]['timeline'], time)\n",
      "\n",
      "            # Node does not have successors - Teleport\n",
      "            else:\n",
      "                frog_locations[f] = np.random.randint(0, high = G.number_of_nodes())\n",
      "                dictcounter(G.graph['teleportations'],time)\n",
      "\n",
      "\n",
      "            G.node[frog_locations[f]]['visits'] +=1\n"
     ],
     "language": "python",
     "metadata": {},
     "outputs": [],
     "prompt_number": 36
    },
    {
     "cell_type": "code",
     "collapsed": false,
     "input": [
      "def plotrwresult(G):\n",
      "    visits = [G.node[node]['visits'] for node in G.nodes_iter() ]\n",
      "    norm_visits = np.array(visits)/float(G.graph['total_visits'])\n",
      "\n",
      "    deaths = [G.node[node]['deaths'] for node in G.nodes_iter() ]\n",
      "    norm_deaths = np.array(deaths)/float(sum(deaths))\n",
      "\n",
      "    if G.is_directed():\n",
      "        degrees = [ G.in_degree(node) for node in G.nodes_iter() ]\n",
      "        norm_degrees = np.array(degrees)/float(G.size())\n",
      "    else:\n",
      "        degrees = [ G.degree(node) for node in G.nodes_iter() ]\n",
      "        norm_degrees = np.array(degrees)/float(2*G.size())\n",
      "\n",
      "    multi_iter1 = {'index':range(G.order()), 'Visits':norm_visits, 'Deaths':norm_deaths, 'Degree':norm_degrees}\n",
      "    line = vincent.Scatter(multi_iter1, iter_idx='index')\n",
      "    line.axis_titles(x='Vertex', y='Juice')\n",
      "    line.legend(title='Results')\n",
      "    line.width = 400\n",
      "    line.height = 300\n",
      "    line.marks[0].marks[0].properties.enter.opacity = vincent.ValueRef(value=1)\n",
      "    \n",
      "    line.marks[0].marks[0].properties.update = vincent.PropertySet()\n",
      "    line.marks[0].marks[0].properties.update.size = vincent.ValueRef(value=100)\n",
      "    line.marks[0].marks[0].properties.hover = vincent.PropertySet()\n",
      "    line.marks[0].marks[0].properties.hover.size = vincent.ValueRef(value=200)\n",
      "    line.marks[0].marks[0].properties.update.size = vincent.ValueRef(value=100)\n",
      "    line.marks[0].marks[0].properties.hover = vincent.PropertySet()\n",
      "    line.marks[0].marks[0].properties.hover.size = vincent.ValueRef(value=200)\n",
      "    line.scales['shape'] = vincent.Scale(name='shape', type='ordinal',\n",
      "                          domain=vincent.DataRef(data='table', field='data.col'),\n",
      "                          range=[\"square\", \"circle\", \"triangle-down\", \"triangle-up\"])\n",
      "    line.marks[0].marks[0].properties.enter.shape = vincent.ValueRef(scale=\"shape\", field=\"data.col\")\n",
      "    line.legends[0].shape = \"shape\" \n",
      "    \n",
      "    return line"
     ],
     "language": "python",
     "metadata": {},
     "outputs": [],
     "prompt_number": 37
    },
    {
     "cell_type": "code",
     "collapsed": false,
     "input": [
      "def plotrwtraversal(G, expensiveedges=[]):\n",
      "    data = []\n",
      "    index = []\n",
      "\n",
      "    for e in G.edges_iter():\n",
      "        key = edgetokey((e[0], e[1]))\n",
      "        data.append(pd.Series(G.edge[e[0]][e[1]]['timeline']))\n",
      "        index.append(key)\n",
      "    \n",
      "    df = pd.DataFrame(data, index=index).T\n",
      "          \n",
      "    dfexp = df[expensiveedges].copy()\n",
      "    dfcheap = df.copy()\n",
      "    dfcheap.drop(expensiveedges, 1, inplace=True)\n",
      "    \n",
      "    dfexpcopy = dfexp.copy()\n",
      "    dfexpcopy[dfexp>0] = 1\n",
      "    cost = (dfexpcopy.sum(axis=1)).sum()\n",
      "    \n",
      "    if len(expensiveedges)>0:           \n",
      "        datacost = [dfexp.sum(axis=1), dfcheap.sum(axis=1)]\n",
      "        indexcost = ['Expensive', 'Cheap']\n",
      "        dfcost = pd.DataFrame(datacost, index=indexcost).T\n",
      "        \n",
      "        finaldf = dfcost\n",
      "    else:\n",
      "        finaldf = df\n",
      "\n",
      "    if len(G.graph['teleportations'])>0:\n",
      "        finaldf['Teleportation'] = pd.Series(G.graph['teleportations'])\n",
      "    \n",
      "    try:\n",
      "        if len(G.graph['waiting'])>0:\n",
      "            finaldf['Waiting'] = pd.Series(G.graph['waiting'])\n",
      "    except:\n",
      "        pass\n",
      "    \n",
      "    line = vincent.StackedArea(finaldf)\n",
      "    line.axis_titles(x='Time', y='# frogs')\n",
      "    line.legend(title='Edge')\n",
      "    line.width = 400\n",
      "    line.height = 300\n",
      "    line.marks[0].marks[0].properties.enter.opacity = vincent.ValueRef(value=0.8)\n",
      "   \n",
      "    if len(expensiveedges)>0:\n",
      "        print 'Total cost: ' + str(cost) + ' Billion dollars'\n",
      "        line.colors(range_=['#ff0000','#50aa50','#6060aa', '#eeeeee'])\n",
      "\n",
      "    \n",
      "    line.marks[0].marks[0].properties.update = vincent.PropertySet()\n",
      "    line.marks[0].marks[0].properties.update.size = vincent.ValueRef(value=100)\n",
      "    line.marks[0].marks[0].properties.hover = vincent.PropertySet()\n",
      "    line.marks[0].marks[0].properties.hover.size = vincent.ValueRef(value=200)\n",
      "\n",
      "    line.marks[0].marks[0].properties.update.opacity = vincent.ValueRef(value=0.8)\n",
      "    line.marks[0].marks[0].properties.hover.opacity = vincent.ValueRef(value=1)\n",
      "        \n",
      "    return line\n"
     ],
     "language": "python",
     "metadata": {},
     "outputs": [],
     "prompt_number": 82
    },
    {
     "cell_type": "code",
     "collapsed": true,
     "input": [
      "def randomwalk2(G, frogs, P_die, T=10, expensiveedges = []):\n",
      "    G.graph['teleportations'] = {}\n",
      "    G.graph['waiting'] = {}\n",
      "    for node in G.nodes_iter():\n",
      "        G.node[node]['visits'] = 0\n",
      "        G.node[node]['deaths'] = 0\n",
      "        G.node[node]['frogs'] = 0\n",
      "        G.node[node]['incomingfrogs'] = 0\n",
      "    # Initialize edge traversal counters\n",
      "    for e in G.edges_iter():\n",
      "        G.edge[e[0]][e[1]]['timeline'] = {}\n",
      "        if not G.is_directed():\n",
      "            G.edge[e[0]][e[1]]['frogstosmall'] = 0\n",
      "            G.edge[e[0]][e[1]]['frogstolarge'] = 0\n",
      "        else:\n",
      "            G.edge[e[0]][e[1]]['frogs'] = 0\n",
      "        \n",
      "    frogs_left = frogs\n",
      "    time = 0\n",
      "    G.graph['total_visits'] = 0\n",
      "    G.graph['death_times_sum'] = 0\n",
      "    \n",
      "    frog_locations = np.random.randint(0, high = G.number_of_nodes(), size = frogs).tolist()\n",
      "    for i in range(frogs):\n",
      "        G.node[frog_locations[i]]['frogs'] += 1\n",
      "    del frog_locations\n",
      "    \n",
      "    while frogs_left:\n",
      "        time +=1\n",
      "        \n",
      "        # Deal with old node frogs\n",
      "        for node in G.nodes_iter():\n",
      "            if G.node[node]['frogs'] == 0:\n",
      "                continue\n",
      "            for f in range(G.node[node]['frogs']):\n",
      "                # Flip coin to die\n",
      "                if random() < P_die:\n",
      "                    G.node[node]['deaths'] += 1\n",
      "                    G.graph['death_times_sum'] += time\n",
      "                    frogs_left -= 1\n",
      "                    continue\n",
      "                G.graph['total_visits'] +=1\n",
      "                # Node has successors\n",
      "                if len(G[node])>0:\n",
      "                    loc = choice(G[node].keys())\n",
      "                    if G.is_directed():\n",
      "                        G.edge[node][loc]['frogs'] += 1\n",
      "                    else:\n",
      "                        if loc >= node:\n",
      "                            G.edge[node][loc]['frogstolarge'] += 1\n",
      "                        else:\n",
      "                            G.edge[node][loc]['frogstosmall'] += 1\n",
      "                # Node does not have successors - Teleport\n",
      "                else:\n",
      "                    loc = np.random.randint(0, high = G.number_of_nodes())\n",
      "                    dictcounter(G.graph['teleportations'],time)\n",
      "                    G.node[loc]['incomingfrogs'] += 1\n",
      "                G.node[loc]['visits'] +=1\n",
      "            G.node[node]['frogs'] = 0\n",
      "            \n",
      "        # Deal with edge frogs\n",
      "        for (u,v) in G.edges_iter():\n",
      "            # Don't process expensive edges unless time is multiple of T\n",
      "            if isexpensive(G, expensiveedges, (u,v)) and not (time % T == ((u+v) % T)):\n",
      "            #if isexpensive(G, expensiveedges, (u,v)) and not (time % T == 0):\n",
      "                dictcounter(G.graph['waiting'], time, G.edge[u][v]['frogs'])\n",
      "                continue\n",
      "            \n",
      "            if G.is_directed():\n",
      "                G.node[v]['incomingfrogs'] += G.edge[u][v]['frogs']\n",
      "                dictcounter(G.edge[u][v]['timeline'], time, G.edge[u][v]['frogs'])\n",
      "                G.edge[u][v]['frogs'] = 0\n",
      "            else:\n",
      "                if v >= u:\n",
      "                    large = v\n",
      "                    small = u\n",
      "                else:\n",
      "                    large = u\n",
      "                    small = v\n",
      "                    \n",
      "                G.node[large]['incomingfrogs'] += G.edge[u][v]['frogstolarge']\n",
      "                dictcounter(G.edge[u][v]['timeline'], time, G.edge[u][v]['frogstolarge'])\n",
      "                G.edge[u][v]['frogstolarge'] = 0\n",
      "                \n",
      "                G.node[small]['incomingfrogs'] += G.edge[u][v]['frogstosmall']\n",
      "                dictcounter(G.edge[u][v]['timeline'], time, G.edge[u][v]['frogstosmall'])\n",
      "                G.edge[u][v]['frogstosmall'] = 0\n",
      "                \n",
      "        # Deal with node incoming frogs\n",
      "        for node in G.nodes_iter():\n",
      "            G.node[node]['frogs'] += G.node[node]['incomingfrogs']\n",
      "            G.node[node]['incomingfrogs'] = 0\n"
     ],
     "language": "python",
     "metadata": {},
     "outputs": [],
     "prompt_number": 52
    },
    {
     "cell_type": "heading",
     "level": 2,
     "metadata": {},
     "source": [
      "Run stuff"
     ]
    },
    {
     "cell_type": "code",
     "collapsed": false,
     "input": [
      "k=2\n",
      "expensiveedges = []\n",
      "for e in G.edges_iter():\n",
      "    if random() > 1/float(k):\n",
      "        expensiveedges.append(edgetokey(e))"
     ],
     "language": "python",
     "metadata": {},
     "outputs": [],
     "prompt_number": 94
    },
    {
     "cell_type": "code",
     "collapsed": false,
     "input": [
      "G2 = G.copy()\n",
      "randomwalk2(G2, frogs, P_die, 5, expensiveedges)\n",
      "#plotrwresult(G2)\n",
      "#plotrwtraversal(G2)\n",
      "plotrwtraversal(G2, expensiveedges)"
     ],
     "language": "python",
     "metadata": {},
     "outputs": [
      {
       "output_type": "stream",
       "stream": "stdout",
       "text": [
        "Total cost: 167.0 Billion dollars\n"
       ]
      },
      {
       "html": [
        "<div id=\"visc1efd29f9f3e4a78b0ecc73cfda27e55\"></div>\n",
        "<script>\n",
        "   ( function() {\n",
        "     var _do_plot = function() {\n",
        "       if (typeof vg === 'undefined') {\n",
        "         window.addEventListener('vincent_libs_loaded', _do_plot)\n",
        "         return;\n",
        "       }\n",
        "       vg.parse.spec({\"axes\": [{\"scale\": \"x\", \"title\": \"Time\", \"type\": \"x\"}, {\"scale\": \"y\", \"title\": \"# frogs\", \"type\": \"y\"}], \"data\": [{\"name\": \"table\", \"values\": [{\"col\": \"Expensive\", \"idx\": 1, \"val\": 57.0}, {\"col\": \"Cheap\", \"idx\": 1, \"val\": 622.0}, {\"col\": \"Teleportation\", \"idx\": 1, \"val\": 107.0}, {\"col\": \"Waiting\", \"idx\": 1, \"val\": 169.0}, {\"col\": \"Expensive\", \"idx\": 2, \"val\": 269.0}, {\"col\": \"Cheap\", \"idx\": 2, \"val\": 496.0}, {\"col\": \"Teleportation\", \"idx\": 2, \"val\": 13.0}, {\"col\": \"Waiting\", \"idx\": 2, \"val\": 138.0}, {\"col\": \"Expensive\", \"idx\": 3, \"val\": NaN}, {\"col\": \"Cheap\", \"idx\": 3, \"val\": 456.0}, {\"col\": \"Teleportation\", \"idx\": 3, \"val\": NaN}, {\"col\": \"Waiting\", \"idx\": 3, \"val\": 427.0}, {\"col\": \"Expensive\", \"idx\": 4, \"val\": NaN}, {\"col\": \"Cheap\", \"idx\": 4, \"val\": 277.0}, {\"col\": \"Teleportation\", \"idx\": 4, \"val\": NaN}, {\"col\": \"Waiting\", \"idx\": 4, \"val\": 582.0}, {\"col\": \"Expensive\", \"idx\": 5, \"val\": 353.0}, {\"col\": \"Cheap\", \"idx\": 5, \"val\": 166.0}, {\"col\": \"Teleportation\", \"idx\": 5, \"val\": NaN}, {\"col\": \"Waiting\", \"idx\": 5, \"val\": 322.0}, {\"col\": \"Expensive\", \"idx\": 6, \"val\": 82.0}, {\"col\": \"Cheap\", \"idx\": 6, \"val\": 108.0}, {\"col\": \"Teleportation\", \"idx\": 6, \"val\": 342.0}, {\"col\": \"Waiting\", \"idx\": 6, \"val\": 295.0}, {\"col\": \"Expensive\", \"idx\": 7, \"val\": 331.0}, {\"col\": \"Cheap\", \"idx\": 7, \"val\": 335.0}, {\"col\": \"Teleportation\", \"idx\": 7, \"val\": 52.0}, {\"col\": \"Waiting\", \"idx\": 7, \"val\": 75.0}, {\"col\": \"Expensive\", \"idx\": 8, \"val\": NaN}, {\"col\": \"Cheap\", \"idx\": 8, \"val\": 402.0}, {\"col\": \"Teleportation\", \"idx\": 8, \"val\": 7.0}, {\"col\": \"Waiting\", \"idx\": 8, \"val\": 357.0}, {\"col\": \"Expensive\", \"idx\": 9, \"val\": NaN}, {\"col\": \"Cheap\", \"idx\": 9, \"val\": 250.0}, {\"col\": \"Teleportation\", \"idx\": 9, \"val\": 1.0}, {\"col\": \"Waiting\", \"idx\": 9, \"val\": 498.0}, {\"col\": \"Expensive\", \"idx\": 10, \"val\": 250.0}, {\"col\": \"Cheap\", \"idx\": 10, \"val\": 145.0}, {\"col\": \"Teleportation\", \"idx\": 10, \"val\": NaN}, {\"col\": \"Waiting\", \"idx\": 10, \"val\": 337.0}, {\"col\": \"Expensive\", \"idx\": 11, \"val\": 141.0}, {\"col\": \"Cheap\", \"idx\": 11, \"val\": 85.0}, {\"col\": \"Teleportation\", \"idx\": 11, \"val\": 235.0}, {\"col\": \"Waiting\", \"idx\": 11, \"val\": 248.0}, {\"col\": \"Expensive\", \"idx\": 12, \"val\": 265.0}, {\"col\": \"Cheap\", \"idx\": 12, \"val\": 321.0}, {\"col\": \"Teleportation\", \"idx\": 12, \"val\": 29.0}, {\"col\": \"Waiting\", \"idx\": 12, \"val\": 69.0}, {\"col\": \"Expensive\", \"idx\": 13, \"val\": NaN}, {\"col\": \"Cheap\", \"idx\": 13, \"val\": 312.0}, {\"col\": \"Teleportation\", \"idx\": 13, \"val\": 5.0}, {\"col\": \"Waiting\", \"idx\": 13, \"val\": 334.0}, {\"col\": \"Expensive\", \"idx\": 14, \"val\": NaN}, {\"col\": \"Cheap\", \"idx\": 14, \"val\": 187.0}, {\"col\": \"Teleportation\", \"idx\": 14, \"val\": NaN}, {\"col\": \"Waiting\", \"idx\": 14, \"val\": 443.0}, {\"col\": \"Expensive\", \"idx\": 15, \"val\": 228.0}, {\"col\": \"Cheap\", \"idx\": 15, \"val\": 121.0}, {\"col\": \"Teleportation\", \"idx\": 15, \"val\": NaN}, {\"col\": \"Waiting\", \"idx\": 15, \"val\": 275.0}, {\"col\": \"Expensive\", \"idx\": 16, \"val\": 110.0}, {\"col\": \"Cheap\", \"idx\": 16, \"val\": 74.0}, {\"col\": \"Teleportation\", \"idx\": 16, \"val\": 221.0}, {\"col\": \"Waiting\", \"idx\": 16, \"val\": 206.0}, {\"col\": \"Expensive\", \"idx\": 17, \"val\": 236.0}, {\"col\": \"Cheap\", \"idx\": 17, \"val\": 273.0}, {\"col\": \"Teleportation\", \"idx\": 17, \"val\": 29.0}, {\"col\": \"Waiting\", \"idx\": 17, \"val\": 58.0}, {\"col\": \"Expensive\", \"idx\": 18, \"val\": NaN}, {\"col\": \"Cheap\", \"idx\": 18, \"val\": 295.0}, {\"col\": \"Teleportation\", \"idx\": 18, \"val\": 2.0}, {\"col\": \"Waiting\", \"idx\": 18, \"val\": 277.0}, {\"col\": \"Expensive\", \"idx\": 19, \"val\": NaN}, {\"col\": \"Cheap\", \"idx\": 19, \"val\": 167.0}, {\"col\": \"Teleportation\", \"idx\": 19, \"val\": NaN}, {\"col\": \"Waiting\", \"idx\": 19, \"val\": 387.0}, {\"col\": \"Expensive\", \"idx\": 20, \"val\": 168.0}, {\"col\": \"Cheap\", \"idx\": 20, \"val\": 94.0}, {\"col\": \"Teleportation\", \"idx\": 20, \"val\": NaN}, {\"col\": \"Waiting\", \"idx\": 20, \"val\": 286.0}, {\"col\": \"Expensive\", \"idx\": 21, \"val\": 106.0}, {\"col\": \"Cheap\", \"idx\": 21, \"val\": 49.0}, {\"col\": \"Teleportation\", \"idx\": 21, \"val\": 163.0}, {\"col\": \"Waiting\", \"idx\": 21, \"val\": 220.0}, {\"col\": \"Expensive\", \"idx\": 22, \"val\": 241.0}, {\"col\": \"Cheap\", \"idx\": 22, \"val\": 226.0}, {\"col\": \"Teleportation\", \"idx\": 22, \"val\": 19.0}, {\"col\": \"Waiting\", \"idx\": 22, \"val\": 34.0}, {\"col\": \"Expensive\", \"idx\": 23, \"val\": NaN}, {\"col\": \"Cheap\", \"idx\": 23, \"val\": 242.0}, {\"col\": \"Teleportation\", \"idx\": 23, \"val\": 3.0}, {\"col\": \"Waiting\", \"idx\": 23, \"val\": 247.0}, {\"col\": \"Expensive\", \"idx\": 24, \"val\": NaN}, {\"col\": \"Cheap\", \"idx\": 24, \"val\": 142.0}, {\"col\": \"Teleportation\", \"idx\": 24, \"val\": NaN}, {\"col\": \"Waiting\", \"idx\": 24, \"val\": 334.0}, {\"col\": \"Expensive\", \"idx\": 25, \"val\": 128.0}, {\"col\": \"Cheap\", \"idx\": 25, \"val\": 93.0}, {\"col\": \"Teleportation\", \"idx\": 25, \"val\": NaN}, {\"col\": \"Waiting\", \"idx\": 25, \"val\": 249.0}, {\"col\": \"Expensive\", \"idx\": 26, \"val\": 105.0}, {\"col\": \"Cheap\", \"idx\": 26, \"val\": 58.0}, {\"col\": \"Teleportation\", \"idx\": 26, \"val\": 124.0}, {\"col\": \"Waiting\", \"idx\": 26, \"val\": 176.0}, {\"col\": \"Expensive\", \"idx\": 27, \"val\": 182.0}, {\"col\": \"Cheap\", \"idx\": 27, \"val\": 212.0}, {\"col\": \"Teleportation\", \"idx\": 27, \"val\": 17.0}, {\"col\": \"Waiting\", \"idx\": 27, \"val\": 38.0}, {\"col\": \"Expensive\", \"idx\": 28, \"val\": NaN}, {\"col\": \"Cheap\", \"idx\": 28, \"val\": 200.0}, {\"col\": \"Teleportation\", \"idx\": 28, \"val\": 3.0}, {\"col\": \"Waiting\", \"idx\": 28, \"val\": 224.0}, {\"col\": \"Expensive\", \"idx\": 29, \"val\": NaN}, {\"col\": \"Cheap\", \"idx\": 29, \"val\": 124.0}, {\"col\": \"Teleportation\", \"idx\": 29, \"val\": NaN}, {\"col\": \"Waiting\", \"idx\": 29, \"val\": 295.0}, {\"col\": \"Expensive\", \"idx\": 30, \"val\": 150.0}, {\"col\": \"Cheap\", \"idx\": 30, \"val\": 84.0}, {\"col\": \"Teleportation\", \"idx\": 30, \"val\": NaN}, {\"col\": \"Waiting\", \"idx\": 30, \"val\": 181.0}, {\"col\": \"Expensive\", \"idx\": 31, \"val\": 87.0}, {\"col\": \"Cheap\", \"idx\": 31, \"val\": 49.0}, {\"col\": \"Teleportation\", \"idx\": 31, \"val\": 144.0}, {\"col\": \"Waiting\", \"idx\": 31, \"val\": 125.0}, {\"col\": \"Expensive\", \"idx\": 32, \"val\": 147.0}, {\"col\": \"Cheap\", \"idx\": 32, \"val\": 197.0}, {\"col\": \"Teleportation\", \"idx\": 32, \"val\": 15.0}, {\"col\": \"Waiting\", \"idx\": 32, \"val\": 35.0}, {\"col\": \"Expensive\", \"idx\": 33, \"val\": NaN}, {\"col\": \"Cheap\", \"idx\": 33, \"val\": 181.0}, {\"col\": \"Teleportation\", \"idx\": 33, \"val\": 1.0}, {\"col\": \"Waiting\", \"idx\": 33, \"val\": 189.0}, {\"col\": \"Expensive\", \"idx\": 34, \"val\": NaN}, {\"col\": \"Cheap\", \"idx\": 34, \"val\": 106.0}, {\"col\": \"Teleportation\", \"idx\": 34, \"val\": NaN}, {\"col\": \"Waiting\", \"idx\": 34, \"val\": 255.0}, {\"col\": \"Expensive\", \"idx\": 35, \"val\": 117.0}, {\"col\": \"Cheap\", \"idx\": 35, \"val\": 61.0}, {\"col\": \"Teleportation\", \"idx\": 35, \"val\": NaN}, {\"col\": \"Waiting\", \"idx\": 35, \"val\": 178.0}, {\"col\": \"Expensive\", \"idx\": 36, \"val\": 76.0}, {\"col\": \"Cheap\", \"idx\": 36, \"val\": 42.0}, {\"col\": \"Teleportation\", \"idx\": 36, \"val\": 112.0}, {\"col\": \"Waiting\", \"idx\": 36, \"val\": 120.0}, {\"col\": \"Expensive\", \"idx\": 37, \"val\": 143.0}, {\"col\": \"Cheap\", \"idx\": 37, \"val\": 160.0}, {\"col\": \"Teleportation\", \"idx\": 37, \"val\": 16.0}, {\"col\": \"Waiting\", \"idx\": 37, \"val\": 17.0}, {\"col\": \"Expensive\", \"idx\": 38, \"val\": NaN}, {\"col\": \"Cheap\", \"idx\": 38, \"val\": 153.0}, {\"col\": \"Teleportation\", \"idx\": 38, \"val\": 2.0}, {\"col\": \"Waiting\", \"idx\": 38, \"val\": 173.0}, {\"col\": \"Expensive\", \"idx\": 39, \"val\": NaN}, {\"col\": \"Cheap\", \"idx\": 39, \"val\": 88.0}, {\"col\": \"Teleportation\", \"idx\": 39, \"val\": 1.0}, {\"col\": \"Waiting\", \"idx\": 39, \"val\": 230.0}, {\"col\": \"Expensive\", \"idx\": 40, \"val\": 105.0}, {\"col\": \"Cheap\", \"idx\": 40, \"val\": 53.0}, {\"col\": \"Teleportation\", \"idx\": 40, \"val\": 1.0}, {\"col\": \"Waiting\", \"idx\": 40, \"val\": 157.0}, {\"col\": \"Expensive\", \"idx\": 41, \"val\": 74.0}, {\"col\": \"Cheap\", \"idx\": 41, \"val\": 36.0}, {\"col\": \"Teleportation\", \"idx\": 41, \"val\": 98.0}, {\"col\": \"Waiting\", \"idx\": 41, \"val\": 99.0}, {\"col\": \"Expensive\", \"idx\": 42, \"val\": 108.0}, {\"col\": \"Cheap\", \"idx\": 42, \"val\": 150.0}, {\"col\": \"Teleportation\", \"idx\": 42, \"val\": 16.0}, {\"col\": \"Waiting\", \"idx\": 42, \"val\": 26.0}, {\"col\": \"Expensive\", \"idx\": 43, \"val\": NaN}, {\"col\": \"Cheap\", \"idx\": 43, \"val\": 143.0}, {\"col\": \"Teleportation\", \"idx\": 43, \"val\": 1.0}, {\"col\": \"Waiting\", \"idx\": 43, \"val\": 137.0}, {\"col\": \"Expensive\", \"idx\": 44, \"val\": NaN}, {\"col\": \"Cheap\", \"idx\": 44, \"val\": 87.0}, {\"col\": \"Teleportation\", \"idx\": 44, \"val\": NaN}, {\"col\": \"Waiting\", \"idx\": 44, \"val\": 188.0}, {\"col\": \"Expensive\", \"idx\": 45, \"val\": 85.0}, {\"col\": \"Cheap\", \"idx\": 45, \"val\": 53.0}, {\"col\": \"Teleportation\", \"idx\": 45, \"val\": NaN}, {\"col\": \"Waiting\", \"idx\": 45, \"val\": 130.0}, {\"col\": \"Expensive\", \"idx\": 46, \"val\": 57.0}, {\"col\": \"Cheap\", \"idx\": 46, \"val\": 31.0}, {\"col\": \"Teleportation\", \"idx\": 46, \"val\": 80.0}, {\"col\": \"Waiting\", \"idx\": 46, \"val\": 93.0}, {\"col\": \"Expensive\", \"idx\": 47, \"val\": 104.0}, {\"col\": \"Cheap\", \"idx\": 47, \"val\": 124.0}, {\"col\": \"Teleportation\", \"idx\": 47, \"val\": 9.0}, {\"col\": \"Waiting\", \"idx\": 47, \"val\": 16.0}, {\"col\": \"Expensive\", \"idx\": 48, \"val\": NaN}, {\"col\": \"Cheap\", \"idx\": 48, \"val\": 122.0}, {\"col\": \"Teleportation\", \"idx\": 48, \"val\": 1.0}, {\"col\": \"Waiting\", \"idx\": 48, \"val\": 121.0}, {\"col\": \"Expensive\", \"idx\": 49, \"val\": NaN}, {\"col\": \"Cheap\", \"idx\": 49, \"val\": 68.0}, {\"col\": \"Teleportation\", \"idx\": 49, \"val\": NaN}, {\"col\": \"Waiting\", \"idx\": 49, \"val\": 167.0}, {\"col\": \"Expensive\", \"idx\": 50, \"val\": 83.0}, {\"col\": \"Cheap\", \"idx\": 50, \"val\": 44.0}, {\"col\": \"Teleportation\", \"idx\": 50, \"val\": NaN}, {\"col\": \"Waiting\", \"idx\": 50, \"val\": 104.0}, {\"col\": \"Expensive\", \"idx\": 51, \"val\": 37.0}, {\"col\": \"Cheap\", \"idx\": 51, \"val\": 30.0}, {\"col\": \"Teleportation\", \"idx\": 51, \"val\": 74.0}, {\"col\": \"Waiting\", \"idx\": 51, \"val\": 78.0}, {\"col\": \"Expensive\", \"idx\": 52, \"val\": 83.0}, {\"col\": \"Cheap\", \"idx\": 52, \"val\": 103.0}, {\"col\": \"Teleportation\", \"idx\": 52, \"val\": 14.0}, {\"col\": \"Waiting\", \"idx\": 52, \"val\": 18.0}, {\"col\": \"Expensive\", \"idx\": 53, \"val\": NaN}, {\"col\": \"Cheap\", \"idx\": 53, \"val\": 108.0}, {\"col\": \"Teleportation\", \"idx\": 53, \"val\": 1.0}, {\"col\": \"Waiting\", \"idx\": 53, \"val\": 104.0}, {\"col\": \"Expensive\", \"idx\": 54, \"val\": NaN}, {\"col\": \"Cheap\", \"idx\": 54, \"val\": 65.0}, {\"col\": \"Teleportation\", \"idx\": 54, \"val\": NaN}, {\"col\": \"Waiting\", \"idx\": 54, \"val\": 142.0}, {\"col\": \"Expensive\", \"idx\": 55, \"val\": 70.0}, {\"col\": \"Cheap\", \"idx\": 55, \"val\": 44.0}, {\"col\": \"Teleportation\", \"idx\": 55, \"val\": NaN}, {\"col\": \"Waiting\", \"idx\": 55, \"val\": 93.0}, {\"col\": \"Expensive\", \"idx\": 56, \"val\": 41.0}, {\"col\": \"Cheap\", \"idx\": 56, \"val\": 28.0}, {\"col\": \"Teleportation\", \"idx\": 56, \"val\": 66.0}, {\"col\": \"Waiting\", \"idx\": 56, \"val\": 66.0}, {\"col\": \"Expensive\", \"idx\": 57, \"val\": 77.0}, {\"col\": \"Cheap\", \"idx\": 57, \"val\": 97.0}, {\"col\": \"Teleportation\", \"idx\": 57, \"val\": 6.0}, {\"col\": \"Waiting\", \"idx\": 57, \"val\": 17.0}, {\"col\": \"Expensive\", \"idx\": 58, \"val\": NaN}, {\"col\": \"Cheap\", \"idx\": 58, \"val\": 101.0}, {\"col\": \"Teleportation\", \"idx\": 58, \"val\": 3.0}, {\"col\": \"Waiting\", \"idx\": 58, \"val\": 87.0}, {\"col\": \"Expensive\", \"idx\": 59, \"val\": NaN}, {\"col\": \"Cheap\", \"idx\": 59, \"val\": 60.0}, {\"col\": \"Teleportation\", \"idx\": 59, \"val\": NaN}, {\"col\": \"Waiting\", \"idx\": 59, \"val\": 124.0}, {\"col\": \"Expensive\", \"idx\": 60, \"val\": 63.0}, {\"col\": \"Cheap\", \"idx\": 60, \"val\": 37.0}, {\"col\": \"Teleportation\", \"idx\": 60, \"val\": NaN}, {\"col\": \"Waiting\", \"idx\": 60, \"val\": 80.0}, {\"col\": \"Expensive\", \"idx\": 61, \"val\": 35.0}, {\"col\": \"Cheap\", \"idx\": 61, \"val\": 25.0}, {\"col\": \"Teleportation\", \"idx\": 61, \"val\": 59.0}, {\"col\": \"Waiting\", \"idx\": 61, \"val\": 57.0}, {\"col\": \"Expensive\", \"idx\": 62, \"val\": 63.0}, {\"col\": \"Cheap\", \"idx\": 62, \"val\": 81.0}, {\"col\": \"Teleportation\", \"idx\": 62, \"val\": 8.0}, {\"col\": \"Waiting\", \"idx\": 62, \"val\": 17.0}, {\"col\": \"Expensive\", \"idx\": 63, \"val\": NaN}, {\"col\": \"Cheap\", \"idx\": 63, \"val\": 85.0}, {\"col\": \"Teleportation\", \"idx\": 63, \"val\": 1.0}, {\"col\": \"Waiting\", \"idx\": 63, \"val\": 75.0}, {\"col\": \"Expensive\", \"idx\": 64, \"val\": NaN}, {\"col\": \"Cheap\", \"idx\": 64, \"val\": 50.0}, {\"col\": \"Teleportation\", \"idx\": 64, \"val\": NaN}, {\"col\": \"Waiting\", \"idx\": 64, \"val\": 107.0}, {\"col\": \"Expensive\", \"idx\": 65, \"val\": 53.0}, {\"col\": \"Cheap\", \"idx\": 65, \"val\": 34.0}, {\"col\": \"Teleportation\", \"idx\": 65, \"val\": NaN}, {\"col\": \"Waiting\", \"idx\": 65, \"val\": 70.0}, {\"col\": \"Expensive\", \"idx\": 66, \"val\": 30.0}, {\"col\": \"Cheap\", \"idx\": 66, \"val\": 23.0}, {\"col\": \"Teleportation\", \"idx\": 66, \"val\": 51.0}, {\"col\": \"Waiting\", \"idx\": 66, \"val\": 51.0}, {\"col\": \"Expensive\", \"idx\": 67, \"val\": 58.0}, {\"col\": \"Cheap\", \"idx\": 67, \"val\": 76.0}, {\"col\": \"Teleportation\", \"idx\": 67, \"val\": 5.0}, {\"col\": \"Waiting\", \"idx\": 67, \"val\": 12.0}, {\"col\": \"Expensive\", \"idx\": 68, \"val\": NaN}, {\"col\": \"Cheap\", \"idx\": 68, \"val\": 70.0}, {\"col\": \"Teleportation\", \"idx\": 68, \"val\": 1.0}, {\"col\": \"Waiting\", \"idx\": 68, \"val\": 70.0}, {\"col\": \"Expensive\", \"idx\": 69, \"val\": NaN}, {\"col\": \"Cheap\", \"idx\": 69, \"val\": 47.0}, {\"col\": \"Teleportation\", \"idx\": 69, \"val\": NaN}, {\"col\": \"Waiting\", \"idx\": 69, \"val\": 92.0}, {\"col\": \"Expensive\", \"idx\": 70, \"val\": 44.0}, {\"col\": \"Cheap\", \"idx\": 70, \"val\": 28.0}, {\"col\": \"Teleportation\", \"idx\": 70, \"val\": NaN}, {\"col\": \"Waiting\", \"idx\": 70, \"val\": 66.0}, {\"col\": \"Expensive\", \"idx\": 71, \"val\": 25.0}, {\"col\": \"Cheap\", \"idx\": 71, \"val\": 17.0}, {\"col\": \"Teleportation\", \"idx\": 71, \"val\": 39.0}, {\"col\": \"Waiting\", \"idx\": 71, \"val\": 51.0}, {\"col\": \"Expensive\", \"idx\": 72, \"val\": 53.0}, {\"col\": \"Cheap\", \"idx\": 72, \"val\": 57.0}, {\"col\": \"Teleportation\", \"idx\": 72, \"val\": 2.0}, {\"col\": \"Waiting\", \"idx\": 72, \"val\": 14.0}, {\"col\": \"Expensive\", \"idx\": 73, \"val\": NaN}, {\"col\": \"Cheap\", \"idx\": 73, \"val\": 59.0}, {\"col\": \"Teleportation\", \"idx\": 73, \"val\": NaN}, {\"col\": \"Waiting\", \"idx\": 73, \"val\": 63.0}, {\"col\": \"Expensive\", \"idx\": 74, \"val\": NaN}, {\"col\": \"Cheap\", \"idx\": 74, \"val\": 31.0}, {\"col\": \"Teleportation\", \"idx\": 74, \"val\": NaN}, {\"col\": \"Waiting\", \"idx\": 74, \"val\": 87.0}, {\"col\": \"Expensive\", \"idx\": 75, \"val\": 32.0}, {\"col\": \"Cheap\", \"idx\": 75, \"val\": 21.0}, {\"col\": \"Teleportation\", \"idx\": 75, \"val\": NaN}, {\"col\": \"Waiting\", \"idx\": 75, \"val\": 63.0}, {\"col\": \"Expensive\", \"idx\": 76, \"val\": 29.0}, {\"col\": \"Cheap\", \"idx\": 76, \"val\": 14.0}, {\"col\": \"Teleportation\", \"idx\": 76, \"val\": 29.0}, {\"col\": \"Waiting\", \"idx\": 76, \"val\": 40.0}, {\"col\": \"Expensive\", \"idx\": 77, \"val\": 50.0}, {\"col\": \"Cheap\", \"idx\": 77, \"val\": 51.0}, {\"col\": \"Teleportation\", \"idx\": 77, \"val\": 1.0}, {\"col\": \"Waiting\", \"idx\": 77, \"val\": 6.0}, {\"col\": \"Expensive\", \"idx\": 78, \"val\": NaN}, {\"col\": \"Cheap\", \"idx\": 78, \"val\": 57.0}, {\"col\": \"Teleportation\", \"idx\": 78, \"val\": NaN}, {\"col\": \"Waiting\", \"idx\": 78, \"val\": 48.0}, {\"col\": \"Expensive\", \"idx\": 79, \"val\": NaN}, {\"col\": \"Cheap\", \"idx\": 79, \"val\": 29.0}, {\"col\": \"Teleportation\", \"idx\": 79, \"val\": NaN}, {\"col\": \"Waiting\", \"idx\": 79, \"val\": 73.0}, {\"col\": \"Expensive\", \"idx\": 80, \"val\": 33.0}, {\"col\": \"Cheap\", \"idx\": 80, \"val\": 19.0}, {\"col\": \"Teleportation\", \"idx\": 80, \"val\": NaN}, {\"col\": \"Waiting\", \"idx\": 80, \"val\": 48.0}, {\"col\": \"Expensive\", \"idx\": 81, \"val\": 19.0}, {\"col\": \"Cheap\", \"idx\": 81, \"val\": 13.0}, {\"col\": \"Teleportation\", \"idx\": 81, \"val\": 30.0}, {\"col\": \"Waiting\", \"idx\": 81, \"val\": 35.0}, {\"col\": \"Expensive\", \"idx\": 82, \"val\": 35.0}, {\"col\": \"Cheap\", \"idx\": 82, \"val\": 48.0}, {\"col\": \"Teleportation\", \"idx\": 82, \"val\": 1.0}, {\"col\": \"Waiting\", \"idx\": 82, \"val\": 10.0}, {\"col\": \"Expensive\", \"idx\": 83, \"val\": NaN}, {\"col\": \"Cheap\", \"idx\": 83, \"val\": 36.0}, {\"col\": \"Teleportation\", \"idx\": 83, \"val\": NaN}, {\"col\": \"Waiting\", \"idx\": 83, \"val\": 52.0}, {\"col\": \"Expensive\", \"idx\": 84, \"val\": NaN}, {\"col\": \"Cheap\", \"idx\": 84, \"val\": 19.0}, {\"col\": \"Teleportation\", \"idx\": 84, \"val\": NaN}, {\"col\": \"Waiting\", \"idx\": 84, \"val\": 68.0}, {\"col\": \"Expensive\", \"idx\": 85, \"val\": 26.0}, {\"col\": \"Cheap\", \"idx\": 85, \"val\": 9.0}, {\"col\": \"Teleportation\", \"idx\": 85, \"val\": NaN}, {\"col\": \"Waiting\", \"idx\": 85, \"val\": 51.0}, {\"col\": \"Expensive\", \"idx\": 86, \"val\": 28.0}, {\"col\": \"Cheap\", \"idx\": 86, \"val\": 6.0}, {\"col\": \"Teleportation\", \"idx\": 86, \"val\": 25.0}, {\"col\": \"Waiting\", \"idx\": 86, \"val\": 26.0}, {\"col\": \"Expensive\", \"idx\": 87, \"val\": 32.0}, {\"col\": \"Cheap\", \"idx\": 87, \"val\": 47.0}, {\"col\": \"Teleportation\", \"idx\": 87, \"val\": NaN}, {\"col\": \"Waiting\", \"idx\": 87, \"val\": 5.0}, {\"col\": \"Expensive\", \"idx\": 88, \"val\": NaN}, {\"col\": \"Cheap\", \"idx\": 88, \"val\": 40.0}, {\"col\": \"Teleportation\", \"idx\": 88, \"val\": NaN}, {\"col\": \"Waiting\", \"idx\": 88, \"val\": 40.0}, {\"col\": \"Expensive\", \"idx\": 89, \"val\": NaN}, {\"col\": \"Cheap\", \"idx\": 89, \"val\": 26.0}, {\"col\": \"Teleportation\", \"idx\": 89, \"val\": NaN}, {\"col\": \"Waiting\", \"idx\": 89, \"val\": 53.0}, {\"col\": \"Expensive\", \"idx\": 90, \"val\": 26.0}, {\"col\": \"Cheap\", \"idx\": 90, \"val\": 17.0}, {\"col\": \"Teleportation\", \"idx\": 90, \"val\": NaN}, {\"col\": \"Waiting\", \"idx\": 90, \"val\": 33.0}, {\"col\": \"Expensive\", \"idx\": 91, \"val\": 15.0}, {\"col\": \"Cheap\", \"idx\": 91, \"val\": 7.0}, {\"col\": \"Teleportation\", \"idx\": 91, \"val\": 26.0}, {\"col\": \"Waiting\", \"idx\": 91, \"val\": 27.0}, {\"col\": \"Expensive\", \"idx\": 92, \"val\": 27.0}, {\"col\": \"Cheap\", \"idx\": 92, \"val\": 32.0}, {\"col\": \"Teleportation\", \"idx\": 92, \"val\": 3.0}, {\"col\": \"Waiting\", \"idx\": 92, \"val\": 11.0}, {\"col\": \"Expensive\", \"idx\": 93, \"val\": NaN}, {\"col\": \"Cheap\", \"idx\": 93, \"val\": 26.0}, {\"col\": \"Teleportation\", \"idx\": 93, \"val\": NaN}, {\"col\": \"Waiting\", \"idx\": 93, \"val\": 42.0}, {\"col\": \"Expensive\", \"idx\": 94, \"val\": NaN}, {\"col\": \"Cheap\", \"idx\": 94, \"val\": 10.0}, {\"col\": \"Teleportation\", \"idx\": 94, \"val\": NaN}, {\"col\": \"Waiting\", \"idx\": 94, \"val\": 55.0}, {\"col\": \"Expensive\", \"idx\": 95, \"val\": 20.0}, {\"col\": \"Cheap\", \"idx\": 95, \"val\": 7.0}, {\"col\": \"Teleportation\", \"idx\": 95, \"val\": NaN}, {\"col\": \"Waiting\", \"idx\": 95, \"val\": 37.0}, {\"col\": \"Expensive\", \"idx\": 96, \"val\": 17.0}, {\"col\": \"Cheap\", \"idx\": 96, \"val\": 3.0}, {\"col\": \"Teleportation\", \"idx\": 96, \"val\": 20.0}, {\"col\": \"Waiting\", \"idx\": 96, \"val\": 24.0}, {\"col\": \"Expensive\", \"idx\": 97, \"val\": 25.0}, {\"col\": \"Cheap\", \"idx\": 97, \"val\": 26.0}, {\"col\": \"Teleportation\", \"idx\": 97, \"val\": 5.0}, {\"col\": \"Waiting\", \"idx\": 97, \"val\": 5.0}, {\"col\": \"Expensive\", \"idx\": 98, \"val\": NaN}, {\"col\": \"Cheap\", \"idx\": 98, \"val\": 29.0}, {\"col\": \"Teleportation\", \"idx\": 98, \"val\": NaN}, {\"col\": \"Waiting\", \"idx\": 98, \"val\": 31.0}, {\"col\": \"Expensive\", \"idx\": 99, \"val\": NaN}, {\"col\": \"Cheap\", \"idx\": 99, \"val\": 18.0}, {\"col\": \"Teleportation\", \"idx\": 99, \"val\": NaN}, {\"col\": \"Waiting\", \"idx\": 99, \"val\": 41.0}, {\"col\": \"Expensive\", \"idx\": 100, \"val\": 19.0}, {\"col\": \"Cheap\", \"idx\": 100, \"val\": 13.0}, {\"col\": \"Teleportation\", \"idx\": 100, \"val\": NaN}, {\"col\": \"Waiting\", \"idx\": 100, \"val\": 27.0}, {\"col\": \"Expensive\", \"idx\": 101, \"val\": 12.0}, {\"col\": \"Cheap\", \"idx\": 101, \"val\": 10.0}, {\"col\": \"Teleportation\", \"idx\": 101, \"val\": 19.0}, {\"col\": \"Waiting\", \"idx\": 101, \"val\": 18.0}, {\"col\": \"Expensive\", \"idx\": 102, \"val\": 17.0}, {\"col\": \"Cheap\", \"idx\": 102, \"val\": 32.0}, {\"col\": \"Teleportation\", \"idx\": 102, \"val\": 3.0}, {\"col\": \"Waiting\", \"idx\": 102, \"val\": 6.0}, {\"col\": \"Expensive\", \"idx\": 103, \"val\": NaN}, {\"col\": \"Cheap\", \"idx\": 103, \"val\": 24.0}, {\"col\": \"Teleportation\", \"idx\": 103, \"val\": NaN}, {\"col\": \"Waiting\", \"idx\": 103, \"val\": 27.0}, {\"col\": \"Expensive\", \"idx\": 104, \"val\": NaN}, {\"col\": \"Cheap\", \"idx\": 104, \"val\": 13.0}, {\"col\": \"Teleportation\", \"idx\": 104, \"val\": NaN}, {\"col\": \"Waiting\", \"idx\": 104, \"val\": 37.0}, {\"col\": \"Expensive\", \"idx\": 105, \"val\": 17.0}, {\"col\": \"Cheap\", \"idx\": 105, \"val\": 11.0}, {\"col\": \"Teleportation\", \"idx\": 105, \"val\": NaN}, {\"col\": \"Waiting\", \"idx\": 105, \"val\": 22.0}, {\"col\": \"Expensive\", \"idx\": 106, \"val\": 9.0}, {\"col\": \"Cheap\", \"idx\": 106, \"val\": 6.0}, {\"col\": \"Teleportation\", \"idx\": 106, \"val\": 17.0}, {\"col\": \"Waiting\", \"idx\": 106, \"val\": 18.0}, {\"col\": \"Expensive\", \"idx\": 107, \"val\": 21.0}, {\"col\": \"Cheap\", \"idx\": 107, \"val\": 20.0}, {\"col\": \"Teleportation\", \"idx\": 107, \"val\": 2.0}, {\"col\": \"Waiting\", \"idx\": 107, \"val\": 6.0}, {\"col\": \"Expensive\", \"idx\": 108, \"val\": NaN}, {\"col\": \"Cheap\", \"idx\": 108, \"val\": 19.0}, {\"col\": \"Teleportation\", \"idx\": 108, \"val\": NaN}, {\"col\": \"Waiting\", \"idx\": 108, \"val\": 29.0}, {\"col\": \"Expensive\", \"idx\": 109, \"val\": NaN}, {\"col\": \"Cheap\", \"idx\": 109, \"val\": 15.0}, {\"col\": \"Teleportation\", \"idx\": 109, \"val\": NaN}, {\"col\": \"Waiting\", \"idx\": 109, \"val\": 32.0}, {\"col\": \"Expensive\", \"idx\": 110, \"val\": 10.0}, {\"col\": \"Cheap\", \"idx\": 110, \"val\": 10.0}, {\"col\": \"Teleportation\", \"idx\": 110, \"val\": NaN}, {\"col\": \"Waiting\", \"idx\": 110, \"val\": 27.0}, {\"col\": \"Expensive\", \"idx\": 111, \"val\": 16.0}, {\"col\": \"Cheap\", \"idx\": 111, \"val\": 8.0}, {\"col\": \"Teleportation\", \"idx\": 111, \"val\": 9.0}, {\"col\": \"Waiting\", \"idx\": 111, \"val\": 13.0}, {\"col\": \"Expensive\", \"idx\": 112, \"val\": 15.0}, {\"col\": \"Cheap\", \"idx\": 112, \"val\": 25.0}, {\"col\": \"Teleportation\", \"idx\": 112, \"val\": 1.0}, {\"col\": \"Waiting\", \"idx\": 112, \"val\": 3.0}, {\"col\": \"Expensive\", \"idx\": 113, \"val\": NaN}, {\"col\": \"Cheap\", \"idx\": 113, \"val\": 24.0}, {\"col\": \"Teleportation\", \"idx\": 113, \"val\": NaN}, {\"col\": \"Waiting\", \"idx\": 113, \"val\": 19.0}, {\"col\": \"Expensive\", \"idx\": 114, \"val\": NaN}, {\"col\": \"Cheap\", \"idx\": 114, \"val\": 16.0}, {\"col\": \"Teleportation\", \"idx\": 114, \"val\": NaN}, {\"col\": \"Waiting\", \"idx\": 114, \"val\": 27.0}, {\"col\": \"Expensive\", \"idx\": 115, \"val\": 12.0}, {\"col\": \"Cheap\", \"idx\": 115, \"val\": 11.0}, {\"col\": \"Teleportation\", \"idx\": 115, \"val\": NaN}, {\"col\": \"Waiting\", \"idx\": 115, \"val\": 20.0}, {\"col\": \"Expensive\", \"idx\": 116, \"val\": 8.0}, {\"col\": \"Cheap\", \"idx\": 116, \"val\": 6.0}, {\"col\": \"Teleportation\", \"idx\": 116, \"val\": 12.0}, {\"col\": \"Waiting\", \"idx\": 116, \"val\": 17.0}, {\"col\": \"Expensive\", \"idx\": 117, \"val\": 19.0}, {\"col\": \"Cheap\", \"idx\": 117, \"val\": 17.0}, {\"col\": \"Teleportation\", \"idx\": 117, \"val\": 2.0}, {\"col\": \"Waiting\", \"idx\": 117, \"val\": 5.0}, {\"col\": \"Expensive\", \"idx\": 118, \"val\": NaN}, {\"col\": \"Cheap\", \"idx\": 118, \"val\": 17.0}, {\"col\": \"Teleportation\", \"idx\": 118, \"val\": NaN}, {\"col\": \"Waiting\", \"idx\": 118, \"val\": 23.0}, {\"col\": \"Expensive\", \"idx\": 119, \"val\": NaN}, {\"col\": \"Cheap\", \"idx\": 119, \"val\": 11.0}, {\"col\": \"Teleportation\", \"idx\": 119, \"val\": NaN}, {\"col\": \"Waiting\", \"idx\": 119, \"val\": 28.0}, {\"col\": \"Expensive\", \"idx\": 120, \"val\": 14.0}, {\"col\": \"Cheap\", \"idx\": 120, \"val\": 9.0}, {\"col\": \"Teleportation\", \"idx\": 120, \"val\": NaN}, {\"col\": \"Waiting\", \"idx\": 120, \"val\": 16.0}, {\"col\": \"Expensive\", \"idx\": 121, \"val\": 8.0}, {\"col\": \"Cheap\", \"idx\": 121, \"val\": 7.0}, {\"col\": \"Teleportation\", \"idx\": 121, \"val\": 14.0}, {\"col\": \"Waiting\", \"idx\": 121, \"val\": 10.0}, {\"col\": \"Expensive\", \"idx\": 122, \"val\": 11.0}, {\"col\": \"Cheap\", \"idx\": 122, \"val\": 20.0}, {\"col\": \"Teleportation\", \"idx\": 122, \"val\": 2.0}, {\"col\": \"Waiting\", \"idx\": 122, \"val\": 5.0}, {\"col\": \"Expensive\", \"idx\": 123, \"val\": NaN}, {\"col\": \"Cheap\", \"idx\": 123, \"val\": 18.0}, {\"col\": \"Teleportation\", \"idx\": 123, \"val\": NaN}, {\"col\": \"Waiting\", \"idx\": 123, \"val\": 19.0}, {\"col\": \"Expensive\", \"idx\": 124, \"val\": NaN}, {\"col\": \"Cheap\", \"idx\": 124, \"val\": 9.0}, {\"col\": \"Teleportation\", \"idx\": 124, \"val\": NaN}, {\"col\": \"Waiting\", \"idx\": 124, \"val\": 26.0}, {\"col\": \"Expensive\", \"idx\": 125, \"val\": 14.0}, {\"col\": \"Cheap\", \"idx\": 125, \"val\": 3.0}, {\"col\": \"Teleportation\", \"idx\": 125, \"val\": NaN}, {\"col\": \"Waiting\", \"idx\": 125, \"val\": 18.0}, {\"col\": \"Expensive\", \"idx\": 126, \"val\": 8.0}, {\"col\": \"Cheap\", \"idx\": 126, \"val\": 2.0}, {\"col\": \"Teleportation\", \"idx\": 126, \"val\": 14.0}, {\"col\": \"Waiting\", \"idx\": 126, \"val\": 11.0}, {\"col\": \"Expensive\", \"idx\": 127, \"val\": 12.0}, {\"col\": \"Cheap\", \"idx\": 127, \"val\": 14.0}, {\"col\": \"Teleportation\", \"idx\": 127, \"val\": 1.0}, {\"col\": \"Waiting\", \"idx\": 127, \"val\": 6.0}, {\"col\": \"Expensive\", \"idx\": 128, \"val\": NaN}, {\"col\": \"Cheap\", \"idx\": 128, \"val\": 11.0}, {\"col\": \"Teleportation\", \"idx\": 128, \"val\": NaN}, {\"col\": \"Waiting\", \"idx\": 128, \"val\": 20.0}, {\"col\": \"Expensive\", \"idx\": 129, \"val\": NaN}, {\"col\": \"Cheap\", \"idx\": 129, \"val\": 4.0}, {\"col\": \"Teleportation\", \"idx\": 129, \"val\": NaN}, {\"col\": \"Waiting\", \"idx\": 129, \"val\": 26.0}, {\"col\": \"Expensive\", \"idx\": 130, \"val\": 10.0}, {\"col\": \"Cheap\", \"idx\": 130, \"val\": 4.0}, {\"col\": \"Teleportation\", \"idx\": 130, \"val\": NaN}, {\"col\": \"Waiting\", \"idx\": 130, \"val\": 16.0}, {\"col\": \"Expensive\", \"idx\": 131, \"val\": 9.0}, {\"col\": \"Cheap\", \"idx\": 131, \"val\": 2.0}, {\"col\": \"Teleportation\", \"idx\": 131, \"val\": 8.0}, {\"col\": \"Waiting\", \"idx\": 131, \"val\": 8.0}, {\"col\": \"Expensive\", \"idx\": 132, \"val\": 10.0}, {\"col\": \"Cheap\", \"idx\": 132, \"val\": 15.0}, {\"col\": \"Teleportation\", \"idx\": 132, \"val\": 2.0}, {\"col\": \"Waiting\", \"idx\": 132, \"val\": 0.0}, {\"col\": \"Expensive\", \"idx\": 133, \"val\": NaN}, {\"col\": \"Cheap\", \"idx\": 133, \"val\": 15.0}, {\"col\": \"Teleportation\", \"idx\": 133, \"val\": NaN}, {\"col\": \"Waiting\", \"idx\": 133, \"val\": 12.0}, {\"col\": \"Expensive\", \"idx\": 134, \"val\": NaN}, {\"col\": \"Cheap\", \"idx\": 134, \"val\": 6.0}, {\"col\": \"Teleportation\", \"idx\": 134, \"val\": NaN}, {\"col\": \"Waiting\", \"idx\": 134, \"val\": 19.0}, {\"col\": \"Expensive\", \"idx\": 135, \"val\": 8.0}, {\"col\": \"Cheap\", \"idx\": 135, \"val\": 5.0}, {\"col\": \"Teleportation\", \"idx\": 135, \"val\": NaN}, {\"col\": \"Waiting\", \"idx\": 135, \"val\": 12.0}, {\"col\": \"Expensive\", \"idx\": 136, \"val\": 5.0}, {\"col\": \"Cheap\", \"idx\": 136, \"val\": 3.0}, {\"col\": \"Teleportation\", \"idx\": 136, \"val\": 8.0}, {\"col\": \"Waiting\", \"idx\": 136, \"val\": 8.0}, {\"col\": \"Expensive\", \"idx\": 137, \"val\": 10.0}, {\"col\": \"Cheap\", \"idx\": 137, \"val\": 10.0}, {\"col\": \"Teleportation\", \"idx\": 137, \"val\": 1.0}, {\"col\": \"Waiting\", \"idx\": 137, \"val\": 3.0}, {\"col\": \"Expensive\", \"idx\": 138, \"val\": NaN}, {\"col\": \"Cheap\", \"idx\": 138, \"val\": 10.0}, {\"col\": \"Teleportation\", \"idx\": 138, \"val\": NaN}, {\"col\": \"Waiting\", \"idx\": 138, \"val\": 11.0}, {\"col\": \"Expensive\", \"idx\": 139, \"val\": NaN}, {\"col\": \"Cheap\", \"idx\": 139, \"val\": 5.0}, {\"col\": \"Teleportation\", \"idx\": 139, \"val\": NaN}, {\"col\": \"Waiting\", \"idx\": 139, \"val\": 15.0}, {\"col\": \"Expensive\", \"idx\": 140, \"val\": 7.0}, {\"col\": \"Cheap\", \"idx\": 140, \"val\": 5.0}, {\"col\": \"Teleportation\", \"idx\": 140, \"val\": NaN}, {\"col\": \"Waiting\", \"idx\": 140, \"val\": 8.0}, {\"col\": \"Expensive\", \"idx\": 141, \"val\": 1.0}, {\"col\": \"Cheap\", \"idx\": 141, \"val\": 4.0}, {\"col\": \"Teleportation\", \"idx\": 141, \"val\": 7.0}, {\"col\": \"Waiting\", \"idx\": 141, \"val\": 8.0}, {\"col\": \"Expensive\", \"idx\": 142, \"val\": 7.0}, {\"col\": \"Cheap\", \"idx\": 142, \"val\": 9.0}, {\"col\": \"Teleportation\", \"idx\": 142, \"val\": 1.0}, {\"col\": \"Waiting\", \"idx\": 142, \"val\": 3.0}, {\"col\": \"Expensive\", \"idx\": 143, \"val\": NaN}, {\"col\": \"Cheap\", \"idx\": 143, \"val\": 10.0}, {\"col\": \"Teleportation\", \"idx\": 143, \"val\": NaN}, {\"col\": \"Waiting\", \"idx\": 143, \"val\": 9.0}, {\"col\": \"Expensive\", \"idx\": 144, \"val\": NaN}, {\"col\": \"Cheap\", \"idx\": 144, \"val\": 9.0}, {\"col\": \"Teleportation\", \"idx\": 144, \"val\": NaN}, {\"col\": \"Waiting\", \"idx\": 144, \"val\": 10.0}, {\"col\": \"Expensive\", \"idx\": 145, \"val\": 9.0}, {\"col\": \"Cheap\", \"idx\": 145, \"val\": 5.0}, {\"col\": \"Teleportation\", \"idx\": 145, \"val\": NaN}, {\"col\": \"Waiting\", \"idx\": 145, \"val\": 5.0}, {\"col\": \"Expensive\", \"idx\": 146, \"val\": 3.0}, {\"col\": \"Cheap\", \"idx\": 146, \"val\": 4.0}, {\"col\": \"Teleportation\", \"idx\": 146, \"val\": 8.0}, {\"col\": \"Waiting\", \"idx\": 146, \"val\": 3.0}, {\"col\": \"Expensive\", \"idx\": 147, \"val\": 2.0}, {\"col\": \"Cheap\", \"idx\": 147, \"val\": 12.0}, {\"col\": \"Teleportation\", \"idx\": 147, \"val\": NaN}, {\"col\": \"Waiting\", \"idx\": 147, \"val\": 2.0}, {\"col\": \"Expensive\", \"idx\": 148, \"val\": NaN}, {\"col\": \"Cheap\", \"idx\": 148, \"val\": 10.0}, {\"col\": \"Teleportation\", \"idx\": 148, \"val\": NaN}, {\"col\": \"Waiting\", \"idx\": 148, \"val\": 6.0}, {\"col\": \"Expensive\", \"idx\": 149, \"val\": NaN}, {\"col\": \"Cheap\", \"idx\": 149, \"val\": 4.0}, {\"col\": \"Teleportation\", \"idx\": 149, \"val\": NaN}, {\"col\": \"Waiting\", \"idx\": 149, \"val\": 11.0}, {\"col\": \"Expensive\", \"idx\": 150, \"val\": 8.0}, {\"col\": \"Cheap\", \"idx\": 150, \"val\": 1.0}, {\"col\": \"Teleportation\", \"idx\": 150, \"val\": NaN}, {\"col\": \"Waiting\", \"idx\": 150, \"val\": 6.0}, {\"col\": \"Expensive\", \"idx\": 151, \"val\": 1.0}, {\"col\": \"Cheap\", \"idx\": 151, \"val\": 0.0}, {\"col\": \"Teleportation\", \"idx\": 151, \"val\": 8.0}, {\"col\": \"Waiting\", \"idx\": 151, \"val\": 6.0}, {\"col\": \"Expensive\", \"idx\": 152, \"val\": 7.0}, {\"col\": \"Cheap\", \"idx\": 152, \"val\": 5.0}, {\"col\": \"Teleportation\", \"idx\": 152, \"val\": 3.0}, {\"col\": \"Waiting\", \"idx\": 152, \"val\": 0.0}, {\"col\": \"Expensive\", \"idx\": 153, \"val\": NaN}, {\"col\": \"Cheap\", \"idx\": 153, \"val\": 9.0}, {\"col\": \"Teleportation\", \"idx\": 153, \"val\": NaN}, {\"col\": \"Waiting\", \"idx\": 153, \"val\": 6.0}, {\"col\": \"Expensive\", \"idx\": 154, \"val\": NaN}, {\"col\": \"Cheap\", \"idx\": 154, \"val\": 5.0}, {\"col\": \"Teleportation\", \"idx\": 154, \"val\": NaN}, {\"col\": \"Waiting\", \"idx\": 154, \"val\": 9.0}, {\"col\": \"Expensive\", \"idx\": 155, \"val\": 3.0}, {\"col\": \"Cheap\", \"idx\": 155, \"val\": 3.0}, {\"col\": \"Teleportation\", \"idx\": 155, \"val\": NaN}, {\"col\": \"Waiting\", \"idx\": 155, \"val\": 8.0}, {\"col\": \"Expensive\", \"idx\": 156, \"val\": 4.0}, {\"col\": \"Cheap\", \"idx\": 156, \"val\": 2.0}, {\"col\": \"Teleportation\", \"idx\": 156, \"val\": 3.0}, {\"col\": \"Waiting\", \"idx\": 156, \"val\": 5.0}, {\"col\": \"Expensive\", \"idx\": 157, \"val\": 5.0}, {\"col\": \"Cheap\", \"idx\": 157, \"val\": 6.0}, {\"col\": \"Teleportation\", \"idx\": 157, \"val\": 1.0}, {\"col\": \"Waiting\", \"idx\": 157, \"val\": 1.0}, {\"col\": \"Expensive\", \"idx\": 158, \"val\": NaN}, {\"col\": \"Cheap\", \"idx\": 158, \"val\": 8.0}, {\"col\": \"Teleportation\", \"idx\": 158, \"val\": NaN}, {\"col\": \"Waiting\", \"idx\": 158, \"val\": 5.0}, {\"col\": \"Expensive\", \"idx\": 159, \"val\": NaN}, {\"col\": \"Cheap\", \"idx\": 159, \"val\": 6.0}, {\"col\": \"Teleportation\", \"idx\": 159, \"val\": NaN}, {\"col\": \"Waiting\", \"idx\": 159, \"val\": 7.0}, {\"col\": \"Expensive\", \"idx\": 160, \"val\": 4.0}, {\"col\": \"Cheap\", \"idx\": 160, \"val\": 4.0}, {\"col\": \"Teleportation\", \"idx\": 160, \"val\": NaN}, {\"col\": \"Waiting\", \"idx\": 160, \"val\": 4.0}, {\"col\": \"Expensive\", \"idx\": 161, \"val\": 2.0}, {\"col\": \"Cheap\", \"idx\": 161, \"val\": 3.0}, {\"col\": \"Teleportation\", \"idx\": 161, \"val\": 4.0}, {\"col\": \"Waiting\", \"idx\": 161, \"val\": 3.0}, {\"col\": \"Expensive\", \"idx\": 162, \"val\": 3.0}, {\"col\": \"Cheap\", \"idx\": 162, \"val\": 8.0}, {\"col\": \"Teleportation\", \"idx\": 162, \"val\": NaN}, {\"col\": \"Waiting\", \"idx\": 162, \"val\": 1.0}, {\"col\": \"Expensive\", \"idx\": 163, \"val\": NaN}, {\"col\": \"Cheap\", \"idx\": 163, \"val\": 6.0}, {\"col\": \"Teleportation\", \"idx\": 163, \"val\": NaN}, {\"col\": \"Waiting\", \"idx\": 163, \"val\": 6.0}, {\"col\": \"Expensive\", \"idx\": 164, \"val\": NaN}, {\"col\": \"Cheap\", \"idx\": 164, \"val\": 5.0}, {\"col\": \"Teleportation\", \"idx\": 164, \"val\": NaN}, {\"col\": \"Waiting\", \"idx\": 164, \"val\": 7.0}, {\"col\": \"Expensive\", \"idx\": 165, \"val\": 6.0}, {\"col\": \"Cheap\", \"idx\": 165, \"val\": 2.0}, {\"col\": \"Teleportation\", \"idx\": 165, \"val\": NaN}, {\"col\": \"Waiting\", \"idx\": 165, \"val\": 4.0}, {\"col\": \"Expensive\", \"idx\": 166, \"val\": 2.0}, {\"col\": \"Cheap\", \"idx\": 166, \"val\": 2.0}, {\"col\": \"Teleportation\", \"idx\": 166, \"val\": 6.0}, {\"col\": \"Waiting\", \"idx\": 166, \"val\": 2.0}, {\"col\": \"Expensive\", \"idx\": 167, \"val\": 4.0}, {\"col\": \"Cheap\", \"idx\": 167, \"val\": 6.0}, {\"col\": \"Teleportation\", \"idx\": 167, \"val\": 1.0}, {\"col\": \"Waiting\", \"idx\": 167, \"val\": 0.0}, {\"col\": \"Expensive\", \"idx\": 168, \"val\": NaN}, {\"col\": \"Cheap\", \"idx\": 168, \"val\": 7.0}, {\"col\": \"Teleportation\", \"idx\": 168, \"val\": NaN}, {\"col\": \"Waiting\", \"idx\": 168, \"val\": 4.0}, {\"col\": \"Expensive\", \"idx\": 169, \"val\": NaN}, {\"col\": \"Cheap\", \"idx\": 169, \"val\": 5.0}, {\"col\": \"Teleportation\", \"idx\": 169, \"val\": NaN}, {\"col\": \"Waiting\", \"idx\": 169, \"val\": 5.0}, {\"col\": \"Expensive\", \"idx\": 170, \"val\": 4.0}, {\"col\": \"Cheap\", \"idx\": 170, \"val\": 2.0}, {\"col\": \"Teleportation\", \"idx\": 170, \"val\": NaN}, {\"col\": \"Waiting\", \"idx\": 170, \"val\": 4.0}, {\"col\": \"Expensive\", \"idx\": 171, \"val\": 1.0}, {\"col\": \"Cheap\", \"idx\": 171, \"val\": 1.0}, {\"col\": \"Teleportation\", \"idx\": 171, \"val\": 4.0}, {\"col\": \"Waiting\", \"idx\": 171, \"val\": 4.0}, {\"col\": \"Expensive\", \"idx\": 172, \"val\": 6.0}, {\"col\": \"Cheap\", \"idx\": 172, \"val\": 3.0}, {\"col\": \"Teleportation\", \"idx\": 172, \"val\": NaN}, {\"col\": \"Waiting\", \"idx\": 172, \"val\": 1.0}, {\"col\": \"Expensive\", \"idx\": 173, \"val\": NaN}, {\"col\": \"Cheap\", \"idx\": 173, \"val\": 7.0}, {\"col\": \"Teleportation\", \"idx\": 173, \"val\": NaN}, {\"col\": \"Waiting\", \"idx\": 173, \"val\": 3.0}, {\"col\": \"Expensive\", \"idx\": 174, \"val\": NaN}, {\"col\": \"Cheap\", \"idx\": 174, \"val\": 4.0}, {\"col\": \"Teleportation\", \"idx\": 174, \"val\": NaN}, {\"col\": \"Waiting\", \"idx\": 174, \"val\": 6.0}, {\"col\": \"Expensive\", \"idx\": 175, \"val\": 5.0}, {\"col\": \"Cheap\", \"idx\": 175, \"val\": 2.0}, {\"col\": \"Teleportation\", \"idx\": 175, \"val\": NaN}, {\"col\": \"Waiting\", \"idx\": 175, \"val\": 3.0}, {\"col\": \"Expensive\", \"idx\": 176, \"val\": 2.0}, {\"col\": \"Cheap\", \"idx\": 176, \"val\": 2.0}, {\"col\": \"Teleportation\", \"idx\": 176, \"val\": 4.0}, {\"col\": \"Waiting\", \"idx\": 176, \"val\": 1.0}, {\"col\": \"Expensive\", \"idx\": 177, \"val\": 2.0}, {\"col\": \"Cheap\", \"idx\": 177, \"val\": 6.0}, {\"col\": \"Teleportation\", \"idx\": 177, \"val\": NaN}, {\"col\": \"Waiting\", \"idx\": 177, \"val\": 1.0}, {\"col\": \"Expensive\", \"idx\": 178, \"val\": NaN}, {\"col\": \"Cheap\", \"idx\": 178, \"val\": 5.0}, {\"col\": \"Teleportation\", \"idx\": 178, \"val\": NaN}, {\"col\": \"Waiting\", \"idx\": 178, \"val\": 3.0}, {\"col\": \"Expensive\", \"idx\": 179, \"val\": NaN}, {\"col\": \"Cheap\", \"idx\": 179, \"val\": 4.0}, {\"col\": \"Teleportation\", \"idx\": 179, \"val\": NaN}, {\"col\": \"Waiting\", \"idx\": 179, \"val\": 4.0}, {\"col\": \"Expensive\", \"idx\": 180, \"val\": 2.0}, {\"col\": \"Cheap\", \"idx\": 180, \"val\": 3.0}, {\"col\": \"Teleportation\", \"idx\": 180, \"val\": NaN}, {\"col\": \"Waiting\", \"idx\": 180, \"val\": 3.0}, {\"col\": \"Expensive\", \"idx\": 181, \"val\": 1.0}, {\"col\": \"Cheap\", \"idx\": 181, \"val\": 2.0}, {\"col\": \"Teleportation\", \"idx\": 181, \"val\": 1.0}, {\"col\": \"Waiting\", \"idx\": 181, \"val\": 3.0}, {\"col\": \"Expensive\", \"idx\": 182, \"val\": 5.0}, {\"col\": \"Cheap\", \"idx\": 182, \"val\": 2.0}, {\"col\": \"Teleportation\", \"idx\": 182, \"val\": NaN}, {\"col\": \"Waiting\", \"idx\": 182, \"val\": 0.0}, {\"col\": \"Expensive\", \"idx\": 183, \"val\": NaN}, {\"col\": \"Cheap\", \"idx\": 183, \"val\": 4.0}, {\"col\": \"Teleportation\", \"idx\": 183, \"val\": NaN}, {\"col\": \"Waiting\", \"idx\": 183, \"val\": 3.0}, {\"col\": \"Expensive\", \"idx\": 184, \"val\": NaN}, {\"col\": \"Cheap\", \"idx\": 184, \"val\": 3.0}, {\"col\": \"Teleportation\", \"idx\": 184, \"val\": NaN}, {\"col\": \"Waiting\", \"idx\": 184, \"val\": 4.0}, {\"col\": \"Expensive\", \"idx\": 185, \"val\": 0.0}, {\"col\": \"Cheap\", \"idx\": 185, \"val\": 2.0}, {\"col\": \"Teleportation\", \"idx\": 185, \"val\": NaN}, {\"col\": \"Waiting\", \"idx\": 185, \"val\": 5.0}, {\"col\": \"Expensive\", \"idx\": 186, \"val\": 2.0}, {\"col\": \"Cheap\", \"idx\": 186, \"val\": 2.0}, {\"col\": \"Teleportation\", \"idx\": 186, \"val\": NaN}, {\"col\": \"Waiting\", \"idx\": 186, \"val\": 3.0}, {\"col\": \"Expensive\", \"idx\": 187, \"val\": 4.0}, {\"col\": \"Cheap\", \"idx\": 187, \"val\": 3.0}, {\"col\": \"Teleportation\", \"idx\": 187, \"val\": NaN}, {\"col\": \"Waiting\", \"idx\": 187, \"val\": 0.0}, {\"col\": \"Expensive\", \"idx\": 188, \"val\": NaN}, {\"col\": \"Cheap\", \"idx\": 188, \"val\": 4.0}, {\"col\": \"Teleportation\", \"idx\": 188, \"val\": NaN}, {\"col\": \"Waiting\", \"idx\": 188, \"val\": 3.0}, {\"col\": \"Expensive\", \"idx\": 189, \"val\": NaN}, {\"col\": \"Cheap\", \"idx\": 189, \"val\": 4.0}, {\"col\": \"Teleportation\", \"idx\": 189, \"val\": NaN}, {\"col\": \"Waiting\", \"idx\": 189, \"val\": 3.0}, {\"col\": \"Expensive\", \"idx\": 190, \"val\": 1.0}, {\"col\": \"Cheap\", \"idx\": 190, \"val\": 3.0}, {\"col\": \"Teleportation\", \"idx\": 190, \"val\": NaN}, {\"col\": \"Waiting\", \"idx\": 190, \"val\": 3.0}, {\"col\": \"Expensive\", \"idx\": 191, \"val\": 1.0}, {\"col\": \"Cheap\", \"idx\": 191, \"val\": 3.0}, {\"col\": \"Teleportation\", \"idx\": 191, \"val\": 1.0}, {\"col\": \"Waiting\", \"idx\": 191, \"val\": 2.0}, {\"col\": \"Expensive\", \"idx\": 192, \"val\": 2.0}, {\"col\": \"Cheap\", \"idx\": 192, \"val\": 3.0}, {\"col\": \"Teleportation\", \"idx\": 192, \"val\": NaN}, {\"col\": \"Waiting\", \"idx\": 192, \"val\": 1.0}, {\"col\": \"Expensive\", \"idx\": 193, \"val\": NaN}, {\"col\": \"Cheap\", \"idx\": 193, \"val\": 2.0}, {\"col\": \"Teleportation\", \"idx\": 193, \"val\": NaN}, {\"col\": \"Waiting\", \"idx\": 193, \"val\": 3.0}, {\"col\": \"Expensive\", \"idx\": 194, \"val\": NaN}, {\"col\": \"Cheap\", \"idx\": 194, \"val\": 1.0}, {\"col\": \"Teleportation\", \"idx\": 194, \"val\": NaN}, {\"col\": \"Waiting\", \"idx\": 194, \"val\": 4.0}, {\"col\": \"Expensive\", \"idx\": 195, \"val\": 1.0}, {\"col\": \"Cheap\", \"idx\": 195, \"val\": 1.0}, {\"col\": \"Teleportation\", \"idx\": 195, \"val\": NaN}, {\"col\": \"Waiting\", \"idx\": 195, \"val\": 3.0}, {\"col\": \"Expensive\", \"idx\": 196, \"val\": 1.0}, {\"col\": \"Cheap\", \"idx\": 196, \"val\": 0.0}, {\"col\": \"Teleportation\", \"idx\": 196, \"val\": 1.0}, {\"col\": \"Waiting\", \"idx\": 196, \"val\": 3.0}, {\"col\": \"Expensive\", \"idx\": 197, \"val\": 3.0}, {\"col\": \"Cheap\", \"idx\": 197, \"val\": 1.0}, {\"col\": \"Teleportation\", \"idx\": 197, \"val\": 1.0}, {\"col\": \"Waiting\", \"idx\": 197, \"val\": 0.0}, {\"col\": \"Expensive\", \"idx\": 198, \"val\": NaN}, {\"col\": \"Cheap\", \"idx\": 198, \"val\": 5.0}, {\"col\": \"Teleportation\", \"idx\": 198, \"val\": NaN}, {\"col\": \"Waiting\", \"idx\": 198, \"val\": 0.0}, {\"col\": \"Expensive\", \"idx\": 199, \"val\": NaN}, {\"col\": \"Cheap\", \"idx\": 199, \"val\": 3.0}, {\"col\": \"Teleportation\", \"idx\": 199, \"val\": NaN}, {\"col\": \"Waiting\", \"idx\": 199, \"val\": 2.0}, {\"col\": \"Expensive\", \"idx\": 200, \"val\": 1.0}, {\"col\": \"Cheap\", \"idx\": 200, \"val\": 3.0}, {\"col\": \"Teleportation\", \"idx\": 200, \"val\": NaN}, {\"col\": \"Waiting\", \"idx\": 200, \"val\": 1.0}, {\"col\": \"Expensive\", \"idx\": 201, \"val\": 0.0}, {\"col\": \"Cheap\", \"idx\": 201, \"val\": 1.0}, {\"col\": \"Teleportation\", \"idx\": 201, \"val\": 1.0}, {\"col\": \"Waiting\", \"idx\": 201, \"val\": 3.0}, {\"col\": \"Expensive\", \"idx\": 202, \"val\": 2.0}, {\"col\": \"Cheap\", \"idx\": 202, \"val\": 1.0}, {\"col\": \"Teleportation\", \"idx\": 202, \"val\": NaN}, {\"col\": \"Waiting\", \"idx\": 202, \"val\": 1.0}, {\"col\": \"Expensive\", \"idx\": 203, \"val\": NaN}, {\"col\": \"Cheap\", \"idx\": 203, \"val\": 3.0}, {\"col\": \"Teleportation\", \"idx\": 203, \"val\": NaN}, {\"col\": \"Waiting\", \"idx\": 203, \"val\": 1.0}, {\"col\": \"Expensive\", \"idx\": 204, \"val\": NaN}, {\"col\": \"Cheap\", \"idx\": 204, \"val\": 3.0}, {\"col\": \"Teleportation\", \"idx\": 204, \"val\": NaN}, {\"col\": \"Waiting\", \"idx\": 204, \"val\": 1.0}, {\"col\": \"Expensive\", \"idx\": 205, \"val\": 1.0}, {\"col\": \"Cheap\", \"idx\": 205, \"val\": 1.0}, {\"col\": \"Teleportation\", \"idx\": 205, \"val\": NaN}, {\"col\": \"Waiting\", \"idx\": 205, \"val\": 1.0}, {\"col\": \"Expensive\", \"idx\": 206, \"val\": 0.0}, {\"col\": \"Cheap\", \"idx\": 206, \"val\": 0.0}, {\"col\": \"Teleportation\", \"idx\": 206, \"val\": 1.0}, {\"col\": \"Waiting\", \"idx\": 206, \"val\": 2.0}, {\"col\": \"Expensive\", \"idx\": 207, \"val\": 2.0}, {\"col\": \"Cheap\", \"idx\": 207, \"val\": 0.0}, {\"col\": \"Teleportation\", \"idx\": 207, \"val\": NaN}, {\"col\": \"Waiting\", \"idx\": 207, \"val\": 1.0}, {\"col\": \"Expensive\", \"idx\": 208, \"val\": NaN}, {\"col\": \"Cheap\", \"idx\": 208, \"val\": 1.0}, {\"col\": \"Teleportation\", \"idx\": 208, \"val\": NaN}, {\"col\": \"Waiting\", \"idx\": 208, \"val\": 2.0}, {\"col\": \"Expensive\", \"idx\": 209, \"val\": NaN}, {\"col\": \"Cheap\", \"idx\": 209, \"val\": 1.0}, {\"col\": \"Teleportation\", \"idx\": 209, \"val\": NaN}, {\"col\": \"Waiting\", \"idx\": 209, \"val\": 2.0}, {\"col\": \"Expensive\", \"idx\": 210, \"val\": 2.0}, {\"col\": \"Cheap\", \"idx\": 210, \"val\": 0.0}, {\"col\": \"Teleportation\", \"idx\": 210, \"val\": NaN}, {\"col\": \"Waiting\", \"idx\": 210, \"val\": 1.0}, {\"col\": \"Expensive\", \"idx\": 211, \"val\": 0.0}, {\"col\": \"Cheap\", \"idx\": 211, \"val\": 0.0}, {\"col\": \"Teleportation\", \"idx\": 211, \"val\": 2.0}, {\"col\": \"Waiting\", \"idx\": 211, \"val\": 1.0}, {\"col\": \"Expensive\", \"idx\": 212, \"val\": 1.0}, {\"col\": \"Cheap\", \"idx\": 212, \"val\": 2.0}, {\"col\": \"Teleportation\", \"idx\": 212, \"val\": NaN}, {\"col\": \"Waiting\", \"idx\": 212, \"val\": 0.0}, {\"col\": \"Expensive\", \"idx\": 213, \"val\": NaN}, {\"col\": \"Cheap\", \"idx\": 213, \"val\": 0.0}, {\"col\": \"Teleportation\", \"idx\": 213, \"val\": NaN}, {\"col\": \"Waiting\", \"idx\": 213, \"val\": 2.0}, {\"col\": \"Expensive\", \"idx\": 214, \"val\": NaN}, {\"col\": \"Cheap\", \"idx\": 214, \"val\": 0.0}, {\"col\": \"Teleportation\", \"idx\": 214, \"val\": NaN}, {\"col\": \"Waiting\", \"idx\": 214, \"val\": 2.0}, {\"col\": \"Expensive\", \"idx\": 215, \"val\": 1.0}, {\"col\": \"Cheap\", \"idx\": 215, \"val\": 0.0}, {\"col\": \"Teleportation\", \"idx\": 215, \"val\": NaN}, {\"col\": \"Waiting\", \"idx\": 215, \"val\": 1.0}, {\"col\": \"Expensive\", \"idx\": 216, \"val\": 0.0}, {\"col\": \"Cheap\", \"idx\": 216, \"val\": 0.0}, {\"col\": \"Teleportation\", \"idx\": 216, \"val\": 1.0}, {\"col\": \"Waiting\", \"idx\": 216, \"val\": 1.0}, {\"col\": \"Expensive\", \"idx\": 217, \"val\": 1.0}, {\"col\": \"Cheap\", \"idx\": 217, \"val\": 1.0}, {\"col\": \"Teleportation\", \"idx\": 217, \"val\": NaN}, {\"col\": \"Waiting\", \"idx\": 217, \"val\": 0.0}, {\"col\": \"Expensive\", \"idx\": 218, \"val\": NaN}, {\"col\": \"Cheap\", \"idx\": 218, \"val\": 2.0}, {\"col\": \"Teleportation\", \"idx\": 218, \"val\": NaN}, {\"col\": \"Waiting\", \"idx\": 218, \"val\": 0.0}, {\"col\": \"Expensive\", \"idx\": 219, \"val\": NaN}, {\"col\": \"Cheap\", \"idx\": 219, \"val\": 2.0}, {\"col\": \"Teleportation\", \"idx\": 219, \"val\": NaN}, {\"col\": \"Waiting\", \"idx\": 219, \"val\": 0.0}, {\"col\": \"Expensive\", \"idx\": 220, \"val\": 1.0}, {\"col\": \"Cheap\", \"idx\": 220, \"val\": 1.0}, {\"col\": \"Teleportation\", \"idx\": 220, \"val\": NaN}, {\"col\": \"Waiting\", \"idx\": 220, \"val\": 0.0}, {\"col\": \"Expensive\", \"idx\": 221, \"val\": 0.0}, {\"col\": \"Cheap\", \"idx\": 221, \"val\": 0.0}, {\"col\": \"Teleportation\", \"idx\": 221, \"val\": 1.0}, {\"col\": \"Waiting\", \"idx\": 221, \"val\": 1.0}, {\"col\": \"Expensive\", \"idx\": 222, \"val\": 1.0}, {\"col\": \"Cheap\", \"idx\": 222, \"val\": 1.0}, {\"col\": \"Teleportation\", \"idx\": 222, \"val\": NaN}, {\"col\": \"Waiting\", \"idx\": 222, \"val\": 0.0}, {\"col\": \"Expensive\", \"idx\": 223, \"val\": NaN}, {\"col\": \"Cheap\", \"idx\": 223, \"val\": 2.0}, {\"col\": \"Teleportation\", \"idx\": 223, \"val\": NaN}, {\"col\": \"Waiting\", \"idx\": 223, \"val\": 0.0}, {\"col\": \"Expensive\", \"idx\": 224, \"val\": NaN}, {\"col\": \"Cheap\", \"idx\": 224, \"val\": 1.0}, {\"col\": \"Teleportation\", \"idx\": 224, \"val\": NaN}, {\"col\": \"Waiting\", \"idx\": 224, \"val\": 0.0}, {\"col\": \"Expensive\", \"idx\": 225, \"val\": 0.0}, {\"col\": \"Cheap\", \"idx\": 225, \"val\": 1.0}, {\"col\": \"Teleportation\", \"idx\": 225, \"val\": NaN}, {\"col\": \"Waiting\", \"idx\": 225, \"val\": 0.0}, {\"col\": \"Expensive\", \"idx\": 226, \"val\": 0.0}, {\"col\": \"Cheap\", \"idx\": 226, \"val\": 1.0}, {\"col\": \"Teleportation\", \"idx\": 226, \"val\": NaN}, {\"col\": \"Waiting\", \"idx\": 226, \"val\": 0.0}, {\"col\": \"Expensive\", \"idx\": 227, \"val\": 1.0}, {\"col\": \"Cheap\", \"idx\": 227, \"val\": 0.0}, {\"col\": \"Teleportation\", \"idx\": 227, \"val\": NaN}, {\"col\": \"Waiting\", \"idx\": 227, \"val\": 0.0}, {\"col\": \"Expensive\", \"idx\": 228, \"val\": NaN}, {\"col\": \"Cheap\", \"idx\": 228, \"val\": 1.0}, {\"col\": \"Teleportation\", \"idx\": 228, \"val\": NaN}, {\"col\": \"Waiting\", \"idx\": 228, \"val\": 0.0}, {\"col\": \"Expensive\", \"idx\": 229, \"val\": NaN}, {\"col\": \"Cheap\", \"idx\": 229, \"val\": 1.0}, {\"col\": \"Teleportation\", \"idx\": 229, \"val\": NaN}, {\"col\": \"Waiting\", \"idx\": 229, \"val\": 0.0}, {\"col\": \"Expensive\", \"idx\": 230, \"val\": 0.0}, {\"col\": \"Cheap\", \"idx\": 230, \"val\": 1.0}, {\"col\": \"Teleportation\", \"idx\": 230, \"val\": NaN}, {\"col\": \"Waiting\", \"idx\": 230, \"val\": 0.0}, {\"col\": \"Expensive\", \"idx\": 231, \"val\": 0.0}, {\"col\": \"Cheap\", \"idx\": 231, \"val\": 1.0}, {\"col\": \"Teleportation\", \"idx\": 231, \"val\": NaN}, {\"col\": \"Waiting\", \"idx\": 231, \"val\": 0.0}, {\"col\": \"Expensive\", \"idx\": 232, \"val\": 0.0}, {\"col\": \"Cheap\", \"idx\": 232, \"val\": 1.0}, {\"col\": \"Teleportation\", \"idx\": 232, \"val\": NaN}, {\"col\": \"Waiting\", \"idx\": 232, \"val\": 0.0}, {\"col\": \"Expensive\", \"idx\": 233, \"val\": NaN}, {\"col\": \"Cheap\", \"idx\": 233, \"val\": 1.0}, {\"col\": \"Teleportation\", \"idx\": 233, \"val\": NaN}, {\"col\": \"Waiting\", \"idx\": 233, \"val\": 0.0}, {\"col\": \"Expensive\", \"idx\": 234, \"val\": NaN}, {\"col\": \"Cheap\", \"idx\": 234, \"val\": 1.0}, {\"col\": \"Teleportation\", \"idx\": 234, \"val\": NaN}, {\"col\": \"Waiting\", \"idx\": 234, \"val\": 0.0}, {\"col\": \"Expensive\", \"idx\": 235, \"val\": 0.0}, {\"col\": \"Cheap\", \"idx\": 235, \"val\": 0.0}, {\"col\": \"Teleportation\", \"idx\": 235, \"val\": NaN}, {\"col\": \"Waiting\", \"idx\": 235, \"val\": 1.0}, {\"col\": \"Expensive\", \"idx\": 236, \"val\": 0.0}, {\"col\": \"Cheap\", \"idx\": 236, \"val\": 0.0}, {\"col\": \"Teleportation\", \"idx\": 236, \"val\": NaN}, {\"col\": \"Waiting\", \"idx\": 236, \"val\": 1.0}, {\"col\": \"Expensive\", \"idx\": 237, \"val\": 1.0}, {\"col\": \"Cheap\", \"idx\": 237, \"val\": 0.0}, {\"col\": \"Teleportation\", \"idx\": 237, \"val\": NaN}, {\"col\": \"Waiting\", \"idx\": 237, \"val\": 0.0}, {\"col\": \"Expensive\", \"idx\": 238, \"val\": NaN}, {\"col\": \"Cheap\", \"idx\": 238, \"val\": 0.0}, {\"col\": \"Teleportation\", \"idx\": 238, \"val\": NaN}, {\"col\": \"Waiting\", \"idx\": 238, \"val\": 1.0}, {\"col\": \"Expensive\", \"idx\": 239, \"val\": NaN}, {\"col\": \"Cheap\", \"idx\": 239, \"val\": 0.0}, {\"col\": \"Teleportation\", \"idx\": 239, \"val\": NaN}, {\"col\": \"Waiting\", \"idx\": 239, \"val\": 1.0}, {\"col\": \"Expensive\", \"idx\": 240, \"val\": 0.0}, {\"col\": \"Cheap\", \"idx\": 240, \"val\": 0.0}, {\"col\": \"Teleportation\", \"idx\": 240, \"val\": NaN}, {\"col\": \"Waiting\", \"idx\": 240, \"val\": 1.0}, {\"col\": \"Expensive\", \"idx\": 241, \"val\": 1.0}, {\"col\": \"Cheap\", \"idx\": 241, \"val\": 0.0}, {\"col\": \"Teleportation\", \"idx\": 241, \"val\": NaN}, {\"col\": \"Waiting\", \"idx\": 241, \"val\": 0.0}, {\"col\": \"Expensive\", \"idx\": 242, \"val\": 0.0}, {\"col\": \"Cheap\", \"idx\": 242, \"val\": 1.0}, {\"col\": \"Teleportation\", \"idx\": 242, \"val\": NaN}, {\"col\": \"Waiting\", \"idx\": 242, \"val\": 0.0}, {\"col\": \"Expensive\", \"idx\": 243, \"val\": NaN}, {\"col\": \"Cheap\", \"idx\": 243, \"val\": 1.0}, {\"col\": \"Teleportation\", \"idx\": 243, \"val\": NaN}, {\"col\": \"Waiting\", \"idx\": 243, \"val\": 0.0}, {\"col\": \"Expensive\", \"idx\": 244, \"val\": NaN}, {\"col\": \"Cheap\", \"idx\": 244, \"val\": 1.0}, {\"col\": \"Teleportation\", \"idx\": 244, \"val\": NaN}, {\"col\": \"Waiting\", \"idx\": 244, \"val\": 0.0}, {\"col\": \"Expensive\", \"idx\": 245, \"val\": 0.0}, {\"col\": \"Cheap\", \"idx\": 245, \"val\": 0.0}, {\"col\": \"Teleportation\", \"idx\": 245, \"val\": NaN}, {\"col\": \"Waiting\", \"idx\": 245, \"val\": 1.0}, {\"col\": \"Expensive\", \"idx\": 246, \"val\": 0.0}, {\"col\": \"Cheap\", \"idx\": 246, \"val\": 0.0}, {\"col\": \"Teleportation\", \"idx\": 246, \"val\": NaN}, {\"col\": \"Waiting\", \"idx\": 246, \"val\": 1.0}, {\"col\": \"Expensive\", \"idx\": 247, \"val\": 1.0}, {\"col\": \"Cheap\", \"idx\": 247, \"val\": 0.0}, {\"col\": \"Teleportation\", \"idx\": 247, \"val\": NaN}, {\"col\": \"Waiting\", \"idx\": 247, \"val\": 0.0}, {\"col\": \"Expensive\", \"idx\": 248, \"val\": NaN}, {\"col\": \"Cheap\", \"idx\": 248, \"val\": 1.0}, {\"col\": \"Teleportation\", \"idx\": 248, \"val\": NaN}, {\"col\": \"Waiting\", \"idx\": 248, \"val\": 0.0}, {\"col\": \"Expensive\", \"idx\": 249, \"val\": NaN}, {\"col\": \"Cheap\", \"idx\": 249, \"val\": 0.0}, {\"col\": \"Teleportation\", \"idx\": 249, \"val\": NaN}, {\"col\": \"Waiting\", \"idx\": 249, \"val\": 0.0}]}, {\"name\": \"stats\", \"source\": \"table\", \"transform\": [{\"keys\": [\"data.idx\"], \"type\": \"facet\"}, {\"type\": \"stats\", \"value\": \"data.val\"}]}], \"height\": 300, \"legends\": [{\"fill\": \"color\", \"offset\": 0, \"properties\": {}, \"title\": \"Edge\"}], \"marks\": [{\"from\": {\"data\": \"table\", \"transform\": [{\"keys\": [\"data.col\"], \"type\": \"facet\"}, {\"height\": \"data.val\", \"point\": \"data.idx\", \"type\": \"stack\"}]}, \"marks\": [{\"properties\": {\"enter\": {\"fill\": {\"field\": \"data.col\", \"scale\": \"color\"}, \"interpolate\": {\"value\": \"monotone\"}, \"opacity\": {\"value\": 0.8}, \"x\": {\"field\": \"data.idx\", \"scale\": \"x\"}, \"y\": {\"field\": \"y\", \"scale\": \"y\"}, \"y2\": {\"field\": \"y2\", \"scale\": \"y\"}}, \"hover\": {\"opacity\": {\"value\": 1}, \"size\": {\"value\": 200}}, \"update\": {\"opacity\": {\"value\": 0.8}, \"size\": {\"value\": 100}}}, \"type\": \"area\"}], \"type\": \"group\"}], \"padding\": \"auto\", \"scales\": [{\"domain\": {\"data\": \"table\", \"field\": \"data.idx\"}, \"name\": \"x\", \"range\": \"width\", \"type\": \"linear\", \"zero\": false}, {\"domain\": {\"data\": \"stats\", \"field\": \"sum\"}, \"name\": \"y\", \"nice\": true, \"range\": \"height\"}, {\"domain\": {\"data\": \"table\", \"field\": \"data.col\"}, \"name\": \"color\", \"range\": [\"#ff0000\", \"#50aa50\", \"#6060aa\", \"#eeeeee\"], \"type\": \"ordinal\"}], \"width\": 400}, function(chart) {\n",
        "         chart({el: \"#visc1efd29f9f3e4a78b0ecc73cfda27e55\"}).update();\n",
        "       });\n",
        "     };\n",
        "     _do_plot();\n",
        "   })();\n",
        "</script>\n",
        "<style>.vega canvas {width: 100%;}</style>\n",
        "        "
       ],
       "metadata": {},
       "output_type": "pyout",
       "prompt_number": 95,
       "text": [
        "<vincent.charts.Area at 0x108ad3250>"
       ]
      }
     ],
     "prompt_number": 95
    },
    {
     "cell_type": "code",
     "collapsed": false,
     "input": [
      "G1 = G.copy()\n",
      "randomwalk(G1, frogs, P_die)\n",
      "#plotrwresult(G1)\n",
      "#plotrwtraversal(G1)\n",
      "plotrwtraversal(G1, expensiveedges)"
     ],
     "language": "python",
     "metadata": {},
     "outputs": [
      {
       "output_type": "stream",
       "stream": "stdout",
       "text": [
        "Total cost: 396.0 Billion dollars\n"
       ]
      },
      {
       "html": [
        "<div id=\"visbdb3c13faa7e406394122c4774178c80\"></div>\n",
        "<script>\n",
        "   ( function() {\n",
        "     var _do_plot = function() {\n",
        "       if (typeof vg === 'undefined') {\n",
        "         window.addEventListener('vincent_libs_loaded', _do_plot)\n",
        "         return;\n",
        "       }\n",
        "       vg.parse.spec({\"axes\": [{\"scale\": \"x\", \"title\": \"Time\", \"type\": \"x\"}, {\"scale\": \"y\", \"title\": \"# frogs\", \"type\": \"y\"}], \"data\": [{\"name\": \"table\", \"values\": [{\"col\": \"Expensive\", \"idx\": 1, \"val\": 236.0}, {\"col\": \"Cheap\", \"idx\": 1, \"val\": 601.0}, {\"col\": \"Teleportation\", \"idx\": 1, \"val\": 120.0}, {\"col\": \"Expensive\", \"idx\": 2, \"val\": 304.0}, {\"col\": \"Cheap\", \"idx\": 2, \"val\": 556.0}, {\"col\": \"Teleportation\", \"idx\": 2, \"val\": 41.0}, {\"col\": \"Expensive\", \"idx\": 3, \"val\": 280.0}, {\"col\": \"Cheap\", \"idx\": 3, \"val\": 450.0}, {\"col\": \"Teleportation\", \"idx\": 3, \"val\": 122.0}, {\"col\": \"Expensive\", \"idx\": 4, \"val\": 242.0}, {\"col\": \"Cheap\", \"idx\": 4, \"val\": 457.0}, {\"col\": \"Teleportation\", \"idx\": 4, \"val\": 112.0}, {\"col\": \"Expensive\", \"idx\": 5, \"val\": 243.0}, {\"col\": \"Cheap\", \"idx\": 5, \"val\": 443.0}, {\"col\": \"Teleportation\", \"idx\": 5, \"val\": 93.0}, {\"col\": \"Expensive\", \"idx\": 6, \"val\": 249.0}, {\"col\": \"Cheap\", \"idx\": 6, \"val\": 406.0}, {\"col\": \"Teleportation\", \"idx\": 6, \"val\": 93.0}, {\"col\": \"Expensive\", \"idx\": 7, \"val\": 197.0}, {\"col\": \"Cheap\", \"idx\": 7, \"val\": 412.0}, {\"col\": \"Teleportation\", \"idx\": 7, \"val\": 99.0}, {\"col\": \"Expensive\", \"idx\": 8, \"val\": 216.0}, {\"col\": \"Cheap\", \"idx\": 8, \"val\": 371.0}, {\"col\": \"Teleportation\", \"idx\": 8, \"val\": 90.0}, {\"col\": \"Expensive\", \"idx\": 9, \"val\": 189.0}, {\"col\": \"Cheap\", \"idx\": 9, \"val\": 373.0}, {\"col\": \"Teleportation\", \"idx\": 9, \"val\": 85.0}, {\"col\": \"Expensive\", \"idx\": 10, \"val\": 196.0}, {\"col\": \"Cheap\", \"idx\": 10, \"val\": 332.0}, {\"col\": \"Teleportation\", \"idx\": 10, \"val\": 88.0}, {\"col\": \"Expensive\", \"idx\": 11, \"val\": 170.0}, {\"col\": \"Cheap\", \"idx\": 11, \"val\": 342.0}, {\"col\": \"Teleportation\", \"idx\": 11, \"val\": 80.0}, {\"col\": \"Expensive\", \"idx\": 12, \"val\": 176.0}, {\"col\": \"Cheap\", \"idx\": 12, \"val\": 340.0}, {\"col\": \"Teleportation\", \"idx\": 12, \"val\": 52.0}, {\"col\": \"Expensive\", \"idx\": 13, \"val\": 198.0}, {\"col\": \"Cheap\", \"idx\": 13, \"val\": 282.0}, {\"col\": \"Teleportation\", \"idx\": 13, \"val\": 58.0}, {\"col\": \"Expensive\", \"idx\": 14, \"val\": 173.0}, {\"col\": \"Cheap\", \"idx\": 14, \"val\": 267.0}, {\"col\": \"Teleportation\", \"idx\": 14, \"val\": 74.0}, {\"col\": \"Expensive\", \"idx\": 15, \"val\": 135.0}, {\"col\": \"Cheap\", \"idx\": 15, \"val\": 276.0}, {\"col\": \"Teleportation\", \"idx\": 15, \"val\": 71.0}, {\"col\": \"Expensive\", \"idx\": 16, \"val\": 130.0}, {\"col\": \"Cheap\", \"idx\": 16, \"val\": 271.0}, {\"col\": \"Teleportation\", \"idx\": 16, \"val\": 52.0}, {\"col\": \"Expensive\", \"idx\": 17, \"val\": 146.0}, {\"col\": \"Cheap\", \"idx\": 17, \"val\": 226.0}, {\"col\": \"Teleportation\", \"idx\": 17, \"val\": 57.0}, {\"col\": \"Expensive\", \"idx\": 18, \"val\": 134.0}, {\"col\": \"Cheap\", \"idx\": 18, \"val\": 229.0}, {\"col\": \"Teleportation\", \"idx\": 18, \"val\": 53.0}, {\"col\": \"Expensive\", \"idx\": 19, \"val\": 118.0}, {\"col\": \"Cheap\", \"idx\": 19, \"val\": 225.0}, {\"col\": \"Teleportation\", \"idx\": 19, \"val\": 57.0}, {\"col\": \"Expensive\", \"idx\": 20, \"val\": 111.0}, {\"col\": \"Cheap\", \"idx\": 20, \"val\": 215.0}, {\"col\": \"Teleportation\", \"idx\": 20, \"val\": 50.0}, {\"col\": \"Expensive\", \"idx\": 21, \"val\": 115.0}, {\"col\": \"Cheap\", \"idx\": 21, \"val\": 196.0}, {\"col\": \"Teleportation\", \"idx\": 21, \"val\": 50.0}, {\"col\": \"Expensive\", \"idx\": 22, \"val\": 111.0}, {\"col\": \"Cheap\", \"idx\": 22, \"val\": 188.0}, {\"col\": \"Teleportation\", \"idx\": 22, \"val\": 50.0}, {\"col\": \"Expensive\", \"idx\": 23, \"val\": 106.0}, {\"col\": \"Cheap\", \"idx\": 23, \"val\": 172.0}, {\"col\": \"Teleportation\", \"idx\": 23, \"val\": 49.0}, {\"col\": \"Expensive\", \"idx\": 24, \"val\": 96.0}, {\"col\": \"Cheap\", \"idx\": 24, \"val\": 172.0}, {\"col\": \"Teleportation\", \"idx\": 24, \"val\": 42.0}, {\"col\": \"Expensive\", \"idx\": 25, \"val\": 100.0}, {\"col\": \"Cheap\", \"idx\": 25, \"val\": 151.0}, {\"col\": \"Teleportation\", \"idx\": 25, \"val\": 36.0}, {\"col\": \"Expensive\", \"idx\": 26, \"val\": 90.0}, {\"col\": \"Cheap\", \"idx\": 26, \"val\": 147.0}, {\"col\": \"Teleportation\", \"idx\": 26, \"val\": 37.0}, {\"col\": \"Expensive\", \"idx\": 27, \"val\": 76.0}, {\"col\": \"Cheap\", \"idx\": 27, \"val\": 151.0}, {\"col\": \"Teleportation\", \"idx\": 27, \"val\": 34.0}, {\"col\": \"Expensive\", \"idx\": 28, \"val\": 68.0}, {\"col\": \"Cheap\", \"idx\": 28, \"val\": 150.0}, {\"col\": \"Teleportation\", \"idx\": 28, \"val\": 30.0}, {\"col\": \"Expensive\", \"idx\": 29, \"val\": 74.0}, {\"col\": \"Cheap\", \"idx\": 29, \"val\": 132.0}, {\"col\": \"Teleportation\", \"idx\": 29, \"val\": 34.0}, {\"col\": \"Expensive\", \"idx\": 30, \"val\": 68.0}, {\"col\": \"Cheap\", \"idx\": 30, \"val\": 124.0}, {\"col\": \"Teleportation\", \"idx\": 30, \"val\": 38.0}, {\"col\": \"Expensive\", \"idx\": 31, \"val\": 67.0}, {\"col\": \"Cheap\", \"idx\": 31, \"val\": 123.0}, {\"col\": \"Teleportation\", \"idx\": 31, \"val\": 30.0}, {\"col\": \"Expensive\", \"idx\": 32, \"val\": 64.0}, {\"col\": \"Cheap\", \"idx\": 32, \"val\": 121.0}, {\"col\": \"Teleportation\", \"idx\": 32, \"val\": 25.0}, {\"col\": \"Expensive\", \"idx\": 33, \"val\": 60.0}, {\"col\": \"Cheap\", \"idx\": 33, \"val\": 108.0}, {\"col\": \"Teleportation\", \"idx\": 33, \"val\": 29.0}, {\"col\": \"Expensive\", \"idx\": 34, \"val\": 68.0}, {\"col\": \"Cheap\", \"idx\": 34, \"val\": 103.0}, {\"col\": \"Teleportation\", \"idx\": 34, \"val\": 22.0}, {\"col\": \"Expensive\", \"idx\": 35, \"val\": 63.0}, {\"col\": \"Cheap\", \"idx\": 35, \"val\": 95.0}, {\"col\": \"Teleportation\", \"idx\": 35, \"val\": 26.0}, {\"col\": \"Expensive\", \"idx\": 36, \"val\": 48.0}, {\"col\": \"Cheap\", \"idx\": 36, \"val\": 98.0}, {\"col\": \"Teleportation\", \"idx\": 36, \"val\": 24.0}, {\"col\": \"Expensive\", \"idx\": 37, \"val\": 50.0}, {\"col\": \"Cheap\", \"idx\": 37, \"val\": 91.0}, {\"col\": \"Teleportation\", \"idx\": 37, \"val\": 20.0}, {\"col\": \"Expensive\", \"idx\": 38, \"val\": 48.0}, {\"col\": \"Cheap\", \"idx\": 38, \"val\": 84.0}, {\"col\": \"Teleportation\", \"idx\": 38, \"val\": 22.0}, {\"col\": \"Expensive\", \"idx\": 39, \"val\": 58.0}, {\"col\": \"Cheap\", \"idx\": 39, \"val\": 69.0}, {\"col\": \"Teleportation\", \"idx\": 39, \"val\": 19.0}, {\"col\": \"Expensive\", \"idx\": 40, \"val\": 46.0}, {\"col\": \"Cheap\", \"idx\": 40, \"val\": 76.0}, {\"col\": \"Teleportation\", \"idx\": 40, \"val\": 19.0}, {\"col\": \"Expensive\", \"idx\": 41, \"val\": 44.0}, {\"col\": \"Cheap\", \"idx\": 41, \"val\": 74.0}, {\"col\": \"Teleportation\", \"idx\": 41, \"val\": 18.0}, {\"col\": \"Expensive\", \"idx\": 42, \"val\": 40.0}, {\"col\": \"Cheap\", \"idx\": 42, \"val\": 74.0}, {\"col\": \"Teleportation\", \"idx\": 42, \"val\": 13.0}, {\"col\": \"Expensive\", \"idx\": 43, \"val\": 42.0}, {\"col\": \"Cheap\", \"idx\": 43, \"val\": 62.0}, {\"col\": \"Teleportation\", \"idx\": 43, \"val\": 19.0}, {\"col\": \"Expensive\", \"idx\": 44, \"val\": 43.0}, {\"col\": \"Cheap\", \"idx\": 44, \"val\": 59.0}, {\"col\": \"Teleportation\", \"idx\": 44, \"val\": 15.0}, {\"col\": \"Expensive\", \"idx\": 45, \"val\": 40.0}, {\"col\": \"Cheap\", \"idx\": 45, \"val\": 61.0}, {\"col\": \"Teleportation\", \"idx\": 45, \"val\": 11.0}, {\"col\": \"Expensive\", \"idx\": 46, \"val\": 32.0}, {\"col\": \"Cheap\", \"idx\": 46, \"val\": 59.0}, {\"col\": \"Teleportation\", \"idx\": 46, \"val\": 15.0}, {\"col\": \"Expensive\", \"idx\": 47, \"val\": 31.0}, {\"col\": \"Cheap\", \"idx\": 47, \"val\": 55.0}, {\"col\": \"Teleportation\", \"idx\": 47, \"val\": 15.0}, {\"col\": \"Expensive\", \"idx\": 48, \"val\": 27.0}, {\"col\": \"Cheap\", \"idx\": 48, \"val\": 56.0}, {\"col\": \"Teleportation\", \"idx\": 48, \"val\": 13.0}, {\"col\": \"Expensive\", \"idx\": 49, \"val\": 29.0}, {\"col\": \"Cheap\", \"idx\": 49, \"val\": 47.0}, {\"col\": \"Teleportation\", \"idx\": 49, \"val\": 17.0}, {\"col\": \"Expensive\", \"idx\": 50, \"val\": 26.0}, {\"col\": \"Cheap\", \"idx\": 50, \"val\": 48.0}, {\"col\": \"Teleportation\", \"idx\": 50, \"val\": 14.0}, {\"col\": \"Expensive\", \"idx\": 51, \"val\": 30.0}, {\"col\": \"Cheap\", \"idx\": 51, \"val\": 41.0}, {\"col\": \"Teleportation\", \"idx\": 51, \"val\": 12.0}, {\"col\": \"Expensive\", \"idx\": 52, \"val\": 26.0}, {\"col\": \"Cheap\", \"idx\": 52, \"val\": 42.0}, {\"col\": \"Teleportation\", \"idx\": 52, \"val\": 12.0}, {\"col\": \"Expensive\", \"idx\": 53, \"val\": 22.0}, {\"col\": \"Cheap\", \"idx\": 53, \"val\": 44.0}, {\"col\": \"Teleportation\", \"idx\": 53, \"val\": 12.0}, {\"col\": \"Expensive\", \"idx\": 54, \"val\": 23.0}, {\"col\": \"Cheap\", \"idx\": 54, \"val\": 39.0}, {\"col\": \"Teleportation\", \"idx\": 54, \"val\": 11.0}, {\"col\": \"Expensive\", \"idx\": 55, \"val\": 25.0}, {\"col\": \"Cheap\", \"idx\": 55, \"val\": 38.0}, {\"col\": \"Teleportation\", \"idx\": 55, \"val\": 8.0}, {\"col\": \"Expensive\", \"idx\": 56, \"val\": 29.0}, {\"col\": \"Cheap\", \"idx\": 56, \"val\": 29.0}, {\"col\": \"Teleportation\", \"idx\": 56, \"val\": 8.0}, {\"col\": \"Expensive\", \"idx\": 57, \"val\": 16.0}, {\"col\": \"Cheap\", \"idx\": 57, \"val\": 35.0}, {\"col\": \"Teleportation\", \"idx\": 57, \"val\": 10.0}, {\"col\": \"Expensive\", \"idx\": 58, \"val\": 20.0}, {\"col\": \"Cheap\", \"idx\": 58, \"val\": 33.0}, {\"col\": \"Teleportation\", \"idx\": 58, \"val\": 5.0}, {\"col\": \"Expensive\", \"idx\": 59, \"val\": 22.0}, {\"col\": \"Cheap\", \"idx\": 59, \"val\": 27.0}, {\"col\": \"Teleportation\", \"idx\": 59, \"val\": 8.0}, {\"col\": \"Expensive\", \"idx\": 60, \"val\": 17.0}, {\"col\": \"Cheap\", \"idx\": 60, \"val\": 30.0}, {\"col\": \"Teleportation\", \"idx\": 60, \"val\": 8.0}, {\"col\": \"Expensive\", \"idx\": 61, \"val\": 15.0}, {\"col\": \"Cheap\", \"idx\": 61, \"val\": 33.0}, {\"col\": \"Teleportation\", \"idx\": 61, \"val\": 6.0}, {\"col\": \"Expensive\", \"idx\": 62, \"val\": 22.0}, {\"col\": \"Cheap\", \"idx\": 62, \"val\": 24.0}, {\"col\": \"Teleportation\", \"idx\": 62, \"val\": 5.0}, {\"col\": \"Expensive\", \"idx\": 63, \"val\": 13.0}, {\"col\": \"Cheap\", \"idx\": 63, \"val\": 28.0}, {\"col\": \"Teleportation\", \"idx\": 63, \"val\": 6.0}, {\"col\": \"Expensive\", \"idx\": 64, \"val\": 16.0}, {\"col\": \"Cheap\", \"idx\": 64, \"val\": 21.0}, {\"col\": \"Teleportation\", \"idx\": 64, \"val\": 4.0}, {\"col\": \"Expensive\", \"idx\": 65, \"val\": 12.0}, {\"col\": \"Cheap\", \"idx\": 65, \"val\": 21.0}, {\"col\": \"Teleportation\", \"idx\": 65, \"val\": 6.0}, {\"col\": \"Expensive\", \"idx\": 66, \"val\": 10.0}, {\"col\": \"Cheap\", \"idx\": 66, \"val\": 18.0}, {\"col\": \"Teleportation\", \"idx\": 66, \"val\": 9.0}, {\"col\": \"Expensive\", \"idx\": 67, \"val\": 9.0}, {\"col\": \"Cheap\", \"idx\": 67, \"val\": 21.0}, {\"col\": \"Teleportation\", \"idx\": 67, \"val\": 5.0}, {\"col\": \"Expensive\", \"idx\": 68, \"val\": 14.0}, {\"col\": \"Cheap\", \"idx\": 68, \"val\": 12.0}, {\"col\": \"Teleportation\", \"idx\": 68, \"val\": 6.0}, {\"col\": \"Expensive\", \"idx\": 69, \"val\": 8.0}, {\"col\": \"Cheap\", \"idx\": 69, \"val\": 22.0}, {\"col\": \"Teleportation\", \"idx\": 69, \"val\": 2.0}, {\"col\": \"Expensive\", \"idx\": 70, \"val\": 7.0}, {\"col\": \"Cheap\", \"idx\": 70, \"val\": 22.0}, {\"col\": \"Teleportation\", \"idx\": 70, \"val\": 1.0}, {\"col\": \"Expensive\", \"idx\": 71, \"val\": 7.0}, {\"col\": \"Cheap\", \"idx\": 71, \"val\": 18.0}, {\"col\": \"Teleportation\", \"idx\": 71, \"val\": 4.0}, {\"col\": \"Expensive\", \"idx\": 72, \"val\": 10.0}, {\"col\": \"Cheap\", \"idx\": 72, \"val\": 15.0}, {\"col\": \"Teleportation\", \"idx\": 72, \"val\": 4.0}, {\"col\": \"Expensive\", \"idx\": 73, \"val\": 7.0}, {\"col\": \"Cheap\", \"idx\": 73, \"val\": 14.0}, {\"col\": \"Teleportation\", \"idx\": 73, \"val\": 6.0}, {\"col\": \"Expensive\", \"idx\": 74, \"val\": 9.0}, {\"col\": \"Cheap\", \"idx\": 74, \"val\": 11.0}, {\"col\": \"Teleportation\", \"idx\": 74, \"val\": 4.0}, {\"col\": \"Expensive\", \"idx\": 75, \"val\": 7.0}, {\"col\": \"Cheap\", \"idx\": 75, \"val\": 13.0}, {\"col\": \"Teleportation\", \"idx\": 75, \"val\": 3.0}, {\"col\": \"Expensive\", \"idx\": 76, \"val\": 8.0}, {\"col\": \"Cheap\", \"idx\": 76, \"val\": 12.0}, {\"col\": \"Teleportation\", \"idx\": 76, \"val\": 2.0}, {\"col\": \"Expensive\", \"idx\": 77, \"val\": 11.0}, {\"col\": \"Cheap\", \"idx\": 77, \"val\": 9.0}, {\"col\": \"Teleportation\", \"idx\": 77, \"val\": 2.0}, {\"col\": \"Expensive\", \"idx\": 78, \"val\": 6.0}, {\"col\": \"Cheap\", \"idx\": 78, \"val\": 12.0}, {\"col\": \"Teleportation\", \"idx\": 78, \"val\": 3.0}, {\"col\": \"Expensive\", \"idx\": 79, \"val\": 9.0}, {\"col\": \"Cheap\", \"idx\": 79, \"val\": 7.0}, {\"col\": \"Teleportation\", \"idx\": 79, \"val\": 4.0}, {\"col\": \"Expensive\", \"idx\": 80, \"val\": 5.0}, {\"col\": \"Cheap\", \"idx\": 80, \"val\": 9.0}, {\"col\": \"Teleportation\", \"idx\": 80, \"val\": 4.0}, {\"col\": \"Expensive\", \"idx\": 81, \"val\": 7.0}, {\"col\": \"Cheap\", \"idx\": 81, \"val\": 7.0}, {\"col\": \"Teleportation\", \"idx\": 81, \"val\": 2.0}, {\"col\": \"Expensive\", \"idx\": 82, \"val\": 5.0}, {\"col\": \"Cheap\", \"idx\": 82, \"val\": 7.0}, {\"col\": \"Teleportation\", \"idx\": 82, \"val\": 3.0}, {\"col\": \"Expensive\", \"idx\": 83, \"val\": 6.0}, {\"col\": \"Cheap\", \"idx\": 83, \"val\": 7.0}, {\"col\": \"Teleportation\", \"idx\": 83, \"val\": 2.0}, {\"col\": \"Expensive\", \"idx\": 84, \"val\": 3.0}, {\"col\": \"Cheap\", \"idx\": 84, \"val\": 9.0}, {\"col\": \"Teleportation\", \"idx\": 84, \"val\": 2.0}, {\"col\": \"Expensive\", \"idx\": 85, \"val\": 7.0}, {\"col\": \"Cheap\", \"idx\": 85, \"val\": 5.0}, {\"col\": \"Teleportation\", \"idx\": 85, \"val\": 1.0}, {\"col\": \"Expensive\", \"idx\": 86, \"val\": 3.0}, {\"col\": \"Cheap\", \"idx\": 86, \"val\": 7.0}, {\"col\": \"Teleportation\", \"idx\": 86, \"val\": 2.0}, {\"col\": \"Expensive\", \"idx\": 87, \"val\": 4.0}, {\"col\": \"Cheap\", \"idx\": 87, \"val\": 5.0}, {\"col\": \"Teleportation\", \"idx\": 87, \"val\": 3.0}, {\"col\": \"Expensive\", \"idx\": 88, \"val\": 4.0}, {\"col\": \"Cheap\", \"idx\": 88, \"val\": 5.0}, {\"col\": \"Teleportation\", \"idx\": 88, \"val\": 1.0}, {\"col\": \"Expensive\", \"idx\": 89, \"val\": 4.0}, {\"col\": \"Cheap\", \"idx\": 89, \"val\": 6.0}, {\"col\": \"Teleportation\", \"idx\": 89, \"val\": NaN}, {\"col\": \"Expensive\", \"idx\": 90, \"val\": 4.0}, {\"col\": \"Cheap\", \"idx\": 90, \"val\": 4.0}, {\"col\": \"Teleportation\", \"idx\": 90, \"val\": 2.0}, {\"col\": \"Expensive\", \"idx\": 91, \"val\": 1.0}, {\"col\": \"Cheap\", \"idx\": 91, \"val\": 7.0}, {\"col\": \"Teleportation\", \"idx\": 91, \"val\": 2.0}, {\"col\": \"Expensive\", \"idx\": 92, \"val\": 2.0}, {\"col\": \"Cheap\", \"idx\": 92, \"val\": 7.0}, {\"col\": \"Teleportation\", \"idx\": 92, \"val\": NaN}, {\"col\": \"Expensive\", \"idx\": 93, \"val\": 4.0}, {\"col\": \"Cheap\", \"idx\": 93, \"val\": 4.0}, {\"col\": \"Teleportation\", \"idx\": 93, \"val\": 1.0}, {\"col\": \"Expensive\", \"idx\": 94, \"val\": 2.0}, {\"col\": \"Cheap\", \"idx\": 94, \"val\": 4.0}, {\"col\": \"Teleportation\", \"idx\": 94, \"val\": 2.0}, {\"col\": \"Expensive\", \"idx\": 95, \"val\": 2.0}, {\"col\": \"Cheap\", \"idx\": 95, \"val\": 6.0}, {\"col\": \"Teleportation\", \"idx\": 95, \"val\": NaN}, {\"col\": \"Expensive\", \"idx\": 96, \"val\": 3.0}, {\"col\": \"Cheap\", \"idx\": 96, \"val\": 4.0}, {\"col\": \"Teleportation\", \"idx\": 96, \"val\": NaN}, {\"col\": \"Expensive\", \"idx\": 97, \"val\": 1.0}, {\"col\": \"Cheap\", \"idx\": 97, \"val\": 6.0}, {\"col\": \"Teleportation\", \"idx\": 97, \"val\": NaN}, {\"col\": \"Expensive\", \"idx\": 98, \"val\": 5.0}, {\"col\": \"Cheap\", \"idx\": 98, \"val\": 2.0}, {\"col\": \"Teleportation\", \"idx\": 98, \"val\": NaN}, {\"col\": \"Expensive\", \"idx\": 99, \"val\": 2.0}, {\"col\": \"Cheap\", \"idx\": 99, \"val\": 2.0}, {\"col\": \"Teleportation\", \"idx\": 99, \"val\": 3.0}, {\"col\": \"Expensive\", \"idx\": 100, \"val\": 2.0}, {\"col\": \"Cheap\", \"idx\": 100, \"val\": 3.0}, {\"col\": \"Teleportation\", \"idx\": 100, \"val\": 2.0}, {\"col\": \"Expensive\", \"idx\": 101, \"val\": 4.0}, {\"col\": \"Cheap\", \"idx\": 101, \"val\": 2.0}, {\"col\": \"Teleportation\", \"idx\": 101, \"val\": 1.0}, {\"col\": \"Expensive\", \"idx\": 102, \"val\": 1.0}, {\"col\": \"Cheap\", \"idx\": 102, \"val\": 3.0}, {\"col\": \"Teleportation\", \"idx\": 102, \"val\": 1.0}, {\"col\": \"Expensive\", \"idx\": 103, \"val\": 2.0}, {\"col\": \"Cheap\", \"idx\": 103, \"val\": 3.0}, {\"col\": \"Teleportation\", \"idx\": 103, \"val\": NaN}, {\"col\": \"Expensive\", \"idx\": 104, \"val\": 1.0}, {\"col\": \"Cheap\", \"idx\": 104, \"val\": 3.0}, {\"col\": \"Teleportation\", \"idx\": 104, \"val\": 1.0}, {\"col\": \"Expensive\", \"idx\": 105, \"val\": 3.0}, {\"col\": \"Cheap\", \"idx\": 105, \"val\": 2.0}, {\"col\": \"Teleportation\", \"idx\": 105, \"val\": NaN}, {\"col\": \"Expensive\", \"idx\": 106, \"val\": 2.0}, {\"col\": \"Cheap\", \"idx\": 106, \"val\": 2.0}, {\"col\": \"Teleportation\", \"idx\": 106, \"val\": 1.0}, {\"col\": \"Expensive\", \"idx\": 107, \"val\": 1.0}, {\"col\": \"Cheap\", \"idx\": 107, \"val\": 3.0}, {\"col\": \"Teleportation\", \"idx\": 107, \"val\": 1.0}, {\"col\": \"Expensive\", \"idx\": 108, \"val\": 3.0}, {\"col\": \"Cheap\", \"idx\": 108, \"val\": 1.0}, {\"col\": \"Teleportation\", \"idx\": 108, \"val\": 1.0}, {\"col\": \"Expensive\", \"idx\": 109, \"val\": 1.0}, {\"col\": \"Cheap\", \"idx\": 109, \"val\": 2.0}, {\"col\": \"Teleportation\", \"idx\": 109, \"val\": 2.0}, {\"col\": \"Expensive\", \"idx\": 110, \"val\": 1.0}, {\"col\": \"Cheap\", \"idx\": 110, \"val\": 4.0}, {\"col\": \"Teleportation\", \"idx\": 110, \"val\": NaN}, {\"col\": \"Expensive\", \"idx\": 111, \"val\": 2.0}, {\"col\": \"Cheap\", \"idx\": 111, \"val\": 2.0}, {\"col\": \"Teleportation\", \"idx\": 111, \"val\": NaN}, {\"col\": \"Expensive\", \"idx\": 112, \"val\": 1.0}, {\"col\": \"Cheap\", \"idx\": 112, \"val\": 2.0}, {\"col\": \"Teleportation\", \"idx\": 112, \"val\": NaN}, {\"col\": \"Expensive\", \"idx\": 113, \"val\": 2.0}, {\"col\": \"Cheap\", \"idx\": 113, \"val\": NaN}, {\"col\": \"Teleportation\", \"idx\": 113, \"val\": 1.0}, {\"col\": \"Expensive\", \"idx\": 114, \"val\": 2.0}, {\"col\": \"Cheap\", \"idx\": 114, \"val\": NaN}, {\"col\": \"Teleportation\", \"idx\": 114, \"val\": 1.0}, {\"col\": \"Expensive\", \"idx\": 115, \"val\": 1.0}, {\"col\": \"Cheap\", \"idx\": 115, \"val\": 2.0}, {\"col\": \"Teleportation\", \"idx\": 115, \"val\": NaN}, {\"col\": \"Expensive\", \"idx\": 116, \"val\": NaN}, {\"col\": \"Cheap\", \"idx\": 116, \"val\": 3.0}, {\"col\": \"Teleportation\", \"idx\": 116, \"val\": NaN}, {\"col\": \"Expensive\", \"idx\": 117, \"val\": 1.0}, {\"col\": \"Cheap\", \"idx\": 117, \"val\": 1.0}, {\"col\": \"Teleportation\", \"idx\": 117, \"val\": NaN}, {\"col\": \"Expensive\", \"idx\": 118, \"val\": 1.0}, {\"col\": \"Cheap\", \"idx\": 118, \"val\": 1.0}, {\"col\": \"Teleportation\", \"idx\": 118, \"val\": NaN}, {\"col\": \"Expensive\", \"idx\": 119, \"val\": 1.0}, {\"col\": \"Cheap\", \"idx\": 119, \"val\": NaN}, {\"col\": \"Teleportation\", \"idx\": 119, \"val\": 1.0}, {\"col\": \"Expensive\", \"idx\": 120, \"val\": 1.0}, {\"col\": \"Cheap\", \"idx\": 120, \"val\": NaN}, {\"col\": \"Teleportation\", \"idx\": 120, \"val\": 1.0}, {\"col\": \"Expensive\", \"idx\": 121, \"val\": NaN}, {\"col\": \"Cheap\", \"idx\": 121, \"val\": 1.0}, {\"col\": \"Teleportation\", \"idx\": 121, \"val\": NaN}, {\"col\": \"Expensive\", \"idx\": 122, \"val\": 1.0}, {\"col\": \"Cheap\", \"idx\": 122, \"val\": NaN}, {\"col\": \"Teleportation\", \"idx\": 122, \"val\": NaN}, {\"col\": \"Expensive\", \"idx\": 124, \"val\": NaN}, {\"col\": \"Cheap\", \"idx\": 124, \"val\": 1.0}, {\"col\": \"Teleportation\", \"idx\": 124, \"val\": NaN}, {\"col\": \"Expensive\", \"idx\": 125, \"val\": NaN}, {\"col\": \"Cheap\", \"idx\": 125, \"val\": 1.0}, {\"col\": \"Teleportation\", \"idx\": 125, \"val\": NaN}, {\"col\": \"Expensive\", \"idx\": 126, \"val\": NaN}, {\"col\": \"Cheap\", \"idx\": 126, \"val\": 1.0}, {\"col\": \"Teleportation\", \"idx\": 126, \"val\": NaN}, {\"col\": \"Expensive\", \"idx\": 127, \"val\": NaN}, {\"col\": \"Cheap\", \"idx\": 127, \"val\": 1.0}, {\"col\": \"Teleportation\", \"idx\": 127, \"val\": NaN}, {\"col\": \"Expensive\", \"idx\": 128, \"val\": NaN}, {\"col\": \"Cheap\", \"idx\": 128, \"val\": 1.0}, {\"col\": \"Teleportation\", \"idx\": 128, \"val\": NaN}, {\"col\": \"Expensive\", \"idx\": 129, \"val\": NaN}, {\"col\": \"Cheap\", \"idx\": 129, \"val\": 1.0}, {\"col\": \"Teleportation\", \"idx\": 129, \"val\": NaN}, {\"col\": \"Expensive\", \"idx\": 130, \"val\": NaN}, {\"col\": \"Cheap\", \"idx\": 130, \"val\": 1.0}, {\"col\": \"Teleportation\", \"idx\": 130, \"val\": NaN}, {\"col\": \"Expensive\", \"idx\": 131, \"val\": 1.0}, {\"col\": \"Cheap\", \"idx\": 131, \"val\": NaN}, {\"col\": \"Teleportation\", \"idx\": 131, \"val\": NaN}, {\"col\": \"Expensive\", \"idx\": 132, \"val\": 1.0}, {\"col\": \"Cheap\", \"idx\": 132, \"val\": NaN}, {\"col\": \"Teleportation\", \"idx\": 132, \"val\": NaN}, {\"col\": \"Expensive\", \"idx\": 133, \"val\": NaN}, {\"col\": \"Cheap\", \"idx\": 133, \"val\": 1.0}, {\"col\": \"Teleportation\", \"idx\": 133, \"val\": NaN}, {\"col\": \"Expensive\", \"idx\": 134, \"val\": 1.0}, {\"col\": \"Cheap\", \"idx\": 134, \"val\": NaN}, {\"col\": \"Teleportation\", \"idx\": 134, \"val\": NaN}, {\"col\": \"Expensive\", \"idx\": 135, \"val\": 1.0}, {\"col\": \"Cheap\", \"idx\": 135, \"val\": NaN}, {\"col\": \"Teleportation\", \"idx\": 135, \"val\": NaN}, {\"col\": \"Expensive\", \"idx\": 136, \"val\": NaN}, {\"col\": \"Cheap\", \"idx\": 136, \"val\": 1.0}, {\"col\": \"Teleportation\", \"idx\": 136, \"val\": NaN}, {\"col\": \"Expensive\", \"idx\": 137, \"val\": 1.0}, {\"col\": \"Cheap\", \"idx\": 137, \"val\": NaN}, {\"col\": \"Teleportation\", \"idx\": 137, \"val\": NaN}, {\"col\": \"Expensive\", \"idx\": 138, \"val\": 1.0}, {\"col\": \"Cheap\", \"idx\": 138, \"val\": NaN}, {\"col\": \"Teleportation\", \"idx\": 138, \"val\": NaN}, {\"col\": \"Expensive\", \"idx\": 139, \"val\": NaN}, {\"col\": \"Cheap\", \"idx\": 139, \"val\": 1.0}, {\"col\": \"Teleportation\", \"idx\": 139, \"val\": NaN}, {\"col\": \"Expensive\", \"idx\": 140, \"val\": 1.0}, {\"col\": \"Cheap\", \"idx\": 140, \"val\": NaN}, {\"col\": \"Teleportation\", \"idx\": 140, \"val\": NaN}, {\"col\": \"Expensive\", \"idx\": 142, \"val\": NaN}, {\"col\": \"Cheap\", \"idx\": 142, \"val\": 1.0}, {\"col\": \"Teleportation\", \"idx\": 142, \"val\": NaN}, {\"col\": \"Expensive\", \"idx\": 143, \"val\": 1.0}, {\"col\": \"Cheap\", \"idx\": 143, \"val\": NaN}, {\"col\": \"Teleportation\", \"idx\": 143, \"val\": NaN}, {\"col\": \"Expensive\", \"idx\": 145, \"val\": NaN}, {\"col\": \"Cheap\", \"idx\": 145, \"val\": 1.0}, {\"col\": \"Teleportation\", \"idx\": 145, \"val\": NaN}, {\"col\": \"Expensive\", \"idx\": 146, \"val\": NaN}, {\"col\": \"Cheap\", \"idx\": 146, \"val\": 1.0}, {\"col\": \"Teleportation\", \"idx\": 146, \"val\": NaN}, {\"col\": \"Expensive\", \"idx\": 147, \"val\": NaN}, {\"col\": \"Cheap\", \"idx\": 147, \"val\": 1.0}, {\"col\": \"Teleportation\", \"idx\": 147, \"val\": NaN}, {\"col\": \"Expensive\", \"idx\": 148, \"val\": 1.0}, {\"col\": \"Cheap\", \"idx\": 148, \"val\": NaN}, {\"col\": \"Teleportation\", \"idx\": 148, \"val\": NaN}, {\"col\": \"Expensive\", \"idx\": 149, \"val\": 1.0}, {\"col\": \"Cheap\", \"idx\": 149, \"val\": NaN}, {\"col\": \"Teleportation\", \"idx\": 149, \"val\": NaN}, {\"col\": \"Expensive\", \"idx\": 150, \"val\": NaN}, {\"col\": \"Cheap\", \"idx\": 150, \"val\": 1.0}, {\"col\": \"Teleportation\", \"idx\": 150, \"val\": NaN}, {\"col\": \"Expensive\", \"idx\": 151, \"val\": NaN}, {\"col\": \"Cheap\", \"idx\": 151, \"val\": 1.0}, {\"col\": \"Teleportation\", \"idx\": 151, \"val\": NaN}, {\"col\": \"Expensive\", \"idx\": 152, \"val\": 1.0}, {\"col\": \"Cheap\", \"idx\": 152, \"val\": NaN}, {\"col\": \"Teleportation\", \"idx\": 152, \"val\": NaN}, {\"col\": \"Expensive\", \"idx\": 154, \"val\": 1.0}, {\"col\": \"Cheap\", \"idx\": 154, \"val\": NaN}, {\"col\": \"Teleportation\", \"idx\": 154, \"val\": NaN}, {\"col\": \"Expensive\", \"idx\": 156, \"val\": NaN}, {\"col\": \"Cheap\", \"idx\": 156, \"val\": 1.0}, {\"col\": \"Teleportation\", \"idx\": 156, \"val\": NaN}, {\"col\": \"Expensive\", \"idx\": 157, \"val\": 1.0}, {\"col\": \"Cheap\", \"idx\": 157, \"val\": NaN}, {\"col\": \"Teleportation\", \"idx\": 157, \"val\": NaN}, {\"col\": \"Expensive\", \"idx\": 158, \"val\": NaN}, {\"col\": \"Cheap\", \"idx\": 158, \"val\": 1.0}, {\"col\": \"Teleportation\", \"idx\": 158, \"val\": NaN}, {\"col\": \"Expensive\", \"idx\": 159, \"val\": NaN}, {\"col\": \"Cheap\", \"idx\": 159, \"val\": 1.0}, {\"col\": \"Teleportation\", \"idx\": 159, \"val\": NaN}, {\"col\": \"Expensive\", \"idx\": 160, \"val\": NaN}, {\"col\": \"Cheap\", \"idx\": 160, \"val\": 1.0}, {\"col\": \"Teleportation\", \"idx\": 160, \"val\": NaN}, {\"col\": \"Expensive\", \"idx\": 161, \"val\": 1.0}, {\"col\": \"Cheap\", \"idx\": 161, \"val\": NaN}, {\"col\": \"Teleportation\", \"idx\": 161, \"val\": NaN}, {\"col\": \"Expensive\", \"idx\": 162, \"val\": NaN}, {\"col\": \"Cheap\", \"idx\": 162, \"val\": 1.0}, {\"col\": \"Teleportation\", \"idx\": 162, \"val\": NaN}, {\"col\": \"Expensive\", \"idx\": 163, \"val\": NaN}, {\"col\": \"Cheap\", \"idx\": 163, \"val\": 1.0}, {\"col\": \"Teleportation\", \"idx\": 163, \"val\": NaN}, {\"col\": \"Expensive\", \"idx\": 164, \"val\": NaN}, {\"col\": \"Cheap\", \"idx\": 164, \"val\": 1.0}, {\"col\": \"Teleportation\", \"idx\": 164, \"val\": NaN}, {\"col\": \"Expensive\", \"idx\": 165, \"val\": NaN}, {\"col\": \"Cheap\", \"idx\": 165, \"val\": 1.0}, {\"col\": \"Teleportation\", \"idx\": 165, \"val\": NaN}, {\"col\": \"Expensive\", \"idx\": 166, \"val\": NaN}, {\"col\": \"Cheap\", \"idx\": 166, \"val\": 1.0}, {\"col\": \"Teleportation\", \"idx\": 166, \"val\": NaN}, {\"col\": \"Expensive\", \"idx\": 167, \"val\": 1.0}, {\"col\": \"Cheap\", \"idx\": 167, \"val\": NaN}, {\"col\": \"Teleportation\", \"idx\": 167, \"val\": NaN}, {\"col\": \"Expensive\", \"idx\": 169, \"val\": 1.0}, {\"col\": \"Cheap\", \"idx\": 169, \"val\": NaN}, {\"col\": \"Teleportation\", \"idx\": 169, \"val\": NaN}, {\"col\": \"Expensive\", \"idx\": 170, \"val\": NaN}, {\"col\": \"Cheap\", \"idx\": 170, \"val\": 1.0}, {\"col\": \"Teleportation\", \"idx\": 170, \"val\": NaN}, {\"col\": \"Expensive\", \"idx\": 171, \"val\": NaN}, {\"col\": \"Cheap\", \"idx\": 171, \"val\": 1.0}, {\"col\": \"Teleportation\", \"idx\": 171, \"val\": NaN}, {\"col\": \"Expensive\", \"idx\": 172, \"val\": 1.0}, {\"col\": \"Cheap\", \"idx\": 172, \"val\": NaN}, {\"col\": \"Teleportation\", \"idx\": 172, \"val\": NaN}, {\"col\": \"Expensive\", \"idx\": 174, \"val\": NaN}, {\"col\": \"Cheap\", \"idx\": 174, \"val\": 1.0}, {\"col\": \"Teleportation\", \"idx\": 174, \"val\": NaN}, {\"col\": \"Expensive\", \"idx\": 175, \"val\": 1.0}, {\"col\": \"Cheap\", \"idx\": 175, \"val\": NaN}, {\"col\": \"Teleportation\", \"idx\": 175, \"val\": NaN}, {\"col\": \"Expensive\", \"idx\": 177, \"val\": 1.0}, {\"col\": \"Cheap\", \"idx\": 177, \"val\": NaN}, {\"col\": \"Teleportation\", \"idx\": 177, \"val\": NaN}, {\"col\": \"Expensive\", \"idx\": 178, \"val\": NaN}, {\"col\": \"Cheap\", \"idx\": 178, \"val\": 1.0}, {\"col\": \"Teleportation\", \"idx\": 178, \"val\": NaN}]}, {\"name\": \"stats\", \"source\": \"table\", \"transform\": [{\"keys\": [\"data.idx\"], \"type\": \"facet\"}, {\"type\": \"stats\", \"value\": \"data.val\"}]}], \"height\": 300, \"legends\": [{\"fill\": \"color\", \"offset\": 0, \"properties\": {}, \"title\": \"Edge\"}], \"marks\": [{\"from\": {\"data\": \"table\", \"transform\": [{\"keys\": [\"data.col\"], \"type\": \"facet\"}, {\"height\": \"data.val\", \"point\": \"data.idx\", \"type\": \"stack\"}]}, \"marks\": [{\"properties\": {\"enter\": {\"fill\": {\"field\": \"data.col\", \"scale\": \"color\"}, \"interpolate\": {\"value\": \"monotone\"}, \"opacity\": {\"value\": 0.8}, \"x\": {\"field\": \"data.idx\", \"scale\": \"x\"}, \"y\": {\"field\": \"y\", \"scale\": \"y\"}, \"y2\": {\"field\": \"y2\", \"scale\": \"y\"}}, \"hover\": {\"opacity\": {\"value\": 1}, \"size\": {\"value\": 200}}, \"update\": {\"opacity\": {\"value\": 0.8}, \"size\": {\"value\": 100}}}, \"type\": \"area\"}], \"type\": \"group\"}], \"padding\": \"auto\", \"scales\": [{\"domain\": {\"data\": \"table\", \"field\": \"data.idx\"}, \"name\": \"x\", \"range\": \"width\", \"type\": \"linear\", \"zero\": false}, {\"domain\": {\"data\": \"stats\", \"field\": \"sum\"}, \"name\": \"y\", \"nice\": true, \"range\": \"height\"}, {\"domain\": {\"data\": \"table\", \"field\": \"data.col\"}, \"name\": \"color\", \"range\": [\"#ff0000\", \"#50aa50\", \"#6060aa\", \"#eeeeee\"], \"type\": \"ordinal\"}], \"width\": 400}, function(chart) {\n",
        "         chart({el: \"#visbdb3c13faa7e406394122c4774178c80\"}).update();\n",
        "       });\n",
        "     };\n",
        "     _do_plot();\n",
        "   })();\n",
        "</script>\n",
        "<style>.vega canvas {width: 100%;}</style>\n",
        "        "
       ],
       "metadata": {},
       "output_type": "pyout",
       "prompt_number": 96,
       "text": [
        "<vincent.charts.Area at 0x108ad32d0>"
       ]
      }
     ],
     "prompt_number": 96
    },
    {
     "cell_type": "code",
     "collapsed": false,
     "input": [
      "data = []\n",
      "index = []\n",
      "\n",
      "for e in G.edges_iter():\n",
      "    key = edgetokey((e[0], e[1]))\n",
      "    data.append(pd.Series(G.edge[e[0]][e[1]]['timeline']))\n",
      "    index.append(key)\n",
      "\n",
      "df = pd.DataFrame(data, index=index).T\n",
      "\n",
      "if len(expensiveedges)>0:           \n",
      "    dfexp = df[expensiveedges].copy()\n",
      "    dfcheap = df.copy()\n",
      "    dfcheap.drop(expensiveedges, 1, inplace=True)\n",
      "    "
     ],
     "language": "python",
     "metadata": {},
     "outputs": [],
     "prompt_number": 423
    },
    {
     "cell_type": "code",
     "collapsed": false,
     "input": [
      "dfexp[dfexp>0]=1"
     ],
     "language": "python",
     "metadata": {},
     "outputs": [],
     "prompt_number": 428
    },
    {
     "cell_type": "code",
     "collapsed": false,
     "input": [
      "(dfexp[dfexp>0].sum(axis=1)).sum()"
     ],
     "language": "python",
     "metadata": {},
     "outputs": [
      {
       "metadata": {},
       "output_type": "pyout",
       "prompt_number": 433,
       "text": [
        "694.0"
       ]
      }
     ],
     "prompt_number": 433
    },
    {
     "cell_type": "code",
     "collapsed": false,
     "input": [
      "    datacost = [dfexp.sum(axis=1), dfcheap.sum(axis=1)]\n",
      "    indexcost = ['Expensive', 'Cheap']\n",
      "    dfcost = pd.DataFrame(datacost, index=indexcost).T\n",
      "\n",
      "    finaldf = dfcost\n",
      "else:\n",
      "    finaldf = df"
     ],
     "language": "python",
     "metadata": {},
     "outputs": [],
     "prompt_number": 374
    }
   ],
   "metadata": {}
  }
 ]
}