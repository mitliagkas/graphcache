{
 "metadata": {
  "name": "",
  "signature": "sha256:00ad277f49ab3973f16507d9f9a9515c58254b86099050f0d6b501a27b877332"
 },
 "nbformat": 3,
 "nbformat_minor": 0,
 "worksheets": [
  {
   "cells": [
    {
     "cell_type": "code",
     "collapsed": false,
     "input": [
      "import networkx as nx\n",
      "from random import random\n",
      "import math, time"
     ],
     "language": "python",
     "metadata": {},
     "outputs": [],
     "prompt_number": 1
    },
    {
     "cell_type": "code",
     "collapsed": false,
     "input": [
      "import json\n",
      "from networkx.readwrite import json_graph"
     ],
     "language": "python",
     "metadata": {},
     "outputs": [],
     "prompt_number": 2
    },
    {
     "cell_type": "code",
     "collapsed": false,
     "input": [
      "import vincent\n",
      "from IPython.display import display\n",
      "vincent.initialize_notebook()"
     ],
     "language": "python",
     "metadata": {},
     "outputs": [
      {
       "html": [
        "\n",
        "           <script>\n",
        "               \n",
        "                function vct_load_lib(url, callback){\n",
        "                      if(typeof d3 !== 'undefined' &&\n",
        "                         url === 'http://d3js.org/d3.v3.min.js'){\n",
        "                        callback()\n",
        "                      }\n",
        "                      var s = document.createElement('script');\n",
        "                      s.src = url;\n",
        "                      s.async = true;\n",
        "                      s.onreadystatechange = s.onload = callback;\n",
        "                      s.onerror = function(){\n",
        "                        console.warn(\"failed to load library \" + url);\n",
        "                        };\n",
        "                      document.getElementsByTagName(\"head\")[0].appendChild(s);\n",
        "                };\n",
        "                var vincent_event = new CustomEvent(\n",
        "                  \"vincent_libs_loaded\",\n",
        "                  {bubbles: true, cancelable: true}\n",
        "                );\n",
        "                \n",
        "               function load_all_libs(){\n",
        "                  console.log('Loading Vincent libs...')\n",
        "                  vct_load_lib('http://d3js.org/d3.v3.min.js', function(){\n",
        "                  vct_load_lib('http://d3js.org/d3.geo.projection.v0.min.js', function(){\n",
        "                  vct_load_lib('http://wrobstory.github.io/d3-cloud/d3.layout.cloud.js', function(){\n",
        "                  vct_load_lib('http://wrobstory.github.io/vega/vega.v1.3.3.js', function(){\n",
        "                  window.dispatchEvent(vincent_event);\n",
        "                  });\n",
        "                  });\n",
        "                  });\n",
        "                  });\n",
        "               };\n",
        "               if(typeof define === \"function\" && define.amd){\n",
        "                    if (window['d3'] === undefined ||\n",
        "                        window['topojson'] === undefined){\n",
        "                        require.config(\n",
        "                            {paths: {\n",
        "                              d3: 'http://d3js.org/d3.v3.min',\n",
        "                              topojson: 'http://d3js.org/topojson.v1.min'\n",
        "                              }\n",
        "                            }\n",
        "                          );\n",
        "                        require([\"d3\"], function(d3){\n",
        "                            console.log('Loading Vincent from require.js...')\n",
        "                            window.d3 = d3;\n",
        "                            require([\"topojson\"], function(topojson){\n",
        "                                window.topojson = topojson;\n",
        "                                load_all_libs();\n",
        "                            });\n",
        "                        });\n",
        "                    } else {\n",
        "                        load_all_libs();\n",
        "                    };\n",
        "               }else{\n",
        "                    console.log('Require.js not found, loading manually...')\n",
        "                    load_all_libs();\n",
        "               };\n",
        "\n",
        "           </script>"
       ],
       "metadata": {},
       "output_type": "display_data",
       "text": [
        "<IPython.core.display.HTML at 0x2ba8226e88d0>"
       ]
      }
     ],
     "prompt_number": 3
    },
    {
     "cell_type": "code",
     "collapsed": false,
     "input": [
      "import matplotlib.pyplot as plt\n",
      "%matplotlib inline\n",
      "%config InlineBackend.figure_format = 'svg' "
     ],
     "language": "python",
     "metadata": {},
     "outputs": [],
     "prompt_number": 4
    },
    {
     "cell_type": "code",
     "collapsed": false,
     "input": [
      "%load_ext autoreload\n",
      "%autoreload 2"
     ],
     "language": "python",
     "metadata": {},
     "outputs": [],
     "prompt_number": 5
    },
    {
     "cell_type": "heading",
     "level": 3,
     "metadata": {},
     "source": [
      "This notebook is not self-contained. It depends on the module `randomwalk`"
     ]
    },
    {
     "cell_type": "code",
     "collapsed": false,
     "input": [
      "from randomwalk import plotrwtraversal, randomwalk, edgetokey"
     ],
     "language": "python",
     "metadata": {},
     "outputs": [
      {
       "html": [
        "<div id=\"d3-example\"></div>\n",
        "<style>\n",
        ".node {stroke: #fff; stroke-width: 1.5px;}\n",
        "marker {stroke: #999;}\n",
        ".link {stroke: #999; stroke-opacity: .3;}\n",
        "</style>\n",
        "<script src=\"force.js\"></script>"
       ],
       "metadata": {},
       "output_type": "display_data",
       "text": [
        "<IPython.core.display.HTML at 0x2ba822967790>"
       ]
      }
     ],
     "prompt_number": 6
    },
    {
     "cell_type": "code",
     "collapsed": false,
     "input": [
      "def rungraph(G, k=2):\n",
      "    # Convert to DiGraph if necessary\n",
      "    if G.is_multigraph():\n",
      "        if G.is_directed():\n",
      "            Gm = G.copy()\n",
      "            G = nx.DiGraph()\n",
      "            G.graph['name'] = Gm.graph['name']\n",
      "            for (u,v) in Gm.edges_iter():\n",
      "                G.add_edge(u,v)\n",
      "\n",
      "    # Randomize the expensive edges\n",
      "    expensiveedges = []\n",
      "    for e in G.edges_iter():\n",
      "        if random() > 1/float(k):\n",
      "            expensiveedges.append(edgetokey(e))\n",
      "            G.edge[e[0]][e[1]]['expensive'] = True\n",
      "        else:\n",
      "            G.edge[e[0]][e[1]]['expensive'] = False\n",
      "\n",
      "    get_ipython().run_cell_magic(u'html', u'', '<h2>Graph: '+G.graph['name']+'</h2>')\n",
      "        \n",
      "    if False:\n",
      "        # Save and plot graph\n",
      "        d = json_graph.node_link_data(G)\n",
      "        for node in d['nodes']:\n",
      "            node['name']=node['id']\n",
      "            node['value']=G.degree(node['id'])\n",
      "\n",
      "        d['adjacency'] = json_graph.adjacency_data(G)['adjacency']\n",
      "        json.dump(d, open('graph.json','w'))\n",
      "\n",
      "        time.sleep(1)\n",
      "\n",
      "        get_ipython().run_cell_magic(u'html', u'', u'<div id=\"d3-example\"></div>\\n<style>\\n.node {stroke: #fff; stroke-width: 1.5px;}\\nmarker {stroke: #999;}\\n.link {stroke: #999; stroke-opacity: .6;}\\n</style>\\n<script src=\"force.js\"></script>')\n",
      "        #nx.draw_graphviz(G)\n",
      "\n",
      "    # Run algos\n",
      "    G1 = G.copy()\n",
      "    randomwalk(G1, frogs, P_die)\n",
      "    G2 = G.copy()\n",
      "    randomwalk(G2, frogs, P_die, 4, expensiveedges)\n",
      "\n",
      "    # Make graphs\n",
      "    (line1, df1) = plotrwtraversal(G1,expensiveedges, time=G2.graph['endtime']+1)\n",
      "    (line2, df2) = plotrwtraversal(G2, expensiveedges)\n",
      "    get_ipython().run_cell_magic(u'html', u'', '<h3>'+\"Vanilla random walk. Cost: \" + str(G1.graph['cost'])+'</h3>')\n",
      "    display(line1)\n",
      "\n",
      "    get_ipython().run_cell_magic(u'html', u'', '<h3>'+\"Waiting random walk. Cost: \" + str(G2.graph['cost'])\n",
      "                                 + ', a ' + str( 100*(1 - G2.graph['cost'] / float(G1.graph['cost']) ) ) + '% gain</h3>')\n",
      "    display(line2)\n",
      "\n",
      "    (l, d) = plotrwtraversal(G2, countfrogs=True, expensiveedges = expensiveedges)\n",
      "    get_ipython().run_cell_magic(u'html', u'', '<h4>'+\"Waiting algorithm: What are the frogs up to?\"+'</h4>')\n",
      "    display(l)\n",
      "\n",
      "    get_ipython().run_cell_magic(u'html', u'', '<h3>'+'Performance stats'+'</h3>')\n",
      "    print \"Stats normalized by equivalent vanilla random walk stats:\"\n",
      "    print\n",
      "    print \"Average death round (waiting/vanilla):\", G2.graph['death_times_sum'] / float(L*frogs)\n",
      "    print \"Total duration in rounds (waiting/vanilla):\", G2.graph['endtime'] / float(G1.graph['endtime'])\n",
      "    print \"Cost (waiting/vanilla):\", G2.graph['cost'] / float(G1.graph['cost'])\n"
     ],
     "language": "python",
     "metadata": {},
     "outputs": [],
     "prompt_number": 7
    },
    {
     "cell_type": "heading",
     "level": 1,
     "metadata": {},
     "source": [
      "Generate graph"
     ]
    },
    {
     "cell_type": "code",
     "collapsed": false,
     "input": [
      "n = 100\n",
      "m = 2\n",
      "p = 0.3"
     ],
     "language": "python",
     "metadata": {},
     "outputs": [],
     "prompt_number": 8
    },
    {
     "cell_type": "code",
     "collapsed": false,
     "input": [
      "allG = []\n",
      "#allG.append(nx.barbell_graph(50,0))\n",
      "allG.append(nx.scale_free_graph(n))\n",
      "allG.append(nx.powerlaw_cluster_graph(n=n, m=m, p=p))\n",
      "#allG.append(nx.cycle_graph(n))"
     ],
     "language": "python",
     "metadata": {},
     "outputs": [],
     "prompt_number": 9
    },
    {
     "cell_type": "heading",
     "level": 1,
     "metadata": {},
     "source": [
      "Simulate Random Walks"
     ]
    },
    {
     "cell_type": "code",
     "collapsed": true,
     "input": [
      "frogs = 1000\n",
      "# Life expectancy L. L should be the mean of a geometric distribution\n",
      "L = 6\n",
      "# P_die is the probability that a frog dies at any given time\n",
      "P_die = 1/float(L)"
     ],
     "language": "python",
     "metadata": {},
     "outputs": [],
     "prompt_number": 10
    },
    {
     "cell_type": "code",
     "collapsed": false,
     "input": [
      "for k in [4]:\n",
      "    get_ipython().run_cell_magic(u'html', u'', '<h1>Simulating ' + str(k) + ' machines.</h1>')\n",
      "    for G in allG:\n",
      "        rungraph(G, k=k)"
     ],
     "language": "python",
     "metadata": {},
     "outputs": [
      {
       "html": [
        "<h1>Simulating 4 machines.</h1>"
       ],
       "metadata": {},
       "output_type": "display_data",
       "text": [
        "<IPython.core.display.HTML at 0x2ba82f1441d0>"
       ]
      },
      {
       "html": [
        "<h2>Graph: directed_scale_free_graph(100,alpha=0.41,beta=0.54,gamma=0.05,delta_in=0.2,delta_out=0)</h2>"
       ],
       "metadata": {},
       "output_type": "display_data",
       "text": [
        "<IPython.core.display.HTML at 0x2ba82f1442d0>"
       ]
      },
      {
       "html": [
        "<h3>Vanilla random walk. Cost: 747.0</h3>"
       ],
       "metadata": {},
       "output_type": "display_data",
       "text": [
        "<IPython.core.display.HTML at 0x2ba811ecd490>"
       ]
      },
      {
       "html": [
        "<div id=\"vis99983405fe8b405c9428ac728d409849\"></div>\n",
        "<script>\n",
        "   ( function() {\n",
        "     var _do_plot = function() {\n",
        "       if (typeof vg === 'undefined') {\n",
        "         window.addEventListener('vincent_libs_loaded', _do_plot)\n",
        "         return;\n",
        "       }\n",
        "       vg.parse.spec({\"axes\": [{\"scale\": \"x\", \"title\": \"Rounds\", \"type\": \"x\"}, {\"scale\": \"y\", \"title\": \"# edges traversed\", \"type\": \"y\"}], \"data\": [{\"name\": \"table\", \"values\": [{\"col\": \"Expensive\", \"idx\": 0, \"val\": NaN}, {\"col\": \"Cheap\", \"idx\": 0, \"val\": NaN}, {\"col\": \"Expensive\", \"idx\": 1, \"val\": 110.0}, {\"col\": \"Cheap\", \"idx\": 1, \"val\": 40.0}, {\"col\": \"Expensive\", \"idx\": 2, \"val\": 46.0}, {\"col\": \"Cheap\", \"idx\": 2, \"val\": 20.0}, {\"col\": \"Expensive\", \"idx\": 3, \"val\": 57.0}, {\"col\": \"Cheap\", \"idx\": 3, \"val\": 25.0}, {\"col\": \"Expensive\", \"idx\": 4, \"val\": 66.0}, {\"col\": \"Cheap\", \"idx\": 4, \"val\": 25.0}, {\"col\": \"Expensive\", \"idx\": 5, \"val\": 57.0}, {\"col\": \"Cheap\", \"idx\": 5, \"val\": 26.0}, {\"col\": \"Expensive\", \"idx\": 6, \"val\": 48.0}, {\"col\": \"Cheap\", \"idx\": 6, \"val\": 20.0}, {\"col\": \"Expensive\", \"idx\": 7, \"val\": 49.0}, {\"col\": \"Cheap\", \"idx\": 7, \"val\": 21.0}, {\"col\": \"Expensive\", \"idx\": 8, \"val\": 40.0}, {\"col\": \"Cheap\", \"idx\": 8, \"val\": 16.0}, {\"col\": \"Expensive\", \"idx\": 9, \"val\": 37.0}, {\"col\": \"Cheap\", \"idx\": 9, \"val\": 18.0}, {\"col\": \"Expensive\", \"idx\": 10, \"val\": 31.0}, {\"col\": \"Cheap\", \"idx\": 10, \"val\": 17.0}, {\"col\": \"Expensive\", \"idx\": 11, \"val\": 31.0}, {\"col\": \"Cheap\", \"idx\": 11, \"val\": 13.0}, {\"col\": \"Expensive\", \"idx\": 12, \"val\": 23.0}, {\"col\": \"Cheap\", \"idx\": 12, \"val\": 13.0}, {\"col\": \"Expensive\", \"idx\": 13, \"val\": 21.0}, {\"col\": \"Cheap\", \"idx\": 13, \"val\": 12.0}, {\"col\": \"Expensive\", \"idx\": 14, \"val\": 21.0}, {\"col\": \"Cheap\", \"idx\": 14, \"val\": 15.0}, {\"col\": \"Expensive\", \"idx\": 15, \"val\": 16.0}, {\"col\": \"Cheap\", \"idx\": 15, \"val\": 6.0}, {\"col\": \"Expensive\", \"idx\": 16, \"val\": 15.0}, {\"col\": \"Cheap\", \"idx\": 16, \"val\": 8.0}, {\"col\": \"Expensive\", \"idx\": 17, \"val\": 15.0}, {\"col\": \"Cheap\", \"idx\": 17, \"val\": 6.0}, {\"col\": \"Expensive\", \"idx\": 18, \"val\": 13.0}, {\"col\": \"Cheap\", \"idx\": 18, \"val\": 7.0}, {\"col\": \"Expensive\", \"idx\": 19, \"val\": 6.0}, {\"col\": \"Cheap\", \"idx\": 19, \"val\": 6.0}, {\"col\": \"Expensive\", \"idx\": 20, \"val\": 8.0}, {\"col\": \"Cheap\", \"idx\": 20, \"val\": 5.0}, {\"col\": \"Expensive\", \"idx\": 21, \"val\": 8.0}, {\"col\": \"Cheap\", \"idx\": 21, \"val\": 7.0}, {\"col\": \"Expensive\", \"idx\": 22, \"val\": 4.0}, {\"col\": \"Cheap\", \"idx\": 22, \"val\": 6.0}, {\"col\": \"Expensive\", \"idx\": 23, \"val\": 6.0}, {\"col\": \"Cheap\", \"idx\": 23, \"val\": 2.0}, {\"col\": \"Expensive\", \"idx\": 24, \"val\": 7.0}, {\"col\": \"Cheap\", \"idx\": 24, \"val\": 1.0}, {\"col\": \"Expensive\", \"idx\": 25, \"val\": 2.0}, {\"col\": \"Cheap\", \"idx\": 25, \"val\": 2.0}, {\"col\": \"Expensive\", \"idx\": 26, \"val\": 2.0}, {\"col\": \"Cheap\", \"idx\": 26, \"val\": 2.0}, {\"col\": \"Expensive\", \"idx\": 27, \"val\": 4.0}, {\"col\": \"Cheap\", \"idx\": 27, \"val\": 0.0}, {\"col\": \"Expensive\", \"idx\": 28, \"val\": 2.0}, {\"col\": \"Cheap\", \"idx\": 28, \"val\": 1.0}, {\"col\": \"Expensive\", \"idx\": 29, \"val\": 2.0}, {\"col\": \"Cheap\", \"idx\": 29, \"val\": 0.0}, {\"col\": \"Expensive\", \"idx\": 30, \"val\": 0.0}, {\"col\": \"Cheap\", \"idx\": 30, \"val\": 1.0}, {\"col\": \"Expensive\", \"idx\": 31, \"val\": 0.0}, {\"col\": \"Cheap\", \"idx\": 31, \"val\": 0.0}, {\"col\": \"Expensive\", \"idx\": 32, \"val\": NaN}, {\"col\": \"Cheap\", \"idx\": 32, \"val\": NaN}, {\"col\": \"Expensive\", \"idx\": 33, \"val\": NaN}, {\"col\": \"Cheap\", \"idx\": 33, \"val\": NaN}, {\"col\": \"Expensive\", \"idx\": 34, \"val\": NaN}, {\"col\": \"Cheap\", \"idx\": 34, \"val\": NaN}, {\"col\": \"Expensive\", \"idx\": 35, \"val\": NaN}, {\"col\": \"Cheap\", \"idx\": 35, \"val\": NaN}, {\"col\": \"Expensive\", \"idx\": 36, \"val\": NaN}, {\"col\": \"Cheap\", \"idx\": 36, \"val\": NaN}, {\"col\": \"Expensive\", \"idx\": 37, \"val\": NaN}, {\"col\": \"Cheap\", \"idx\": 37, \"val\": NaN}, {\"col\": \"Expensive\", \"idx\": 38, \"val\": NaN}, {\"col\": \"Cheap\", \"idx\": 38, \"val\": NaN}, {\"col\": \"Expensive\", \"idx\": 39, \"val\": NaN}, {\"col\": \"Cheap\", \"idx\": 39, \"val\": NaN}, {\"col\": \"Expensive\", \"idx\": 40, \"val\": NaN}, {\"col\": \"Cheap\", \"idx\": 40, \"val\": NaN}, {\"col\": \"Expensive\", \"idx\": 41, \"val\": NaN}, {\"col\": \"Cheap\", \"idx\": 41, \"val\": NaN}, {\"col\": \"Expensive\", \"idx\": 42, \"val\": NaN}, {\"col\": \"Cheap\", \"idx\": 42, \"val\": NaN}, {\"col\": \"Expensive\", \"idx\": 43, \"val\": NaN}, {\"col\": \"Cheap\", \"idx\": 43, \"val\": NaN}, {\"col\": \"Expensive\", \"idx\": 44, \"val\": NaN}, {\"col\": \"Cheap\", \"idx\": 44, \"val\": NaN}, {\"col\": \"Expensive\", \"idx\": 45, \"val\": NaN}, {\"col\": \"Cheap\", \"idx\": 45, \"val\": NaN}, {\"col\": \"Expensive\", \"idx\": 46, \"val\": NaN}, {\"col\": \"Cheap\", \"idx\": 46, \"val\": NaN}, {\"col\": \"Expensive\", \"idx\": 47, \"val\": NaN}, {\"col\": \"Cheap\", \"idx\": 47, \"val\": NaN}, {\"col\": \"Expensive\", \"idx\": 48, \"val\": NaN}, {\"col\": \"Cheap\", \"idx\": 48, \"val\": NaN}, {\"col\": \"Expensive\", \"idx\": 49, \"val\": NaN}, {\"col\": \"Cheap\", \"idx\": 49, \"val\": NaN}, {\"col\": \"Expensive\", \"idx\": 50, \"val\": NaN}, {\"col\": \"Cheap\", \"idx\": 50, \"val\": NaN}, {\"col\": \"Expensive\", \"idx\": 51, \"val\": NaN}, {\"col\": \"Cheap\", \"idx\": 51, \"val\": NaN}, {\"col\": \"Expensive\", \"idx\": 52, \"val\": NaN}, {\"col\": \"Cheap\", \"idx\": 52, \"val\": NaN}, {\"col\": \"Expensive\", \"idx\": 53, \"val\": NaN}, {\"col\": \"Cheap\", \"idx\": 53, \"val\": NaN}, {\"col\": \"Expensive\", \"idx\": 54, \"val\": NaN}, {\"col\": \"Cheap\", \"idx\": 54, \"val\": NaN}, {\"col\": \"Expensive\", \"idx\": 55, \"val\": NaN}, {\"col\": \"Cheap\", \"idx\": 55, \"val\": NaN}, {\"col\": \"Expensive\", \"idx\": 56, \"val\": NaN}, {\"col\": \"Cheap\", \"idx\": 56, \"val\": NaN}, {\"col\": \"Expensive\", \"idx\": 57, \"val\": NaN}, {\"col\": \"Cheap\", \"idx\": 57, \"val\": NaN}, {\"col\": \"Expensive\", \"idx\": 58, \"val\": NaN}, {\"col\": \"Cheap\", \"idx\": 58, \"val\": NaN}, {\"col\": \"Expensive\", \"idx\": 59, \"val\": NaN}, {\"col\": \"Cheap\", \"idx\": 59, \"val\": NaN}, {\"col\": \"Expensive\", \"idx\": 60, \"val\": NaN}, {\"col\": \"Cheap\", \"idx\": 60, \"val\": NaN}, {\"col\": \"Expensive\", \"idx\": 61, \"val\": NaN}, {\"col\": \"Cheap\", \"idx\": 61, \"val\": NaN}, {\"col\": \"Expensive\", \"idx\": 62, \"val\": NaN}, {\"col\": \"Cheap\", \"idx\": 62, \"val\": NaN}, {\"col\": \"Expensive\", \"idx\": 63, \"val\": NaN}, {\"col\": \"Cheap\", \"idx\": 63, \"val\": NaN}, {\"col\": \"Expensive\", \"idx\": 64, \"val\": NaN}, {\"col\": \"Cheap\", \"idx\": 64, \"val\": NaN}, {\"col\": \"Expensive\", \"idx\": 65, \"val\": NaN}, {\"col\": \"Cheap\", \"idx\": 65, \"val\": NaN}, {\"col\": \"Expensive\", \"idx\": 66, \"val\": NaN}, {\"col\": \"Cheap\", \"idx\": 66, \"val\": NaN}, {\"col\": \"Expensive\", \"idx\": 67, \"val\": NaN}, {\"col\": \"Cheap\", \"idx\": 67, \"val\": NaN}, {\"col\": \"Expensive\", \"idx\": 68, \"val\": NaN}, {\"col\": \"Cheap\", \"idx\": 68, \"val\": NaN}, {\"col\": \"Expensive\", \"idx\": 69, \"val\": NaN}, {\"col\": \"Cheap\", \"idx\": 69, \"val\": NaN}, {\"col\": \"Expensive\", \"idx\": 70, \"val\": NaN}, {\"col\": \"Cheap\", \"idx\": 70, \"val\": NaN}, {\"col\": \"Expensive\", \"idx\": 71, \"val\": NaN}, {\"col\": \"Cheap\", \"idx\": 71, \"val\": NaN}, {\"col\": \"Expensive\", \"idx\": 72, \"val\": NaN}, {\"col\": \"Cheap\", \"idx\": 72, \"val\": NaN}, {\"col\": \"Expensive\", \"idx\": 73, \"val\": NaN}, {\"col\": \"Cheap\", \"idx\": 73, \"val\": NaN}, {\"col\": \"Expensive\", \"idx\": 74, \"val\": NaN}, {\"col\": \"Cheap\", \"idx\": 74, \"val\": NaN}, {\"col\": \"Expensive\", \"idx\": 75, \"val\": NaN}, {\"col\": \"Cheap\", \"idx\": 75, \"val\": NaN}, {\"col\": \"Expensive\", \"idx\": 76, \"val\": NaN}, {\"col\": \"Cheap\", \"idx\": 76, \"val\": NaN}, {\"col\": \"Expensive\", \"idx\": 77, \"val\": NaN}, {\"col\": \"Cheap\", \"idx\": 77, \"val\": NaN}, {\"col\": \"Expensive\", \"idx\": 78, \"val\": NaN}, {\"col\": \"Cheap\", \"idx\": 78, \"val\": NaN}, {\"col\": \"Expensive\", \"idx\": 79, \"val\": NaN}, {\"col\": \"Cheap\", \"idx\": 79, \"val\": NaN}, {\"col\": \"Expensive\", \"idx\": 80, \"val\": NaN}, {\"col\": \"Cheap\", \"idx\": 80, \"val\": NaN}, {\"col\": \"Expensive\", \"idx\": 81, \"val\": NaN}, {\"col\": \"Cheap\", \"idx\": 81, \"val\": NaN}, {\"col\": \"Expensive\", \"idx\": 82, \"val\": NaN}, {\"col\": \"Cheap\", \"idx\": 82, \"val\": NaN}, {\"col\": \"Expensive\", \"idx\": 83, \"val\": NaN}, {\"col\": \"Cheap\", \"idx\": 83, \"val\": NaN}, {\"col\": \"Expensive\", \"idx\": 84, \"val\": NaN}, {\"col\": \"Cheap\", \"idx\": 84, \"val\": NaN}, {\"col\": \"Expensive\", \"idx\": 85, \"val\": NaN}, {\"col\": \"Cheap\", \"idx\": 85, \"val\": NaN}, {\"col\": \"Expensive\", \"idx\": 86, \"val\": NaN}, {\"col\": \"Cheap\", \"idx\": 86, \"val\": NaN}, {\"col\": \"Expensive\", \"idx\": 87, \"val\": NaN}, {\"col\": \"Cheap\", \"idx\": 87, \"val\": NaN}, {\"col\": \"Expensive\", \"idx\": 88, \"val\": NaN}, {\"col\": \"Cheap\", \"idx\": 88, \"val\": NaN}, {\"col\": \"Expensive\", \"idx\": 89, \"val\": NaN}, {\"col\": \"Cheap\", \"idx\": 89, \"val\": NaN}, {\"col\": \"Expensive\", \"idx\": 90, \"val\": NaN}, {\"col\": \"Cheap\", \"idx\": 90, \"val\": NaN}, {\"col\": \"Expensive\", \"idx\": 91, \"val\": NaN}, {\"col\": \"Cheap\", \"idx\": 91, \"val\": NaN}, {\"col\": \"Expensive\", \"idx\": 92, \"val\": NaN}, {\"col\": \"Cheap\", \"idx\": 92, \"val\": NaN}, {\"col\": \"Expensive\", \"idx\": 93, \"val\": NaN}, {\"col\": \"Cheap\", \"idx\": 93, \"val\": NaN}, {\"col\": \"Expensive\", \"idx\": 94, \"val\": NaN}, {\"col\": \"Cheap\", \"idx\": 94, \"val\": NaN}, {\"col\": \"Expensive\", \"idx\": 95, \"val\": NaN}, {\"col\": \"Cheap\", \"idx\": 95, \"val\": NaN}, {\"col\": \"Expensive\", \"idx\": 96, \"val\": NaN}, {\"col\": \"Cheap\", \"idx\": 96, \"val\": NaN}, {\"col\": \"Expensive\", \"idx\": 97, \"val\": NaN}, {\"col\": \"Cheap\", \"idx\": 97, \"val\": NaN}, {\"col\": \"Expensive\", \"idx\": 98, \"val\": NaN}, {\"col\": \"Cheap\", \"idx\": 98, \"val\": NaN}, {\"col\": \"Expensive\", \"idx\": 99, \"val\": NaN}, {\"col\": \"Cheap\", \"idx\": 99, \"val\": NaN}, {\"col\": \"Expensive\", \"idx\": 100, \"val\": NaN}, {\"col\": \"Cheap\", \"idx\": 100, \"val\": NaN}, {\"col\": \"Expensive\", \"idx\": 101, \"val\": NaN}, {\"col\": \"Cheap\", \"idx\": 101, \"val\": NaN}, {\"col\": \"Expensive\", \"idx\": 102, \"val\": NaN}, {\"col\": \"Cheap\", \"idx\": 102, \"val\": NaN}, {\"col\": \"Expensive\", \"idx\": 103, \"val\": NaN}, {\"col\": \"Cheap\", \"idx\": 103, \"val\": NaN}, {\"col\": \"Expensive\", \"idx\": 104, \"val\": NaN}, {\"col\": \"Cheap\", \"idx\": 104, \"val\": NaN}, {\"col\": \"Expensive\", \"idx\": 105, \"val\": NaN}, {\"col\": \"Cheap\", \"idx\": 105, \"val\": NaN}, {\"col\": \"Expensive\", \"idx\": 106, \"val\": NaN}, {\"col\": \"Cheap\", \"idx\": 106, \"val\": NaN}, {\"col\": \"Expensive\", \"idx\": 107, \"val\": NaN}, {\"col\": \"Cheap\", \"idx\": 107, \"val\": NaN}, {\"col\": \"Expensive\", \"idx\": 108, \"val\": NaN}, {\"col\": \"Cheap\", \"idx\": 108, \"val\": NaN}, {\"col\": \"Expensive\", \"idx\": 109, \"val\": NaN}, {\"col\": \"Cheap\", \"idx\": 109, \"val\": NaN}, {\"col\": \"Expensive\", \"idx\": 110, \"val\": NaN}, {\"col\": \"Cheap\", \"idx\": 110, \"val\": NaN}, {\"col\": \"Expensive\", \"idx\": 111, \"val\": NaN}, {\"col\": \"Cheap\", \"idx\": 111, \"val\": NaN}, {\"col\": \"Expensive\", \"idx\": 112, \"val\": NaN}, {\"col\": \"Cheap\", \"idx\": 112, \"val\": NaN}, {\"col\": \"Expensive\", \"idx\": 113, \"val\": NaN}, {\"col\": \"Cheap\", \"idx\": 113, \"val\": NaN}, {\"col\": \"Expensive\", \"idx\": 114, \"val\": NaN}, {\"col\": \"Cheap\", \"idx\": 114, \"val\": NaN}]}, {\"name\": \"stats\", \"source\": \"table\", \"transform\": [{\"keys\": [\"data.idx\"], \"type\": \"facet\"}, {\"type\": \"stats\", \"value\": \"data.val\"}]}], \"height\": 300, \"legends\": [{\"fill\": \"color\", \"offset\": 0, \"properties\": {}, \"title\": \"Edge\"}], \"marks\": [{\"from\": {\"data\": \"table\", \"transform\": [{\"keys\": [\"data.col\"], \"type\": \"facet\"}, {\"height\": \"data.val\", \"point\": \"data.idx\", \"type\": \"stack\"}]}, \"marks\": [{\"properties\": {\"enter\": {\"fill\": {\"field\": \"data.col\", \"scale\": \"color\"}, \"interpolate\": {\"value\": \"monotone\"}, \"opacity\": {\"value\": 0.8}, \"x\": {\"field\": \"data.idx\", \"scale\": \"x\"}, \"y\": {\"field\": \"y\", \"scale\": \"y\"}, \"y2\": {\"field\": \"y2\", \"scale\": \"y\"}}, \"hover\": {\"opacity\": {\"value\": 1}, \"size\": {\"value\": 200}}, \"update\": {\"opacity\": {\"value\": 0.8}, \"size\": {\"value\": 100}}}, \"type\": \"area\"}], \"type\": \"group\"}], \"padding\": \"auto\", \"scales\": [{\"domain\": {\"data\": \"table\", \"field\": \"data.idx\"}, \"name\": \"x\", \"range\": \"width\", \"type\": \"linear\", \"zero\": false}, {\"domain\": [0, 159], \"name\": \"y\", \"nice\": true, \"range\": \"height\"}, {\"domain\": {\"data\": \"table\", \"field\": \"data.col\"}, \"name\": \"color\", \"range\": [\"#ff0000\", \"#50aa50\", \"#eeeeee\"], \"type\": \"ordinal\"}], \"width\": 400}, function(chart) {\n",
        "         chart({el: \"#vis99983405fe8b405c9428ac728d409849\"}).update();\n",
        "       });\n",
        "     };\n",
        "     _do_plot();\n",
        "   })();\n",
        "</script>\n",
        "<style>.vega canvas {width: 100%;}</style>\n",
        "        "
       ],
       "metadata": {},
       "output_type": "display_data",
       "text": [
        "<vincent.charts.Area at 0x2ba82f2c0790>"
       ]
      },
      {
       "html": [
        "<h3>Waiting random walk. Cost: 554.0, a 25.8366800535% gain</h3>"
       ],
       "metadata": {},
       "output_type": "display_data",
       "text": [
        "<IPython.core.display.HTML at 0x2ba82f2c0850>"
       ]
      },
      {
       "html": [
        "<div id=\"visa514fcdf2d524857826fad1572ace9ed\"></div>\n",
        "<script>\n",
        "   ( function() {\n",
        "     var _do_plot = function() {\n",
        "       if (typeof vg === 'undefined') {\n",
        "         window.addEventListener('vincent_libs_loaded', _do_plot)\n",
        "         return;\n",
        "       }\n",
        "       vg.parse.spec({\"axes\": [{\"scale\": \"x\", \"title\": \"Rounds\", \"type\": \"x\"}, {\"scale\": \"y\", \"title\": \"# edges traversed\", \"type\": \"y\"}], \"data\": [{\"name\": \"table\", \"values\": [{\"col\": \"Expensive\", \"idx\": 1, \"val\": 28.0}, {\"col\": \"Cheap\", \"idx\": 1, \"val\": 40.0}, {\"col\": \"Expensive\", \"idx\": 2, \"val\": 25.0}, {\"col\": \"Cheap\", \"idx\": 2, \"val\": 23.0}, {\"col\": \"Expensive\", \"idx\": 3, \"val\": 25.0}, {\"col\": \"Cheap\", \"idx\": 3, \"val\": 17.0}, {\"col\": \"Expensive\", \"idx\": 4, \"val\": 33.0}, {\"col\": \"Cheap\", \"idx\": 4, \"val\": 17.0}, {\"col\": \"Expensive\", \"idx\": 5, \"val\": 26.0}, {\"col\": \"Cheap\", \"idx\": 5, \"val\": 18.0}, {\"col\": \"Expensive\", \"idx\": 6, \"val\": 15.0}, {\"col\": \"Cheap\", \"idx\": 6, \"val\": 15.0}, {\"col\": \"Expensive\", \"idx\": 7, \"val\": 19.0}, {\"col\": \"Cheap\", \"idx\": 7, \"val\": 17.0}, {\"col\": \"Expensive\", \"idx\": 8, \"val\": 24.0}, {\"col\": \"Cheap\", \"idx\": 8, \"val\": 16.0}, {\"col\": \"Expensive\", \"idx\": 9, \"val\": 19.0}, {\"col\": \"Cheap\", \"idx\": 9, \"val\": 19.0}, {\"col\": \"Expensive\", \"idx\": 10, \"val\": 18.0}, {\"col\": \"Cheap\", \"idx\": 10, \"val\": 12.0}, {\"col\": \"Expensive\", \"idx\": 11, \"val\": 15.0}, {\"col\": \"Cheap\", \"idx\": 11, \"val\": 18.0}, {\"col\": \"Expensive\", \"idx\": 12, \"val\": 18.0}, {\"col\": \"Cheap\", \"idx\": 12, \"val\": 16.0}, {\"col\": \"Expensive\", \"idx\": 13, \"val\": 21.0}, {\"col\": \"Cheap\", \"idx\": 13, \"val\": 15.0}, {\"col\": \"Expensive\", \"idx\": 14, \"val\": 20.0}, {\"col\": \"Cheap\", \"idx\": 14, \"val\": 10.0}, {\"col\": \"Expensive\", \"idx\": 15, \"val\": 14.0}, {\"col\": \"Cheap\", \"idx\": 15, \"val\": 12.0}, {\"col\": \"Expensive\", \"idx\": 16, \"val\": 11.0}, {\"col\": \"Cheap\", \"idx\": 16, \"val\": 12.0}, {\"col\": \"Expensive\", \"idx\": 17, \"val\": 17.0}, {\"col\": \"Cheap\", \"idx\": 17, \"val\": 11.0}, {\"col\": \"Expensive\", \"idx\": 18, \"val\": 10.0}, {\"col\": \"Cheap\", \"idx\": 18, \"val\": 9.0}, {\"col\": \"Expensive\", \"idx\": 19, \"val\": 7.0}, {\"col\": \"Cheap\", \"idx\": 19, \"val\": 8.0}, {\"col\": \"Expensive\", \"idx\": 20, \"val\": 11.0}, {\"col\": \"Cheap\", \"idx\": 20, \"val\": 11.0}, {\"col\": \"Expensive\", \"idx\": 21, \"val\": 11.0}, {\"col\": \"Cheap\", \"idx\": 21, \"val\": 8.0}, {\"col\": \"Expensive\", \"idx\": 22, \"val\": 8.0}, {\"col\": \"Cheap\", \"idx\": 22, \"val\": 7.0}, {\"col\": \"Expensive\", \"idx\": 23, \"val\": 7.0}, {\"col\": \"Cheap\", \"idx\": 23, \"val\": 6.0}, {\"col\": \"Expensive\", \"idx\": 24, \"val\": 7.0}, {\"col\": \"Cheap\", \"idx\": 24, \"val\": 7.0}, {\"col\": \"Expensive\", \"idx\": 25, \"val\": 16.0}, {\"col\": \"Cheap\", \"idx\": 25, \"val\": 7.0}, {\"col\": \"Expensive\", \"idx\": 26, \"val\": 6.0}, {\"col\": \"Cheap\", \"idx\": 26, \"val\": 7.0}, {\"col\": \"Expensive\", \"idx\": 27, \"val\": 6.0}, {\"col\": \"Cheap\", \"idx\": 27, \"val\": 7.0}, {\"col\": \"Expensive\", \"idx\": 28, \"val\": 8.0}, {\"col\": \"Cheap\", \"idx\": 28, \"val\": 6.0}, {\"col\": \"Expensive\", \"idx\": 29, \"val\": 7.0}, {\"col\": \"Cheap\", \"idx\": 29, \"val\": 4.0}, {\"col\": \"Expensive\", \"idx\": 30, \"val\": 4.0}, {\"col\": \"Cheap\", \"idx\": 30, \"val\": 3.0}, {\"col\": \"Expensive\", \"idx\": 31, \"val\": 4.0}, {\"col\": \"Cheap\", \"idx\": 31, \"val\": 5.0}, {\"col\": \"Expensive\", \"idx\": 32, \"val\": 7.0}, {\"col\": \"Cheap\", \"idx\": 32, \"val\": 3.0}, {\"col\": \"Expensive\", \"idx\": 33, \"val\": 7.0}, {\"col\": \"Cheap\", \"idx\": 33, \"val\": 4.0}, {\"col\": \"Expensive\", \"idx\": 34, \"val\": 4.0}, {\"col\": \"Cheap\", \"idx\": 34, \"val\": 2.0}, {\"col\": \"Expensive\", \"idx\": 35, \"val\": 4.0}, {\"col\": \"Cheap\", \"idx\": 35, \"val\": 3.0}, {\"col\": \"Expensive\", \"idx\": 36, \"val\": 5.0}, {\"col\": \"Cheap\", \"idx\": 36, \"val\": 6.0}, {\"col\": \"Expensive\", \"idx\": 37, \"val\": 8.0}, {\"col\": \"Cheap\", \"idx\": 37, \"val\": 2.0}, {\"col\": \"Expensive\", \"idx\": 38, \"val\": 3.0}, {\"col\": \"Cheap\", \"idx\": 38, \"val\": 3.0}, {\"col\": \"Expensive\", \"idx\": 39, \"val\": 2.0}, {\"col\": \"Cheap\", \"idx\": 39, \"val\": 1.0}, {\"col\": \"Expensive\", \"idx\": 40, \"val\": 4.0}, {\"col\": \"Cheap\", \"idx\": 40, \"val\": 2.0}, {\"col\": \"Expensive\", \"idx\": 41, \"val\": 6.0}, {\"col\": \"Cheap\", \"idx\": 41, \"val\": 1.0}, {\"col\": \"Expensive\", \"idx\": 42, \"val\": 2.0}, {\"col\": \"Cheap\", \"idx\": 42, \"val\": 3.0}, {\"col\": \"Expensive\", \"idx\": 43, \"val\": 1.0}, {\"col\": \"Cheap\", \"idx\": 43, \"val\": 1.0}, {\"col\": \"Expensive\", \"idx\": 44, \"val\": 5.0}, {\"col\": \"Cheap\", \"idx\": 44, \"val\": 2.0}, {\"col\": \"Expensive\", \"idx\": 45, \"val\": 5.0}, {\"col\": \"Cheap\", \"idx\": 45, \"val\": 2.0}, {\"col\": \"Expensive\", \"idx\": 46, \"val\": 0.0}, {\"col\": \"Cheap\", \"idx\": 46, \"val\": 1.0}, {\"col\": \"Expensive\", \"idx\": 47, \"val\": 1.0}, {\"col\": \"Cheap\", \"idx\": 47, \"val\": 1.0}, {\"col\": \"Expensive\", \"idx\": 48, \"val\": 2.0}, {\"col\": \"Cheap\", \"idx\": 48, \"val\": 0.0}, {\"col\": \"Expensive\", \"idx\": 49, \"val\": 1.0}, {\"col\": \"Cheap\", \"idx\": 49, \"val\": 1.0}, {\"col\": \"Expensive\", \"idx\": 50, \"val\": 2.0}, {\"col\": \"Cheap\", \"idx\": 50, \"val\": 1.0}, {\"col\": \"Expensive\", \"idx\": 51, \"val\": 1.0}, {\"col\": \"Cheap\", \"idx\": 51, \"val\": 0.0}, {\"col\": \"Expensive\", \"idx\": 52, \"val\": 1.0}, {\"col\": \"Cheap\", \"idx\": 52, \"val\": 1.0}, {\"col\": \"Expensive\", \"idx\": 53, \"val\": 1.0}, {\"col\": \"Cheap\", \"idx\": 53, \"val\": 1.0}, {\"col\": \"Expensive\", \"idx\": 54, \"val\": 1.0}, {\"col\": \"Cheap\", \"idx\": 54, \"val\": 1.0}, {\"col\": \"Expensive\", \"idx\": 55, \"val\": 1.0}, {\"col\": \"Cheap\", \"idx\": 55, \"val\": 0.0}, {\"col\": \"Expensive\", \"idx\": 56, \"val\": 1.0}, {\"col\": \"Cheap\", \"idx\": 56, \"val\": 0.0}, {\"col\": \"Expensive\", \"idx\": 57, \"val\": 1.0}, {\"col\": \"Cheap\", \"idx\": 57, \"val\": 0.0}, {\"col\": \"Expensive\", \"idx\": 58, \"val\": 1.0}, {\"col\": \"Cheap\", \"idx\": 58, \"val\": 0.0}, {\"col\": \"Expensive\", \"idx\": 59, \"val\": 1.0}, {\"col\": \"Cheap\", \"idx\": 59, \"val\": 2.0}, {\"col\": \"Expensive\", \"idx\": 60, \"val\": 0.0}, {\"col\": \"Cheap\", \"idx\": 60, \"val\": 0.0}, {\"col\": \"Expensive\", \"idx\": 61, \"val\": 1.0}, {\"col\": \"Cheap\", \"idx\": 61, \"val\": 0.0}, {\"col\": \"Expensive\", \"idx\": 62, \"val\": 0.0}, {\"col\": \"Cheap\", \"idx\": 62, \"val\": 0.0}, {\"col\": \"Expensive\", \"idx\": 63, \"val\": 1.0}, {\"col\": \"Cheap\", \"idx\": 63, \"val\": 0.0}, {\"col\": \"Expensive\", \"idx\": 64, \"val\": 1.0}, {\"col\": \"Cheap\", \"idx\": 64, \"val\": 1.0}, {\"col\": \"Expensive\", \"idx\": 65, \"val\": 0.0}, {\"col\": \"Cheap\", \"idx\": 65, \"val\": 1.0}, {\"col\": \"Expensive\", \"idx\": 66, \"val\": 0.0}, {\"col\": \"Cheap\", \"idx\": 66, \"val\": 0.0}, {\"col\": \"Expensive\", \"idx\": 67, \"val\": 0.0}, {\"col\": \"Cheap\", \"idx\": 67, \"val\": 0.0}, {\"col\": \"Expensive\", \"idx\": 68, \"val\": 0.0}, {\"col\": \"Cheap\", \"idx\": 68, \"val\": 0.0}, {\"col\": \"Expensive\", \"idx\": 69, \"val\": 1.0}, {\"col\": \"Cheap\", \"idx\": 69, \"val\": 0.0}, {\"col\": \"Expensive\", \"idx\": 70, \"val\": 1.0}, {\"col\": \"Cheap\", \"idx\": 70, \"val\": 0.0}, {\"col\": \"Expensive\", \"idx\": 71, \"val\": 0.0}, {\"col\": \"Cheap\", \"idx\": 71, \"val\": 1.0}, {\"col\": \"Expensive\", \"idx\": 72, \"val\": 0.0}, {\"col\": \"Cheap\", \"idx\": 72, \"val\": 0.0}, {\"col\": \"Expensive\", \"idx\": 73, \"val\": 1.0}, {\"col\": \"Cheap\", \"idx\": 73, \"val\": 0.0}, {\"col\": \"Expensive\", \"idx\": 74, \"val\": 0.0}, {\"col\": \"Cheap\", \"idx\": 74, \"val\": 1.0}, {\"col\": \"Expensive\", \"idx\": 75, \"val\": 0.0}, {\"col\": \"Cheap\", \"idx\": 75, \"val\": 0.0}, {\"col\": \"Expensive\", \"idx\": 76, \"val\": 0.0}, {\"col\": \"Cheap\", \"idx\": 76, \"val\": 0.0}, {\"col\": \"Expensive\", \"idx\": 77, \"val\": 0.0}, {\"col\": \"Cheap\", \"idx\": 77, \"val\": 0.0}, {\"col\": \"Expensive\", \"idx\": 78, \"val\": 1.0}, {\"col\": \"Cheap\", \"idx\": 78, \"val\": 0.0}, {\"col\": \"Expensive\", \"idx\": 79, \"val\": 0.0}, {\"col\": \"Cheap\", \"idx\": 79, \"val\": 0.0}, {\"col\": \"Expensive\", \"idx\": 80, \"val\": 0.0}, {\"col\": \"Cheap\", \"idx\": 80, \"val\": 0.0}, {\"col\": \"Expensive\", \"idx\": 81, \"val\": 1.0}, {\"col\": \"Cheap\", \"idx\": 81, \"val\": 0.0}, {\"col\": \"Expensive\", \"idx\": 82, \"val\": 1.0}, {\"col\": \"Cheap\", \"idx\": 82, \"val\": 0.0}, {\"col\": \"Expensive\", \"idx\": 83, \"val\": 0.0}, {\"col\": \"Cheap\", \"idx\": 83, \"val\": 0.0}, {\"col\": \"Expensive\", \"idx\": 84, \"val\": 0.0}, {\"col\": \"Cheap\", \"idx\": 84, \"val\": 0.0}, {\"col\": \"Expensive\", \"idx\": 85, \"val\": 1.0}, {\"col\": \"Cheap\", \"idx\": 85, \"val\": 0.0}, {\"col\": \"Expensive\", \"idx\": 86, \"val\": 1.0}, {\"col\": \"Cheap\", \"idx\": 86, \"val\": 0.0}, {\"col\": \"Expensive\", \"idx\": 87, \"val\": 0.0}, {\"col\": \"Cheap\", \"idx\": 87, \"val\": 1.0}, {\"col\": \"Expensive\", \"idx\": 88, \"val\": 0.0}, {\"col\": \"Cheap\", \"idx\": 88, \"val\": 1.0}, {\"col\": \"Expensive\", \"idx\": 89, \"val\": 0.0}, {\"col\": \"Cheap\", \"idx\": 89, \"val\": 0.0}, {\"col\": \"Expensive\", \"idx\": 90, \"val\": 0.0}, {\"col\": \"Cheap\", \"idx\": 90, \"val\": 0.0}, {\"col\": \"Expensive\", \"idx\": 91, \"val\": 1.0}, {\"col\": \"Cheap\", \"idx\": 91, \"val\": 0.0}, {\"col\": \"Expensive\", \"idx\": 92, \"val\": 0.0}, {\"col\": \"Cheap\", \"idx\": 92, \"val\": 1.0}, {\"col\": \"Expensive\", \"idx\": 93, \"val\": 0.0}, {\"col\": \"Cheap\", \"idx\": 93, \"val\": 0.0}, {\"col\": \"Expensive\", \"idx\": 94, \"val\": 0.0}, {\"col\": \"Cheap\", \"idx\": 94, \"val\": 1.0}, {\"col\": \"Expensive\", \"idx\": 95, \"val\": 1.0}, {\"col\": \"Cheap\", \"idx\": 95, \"val\": 0.0}, {\"col\": \"Expensive\", \"idx\": 96, \"val\": 0.0}, {\"col\": \"Cheap\", \"idx\": 96, \"val\": 0.0}, {\"col\": \"Expensive\", \"idx\": 97, \"val\": 0.0}, {\"col\": \"Cheap\", \"idx\": 97, \"val\": 1.0}, {\"col\": \"Expensive\", \"idx\": 98, \"val\": 0.0}, {\"col\": \"Cheap\", \"idx\": 98, \"val\": 0.0}, {\"col\": \"Expensive\", \"idx\": 99, \"val\": 0.0}, {\"col\": \"Cheap\", \"idx\": 99, \"val\": 0.0}, {\"col\": \"Expensive\", \"idx\": 100, \"val\": 0.0}, {\"col\": \"Cheap\", \"idx\": 100, \"val\": 0.0}, {\"col\": \"Expensive\", \"idx\": 101, \"val\": 1.0}, {\"col\": \"Cheap\", \"idx\": 101, \"val\": 0.0}, {\"col\": \"Expensive\", \"idx\": 102, \"val\": 0.0}, {\"col\": \"Cheap\", \"idx\": 102, \"val\": 1.0}, {\"col\": \"Expensive\", \"idx\": 103, \"val\": 0.0}, {\"col\": \"Cheap\", \"idx\": 103, \"val\": 0.0}, {\"col\": \"Expensive\", \"idx\": 104, \"val\": 0.0}, {\"col\": \"Cheap\", \"idx\": 104, \"val\": 0.0}, {\"col\": \"Expensive\", \"idx\": 105, \"val\": 0.0}, {\"col\": \"Cheap\", \"idx\": 105, \"val\": 0.0}, {\"col\": \"Expensive\", \"idx\": 106, \"val\": 1.0}, {\"col\": \"Cheap\", \"idx\": 106, \"val\": 0.0}, {\"col\": \"Expensive\", \"idx\": 107, \"val\": 0.0}, {\"col\": \"Cheap\", \"idx\": 107, \"val\": 1.0}, {\"col\": \"Expensive\", \"idx\": 108, \"val\": 0.0}, {\"col\": \"Cheap\", \"idx\": 108, \"val\": 1.0}, {\"col\": \"Expensive\", \"idx\": 109, \"val\": 0.0}, {\"col\": \"Cheap\", \"idx\": 109, \"val\": 0.0}, {\"col\": \"Expensive\", \"idx\": 110, \"val\": 0.0}, {\"col\": \"Cheap\", \"idx\": 110, \"val\": 0.0}, {\"col\": \"Expensive\", \"idx\": 111, \"val\": 0.0}, {\"col\": \"Cheap\", \"idx\": 111, \"val\": 0.0}, {\"col\": \"Expensive\", \"idx\": 112, \"val\": 1.0}, {\"col\": \"Cheap\", \"idx\": 112, \"val\": 0.0}, {\"col\": \"Expensive\", \"idx\": 113, \"val\": 0.0}, {\"col\": \"Cheap\", \"idx\": 113, \"val\": 1.0}, {\"col\": \"Expensive\", \"idx\": 114, \"val\": 0.0}, {\"col\": \"Cheap\", \"idx\": 114, \"val\": 0.0}]}, {\"name\": \"stats\", \"source\": \"table\", \"transform\": [{\"keys\": [\"data.idx\"], \"type\": \"facet\"}, {\"type\": \"stats\", \"value\": \"data.val\"}]}], \"height\": 300, \"legends\": [{\"fill\": \"color\", \"offset\": 0, \"properties\": {}, \"title\": \"Edge\"}], \"marks\": [{\"from\": {\"data\": \"table\", \"transform\": [{\"keys\": [\"data.col\"], \"type\": \"facet\"}, {\"height\": \"data.val\", \"point\": \"data.idx\", \"type\": \"stack\"}]}, \"marks\": [{\"properties\": {\"enter\": {\"fill\": {\"field\": \"data.col\", \"scale\": \"color\"}, \"interpolate\": {\"value\": \"monotone\"}, \"opacity\": {\"value\": 0.8}, \"x\": {\"field\": \"data.idx\", \"scale\": \"x\"}, \"y\": {\"field\": \"y\", \"scale\": \"y\"}, \"y2\": {\"field\": \"y2\", \"scale\": \"y\"}}, \"hover\": {\"opacity\": {\"value\": 1}, \"size\": {\"value\": 200}}, \"update\": {\"opacity\": {\"value\": 0.8}, \"size\": {\"value\": 100}}}, \"type\": \"area\"}], \"type\": \"group\"}], \"padding\": \"auto\", \"scales\": [{\"domain\": {\"data\": \"table\", \"field\": \"data.idx\"}, \"name\": \"x\", \"range\": \"width\", \"type\": \"linear\", \"zero\": false}, {\"domain\": [0, 159], \"name\": \"y\", \"nice\": true, \"range\": \"height\"}, {\"domain\": {\"data\": \"table\", \"field\": \"data.col\"}, \"name\": \"color\", \"range\": [\"#ff0000\", \"#50aa50\", \"#eeeeee\"], \"type\": \"ordinal\"}], \"width\": 400}, function(chart) {\n",
        "         chart({el: \"#visa514fcdf2d524857826fad1572ace9ed\"}).update();\n",
        "       });\n",
        "     };\n",
        "     _do_plot();\n",
        "   })();\n",
        "</script>\n",
        "<style>.vega canvas {width: 100%;}</style>\n",
        "        "
       ],
       "metadata": {},
       "output_type": "display_data",
       "text": [
        "<vincent.charts.Area at 0x2ba82f311890>"
       ]
      },
      {
       "html": [
        "<h4>Waiting algorithm: What are the frogs up to?</h4>"
       ],
       "metadata": {},
       "output_type": "display_data",
       "text": [
        "<IPython.core.display.HTML at 0x2ba82f35f7d0>"
       ]
      },
      {
       "html": [
        "<div id=\"visccfab85bdf3542f28a5c6fb1337a8a8a\"></div>\n",
        "<script>\n",
        "   ( function() {\n",
        "     var _do_plot = function() {\n",
        "       if (typeof vg === 'undefined') {\n",
        "         window.addEventListener('vincent_libs_loaded', _do_plot)\n",
        "         return;\n",
        "       }\n",
        "       vg.parse.spec({\"axes\": [{\"scale\": \"x\", \"title\": \"Rounds\", \"type\": \"x\"}, {\"scale\": \"y\", \"title\": \"# frogs\", \"type\": \"y\"}], \"data\": [{\"name\": \"table\", \"values\": [{\"col\": \"Expensive\", \"idx\": 1, \"val\": 157.0}, {\"col\": \"Cheap\", \"idx\": 1, \"val\": 177.0}, {\"col\": \"Teleportation\", \"idx\": 1, \"val\": 84.0}, {\"col\": \"Waiting\", \"idx\": 1, \"val\": 413.0}, {\"col\": \"Expensive\", \"idx\": 2, \"val\": 154.0}, {\"col\": \"Cheap\", \"idx\": 2, \"val\": 118.0}, {\"col\": \"Teleportation\", \"idx\": 2, \"val\": 39.0}, {\"col\": \"Waiting\", \"idx\": 2, \"val\": 444.0}, {\"col\": \"Expensive\", \"idx\": 3, \"val\": 209.0}, {\"col\": \"Cheap\", \"idx\": 3, \"val\": 87.0}, {\"col\": \"Teleportation\", \"idx\": 3, \"val\": 37.0}, {\"col\": \"Waiting\", \"idx\": 3, \"val\": 363.0}, {\"col\": \"Expensive\", \"idx\": 4, \"val\": 265.0}, {\"col\": \"Cheap\", \"idx\": 4, \"val\": 98.0}, {\"col\": \"Teleportation\", \"idx\": 4, \"val\": 60.0}, {\"col\": \"Waiting\", \"idx\": 4, \"val\": 217.0}, {\"col\": \"Expensive\", \"idx\": 5, \"val\": 188.0}, {\"col\": \"Cheap\", \"idx\": 5, \"val\": 117.0}, {\"col\": \"Teleportation\", \"idx\": 5, \"val\": 43.0}, {\"col\": \"Waiting\", \"idx\": 5, \"val\": 220.0}, {\"col\": \"Expensive\", \"idx\": 6, \"val\": 133.0}, {\"col\": \"Cheap\", \"idx\": 6, \"val\": 85.0}, {\"col\": \"Teleportation\", \"idx\": 6, \"val\": 62.0}, {\"col\": \"Waiting\", \"idx\": 6, \"val\": 223.0}, {\"col\": \"Expensive\", \"idx\": 7, \"val\": 116.0}, {\"col\": \"Cheap\", \"idx\": 7, \"val\": 82.0}, {\"col\": \"Teleportation\", \"idx\": 7, \"val\": 56.0}, {\"col\": \"Waiting\", \"idx\": 7, \"val\": 220.0}, {\"col\": \"Expensive\", \"idx\": 8, \"val\": 110.0}, {\"col\": \"Cheap\", \"idx\": 8, \"val\": 70.0}, {\"col\": \"Teleportation\", \"idx\": 8, \"val\": 52.0}, {\"col\": \"Waiting\", \"idx\": 8, \"val\": 202.0}, {\"col\": \"Expensive\", \"idx\": 9, \"val\": 175.0}, {\"col\": \"Cheap\", \"idx\": 9, \"val\": 73.0}, {\"col\": \"Teleportation\", \"idx\": 9, \"val\": 24.0}, {\"col\": \"Waiting\", \"idx\": 9, \"val\": 121.0}, {\"col\": \"Expensive\", \"idx\": 10, \"val\": 100.0}, {\"col\": \"Cheap\", \"idx\": 10, \"val\": 63.0}, {\"col\": \"Teleportation\", \"idx\": 10, \"val\": 55.0}, {\"col\": \"Waiting\", \"idx\": 10, \"val\": 134.0}, {\"col\": \"Expensive\", \"idx\": 11, \"val\": 80.0}, {\"col\": \"Cheap\", \"idx\": 11, \"val\": 50.0}, {\"col\": \"Teleportation\", \"idx\": 11, \"val\": 49.0}, {\"col\": \"Waiting\", \"idx\": 11, \"val\": 142.0}, {\"col\": \"Expensive\", \"idx\": 12, \"val\": 60.0}, {\"col\": \"Cheap\", \"idx\": 12, \"val\": 51.0}, {\"col\": \"Teleportation\", \"idx\": 12, \"val\": 40.0}, {\"col\": \"Waiting\", \"idx\": 12, \"val\": 148.0}, {\"col\": \"Expensive\", \"idx\": 13, \"val\": 117.0}, {\"col\": \"Cheap\", \"idx\": 13, \"val\": 38.0}, {\"col\": \"Teleportation\", \"idx\": 13, \"val\": 11.0}, {\"col\": \"Waiting\", \"idx\": 13, \"val\": 98.0}, {\"col\": \"Expensive\", \"idx\": 14, \"val\": 67.0}, {\"col\": \"Cheap\", \"idx\": 14, \"val\": 36.0}, {\"col\": \"Teleportation\", \"idx\": 14, \"val\": 23.0}, {\"col\": \"Waiting\", \"idx\": 14, \"val\": 103.0}, {\"col\": \"Expensive\", \"idx\": 15, \"val\": 53.0}, {\"col\": \"Cheap\", \"idx\": 15, \"val\": 37.0}, {\"col\": \"Teleportation\", \"idx\": 15, \"val\": 20.0}, {\"col\": \"Waiting\", \"idx\": 15, \"val\": 93.0}, {\"col\": \"Expensive\", \"idx\": 16, \"val\": 46.0}, {\"col\": \"Cheap\", \"idx\": 16, \"val\": 36.0}, {\"col\": \"Teleportation\", \"idx\": 16, \"val\": 22.0}, {\"col\": \"Waiting\", \"idx\": 16, \"val\": 85.0}, {\"col\": \"Expensive\", \"idx\": 17, \"val\": 83.0}, {\"col\": \"Cheap\", \"idx\": 17, \"val\": 28.0}, {\"col\": \"Teleportation\", \"idx\": 17, \"val\": 13.0}, {\"col\": \"Waiting\", \"idx\": 17, \"val\": 43.0}, {\"col\": \"Expensive\", \"idx\": 18, \"val\": 35.0}, {\"col\": \"Cheap\", \"idx\": 18, \"val\": 27.0}, {\"col\": \"Teleportation\", \"idx\": 18, \"val\": 25.0}, {\"col\": \"Waiting\", \"idx\": 18, \"val\": 63.0}, {\"col\": \"Expensive\", \"idx\": 19, \"val\": 32.0}, {\"col\": \"Cheap\", \"idx\": 19, \"val\": 25.0}, {\"col\": \"Teleportation\", \"idx\": 19, \"val\": 12.0}, {\"col\": \"Waiting\", \"idx\": 19, \"val\": 69.0}, {\"col\": \"Expensive\", \"idx\": 20, \"val\": 31.0}, {\"col\": \"Cheap\", \"idx\": 20, \"val\": 20.0}, {\"col\": \"Teleportation\", \"idx\": 20, \"val\": 17.0}, {\"col\": \"Waiting\", \"idx\": 20, \"val\": 60.0}, {\"col\": \"Expensive\", \"idx\": 21, \"val\": 62.0}, {\"col\": \"Cheap\", \"idx\": 21, \"val\": 15.0}, {\"col\": \"Teleportation\", \"idx\": 21, \"val\": 8.0}, {\"col\": \"Waiting\", \"idx\": 21, \"val\": 31.0}, {\"col\": \"Expensive\", \"idx\": 22, \"val\": 18.0}, {\"col\": \"Cheap\", \"idx\": 22, \"val\": 19.0}, {\"col\": \"Teleportation\", \"idx\": 22, \"val\": 20.0}, {\"col\": \"Waiting\", \"idx\": 22, \"val\": 45.0}, {\"col\": \"Expensive\", \"idx\": 23, \"val\": 26.0}, {\"col\": \"Cheap\", \"idx\": 23, \"val\": 13.0}, {\"col\": \"Teleportation\", \"idx\": 23, \"val\": 6.0}, {\"col\": \"Waiting\", \"idx\": 23, \"val\": 50.0}, {\"col\": \"Expensive\", \"idx\": 24, \"val\": 21.0}, {\"col\": \"Cheap\", \"idx\": 24, \"val\": 16.0}, {\"col\": \"Teleportation\", \"idx\": 24, \"val\": 10.0}, {\"col\": \"Waiting\", \"idx\": 24, \"val\": 39.0}, {\"col\": \"Expensive\", \"idx\": 25, \"val\": 43.0}, {\"col\": \"Cheap\", \"idx\": 25, \"val\": 12.0}, {\"col\": \"Teleportation\", \"idx\": 25, \"val\": 5.0}, {\"col\": \"Waiting\", \"idx\": 25, \"val\": 22.0}, {\"col\": \"Expensive\", \"idx\": 26, \"val\": 15.0}, {\"col\": \"Cheap\", \"idx\": 26, \"val\": 13.0}, {\"col\": \"Teleportation\", \"idx\": 26, \"val\": 8.0}, {\"col\": \"Waiting\", \"idx\": 26, \"val\": 35.0}, {\"col\": \"Expensive\", \"idx\": 27, \"val\": 14.0}, {\"col\": \"Cheap\", \"idx\": 27, \"val\": 14.0}, {\"col\": \"Teleportation\", \"idx\": 27, \"val\": 2.0}, {\"col\": \"Waiting\", \"idx\": 27, \"val\": 35.0}, {\"col\": \"Expensive\", \"idx\": 28, \"val\": 19.0}, {\"col\": \"Cheap\", \"idx\": 28, \"val\": 7.0}, {\"col\": \"Teleportation\", \"idx\": 28, \"val\": 9.0}, {\"col\": \"Waiting\", \"idx\": 28, \"val\": 25.0}, {\"col\": \"Expensive\", \"idx\": 29, \"val\": 24.0}, {\"col\": \"Cheap\", \"idx\": 29, \"val\": 5.0}, {\"col\": \"Teleportation\", \"idx\": 29, \"val\": 2.0}, {\"col\": \"Waiting\", \"idx\": 29, \"val\": 24.0}, {\"col\": \"Expensive\", \"idx\": 30, \"val\": 12.0}, {\"col\": \"Cheap\", \"idx\": 30, \"val\": 3.0}, {\"col\": \"Teleportation\", \"idx\": 30, \"val\": 9.0}, {\"col\": \"Waiting\", \"idx\": 30, \"val\": 22.0}, {\"col\": \"Expensive\", \"idx\": 31, \"val\": 5.0}, {\"col\": \"Cheap\", \"idx\": 31, \"val\": 6.0}, {\"col\": \"Teleportation\", \"idx\": 31, \"val\": 4.0}, {\"col\": \"Waiting\", \"idx\": 31, \"val\": 26.0}, {\"col\": \"Expensive\", \"idx\": 32, \"val\": 15.0}, {\"col\": \"Cheap\", \"idx\": 32, \"val\": 4.0}, {\"col\": \"Teleportation\", \"idx\": 32, \"val\": 1.0}, {\"col\": \"Waiting\", \"idx\": 32, \"val\": 17.0}, {\"col\": \"Expensive\", \"idx\": 33, \"val\": 13.0}, {\"col\": \"Cheap\", \"idx\": 33, \"val\": 6.0}, {\"col\": \"Teleportation\", \"idx\": 33, \"val\": 2.0}, {\"col\": \"Waiting\", \"idx\": 33, \"val\": 11.0}, {\"col\": \"Expensive\", \"idx\": 34, \"val\": 7.0}, {\"col\": \"Cheap\", \"idx\": 34, \"val\": 2.0}, {\"col\": \"Teleportation\", \"idx\": 34, \"val\": 4.0}, {\"col\": \"Waiting\", \"idx\": 34, \"val\": 15.0}, {\"col\": \"Expensive\", \"idx\": 35, \"val\": 7.0}, {\"col\": \"Cheap\", \"idx\": 35, \"val\": 3.0}, {\"col\": \"Teleportation\", \"idx\": 35, \"val\": 3.0}, {\"col\": \"Waiting\", \"idx\": 35, \"val\": 12.0}, {\"col\": \"Expensive\", \"idx\": 36, \"val\": 5.0}, {\"col\": \"Cheap\", \"idx\": 36, \"val\": 6.0}, {\"col\": \"Teleportation\", \"idx\": 36, \"val\": 2.0}, {\"col\": \"Waiting\", \"idx\": 36, \"val\": 11.0}, {\"col\": \"Expensive\", \"idx\": 37, \"val\": 11.0}, {\"col\": \"Cheap\", \"idx\": 37, \"val\": 3.0}, {\"col\": \"Teleportation\", \"idx\": 37, \"val\": 2.0}, {\"col\": \"Waiting\", \"idx\": 37, \"val\": 6.0}, {\"col\": \"Expensive\", \"idx\": 38, \"val\": 6.0}, {\"col\": \"Cheap\", \"idx\": 38, \"val\": 3.0}, {\"col\": \"Teleportation\", \"idx\": 38, \"val\": 5.0}, {\"col\": \"Waiting\", \"idx\": 38, \"val\": 6.0}, {\"col\": \"Expensive\", \"idx\": 39, \"val\": 3.0}, {\"col\": \"Cheap\", \"idx\": 39, \"val\": 2.0}, {\"col\": \"Teleportation\", \"idx\": 39, \"val\": 2.0}, {\"col\": \"Waiting\", \"idx\": 39, \"val\": 11.0}, {\"col\": \"Expensive\", \"idx\": 40, \"val\": 4.0}, {\"col\": \"Cheap\", \"idx\": 40, \"val\": 2.0}, {\"col\": \"Teleportation\", \"idx\": 40, \"val\": 1.0}, {\"col\": \"Waiting\", \"idx\": 40, \"val\": 10.0}, {\"col\": \"Expensive\", \"idx\": 41, \"val\": 8.0}, {\"col\": \"Cheap\", \"idx\": 41, \"val\": 1.0}, {\"col\": \"Teleportation\", \"idx\": 41, \"val\": NaN}, {\"col\": \"Waiting\", \"idx\": 41, \"val\": 5.0}, {\"col\": \"Expensive\", \"idx\": 42, \"val\": 6.0}, {\"col\": \"Cheap\", \"idx\": 42, \"val\": 3.0}, {\"col\": \"Teleportation\", \"idx\": 42, \"val\": 1.0}, {\"col\": \"Waiting\", \"idx\": 42, \"val\": 4.0}, {\"col\": \"Expensive\", \"idx\": 43, \"val\": 3.0}, {\"col\": \"Cheap\", \"idx\": 43, \"val\": 1.0}, {\"col\": \"Teleportation\", \"idx\": 43, \"val\": 4.0}, {\"col\": \"Waiting\", \"idx\": 43, \"val\": 5.0}, {\"col\": \"Expensive\", \"idx\": 44, \"val\": 5.0}, {\"col\": \"Cheap\", \"idx\": 44, \"val\": 3.0}, {\"col\": \"Teleportation\", \"idx\": 44, \"val\": NaN}, {\"col\": \"Waiting\", \"idx\": 44, \"val\": 4.0}, {\"col\": \"Expensive\", \"idx\": 45, \"val\": 6.0}, {\"col\": \"Cheap\", \"idx\": 45, \"val\": 2.0}, {\"col\": \"Teleportation\", \"idx\": 45, \"val\": 1.0}, {\"col\": \"Waiting\", \"idx\": 45, \"val\": 2.0}, {\"col\": \"Expensive\", \"idx\": 46, \"val\": 0.0}, {\"col\": \"Cheap\", \"idx\": 46, \"val\": 1.0}, {\"col\": \"Teleportation\", \"idx\": 46, \"val\": 2.0}, {\"col\": \"Waiting\", \"idx\": 46, \"val\": 5.0}, {\"col\": \"Expensive\", \"idx\": 47, \"val\": 2.0}, {\"col\": \"Cheap\", \"idx\": 47, \"val\": 1.0}, {\"col\": \"Teleportation\", \"idx\": 47, \"val\": NaN}, {\"col\": \"Waiting\", \"idx\": 47, \"val\": 4.0}, {\"col\": \"Expensive\", \"idx\": 48, \"val\": 2.0}, {\"col\": \"Cheap\", \"idx\": 48, \"val\": 0.0}, {\"col\": \"Teleportation\", \"idx\": 48, \"val\": NaN}, {\"col\": \"Waiting\", \"idx\": 48, \"val\": 4.0}, {\"col\": \"Expensive\", \"idx\": 49, \"val\": 1.0}, {\"col\": \"Cheap\", \"idx\": 49, \"val\": 1.0}, {\"col\": \"Teleportation\", \"idx\": 49, \"val\": NaN}, {\"col\": \"Waiting\", \"idx\": 49, \"val\": 4.0}, {\"col\": \"Expensive\", \"idx\": 50, \"val\": 2.0}, {\"col\": \"Cheap\", \"idx\": 50, \"val\": 1.0}, {\"col\": \"Teleportation\", \"idx\": 50, \"val\": 1.0}, {\"col\": \"Waiting\", \"idx\": 50, \"val\": 2.0}, {\"col\": \"Expensive\", \"idx\": 51, \"val\": 1.0}, {\"col\": \"Cheap\", \"idx\": 51, \"val\": 0.0}, {\"col\": \"Teleportation\", \"idx\": 51, \"val\": 2.0}, {\"col\": \"Waiting\", \"idx\": 51, \"val\": 3.0}, {\"col\": \"Expensive\", \"idx\": 52, \"val\": 1.0}, {\"col\": \"Cheap\", \"idx\": 52, \"val\": 1.0}, {\"col\": \"Teleportation\", \"idx\": 52, \"val\": 1.0}, {\"col\": \"Waiting\", \"idx\": 52, \"val\": 2.0}, {\"col\": \"Expensive\", \"idx\": 53, \"val\": 1.0}, {\"col\": \"Cheap\", \"idx\": 53, \"val\": 1.0}, {\"col\": \"Teleportation\", \"idx\": 53, \"val\": NaN}, {\"col\": \"Waiting\", \"idx\": 53, \"val\": 3.0}, {\"col\": \"Expensive\", \"idx\": 54, \"val\": 1.0}, {\"col\": \"Cheap\", \"idx\": 54, \"val\": 1.0}, {\"col\": \"Teleportation\", \"idx\": 54, \"val\": NaN}, {\"col\": \"Waiting\", \"idx\": 54, \"val\": 2.0}, {\"col\": \"Expensive\", \"idx\": 55, \"val\": 2.0}, {\"col\": \"Cheap\", \"idx\": 55, \"val\": 0.0}, {\"col\": \"Teleportation\", \"idx\": 55, \"val\": NaN}, {\"col\": \"Waiting\", \"idx\": 55, \"val\": 2.0}, {\"col\": \"Expensive\", \"idx\": 56, \"val\": 1.0}, {\"col\": \"Cheap\", \"idx\": 56, \"val\": 0.0}, {\"col\": \"Teleportation\", \"idx\": 56, \"val\": 2.0}, {\"col\": \"Waiting\", \"idx\": 56, \"val\": 1.0}, {\"col\": \"Expensive\", \"idx\": 57, \"val\": 1.0}, {\"col\": \"Cheap\", \"idx\": 57, \"val\": 0.0}, {\"col\": \"Teleportation\", \"idx\": 57, \"val\": NaN}, {\"col\": \"Waiting\", \"idx\": 57, \"val\": 2.0}, {\"col\": \"Expensive\", \"idx\": 58, \"val\": 1.0}, {\"col\": \"Cheap\", \"idx\": 58, \"val\": 0.0}, {\"col\": \"Teleportation\", \"idx\": 58, \"val\": 1.0}, {\"col\": \"Waiting\", \"idx\": 58, \"val\": 1.0}, {\"col\": \"Expensive\", \"idx\": 59, \"val\": 1.0}, {\"col\": \"Cheap\", \"idx\": 59, \"val\": 2.0}, {\"col\": \"Teleportation\", \"idx\": 59, \"val\": NaN}, {\"col\": \"Waiting\", \"idx\": 59, \"val\": 0.0}, {\"col\": \"Expensive\", \"idx\": 60, \"val\": 0.0}, {\"col\": \"Cheap\", \"idx\": 60, \"val\": 0.0}, {\"col\": \"Teleportation\", \"idx\": 60, \"val\": NaN}, {\"col\": \"Waiting\", \"idx\": 60, \"val\": 2.0}, {\"col\": \"Expensive\", \"idx\": 61, \"val\": 1.0}, {\"col\": \"Cheap\", \"idx\": 61, \"val\": 0.0}, {\"col\": \"Teleportation\", \"idx\": 61, \"val\": NaN}, {\"col\": \"Waiting\", \"idx\": 61, \"val\": 1.0}, {\"col\": \"Expensive\", \"idx\": 62, \"val\": 0.0}, {\"col\": \"Cheap\", \"idx\": 62, \"val\": 0.0}, {\"col\": \"Teleportation\", \"idx\": 62, \"val\": NaN}, {\"col\": \"Waiting\", \"idx\": 62, \"val\": 2.0}, {\"col\": \"Expensive\", \"idx\": 63, \"val\": 1.0}, {\"col\": \"Cheap\", \"idx\": 63, \"val\": 0.0}, {\"col\": \"Teleportation\", \"idx\": 63, \"val\": NaN}, {\"col\": \"Waiting\", \"idx\": 63, \"val\": 1.0}, {\"col\": \"Expensive\", \"idx\": 64, \"val\": 1.0}, {\"col\": \"Cheap\", \"idx\": 64, \"val\": 1.0}, {\"col\": \"Teleportation\", \"idx\": 64, \"val\": NaN}, {\"col\": \"Waiting\", \"idx\": 64, \"val\": 0.0}, {\"col\": \"Expensive\", \"idx\": 65, \"val\": 0.0}, {\"col\": \"Cheap\", \"idx\": 65, \"val\": 1.0}, {\"col\": \"Teleportation\", \"idx\": 65, \"val\": 1.0}, {\"col\": \"Waiting\", \"idx\": 65, \"val\": 0.0}, {\"col\": \"Expensive\", \"idx\": 66, \"val\": 0.0}, {\"col\": \"Cheap\", \"idx\": 66, \"val\": 0.0}, {\"col\": \"Teleportation\", \"idx\": 66, \"val\": 1.0}, {\"col\": \"Waiting\", \"idx\": 66, \"val\": 1.0}, {\"col\": \"Expensive\", \"idx\": 67, \"val\": 0.0}, {\"col\": \"Cheap\", \"idx\": 67, \"val\": 0.0}, {\"col\": \"Teleportation\", \"idx\": 67, \"val\": 1.0}, {\"col\": \"Waiting\", \"idx\": 67, \"val\": 1.0}, {\"col\": \"Expensive\", \"idx\": 68, \"val\": 0.0}, {\"col\": \"Cheap\", \"idx\": 68, \"val\": 0.0}, {\"col\": \"Teleportation\", \"idx\": 68, \"val\": NaN}, {\"col\": \"Waiting\", \"idx\": 68, \"val\": 2.0}, {\"col\": \"Expensive\", \"idx\": 69, \"val\": 1.0}, {\"col\": \"Cheap\", \"idx\": 69, \"val\": 0.0}, {\"col\": \"Teleportation\", \"idx\": 69, \"val\": NaN}, {\"col\": \"Waiting\", \"idx\": 69, \"val\": 1.0}, {\"col\": \"Expensive\", \"idx\": 70, \"val\": 1.0}, {\"col\": \"Cheap\", \"idx\": 70, \"val\": 0.0}, {\"col\": \"Teleportation\", \"idx\": 70, \"val\": 1.0}, {\"col\": \"Waiting\", \"idx\": 70, \"val\": 0.0}, {\"col\": \"Expensive\", \"idx\": 71, \"val\": 0.0}, {\"col\": \"Cheap\", \"idx\": 71, \"val\": 1.0}, {\"col\": \"Teleportation\", \"idx\": 71, \"val\": NaN}, {\"col\": \"Waiting\", \"idx\": 71, \"val\": 1.0}, {\"col\": \"Expensive\", \"idx\": 72, \"val\": 0.0}, {\"col\": \"Cheap\", \"idx\": 72, \"val\": 0.0}, {\"col\": \"Teleportation\", \"idx\": 72, \"val\": NaN}, {\"col\": \"Waiting\", \"idx\": 72, \"val\": 1.0}, {\"col\": \"Expensive\", \"idx\": 73, \"val\": 1.0}, {\"col\": \"Cheap\", \"idx\": 73, \"val\": 0.0}, {\"col\": \"Teleportation\", \"idx\": 73, \"val\": NaN}, {\"col\": \"Waiting\", \"idx\": 73, \"val\": 0.0}, {\"col\": \"Expensive\", \"idx\": 74, \"val\": 0.0}, {\"col\": \"Cheap\", \"idx\": 74, \"val\": 1.0}, {\"col\": \"Teleportation\", \"idx\": 74, \"val\": NaN}, {\"col\": \"Waiting\", \"idx\": 74, \"val\": 0.0}, {\"col\": \"Expensive\", \"idx\": 75, \"val\": 0.0}, {\"col\": \"Cheap\", \"idx\": 75, \"val\": 0.0}, {\"col\": \"Teleportation\", \"idx\": 75, \"val\": NaN}, {\"col\": \"Waiting\", \"idx\": 75, \"val\": 1.0}, {\"col\": \"Expensive\", \"idx\": 76, \"val\": 0.0}, {\"col\": \"Cheap\", \"idx\": 76, \"val\": 0.0}, {\"col\": \"Teleportation\", \"idx\": 76, \"val\": NaN}, {\"col\": \"Waiting\", \"idx\": 76, \"val\": 1.0}, {\"col\": \"Expensive\", \"idx\": 77, \"val\": 0.0}, {\"col\": \"Cheap\", \"idx\": 77, \"val\": 0.0}, {\"col\": \"Teleportation\", \"idx\": 77, \"val\": NaN}, {\"col\": \"Waiting\", \"idx\": 77, \"val\": 1.0}, {\"col\": \"Expensive\", \"idx\": 78, \"val\": 1.0}, {\"col\": \"Cheap\", \"idx\": 78, \"val\": 0.0}, {\"col\": \"Teleportation\", \"idx\": 78, \"val\": NaN}, {\"col\": \"Waiting\", \"idx\": 78, \"val\": 0.0}, {\"col\": \"Expensive\", \"idx\": 79, \"val\": 0.0}, {\"col\": \"Cheap\", \"idx\": 79, \"val\": 0.0}, {\"col\": \"Teleportation\", \"idx\": 79, \"val\": 1.0}, {\"col\": \"Waiting\", \"idx\": 79, \"val\": 0.0}, {\"col\": \"Expensive\", \"idx\": 80, \"val\": 0.0}, {\"col\": \"Cheap\", \"idx\": 80, \"val\": 0.0}, {\"col\": \"Teleportation\", \"idx\": 80, \"val\": NaN}, {\"col\": \"Waiting\", \"idx\": 80, \"val\": 1.0}, {\"col\": \"Expensive\", \"idx\": 81, \"val\": 1.0}, {\"col\": \"Cheap\", \"idx\": 81, \"val\": 0.0}, {\"col\": \"Teleportation\", \"idx\": 81, \"val\": NaN}, {\"col\": \"Waiting\", \"idx\": 81, \"val\": 0.0}, {\"col\": \"Expensive\", \"idx\": 82, \"val\": 1.0}, {\"col\": \"Cheap\", \"idx\": 82, \"val\": 0.0}, {\"col\": \"Teleportation\", \"idx\": 82, \"val\": NaN}, {\"col\": \"Waiting\", \"idx\": 82, \"val\": 0.0}, {\"col\": \"Expensive\", \"idx\": 83, \"val\": 0.0}, {\"col\": \"Cheap\", \"idx\": 83, \"val\": 0.0}, {\"col\": \"Teleportation\", \"idx\": 83, \"val\": 1.0}, {\"col\": \"Waiting\", \"idx\": 83, \"val\": 0.0}, {\"col\": \"Expensive\", \"idx\": 84, \"val\": 0.0}, {\"col\": \"Cheap\", \"idx\": 84, \"val\": 0.0}, {\"col\": \"Teleportation\", \"idx\": 84, \"val\": NaN}, {\"col\": \"Waiting\", \"idx\": 84, \"val\": 1.0}, {\"col\": \"Expensive\", \"idx\": 85, \"val\": 1.0}, {\"col\": \"Cheap\", \"idx\": 85, \"val\": 0.0}, {\"col\": \"Teleportation\", \"idx\": 85, \"val\": NaN}, {\"col\": \"Waiting\", \"idx\": 85, \"val\": 0.0}, {\"col\": \"Expensive\", \"idx\": 86, \"val\": 1.0}, {\"col\": \"Cheap\", \"idx\": 86, \"val\": 0.0}, {\"col\": \"Teleportation\", \"idx\": 86, \"val\": NaN}, {\"col\": \"Waiting\", \"idx\": 86, \"val\": 0.0}, {\"col\": \"Expensive\", \"idx\": 87, \"val\": 0.0}, {\"col\": \"Cheap\", \"idx\": 87, \"val\": 1.0}, {\"col\": \"Teleportation\", \"idx\": 87, \"val\": NaN}, {\"col\": \"Waiting\", \"idx\": 87, \"val\": 0.0}, {\"col\": \"Expensive\", \"idx\": 88, \"val\": 0.0}, {\"col\": \"Cheap\", \"idx\": 88, \"val\": 1.0}, {\"col\": \"Teleportation\", \"idx\": 88, \"val\": NaN}, {\"col\": \"Waiting\", \"idx\": 88, \"val\": 0.0}, {\"col\": \"Expensive\", \"idx\": 89, \"val\": 0.0}, {\"col\": \"Cheap\", \"idx\": 89, \"val\": 0.0}, {\"col\": \"Teleportation\", \"idx\": 89, \"val\": NaN}, {\"col\": \"Waiting\", \"idx\": 89, \"val\": 1.0}, {\"col\": \"Expensive\", \"idx\": 90, \"val\": 0.0}, {\"col\": \"Cheap\", \"idx\": 90, \"val\": 0.0}, {\"col\": \"Teleportation\", \"idx\": 90, \"val\": NaN}, {\"col\": \"Waiting\", \"idx\": 90, \"val\": 1.0}, {\"col\": \"Expensive\", \"idx\": 91, \"val\": 1.0}, {\"col\": \"Cheap\", \"idx\": 91, \"val\": 0.0}, {\"col\": \"Teleportation\", \"idx\": 91, \"val\": NaN}, {\"col\": \"Waiting\", \"idx\": 91, \"val\": 0.0}, {\"col\": \"Expensive\", \"idx\": 92, \"val\": 0.0}, {\"col\": \"Cheap\", \"idx\": 92, \"val\": 1.0}, {\"col\": \"Teleportation\", \"idx\": 92, \"val\": NaN}, {\"col\": \"Waiting\", \"idx\": 92, \"val\": 0.0}, {\"col\": \"Expensive\", \"idx\": 93, \"val\": 0.0}, {\"col\": \"Cheap\", \"idx\": 93, \"val\": 0.0}, {\"col\": \"Teleportation\", \"idx\": 93, \"val\": 1.0}, {\"col\": \"Waiting\", \"idx\": 93, \"val\": 0.0}, {\"col\": \"Expensive\", \"idx\": 94, \"val\": 0.0}, {\"col\": \"Cheap\", \"idx\": 94, \"val\": 1.0}, {\"col\": \"Teleportation\", \"idx\": 94, \"val\": NaN}, {\"col\": \"Waiting\", \"idx\": 94, \"val\": 0.0}, {\"col\": \"Expensive\", \"idx\": 95, \"val\": 1.0}, {\"col\": \"Cheap\", \"idx\": 95, \"val\": 0.0}, {\"col\": \"Teleportation\", \"idx\": 95, \"val\": NaN}, {\"col\": \"Waiting\", \"idx\": 95, \"val\": 0.0}, {\"col\": \"Expensive\", \"idx\": 96, \"val\": 0.0}, {\"col\": \"Cheap\", \"idx\": 96, \"val\": 0.0}, {\"col\": \"Teleportation\", \"idx\": 96, \"val\": 1.0}, {\"col\": \"Waiting\", \"idx\": 96, \"val\": 0.0}, {\"col\": \"Expensive\", \"idx\": 97, \"val\": 0.0}, {\"col\": \"Cheap\", \"idx\": 97, \"val\": 1.0}, {\"col\": \"Teleportation\", \"idx\": 97, \"val\": NaN}, {\"col\": \"Waiting\", \"idx\": 97, \"val\": 0.0}, {\"col\": \"Expensive\", \"idx\": 98, \"val\": 0.0}, {\"col\": \"Cheap\", \"idx\": 98, \"val\": 0.0}, {\"col\": \"Teleportation\", \"idx\": 98, \"val\": NaN}, {\"col\": \"Waiting\", \"idx\": 98, \"val\": 1.0}, {\"col\": \"Expensive\", \"idx\": 99, \"val\": 0.0}, {\"col\": \"Cheap\", \"idx\": 99, \"val\": 0.0}, {\"col\": \"Teleportation\", \"idx\": 99, \"val\": NaN}, {\"col\": \"Waiting\", \"idx\": 99, \"val\": 1.0}, {\"col\": \"Expensive\", \"idx\": 100, \"val\": 0.0}, {\"col\": \"Cheap\", \"idx\": 100, \"val\": 0.0}, {\"col\": \"Teleportation\", \"idx\": 100, \"val\": NaN}, {\"col\": \"Waiting\", \"idx\": 100, \"val\": 1.0}, {\"col\": \"Expensive\", \"idx\": 101, \"val\": 1.0}, {\"col\": \"Cheap\", \"idx\": 101, \"val\": 0.0}, {\"col\": \"Teleportation\", \"idx\": 101, \"val\": NaN}, {\"col\": \"Waiting\", \"idx\": 101, \"val\": 0.0}, {\"col\": \"Expensive\", \"idx\": 102, \"val\": 0.0}, {\"col\": \"Cheap\", \"idx\": 102, \"val\": 1.0}, {\"col\": \"Teleportation\", \"idx\": 102, \"val\": NaN}, {\"col\": \"Waiting\", \"idx\": 102, \"val\": 0.0}, {\"col\": \"Expensive\", \"idx\": 103, \"val\": 0.0}, {\"col\": \"Cheap\", \"idx\": 103, \"val\": 0.0}, {\"col\": \"Teleportation\", \"idx\": 103, \"val\": NaN}, {\"col\": \"Waiting\", \"idx\": 103, \"val\": 1.0}, {\"col\": \"Expensive\", \"idx\": 104, \"val\": 0.0}, {\"col\": \"Cheap\", \"idx\": 104, \"val\": 0.0}, {\"col\": \"Teleportation\", \"idx\": 104, \"val\": NaN}, {\"col\": \"Waiting\", \"idx\": 104, \"val\": 1.0}, {\"col\": \"Expensive\", \"idx\": 105, \"val\": 0.0}, {\"col\": \"Cheap\", \"idx\": 105, \"val\": 0.0}, {\"col\": \"Teleportation\", \"idx\": 105, \"val\": NaN}, {\"col\": \"Waiting\", \"idx\": 105, \"val\": 1.0}, {\"col\": \"Expensive\", \"idx\": 106, \"val\": 1.0}, {\"col\": \"Cheap\", \"idx\": 106, \"val\": 0.0}, {\"col\": \"Teleportation\", \"idx\": 106, \"val\": NaN}, {\"col\": \"Waiting\", \"idx\": 106, \"val\": 0.0}, {\"col\": \"Expensive\", \"idx\": 107, \"val\": 0.0}, {\"col\": \"Cheap\", \"idx\": 107, \"val\": 1.0}, {\"col\": \"Teleportation\", \"idx\": 107, \"val\": NaN}, {\"col\": \"Waiting\", \"idx\": 107, \"val\": 0.0}, {\"col\": \"Expensive\", \"idx\": 108, \"val\": 0.0}, {\"col\": \"Cheap\", \"idx\": 108, \"val\": 1.0}, {\"col\": \"Teleportation\", \"idx\": 108, \"val\": NaN}, {\"col\": \"Waiting\", \"idx\": 108, \"val\": 0.0}, {\"col\": \"Expensive\", \"idx\": 109, \"val\": 0.0}, {\"col\": \"Cheap\", \"idx\": 109, \"val\": 0.0}, {\"col\": \"Teleportation\", \"idx\": 109, \"val\": NaN}, {\"col\": \"Waiting\", \"idx\": 109, \"val\": 1.0}, {\"col\": \"Expensive\", \"idx\": 110, \"val\": 0.0}, {\"col\": \"Cheap\", \"idx\": 110, \"val\": 0.0}, {\"col\": \"Teleportation\", \"idx\": 110, \"val\": NaN}, {\"col\": \"Waiting\", \"idx\": 110, \"val\": 1.0}, {\"col\": \"Expensive\", \"idx\": 111, \"val\": 0.0}, {\"col\": \"Cheap\", \"idx\": 111, \"val\": 0.0}, {\"col\": \"Teleportation\", \"idx\": 111, \"val\": NaN}, {\"col\": \"Waiting\", \"idx\": 111, \"val\": 1.0}, {\"col\": \"Expensive\", \"idx\": 112, \"val\": 1.0}, {\"col\": \"Cheap\", \"idx\": 112, \"val\": 0.0}, {\"col\": \"Teleportation\", \"idx\": 112, \"val\": NaN}, {\"col\": \"Waiting\", \"idx\": 112, \"val\": 0.0}, {\"col\": \"Expensive\", \"idx\": 113, \"val\": 0.0}, {\"col\": \"Cheap\", \"idx\": 113, \"val\": 1.0}, {\"col\": \"Teleportation\", \"idx\": 113, \"val\": NaN}, {\"col\": \"Waiting\", \"idx\": 113, \"val\": 0.0}, {\"col\": \"Expensive\", \"idx\": 114, \"val\": 0.0}, {\"col\": \"Cheap\", \"idx\": 114, \"val\": 0.0}, {\"col\": \"Teleportation\", \"idx\": 114, \"val\": NaN}, {\"col\": \"Waiting\", \"idx\": 114, \"val\": 0.0}]}, {\"name\": \"stats\", \"source\": \"table\", \"transform\": [{\"keys\": [\"data.idx\"], \"type\": \"facet\"}, {\"type\": \"stats\", \"value\": \"data.val\"}]}], \"height\": 300, \"legends\": [{\"fill\": \"color\", \"offset\": 0, \"properties\": {}, \"title\": \"Edge\"}], \"marks\": [{\"from\": {\"data\": \"table\", \"transform\": [{\"keys\": [\"data.col\"], \"type\": \"facet\"}, {\"height\": \"data.val\", \"point\": \"data.idx\", \"type\": \"stack\"}]}, \"marks\": [{\"properties\": {\"enter\": {\"fill\": {\"field\": \"data.col\", \"scale\": \"color\"}, \"interpolate\": {\"value\": \"monotone\"}, \"opacity\": {\"value\": 0.8}, \"x\": {\"field\": \"data.idx\", \"scale\": \"x\"}, \"y\": {\"field\": \"y\", \"scale\": \"y\"}, \"y2\": {\"field\": \"y2\", \"scale\": \"y\"}}, \"hover\": {\"opacity\": {\"value\": 1}, \"size\": {\"value\": 200}}, \"update\": {\"opacity\": {\"value\": 0.8}, \"size\": {\"value\": 100}}}, \"type\": \"area\"}], \"type\": \"group\"}], \"padding\": \"auto\", \"scales\": [{\"domain\": {\"data\": \"table\", \"field\": \"data.idx\"}, \"name\": \"x\", \"range\": \"width\", \"type\": \"linear\", \"zero\": false}, {\"domain\": {\"data\": \"stats\", \"field\": \"sum\"}, \"name\": \"y\", \"nice\": true, \"range\": \"height\"}, {\"domain\": {\"data\": \"table\", \"field\": \"data.col\"}, \"name\": \"color\", \"range\": [\"#ff0000\", \"#50aa50\", \"#6060aa\", \"#eeeeee\"], \"type\": \"ordinal\"}], \"width\": 400}, function(chart) {\n",
        "         chart({el: \"#visccfab85bdf3542f28a5c6fb1337a8a8a\"}).update();\n",
        "       });\n",
        "     };\n",
        "     _do_plot();\n",
        "   })();\n",
        "</script>\n",
        "<style>.vega canvas {width: 100%;}</style>\n",
        "        "
       ],
       "metadata": {},
       "output_type": "display_data",
       "text": [
        "<vincent.charts.Area at 0x2ba82f35f710>"
       ]
      },
      {
       "html": [
        "<h3>Performance stats</h3>"
       ],
       "metadata": {},
       "output_type": "display_data",
       "text": [
        "<IPython.core.display.HTML at 0x2ba82f35f6d0>"
       ]
      },
      {
       "output_type": "stream",
       "stream": "stdout",
       "text": [
        "Stats normalized by equivalent vanilla random walk stats:\n",
        "\n",
        "Average death round (waiting/vanilla): 1.66266666667\n",
        "Total duration in rounds (waiting/vanilla): 3.67741935484\n",
        "Cost (waiting/vanilla): 0.741633199465\n"
       ]
      },
      {
       "html": [
        "<h2>Graph: Powerlaw-Cluster Graph</h2>"
       ],
       "metadata": {},
       "output_type": "display_data",
       "text": [
        "<IPython.core.display.HTML at 0x2ba82f33a050>"
       ]
      },
      {
       "html": [
        "<h3>Vanilla random walk. Cost: 1605.0</h3>"
       ],
       "metadata": {},
       "output_type": "display_data",
       "text": [
        "<IPython.core.display.HTML at 0x2ba82c0059d0>"
       ]
      },
      {
       "html": [
        "<div id=\"vis39ca2fad27b749bfb5315d4a264b6e47\"></div>\n",
        "<script>\n",
        "   ( function() {\n",
        "     var _do_plot = function() {\n",
        "       if (typeof vg === 'undefined') {\n",
        "         window.addEventListener('vincent_libs_loaded', _do_plot)\n",
        "         return;\n",
        "       }\n",
        "       vg.parse.spec({\"axes\": [{\"scale\": \"x\", \"title\": \"Rounds\", \"type\": \"x\"}, {\"scale\": \"y\", \"title\": \"# edges traversed\", \"type\": \"y\"}], \"data\": [{\"name\": \"table\", \"values\": [{\"col\": \"Expensive\", \"idx\": 0, \"val\": NaN}, {\"col\": \"Cheap\", \"idx\": 0, \"val\": NaN}, {\"col\": \"Expensive\", \"idx\": 1, \"val\": 136.0}, {\"col\": \"Cheap\", \"idx\": 1, \"val\": 51.0}, {\"col\": \"Expensive\", \"idx\": 2, \"val\": 141.0}, {\"col\": \"Cheap\", \"idx\": 2, \"val\": 49.0}, {\"col\": \"Expensive\", \"idx\": 3, \"val\": 135.0}, {\"col\": \"Cheap\", \"idx\": 3, \"val\": 51.0}, {\"col\": \"Expensive\", \"idx\": 4, \"val\": 136.0}, {\"col\": \"Cheap\", \"idx\": 4, \"val\": 48.0}, {\"col\": \"Expensive\", \"idx\": 5, \"val\": 133.0}, {\"col\": \"Cheap\", \"idx\": 5, \"val\": 47.0}, {\"col\": \"Expensive\", \"idx\": 6, \"val\": 122.0}, {\"col\": \"Cheap\", \"idx\": 6, \"val\": 44.0}, {\"col\": \"Expensive\", \"idx\": 7, \"val\": 105.0}, {\"col\": \"Cheap\", \"idx\": 7, \"val\": 43.0}, {\"col\": \"Expensive\", \"idx\": 8, \"val\": 98.0}, {\"col\": \"Cheap\", \"idx\": 8, \"val\": 28.0}, {\"col\": \"Expensive\", \"idx\": 9, \"val\": 93.0}, {\"col\": \"Cheap\", \"idx\": 9, \"val\": 34.0}, {\"col\": \"Expensive\", \"idx\": 10, \"val\": 79.0}, {\"col\": \"Cheap\", \"idx\": 10, \"val\": 33.0}, {\"col\": \"Expensive\", \"idx\": 11, \"val\": 73.0}, {\"col\": \"Cheap\", \"idx\": 11, \"val\": 27.0}, {\"col\": \"Expensive\", \"idx\": 12, \"val\": 64.0}, {\"col\": \"Cheap\", \"idx\": 12, \"val\": 24.0}, {\"col\": \"Expensive\", \"idx\": 13, \"val\": 54.0}, {\"col\": \"Cheap\", \"idx\": 13, \"val\": 17.0}, {\"col\": \"Expensive\", \"idx\": 14, \"val\": 55.0}, {\"col\": \"Cheap\", \"idx\": 14, \"val\": 20.0}, {\"col\": \"Expensive\", \"idx\": 15, \"val\": 37.0}, {\"col\": \"Cheap\", \"idx\": 15, \"val\": 12.0}, {\"col\": \"Expensive\", \"idx\": 16, \"val\": 36.0}, {\"col\": \"Cheap\", \"idx\": 16, \"val\": 18.0}, {\"col\": \"Expensive\", \"idx\": 17, \"val\": 25.0}, {\"col\": \"Cheap\", \"idx\": 17, \"val\": 14.0}, {\"col\": \"Expensive\", \"idx\": 18, \"val\": 22.0}, {\"col\": \"Cheap\", \"idx\": 18, \"val\": 9.0}, {\"col\": \"Expensive\", \"idx\": 19, \"val\": 17.0}, {\"col\": \"Cheap\", \"idx\": 19, \"val\": 4.0}, {\"col\": \"Expensive\", \"idx\": 20, \"val\": 7.0}, {\"col\": \"Cheap\", \"idx\": 20, \"val\": 7.0}, {\"col\": \"Expensive\", \"idx\": 21, \"val\": 8.0}, {\"col\": \"Cheap\", \"idx\": 21, \"val\": 4.0}, {\"col\": \"Expensive\", \"idx\": 22, \"val\": 7.0}, {\"col\": \"Cheap\", \"idx\": 22, \"val\": 4.0}, {\"col\": \"Expensive\", \"idx\": 23, \"val\": 5.0}, {\"col\": \"Cheap\", \"idx\": 23, \"val\": 3.0}, {\"col\": \"Expensive\", \"idx\": 24, \"val\": 2.0}, {\"col\": \"Cheap\", \"idx\": 24, \"val\": 3.0}, {\"col\": \"Expensive\", \"idx\": 25, \"val\": 4.0}, {\"col\": \"Cheap\", \"idx\": 25, \"val\": 1.0}, {\"col\": \"Expensive\", \"idx\": 26, \"val\": 3.0}, {\"col\": \"Cheap\", \"idx\": 26, \"val\": 1.0}, {\"col\": \"Expensive\", \"idx\": 27, \"val\": 2.0}, {\"col\": \"Cheap\", \"idx\": 27, \"val\": 1.0}, {\"col\": \"Expensive\", \"idx\": 28, \"val\": 1.0}, {\"col\": \"Cheap\", \"idx\": 28, \"val\": 1.0}, {\"col\": \"Expensive\", \"idx\": 29, \"val\": 1.0}, {\"col\": \"Cheap\", \"idx\": 29, \"val\": 1.0}, {\"col\": \"Expensive\", \"idx\": 30, \"val\": 1.0}, {\"col\": \"Cheap\", \"idx\": 30, \"val\": 1.0}, {\"col\": \"Expensive\", \"idx\": 31, \"val\": 1.0}, {\"col\": \"Cheap\", \"idx\": 31, \"val\": 1.0}, {\"col\": \"Expensive\", \"idx\": 32, \"val\": 0.0}, {\"col\": \"Cheap\", \"idx\": 32, \"val\": 2.0}, {\"col\": \"Expensive\", \"idx\": 33, \"val\": 0.0}, {\"col\": \"Cheap\", \"idx\": 33, \"val\": 2.0}, {\"col\": \"Expensive\", \"idx\": 34, \"val\": 1.0}, {\"col\": \"Cheap\", \"idx\": 34, \"val\": 0.0}, {\"col\": \"Expensive\", \"idx\": 35, \"val\": 1.0}, {\"col\": \"Cheap\", \"idx\": 35, \"val\": 0.0}, {\"col\": \"Expensive\", \"idx\": 36, \"val\": 0.0}, {\"col\": \"Cheap\", \"idx\": 36, \"val\": 0.0}, {\"col\": \"Expensive\", \"idx\": 37, \"val\": NaN}, {\"col\": \"Cheap\", \"idx\": 37, \"val\": NaN}, {\"col\": \"Expensive\", \"idx\": 38, \"val\": NaN}, {\"col\": \"Cheap\", \"idx\": 38, \"val\": NaN}, {\"col\": \"Expensive\", \"idx\": 39, \"val\": NaN}, {\"col\": \"Cheap\", \"idx\": 39, \"val\": NaN}, {\"col\": \"Expensive\", \"idx\": 40, \"val\": NaN}, {\"col\": \"Cheap\", \"idx\": 40, \"val\": NaN}, {\"col\": \"Expensive\", \"idx\": 41, \"val\": NaN}, {\"col\": \"Cheap\", \"idx\": 41, \"val\": NaN}, {\"col\": \"Expensive\", \"idx\": 42, \"val\": NaN}, {\"col\": \"Cheap\", \"idx\": 42, \"val\": NaN}, {\"col\": \"Expensive\", \"idx\": 43, \"val\": NaN}, {\"col\": \"Cheap\", \"idx\": 43, \"val\": NaN}, {\"col\": \"Expensive\", \"idx\": 44, \"val\": NaN}, {\"col\": \"Cheap\", \"idx\": 44, \"val\": NaN}, {\"col\": \"Expensive\", \"idx\": 45, \"val\": NaN}, {\"col\": \"Cheap\", \"idx\": 45, \"val\": NaN}, {\"col\": \"Expensive\", \"idx\": 46, \"val\": NaN}, {\"col\": \"Cheap\", \"idx\": 46, \"val\": NaN}, {\"col\": \"Expensive\", \"idx\": 47, \"val\": NaN}, {\"col\": \"Cheap\", \"idx\": 47, \"val\": NaN}, {\"col\": \"Expensive\", \"idx\": 48, \"val\": NaN}, {\"col\": \"Cheap\", \"idx\": 48, \"val\": NaN}, {\"col\": \"Expensive\", \"idx\": 49, \"val\": NaN}, {\"col\": \"Cheap\", \"idx\": 49, \"val\": NaN}, {\"col\": \"Expensive\", \"idx\": 50, \"val\": NaN}, {\"col\": \"Cheap\", \"idx\": 50, \"val\": NaN}, {\"col\": \"Expensive\", \"idx\": 51, \"val\": NaN}, {\"col\": \"Cheap\", \"idx\": 51, \"val\": NaN}, {\"col\": \"Expensive\", \"idx\": 52, \"val\": NaN}, {\"col\": \"Cheap\", \"idx\": 52, \"val\": NaN}, {\"col\": \"Expensive\", \"idx\": 53, \"val\": NaN}, {\"col\": \"Cheap\", \"idx\": 53, \"val\": NaN}, {\"col\": \"Expensive\", \"idx\": 54, \"val\": NaN}, {\"col\": \"Cheap\", \"idx\": 54, \"val\": NaN}, {\"col\": \"Expensive\", \"idx\": 55, \"val\": NaN}, {\"col\": \"Cheap\", \"idx\": 55, \"val\": NaN}, {\"col\": \"Expensive\", \"idx\": 56, \"val\": NaN}, {\"col\": \"Cheap\", \"idx\": 56, \"val\": NaN}, {\"col\": \"Expensive\", \"idx\": 57, \"val\": NaN}, {\"col\": \"Cheap\", \"idx\": 57, \"val\": NaN}, {\"col\": \"Expensive\", \"idx\": 58, \"val\": NaN}, {\"col\": \"Cheap\", \"idx\": 58, \"val\": NaN}, {\"col\": \"Expensive\", \"idx\": 59, \"val\": NaN}, {\"col\": \"Cheap\", \"idx\": 59, \"val\": NaN}, {\"col\": \"Expensive\", \"idx\": 60, \"val\": NaN}, {\"col\": \"Cheap\", \"idx\": 60, \"val\": NaN}, {\"col\": \"Expensive\", \"idx\": 61, \"val\": NaN}, {\"col\": \"Cheap\", \"idx\": 61, \"val\": NaN}, {\"col\": \"Expensive\", \"idx\": 62, \"val\": NaN}, {\"col\": \"Cheap\", \"idx\": 62, \"val\": NaN}, {\"col\": \"Expensive\", \"idx\": 63, \"val\": NaN}, {\"col\": \"Cheap\", \"idx\": 63, \"val\": NaN}, {\"col\": \"Expensive\", \"idx\": 64, \"val\": NaN}, {\"col\": \"Cheap\", \"idx\": 64, \"val\": NaN}, {\"col\": \"Expensive\", \"idx\": 65, \"val\": NaN}, {\"col\": \"Cheap\", \"idx\": 65, \"val\": NaN}, {\"col\": \"Expensive\", \"idx\": 66, \"val\": NaN}, {\"col\": \"Cheap\", \"idx\": 66, \"val\": NaN}, {\"col\": \"Expensive\", \"idx\": 67, \"val\": NaN}, {\"col\": \"Cheap\", \"idx\": 67, \"val\": NaN}, {\"col\": \"Expensive\", \"idx\": 68, \"val\": NaN}, {\"col\": \"Cheap\", \"idx\": 68, \"val\": NaN}, {\"col\": \"Expensive\", \"idx\": 69, \"val\": NaN}, {\"col\": \"Cheap\", \"idx\": 69, \"val\": NaN}, {\"col\": \"Expensive\", \"idx\": 70, \"val\": NaN}, {\"col\": \"Cheap\", \"idx\": 70, \"val\": NaN}, {\"col\": \"Expensive\", \"idx\": 71, \"val\": NaN}, {\"col\": \"Cheap\", \"idx\": 71, \"val\": NaN}, {\"col\": \"Expensive\", \"idx\": 72, \"val\": NaN}, {\"col\": \"Cheap\", \"idx\": 72, \"val\": NaN}, {\"col\": \"Expensive\", \"idx\": 73, \"val\": NaN}, {\"col\": \"Cheap\", \"idx\": 73, \"val\": NaN}, {\"col\": \"Expensive\", \"idx\": 74, \"val\": NaN}, {\"col\": \"Cheap\", \"idx\": 74, \"val\": NaN}, {\"col\": \"Expensive\", \"idx\": 75, \"val\": NaN}, {\"col\": \"Cheap\", \"idx\": 75, \"val\": NaN}, {\"col\": \"Expensive\", \"idx\": 76, \"val\": NaN}, {\"col\": \"Cheap\", \"idx\": 76, \"val\": NaN}, {\"col\": \"Expensive\", \"idx\": 77, \"val\": NaN}, {\"col\": \"Cheap\", \"idx\": 77, \"val\": NaN}, {\"col\": \"Expensive\", \"idx\": 78, \"val\": NaN}, {\"col\": \"Cheap\", \"idx\": 78, \"val\": NaN}, {\"col\": \"Expensive\", \"idx\": 79, \"val\": NaN}, {\"col\": \"Cheap\", \"idx\": 79, \"val\": NaN}, {\"col\": \"Expensive\", \"idx\": 80, \"val\": NaN}, {\"col\": \"Cheap\", \"idx\": 80, \"val\": NaN}, {\"col\": \"Expensive\", \"idx\": 81, \"val\": NaN}, {\"col\": \"Cheap\", \"idx\": 81, \"val\": NaN}, {\"col\": \"Expensive\", \"idx\": 82, \"val\": NaN}, {\"col\": \"Cheap\", \"idx\": 82, \"val\": NaN}, {\"col\": \"Expensive\", \"idx\": 83, \"val\": NaN}, {\"col\": \"Cheap\", \"idx\": 83, \"val\": NaN}, {\"col\": \"Expensive\", \"idx\": 84, \"val\": NaN}, {\"col\": \"Cheap\", \"idx\": 84, \"val\": NaN}, {\"col\": \"Expensive\", \"idx\": 85, \"val\": NaN}, {\"col\": \"Cheap\", \"idx\": 85, \"val\": NaN}, {\"col\": \"Expensive\", \"idx\": 86, \"val\": NaN}, {\"col\": \"Cheap\", \"idx\": 86, \"val\": NaN}, {\"col\": \"Expensive\", \"idx\": 87, \"val\": NaN}, {\"col\": \"Cheap\", \"idx\": 87, \"val\": NaN}, {\"col\": \"Expensive\", \"idx\": 88, \"val\": NaN}, {\"col\": \"Cheap\", \"idx\": 88, \"val\": NaN}, {\"col\": \"Expensive\", \"idx\": 89, \"val\": NaN}, {\"col\": \"Cheap\", \"idx\": 89, \"val\": NaN}, {\"col\": \"Expensive\", \"idx\": 90, \"val\": NaN}, {\"col\": \"Cheap\", \"idx\": 90, \"val\": NaN}, {\"col\": \"Expensive\", \"idx\": 91, \"val\": NaN}, {\"col\": \"Cheap\", \"idx\": 91, \"val\": NaN}, {\"col\": \"Expensive\", \"idx\": 92, \"val\": NaN}, {\"col\": \"Cheap\", \"idx\": 92, \"val\": NaN}, {\"col\": \"Expensive\", \"idx\": 93, \"val\": NaN}, {\"col\": \"Cheap\", \"idx\": 93, \"val\": NaN}, {\"col\": \"Expensive\", \"idx\": 94, \"val\": NaN}, {\"col\": \"Cheap\", \"idx\": 94, \"val\": NaN}, {\"col\": \"Expensive\", \"idx\": 95, \"val\": NaN}, {\"col\": \"Cheap\", \"idx\": 95, \"val\": NaN}, {\"col\": \"Expensive\", \"idx\": 96, \"val\": NaN}, {\"col\": \"Cheap\", \"idx\": 96, \"val\": NaN}, {\"col\": \"Expensive\", \"idx\": 97, \"val\": NaN}, {\"col\": \"Cheap\", \"idx\": 97, \"val\": NaN}, {\"col\": \"Expensive\", \"idx\": 98, \"val\": NaN}, {\"col\": \"Cheap\", \"idx\": 98, \"val\": NaN}, {\"col\": \"Expensive\", \"idx\": 99, \"val\": NaN}, {\"col\": \"Cheap\", \"idx\": 99, \"val\": NaN}, {\"col\": \"Expensive\", \"idx\": 100, \"val\": NaN}, {\"col\": \"Cheap\", \"idx\": 100, \"val\": NaN}, {\"col\": \"Expensive\", \"idx\": 101, \"val\": NaN}, {\"col\": \"Cheap\", \"idx\": 101, \"val\": NaN}, {\"col\": \"Expensive\", \"idx\": 102, \"val\": NaN}, {\"col\": \"Cheap\", \"idx\": 102, \"val\": NaN}, {\"col\": \"Expensive\", \"idx\": 103, \"val\": NaN}, {\"col\": \"Cheap\", \"idx\": 103, \"val\": NaN}, {\"col\": \"Expensive\", \"idx\": 104, \"val\": NaN}, {\"col\": \"Cheap\", \"idx\": 104, \"val\": NaN}, {\"col\": \"Expensive\", \"idx\": 105, \"val\": NaN}, {\"col\": \"Cheap\", \"idx\": 105, \"val\": NaN}]}, {\"name\": \"stats\", \"source\": \"table\", \"transform\": [{\"keys\": [\"data.idx\"], \"type\": \"facet\"}, {\"type\": \"stats\", \"value\": \"data.val\"}]}], \"height\": 300, \"legends\": [{\"fill\": \"color\", \"offset\": 0, \"properties\": {}, \"title\": \"Edge\"}], \"marks\": [{\"from\": {\"data\": \"table\", \"transform\": [{\"keys\": [\"data.col\"], \"type\": \"facet\"}, {\"height\": \"data.val\", \"point\": \"data.idx\", \"type\": \"stack\"}]}, \"marks\": [{\"properties\": {\"enter\": {\"fill\": {\"field\": \"data.col\", \"scale\": \"color\"}, \"interpolate\": {\"value\": \"monotone\"}, \"opacity\": {\"value\": 0.8}, \"x\": {\"field\": \"data.idx\", \"scale\": \"x\"}, \"y\": {\"field\": \"y\", \"scale\": \"y\"}, \"y2\": {\"field\": \"y2\", \"scale\": \"y\"}}, \"hover\": {\"opacity\": {\"value\": 1}, \"size\": {\"value\": 200}}, \"update\": {\"opacity\": {\"value\": 0.8}, \"size\": {\"value\": 100}}}, \"type\": \"area\"}], \"type\": \"group\"}], \"padding\": \"auto\", \"scales\": [{\"domain\": {\"data\": \"table\", \"field\": \"data.idx\"}, \"name\": \"x\", \"range\": \"width\", \"type\": \"linear\", \"zero\": false}, {\"domain\": [0, 196], \"name\": \"y\", \"nice\": true, \"range\": \"height\"}, {\"domain\": {\"data\": \"table\", \"field\": \"data.col\"}, \"name\": \"color\", \"range\": [\"#ff0000\", \"#50aa50\", \"#eeeeee\"], \"type\": \"ordinal\"}], \"width\": 400}, function(chart) {\n",
        "         chart({el: \"#vis39ca2fad27b749bfb5315d4a264b6e47\"}).update();\n",
        "       });\n",
        "     };\n",
        "     _do_plot();\n",
        "   })();\n",
        "</script>\n",
        "<style>.vega canvas {width: 100%;}</style>\n",
        "        "
       ],
       "metadata": {},
       "output_type": "display_data",
       "text": [
        "<vincent.charts.Area at 0x2ba82f38f1d0>"
       ]
      },
      {
       "html": [
        "<h3>Waiting random walk. Cost: 1345.0, a 16.199376947% gain</h3>"
       ],
       "metadata": {},
       "output_type": "display_data",
       "text": [
        "<IPython.core.display.HTML at 0x2ba82f35f6d0>"
       ]
      },
      {
       "html": [
        "<div id=\"vis8c8df84d1e5842f1a65b5c379d397e8d\"></div>\n",
        "<script>\n",
        "   ( function() {\n",
        "     var _do_plot = function() {\n",
        "       if (typeof vg === 'undefined') {\n",
        "         window.addEventListener('vincent_libs_loaded', _do_plot)\n",
        "         return;\n",
        "       }\n",
        "       vg.parse.spec({\"axes\": [{\"scale\": \"x\", \"title\": \"Rounds\", \"type\": \"x\"}, {\"scale\": \"y\", \"title\": \"# edges traversed\", \"type\": \"y\"}], \"data\": [{\"name\": \"table\", \"values\": [{\"col\": \"Expensive\", \"idx\": 1, \"val\": 39.0}, {\"col\": \"Cheap\", \"idx\": 1, \"val\": 50.0}, {\"col\": \"Expensive\", \"idx\": 2, \"val\": 37.0}, {\"col\": \"Cheap\", \"idx\": 2, \"val\": 44.0}, {\"col\": \"Expensive\", \"idx\": 3, \"val\": 34.0}, {\"col\": \"Cheap\", \"idx\": 3, \"val\": 37.0}, {\"col\": \"Expensive\", \"idx\": 4, \"val\": 32.0}, {\"col\": \"Cheap\", \"idx\": 4, \"val\": 33.0}, {\"col\": \"Expensive\", \"idx\": 5, \"val\": 41.0}, {\"col\": \"Cheap\", \"idx\": 5, \"val\": 32.0}, {\"col\": \"Expensive\", \"idx\": 6, \"val\": 38.0}, {\"col\": \"Cheap\", \"idx\": 6, \"val\": 30.0}, {\"col\": \"Expensive\", \"idx\": 7, \"val\": 34.0}, {\"col\": \"Cheap\", \"idx\": 7, \"val\": 27.0}, {\"col\": \"Expensive\", \"idx\": 8, \"val\": 32.0}, {\"col\": \"Cheap\", \"idx\": 8, \"val\": 29.0}, {\"col\": \"Expensive\", \"idx\": 9, \"val\": 40.0}, {\"col\": \"Cheap\", \"idx\": 9, \"val\": 25.0}, {\"col\": \"Expensive\", \"idx\": 10, \"val\": 38.0}, {\"col\": \"Cheap\", \"idx\": 10, \"val\": 29.0}, {\"col\": \"Expensive\", \"idx\": 11, \"val\": 32.0}, {\"col\": \"Cheap\", \"idx\": 11, \"val\": 23.0}, {\"col\": \"Expensive\", \"idx\": 12, \"val\": 32.0}, {\"col\": \"Cheap\", \"idx\": 12, \"val\": 21.0}, {\"col\": \"Expensive\", \"idx\": 13, \"val\": 40.0}, {\"col\": \"Cheap\", \"idx\": 13, \"val\": 17.0}, {\"col\": \"Expensive\", \"idx\": 14, \"val\": 37.0}, {\"col\": \"Cheap\", \"idx\": 14, \"val\": 23.0}, {\"col\": \"Expensive\", \"idx\": 15, \"val\": 31.0}, {\"col\": \"Cheap\", \"idx\": 15, \"val\": 22.0}, {\"col\": \"Expensive\", \"idx\": 16, \"val\": 28.0}, {\"col\": \"Cheap\", \"idx\": 16, \"val\": 23.0}, {\"col\": \"Expensive\", \"idx\": 17, \"val\": 41.0}, {\"col\": \"Cheap\", \"idx\": 17, \"val\": 21.0}, {\"col\": \"Expensive\", \"idx\": 18, \"val\": 34.0}, {\"col\": \"Cheap\", \"idx\": 18, \"val\": 25.0}, {\"col\": \"Expensive\", \"idx\": 19, \"val\": 25.0}, {\"col\": \"Cheap\", \"idx\": 19, \"val\": 21.0}, {\"col\": \"Expensive\", \"idx\": 20, \"val\": 26.0}, {\"col\": \"Cheap\", \"idx\": 20, \"val\": 15.0}, {\"col\": \"Expensive\", \"idx\": 21, \"val\": 33.0}, {\"col\": \"Cheap\", \"idx\": 21, \"val\": 6.0}, {\"col\": \"Expensive\", \"idx\": 22, \"val\": 30.0}, {\"col\": \"Cheap\", \"idx\": 22, \"val\": 14.0}, {\"col\": \"Expensive\", \"idx\": 23, \"val\": 30.0}, {\"col\": \"Cheap\", \"idx\": 23, \"val\": 11.0}, {\"col\": \"Expensive\", \"idx\": 24, \"val\": 24.0}, {\"col\": \"Cheap\", \"idx\": 24, \"val\": 13.0}, {\"col\": \"Expensive\", \"idx\": 25, \"val\": 31.0}, {\"col\": \"Cheap\", \"idx\": 25, \"val\": 9.0}, {\"col\": \"Expensive\", \"idx\": 26, \"val\": 29.0}, {\"col\": \"Cheap\", \"idx\": 26, \"val\": 14.0}, {\"col\": \"Expensive\", \"idx\": 27, \"val\": 26.0}, {\"col\": \"Cheap\", \"idx\": 27, \"val\": 11.0}, {\"col\": \"Expensive\", \"idx\": 28, \"val\": 14.0}, {\"col\": \"Cheap\", \"idx\": 28, \"val\": 10.0}, {\"col\": \"Expensive\", \"idx\": 29, \"val\": 30.0}, {\"col\": \"Cheap\", \"idx\": 29, \"val\": 7.0}, {\"col\": \"Expensive\", \"idx\": 30, \"val\": 23.0}, {\"col\": \"Cheap\", \"idx\": 30, \"val\": 5.0}, {\"col\": \"Expensive\", \"idx\": 31, \"val\": 24.0}, {\"col\": \"Cheap\", \"idx\": 31, \"val\": 5.0}, {\"col\": \"Expensive\", \"idx\": 32, \"val\": 20.0}, {\"col\": \"Cheap\", \"idx\": 32, \"val\": 9.0}, {\"col\": \"Expensive\", \"idx\": 33, \"val\": 27.0}, {\"col\": \"Cheap\", \"idx\": 33, \"val\": 4.0}, {\"col\": \"Expensive\", \"idx\": 34, \"val\": 28.0}, {\"col\": \"Cheap\", \"idx\": 34, \"val\": 9.0}, {\"col\": \"Expensive\", \"idx\": 35, \"val\": 16.0}, {\"col\": \"Cheap\", \"idx\": 35, \"val\": 10.0}, {\"col\": \"Expensive\", \"idx\": 36, \"val\": 15.0}, {\"col\": \"Cheap\", \"idx\": 36, \"val\": 6.0}, {\"col\": \"Expensive\", \"idx\": 37, \"val\": 18.0}, {\"col\": \"Cheap\", \"idx\": 37, \"val\": 7.0}, {\"col\": \"Expensive\", \"idx\": 38, \"val\": 17.0}, {\"col\": \"Cheap\", \"idx\": 38, \"val\": 7.0}, {\"col\": \"Expensive\", \"idx\": 39, \"val\": 17.0}, {\"col\": \"Cheap\", \"idx\": 39, \"val\": 3.0}, {\"col\": \"Expensive\", \"idx\": 40, \"val\": 12.0}, {\"col\": \"Cheap\", \"idx\": 40, \"val\": 5.0}, {\"col\": \"Expensive\", \"idx\": 41, \"val\": 12.0}, {\"col\": \"Cheap\", \"idx\": 41, \"val\": 3.0}, {\"col\": \"Expensive\", \"idx\": 42, \"val\": 15.0}, {\"col\": \"Cheap\", \"idx\": 42, \"val\": 3.0}, {\"col\": \"Expensive\", \"idx\": 43, \"val\": 9.0}, {\"col\": \"Cheap\", \"idx\": 43, \"val\": 3.0}, {\"col\": \"Expensive\", \"idx\": 44, \"val\": 10.0}, {\"col\": \"Cheap\", \"idx\": 44, \"val\": 0.0}, {\"col\": \"Expensive\", \"idx\": 45, \"val\": 14.0}, {\"col\": \"Cheap\", \"idx\": 45, \"val\": 3.0}, {\"col\": \"Expensive\", \"idx\": 46, \"val\": 10.0}, {\"col\": \"Cheap\", \"idx\": 46, \"val\": 4.0}, {\"col\": \"Expensive\", \"idx\": 47, \"val\": 11.0}, {\"col\": \"Cheap\", \"idx\": 47, \"val\": 2.0}, {\"col\": \"Expensive\", \"idx\": 48, \"val\": 5.0}, {\"col\": \"Cheap\", \"idx\": 48, \"val\": 2.0}, {\"col\": \"Expensive\", \"idx\": 49, \"val\": 11.0}, {\"col\": \"Cheap\", \"idx\": 49, \"val\": 0.0}, {\"col\": \"Expensive\", \"idx\": 50, \"val\": 10.0}, {\"col\": \"Cheap\", \"idx\": 50, \"val\": 0.0}, {\"col\": \"Expensive\", \"idx\": 51, \"val\": 7.0}, {\"col\": \"Cheap\", \"idx\": 51, \"val\": 1.0}, {\"col\": \"Expensive\", \"idx\": 52, \"val\": 8.0}, {\"col\": \"Cheap\", \"idx\": 52, \"val\": 1.0}, {\"col\": \"Expensive\", \"idx\": 53, \"val\": 7.0}, {\"col\": \"Cheap\", \"idx\": 53, \"val\": 3.0}, {\"col\": \"Expensive\", \"idx\": 54, \"val\": 6.0}, {\"col\": \"Cheap\", \"idx\": 54, \"val\": 4.0}, {\"col\": \"Expensive\", \"idx\": 55, \"val\": 2.0}, {\"col\": \"Cheap\", \"idx\": 55, \"val\": 1.0}, {\"col\": \"Expensive\", \"idx\": 56, \"val\": 4.0}, {\"col\": \"Cheap\", \"idx\": 56, \"val\": 0.0}, {\"col\": \"Expensive\", \"idx\": 57, \"val\": 8.0}, {\"col\": \"Cheap\", \"idx\": 57, \"val\": 1.0}, {\"col\": \"Expensive\", \"idx\": 58, \"val\": 5.0}, {\"col\": \"Cheap\", \"idx\": 58, \"val\": 1.0}, {\"col\": \"Expensive\", \"idx\": 59, \"val\": 3.0}, {\"col\": \"Cheap\", \"idx\": 59, \"val\": 1.0}, {\"col\": \"Expensive\", \"idx\": 60, \"val\": 3.0}, {\"col\": \"Cheap\", \"idx\": 60, \"val\": 1.0}, {\"col\": \"Expensive\", \"idx\": 61, \"val\": 3.0}, {\"col\": \"Cheap\", \"idx\": 61, \"val\": 1.0}, {\"col\": \"Expensive\", \"idx\": 62, \"val\": 2.0}, {\"col\": \"Cheap\", \"idx\": 62, \"val\": 0.0}, {\"col\": \"Expensive\", \"idx\": 63, \"val\": 2.0}, {\"col\": \"Cheap\", \"idx\": 63, \"val\": 0.0}, {\"col\": \"Expensive\", \"idx\": 64, \"val\": 1.0}, {\"col\": \"Cheap\", \"idx\": 64, \"val\": 0.0}, {\"col\": \"Expensive\", \"idx\": 65, \"val\": 2.0}, {\"col\": \"Cheap\", \"idx\": 65, \"val\": 0.0}, {\"col\": \"Expensive\", \"idx\": 66, \"val\": 3.0}, {\"col\": \"Cheap\", \"idx\": 66, \"val\": 0.0}, {\"col\": \"Expensive\", \"idx\": 67, \"val\": 0.0}, {\"col\": \"Cheap\", \"idx\": 67, \"val\": 0.0}, {\"col\": \"Expensive\", \"idx\": 68, \"val\": 1.0}, {\"col\": \"Cheap\", \"idx\": 68, \"val\": 0.0}, {\"col\": \"Expensive\", \"idx\": 69, \"val\": 0.0}, {\"col\": \"Cheap\", \"idx\": 69, \"val\": 0.0}, {\"col\": \"Expensive\", \"idx\": 70, \"val\": 1.0}, {\"col\": \"Cheap\", \"idx\": 70, \"val\": 0.0}, {\"col\": \"Expensive\", \"idx\": 71, \"val\": 0.0}, {\"col\": \"Cheap\", \"idx\": 71, \"val\": 0.0}, {\"col\": \"Expensive\", \"idx\": 72, \"val\": 1.0}, {\"col\": \"Cheap\", \"idx\": 72, \"val\": 0.0}, {\"col\": \"Expensive\", \"idx\": 73, \"val\": 1.0}, {\"col\": \"Cheap\", \"idx\": 73, \"val\": 0.0}, {\"col\": \"Expensive\", \"idx\": 74, \"val\": 0.0}, {\"col\": \"Cheap\", \"idx\": 74, \"val\": 0.0}, {\"col\": \"Expensive\", \"idx\": 75, \"val\": 1.0}, {\"col\": \"Cheap\", \"idx\": 75, \"val\": 0.0}, {\"col\": \"Expensive\", \"idx\": 76, \"val\": 0.0}, {\"col\": \"Cheap\", \"idx\": 76, \"val\": 0.0}, {\"col\": \"Expensive\", \"idx\": 77, \"val\": 0.0}, {\"col\": \"Cheap\", \"idx\": 77, \"val\": 0.0}, {\"col\": \"Expensive\", \"idx\": 78, \"val\": 1.0}, {\"col\": \"Cheap\", \"idx\": 78, \"val\": 0.0}, {\"col\": \"Expensive\", \"idx\": 79, \"val\": 0.0}, {\"col\": \"Cheap\", \"idx\": 79, \"val\": 0.0}, {\"col\": \"Expensive\", \"idx\": 80, \"val\": 1.0}, {\"col\": \"Cheap\", \"idx\": 80, \"val\": 0.0}, {\"col\": \"Expensive\", \"idx\": 81, \"val\": 0.0}, {\"col\": \"Cheap\", \"idx\": 81, \"val\": 0.0}, {\"col\": \"Expensive\", \"idx\": 82, \"val\": 0.0}, {\"col\": \"Cheap\", \"idx\": 82, \"val\": 0.0}, {\"col\": \"Expensive\", \"idx\": 83, \"val\": 1.0}, {\"col\": \"Cheap\", \"idx\": 83, \"val\": 0.0}, {\"col\": \"Expensive\", \"idx\": 84, \"val\": 0.0}, {\"col\": \"Cheap\", \"idx\": 84, \"val\": 1.0}, {\"col\": \"Expensive\", \"idx\": 85, \"val\": 0.0}, {\"col\": \"Cheap\", \"idx\": 85, \"val\": 1.0}, {\"col\": \"Expensive\", \"idx\": 86, \"val\": 0.0}, {\"col\": \"Cheap\", \"idx\": 86, \"val\": 0.0}, {\"col\": \"Expensive\", \"idx\": 87, \"val\": 1.0}, {\"col\": \"Cheap\", \"idx\": 87, \"val\": 0.0}, {\"col\": \"Expensive\", \"idx\": 88, \"val\": 0.0}, {\"col\": \"Cheap\", \"idx\": 88, \"val\": 0.0}, {\"col\": \"Expensive\", \"idx\": 89, \"val\": 0.0}, {\"col\": \"Cheap\", \"idx\": 89, \"val\": 0.0}, {\"col\": \"Expensive\", \"idx\": 90, \"val\": 0.0}, {\"col\": \"Cheap\", \"idx\": 90, \"val\": 0.0}, {\"col\": \"Expensive\", \"idx\": 91, \"val\": 1.0}, {\"col\": \"Cheap\", \"idx\": 91, \"val\": 0.0}, {\"col\": \"Expensive\", \"idx\": 92, \"val\": 0.0}, {\"col\": \"Cheap\", \"idx\": 92, \"val\": 0.0}, {\"col\": \"Expensive\", \"idx\": 93, \"val\": 1.0}, {\"col\": \"Cheap\", \"idx\": 93, \"val\": 0.0}, {\"col\": \"Expensive\", \"idx\": 94, \"val\": 1.0}, {\"col\": \"Cheap\", \"idx\": 94, \"val\": 0.0}, {\"col\": \"Expensive\", \"idx\": 95, \"val\": 0.0}, {\"col\": \"Cheap\", \"idx\": 95, \"val\": 0.0}, {\"col\": \"Expensive\", \"idx\": 96, \"val\": 0.0}, {\"col\": \"Cheap\", \"idx\": 96, \"val\": 0.0}, {\"col\": \"Expensive\", \"idx\": 97, \"val\": 1.0}, {\"col\": \"Cheap\", \"idx\": 97, \"val\": 0.0}, {\"col\": \"Expensive\", \"idx\": 98, \"val\": 1.0}, {\"col\": \"Cheap\", \"idx\": 98, \"val\": 0.0}, {\"col\": \"Expensive\", \"idx\": 99, \"val\": 1.0}, {\"col\": \"Cheap\", \"idx\": 99, \"val\": 0.0}, {\"col\": \"Expensive\", \"idx\": 100, \"val\": 0.0}, {\"col\": \"Cheap\", \"idx\": 100, \"val\": 0.0}, {\"col\": \"Expensive\", \"idx\": 101, \"val\": 0.0}, {\"col\": \"Cheap\", \"idx\": 101, \"val\": 0.0}, {\"col\": \"Expensive\", \"idx\": 102, \"val\": 0.0}, {\"col\": \"Cheap\", \"idx\": 102, \"val\": 0.0}, {\"col\": \"Expensive\", \"idx\": 103, \"val\": 1.0}, {\"col\": \"Cheap\", \"idx\": 103, \"val\": 0.0}, {\"col\": \"Expensive\", \"idx\": 104, \"val\": 1.0}, {\"col\": \"Cheap\", \"idx\": 104, \"val\": 0.0}, {\"col\": \"Expensive\", \"idx\": 105, \"val\": 0.0}, {\"col\": \"Cheap\", \"idx\": 105, \"val\": 0.0}]}, {\"name\": \"stats\", \"source\": \"table\", \"transform\": [{\"keys\": [\"data.idx\"], \"type\": \"facet\"}, {\"type\": \"stats\", \"value\": \"data.val\"}]}], \"height\": 300, \"legends\": [{\"fill\": \"color\", \"offset\": 0, \"properties\": {}, \"title\": \"Edge\"}], \"marks\": [{\"from\": {\"data\": \"table\", \"transform\": [{\"keys\": [\"data.col\"], \"type\": \"facet\"}, {\"height\": \"data.val\", \"point\": \"data.idx\", \"type\": \"stack\"}]}, \"marks\": [{\"properties\": {\"enter\": {\"fill\": {\"field\": \"data.col\", \"scale\": \"color\"}, \"interpolate\": {\"value\": \"monotone\"}, \"opacity\": {\"value\": 0.8}, \"x\": {\"field\": \"data.idx\", \"scale\": \"x\"}, \"y\": {\"field\": \"y\", \"scale\": \"y\"}, \"y2\": {\"field\": \"y2\", \"scale\": \"y\"}}, \"hover\": {\"opacity\": {\"value\": 1}, \"size\": {\"value\": 200}}, \"update\": {\"opacity\": {\"value\": 0.8}, \"size\": {\"value\": 100}}}, \"type\": \"area\"}], \"type\": \"group\"}], \"padding\": \"auto\", \"scales\": [{\"domain\": {\"data\": \"table\", \"field\": \"data.idx\"}, \"name\": \"x\", \"range\": \"width\", \"type\": \"linear\", \"zero\": false}, {\"domain\": [0, 196], \"name\": \"y\", \"nice\": true, \"range\": \"height\"}, {\"domain\": {\"data\": \"table\", \"field\": \"data.col\"}, \"name\": \"color\", \"range\": [\"#ff0000\", \"#50aa50\", \"#eeeeee\"], \"type\": \"ordinal\"}], \"width\": 400}, function(chart) {\n",
        "         chart({el: \"#vis8c8df84d1e5842f1a65b5c379d397e8d\"}).update();\n",
        "       });\n",
        "     };\n",
        "     _do_plot();\n",
        "   })();\n",
        "</script>\n",
        "<style>.vega canvas {width: 100%;}</style>\n",
        "        "
       ],
       "metadata": {},
       "output_type": "display_data",
       "text": [
        "<vincent.charts.Area at 0x2ba82f38ab50>"
       ]
      },
      {
       "html": [
        "<h4>Waiting algorithm: What are the frogs up to?</h4>"
       ],
       "metadata": {},
       "output_type": "display_data",
       "text": [
        "<IPython.core.display.HTML at 0x2ba82f266190>"
       ]
      },
      {
       "html": [
        "<div id=\"visaa7ef8369ce04c0697a726fc66431fa5\"></div>\n",
        "<script>\n",
        "   ( function() {\n",
        "     var _do_plot = function() {\n",
        "       if (typeof vg === 'undefined') {\n",
        "         window.addEventListener('vincent_libs_loaded', _do_plot)\n",
        "         return;\n",
        "       }\n",
        "       vg.parse.spec({\"axes\": [{\"scale\": \"x\", \"title\": \"Rounds\", \"type\": \"x\"}, {\"scale\": \"y\", \"title\": \"# frogs\", \"type\": \"y\"}], \"data\": [{\"name\": \"table\", \"values\": [{\"col\": \"Expensive\", \"idx\": 1, \"val\": 179.0}, {\"col\": \"Cheap\", \"idx\": 1, \"val\": 221.0}, {\"col\": \"Waiting\", \"idx\": 1, \"val\": 419.0}, {\"col\": \"Expensive\", \"idx\": 2, \"val\": 188.0}, {\"col\": \"Cheap\", \"idx\": 2, \"val\": 115.0}, {\"col\": \"Waiting\", \"idx\": 2, \"val\": 450.0}, {\"col\": \"Expensive\", \"idx\": 3, \"val\": 207.0}, {\"col\": \"Cheap\", \"idx\": 3, \"val\": 81.0}, {\"col\": \"Waiting\", \"idx\": 3, \"val\": 418.0}, {\"col\": \"Expensive\", \"idx\": 4, \"val\": 240.0}, {\"col\": \"Cheap\", \"idx\": 4, \"val\": 56.0}, {\"col\": \"Waiting\", \"idx\": 4, \"val\": 363.0}, {\"col\": \"Expensive\", \"idx\": 5, \"val\": 205.0}, {\"col\": \"Cheap\", \"idx\": 5, \"val\": 63.0}, {\"col\": \"Waiting\", \"idx\": 5, \"val\": 350.0}, {\"col\": \"Expensive\", \"idx\": 6, \"val\": 194.0}, {\"col\": \"Cheap\", \"idx\": 6, \"val\": 53.0}, {\"col\": \"Waiting\", \"idx\": 6, \"val\": 326.0}, {\"col\": \"Expensive\", \"idx\": 7, \"val\": 148.0}, {\"col\": \"Cheap\", \"idx\": 7, \"val\": 52.0}, {\"col\": \"Waiting\", \"idx\": 7, \"val\": 344.0}, {\"col\": \"Expensive\", \"idx\": 8, \"val\": 167.0}, {\"col\": \"Cheap\", \"idx\": 8, \"val\": 45.0}, {\"col\": \"Waiting\", \"idx\": 8, \"val\": 300.0}, {\"col\": \"Expensive\", \"idx\": 9, \"val\": 184.0}, {\"col\": \"Cheap\", \"idx\": 9, \"val\": 33.0}, {\"col\": \"Waiting\", \"idx\": 9, \"val\": 257.0}, {\"col\": \"Expensive\", \"idx\": 10, \"val\": 148.0}, {\"col\": \"Cheap\", \"idx\": 10, \"val\": 44.0}, {\"col\": \"Waiting\", \"idx\": 10, \"val\": 249.0}, {\"col\": \"Expensive\", \"idx\": 11, \"val\": 113.0}, {\"col\": \"Cheap\", \"idx\": 11, \"val\": 27.0}, {\"col\": \"Waiting\", \"idx\": 11, \"val\": 270.0}, {\"col\": \"Expensive\", \"idx\": 12, \"val\": 121.0}, {\"col\": \"Cheap\", \"idx\": 12, \"val\": 27.0}, {\"col\": \"Waiting\", \"idx\": 12, \"val\": 239.0}, {\"col\": \"Expensive\", \"idx\": 13, \"val\": 141.0}, {\"col\": \"Cheap\", \"idx\": 13, \"val\": 22.0}, {\"col\": \"Waiting\", \"idx\": 13, \"val\": 203.0}, {\"col\": \"Expensive\", \"idx\": 14, \"val\": 125.0}, {\"col\": \"Cheap\", \"idx\": 14, \"val\": 38.0}, {\"col\": \"Waiting\", \"idx\": 14, \"val\": 180.0}, {\"col\": \"Expensive\", \"idx\": 15, \"val\": 84.0}, {\"col\": \"Cheap\", \"idx\": 15, \"val\": 32.0}, {\"col\": \"Waiting\", \"idx\": 15, \"val\": 193.0}, {\"col\": \"Expensive\", \"idx\": 16, \"val\": 90.0}, {\"col\": \"Cheap\", \"idx\": 16, \"val\": 27.0}, {\"col\": \"Waiting\", \"idx\": 16, \"val\": 176.0}, {\"col\": \"Expensive\", \"idx\": 17, \"val\": 104.0}, {\"col\": \"Cheap\", \"idx\": 17, \"val\": 26.0}, {\"col\": \"Waiting\", \"idx\": 17, \"val\": 142.0}, {\"col\": \"Expensive\", \"idx\": 18, \"val\": 84.0}, {\"col\": \"Cheap\", \"idx\": 18, \"val\": 33.0}, {\"col\": \"Waiting\", \"idx\": 18, \"val\": 128.0}, {\"col\": \"Expensive\", \"idx\": 19, \"val\": 67.0}, {\"col\": \"Cheap\", \"idx\": 19, \"val\": 30.0}, {\"col\": \"Waiting\", \"idx\": 19, \"val\": 131.0}, {\"col\": \"Expensive\", \"idx\": 20, \"val\": 61.0}, {\"col\": \"Cheap\", \"idx\": 20, \"val\": 17.0}, {\"col\": \"Waiting\", \"idx\": 20, \"val\": 133.0}, {\"col\": \"Expensive\", \"idx\": 21, \"val\": 74.0}, {\"col\": \"Cheap\", \"idx\": 21, \"val\": 9.0}, {\"col\": \"Waiting\", \"idx\": 21, \"val\": 111.0}, {\"col\": \"Expensive\", \"idx\": 22, \"val\": 65.0}, {\"col\": \"Cheap\", \"idx\": 22, \"val\": 15.0}, {\"col\": \"Waiting\", \"idx\": 22, \"val\": 104.0}, {\"col\": \"Expensive\", \"idx\": 23, \"val\": 55.0}, {\"col\": \"Cheap\", \"idx\": 23, \"val\": 14.0}, {\"col\": \"Waiting\", \"idx\": 23, \"val\": 98.0}, {\"col\": \"Expensive\", \"idx\": 24, \"val\": 51.0}, {\"col\": \"Cheap\", \"idx\": 24, \"val\": 15.0}, {\"col\": \"Waiting\", \"idx\": 24, \"val\": 87.0}, {\"col\": \"Expensive\", \"idx\": 25, \"val\": 46.0}, {\"col\": \"Cheap\", \"idx\": 25, \"val\": 11.0}, {\"col\": \"Waiting\", \"idx\": 25, \"val\": 90.0}, {\"col\": \"Expensive\", \"idx\": 26, \"val\": 45.0}, {\"col\": \"Cheap\", \"idx\": 26, \"val\": 15.0}, {\"col\": \"Waiting\", \"idx\": 26, \"val\": 78.0}, {\"col\": \"Expensive\", \"idx\": 27, \"val\": 49.0}, {\"col\": \"Cheap\", \"idx\": 27, \"val\": 12.0}, {\"col\": \"Waiting\", \"idx\": 27, \"val\": 67.0}, {\"col\": \"Expensive\", \"idx\": 28, \"val\": 30.0}, {\"col\": \"Cheap\", \"idx\": 28, \"val\": 12.0}, {\"col\": \"Waiting\", \"idx\": 28, \"val\": 80.0}, {\"col\": \"Expensive\", \"idx\": 29, \"val\": 44.0}, {\"col\": \"Cheap\", \"idx\": 29, \"val\": 8.0}, {\"col\": \"Waiting\", \"idx\": 29, \"val\": 65.0}, {\"col\": \"Expensive\", \"idx\": 30, \"val\": 29.0}, {\"col\": \"Cheap\", \"idx\": 30, \"val\": 6.0}, {\"col\": \"Waiting\", \"idx\": 30, \"val\": 75.0}, {\"col\": \"Expensive\", \"idx\": 31, \"val\": 38.0}, {\"col\": \"Cheap\", \"idx\": 31, \"val\": 6.0}, {\"col\": \"Waiting\", \"idx\": 31, \"val\": 58.0}, {\"col\": \"Expensive\", \"idx\": 32, \"val\": 24.0}, {\"col\": \"Cheap\", \"idx\": 32, \"val\": 10.0}, {\"col\": \"Waiting\", \"idx\": 32, \"val\": 65.0}, {\"col\": \"Expensive\", \"idx\": 33, \"val\": 37.0}, {\"col\": \"Cheap\", \"idx\": 33, \"val\": 4.0}, {\"col\": \"Waiting\", \"idx\": 33, \"val\": 51.0}, {\"col\": \"Expensive\", \"idx\": 34, \"val\": 36.0}, {\"col\": \"Cheap\", \"idx\": 34, \"val\": 10.0}, {\"col\": \"Waiting\", \"idx\": 34, \"val\": 41.0}, {\"col\": \"Expensive\", \"idx\": 35, \"val\": 19.0}, {\"col\": \"Cheap\", \"idx\": 35, \"val\": 11.0}, {\"col\": \"Waiting\", \"idx\": 35, \"val\": 47.0}, {\"col\": \"Expensive\", \"idx\": 36, \"val\": 21.0}, {\"col\": \"Cheap\", \"idx\": 36, \"val\": 6.0}, {\"col\": \"Waiting\", \"idx\": 36, \"val\": 44.0}, {\"col\": \"Expensive\", \"idx\": 37, \"val\": 26.0}, {\"col\": \"Cheap\", \"idx\": 37, \"val\": 7.0}, {\"col\": \"Waiting\", \"idx\": 37, \"val\": 36.0}, {\"col\": \"Expensive\", \"idx\": 38, \"val\": 23.0}, {\"col\": \"Cheap\", \"idx\": 38, \"val\": 7.0}, {\"col\": \"Waiting\", \"idx\": 38, \"val\": 36.0}, {\"col\": \"Expensive\", \"idx\": 39, \"val\": 22.0}, {\"col\": \"Cheap\", \"idx\": 39, \"val\": 3.0}, {\"col\": \"Waiting\", \"idx\": 39, \"val\": 35.0}, {\"col\": \"Expensive\", \"idx\": 40, \"val\": 14.0}, {\"col\": \"Cheap\", \"idx\": 40, \"val\": 5.0}, {\"col\": \"Waiting\", \"idx\": 40, \"val\": 37.0}, {\"col\": \"Expensive\", \"idx\": 41, \"val\": 24.0}, {\"col\": \"Cheap\", \"idx\": 41, \"val\": 3.0}, {\"col\": \"Waiting\", \"idx\": 41, \"val\": 29.0}, {\"col\": \"Expensive\", \"idx\": 42, \"val\": 21.0}, {\"col\": \"Cheap\", \"idx\": 42, \"val\": 3.0}, {\"col\": \"Waiting\", \"idx\": 42, \"val\": 28.0}, {\"col\": \"Expensive\", \"idx\": 43, \"val\": 10.0}, {\"col\": \"Cheap\", \"idx\": 43, \"val\": 3.0}, {\"col\": \"Waiting\", \"idx\": 43, \"val\": 32.0}, {\"col\": \"Expensive\", \"idx\": 44, \"val\": 14.0}, {\"col\": \"Cheap\", \"idx\": 44, \"val\": 0.0}, {\"col\": \"Waiting\", \"idx\": 44, \"val\": 29.0}, {\"col\": \"Expensive\", \"idx\": 45, \"val\": 17.0}, {\"col\": \"Cheap\", \"idx\": 45, \"val\": 3.0}, {\"col\": \"Waiting\", \"idx\": 45, \"val\": 20.0}, {\"col\": \"Expensive\", \"idx\": 46, \"val\": 12.0}, {\"col\": \"Cheap\", \"idx\": 46, \"val\": 5.0}, {\"col\": \"Waiting\", \"idx\": 46, \"val\": 19.0}, {\"col\": \"Expensive\", \"idx\": 47, \"val\": 11.0}, {\"col\": \"Cheap\", \"idx\": 47, \"val\": 2.0}, {\"col\": \"Waiting\", \"idx\": 47, \"val\": 22.0}, {\"col\": \"Expensive\", \"idx\": 48, \"val\": 6.0}, {\"col\": \"Cheap\", \"idx\": 48, \"val\": 3.0}, {\"col\": \"Waiting\", \"idx\": 48, \"val\": 23.0}, {\"col\": \"Expensive\", \"idx\": 49, \"val\": 15.0}, {\"col\": \"Cheap\", \"idx\": 49, \"val\": 0.0}, {\"col\": \"Waiting\", \"idx\": 49, \"val\": 14.0}, {\"col\": \"Expensive\", \"idx\": 50, \"val\": 11.0}, {\"col\": \"Cheap\", \"idx\": 50, \"val\": 0.0}, {\"col\": \"Waiting\", \"idx\": 50, \"val\": 15.0}, {\"col\": \"Expensive\", \"idx\": 51, \"val\": 8.0}, {\"col\": \"Cheap\", \"idx\": 51, \"val\": 1.0}, {\"col\": \"Waiting\", \"idx\": 51, \"val\": 15.0}, {\"col\": \"Expensive\", \"idx\": 52, \"val\": 9.0}, {\"col\": \"Cheap\", \"idx\": 52, \"val\": 1.0}, {\"col\": \"Waiting\", \"idx\": 52, \"val\": 12.0}, {\"col\": \"Expensive\", \"idx\": 53, \"val\": 8.0}, {\"col\": \"Cheap\", \"idx\": 53, \"val\": 3.0}, {\"col\": \"Waiting\", \"idx\": 53, \"val\": 10.0}, {\"col\": \"Expensive\", \"idx\": 54, \"val\": 7.0}, {\"col\": \"Cheap\", \"idx\": 54, \"val\": 4.0}, {\"col\": \"Waiting\", \"idx\": 54, \"val\": 9.0}, {\"col\": \"Expensive\", \"idx\": 55, \"val\": 2.0}, {\"col\": \"Cheap\", \"idx\": 55, \"val\": 1.0}, {\"col\": \"Waiting\", \"idx\": 55, \"val\": 15.0}, {\"col\": \"Expensive\", \"idx\": 56, \"val\": 4.0}, {\"col\": \"Cheap\", \"idx\": 56, \"val\": 0.0}, {\"col\": \"Waiting\", \"idx\": 56, \"val\": 13.0}, {\"col\": \"Expensive\", \"idx\": 57, \"val\": 10.0}, {\"col\": \"Cheap\", \"idx\": 57, \"val\": 1.0}, {\"col\": \"Waiting\", \"idx\": 57, \"val\": 6.0}, {\"col\": \"Expensive\", \"idx\": 58, \"val\": 5.0}, {\"col\": \"Cheap\", \"idx\": 58, \"val\": 1.0}, {\"col\": \"Waiting\", \"idx\": 58, \"val\": 6.0}, {\"col\": \"Expensive\", \"idx\": 59, \"val\": 3.0}, {\"col\": \"Cheap\", \"idx\": 59, \"val\": 2.0}, {\"col\": \"Waiting\", \"idx\": 59, \"val\": 6.0}, {\"col\": \"Expensive\", \"idx\": 60, \"val\": 3.0}, {\"col\": \"Cheap\", \"idx\": 60, \"val\": 1.0}, {\"col\": \"Waiting\", \"idx\": 60, \"val\": 5.0}, {\"col\": \"Expensive\", \"idx\": 61, \"val\": 3.0}, {\"col\": \"Cheap\", \"idx\": 61, \"val\": 1.0}, {\"col\": \"Waiting\", \"idx\": 61, \"val\": 3.0}, {\"col\": \"Expensive\", \"idx\": 62, \"val\": 2.0}, {\"col\": \"Cheap\", \"idx\": 62, \"val\": 0.0}, {\"col\": \"Waiting\", \"idx\": 62, \"val\": 4.0}, {\"col\": \"Expensive\", \"idx\": 63, \"val\": 2.0}, {\"col\": \"Cheap\", \"idx\": 63, \"val\": 0.0}, {\"col\": \"Waiting\", \"idx\": 63, \"val\": 4.0}, {\"col\": \"Expensive\", \"idx\": 64, \"val\": 1.0}, {\"col\": \"Cheap\", \"idx\": 64, \"val\": 0.0}, {\"col\": \"Waiting\", \"idx\": 64, \"val\": 3.0}, {\"col\": \"Expensive\", \"idx\": 65, \"val\": 2.0}, {\"col\": \"Cheap\", \"idx\": 65, \"val\": 0.0}, {\"col\": \"Waiting\", \"idx\": 65, \"val\": 1.0}, {\"col\": \"Expensive\", \"idx\": 66, \"val\": 3.0}, {\"col\": \"Cheap\", \"idx\": 66, \"val\": 0.0}, {\"col\": \"Waiting\", \"idx\": 66, \"val\": 0.0}, {\"col\": \"Expensive\", \"idx\": 67, \"val\": 0.0}, {\"col\": \"Cheap\", \"idx\": 67, \"val\": 0.0}, {\"col\": \"Waiting\", \"idx\": 67, \"val\": 2.0}, {\"col\": \"Expensive\", \"idx\": 68, \"val\": 1.0}, {\"col\": \"Cheap\", \"idx\": 68, \"val\": 0.0}, {\"col\": \"Waiting\", \"idx\": 68, \"val\": 1.0}, {\"col\": \"Expensive\", \"idx\": 69, \"val\": 0.0}, {\"col\": \"Cheap\", \"idx\": 69, \"val\": 0.0}, {\"col\": \"Waiting\", \"idx\": 69, \"val\": 1.0}, {\"col\": \"Expensive\", \"idx\": 70, \"val\": 1.0}, {\"col\": \"Cheap\", \"idx\": 70, \"val\": 0.0}, {\"col\": \"Waiting\", \"idx\": 70, \"val\": 0.0}, {\"col\": \"Expensive\", \"idx\": 71, \"val\": 0.0}, {\"col\": \"Cheap\", \"idx\": 71, \"val\": 0.0}, {\"col\": \"Waiting\", \"idx\": 71, \"val\": 1.0}, {\"col\": \"Expensive\", \"idx\": 72, \"val\": 1.0}, {\"col\": \"Cheap\", \"idx\": 72, \"val\": 0.0}, {\"col\": \"Waiting\", \"idx\": 72, \"val\": 0.0}, {\"col\": \"Expensive\", \"idx\": 73, \"val\": 1.0}, {\"col\": \"Cheap\", \"idx\": 73, \"val\": 0.0}, {\"col\": \"Waiting\", \"idx\": 73, \"val\": 0.0}, {\"col\": \"Expensive\", \"idx\": 74, \"val\": 0.0}, {\"col\": \"Cheap\", \"idx\": 74, \"val\": 0.0}, {\"col\": \"Waiting\", \"idx\": 74, \"val\": 1.0}, {\"col\": \"Expensive\", \"idx\": 75, \"val\": 1.0}, {\"col\": \"Cheap\", \"idx\": 75, \"val\": 0.0}, {\"col\": \"Waiting\", \"idx\": 75, \"val\": 0.0}, {\"col\": \"Expensive\", \"idx\": 76, \"val\": 0.0}, {\"col\": \"Cheap\", \"idx\": 76, \"val\": 0.0}, {\"col\": \"Waiting\", \"idx\": 76, \"val\": 1.0}, {\"col\": \"Expensive\", \"idx\": 77, \"val\": 0.0}, {\"col\": \"Cheap\", \"idx\": 77, \"val\": 0.0}, {\"col\": \"Waiting\", \"idx\": 77, \"val\": 1.0}, {\"col\": \"Expensive\", \"idx\": 78, \"val\": 1.0}, {\"col\": \"Cheap\", \"idx\": 78, \"val\": 0.0}, {\"col\": \"Waiting\", \"idx\": 78, \"val\": 0.0}, {\"col\": \"Expensive\", \"idx\": 79, \"val\": 0.0}, {\"col\": \"Cheap\", \"idx\": 79, \"val\": 0.0}, {\"col\": \"Waiting\", \"idx\": 79, \"val\": 1.0}, {\"col\": \"Expensive\", \"idx\": 80, \"val\": 1.0}, {\"col\": \"Cheap\", \"idx\": 80, \"val\": 0.0}, {\"col\": \"Waiting\", \"idx\": 80, \"val\": 0.0}, {\"col\": \"Expensive\", \"idx\": 81, \"val\": 0.0}, {\"col\": \"Cheap\", \"idx\": 81, \"val\": 0.0}, {\"col\": \"Waiting\", \"idx\": 81, \"val\": 1.0}, {\"col\": \"Expensive\", \"idx\": 82, \"val\": 0.0}, {\"col\": \"Cheap\", \"idx\": 82, \"val\": 0.0}, {\"col\": \"Waiting\", \"idx\": 82, \"val\": 1.0}, {\"col\": \"Expensive\", \"idx\": 83, \"val\": 1.0}, {\"col\": \"Cheap\", \"idx\": 83, \"val\": 0.0}, {\"col\": \"Waiting\", \"idx\": 83, \"val\": 0.0}, {\"col\": \"Expensive\", \"idx\": 84, \"val\": 0.0}, {\"col\": \"Cheap\", \"idx\": 84, \"val\": 1.0}, {\"col\": \"Waiting\", \"idx\": 84, \"val\": 0.0}, {\"col\": \"Expensive\", \"idx\": 85, \"val\": 0.0}, {\"col\": \"Cheap\", \"idx\": 85, \"val\": 1.0}, {\"col\": \"Waiting\", \"idx\": 85, \"val\": 0.0}, {\"col\": \"Expensive\", \"idx\": 86, \"val\": 0.0}, {\"col\": \"Cheap\", \"idx\": 86, \"val\": 0.0}, {\"col\": \"Waiting\", \"idx\": 86, \"val\": 1.0}, {\"col\": \"Expensive\", \"idx\": 87, \"val\": 1.0}, {\"col\": \"Cheap\", \"idx\": 87, \"val\": 0.0}, {\"col\": \"Waiting\", \"idx\": 87, \"val\": 0.0}, {\"col\": \"Expensive\", \"idx\": 88, \"val\": 0.0}, {\"col\": \"Cheap\", \"idx\": 88, \"val\": 0.0}, {\"col\": \"Waiting\", \"idx\": 88, \"val\": 1.0}, {\"col\": \"Expensive\", \"idx\": 89, \"val\": 0.0}, {\"col\": \"Cheap\", \"idx\": 89, \"val\": 0.0}, {\"col\": \"Waiting\", \"idx\": 89, \"val\": 1.0}, {\"col\": \"Expensive\", \"idx\": 90, \"val\": 0.0}, {\"col\": \"Cheap\", \"idx\": 90, \"val\": 0.0}, {\"col\": \"Waiting\", \"idx\": 90, \"val\": 1.0}, {\"col\": \"Expensive\", \"idx\": 91, \"val\": 1.0}, {\"col\": \"Cheap\", \"idx\": 91, \"val\": 0.0}, {\"col\": \"Waiting\", \"idx\": 91, \"val\": 0.0}, {\"col\": \"Expensive\", \"idx\": 92, \"val\": 0.0}, {\"col\": \"Cheap\", \"idx\": 92, \"val\": 0.0}, {\"col\": \"Waiting\", \"idx\": 92, \"val\": 1.0}, {\"col\": \"Expensive\", \"idx\": 93, \"val\": 1.0}, {\"col\": \"Cheap\", \"idx\": 93, \"val\": 0.0}, {\"col\": \"Waiting\", \"idx\": 93, \"val\": 0.0}, {\"col\": \"Expensive\", \"idx\": 94, \"val\": 1.0}, {\"col\": \"Cheap\", \"idx\": 94, \"val\": 0.0}, {\"col\": \"Waiting\", \"idx\": 94, \"val\": 0.0}, {\"col\": \"Expensive\", \"idx\": 95, \"val\": 0.0}, {\"col\": \"Cheap\", \"idx\": 95, \"val\": 0.0}, {\"col\": \"Waiting\", \"idx\": 95, \"val\": 1.0}, {\"col\": \"Expensive\", \"idx\": 96, \"val\": 0.0}, {\"col\": \"Cheap\", \"idx\": 96, \"val\": 0.0}, {\"col\": \"Waiting\", \"idx\": 96, \"val\": 1.0}, {\"col\": \"Expensive\", \"idx\": 97, \"val\": 1.0}, {\"col\": \"Cheap\", \"idx\": 97, \"val\": 0.0}, {\"col\": \"Waiting\", \"idx\": 97, \"val\": 0.0}, {\"col\": \"Expensive\", \"idx\": 98, \"val\": 1.0}, {\"col\": \"Cheap\", \"idx\": 98, \"val\": 0.0}, {\"col\": \"Waiting\", \"idx\": 98, \"val\": 0.0}, {\"col\": \"Expensive\", \"idx\": 99, \"val\": 1.0}, {\"col\": \"Cheap\", \"idx\": 99, \"val\": 0.0}, {\"col\": \"Waiting\", \"idx\": 99, \"val\": 0.0}, {\"col\": \"Expensive\", \"idx\": 100, \"val\": 0.0}, {\"col\": \"Cheap\", \"idx\": 100, \"val\": 0.0}, {\"col\": \"Waiting\", \"idx\": 100, \"val\": 1.0}, {\"col\": \"Expensive\", \"idx\": 101, \"val\": 0.0}, {\"col\": \"Cheap\", \"idx\": 101, \"val\": 0.0}, {\"col\": \"Waiting\", \"idx\": 101, \"val\": 1.0}, {\"col\": \"Expensive\", \"idx\": 102, \"val\": 0.0}, {\"col\": \"Cheap\", \"idx\": 102, \"val\": 0.0}, {\"col\": \"Waiting\", \"idx\": 102, \"val\": 1.0}, {\"col\": \"Expensive\", \"idx\": 103, \"val\": 1.0}, {\"col\": \"Cheap\", \"idx\": 103, \"val\": 0.0}, {\"col\": \"Waiting\", \"idx\": 103, \"val\": 0.0}, {\"col\": \"Expensive\", \"idx\": 104, \"val\": 1.0}, {\"col\": \"Cheap\", \"idx\": 104, \"val\": 0.0}, {\"col\": \"Waiting\", \"idx\": 104, \"val\": 0.0}, {\"col\": \"Expensive\", \"idx\": 105, \"val\": 0.0}, {\"col\": \"Cheap\", \"idx\": 105, \"val\": 0.0}, {\"col\": \"Waiting\", \"idx\": 105, \"val\": 0.0}]}, {\"name\": \"stats\", \"source\": \"table\", \"transform\": [{\"keys\": [\"data.idx\"], \"type\": \"facet\"}, {\"type\": \"stats\", \"value\": \"data.val\"}]}], \"height\": 300, \"legends\": [{\"fill\": \"color\", \"offset\": 0, \"properties\": {}, \"title\": \"Edge\"}], \"marks\": [{\"from\": {\"data\": \"table\", \"transform\": [{\"keys\": [\"data.col\"], \"type\": \"facet\"}, {\"height\": \"data.val\", \"point\": \"data.idx\", \"type\": \"stack\"}]}, \"marks\": [{\"properties\": {\"enter\": {\"fill\": {\"field\": \"data.col\", \"scale\": \"color\"}, \"interpolate\": {\"value\": \"monotone\"}, \"opacity\": {\"value\": 0.8}, \"x\": {\"field\": \"data.idx\", \"scale\": \"x\"}, \"y\": {\"field\": \"y\", \"scale\": \"y\"}, \"y2\": {\"field\": \"y2\", \"scale\": \"y\"}}, \"hover\": {\"opacity\": {\"value\": 1}, \"size\": {\"value\": 200}}, \"update\": {\"opacity\": {\"value\": 0.8}, \"size\": {\"value\": 100}}}, \"type\": \"area\"}], \"type\": \"group\"}], \"padding\": \"auto\", \"scales\": [{\"domain\": {\"data\": \"table\", \"field\": \"data.idx\"}, \"name\": \"x\", \"range\": \"width\", \"type\": \"linear\", \"zero\": false}, {\"domain\": {\"data\": \"stats\", \"field\": \"sum\"}, \"name\": \"y\", \"nice\": true, \"range\": \"height\"}, {\"domain\": {\"data\": \"table\", \"field\": \"data.col\"}, \"name\": \"color\", \"range\": [\"#ff0000\", \"#50aa50\", \"#eeeeee\"], \"type\": \"ordinal\"}], \"width\": 400}, function(chart) {\n",
        "         chart({el: \"#visaa7ef8369ce04c0697a726fc66431fa5\"}).update();\n",
        "       });\n",
        "     };\n",
        "     _do_plot();\n",
        "   })();\n",
        "</script>\n",
        "<style>.vega canvas {width: 100%;}</style>\n",
        "        "
       ],
       "metadata": {},
       "output_type": "display_data",
       "text": [
        "<vincent.charts.Area at 0x2ba82f23c490>"
       ]
      },
      {
       "html": [
        "<h3>Performance stats</h3>"
       ],
       "metadata": {},
       "output_type": "display_data",
       "text": [
        "<IPython.core.display.HTML at 0x2ba82f266790>"
       ]
      },
      {
       "output_type": "stream",
       "stream": "stdout",
       "text": [
        "Stats normalized by equivalent vanilla random walk stats:\n",
        "\n",
        "Average death round (waiting/vanilla): 2.17266666667\n",
        "Total duration in rounds (waiting/vanilla): 2.91666666667\n",
        "Cost (waiting/vanilla): 0.83800623053\n"
       ]
      }
     ],
     "prompt_number": 11
    },
    {
     "cell_type": "code",
     "collapsed": false,
     "input": [],
     "language": "python",
     "metadata": {},
     "outputs": []
    }
   ],
   "metadata": {}
  }
 ]
}