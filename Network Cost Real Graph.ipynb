{
 "metadata": {
  "name": "",
  "signature": "sha256:fd7e7131601840ef763bfd9e021b6fddca3ccb835d9e3b5b8fa74702aa7c0fb4"
 },
 "nbformat": 3,
 "nbformat_minor": 0,
 "worksheets": [
  {
   "cells": [
    {
     "cell_type": "code",
     "collapsed": false,
     "input": [
      "import networkx as nx\n",
      "from random import random\n",
      "import math, time"
     ],
     "language": "python",
     "metadata": {},
     "outputs": [],
     "prompt_number": 21
    },
    {
     "cell_type": "code",
     "collapsed": false,
     "input": [
      "import json\n",
      "from networkx.readwrite import json_graph"
     ],
     "language": "python",
     "metadata": {},
     "outputs": [],
     "prompt_number": 22
    },
    {
     "cell_type": "code",
     "collapsed": false,
     "input": [
      "import vincent\n",
      "from IPython.display import display\n",
      "vincent.initialize_notebook()"
     ],
     "language": "python",
     "metadata": {},
     "outputs": [
      {
       "html": [
        "\n",
        "           <script>\n",
        "               \n",
        "                function vct_load_lib(url, callback){\n",
        "                      if(typeof d3 !== 'undefined' &&\n",
        "                         url === 'http://d3js.org/d3.v3.min.js'){\n",
        "                        callback()\n",
        "                      }\n",
        "                      var s = document.createElement('script');\n",
        "                      s.src = url;\n",
        "                      s.async = true;\n",
        "                      s.onreadystatechange = s.onload = callback;\n",
        "                      s.onerror = function(){\n",
        "                        console.warn(\"failed to load library \" + url);\n",
        "                        };\n",
        "                      document.getElementsByTagName(\"head\")[0].appendChild(s);\n",
        "                };\n",
        "                var vincent_event = new CustomEvent(\n",
        "                  \"vincent_libs_loaded\",\n",
        "                  {bubbles: true, cancelable: true}\n",
        "                );\n",
        "                \n",
        "               function load_all_libs(){\n",
        "                  console.log('Loading Vincent libs...')\n",
        "                  vct_load_lib('http://d3js.org/d3.v3.min.js', function(){\n",
        "                  vct_load_lib('http://d3js.org/d3.geo.projection.v0.min.js', function(){\n",
        "                  vct_load_lib('http://wrobstory.github.io/d3-cloud/d3.layout.cloud.js', function(){\n",
        "                  vct_load_lib('http://wrobstory.github.io/vega/vega.v1.3.3.js', function(){\n",
        "                  window.dispatchEvent(vincent_event);\n",
        "                  });\n",
        "                  });\n",
        "                  });\n",
        "                  });\n",
        "               };\n",
        "               if(typeof define === \"function\" && define.amd){\n",
        "                    if (window['d3'] === undefined ||\n",
        "                        window['topojson'] === undefined){\n",
        "                        require.config(\n",
        "                            {paths: {\n",
        "                              d3: 'http://d3js.org/d3.v3.min',\n",
        "                              topojson: 'http://d3js.org/topojson.v1.min'\n",
        "                              }\n",
        "                            }\n",
        "                          );\n",
        "                        require([\"d3\"], function(d3){\n",
        "                            console.log('Loading Vincent from require.js...')\n",
        "                            window.d3 = d3;\n",
        "                            require([\"topojson\"], function(topojson){\n",
        "                                window.topojson = topojson;\n",
        "                                load_all_libs();\n",
        "                            });\n",
        "                        });\n",
        "                    } else {\n",
        "                        load_all_libs();\n",
        "                    };\n",
        "               }else{\n",
        "                    console.log('Require.js not found, loading manually...')\n",
        "                    load_all_libs();\n",
        "               };\n",
        "\n",
        "           </script>"
       ],
       "metadata": {},
       "output_type": "display_data",
       "text": [
        "<IPython.core.display.HTML at 0x2b3df82ea4d0>"
       ]
      }
     ],
     "prompt_number": 23
    },
    {
     "cell_type": "code",
     "collapsed": false,
     "input": [
      "import matplotlib.pyplot as plt\n",
      "%matplotlib inline\n",
      "%config InlineBackend.figure_format = 'svg' "
     ],
     "language": "python",
     "metadata": {},
     "outputs": [],
     "prompt_number": 24
    },
    {
     "cell_type": "code",
     "collapsed": false,
     "input": [
      "%load_ext autoreload\n",
      "%autoreload 2"
     ],
     "language": "python",
     "metadata": {},
     "outputs": [
      {
       "output_type": "stream",
       "stream": "stdout",
       "text": [
        "The autoreload extension is already loaded. To reload it, use:\n",
        "  %reload_ext autoreload\n"
       ]
      }
     ],
     "prompt_number": 25
    },
    {
     "cell_type": "heading",
     "level": 3,
     "metadata": {},
     "source": [
      "This notebook is not self-contained. It depends on the module `randomwalk`"
     ]
    },
    {
     "cell_type": "code",
     "collapsed": false,
     "input": [
      "from randomwalk import plotrwtraversal, randomwalk, edgetokey"
     ],
     "language": "python",
     "metadata": {},
     "outputs": [],
     "prompt_number": 26
    },
    {
     "cell_type": "code",
     "collapsed": false,
     "input": [
      "def rungraph(G, k=2):\n",
      "    # Convert to DiGraph if necessary\n",
      "    if G.is_multigraph():\n",
      "        if G.is_directed():\n",
      "            Gm = G.copy()\n",
      "            G = nx.DiGraph()\n",
      "            G.graph['name'] = Gm.graph['name']\n",
      "            for (u,v) in Gm.edges_iter():\n",
      "                G.add_edge(u,v)\n",
      "\n",
      "    # Randomize the expensive edges\n",
      "    expensiveedges = []\n",
      "    for e in G.edges_iter():\n",
      "        if random() > 1/float(k):\n",
      "            expensiveedges.append(edgetokey(e))\n",
      "            G.edge[e[0]][e[1]]['expensive'] = True\n",
      "        else:\n",
      "            G.edge[e[0]][e[1]]['expensive'] = False\n",
      "\n",
      "    get_ipython().run_cell_magic(u'html', u'', '<h2>Graph: '+G.graph['name']+'</h2>')\n",
      "        \n",
      "    if False:\n",
      "        # Save and plot graph\n",
      "        d = json_graph.node_link_data(G)\n",
      "        for node in d['nodes']:\n",
      "            node['name']=node['id']\n",
      "            node['value']=G.degree(node['id'])\n",
      "\n",
      "        d['adjacency'] = json_graph.adjacency_data(G)['adjacency']\n",
      "        json.dump(d, open('graph.json','w'))\n",
      "\n",
      "        time.sleep(1)\n",
      "\n",
      "        get_ipython().run_cell_magic(u'html', u'', u'<div id=\"d3-example\"></div>\\n<style>\\n.node {stroke: #fff; stroke-width: 1.5px;}\\nmarker {stroke: #999;}\\n.link {stroke: #999; stroke-opacity: .6;}\\n</style>\\n<script src=\"force.js\"></script>')\n",
      "        #nx.draw_graphviz(G)\n",
      "\n",
      "    # Run algos\n",
      "    G1 = G.copy()\n",
      "    randomwalk(G1, frogs, P_die)\n",
      "    G2 = G.copy()\n",
      "    randomwalk(G2, frogs, P_die, 4, expensiveedges)\n",
      "\n",
      "    # Make graphs\n",
      "    (line1, df1) = plotrwtraversal(G1,expensiveedges, time=G2.graph['endtime']+1)\n",
      "    (line2, df2) = plotrwtraversal(G2, expensiveedges)\n",
      "    get_ipython().run_cell_magic(u'html', u'', '<h3>'+\"Vanilla random walk. Cost: \" + str(G1.graph['cost'])+'</h3>')\n",
      "    display(line1)\n",
      "\n",
      "    get_ipython().run_cell_magic(u'html', u'', '<h3>'+\"Waiting random walk. Cost: \" + str(G2.graph['cost'])\n",
      "                                 + ', a ' + str( 100*(1 - G2.graph['cost'] / float(G1.graph['cost']) ) ) + '% gain</h3>')\n",
      "    display(line2)\n",
      "\n",
      "    (l, d) = plotrwtraversal(G2, countfrogs=True, expensiveedges = expensiveedges)\n",
      "    get_ipython().run_cell_magic(u'html', u'', '<h4>'+\"Waiting algorithm: What are the frogs up to?\"+'</h4>')\n",
      "    display(l)\n",
      "\n",
      "    get_ipython().run_cell_magic(u'html', u'', '<h3>'+'Performance stats'+'</h3>')\n",
      "    print \"Stats normalized by equivalent vanilla random walk stats:\"\n",
      "    print\n",
      "    print \"Average death round (waiting/vanilla):\", G2.graph['death_times_sum'] / float(L*frogs)\n",
      "    print \"Total duration in rounds (waiting/vanilla):\", G2.graph['endtime'] / float(G1.graph['endtime'])\n",
      "    print \"Cost (waiting/vanilla):\", G2.graph['cost'] / float(G1.graph['cost'])\n"
     ],
     "language": "python",
     "metadata": {},
     "outputs": [],
     "prompt_number": 27
    },
    {
     "cell_type": "heading",
     "level": 1,
     "metadata": {},
     "source": [
      "Load graph"
     ]
    },
    {
     "cell_type": "markdown",
     "metadata": {},
     "source": [
      "The directory `datasets` is assumed to contain (or link to) the data used"
     ]
    },
    {
     "cell_type": "code",
     "collapsed": false,
     "input": [
      "G = nx.read_edgelist('datasets/livejournal/supersmall-soc-LiveJournal1.txt', \n",
      "                     nodetype = int\n",
      "                     )"
     ],
     "language": "python",
     "metadata": {},
     "outputs": [],
     "prompt_number": 28
    },
    {
     "cell_type": "code",
     "collapsed": false,
     "input": [
      "G.graph['name'] = '1% of LiveJournal'"
     ],
     "language": "python",
     "metadata": {},
     "outputs": [],
     "prompt_number": 29
    },
    {
     "cell_type": "heading",
     "level": 1,
     "metadata": {},
     "source": [
      "Simulate Random Walks"
     ]
    },
    {
     "cell_type": "code",
     "collapsed": true,
     "input": [
      "frogs = 1000\n",
      "# Life expectancy L. L should be the mean of a geometric distribution\n",
      "L = 6\n",
      "# P_die is the probability that a frog dies at any given time\n",
      "P_die = 1/float(L)"
     ],
     "language": "python",
     "metadata": {},
     "outputs": [],
     "prompt_number": 30
    },
    {
     "cell_type": "code",
     "collapsed": false,
     "input": [
      "rungraph(G, k=4)"
     ],
     "language": "python",
     "metadata": {},
     "outputs": [
      {
       "html": [
        "<h2>Graph: 1% of LiveJournal</h2>"
       ],
       "metadata": {},
       "output_type": "display_data",
       "text": [
        "<IPython.core.display.HTML at 0x2b3dc3feb0d0>"
       ]
      }
     ]
    },
    {
     "cell_type": "code",
     "collapsed": false,
     "input": [],
     "language": "python",
     "metadata": {},
     "outputs": []
    }
   ],
   "metadata": {}
  }
 ]
}