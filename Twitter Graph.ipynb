{
 "metadata": {
  "name": "",
  "signature": "sha256:de10bc5f4c5d7af2af9f01bba6c775bf0787fd9af760f6c5945e5f9e03152e30"
 },
 "nbformat": 3,
 "nbformat_minor": 0,
 "worksheets": [
  {
   "cells": [
    {
     "cell_type": "code",
     "collapsed": false,
     "input": [
      "datadir = \"/var/datasets/twitter/\""
     ],
     "language": "python",
     "metadata": {},
     "outputs": [],
     "prompt_number": 1
    },
    {
     "cell_type": "code",
     "collapsed": false,
     "input": [
      "file = datadir + \"twitter_combined.txt\""
     ],
     "language": "python",
     "metadata": {},
     "outputs": [],
     "prompt_number": 2
    },
    {
     "cell_type": "code",
     "collapsed": false,
     "input": [
      "!ls -lh {file}"
     ],
     "language": "python",
     "metadata": {},
     "outputs": [
      {
       "output_type": "stream",
       "stream": "stdout",
       "text": [
        "-rw-r--r--  1 migish  staff    42M May 30 15:23 /var/datasets/twitter/twitter_combined.txt\r\n"
       ]
      }
     ],
     "prompt_number": 3
    },
    {
     "cell_type": "code",
     "collapsed": false,
     "input": [
      "!tail {file}"
     ],
     "language": "python",
     "metadata": {},
     "outputs": [
      {
       "output_type": "stream",
       "stream": "stdout",
       "text": [
        "99841247 364350420\r\n",
        "99841247 175848601\r\n",
        "99841247 117674417\r\n",
        "99841247 152011250\r\n",
        "99841247 53811382\r\n",
        "99841247 154263215\r\n",
        "99841247 194403468\r\n",
        "99841247 180165101\r\n",
        "99841247 253509115\r\n",
        "99841247 463410501\r\n"
       ]
      }
     ],
     "prompt_number": 3
    },
    {
     "cell_type": "code",
     "collapsed": false,
     "input": [
      "!wc -l {file}"
     ],
     "language": "python",
     "metadata": {},
     "outputs": [
      {
       "output_type": "stream",
       "stream": "stdout",
       "text": [
        " 2420766 /var/datasets/twitter/twitter_combined.txt\r\n"
       ]
      }
     ],
     "prompt_number": 4
    },
    {
     "cell_type": "code",
     "collapsed": false,
     "input": [
      "#!sort {file} > {datadir}sorted_twitter_combined.txt\n",
      "!uniq {datadir}/sorted_twitter_combined.txt | wc -l"
     ],
     "language": "python",
     "metadata": {},
     "outputs": [
      {
       "output_type": "stream",
       "stream": "stdout",
       "text": [
        " 1768149\r\n"
       ]
      }
     ],
     "prompt_number": 14
    },
    {
     "cell_type": "code",
     "collapsed": true,
     "input": [
      "import networkx as nx\n",
      "import json\n",
      "from networkx.readwrite import json_graph"
     ],
     "language": "python",
     "metadata": {},
     "outputs": [],
     "prompt_number": 4
    },
    {
     "cell_type": "code",
     "collapsed": false,
     "input": [
      "G = nx.read_edgelist(file, create_using=nx.DiGraph(), nodetype=int,)"
     ],
     "language": "python",
     "metadata": {},
     "outputs": [],
     "prompt_number": 5
    },
    {
     "cell_type": "code",
     "collapsed": false,
     "input": [
      "G.size()"
     ],
     "language": "python",
     "metadata": {},
     "outputs": [
      {
       "metadata": {},
       "output_type": "pyout",
       "prompt_number": 6,
       "text": [
        "1768149"
       ]
      }
     ],
     "prompt_number": 6
    },
    {
     "cell_type": "code",
     "collapsed": false,
     "input": [
      "G.order()"
     ],
     "language": "python",
     "metadata": {},
     "outputs": [
      {
       "metadata": {},
       "output_type": "pyout",
       "prompt_number": 7,
       "text": [
        "81306"
       ]
      }
     ],
     "prompt_number": 7
    },
    {
     "cell_type": "code",
     "collapsed": false,
     "input": [
      "Gs = G.subgraph(G.nodes()[0:4000])"
     ],
     "language": "python",
     "metadata": {},
     "outputs": [],
     "prompt_number": 53
    },
    {
     "cell_type": "code",
     "collapsed": false,
     "input": [
      "Gs.size()"
     ],
     "language": "python",
     "metadata": {},
     "outputs": [
      {
       "metadata": {},
       "output_type": "pyout",
       "prompt_number": 54,
       "text": [
        "5446"
       ]
      }
     ],
     "prompt_number": 54
    },
    {
     "cell_type": "code",
     "collapsed": false,
     "input": [
      "def cleanupgraph(G):\n",
      "    comp = nx.weakly_connected_components(G.copy())\n",
      "    for c in comp:\n",
      "        if len(c)<200:\n",
      "            G.remove_nodes_from(c)"
     ],
     "language": "python",
     "metadata": {},
     "outputs": [],
     "prompt_number": 55
    },
    {
     "cell_type": "code",
     "collapsed": false,
     "input": [
      "cleanupgraph(Gs)"
     ],
     "language": "python",
     "metadata": {},
     "outputs": [],
     "prompt_number": 56
    },
    {
     "cell_type": "code",
     "collapsed": false,
     "input": [
      "Gs.size()"
     ],
     "language": "python",
     "metadata": {},
     "outputs": [
      {
       "metadata": {},
       "output_type": "pyout",
       "prompt_number": 57,
       "text": [
        "4574"
       ]
      }
     ],
     "prompt_number": 57
    },
    {
     "cell_type": "code",
     "collapsed": false,
     "input": [
      "# Save and plot graph\n",
      "d = json_graph.node_link_data(Gs)\n",
      "for node in d['nodes']:\n",
      "    node['name']=node['id']\n",
      "    node['value']=Gs.degree(node['id'])\n",
      "\n",
      "#d['adjacency'] = json_graph.adjacency_data(Gs)['adjacency']\n",
      "json.dump(d, open('graph.json','w'))\n",
      "\n",
      "\n",
      "get_ipython().run_cell_magic(u'html', u'', u'<div id=\"d3-example\"></div>\\n<style>\\n.node {stroke: #fff; stroke-width: 1.5px;}\\nmarker {stroke: #999;}\\n.link {stroke: #999; stroke-opacity: .6;}\\n</style>\\n<script src=\"force.js\"></script>')\n",
      "#nx.draw_graphviz(G)\n"
     ],
     "language": "python",
     "metadata": {},
     "outputs": [
      {
       "html": [
        "<div id=\"d3-example\"></div>\n",
        "<style>\n",
        ".node {stroke: #fff; stroke-width: 1.5px;}\n",
        "marker {stroke: #999;}\n",
        ".link {stroke: #999; stroke-opacity: .6;}\n",
        "</style>\n",
        "<script src=\"force.js\"></script>"
       ],
       "metadata": {},
       "output_type": "display_data",
       "text": [
        "<IPython.core.display.HTML at 0x15a0a9290>"
       ]
      }
     ],
     "prompt_number": 58
    },
    {
     "cell_type": "code",
     "collapsed": false,
     "input": [],
     "language": "python",
     "metadata": {},
     "outputs": []
    }
   ],
   "metadata": {}
  }
 ]
}