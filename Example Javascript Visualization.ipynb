{
 "metadata": {
  "name": "",
  "signature": "sha256:fe58659b67e9eb4803fffdc9f9ba9136314df5c6d7e6933e777ac53432ec699f"
 },
 "nbformat": 3,
 "nbformat_minor": 0,
 "worksheets": [
  {
   "cells": [
    {
     "cell_type": "code",
     "collapsed": true,
     "input": [
      "import networkx as nx\n",
      "import math"
     ],
     "language": "python",
     "metadata": {},
     "outputs": [],
     "prompt_number": 1
    },
    {
     "cell_type": "code",
     "collapsed": false,
     "input": [
      "G = nx.powerlaw_cluster_graph(n=100, m=1, p=0.3)"
     ],
     "language": "python",
     "metadata": {},
     "outputs": [],
     "prompt_number": 2
    },
    {
     "cell_type": "code",
     "collapsed": false,
     "input": [
      "G = nx.barbell_graph(10,2)"
     ],
     "language": "python",
     "metadata": {},
     "outputs": [],
     "prompt_number": 12
    },
    {
     "cell_type": "heading",
     "level": 3,
     "metadata": {},
     "source": [
      "Convert to Javascript for visualization"
     ]
    },
    {
     "cell_type": "markdown",
     "metadata": {},
     "source": [
      "Adapted from:\n",
      "http://nbviewer.ipython.org/github/ipython-books/cookbook-code/blob/master/notebooks/chapter06_viz/04_d3.ipynb"
     ]
    },
    {
     "cell_type": "markdown",
     "metadata": {},
     "source": [
      "From:\n",
      "http://networkx.github.io/documentation/latest/examples/javascript/force.html"
     ]
    },
    {
     "cell_type": "code",
     "collapsed": true,
     "input": [
      "from IPython.core.display import display_javascript\n",
      "import json\n",
      "from networkx.readwrite import json_graph"
     ],
     "language": "python",
     "metadata": {},
     "outputs": [],
     "prompt_number": 13
    },
    {
     "cell_type": "code",
     "collapsed": false,
     "input": [
      "d = json_graph.node_link_data(G)\n",
      "json.dump(d, open('graph.json','w'))"
     ],
     "language": "python",
     "metadata": {},
     "outputs": [],
     "prompt_number": 14
    },
    {
     "cell_type": "code",
     "collapsed": false,
     "input": [
      "%%html\n",
      "<div id=\"d3-example\"></div>\n",
      "<style>\n",
      ".node {stroke: #fff; stroke-width: 1.5px;}\n",
      ".link {stroke: #999; stroke-opacity: .6;}\n",
      "</style>"
     ],
     "language": "python",
     "metadata": {},
     "outputs": [
      {
       "html": [
        "<div id=\"d3-example\"></div>\n",
        "<style>\n",
        ".node {stroke: #fff; stroke-width: 1.5px;}\n",
        ".link {stroke: #999; stroke-opacity: .6;}\n",
        "</style>"
       ],
       "metadata": {},
       "output_type": "display_data",
       "text": [
        "<IPython.core.display.HTML at 0x10617d650>"
       ]
      }
     ],
     "prompt_number": 17
    },
    {
     "cell_type": "markdown",
     "metadata": {},
     "source": [
      "Uses:\n",
      "https://github.com/mbostock/d3/wiki/Force-Layout\n",
      "\n",
      "http://bl.ocks.org/mbostock/4062045"
     ]
    },
    {
     "cell_type": "code",
     "collapsed": true,
     "input": [
      "%%javascript\n",
      "// We load the d3.js library from the Web.\n",
      "require.config({paths: {d3: \"http://d3js.org/d3.v3.min\"}});\n",
      "require([\"d3\"], function(d3) {\n",
      "    // The code in this block is executed when the \n",
      "    // d3.js library has been loaded.\n",
      "    \n",
      "    // First, we specify the size of the canvas containing\n",
      "    // the visualization (size of the <div> element).\n",
      "    var width = 600,\n",
      "        height = 600;\n",
      "\n",
      "    // We create a color scale.\n",
      "    var color = d3.scale.category20();\n",
      "\n",
      "    // We create a force-directed dynamic graph layout.\n",
      "    var force = d3.layout.force()\n",
      "        .charge(-60)\n",
      "        .linkDistance(30)\n",
      "        .linkStrength(0.7)\n",
      "        .gravity(0.35)\n",
      "        .theta(0.95)\n",
      "        .size([width, height]);\n",
      "\n",
      "    // In the <div> element, we create a <svg> graphic\n",
      "    // that will contain our interactive visualization.\n",
      "    var svg = d3.select(\"#d3-example\").select(\"svg\")\n",
      "    if (svg.empty()) {\n",
      "        svg = d3.select(\"#d3-example\").append(\"svg\")\n",
      "                    .attr(\"width\", width)\n",
      "                    .attr(\"height\", height);\n",
      "    }\n",
      "        \n",
      "    // We load the JSON file.\n",
      "    d3.json(\"graph.json\", function(error, graph) {\n",
      "        // In this block, the file has been loaded\n",
      "        // and the 'graph' object contains our graph.\n",
      "        \n",
      "        // We load the nodes and links in the force-directed\n",
      "        // graph.\n",
      "        force.nodes(graph.nodes)\n",
      "            .links(graph.links)\n",
      "            .start();\n",
      "\n",
      "        // We create a <line> SVG element for each link\n",
      "        // in the graph.\n",
      "        var link = svg.selectAll(\".link\")\n",
      "            .data(graph.links)\n",
      "            .enter().append(\"line\")\n",
      "            .attr(\"class\", \"link\");\n",
      "            //.style(\"stroke-width\", function(d) { return Math.sqrt(d.value); });\n",
      "\n",
      "\n",
      "        // We create a <circle> SVG element for each node\n",
      "        // in the graph, and we specify a few attributes.\n",
      "        var node = svg.selectAll(\".node\")\n",
      "            .data(graph.nodes)\n",
      "            .enter().append(\"circle\")\n",
      "            .attr(\"class\", \"node\")\n",
      "            .attr(\"r\", 5) \n",
      "            .style(\"fill\", color(1);\n",
      "            })\n",
      "            .call(force.drag);\n",
      "\n",
      "        // The name of each node is the node number.\n",
      "        node.append(\"title\")\n",
      "            .text(function(d) { return d.name; });\n",
      "\n",
      "        // We bind the positions of the SVG elements\n",
      "        // to the positions of the dynamic force-directed graph,\n",
      "        // at each time step.\n",
      "        force.on(\"tick\", function() {\n",
      "            link.attr(\"x1\", function(d) { return d.source.x; })\n",
      "                .attr(\"y1\", function(d) { return d.source.y; })\n",
      "                .attr(\"x2\", function(d) { return d.target.x; })\n",
      "                .attr(\"y2\", function(d) { return d.target.y; });\n",
      "\n",
      "            node.attr(\"cx\", function(d) { return d.x; })\n",
      "                .attr(\"cy\", function(d) { return d.y; });\n",
      "        });\n",
      "    });\n",
      "});"
     ],
     "language": "python",
     "metadata": {},
     "outputs": [
      {
       "javascript": [
        "// We load the d3.js library from the Web.\n",
        "require.config({paths: {d3: \"http://d3js.org/d3.v3.min\"}});\n",
        "require([\"d3\"], function(d3) {\n",
        "    // The code in this block is executed when the \n",
        "    // d3.js library has been loaded.\n",
        "    \n",
        "    // First, we specify the size of the canvas containing\n",
        "    // the visualization (size of the <div> element).\n",
        "    var width = 600,\n",
        "        height = 600;\n",
        "\n",
        "    // We create a color scale.\n",
        "    var color = d3.scale.category20();\n",
        "\n",
        "    // We create a force-directed dynamic graph layout.\n",
        "    var force = d3.layout.force()\n",
        "        .charge(-60)\n",
        "        .linkDistance(30)\n",
        "        .linkStrength(0.7)\n",
        "        .gravity(0.35)\n",
        "        .theta(0.95)\n",
        "        .size([width, height]);\n",
        "\n",
        "    // In the <div> element, we create a <svg> graphic\n",
        "    // that will contain our interactive visualization.\n",
        "    var svg = d3.select(\"#d3-example\").select(\"svg\")\n",
        "    if (svg.empty()) {\n",
        "        svg = d3.select(\"#d3-example\").append(\"svg\")\n",
        "                    .attr(\"width\", width)\n",
        "                    .attr(\"height\", height);\n",
        "    }\n",
        "        \n",
        "    // We load the JSON file.\n",
        "    d3.json(\"graph.json\", function(error, graph) {\n",
        "        // In this block, the file has been loaded\n",
        "        // and the 'graph' object contains our graph.\n",
        "        \n",
        "        // We load the nodes and links in the force-directed\n",
        "        // graph.\n",
        "        force.nodes(graph.nodes)\n",
        "            .links(graph.links)\n",
        "            .start();\n",
        "\n",
        "        // We create a <line> SVG element for each link\n",
        "        // in the graph.\n",
        "        var link = svg.selectAll(\".link\")\n",
        "            .data(graph.links)\n",
        "            .enter().append(\"line\")\n",
        "            .attr(\"class\", \"link\");\n",
        "            //.style(\"stroke-width\", function(d) { return Math.sqrt(d.value); });\n",
        "\n",
        "\n",
        "        // We create a <circle> SVG element for each node\n",
        "        // in the graph, and we specify a few attributes.\n",
        "        var node = svg.selectAll(\".node\")\n",
        "            .data(graph.nodes)\n",
        "            .enter().append(\"circle\")\n",
        "            .attr(\"class\", \"node\")\n",
        "            .attr(\"r\", 5) \n",
        "            .style(\"fill\", 1)\n",
        "            .call(force.drag);\n",
        "\n",
        "        // The name of each node is the node number.\n",
        "        node.append(\"title\")\n",
        "            .text(function(d) { return d.name; });\n",
        "\n",
        "        // We bind the positions of the SVG elements\n",
        "        // to the positions of the dynamic force-directed graph,\n",
        "        // at each time step.\n",
        "        force.on(\"tick\", function() {\n",
        "            link.attr(\"x1\", function(d) { return d.source.x; })\n",
        "                .attr(\"y1\", function(d) { return d.source.y; })\n",
        "                .attr(\"x2\", function(d) { return d.target.x; })\n",
        "                .attr(\"y2\", function(d) { return d.target.y; });\n",
        "\n",
        "            node.attr(\"cx\", function(d) { return d.x; })\n",
        "                .attr(\"cy\", function(d) { return d.y; });\n",
        "        });\n",
        "    });\n",
        "});"
       ],
       "metadata": {},
       "output_type": "display_data",
       "text": [
        "<IPython.core.display.Javascript at 0x10633a110>"
       ]
      }
     ],
     "prompt_number": 18
    },
    {
     "cell_type": "code",
     "collapsed": false,
     "input": [],
     "language": "python",
     "metadata": {},
     "outputs": [],
     "prompt_number": 7
    },
    {
     "cell_type": "code",
     "collapsed": false,
     "input": [],
     "language": "python",
     "metadata": {},
     "outputs": []
    }
   ],
   "metadata": {}
  }
 ]
}