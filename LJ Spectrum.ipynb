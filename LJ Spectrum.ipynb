{
 "metadata": {
  "name": "",
  "signature": "sha256:44806a376ec76a0172093c5e65dbe1fc077241d35cf398ed7b07ac2bab5a7f16"
 },
 "nbformat": 3,
 "nbformat_minor": 0,
 "worksheets": [
  {
   "cells": [
    {
     "cell_type": "code",
     "collapsed": false,
     "input": [
      "import numpy as np"
     ],
     "language": "python",
     "metadata": {},
     "outputs": [],
     "prompt_number": 12
    },
    {
     "cell_type": "code",
     "collapsed": false,
     "input": [
      "import scipy as sp"
     ],
     "language": "python",
     "metadata": {},
     "outputs": [],
     "prompt_number": 6
    },
    {
     "cell_type": "code",
     "collapsed": false,
     "input": [
      "import networkx as nx"
     ],
     "language": "python",
     "metadata": {},
     "outputs": [],
     "prompt_number": 7
    },
    {
     "cell_type": "code",
     "collapsed": false,
     "input": [
      "fn = '/var/datasets/livejournal/small-soc-LiveJournal1.txt'"
     ],
     "language": "python",
     "metadata": {},
     "outputs": [],
     "prompt_number": 52
    },
    {
     "cell_type": "code",
     "collapsed": false,
     "input": [
      "!head {fn}"
     ],
     "language": "python",
     "metadata": {},
     "outputs": [
      {
       "output_type": "stream",
       "stream": "stdout",
       "text": [
        "# Directed graph (each unordered pair of nodes is saved once): soc-LiveJournal1.txt \r",
        "\r\n",
        "# Directed LiveJournal friednship social network\r",
        "\r\n",
        "# Nodes: 4847571 Edges: 68993773\r",
        "\r\n",
        "# FromNodeId\tToNodeId\r",
        "\r\n",
        "0\t1\r",
        "\r\n",
        "0\t2\r",
        "\r\n",
        "0\t3\r",
        "\r\n",
        "0\t4\r",
        "\r\n",
        "0\t5\r",
        "\r\n",
        "0\t6\r",
        "\r\n"
       ]
      }
     ],
     "prompt_number": 53
    },
    {
     "cell_type": "code",
     "collapsed": false,
     "input": [
      "import csv\n",
      "from scipy import sparse"
     ],
     "language": "python",
     "metadata": {},
     "outputs": [],
     "prompt_number": 99
    },
    {
     "cell_type": "code",
     "collapsed": false,
     "input": [
      "nodes = 100000 \n",
      "matrix = sparse.lil_matrix((nodes,nodes), dtype=float)\n",
      "\n",
      "csvreader = csv.reader(open(fn))"
     ],
     "language": "python",
     "metadata": {},
     "outputs": [],
     "prompt_number": 106
    },
    {
     "cell_type": "code",
     "collapsed": false,
     "input": [
      "with open(fn,'r') as f:\n",
      "    next(f);next(f);next(f);next(f)\n",
      "    reader = csv.reader(f,delimiter='\\t')\n",
      "    for column,row in reader:\n",
      "        column = int(column)\n",
      "        row = int(row)\n",
      "        if column >= nodes or row >= nodes:\n",
      "            continue\n",
      "        #matrix.data[row].append(column)\n",
      "        matrix[row,column] = 1\n",
      "\n"
     ],
     "language": "python",
     "metadata": {},
     "outputs": [],
     "prompt_number": 107
    },
    {
     "cell_type": "code",
     "collapsed": false,
     "input": [
      "csc = matrix.tocsc()"
     ],
     "language": "python",
     "metadata": {},
     "outputs": [],
     "prompt_number": 108
    },
    {
     "cell_type": "code",
     "collapsed": false,
     "input": [
      "k=200"
     ],
     "language": "python",
     "metadata": {},
     "outputs": [],
     "prompt_number": 178
    },
    {
     "cell_type": "code",
     "collapsed": false,
     "input": [
      "res = sp.sparse.linalg.svds(csc, k=k)"
     ],
     "language": "python",
     "metadata": {},
     "outputs": [],
     "prompt_number": 163
    },
    {
     "cell_type": "code",
     "collapsed": false,
     "input": [
      "semilogy(abs(res[0][:,-1]))"
     ],
     "language": "python",
     "metadata": {},
     "outputs": [
      {
       "metadata": {},
       "output_type": "pyout",
       "prompt_number": 164,
       "text": [
        "[<matplotlib.lines.Line2D at 0x7fcc44a1cf90>]"
       ]
      },
      {
       "metadata": {},
       "output_type": "display_data",
       "png": "[encoded data removed]",
       "text": [
        "<matplotlib.figure.Figure at 0x7fcc45c13790>"
       ]
      }
     ],
     "prompt_number": 164
    },
    {
     "cell_type": "code",
     "collapsed": false,
     "input": [
      "cumsum( res[1]  ) / csc.nnz"
     ],
     "language": "python",
     "metadata": {},
     "outputs": [
      {
       "metadata": {},
       "output_type": "pyout",
       "prompt_number": 176,
       "text": [
        "array([  1.32021215e-05,   2.64198894e-05,   3.96674285e-05,\n",
        "         5.29315853e-05,   6.62352901e-05,   7.95638244e-05,\n",
        "         9.29176225e-05,   1.06281255e-04,   1.19668130e-04,\n",
        "         1.33086042e-04,   1.46528011e-04,   1.59992543e-04,\n",
        "         1.73505792e-04,   1.87051295e-04,   2.00612779e-04,\n",
        "         2.14229147e-04,   2.27859812e-04,   2.41515925e-04,\n",
        "         2.55195745e-04,   2.68893745e-04,   2.82598022e-04,\n",
        "         2.96325799e-04,   3.10058789e-04,   3.23833895e-04,\n",
        "         3.37649073e-04,   3.51516047e-04,   3.65394698e-04,\n",
        "         3.79286769e-04,   3.93217891e-04,   4.07170511e-04,\n",
        "         4.21145606e-04,   4.35132169e-04,   4.49126066e-04,\n",
        "         4.63151166e-04,   4.77201968e-04,   4.91259947e-04,\n",
        "         5.05346320e-04,   5.19473891e-04,   5.33650866e-04,\n",
        "         5.47839788e-04,   5.62046556e-04,   5.76275129e-04,\n",
        "         5.90533587e-04,   6.04804695e-04,   6.19112456e-04,\n",
        "         6.33446797e-04,   6.47811283e-04,   6.62183331e-04,\n",
        "         6.76602818e-04,   6.91047488e-04,   7.05496520e-04,\n",
        "         7.19966825e-04,   7.34449596e-04,   7.48951942e-04,\n",
        "         7.63515596e-04,   7.78134486e-04,   7.92785323e-04,\n",
        "         8.07447950e-04,   8.22132813e-04,   8.36870311e-04,\n",
        "         8.51645819e-04,   8.66449049e-04,   8.81256924e-04,\n",
        "         8.96122982e-04,   9.10989209e-04,   9.25905913e-04,\n",
        "         9.40840739e-04,   9.55826209e-04,   9.70872265e-04,\n",
        "         9.85987644e-04,   1.00113472e-03,   1.01629674e-03,\n",
        "         1.03150570e-03,   1.04676989e-03,   1.06206341e-03,\n",
        "         1.07738959e-03,   1.09276416e-03,   1.10818147e-03,\n",
        "         1.12360716e-03,   1.13907177e-03,   1.15459364e-03,\n",
        "         1.17014195e-03,   1.18573509e-03,   1.20135719e-03,\n",
        "         1.21699932e-03,   1.23265752e-03,   1.24832758e-03,\n",
        "         1.26406837e-03,   1.27983459e-03,   1.29564509e-03,\n",
        "         1.31153534e-03,   1.32745481e-03,   1.34340629e-03,\n",
        "         1.35939646e-03,   1.37540420e-03,   1.39144759e-03,\n",
        "         1.40752182e-03,   1.42362315e-03,   1.43975188e-03,\n",
        "         1.45590041e-03,   1.47209787e-03,   1.48834355e-03,\n",
        "         1.50464154e-03,   1.52094911e-03,   1.53728895e-03,\n",
        "         1.55365259e-03,   1.57008089e-03,   1.58653966e-03,\n",
        "         1.60306004e-03,   1.61963507e-03,   1.63624159e-03,\n",
        "         1.65305556e-03,   1.66992971e-03,   1.68685318e-03,\n",
        "         1.70384657e-03,   1.72093285e-03,   1.73803439e-03,\n",
        "         1.75514283e-03,   1.77247800e-03,   1.78988968e-03,\n",
        "         1.80732803e-03,   1.82482409e-03,   1.84233952e-03,\n",
        "         1.86004437e-03,   1.87778614e-03,   1.89565599e-03,\n",
        "         1.91374273e-03,   1.93183568e-03,   1.95008927e-03,\n",
        "         1.96836166e-03,   1.98668550e-03,   2.00516091e-03,\n",
        "         2.02381739e-03,   2.04248946e-03,   2.06125600e-03,\n",
        "         2.08009141e-03,   2.09895149e-03,   2.11783799e-03,\n",
        "         2.13680126e-03,   2.15581125e-03,   2.17486886e-03,\n",
        "         2.19398520e-03,   2.21323830e-03,   2.23279433e-03,\n",
        "         2.25243009e-03,   2.27216797e-03,   2.29203938e-03,\n",
        "         2.31191865e-03,   2.33188362e-03,   2.35193298e-03,\n",
        "         2.37203780e-03,   2.39217227e-03,   2.41253692e-03,\n",
        "         2.43299077e-03,   2.45371743e-03,   2.47458433e-03,\n",
        "         2.49549263e-03,   2.51649064e-03,   2.53750115e-03,\n",
        "         2.55868899e-03,   2.58018453e-03,   2.60176308e-03,\n",
        "         2.62339021e-03,   2.64533607e-03,   2.66795257e-03,\n",
        "         2.69077257e-03,   2.71361532e-03,   2.73678931e-03,\n",
        "         2.76035644e-03,   2.78430541e-03,   2.80847543e-03,\n",
        "         2.83267628e-03,   2.85697424e-03,   2.88184086e-03,\n",
        "         2.90682041e-03,   2.93228132e-03,   2.95806994e-03,\n",
        "         2.98495438e-03,   3.01192243e-03,   3.03910011e-03,\n",
        "         3.06630067e-03,   3.09484702e-03,   3.12453132e-03,\n",
        "         3.15451225e-03,   3.18495738e-03,   3.21612974e-03,\n",
        "         3.24759308e-03,   3.27953504e-03,   3.31167208e-03,\n",
        "         3.34423215e-03,   3.37939833e-03,   3.41509759e-03,\n",
        "         3.45108528e-03,   3.48889435e-03,   3.52807525e-03,\n",
        "         3.57377802e-03,   3.62062839e-03,   3.67589066e-03,\n",
        "         3.74419659e-03,   3.82875473e-03])"
       ]
      }
     ],
     "prompt_number": 176
    },
    {
     "cell_type": "code",
     "collapsed": false,
     "input": [
      "plot(range(k-1,-1,-1), res[1]/sum(res[1]),range(k-1,-1,-1), cumsum( res[1]/sum(res[1])  ) )\n",
      "#axis([0, k-1, 0, max(res[1]/sum(res[1]) ) ])\n",
      "axis([0, k-1, 0, 1 ])"
     ],
     "language": "python",
     "metadata": {},
     "outputs": [
      {
       "metadata": {},
       "output_type": "pyout",
       "prompt_number": 177,
       "text": [
        "[0, 199, 0, 1]"
       ]
      },
      {
       "metadata": {},
       "output_type": "display_data",
       "png": "[encoded data removed]",
       "text": [
        "<matplotlib.figure.Figure at 0x7fcc449dc610>"
       ]
      }
     ],
     "prompt_number": 177
    },
    {
     "cell_type": "code",
     "collapsed": false,
     "input": [
      "res[1].toarray()"
     ],
     "language": "python",
     "metadata": {},
     "outputs": [
      {
       "ename": "AttributeError",
       "evalue": "'numpy.ndarray' object has no attribute 'toarray'",
       "output_type": "pyerr",
       "traceback": [
        "\u001b[1;31m---------------------------------------------------------------------------\u001b[0m\n\u001b[1;31mAttributeError\u001b[0m                            Traceback (most recent call last)",
        "\u001b[1;32m<ipython-input-150-b6ca25bc771d>\u001b[0m in \u001b[0;36m<module>\u001b[1;34m()\u001b[0m\n\u001b[1;32m----> 1\u001b[1;33m \u001b[0mres\u001b[0m\u001b[1;33m[\u001b[0m\u001b[1;36m1\u001b[0m\u001b[1;33m]\u001b[0m\u001b[1;33m.\u001b[0m\u001b[0mtoarray\u001b[0m\u001b[1;33m(\u001b[0m\u001b[1;33m)\u001b[0m\u001b[1;33m\u001b[0m\u001b[0m\n\u001b[0m",
        "\u001b[1;31mAttributeError\u001b[0m: 'numpy.ndarray' object has no attribute 'toarray'"
       ]
      }
     ],
     "prompt_number": 150
    },
    {
     "cell_type": "code",
     "collapsed": false,
     "input": [
      "reversed(res[1].array())"
     ],
     "language": "python",
     "metadata": {},
     "outputs": [
      {
       "ename": "AttributeError",
       "evalue": "'numpy.ndarray' object has no attribute 'array'",
       "output_type": "pyerr",
       "traceback": [
        "\u001b[1;31m---------------------------------------------------------------------------\u001b[0m\n\u001b[1;31mAttributeError\u001b[0m                            Traceback (most recent call last)",
        "\u001b[1;32m<ipython-input-147-a8030afeac81>\u001b[0m in \u001b[0;36m<module>\u001b[1;34m()\u001b[0m\n\u001b[1;32m----> 1\u001b[1;33m \u001b[0mreversed\u001b[0m\u001b[1;33m(\u001b[0m\u001b[0mres\u001b[0m\u001b[1;33m[\u001b[0m\u001b[1;36m1\u001b[0m\u001b[1;33m]\u001b[0m\u001b[1;33m.\u001b[0m\u001b[0marray\u001b[0m\u001b[1;33m(\u001b[0m\u001b[1;33m)\u001b[0m\u001b[1;33m)\u001b[0m\u001b[1;33m\u001b[0m\u001b[0m\n\u001b[0m",
        "\u001b[1;31mAttributeError\u001b[0m: 'numpy.ndarray' object has no attribute 'array'"
       ]
      }
     ],
     "prompt_number": 147
    },
    {
     "cell_type": "code",
     "collapsed": false,
     "input": [
      "range(5,-1,1)"
     ],
     "language": "python",
     "metadata": {},
     "outputs": [
      {
       "metadata": {},
       "output_type": "pyout",
       "prompt_number": 140,
       "text": [
        "[]"
       ]
      }
     ],
     "prompt_number": 140
    },
    {
     "cell_type": "code",
     "collapsed": false,
     "input": [],
     "language": "python",
     "metadata": {},
     "outputs": []
    }
   ],
   "metadata": {}
  }
 ]
}